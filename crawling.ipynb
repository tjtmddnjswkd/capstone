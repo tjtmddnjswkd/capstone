{
  "nbformat": 4,
  "nbformat_minor": 0,
  "metadata": {
    "colab": {
      "provenance": [],
      "authorship_tag": "ABX9TyOfZlyQQHrsdMawX6gCkao+",
      "include_colab_link": true
    },
    "kernelspec": {
      "name": "python3",
      "display_name": "Python 3"
    }
  },
  "cells": [
    {
      "cell_type": "markdown",
      "metadata": {
        "id": "view-in-github",
        "colab_type": "text"
      },
      "source": [
        "<a href=\"https://colab.research.google.com/github/tjtmddnjswkd/capstone/blob/jc/crawling.ipynb\" target=\"_parent\"><img src=\"https://colab.research.google.com/assets/colab-badge.svg\" alt=\"Open In Colab\"/></a>"
      ]
    },
    {
      "cell_type": "code",
      "metadata": {
        "id": "j8TMuUw_kECX"
      },
      "source": [
        "import os\n",
        "import requests\n",
        "import time\n",
        "import pandas as pd\n",
        "from bs4 import BeautifulSoup as bs\n",
        "\n",
        "from selenium.webdriver.common.by import By\n",
        "from selenium.webdriver.support.ui import WebDriverWait\n",
        "from selenium.webdriver.support import expected_conditions as EC\n",
        "from selenium.webdriver.common.keys import Keys\n",
        "from selenium import webdriver\n",
        "\n",
        "headers = {\"user-agent\": \"Mozilla/5.0 (Macintosh; Intel Mac OS X 10_15_5) AppleWebKit/537.36 (KHTML, like Gecko) Chrome/84.0.4147.89 Safari/537.36\"}"
      ],
      "execution_count": null,
      "outputs": []
    },
    {
      "cell_type": "markdown",
      "source": [
        "# 전체 과정 사이클"
      ],
      "metadata": {
        "id": "33d9AJE_pxgj"
      }
    },
    {
      "cell_type": "code",
      "source": [
        "url = \"https://elaw.klri.re.kr/kor_service/lawAllSearch.do?pCode=01\"\n",
        "## company\n",
        "broswer_path = r\"C:\\Users\\superuser\\chromedriver-win64\\chromedriver.exe\"\n",
        "## local\n",
        "# broswer_path = r\"C:\\Users\\yunjc\\chromedriver_win32\\chromedriver.exe\"\n",
        "options = webdriver.ChromeOptions()\n",
        "options.add_argument('headless')\n",
        "options.add_argument('window-size=1920x1080')\n",
        "options.add_argument(\"disable-gpu\")\n",
        "driver = webdriver.Chrome(broswer_path, chrome_options=options)"
      ],
      "metadata": {
        "id": "YM7pEFIapvqd"
      },
      "execution_count": null,
      "outputs": []
    },
    {
      "cell_type": "code",
      "source": [
        "def tab_move():\n",
        "    driver.switch_to.window(driver.window_handles[-1])\n",
        "    ko_url = driver.current_url.replace(\"ENG\", \"KOR\")\n",
        "    driver.get(ko_url)\n",
        "    driver.switch_to.frame(\"lawViewContent\")\n",
        "\n",
        "def tab_close():\n",
        "    driver.close()\n",
        "    driver.switch_to.window(driver.window_handles[0])\n",
        "    driver.switch_to.frame(\"indexFrame\")\n",
        "\n",
        "def wait_driver(xpath, t=10):\n",
        "    WebDriverWait(driver, t).until(EC.presence_of_element_located((By.XPATH, xpath)))\n",
        "\n",
        "def parsing_laws():\n",
        "    lang_pairs = {\"eng\": [], \"kor\": []}\n",
        "    for i, p in enumerate(driver.find_elements(By.CSS_SELECTOR, '#body > div > table > tbody > tr > td')):\n",
        "        if i<4: continue\n",
        "        for line in p.text.split(\"\\n\"):\n",
        "            if i%2==0:\n",
        "                lang_pairs[\"eng\"].append(line)\n",
        "            else:\n",
        "                lang_pairs[\"kor\"].append(line)"
      ],
      "metadata": {
        "id": "FehfppVfp2IN"
      },
      "execution_count": null,
      "outputs": []
    },
    {
      "cell_type": "code",
      "source": [
        "driver.get(url)\n",
        "\n",
        "categories = [f'tree_{i}_a' for i in range(2, 47)]\n",
        "# category loop\n",
        "base_df = pd.DataFrame()\n",
        "for j, c in enumerate(categories):\n",
        "    category = driver.find_element(By.ID, c)\n",
        "    cate_list = category.text.split(\" \")\n",
        "    cate_name, num_of_laws = cate_list[1], int(cate_list[2].strip('()'))\n",
        "    driver.execute_script(\"arguments[0].click();\", category)\n",
        "\n",
        "    # pages\n",
        "    driver.switch_to.frame('indexFrame')\n",
        "    # pages = driver.find_elements(By.CSS_SELECTOR, \"#container > div > div.paging > a\")\n",
        "    pages = [f'//*[@id=\"container\"]/div/div[3]/a[{k}]' for k in range(3, 13)]\n",
        "    page_idx = 0\n",
        "    complete_num = 0\n",
        "    print(f\"{j+1}. {cate_name} 시작...\")\n",
        "    while True:\n",
        "    # laws loop\n",
        "        wait_driver('//*[@id=\"1\"]/td[2]')\n",
        "        laws = driver.find_elements(By.CSS_SELECTOR, '#list1 > tbody > tr > td > p > a')\n",
        "        page_parsing_num = 0\n",
        "        for law in laws:\n",
        "            law_name = law.text.split('\\n')[0]\n",
        "            law.send_keys(Keys.ENTER)\n",
        "\n",
        "            tab_move()\n",
        "            wait_driver('/html')\n",
        "\n",
        "            # Parsing\n",
        "            eng, kor = [], []\n",
        "            contents = driver.find_elements(By.CSS_SELECTOR, '#body > div > table > tbody > tr > td')\n",
        "            for i, c in enumerate(contents[4:-2]):\n",
        "                if i%2==0:\n",
        "                    eng.append(c.text)\n",
        "                else:\n",
        "                    kor.append(c.text)\n",
        "            if len(eng)!=len(kor):\n",
        "                raise Exception(f\"Different Length ENG{len(eng)}, KOR{len(kor)}\")\n",
        "            else:\n",
        "                df = pd.DataFrame({\"category\":[cate_name]*len(eng), \"lawName\":[law_name]*len(eng), \"ENG\":eng, \"KOR\":kor})\n",
        "                page_parsing_num+=df.shape[0]\n",
        "                # print(f\"{law_name} 파싱 완료 : {len(eng)} 개\")\n",
        "\n",
        "            # fininsh parsing\n",
        "            tab_close()\n",
        "            base_df = pd.concat([base_df, df], axis=0)\n",
        "        print(f\"\\t{page_idx+1}페이지 파싱 완료: {page_parsing_num}\")\n",
        "        complete_num += len(laws)\n",
        "        if complete_num < num_of_laws:\n",
        "            driver.find_element(By.XPATH, pages[page_idx]).click()\n",
        "            page_idx+=1\n",
        "        else:\n",
        "            break\n",
        "    driver.get(url)\n",
        "    wait_driver('//*[@id=\"tree_1\"]')\n",
        "driver.quit()\n"
      ],
      "metadata": {
        "id": "iNCHfl5Gp4PA"
      },
      "execution_count": null,
      "outputs": []
    }
  ]
}
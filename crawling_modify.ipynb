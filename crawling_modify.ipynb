{
  "cells": [
    {
      "cell_type": "markdown",
      "metadata": {
        "colab_type": "text",
        "id": "view-in-github"
      },
      "source": [
        "<a href=\"https://colab.research.google.com/github/tjtmddnjswkd/capstone/blob/jc/crawling_modify.ipynb\" target=\"_parent\"><img src=\"https://colab.research.google.com/assets/colab-badge.svg\" alt=\"Open In Colab\"/></a>"
      ]
    },
    {
      "cell_type": "code",
      "execution_count": 2,
      "metadata": {
        "colab": {
          "base_uri": "https://localhost:8080/"
        },
        "id": "u91ZxlnS-VYh",
        "outputId": "74693805-cdba-4858-cb79-b91f8e15d4d6"
      },
      "outputs": [
        {
          "name": "stdout",
          "output_type": "stream",
          "text": [
            "Installing collected packages: outcome, h11, wsproto, trio, trio-websocket, selenium\n",
            "Successfully installed h11-0.14.0 outcome-1.2.0 selenium-4.11.2 trio-0.22.2 trio-websocket-0.10.3 wsproto-1.2.0\n"
          ]
        },
        {
          "data": {
            "text/plain": []
          },
          "execution_count": 2,
          "metadata": {},
          "output_type": "execute_result"
        }
      ],
      "source": [
        "## 무조건 해야하는 부분 1\n",
        "%%shell\n",
        "sudo apt -y update\n",
        "sudo apt install -y wget curl unzip\n",
        "wget http://archive.ubuntu.com/ubuntu/pool/main/libu/libu2f-host/libu2f-udev_1.1.4-1_all.deb\n",
        "dpkg -i libu2f-udev_1.1.4-1_all.deb\n",
        "wget https://dl.google.com/linux/direct/google-chrome-stable_current_amd64.deb\n",
        "dpkg -i google-chrome-stable_current_amd64.deb\n",
        "CHROME_DRIVER_VERSION=`curl -sS chromedriver.storage.googleapis.com/LATEST_RELEASE`\n",
        "wget -N https://chromedriver.storage.googleapis.com/$CHROME_DRIVER_VERSION/chromedriver_linux64.zip -P /tmp/\n",
        "unzip -o /tmp/chromedriver_linux64.zip -d /tmp/\n",
        "chmod +x /tmp/chromedriver\n",
        "mv /tmp/chromedriver /usr/local/bin/chromedriver\n",
        "pip install selenium"
      ]
    },
    {
      "cell_type": "code",
      "execution_count": 1,
      "metadata": {
        "id": "j8TMuUw_kECX"
      },
      "outputs": [],
      "source": [
        "import os\n",
        "import requests\n",
        "import time\n",
        "import pandas as pd\n",
        "from bs4 import BeautifulSoup as bs\n",
        "\n",
        "from selenium.webdriver.common.by import By\n",
        "from selenium.webdriver.support.ui import WebDriverWait\n",
        "from selenium.webdriver.support import expected_conditions as EC\n",
        "from selenium.webdriver.common.keys import Keys\n",
        "from selenium import webdriver\n",
        "\n",
        "headers = {\"user-agent\": \"Mozilla/5.0 (Macintosh; Intel Mac OS X 10_15_5) AppleWebKit/537.36 (KHTML, like Gecko) Chrome/84.0.4147.89 Safari/537.36\"}"
      ]
    },
    {
      "cell_type": "markdown",
      "metadata": {
        "id": "33d9AJE_pxgj"
      },
      "source": [
        "# 전체 과정 사이클"
      ]
    },
    {
      "cell_type": "code",
      "execution_count": 17,
      "metadata": {
        "colab": {
          "base_uri": "https://localhost:8080/"
        },
        "id": "YM7pEFIapvqd",
        "outputId": "f0958431-c598-4276-da23-5ffc22123220"
      },
      "outputs": [
        {
          "name": "stderr",
          "output_type": "stream",
          "text": [
            "WARNING:selenium.webdriver.common.selenium_manager:The chromedriver version (114.0.5735.90) detected in PATH at /usr/local/bin/chromedriver might not be compatible with the detected chrome version (115.0.5790.170); currently, chromedriver 115.0.5790.170 is recommended for chrome 115.*, so it is advised to delete the driver in PATH and retry\n"
          ]
        }
      ],
      "source": [
        "## colab\n",
        "\n",
        "url = \"https://elaw.klri.re.kr/kor_service/lawAllSearch.do?pCode=01\"\n",
        "chrome_options = webdriver.ChromeOptions()\n",
        "chrome_options.add_argument('--headless')\n",
        "chrome_options.add_argument('--no-sandbox')\n",
        "chrome_options.add_argument('--disable-dev-shm-usage')\n",
        "driver = webdriver.Chrome(options=chrome_options)"
      ]
    },
    {
      "cell_type": "code",
      "execution_count": 2,
      "metadata": {},
      "outputs": [
        {
          "name": "stderr",
          "output_type": "stream",
          "text": [
            "C:\\Users\\yunjc\\AppData\\Local\\Temp\\ipykernel_37632\\3536521958.py:15: DeprecationWarning: executable_path has been deprecated, please pass in a Service object\n",
            "  driver = webdriver.Chrome(r'C:\\Users\\yunjc\\chromedriver_win32\\chromedriver.exe', options=options)\n"
          ]
        }
      ],
      "source": [
        "## local\n",
        "\n",
        "url = \"https://elaw.klri.re.kr/kor_service/lawAllSearch.do?pCode=01\"\n",
        "options = webdriver.ChromeOptions() # 크롬 옵션 객체 생성\n",
        "options.add_argument('headless') # headless 모드 설정\n",
        "options.add_argument(\"window-size=1920x1080\") # 화면크기(전체화면)\n",
        "options.add_argument(\"disable-gpu\") \n",
        "options.add_argument(\"disable-infobars\")\n",
        "options.add_argument(\"--disable-extensions\")\n",
        "\n",
        "# 속도 향상을 위한 옵션 해제\n",
        "prefs = {'profile.default_content_setting_values': {'cookies' : 2, 'images': 2, 'plugins' : 2, 'popups': 2, 'geolocation': 2, 'notifications' : 2, 'auto_select_certificate': 2, 'fullscreen' : 2, 'mouselock' : 2, 'mixed_script': 2, 'media_stream' : 2, 'media_stream_mic' : 2, 'media_stream_camera': 2, 'protocol_handlers' : 2, 'ppapi_broker' : 2, 'automatic_downloads': 2, 'midi_sysex' : 2, 'push_messaging' : 2, 'ssl_cert_decisions': 2, 'metro_switch_to_desktop' : 2, 'protected_media_identifier': 2, 'app_banner': 2, 'site_engagement' : 2, 'durable_storage' : 2}}   \n",
        "options.add_experimental_option('prefs', prefs)\n",
        "\n",
        "driver = webdriver.Chrome(r'C:\\Users\\yunjc\\chromedriver_win32\\chromedriver.exe', options=options)"
      ]
    },
    {
      "cell_type": "code",
      "execution_count": 9,
      "metadata": {
        "colab": {
          "base_uri": "https://localhost:8080/",
          "height": 337
        },
        "id": "6PsihrM9GCyZ",
        "outputId": "e0f67d29-f96b-4ebc-c621-b125a1769845"
      },
      "outputs": [
        {
          "data": {
            "text/html": [
              "<div>\n",
              "<style scoped>\n",
              "    .dataframe tbody tr th:only-of-type {\n",
              "        vertical-align: middle;\n",
              "    }\n",
              "\n",
              "    .dataframe tbody tr th {\n",
              "        vertical-align: top;\n",
              "    }\n",
              "\n",
              "    .dataframe thead th {\n",
              "        text-align: right;\n",
              "    }\n",
              "</style>\n",
              "<table border=\"1\" class=\"dataframe\">\n",
              "  <thead>\n",
              "    <tr style=\"text-align: right;\">\n",
              "      <th></th>\n",
              "      <th>category</th>\n",
              "      <th>lawName</th>\n",
              "      <th>ENG</th>\n",
              "      <th>KOR</th>\n",
              "    </tr>\n",
              "  </thead>\n",
              "  <tbody>\n",
              "    <tr>\n",
              "      <th>68167</th>\n",
              "      <td>재정ㆍ경제일반</td>\n",
              "      <td>특정조달을 위한 국가를 당사자로 하는 계약에 관한 법률 시행 특례규칙</td>\n",
              "      <td>Article 7 (Demand for Materials Related to Con...</td>\n",
              "      <td>제7조(계약에 관한 자료 등의 요구)\\n① 기획재정부장관은 정부조달협정가입국으로부터...</td>\n",
              "    </tr>\n",
              "    <tr>\n",
              "      <th>68168</th>\n",
              "      <td>재정ㆍ경제일반</td>\n",
              "      <td>특정조달을 위한 국가를 당사자로 하는 계약에 관한 법률 시행 특례규칙</td>\n",
              "      <td>Article 8 (Reporting Results of Contracts)\\n(1...</td>\n",
              "      <td>제8조(계약실적보고)\\n① 특례규정 제25조제1항에 따른 계약실적 보고서의 내용은 ...</td>\n",
              "    </tr>\n",
              "    <tr>\n",
              "      <th>68169</th>\n",
              "      <td>재정ㆍ경제일반</td>\n",
              "      <td>특정조달을 위한 국가를 당사자로 하는 계약에 관한 법률 시행 특례규칙</td>\n",
              "      <td>ADDENDUM &lt;Ordinance of the Ministry of Strateg...</td>\n",
              "      <td>부칙 &lt;제358호, 2013.8.7.&gt;\\n이 규칙은 공포한 날부터 시행한다.</td>\n",
              "    </tr>\n",
              "    <tr>\n",
              "      <th>68170</th>\n",
              "      <td>재정ㆍ경제일반</td>\n",
              "      <td>특정조달을 위한 국가를 당사자로 하는 계약에 관한 법률 시행 특례규칙</td>\n",
              "      <td>ADDENDA &lt;Ordinance of the Ministry of Strategy...</td>\n",
              "      <td>부칙 &lt;제360호, 2013.9.17.&gt; (전자조달의 이용 및 촉진에 관한 법률 시...</td>\n",
              "    </tr>\n",
              "    <tr>\n",
              "      <th>68171</th>\n",
              "      <td>재정ㆍ경제일반</td>\n",
              "      <td>특정조달을 위한 국가를 당사자로 하는 계약에 관한 법률 시행 특례규칙</td>\n",
              "      <td>ADDENDUM &lt;Ordinance of the Ministry of Strateg...</td>\n",
              "      <td>부칙 &lt;제492호, 2015.7.20.&gt;\\n이 규칙은 정부조달에 관한 협정 개정 의...</td>\n",
              "    </tr>\n",
              "  </tbody>\n",
              "</table>\n",
              "</div>"
            ],
            "text/plain": [
              "      category                                 lawName  \\\n",
              "68167  재정ㆍ경제일반  특정조달을 위한 국가를 당사자로 하는 계약에 관한 법률 시행 특례규칙   \n",
              "68168  재정ㆍ경제일반  특정조달을 위한 국가를 당사자로 하는 계약에 관한 법률 시행 특례규칙   \n",
              "68169  재정ㆍ경제일반  특정조달을 위한 국가를 당사자로 하는 계약에 관한 법률 시행 특례규칙   \n",
              "68170  재정ㆍ경제일반  특정조달을 위한 국가를 당사자로 하는 계약에 관한 법률 시행 특례규칙   \n",
              "68171  재정ㆍ경제일반  특정조달을 위한 국가를 당사자로 하는 계약에 관한 법률 시행 특례규칙   \n",
              "\n",
              "                                                     ENG  \\\n",
              "68167  Article 7 (Demand for Materials Related to Con...   \n",
              "68168  Article 8 (Reporting Results of Contracts)\\n(1...   \n",
              "68169  ADDENDUM <Ordinance of the Ministry of Strateg...   \n",
              "68170  ADDENDA <Ordinance of the Ministry of Strategy...   \n",
              "68171  ADDENDUM <Ordinance of the Ministry of Strateg...   \n",
              "\n",
              "                                                     KOR  \n",
              "68167  제7조(계약에 관한 자료 등의 요구)\\n① 기획재정부장관은 정부조달협정가입국으로부터...  \n",
              "68168  제8조(계약실적보고)\\n① 특례규정 제25조제1항에 따른 계약실적 보고서의 내용은 ...  \n",
              "68169         부칙 <제358호, 2013.8.7.>\\n이 규칙은 공포한 날부터 시행한다.  \n",
              "68170  부칙 <제360호, 2013.9.17.> (전자조달의 이용 및 촉진에 관한 법률 시...  \n",
              "68171  부칙 <제492호, 2015.7.20.>\\n이 규칙은 정부조달에 관한 협정 개정 의...  "
            ]
          },
          "execution_count": 9,
          "metadata": {},
          "output_type": "execute_result"
        }
      ],
      "source": [
        "pre_df = pd.read_csv(r\"G:\\내 드라이브\\KB인턴관련\\crawl_1_euckr.csv\", encoding='euc-kr')\n",
        "pre_df.tail()"
      ]
    },
    {
      "cell_type": "code",
      "execution_count": 5,
      "metadata": {
        "id": "FehfppVfp2IN"
      },
      "outputs": [],
      "source": [
        "def wait_driver(xpath, t=10):\n",
        "    WebDriverWait(driver, t).until(EC.presence_of_element_located((By.XPATH, xpath)))\n",
        "    \n",
        "def tab_move():\n",
        "    driver.switch_to.window(driver.window_handles[-1])\n",
        "    ko_url = driver.current_url.replace(\"ENG\", \"KOR\")\n",
        "    driver.get(ko_url)\n",
        "    wait_driver('//*[@id=\"lawViewContent\"]')\n",
        "    driver.switch_to.frame(\"lawViewContent\")\n",
        "\n",
        "def tab_close():\n",
        "    driver.close()\n",
        "    driver.switch_to.window(driver.window_handles[0])\n",
        "    driver.switch_to.frame(\"indexFrame\")\n",
        "\n",
        "def parsing_laws():\n",
        "    lang_pairs = {\"eng\": [], \"kor\": []}\n",
        "    for i, p in enumerate(driver.find_elements(By.CSS_SELECTOR, '#body > div > table > tbody > tr > td')):\n",
        "        if i<4: continue\n",
        "        for line in p.text.split(\"\\n\"):\n",
        "            if i%2==0:\n",
        "                lang_pairs[\"eng\"].append(line)\n",
        "            else:\n",
        "                lang_pairs[\"kor\"].append(line)"
      ]
    },
    {
      "cell_type": "code",
      "execution_count": null,
      "metadata": {},
      "outputs": [],
      "source": [
        "## crawler total\n",
        "\n",
        "driver.get(url)\n",
        "\n",
        "categories = [f'tree_{i}_a' for i in range(2, 47)]\n",
        "# category loop\n",
        "base_df = pd.DataFrame()\n",
        "for j, c in enumerate(categories):\n",
        "    category = driver.find_element(By.ID, c)\n",
        "    cate_list = category.text.split(\" \")\n",
        "    cate_name, num_of_laws = cate_list[1], int(cate_list[2].strip('()'))\n",
        "    driver.execute_script(\"arguments[0].click();\", category)\n",
        "\n",
        "    # pages\n",
        "    driver.switch_to.frame('indexFrame')\n",
        "    # pages = driver.find_elements(By.CSS_SELECTOR, \"#container > div > div.paging > a\")\n",
        "    pages = [f'//*[@id=\"container\"]/div/div[3]/a[{k}]' for k in range(3, 13)]\n",
        "    page_idx = 0\n",
        "    complete_num = 0\n",
        "    print(f\"{j+1}. {cate_name} 시작...\")\n",
        "    while True:\n",
        "    # laws loop\n",
        "        wait_driver('//*[@id=\"1\"]/td[2]')\n",
        "        laws = driver.find_elements(By.CSS_SELECTOR, '#list1 > tbody > tr > td > p > a')\n",
        "        page_parsing_num = 0\n",
        "        for law in laws:\n",
        "            law_name = law.text.split('\\n')[0]\n",
        "            law.send_keys(Keys.ENTER)\n",
        "\n",
        "            tab_move()\n",
        "            wait_driver('/html')\n",
        "\n",
        "            # Parsing\n",
        "            eng, kor = [], []\n",
        "            contents = driver.find_elements(By.CSS_SELECTOR, '#body > div > table > tbody > tr > td')\n",
        "            for i, c in enumerate(contents[4:-2]):\n",
        "                if i%2==0:\n",
        "                    eng.append(c.text)\n",
        "                else:\n",
        "                    kor.append(c.text)\n",
        "            if len(eng)!=len(kor):\n",
        "                raise Exception(f\"Different Length ENG{len(eng)}, KOR{len(kor)}\")\n",
        "            else:\n",
        "                df = pd.DataFrame({\"category\":[cate_name]*len(eng), \"lawName\":[law_name]*len(eng), \"ENG\":eng, \"KOR\":kor})\n",
        "                page_parsing_num+=df.shape[0]\n",
        "                # print(f\"{law_name} 파싱 완료 : {len(eng)} 개\")\n",
        "\n",
        "            # fininsh parsing\n",
        "            tab_close()\n",
        "            base_df = pd.concat([base_df, df], axis=0)\n",
        "        print(f\"\\t{page_idx+1}페이지 파싱 완료: {page_parsing_num}\")\n",
        "        complete_num += len(laws)\n",
        "        if complete_num < num_of_laws:\n",
        "            driver.find_element(By.XPATH, pages[page_idx]).click()\n",
        "            page_idx+=1\n",
        "        else:\n",
        "            break\n",
        "    driver.get(url)\n",
        "    wait_driver('//*[@id=\"tree_1\"]')\n",
        "driver.quit()"
      ]
    },
    {
      "cell_type": "code",
      "execution_count": 7,
      "metadata": {},
      "outputs": [],
      "source": [
        "cate_pass, page_pass, law_pass = True, True, True"
      ]
    },
    {
      "cell_type": "code",
      "execution_count": 8,
      "metadata": {
        "id": "iNCHfl5Gp4PA"
      },
      "outputs": [
        {
          "name": "stdout",
          "output_type": "stream",
          "text": [
            "category 중단점 도착\n",
            "19. 재정ㆍ경제일반 시작...\n",
            "\t1페이지 파싱 완료: 0\n",
            "\t2페이지 파싱 완료: 0\n",
            "\t3페이지 파싱 완료: 0\n",
            "\t4페이지 파싱 완료: 0\n",
            "\t법령 중단점 도착\n",
            "새로운 파싱 시작\n",
            "\t5페이지 파싱 완료: 140\n",
            "\t6페이지 파싱 완료: 903\n",
            "20. 내국세 시작...\n",
            "\t1페이지 파싱 완료: 2434\n",
            "\t2페이지 파싱 완료: 2947\n",
            "\t3페이지 파싱 완료: 1033\n",
            "21. 관세 시작...\n",
            "\t1페이지 파싱 완료: 1640\n",
            "22. 담배·인삼 시작...\n",
            "\t1페이지 파싱 완료: 230\n",
            "23. 통화ㆍ국채ㆍ금융 시작...\n",
            "\t1페이지 파싱 완료: 1037\n",
            "\t2페이지 파싱 완료: 1231\n",
            "\t3페이지 파싱 완료: 1701\n",
            "\t4페이지 파싱 완료: 1665\n",
            "\t5페이지 파싱 완료: 2361\n",
            "\t6페이지 파싱 완료: 774\n",
            "24. 농업 시작...\n",
            "\t1페이지 파싱 완료: 1389\n",
            "\t2페이지 파싱 완료: 1431\n",
            "\t3페이지 파싱 완료: 1151\n",
            "\t4페이지 파싱 완료: 517\n",
            "25. 축산 시작...\n",
            "\t1페이지 파싱 완료: 1060\n",
            "\t2페이지 파싱 완료: 347\n",
            "26. 산림 시작...\n",
            "\t1페이지 파싱 완료: 1607\n",
            "\t2페이지 파싱 완료: 227\n",
            "27. 수산 시작...\n",
            "\t1페이지 파싱 완료: 1203\n",
            "\t2페이지 파싱 완료: 487\n",
            "28. 상업ㆍ무역ㆍ공업 시작...\n",
            "\t1페이지 파싱 완료: 1231\n",
            "\t2페이지 파싱 완료: 1529\n",
            "\t3페이지 파싱 완료: 2075\n",
            "\t4페이지 파싱 완료: 1286\n",
            "\t5페이지 파싱 완료: 1304\n",
            "\t6페이지 파싱 완료: 1640\n",
            "\t7페이지 파싱 완료: 801\n",
            "29. 공업규격·계량 시작...\n",
            "\t1페이지 파싱 완료: 933\n",
            "30. 공업소유권 시작...\n",
            "\t1페이지 파싱 완료: 1521\n",
            "\t2페이지 파싱 완료: 519\n",
            "31. 에너지이용ㆍ광업 시작...\n",
            "\t1페이지 파싱 완료: 1449\n",
            "\t2페이지 파싱 완료: 491\n",
            "32. 전기ㆍ가스 시작...\n",
            "\t1페이지 파싱 완료: 1622\n",
            "\t2페이지 파싱 완료: 39\n",
            "33. 국토개발·도시 시작...\n",
            "\t1페이지 파싱 완료: 2473\n",
            "\t2페이지 파싱 완료: 2356\n",
            "\t3페이지 파싱 완료: 766\n",
            "34. 주택·건축·도로 시작...\n",
            "\t1페이지 파싱 완료: 2308\n",
            "\t2페이지 파싱 완료: 658\n",
            "35. 수자원·토지·건설 시작...\n",
            "\t1페이지 파싱 완료: 2499\n",
            "\t2페이지 파싱 완료: 1642\n",
            "\t3페이지 파싱 완료: 280\n",
            "36. 보건·의사 시작...\n",
            "\t1페이지 파싱 완료: 1220\n",
            "\t2페이지 파싱 완료: 821\n",
            "\t3페이지 파싱 완료: 1340\n",
            "\t4페이지 파싱 완료: 1432\n",
            "\t5페이지 파싱 완료: 591\n",
            "37. 약사 시작...\n",
            "\t1페이지 파싱 완료: 1031\n",
            "38. 사회복지 시작...\n",
            "\t1페이지 파싱 완료: 1377\n",
            "\t2페이지 파싱 완료: 1250\n",
            "\t3페이지 파싱 완료: 1090\n",
            "\t4페이지 파싱 완료: 1116\n",
            "\t5페이지 파싱 완료: 1006\n",
            "\t6페이지 파싱 완료: 309\n",
            "39. 환경 시작...\n",
            "\t1페이지 파싱 완료: 1226\n",
            "\t2페이지 파싱 완료: 1587\n",
            "\t3페이지 파싱 완료: 1397\n",
            "\t4페이지 파싱 완료: 1509\n",
            "\t5페이지 파싱 완료: 1598\n",
            "\t6페이지 파싱 완료: 1715\n",
            "\t7페이지 파싱 완료: 405\n",
            "40. 노동 시작...\n",
            "\t1페이지 파싱 완료: 1531\n",
            "\t2페이지 파싱 완료: 1421\n",
            "\t3페이지 파싱 완료: 1697\n",
            "\t4페이지 파싱 완료: 750\n",
            "41. 육운·항공·관광 시작...\n",
            "\t1페이지 파싱 완료: 1814\n",
            "\t2페이지 파싱 완료: 1802\n",
            "\t3페이지 파싱 완료: 491\n",
            "42. 해운 시작...\n",
            "\t1페이지 파싱 완료: 1022\n",
            "\t2페이지 파싱 완료: 1565\n",
            "\t3페이지 파싱 완료: 1376\n",
            "\t4페이지 파싱 완료: 535\n",
            "43. 정보통신 시작...\n",
            "\t1페이지 파싱 완료: 1115\n",
            "\t2페이지 파싱 완료: 1690\n",
            "\t3페이지 파싱 완료: 1516\n",
            "\t4페이지 파싱 완료: 120\n",
            "44. 외무 시작...\n",
            "\t1페이지 파싱 완료: 364\n",
            "\t2페이지 파싱 완료: 631\n",
            "45. - 시작...\n",
            "\t1페이지 파싱 완료: 10\n"
          ]
        }
      ],
      "source": [
        "## crawler (중단 지점 부터)\n",
        "\n",
        "driver.get(url)\n",
        "\n",
        "categories = [f'tree_{i}_a' for i in range(2, 47)]\n",
        "# category loop\n",
        "base_df = pd.DataFrame()\n",
        "for j, c in enumerate(categories):\n",
        "    category = driver.find_element(By.ID, c)\n",
        "    cate_list = category.text.split(\" \")\n",
        "    cate_name, num_of_laws = cate_list[1], int(cate_list[2].strip('()'))\n",
        "    if cate_name=='재정ㆍ경제일반':\n",
        "        cate_pass=False\n",
        "        print('category 중단점 도착')\n",
        "    if cate_pass: continue\n",
        "\n",
        "    driver.execute_script(\"arguments[0].click();\", category)\n",
        "\n",
        "    # pages\n",
        "    driver.switch_to.frame('indexFrame')\n",
        "    # pages = driver.find_elements(By.CSS_SELECTOR, \"#container > div > div.paging > a\")\n",
        "    pages = [f'//*[@id=\"container\"]/div/div[3]/a[{k}]' for k in range(3, 13)]\n",
        "    page_idx = 0\n",
        "    complete_num = 0\n",
        "    print(f\"{j+1}. {cate_name} 시작...\")\n",
        "    while True:\n",
        "    # laws loop\n",
        "        wait_driver('//*[@id=\"1\"]/td[2]')\n",
        "        laws = driver.find_elements(By.CSS_SELECTOR, '#list1 > tbody > tr > td > p > a')\n",
        "        page_parsing_num = 0\n",
        "        for law in laws:\n",
        "            law_name = law.text.split('\\n')[0]\n",
        "            if law_name=='특정조달을 위한 국가를 당사자로 하는 계약에 관한 법률 시행령 특례규정':\n",
        "                law_pass = False\n",
        "                print('\\t법령 중단점 도착\\n새로운 파싱 시작')\n",
        "            if law_pass: continue\n",
        "            law.send_keys(Keys.ENTER)\n",
        "\n",
        "            tab_move()\n",
        "            wait_driver('/html')\n",
        "\n",
        "            # Parsing\n",
        "            eng, kor = [], []\n",
        "            contents = driver.find_elements(By.CSS_SELECTOR, '#body > div > table > tbody > tr > td')\n",
        "            for i, c in enumerate(contents[4:-2]):\n",
        "                if i%2==0:\n",
        "                    eng.append(c.text)\n",
        "                else:\n",
        "                    kor.append(c.text)\n",
        "            if len(eng)!=len(kor):\n",
        "                raise Exception(f\"Different Length ENG{len(eng)}, KOR{len(kor)}\")\n",
        "            else:\n",
        "                df = pd.DataFrame({\"category\":[cate_name]*len(eng), \"lawName\":[law_name]*len(eng), \"ENG\":eng, \"KOR\":kor})\n",
        "                page_parsing_num+=df.shape[0]\n",
        "                # print(f\"{law_name} 파싱 완료 : {len(eng)} 개\")\n",
        "\n",
        "            # fininsh parsing\n",
        "            tab_close()\n",
        "            base_df = pd.concat([base_df, df], axis=0)\n",
        "        print(f\"\\t{page_idx+1}페이지 파싱 완료: {page_parsing_num}\")\n",
        "        complete_num += len(laws)\n",
        "        if complete_num < num_of_laws:\n",
        "            driver.find_element(By.XPATH, pages[page_idx]).click()\n",
        "            page_idx+=1\n",
        "        else:\n",
        "            break\n",
        "    driver.get(url)\n",
        "    wait_driver('//*[@id=\"tree_1\"]')\n",
        "driver.quit()\n"
      ]
    },
    {
      "cell_type": "code",
      "execution_count": 13,
      "metadata": {},
      "outputs": [],
      "source": [
        "total_df = pd.concat([pre_df, base_df], axis=0)\n",
        "total_df.reset_index(drop=True, inplace=True)"
      ]
    },
    {
      "cell_type": "code",
      "execution_count": null,
      "metadata": {},
      "outputs": [],
      "source": [
        "total_df.to_csv(r\"G:\\내 드라이브\\KB인턴관련\\crawl_total_local.csv\", index=False, encoding='euc-kr')"
      ]
    }
  ],
  "metadata": {
    "colab": {
      "authorship_tag": "ABX9TyOMS8iPDY1rAKObkiegtkfP",
      "include_colab_link": true,
      "mount_file_id": "1VZeFoD6dk5ARXtCRZyeFroYbsMiqLFHs",
      "provenance": []
    },
    "kernelspec": {
      "display_name": "Python 3",
      "name": "python3"
    },
    "language_info": {
      "codemirror_mode": {
        "name": "ipython",
        "version": 3
      },
      "file_extension": ".py",
      "mimetype": "text/x-python",
      "name": "python",
      "nbconvert_exporter": "python",
      "pygments_lexer": "ipython3",
      "version": "3.8.8"
    }
  },
  "nbformat": 4,
  "nbformat_minor": 0
}

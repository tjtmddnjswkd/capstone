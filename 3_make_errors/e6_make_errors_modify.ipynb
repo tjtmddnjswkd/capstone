{
  "cells": [
    {
      "cell_type": "markdown",
      "metadata": {
        "id": "view-in-github",
        "colab_type": "text"
      },
      "source": [
        "<a href=\"https://colab.research.google.com/github/tjtmddnjswkd/capstone/blob/jc/3_make_errors/e6_make_errors_modify.ipynb\" target=\"_parent\"><img src=\"https://colab.research.google.com/assets/colab-badge.svg\" alt=\"Open In Colab\"/></a>"
      ]
    },
    {
      "cell_type": "code",
      "execution_count": 30,
      "metadata": {
        "id": "Poy4ylDO2yJ6"
      },
      "outputs": [],
      "source": [
        "# !pip install kiwipiepy\n",
        "# # !pip install nltk\n",
        "# # !pip install\n",
        "# # !pip install selenium\n",
        "\n",
        "# #코랩에서 구글드라이버 연동\n",
        "# # !apt-get update\n",
        "# # !apt install chromium-chromedriver"
      ]
    },
    {
      "cell_type": "code",
      "execution_count": 31,
      "metadata": {
        "colab": {
          "base_uri": "https://localhost:8080/"
        },
        "id": "QAOpFDsxG5q_",
        "outputId": "116bc3fa-f5d0-48e6-a588-7d57cadaed0b"
      },
      "outputs": [
        {
          "output_type": "stream",
          "name": "stdout",
          "text": [
            "Drive already mounted at /content/drive; to attempt to forcibly remount, call drive.mount(\"/content/drive\", force_remount=True).\n"
          ]
        }
      ],
      "source": [
        "try:\n",
        "    from google.colab import drive\n",
        "    drive.mount('/content/drive')\n",
        "except:\n",
        "    pass"
      ]
    },
    {
      "cell_type": "markdown",
      "metadata": {
        "id": "ozBK-UplHXCn"
      },
      "source": [
        "# 0.Data Load"
      ]
    },
    {
      "cell_type": "code",
      "execution_count": 32,
      "metadata": {
        "id": "wnd-0dXQG5rB"
      },
      "outputs": [],
      "source": [
        "import pandas as pd\n",
        "import numpy as np\n",
        "import json\n",
        "import os\n",
        "import re\n",
        "import copy\n",
        "from tqdm.notebook import tqdm\n",
        "\n",
        "if os.path.exists(r\"G:\\내 드라이브\\KB인턴관련\"):\n",
        "    gdrive_path = r\"G:\\내 드라이브\\KB인턴관련\"\n",
        "else:\n",
        "    gdrive_path = \"/content/drive/MyDrive/KB인턴관련\""
      ]
    },
    {
      "cell_type": "code",
      "execution_count": 33,
      "metadata": {
        "colab": {
          "base_uri": "https://localhost:8080/",
          "height": 206
        },
        "id": "LQO-CfvlG5rC",
        "outputId": "2d1df2c4-da52-4922-8865-dbdeb3b1fc71"
      },
      "outputs": [
        {
          "output_type": "execute_result",
          "data": {
            "text/plain": [
              "  category           lawName  \\\n",
              "0       헌법  개성공업지구 지원에 관한 법률   \n",
              "2       헌법  개성공업지구 지원에 관한 법률   \n",
              "3       헌법  개성공업지구 지원에 관한 법률   \n",
              "4       헌법  개성공업지구 지원에 관한 법률   \n",
              "5       헌법  개성공업지구 지원에 관한 법률   \n",
              "\n",
              "                                                 ENG  \\\n",
              "0  The purpose of this Act is to enhance inter-Ko...   \n",
              "2  The term \"Gaeseong Industrial Complex\" or \"GIC...   \n",
              "3  The term \"GIC developer\" means a South Korean ...   \n",
              "4  The term \"GIC management organ\" means a corpor...   \n",
              "5  The term \"local enterprise of the GIC\" means a...   \n",
              "\n",
              "                                                 KOR  \n",
              "0  이 법은 개성공업지구의 개발·운영의 지원 및 개성공업지구에 투자하거나 출입·체류하는...  \n",
              "2  \"개성공업지구\"란 남한과 북한 사이의 합의에 따라서 북한의 개성지역 일대에서 개발·...  \n",
              "3  \"개성공업지구 개발업자\"란 「남북교류협력에 관한 법률」에 따른 협력사업의 승인을 받...  \n",
              "4  \"개성공업지구 관리기관\"이란 개성공업지구의 관리·운영을 위하여 북한의 「개성공업지구...  \n",
              "5  \"개성공업지구 현지기업\"이란 남한주민이 「남북교류협력에 관한 법률」에 따른 협력사업...  "
            ],
            "text/html": [
              "\n",
              "  <div id=\"df-37e9ce0a-913b-46d4-9990-e842b6be745a\" class=\"colab-df-container\">\n",
              "    <div>\n",
              "<style scoped>\n",
              "    .dataframe tbody tr th:only-of-type {\n",
              "        vertical-align: middle;\n",
              "    }\n",
              "\n",
              "    .dataframe tbody tr th {\n",
              "        vertical-align: top;\n",
              "    }\n",
              "\n",
              "    .dataframe thead th {\n",
              "        text-align: right;\n",
              "    }\n",
              "</style>\n",
              "<table border=\"1\" class=\"dataframe\">\n",
              "  <thead>\n",
              "    <tr style=\"text-align: right;\">\n",
              "      <th></th>\n",
              "      <th>category</th>\n",
              "      <th>lawName</th>\n",
              "      <th>ENG</th>\n",
              "      <th>KOR</th>\n",
              "    </tr>\n",
              "  </thead>\n",
              "  <tbody>\n",
              "    <tr>\n",
              "      <th>0</th>\n",
              "      <td>헌법</td>\n",
              "      <td>개성공업지구 지원에 관한 법률</td>\n",
              "      <td>The purpose of this Act is to enhance inter-Ko...</td>\n",
              "      <td>이 법은 개성공업지구의 개발·운영의 지원 및 개성공업지구에 투자하거나 출입·체류하는...</td>\n",
              "    </tr>\n",
              "    <tr>\n",
              "      <th>2</th>\n",
              "      <td>헌법</td>\n",
              "      <td>개성공업지구 지원에 관한 법률</td>\n",
              "      <td>The term \"Gaeseong Industrial Complex\" or \"GIC...</td>\n",
              "      <td>\"개성공업지구\"란 남한과 북한 사이의 합의에 따라서 북한의 개성지역 일대에서 개발·...</td>\n",
              "    </tr>\n",
              "    <tr>\n",
              "      <th>3</th>\n",
              "      <td>헌법</td>\n",
              "      <td>개성공업지구 지원에 관한 법률</td>\n",
              "      <td>The term \"GIC developer\" means a South Korean ...</td>\n",
              "      <td>\"개성공업지구 개발업자\"란 「남북교류협력에 관한 법률」에 따른 협력사업의 승인을 받...</td>\n",
              "    </tr>\n",
              "    <tr>\n",
              "      <th>4</th>\n",
              "      <td>헌법</td>\n",
              "      <td>개성공업지구 지원에 관한 법률</td>\n",
              "      <td>The term \"GIC management organ\" means a corpor...</td>\n",
              "      <td>\"개성공업지구 관리기관\"이란 개성공업지구의 관리·운영을 위하여 북한의 「개성공업지구...</td>\n",
              "    </tr>\n",
              "    <tr>\n",
              "      <th>5</th>\n",
              "      <td>헌법</td>\n",
              "      <td>개성공업지구 지원에 관한 법률</td>\n",
              "      <td>The term \"local enterprise of the GIC\" means a...</td>\n",
              "      <td>\"개성공업지구 현지기업\"이란 남한주민이 「남북교류협력에 관한 법률」에 따른 협력사업...</td>\n",
              "    </tr>\n",
              "  </tbody>\n",
              "</table>\n",
              "</div>\n",
              "    <div class=\"colab-df-buttons\">\n",
              "\n",
              "  <div class=\"colab-df-container\">\n",
              "    <button class=\"colab-df-convert\" onclick=\"convertToInteractive('df-37e9ce0a-913b-46d4-9990-e842b6be745a')\"\n",
              "            title=\"Convert this dataframe to an interactive table.\"\n",
              "            style=\"display:none;\">\n",
              "\n",
              "  <svg xmlns=\"http://www.w3.org/2000/svg\" height=\"24px\" viewBox=\"0 -960 960 960\">\n",
              "    <path d=\"M120-120v-720h720v720H120Zm60-500h600v-160H180v160Zm220 220h160v-160H400v160Zm0 220h160v-160H400v160ZM180-400h160v-160H180v160Zm440 0h160v-160H620v160ZM180-180h160v-160H180v160Zm440 0h160v-160H620v160Z\"/>\n",
              "  </svg>\n",
              "    </button>\n",
              "\n",
              "  <style>\n",
              "    .colab-df-container {\n",
              "      display:flex;\n",
              "      gap: 12px;\n",
              "    }\n",
              "\n",
              "    .colab-df-convert {\n",
              "      background-color: #E8F0FE;\n",
              "      border: none;\n",
              "      border-radius: 50%;\n",
              "      cursor: pointer;\n",
              "      display: none;\n",
              "      fill: #1967D2;\n",
              "      height: 32px;\n",
              "      padding: 0 0 0 0;\n",
              "      width: 32px;\n",
              "    }\n",
              "\n",
              "    .colab-df-convert:hover {\n",
              "      background-color: #E2EBFA;\n",
              "      box-shadow: 0px 1px 2px rgba(60, 64, 67, 0.3), 0px 1px 3px 1px rgba(60, 64, 67, 0.15);\n",
              "      fill: #174EA6;\n",
              "    }\n",
              "\n",
              "    .colab-df-buttons div {\n",
              "      margin-bottom: 4px;\n",
              "    }\n",
              "\n",
              "    [theme=dark] .colab-df-convert {\n",
              "      background-color: #3B4455;\n",
              "      fill: #D2E3FC;\n",
              "    }\n",
              "\n",
              "    [theme=dark] .colab-df-convert:hover {\n",
              "      background-color: #434B5C;\n",
              "      box-shadow: 0px 1px 3px 1px rgba(0, 0, 0, 0.15);\n",
              "      filter: drop-shadow(0px 1px 2px rgba(0, 0, 0, 0.3));\n",
              "      fill: #FFFFFF;\n",
              "    }\n",
              "  </style>\n",
              "\n",
              "    <script>\n",
              "      const buttonEl =\n",
              "        document.querySelector('#df-37e9ce0a-913b-46d4-9990-e842b6be745a button.colab-df-convert');\n",
              "      buttonEl.style.display =\n",
              "        google.colab.kernel.accessAllowed ? 'block' : 'none';\n",
              "\n",
              "      async function convertToInteractive(key) {\n",
              "        const element = document.querySelector('#df-37e9ce0a-913b-46d4-9990-e842b6be745a');\n",
              "        const dataTable =\n",
              "          await google.colab.kernel.invokeFunction('convertToInteractive',\n",
              "                                                    [key], {});\n",
              "        if (!dataTable) return;\n",
              "\n",
              "        const docLinkHtml = 'Like what you see? Visit the ' +\n",
              "          '<a target=\"_blank\" href=https://colab.research.google.com/notebooks/data_table.ipynb>data table notebook</a>'\n",
              "          + ' to learn more about interactive tables.';\n",
              "        element.innerHTML = '';\n",
              "        dataTable['output_type'] = 'display_data';\n",
              "        await google.colab.output.renderOutput(dataTable, element);\n",
              "        const docLink = document.createElement('div');\n",
              "        docLink.innerHTML = docLinkHtml;\n",
              "        element.appendChild(docLink);\n",
              "      }\n",
              "    </script>\n",
              "  </div>\n",
              "\n",
              "\n",
              "<div id=\"df-0d985ac3-7526-45c2-aa87-9b722ed81d79\">\n",
              "  <button class=\"colab-df-quickchart\" onclick=\"quickchart('df-0d985ac3-7526-45c2-aa87-9b722ed81d79')\"\n",
              "            title=\"Suggest charts.\"\n",
              "            style=\"display:none;\">\n",
              "\n",
              "<svg xmlns=\"http://www.w3.org/2000/svg\" height=\"24px\"viewBox=\"0 0 24 24\"\n",
              "     width=\"24px\">\n",
              "    <g>\n",
              "        <path d=\"M19 3H5c-1.1 0-2 .9-2 2v14c0 1.1.9 2 2 2h14c1.1 0 2-.9 2-2V5c0-1.1-.9-2-2-2zM9 17H7v-7h2v7zm4 0h-2V7h2v10zm4 0h-2v-4h2v4z\"/>\n",
              "    </g>\n",
              "</svg>\n",
              "  </button>\n",
              "\n",
              "<style>\n",
              "  .colab-df-quickchart {\n",
              "    background-color: #E8F0FE;\n",
              "    border: none;\n",
              "    border-radius: 50%;\n",
              "    cursor: pointer;\n",
              "    display: none;\n",
              "    fill: #1967D2;\n",
              "    height: 32px;\n",
              "    padding: 0 0 0 0;\n",
              "    width: 32px;\n",
              "  }\n",
              "\n",
              "  .colab-df-quickchart:hover {\n",
              "    background-color: #E2EBFA;\n",
              "    box-shadow: 0px 1px 2px rgba(60, 64, 67, 0.3), 0px 1px 3px 1px rgba(60, 64, 67, 0.15);\n",
              "    fill: #174EA6;\n",
              "  }\n",
              "\n",
              "  [theme=dark] .colab-df-quickchart {\n",
              "    background-color: #3B4455;\n",
              "    fill: #D2E3FC;\n",
              "  }\n",
              "\n",
              "  [theme=dark] .colab-df-quickchart:hover {\n",
              "    background-color: #434B5C;\n",
              "    box-shadow: 0px 1px 3px 1px rgba(0, 0, 0, 0.15);\n",
              "    filter: drop-shadow(0px 1px 2px rgba(0, 0, 0, 0.3));\n",
              "    fill: #FFFFFF;\n",
              "  }\n",
              "</style>\n",
              "\n",
              "  <script>\n",
              "    async function quickchart(key) {\n",
              "      const charts = await google.colab.kernel.invokeFunction(\n",
              "          'suggestCharts', [key], {});\n",
              "    }\n",
              "    (() => {\n",
              "      let quickchartButtonEl =\n",
              "        document.querySelector('#df-0d985ac3-7526-45c2-aa87-9b722ed81d79 button');\n",
              "      quickchartButtonEl.style.display =\n",
              "        google.colab.kernel.accessAllowed ? 'block' : 'none';\n",
              "    })();\n",
              "  </script>\n",
              "</div>\n",
              "    </div>\n",
              "  </div>\n"
            ]
          },
          "metadata": {},
          "execution_count": 33
        }
      ],
      "source": [
        "df = pd.read_csv(os.path.join(gdrive_path, \"preprocessing/fin.csv\"), encoding=\"euc-kr\", index_col=0)\n",
        "df.head()"
      ]
    },
    {
      "cell_type": "code",
      "execution_count": 34,
      "metadata": {
        "colab": {
          "base_uri": "https://localhost:8080/"
        },
        "id": "XhPQYnm8LS6o",
        "outputId": "3c3e0695-033f-4898-cb54-393fd58cd9e0"
      },
      "outputs": [
        {
          "output_type": "stream",
          "name": "stdout",
          "text": [
            "<class 'pandas.core.frame.DataFrame'>\n",
            "Int64Index: 280765 entries, 0 to 585940\n",
            "Data columns (total 4 columns):\n",
            " #   Column    Non-Null Count   Dtype \n",
            "---  ------    --------------   ----- \n",
            " 0   category  280765 non-null  object\n",
            " 1   lawName   280765 non-null  object\n",
            " 2   ENG       280765 non-null  object\n",
            " 3   KOR       280765 non-null  object\n",
            "dtypes: object(4)\n",
            "memory usage: 10.7+ MB\n"
          ]
        }
      ],
      "source": [
        "df.info()"
      ]
    },
    {
      "cell_type": "markdown",
      "metadata": {
        "id": "Wa8WyRO-HbDB"
      },
      "source": [
        "# 1.Data Fiiltering"
      ]
    },
    {
      "cell_type": "code",
      "execution_count": 35,
      "metadata": {
        "id": "S1Q9BggtIv6n"
      },
      "outputs": [],
      "source": [
        "keyword_idx = df.loc[df.lawName.str.contains('은행|금융|보험|예금|적금|대출|외환|통화|화폐|환율|예대')|df.category.str.contains('경제|금융|상업')].index"
      ]
    },
    {
      "cell_type": "code",
      "execution_count": 36,
      "metadata": {
        "id": "rhGtK13KJrdk"
      },
      "outputs": [],
      "source": [
        "tgk_idx = df.loc[df.category==\"통화ㆍ국채ㆍ금융\"].index"
      ]
    },
    {
      "cell_type": "code",
      "execution_count": 37,
      "metadata": {
        "colab": {
          "base_uri": "https://localhost:8080/"
        },
        "id": "YuEzG0xAKzRs",
        "outputId": "0551c2dd-bac3-4396-8471-4bd186e6421c"
      },
      "outputs": [
        {
          "output_type": "stream",
          "name": "stdout",
          "text": [
            "키워드: 45093\t통화/국채/금융: 16004\n",
            "키워드-통국금: 29089\n",
            "통국금-키워드: 0\n",
            "전체:  45093\n"
          ]
        }
      ],
      "source": [
        "print(f\"키워드: {len(keyword_idx)}\\t통화/국채/금융: {len(tgk_idx)}\")\n",
        "print(f\"키워드-통국금: {len(list(set(keyword_idx)-set(tgk_idx)))}\")\n",
        "print(f\"통국금-키워드: {len(list(set(tgk_idx)-set(keyword_idx)))}\")\n",
        "print(f\"전체:  {len(list(set(keyword_idx).union(set(tgk_idx))))}\")"
      ]
    },
    {
      "cell_type": "code",
      "execution_count": 38,
      "metadata": {
        "id": "-eet0uBuLhDt"
      },
      "outputs": [],
      "source": [
        "df_samp = df.loc[list(set(keyword_idx).union(set(tgk_idx)))].drop(index=[403163], axis=0)\n",
        "# df_samp = df.copy(deep=True)"
      ]
    },
    {
      "cell_type": "code",
      "execution_count": 39,
      "metadata": {
        "id": "F-Wq1Cl7MXf8"
      },
      "outputs": [],
      "source": [
        "df_samp[\"curHyp\"] = df_samp.KOR.values\n",
        "df_samp[\"errors\"] = [[] for _ in range(df_samp.shape[0])]\n",
        "# df_samp[\"tagLog\"] = [dict() for _ in range(df_samp.shape[0])]\n",
        "df_samp[\"errLog\"] = [dict() for _ in range(df_samp.shape[0])]\n",
        "# df_samp.iloc[:, 2:4]"
      ]
    },
    {
      "cell_type": "code",
      "execution_count": 40,
      "metadata": {
        "colab": {
          "base_uri": "https://localhost:8080/",
          "height": 293
        },
        "id": "e7VYU2z46bow",
        "outputId": "2448bf04-aa80-4a4b-b50c-4711a0f4d6a2"
      },
      "outputs": [
        {
          "output_type": "execute_result",
          "data": {
            "text/plain": [
              "       category                              lawName  \\\n",
              "547115       노동  고용보험 및 산업재해보상보험의 보험료징수 등에 관한 법률 시행령   \n",
              "547116       노동  고용보험 및 산업재해보상보험의 보험료징수 등에 관한 법률 시행령   \n",
              "547118       노동  고용보험 및 산업재해보상보험의 보험료징수 등에 관한 법률 시행령   \n",
              "547119       노동  고용보험 및 산업재해보상보험의 보험료징수 등에 관한 법률 시행령   \n",
              "547128       노동  고용보험 및 산업재해보상보험의 보험료징수 등에 관한 법률 시행령   \n",
              "\n",
              "                                                      ENG  \\\n",
              "547115  Where it is impracticable to identify the loca...   \n",
              "547116  For full-time employees who receive a fixed am...   \n",
              "547118  The standard monthly remuneration shall apply ...   \n",
              "547119  The standard monthly remuneration shall apply ...   \n",
              "547128  Except as otherwise expressly provided for in ...   \n",
              "\n",
              "                                                      KOR  \\\n",
              "547115  사업 또는 사업장(이하 \"사업\"이라 한다)의 이전 등으로 사업의 소재지를 파악하기 ...   \n",
              "547116      통상근로자로서 월정액으로 보수를 지급받는 근로자에게는 월단위 기준보수를 적용한다.   \n",
              "547118  「고용보험법」 제77조의2제1항에 따른 예술인(이하 \"예술인\"이라 한다)에게는 월단...   \n",
              "547119  「고용보험법」 제77조의6제1항에 따른 노무제공자(이하 \"노무제공자\"라 한다)에게는...   \n",
              "547128  이 영에서 규정된 사업의 범위에 관하여 이 영에 특별한 규정이 없으면 「통계법」 제...   \n",
              "\n",
              "                                                   curHyp errors errLog  \n",
              "547115  사업 또는 사업장(이하 \"사업\"이라 한다)의 이전 등으로 사업의 소재지를 파악하기 ...     []     {}  \n",
              "547116      통상근로자로서 월정액으로 보수를 지급받는 근로자에게는 월단위 기준보수를 적용한다.     []     {}  \n",
              "547118  「고용보험법」 제77조의2제1항에 따른 예술인(이하 \"예술인\"이라 한다)에게는 월단...     []     {}  \n",
              "547119  「고용보험법」 제77조의6제1항에 따른 노무제공자(이하 \"노무제공자\"라 한다)에게는...     []     {}  \n",
              "547128  이 영에서 규정된 사업의 범위에 관하여 이 영에 특별한 규정이 없으면 「통계법」 제...     []     {}  "
            ],
            "text/html": [
              "\n",
              "  <div id=\"df-d44617e1-f9b0-4e7b-99ea-57a23099e9ce\" class=\"colab-df-container\">\n",
              "    <div>\n",
              "<style scoped>\n",
              "    .dataframe tbody tr th:only-of-type {\n",
              "        vertical-align: middle;\n",
              "    }\n",
              "\n",
              "    .dataframe tbody tr th {\n",
              "        vertical-align: top;\n",
              "    }\n",
              "\n",
              "    .dataframe thead th {\n",
              "        text-align: right;\n",
              "    }\n",
              "</style>\n",
              "<table border=\"1\" class=\"dataframe\">\n",
              "  <thead>\n",
              "    <tr style=\"text-align: right;\">\n",
              "      <th></th>\n",
              "      <th>category</th>\n",
              "      <th>lawName</th>\n",
              "      <th>ENG</th>\n",
              "      <th>KOR</th>\n",
              "      <th>curHyp</th>\n",
              "      <th>errors</th>\n",
              "      <th>errLog</th>\n",
              "    </tr>\n",
              "  </thead>\n",
              "  <tbody>\n",
              "    <tr>\n",
              "      <th>547115</th>\n",
              "      <td>노동</td>\n",
              "      <td>고용보험 및 산업재해보상보험의 보험료징수 등에 관한 법률 시행령</td>\n",
              "      <td>Where it is impracticable to identify the loca...</td>\n",
              "      <td>사업 또는 사업장(이하 \"사업\"이라 한다)의 이전 등으로 사업의 소재지를 파악하기 ...</td>\n",
              "      <td>사업 또는 사업장(이하 \"사업\"이라 한다)의 이전 등으로 사업의 소재지를 파악하기 ...</td>\n",
              "      <td>[]</td>\n",
              "      <td>{}</td>\n",
              "    </tr>\n",
              "    <tr>\n",
              "      <th>547116</th>\n",
              "      <td>노동</td>\n",
              "      <td>고용보험 및 산업재해보상보험의 보험료징수 등에 관한 법률 시행령</td>\n",
              "      <td>For full-time employees who receive a fixed am...</td>\n",
              "      <td>통상근로자로서 월정액으로 보수를 지급받는 근로자에게는 월단위 기준보수를 적용한다.</td>\n",
              "      <td>통상근로자로서 월정액으로 보수를 지급받는 근로자에게는 월단위 기준보수를 적용한다.</td>\n",
              "      <td>[]</td>\n",
              "      <td>{}</td>\n",
              "    </tr>\n",
              "    <tr>\n",
              "      <th>547118</th>\n",
              "      <td>노동</td>\n",
              "      <td>고용보험 및 산업재해보상보험의 보험료징수 등에 관한 법률 시행령</td>\n",
              "      <td>The standard monthly remuneration shall apply ...</td>\n",
              "      <td>「고용보험법」 제77조의2제1항에 따른 예술인(이하 \"예술인\"이라 한다)에게는 월단...</td>\n",
              "      <td>「고용보험법」 제77조의2제1항에 따른 예술인(이하 \"예술인\"이라 한다)에게는 월단...</td>\n",
              "      <td>[]</td>\n",
              "      <td>{}</td>\n",
              "    </tr>\n",
              "    <tr>\n",
              "      <th>547119</th>\n",
              "      <td>노동</td>\n",
              "      <td>고용보험 및 산업재해보상보험의 보험료징수 등에 관한 법률 시행령</td>\n",
              "      <td>The standard monthly remuneration shall apply ...</td>\n",
              "      <td>「고용보험법」 제77조의6제1항에 따른 노무제공자(이하 \"노무제공자\"라 한다)에게는...</td>\n",
              "      <td>「고용보험법」 제77조의6제1항에 따른 노무제공자(이하 \"노무제공자\"라 한다)에게는...</td>\n",
              "      <td>[]</td>\n",
              "      <td>{}</td>\n",
              "    </tr>\n",
              "    <tr>\n",
              "      <th>547128</th>\n",
              "      <td>노동</td>\n",
              "      <td>고용보험 및 산업재해보상보험의 보험료징수 등에 관한 법률 시행령</td>\n",
              "      <td>Except as otherwise expressly provided for in ...</td>\n",
              "      <td>이 영에서 규정된 사업의 범위에 관하여 이 영에 특별한 규정이 없으면 「통계법」 제...</td>\n",
              "      <td>이 영에서 규정된 사업의 범위에 관하여 이 영에 특별한 규정이 없으면 「통계법」 제...</td>\n",
              "      <td>[]</td>\n",
              "      <td>{}</td>\n",
              "    </tr>\n",
              "  </tbody>\n",
              "</table>\n",
              "</div>\n",
              "    <div class=\"colab-df-buttons\">\n",
              "\n",
              "  <div class=\"colab-df-container\">\n",
              "    <button class=\"colab-df-convert\" onclick=\"convertToInteractive('df-d44617e1-f9b0-4e7b-99ea-57a23099e9ce')\"\n",
              "            title=\"Convert this dataframe to an interactive table.\"\n",
              "            style=\"display:none;\">\n",
              "\n",
              "  <svg xmlns=\"http://www.w3.org/2000/svg\" height=\"24px\" viewBox=\"0 -960 960 960\">\n",
              "    <path d=\"M120-120v-720h720v720H120Zm60-500h600v-160H180v160Zm220 220h160v-160H400v160Zm0 220h160v-160H400v160ZM180-400h160v-160H180v160Zm440 0h160v-160H620v160ZM180-180h160v-160H180v160Zm440 0h160v-160H620v160Z\"/>\n",
              "  </svg>\n",
              "    </button>\n",
              "\n",
              "  <style>\n",
              "    .colab-df-container {\n",
              "      display:flex;\n",
              "      gap: 12px;\n",
              "    }\n",
              "\n",
              "    .colab-df-convert {\n",
              "      background-color: #E8F0FE;\n",
              "      border: none;\n",
              "      border-radius: 50%;\n",
              "      cursor: pointer;\n",
              "      display: none;\n",
              "      fill: #1967D2;\n",
              "      height: 32px;\n",
              "      padding: 0 0 0 0;\n",
              "      width: 32px;\n",
              "    }\n",
              "\n",
              "    .colab-df-convert:hover {\n",
              "      background-color: #E2EBFA;\n",
              "      box-shadow: 0px 1px 2px rgba(60, 64, 67, 0.3), 0px 1px 3px 1px rgba(60, 64, 67, 0.15);\n",
              "      fill: #174EA6;\n",
              "    }\n",
              "\n",
              "    .colab-df-buttons div {\n",
              "      margin-bottom: 4px;\n",
              "    }\n",
              "\n",
              "    [theme=dark] .colab-df-convert {\n",
              "      background-color: #3B4455;\n",
              "      fill: #D2E3FC;\n",
              "    }\n",
              "\n",
              "    [theme=dark] .colab-df-convert:hover {\n",
              "      background-color: #434B5C;\n",
              "      box-shadow: 0px 1px 3px 1px rgba(0, 0, 0, 0.15);\n",
              "      filter: drop-shadow(0px 1px 2px rgba(0, 0, 0, 0.3));\n",
              "      fill: #FFFFFF;\n",
              "    }\n",
              "  </style>\n",
              "\n",
              "    <script>\n",
              "      const buttonEl =\n",
              "        document.querySelector('#df-d44617e1-f9b0-4e7b-99ea-57a23099e9ce button.colab-df-convert');\n",
              "      buttonEl.style.display =\n",
              "        google.colab.kernel.accessAllowed ? 'block' : 'none';\n",
              "\n",
              "      async function convertToInteractive(key) {\n",
              "        const element = document.querySelector('#df-d44617e1-f9b0-4e7b-99ea-57a23099e9ce');\n",
              "        const dataTable =\n",
              "          await google.colab.kernel.invokeFunction('convertToInteractive',\n",
              "                                                    [key], {});\n",
              "        if (!dataTable) return;\n",
              "\n",
              "        const docLinkHtml = 'Like what you see? Visit the ' +\n",
              "          '<a target=\"_blank\" href=https://colab.research.google.com/notebooks/data_table.ipynb>data table notebook</a>'\n",
              "          + ' to learn more about interactive tables.';\n",
              "        element.innerHTML = '';\n",
              "        dataTable['output_type'] = 'display_data';\n",
              "        await google.colab.output.renderOutput(dataTable, element);\n",
              "        const docLink = document.createElement('div');\n",
              "        docLink.innerHTML = docLinkHtml;\n",
              "        element.appendChild(docLink);\n",
              "      }\n",
              "    </script>\n",
              "  </div>\n",
              "\n",
              "\n",
              "<div id=\"df-2bc1eba6-8662-4339-b760-07548768d7fb\">\n",
              "  <button class=\"colab-df-quickchart\" onclick=\"quickchart('df-2bc1eba6-8662-4339-b760-07548768d7fb')\"\n",
              "            title=\"Suggest charts.\"\n",
              "            style=\"display:none;\">\n",
              "\n",
              "<svg xmlns=\"http://www.w3.org/2000/svg\" height=\"24px\"viewBox=\"0 0 24 24\"\n",
              "     width=\"24px\">\n",
              "    <g>\n",
              "        <path d=\"M19 3H5c-1.1 0-2 .9-2 2v14c0 1.1.9 2 2 2h14c1.1 0 2-.9 2-2V5c0-1.1-.9-2-2-2zM9 17H7v-7h2v7zm4 0h-2V7h2v10zm4 0h-2v-4h2v4z\"/>\n",
              "    </g>\n",
              "</svg>\n",
              "  </button>\n",
              "\n",
              "<style>\n",
              "  .colab-df-quickchart {\n",
              "    background-color: #E8F0FE;\n",
              "    border: none;\n",
              "    border-radius: 50%;\n",
              "    cursor: pointer;\n",
              "    display: none;\n",
              "    fill: #1967D2;\n",
              "    height: 32px;\n",
              "    padding: 0 0 0 0;\n",
              "    width: 32px;\n",
              "  }\n",
              "\n",
              "  .colab-df-quickchart:hover {\n",
              "    background-color: #E2EBFA;\n",
              "    box-shadow: 0px 1px 2px rgba(60, 64, 67, 0.3), 0px 1px 3px 1px rgba(60, 64, 67, 0.15);\n",
              "    fill: #174EA6;\n",
              "  }\n",
              "\n",
              "  [theme=dark] .colab-df-quickchart {\n",
              "    background-color: #3B4455;\n",
              "    fill: #D2E3FC;\n",
              "  }\n",
              "\n",
              "  [theme=dark] .colab-df-quickchart:hover {\n",
              "    background-color: #434B5C;\n",
              "    box-shadow: 0px 1px 3px 1px rgba(0, 0, 0, 0.15);\n",
              "    filter: drop-shadow(0px 1px 2px rgba(0, 0, 0, 0.3));\n",
              "    fill: #FFFFFF;\n",
              "  }\n",
              "</style>\n",
              "\n",
              "  <script>\n",
              "    async function quickchart(key) {\n",
              "      const charts = await google.colab.kernel.invokeFunction(\n",
              "          'suggestCharts', [key], {});\n",
              "    }\n",
              "    (() => {\n",
              "      let quickchartButtonEl =\n",
              "        document.querySelector('#df-2bc1eba6-8662-4339-b760-07548768d7fb button');\n",
              "      quickchartButtonEl.style.display =\n",
              "        google.colab.kernel.accessAllowed ? 'block' : 'none';\n",
              "    })();\n",
              "  </script>\n",
              "</div>\n",
              "    </div>\n",
              "  </div>\n"
            ]
          },
          "metadata": {},
          "execution_count": 40
        }
      ],
      "source": [
        "df_samp.head()"
      ]
    },
    {
      "cell_type": "markdown",
      "metadata": {
        "id": "lGIRhAJYCEq2"
      },
      "source": [
        "**주요 함수**"
      ]
    },
    {
      "cell_type": "code",
      "execution_count": 128,
      "metadata": {
        "id": "qtiBdvrdjMGN"
      },
      "outputs": [],
      "source": [
        "## 주요한 함수\n",
        "def remake_df():\n",
        "    result = df.loc[list(set(keyword_idx).union(set(tgk_idx)))]\n",
        "    result[\"curHyp\"] = result.KOR.values\n",
        "    result[\"errors\"] = [[] for _ in range(result.shape[0])]\n",
        "    result[\"errLog\"] = [dict() for _ in range(result.shape[0])]\n",
        "    return result.drop(index=[403163], axis=0)\n",
        "\n",
        "def random_df(dfs, ratio, seed):\n",
        "    np.random.seed(seed)\n",
        "    return dfs.loc[np.random.choice(dfs.index.to_list(), int(dfs.shape[0]*ratio), False), :]\n",
        "\n",
        "def random_index(srs, ratio, seed):\n",
        "    np.random.seed(seed)\n",
        "    return np.random.choice(srs.index, int(srs.shape[0]*ratio), False)\n",
        "\n",
        "def copy_df(data, col=[\"errors\", \"errLog\"]):\n",
        "    result = data.drop(columns=col, axis=1).copy(deep=True)\n",
        "    # print(id(result), id(data))\n",
        "    for c in col:\n",
        "        result[c] = data[c].apply(lambda x: copy.deepcopy(x)).copy(deep=True)\n",
        "    return result\n",
        "\n",
        "def count_tag(tokens, tags=None):\n",
        "    token_dict = dict()\n",
        "    for token in tokens:\n",
        "        if tags!=None and token.tag not in tags: continue\n",
        "        try:\n",
        "            token_dict[token.tag].append(token.form)\n",
        "        except:\n",
        "            token_dict[token.tag] = [token.form]\n",
        "\n",
        "    return token_dict\n",
        "\n",
        "def find_tokens(tokens, tag):\n",
        "    result_tokens = []\n",
        "    for token in tokens:\n",
        "        if token.tag == tag:\n",
        "            result_tokens.append((token.form, token.start, token.end))\n",
        "    return result_tokens\n",
        "\n",
        "def print_df(df, cols, idx=0, end=0):\n",
        "    print(df.shape[0])\n",
        "    if end==0:\n",
        "        values = df.index[idx:]\n",
        "    else:\n",
        "        values = df.index[idx:end]\n",
        "    for i in values:\n",
        "        print(f\"_________________ {i} _________________\")\n",
        "        for col in cols:\n",
        "            print(df.loc[i, col])\n",
        "\n",
        "def input_errors(df, index, severity, start_idx, text, type):\n",
        "    df.loc[index, \"errors\"].append({\"severity\":severity, \"start_idx\":start_idx, \"text\":text, \"type\":type})\n",
        "\n",
        "def convert_df(df, diff_df):\n",
        "    cdf = copy_df(df)\n",
        "    for i in diff_df.index:\n",
        "        cdf.loc[i, : ] = diff_df.loc[i, : ]\n",
        "    return cdf\n",
        "\n",
        "def dup_drop():\n",
        "    for k in dindex_dict.keys():\n",
        "        dindex_dict[k] = list(set(dindex_dict[k]))\n",
        "\n",
        "def check_idx(df):\n",
        "    dup_drop()\n",
        "    for k in dindex_dict.keys():\n",
        "        print(f\"\\t  {k}: {len(dindex_dict[k])}\", end='\\t')\n",
        "        print(df.loc[df.errLog.apply(lambda x: k in x.keys())].shape[0])\n",
        "\n",
        "def check_memorize(data):\n",
        "    df = copy_df(data.loc[:, [\"curHyp\",\"errLog\"]], col=[\"errLog\"])\n",
        "    result_list = []\n",
        "    for i in df.index:\n",
        "        cur_hyp = df.loc[i, \"curHyp\"]\n",
        "        d = df.loc[i, \"errLog\"]\n",
        "        result_dict = dict()\n",
        "        for k in d.keys():\n",
        "            start = d[k][\"start_idx\"]\n",
        "            end = start+len(d[k][\"text\"])\n",
        "            result_dict[k] = cur_hyp[start:end]\n",
        "        result_list.append(result_dict)\n",
        "    df[\"validation\"] = result_list\n",
        "    return df\n",
        "\n",
        "def move_index(df, idx, start, word, conv_word=None):\n",
        "    err_log = copy.deepcopy(df.loc[idx, \"errLog\"])\n",
        "    loop_keys = err_log.keys()\n",
        "    for k in loop_keys:\n",
        "        pre_idx = err_log[k][\"start_idx\"]\n",
        "        if pre_idx > start:\n",
        "            if conv_word==None:\n",
        "                df.loc[idx, \"errLog\"][k][\"start_idx\"] = pre_idx + (len(word)+1)\n",
        "            else:\n",
        "                if len(conv_word) >= len(word):\n",
        "                    df.loc[idx, \"errLog\"][k][\"start_idx\"] = pre_idx+len(conv_word)-len(word)\n",
        "                else:\n",
        "                    df.loc[idx, \"errLog\"][k][\"start_idx\"] = pre_idx-(len(word)-len(conv_word))\n",
        "\n",
        "def replace_inteli(df, idx, keyword, rword):\n",
        "    errLog = df.loc[idx ,\"errLog\"]\n",
        "    cur_hyp = df.loc[idx, \"curHyp\"]\n",
        "\n",
        "    text_dict=dict()\n",
        "    for k in errLog.keys():\n",
        "        if k==\"omission\": continue\n",
        "        text, sindex = errLog[k][\"text\"], errLog[k][\"start_idx\"]\n",
        "        text_dict[text] = (sindex, sindex+len(text))\n",
        "\n",
        "    reject_range = []\n",
        "    for key in text_dict.keys():\n",
        "        if keyword in key:\n",
        "            reject_range.append(text_dict[key])\n",
        "    try:\n",
        "        for f in re.finditer(keyword, cur_hyp):\n",
        "            start, end = f.start(), f.end()\n",
        "            is_reject = False\n",
        "            for r_s, r_e in reject_range:\n",
        "                if r_s <= start < r_e:\n",
        "                    is_reject=True\n",
        "                elif start <= r_s < r_e <= end:\n",
        "                    is_rejcet=True\n",
        "\n",
        "            if is_reject: continue\n",
        "            while start>=0 and cur_hyp[start]!=\" \":\n",
        "                start-=1\n",
        "            while end<len(cur_hyp) and cur_hyp[end]!=\" \":\n",
        "                end+=1\n",
        "            start += 1\n",
        "\n",
        "            word = cur_hyp[start:end]\n",
        "\n",
        "            if word in text_dict.keys():\n",
        "                start_idx = text_dict[word]\n",
        "                if start==start_idx: continue\n",
        "                break\n",
        "            break\n",
        "    except:\n",
        "        raise print(f\"{keyword} {rword}\\n{cur_hyp}\")\n",
        "\n",
        "    try:\n",
        "        add_word = word.replace(keyword, rword)\n",
        "        conv_sentence = cur_hyp[:start]+add_word+cur_hyp[start+len(word):]\n",
        "        return conv_sentence, start, add_word, word\n",
        "    except:\n",
        "        return None\n",
        "\n",
        "def can_noise(df, i):\n",
        "    cur_hyp = df.loc[i, \"curHyp\"]\n",
        "    errLog = df.loc[i, \"errLog\"]\n",
        "    for k in errLog.keys():\n",
        "        if k==\"omission\": continue\n",
        "        start, text = errLog[k][\"start_idx\"], errLog[k][\"text\"]\n",
        "        end = start+len(text)\n",
        "        cur_hyp = cur_hyp[:start]+(\"ㅱ\"*len(text))+cur_hyp[end:]\n",
        "    return cur_hyp\n",
        "\n",
        "def errors_report(df, rate=False):\n",
        "    sevs = {\"critical\":0, \"major\":1, \"minor\":2, \"neutral\":3}\n",
        "    err_types = {\n",
        "        'omission':[0, 0, 0, 0],\n",
        "        'addition':[0, 0, 0, 0],\n",
        "        'mis-translation':[0, 0, 0, 0],\n",
        "        'over-translation':[0, 0, 0, 0],\n",
        "        'under-translation':[0, 0, 0, 0],\n",
        "        'grammer':[0, 0, 0, 0]\n",
        "        }\n",
        "    for i in df.index:\n",
        "        errors = df.loc[i, \"errors\"]\n",
        "        for d in errors:\n",
        "            err_types[d[\"type\"]][sevs[d[\"severity\"]]]+=1\n",
        "    report_df = pd.DataFrame(err_types, index=sevs.keys())\n",
        "    report_df[\"sum\"] = report_df.apply(np.sum, axis=1)\n",
        "    report_df.loc[\"sum\"] = report_df.apply(np.sum, axis=0)\n",
        "    if rate:\n",
        "        return_df = pd.DataFrame()\n",
        "        for col in report_df.columns:\n",
        "            return_df[col] = report_df[col].apply(lambda x: round((100*x)/report_df.loc[\"sum\", \"sum\"], 2))\n",
        "        return return_df\n",
        "    else:\n",
        "        return report_df\n",
        "\n",
        "def find_errors(df, dindex_dict):\n",
        "    temp = check_memorize(df)\n",
        "    result = dict()\n",
        "    for errType in dindex_dict.keys():\n",
        "        if key==\"omission\": continue\n",
        "        ttp = temp.loc[temp.errLog.apply(lambda i: errType in i)]\n",
        "        result[errType] = ttp.loc[ttp[\"errLog\"].apply(lambda x: x[errType][\"text\"]) != ttp[\"validation\"].apply(lambda y: y[errType])]\n",
        "    return result"
      ]
    },
    {
      "cell_type": "markdown",
      "metadata": {
        "id": "d9CE0grbeF2H"
      },
      "source": [
        "# 2.품사 태깅"
      ]
    },
    {
      "cell_type": "code",
      "execution_count": 42,
      "metadata": {
        "colab": {
          "base_uri": "https://localhost:8080/"
        },
        "id": "jpGSNLUANHMp",
        "outputId": "2110d1a6-0280-4273-972c-4ac58ff3d638"
      },
      "outputs": [
        {
          "output_type": "execute_result",
          "data": {
            "text/plain": [
              "547115    [(사업, NNG, 0, 2), (또는, MAJ, 3, 2), (사업장, NNG, ...\n",
              "547116    [(통상, NNG, 0, 2), (근로자, NNG, 2, 3), (로서, JKB, ...\n",
              "547118    [(「, SSO, 0, 1), (고용보험법, NNP, 1, 5), (」, SSC, ...\n",
              "547119    [(「, SSO, 0, 1), (고용보험법, NNP, 1, 5), (」, SSC, ...\n",
              "547128    [(이, MM, 0, 1), (영, NNG, 2, 1), (에서, JKB, 3, 2...\n",
              "                                ...                        \n",
              "521845    [(이, MM, 0, 1), (법, NNG, 2, 1), (시행, NNG, 4, 2...\n",
              "521846    [(장기, NNG, 0, 2), (요양, NNG, 2, 2), (재, XPN, 4,...\n",
              "521847    [(이, MM, 0, 1), (법, NNG, 2, 1), (시행, NNG, 4, 2...\n",
              "521848    [(장기, NNG, 0, 2), (요양, NNG, 2, 2), (기관, NNG, 4...\n",
              "521849    [(장기, NNG, 0, 2), (요양, NNG, 2, 2), (기관, NNG, 4...\n",
              "Name: KOR, Length: 45092, dtype: object"
            ]
          },
          "metadata": {},
          "execution_count": 42
        }
      ],
      "source": [
        "from kiwipiepy import Kiwi\n",
        "\n",
        "kiwi = Kiwi(num_workers=0, model_type='sbg')\n",
        "kiwi_tokens = df_samp.KOR.apply(lambda x: kiwi.tokenize(x))\n",
        "kiwi_tokens"
      ]
    },
    {
      "cell_type": "code",
      "execution_count": 43,
      "metadata": {
        "colab": {
          "base_uri": "https://localhost:8080/"
        },
        "id": "G9QE7FI-ePhw",
        "outputId": "e504ec19-16b1-4476-c0d5-908cde3784aa"
      },
      "outputs": [
        {
          "output_type": "execute_result",
          "data": {
            "text/plain": [
              "547115    {'NNG': ['사업', '사업장', '이하', '사업', '이전', '사업', ...\n",
              "547116    {'NNG': ['통상', '근로자', '월', '정액', '보수', '지급', '...\n",
              "547118    {'SSO': ['「', '(', '\"'], 'NNP': ['고용보험법'], 'SS...\n",
              "547119    {'SSO': ['「', '(', '\"'], 'NNP': ['고용보험법'], 'SS...\n",
              "547128    {'MM': ['이', '이'], 'NNG': ['영', '규정', '사업', '범...\n",
              "                                ...                        \n",
              "521845    {'MM': ['이'], 'NNG': ['법', '시행', '후', '위원', '임...\n",
              "521846    {'NNG': ['장기', '요양', '심사', '위원회', '위원', '구성', ...\n",
              "521847    {'MM': ['이'], 'NNG': ['법', '시행', '당시', '노인', '...\n",
              "521848    {'NNG': ['장기', '요양', '기관', '지정', '목적', '법', '시...\n",
              "521849    {'NNG': ['장기', '요양', '기관', '지정', '목적', '노인', '...\n",
              "Name: KOR, Length: 45092, dtype: object"
            ]
          },
          "metadata": {},
          "execution_count": 43
        }
      ],
      "source": [
        "count_tokens = kiwi_tokens.apply(count_tag)\n",
        "count_tokens"
      ]
    },
    {
      "cell_type": "code",
      "execution_count": null,
      "metadata": {
        "colab": {
          "base_uri": "https://localhost:8080/"
        },
        "id": "p1ZWuJumeRq8",
        "outputId": "54bf313b-0721-4e4e-ba30-afc2bc46f087"
      },
      "outputs": [
        {
          "data": {
            "text/plain": [
              "5261"
            ]
          },
          "execution_count": 13,
          "metadata": {},
          "output_type": "execute_result"
        }
      ],
      "source": [
        "# nng_dict = dict()\n",
        "# for tokens in count_tokens.apply(lambda x: x[\"NNG\"]):\n",
        "#     for t in tokens:\n",
        "#         try:\n",
        "#             nng_dict[t] += 1\n",
        "#         except:\n",
        "#             nng_dict[t] = 1\n",
        "# len(nng_dict.keys())"
      ]
    },
    {
      "cell_type": "code",
      "execution_count": 45,
      "metadata": {
        "id": "4zeduWTX3JGb",
        "outputId": "fbb4e2cb-96b9-49dd-d674-d111f831c0ab",
        "colab": {
          "base_uri": "https://localhost:8080/",
          "height": 49,
          "referenced_widgets": [
            "cd2e0361d1734322a4239792fb2833d0",
            "afd4ae012910456f98e4dbb87f838a59",
            "93b17a6ad6f74c9daa625921ab855698",
            "412f247d09ea40d4b37c498deab29611",
            "539cb9995c514688996c0b8f934dae56",
            "8827216a86bd418d807ebb3da37833e7",
            "8ff8e9355ac542bb8fcb3092ce5bf7e2",
            "59288257cc9e498eb197528cb378192c",
            "5a44f21694e741ddb411ee46f5ec7be0",
            "1bc5e2267d9e4715a6cc2576b5de1cf5",
            "110c9058237a48229c53e5eac319220c"
          ]
        }
      },
      "outputs": [
        {
          "output_type": "display_data",
          "data": {
            "text/plain": [
              "  0%|          | 0/45092 [00:00<?, ?it/s]"
            ],
            "application/vnd.jupyter.widget-view+json": {
              "version_major": 2,
              "version_minor": 0,
              "model_id": "cd2e0361d1734322a4239792fb2833d0"
            }
          },
          "metadata": {}
        }
      ],
      "source": [
        "from tqdm.notebook import tqdm\n",
        "\n",
        "nouns_set = set()\n",
        "for tokens in tqdm(count_tokens):\n",
        "    for key in tokens.keys():\n",
        "        if key==\"NNG\":\n",
        "            nouns_set = nouns_set.union(set(tokens[key]))\n",
        "            break\n",
        "nouns = list(nouns_set)"
      ]
    },
    {
      "cell_type": "markdown",
      "metadata": {
        "id": "zjsme1DLeVOk"
      },
      "source": [
        "# 3.Error 생성"
      ]
    },
    {
      "cell_type": "code",
      "execution_count": 46,
      "metadata": {
        "id": "0UK0OXjXxyuS"
      },
      "outputs": [],
      "source": [
        "dindex_dict = {\"omission\":[], \"addition\":[], \"mis-translation\":[], \"over-translation\":[], \"under-translation\":[], \"grammer\": []}"
      ]
    },
    {
      "cell_type": "markdown",
      "metadata": {
        "id": "EIyuK-l2CEq3"
      },
      "source": [
        "## Omission"
      ]
    },
    {
      "cell_type": "markdown",
      "metadata": {
        "id": "ud9JeVcNCEq3"
      },
      "source": [
        "### Omission - Critical"
      ]
    },
    {
      "cell_type": "code",
      "execution_count": 47,
      "metadata": {
        "id": "8QBZ-5rACEq3"
      },
      "outputs": [],
      "source": [
        "cr_om_index = random_index(df_samp.curHyp, 0.02, 10)\n",
        "# df_samp.loc[cr_om_index]"
      ]
    },
    {
      "cell_type": "code",
      "execution_count": 49,
      "metadata": {
        "id": "c-JMkl5WCEq3"
      },
      "outputs": [],
      "source": [
        "# -- Omission : Critical\n",
        "def critical_omission(df, ratio, seed):\n",
        "    df_t = copy_df(df)\n",
        "    cr_om_index = random_index(df_t.curHyp, ratio, seed)\n",
        "    dindex_dict[\"omission\"]+=list(cr_om_index)\n",
        "    result = df_t.loc[cr_om_index]\n",
        "    random_ratio = [3/5, 2/3, 5/8, 5/7]\n",
        "    np.random.seed(seed)\n",
        "    split_sentences = result.curHyp.apply(lambda x: x.split(\" \"))\n",
        "    len_element = split_sentences.apply(len)\n",
        "    crop_element = len_element.apply(lambda x: int(x*(np.random.choice(random_ratio, 1))))\n",
        "    start_idx = (len_element-crop_element).apply(lambda x: np.random.choice([i for i in range(x)], 1)[0])\n",
        "    end_idx = start_idx+crop_element\n",
        "\n",
        "    for i in cr_om_index:\n",
        "        reduce_sentence = (\" \".join([split_sentences[i][k] for k in range(start_idx[i], end_idx[i]+1)])).strip()\n",
        "        cur_hyp = result.loc[i, \"curHyp\"]\n",
        "        sidx = cur_hyp.find(reduce_sentence)\n",
        "\n",
        "        conv_hyp = \" \".join([split_sentences[i][j] for j in range(len_element[i]) if (start_idx[i] > j) or (end_idx[i] < j)])\n",
        "        result.loc[i, \"curHyp\"] = conv_hyp\n",
        "        input_errors(result, i, \"critical\", sidx, reduce_sentence, \"omission\")\n",
        "        result.loc[i, \"errLog\"][\"omission\"] = {\"start_idx\": sidx, \"text\": reduce_sentence}\n",
        "\n",
        "    del split_sentences, len_element, crop_element, start_idx, end_idx\n",
        "    return convert_df(df, result)\n",
        "\n",
        "df_crom = critical_omission(df_samp, 0.02, 10)"
      ]
    },
    {
      "cell_type": "code",
      "execution_count": 50,
      "metadata": {
        "colab": {
          "base_uri": "https://localhost:8080/"
        },
        "id": "v4nlokvECEq3",
        "outputId": "090be7d2-511f-4458-ee8b-793e5c780b89"
      },
      "outputs": [
        {
          "output_type": "execute_result",
          "data": {
            "text/plain": [
              "(901, 7)"
            ]
          },
          "metadata": {},
          "execution_count": 50
        }
      ],
      "source": [
        "df_crom.loc[cr_om_index].shape"
      ]
    },
    {
      "cell_type": "code",
      "execution_count": null,
      "metadata": {
        "id": "MM3HL4elrdIk"
      },
      "outputs": [],
      "source": [
        "# df_crom.loc[cr_om_index]"
      ]
    },
    {
      "cell_type": "code",
      "execution_count": 51,
      "metadata": {
        "colab": {
          "base_uri": "https://localhost:8080/"
        },
        "id": "67_skuDfwsSY",
        "outputId": "b8c89548-5bfd-48cd-a614-96ecf6f4f242"
      },
      "outputs": [
        {
          "output_type": "stream",
          "name": "stdout",
          "text": [
            "\t  omission: 901\t901\n",
            "\t  addition: 0\t0\n",
            "\t  mis-translation: 0\t0\n",
            "\t  over-translation: 0\t0\n",
            "\t  under-translation: 0\t0\n",
            "\t  grammer: 0\t0\n"
          ]
        }
      ],
      "source": [
        "check_idx(df_crom)"
      ]
    },
    {
      "cell_type": "markdown",
      "metadata": {
        "id": "gyctilT50cBP"
      },
      "source": [
        "### Omission - Major"
      ]
    },
    {
      "cell_type": "code",
      "execution_count": 53,
      "metadata": {
        "id": "eeZW2MXhtUsV"
      },
      "outputs": [],
      "source": [
        "tag = \"NNP\"\n",
        "np.random.seed(20)\n",
        "nnp_info = kiwi_tokens.apply(lambda x: find_tokens(x, tag)).drop(index=dindex_dict[\"omission\"], axis=0)\n",
        "np.random.seed(20)\n",
        "change_val = nnp_info[nnp_info.apply(len) > 0].apply(lambda x: x[np.random.choice(len(x), 1)[0]])\n",
        "ch6 = change_val[change_val.apply(lambda x: len(x[0])) > 3]\n",
        "chv_index = random_index(ch6, 0.65, 20)"
      ]
    },
    {
      "cell_type": "code",
      "execution_count": 56,
      "metadata": {
        "id": "_WPZzdzD0XYO"
      },
      "outputs": [],
      "source": [
        "# -- Omission : Major\n",
        "def major_omission(df_local, ratio, seed, tag, slen, kiwi_tokens):\n",
        "    df_t = copy_df(df_local)\n",
        "    np.random.seed(seed)\n",
        "    nnp_info = kiwi_tokens.apply(lambda x: find_tokens(x, tag)).drop(index=dindex_dict[\"omission\"], axis=0)\n",
        "    np.random.seed(seed)\n",
        "    change_val = nnp_info[nnp_info.apply(len) > 0].apply(lambda x: x[np.random.choice(len(x), 1)[0]])\n",
        "    ch6 = change_val[change_val.apply(lambda x: len(x[0])) > slen]\n",
        "    chv_index = random_index(ch6, ratio, seed)\n",
        "    # drop_idx = ch6.loc[ch6.apply(lambda x: len(x[0].split(\"·\")))>1].index.to_list()\n",
        "    ch_srs = ch6.loc[chv_index]\n",
        "    result = df_t.loc[chv_index]\n",
        "\n",
        "    for i in chv_index:\n",
        "        del_word, start, end = ch_srs.loc[i]\n",
        "        cur_hyp = result.loc[i, \"curHyp\"]\n",
        "\n",
        "        forward = cur_hyp[:start]\n",
        "        backward = cur_hyp[start:]\n",
        "        split_back = backward.split(\" \")\n",
        "        del_unit = split_back[0]\n",
        "        back_mod = \" \".join(split_back[1:])\n",
        "\n",
        "        try:\n",
        "            if start==0:\n",
        "                conv_hyp = (forward+back_mod).strip(\" \")\n",
        "            elif cur_hyp[start-1] == '\"' or cur_hyp[start-1]=='「' or cur_hyp[end]==\"」\" or cur_hyp[end]=='\\\"' :\n",
        "                pattern = f'\\\"[^\\\"]*{del_word}[^\\\"]*\\\"|「[^」]*{del_word}[^」]*」'\n",
        "                find_comp = re.compile(pattern)\n",
        "                find_res = find_comp.search(cur_hyp)\n",
        "                start, end = find_res.span()\n",
        "                while cur_hyp[end]!=\" \" and  end<len(cur_hyp):\n",
        "                    end+=1\n",
        "                while cur_hyp[start]!=\" \" and start>=0:\n",
        "                    start-=1\n",
        "                start+=1\n",
        "                del_unit = cur_hyp[start:end]\n",
        "                conv_hyp = (cur_hyp[:start].strip()+\" \"+cur_hyp[end:].strip()).strip()\n",
        "            elif \"(\" in del_unit:\n",
        "                pattern = f'{del_word}[^\\)]+\\)'\n",
        "                find_comp = re.compile(pattern)\n",
        "                find_res = find_comp.search(cur_hyp)\n",
        "                start, end = find_res.span()\n",
        "                while cur_hyp[end]!=\" \" and  end<len(cur_hyp):\n",
        "                    end+=1\n",
        "                while cur_hyp[start]!=\" \" and start>=0:\n",
        "                    start-=1\n",
        "                start+=1\n",
        "                del_unit = cur_hyp[start:end]\n",
        "                conv_hyp = (cur_hyp[:start].strip()+\" \"+cur_hyp[end:].strip()).strip()\n",
        "            else:\n",
        "                conv_hyp = (forward+back_mod).strip(\" \")\n",
        "            dindex_dict[\"omission\"]+=[i]\n",
        "            result.loc[i, \"curHyp\"] = conv_hyp\n",
        "            input_errors(result, i, \"major\", start, del_unit, \"omission\")\n",
        "            result.loc[i, \"errLog\"][\"omission\"] = {\"start_idx\": start, \"text\": del_unit}\n",
        "        except:\n",
        "            pass\n",
        "    return convert_df(df_local, result)\n",
        "\n",
        "df_maom = major_omission(df_crom, 0.65, 20, \"NNP\", 3, kiwi_tokens)\n",
        "# df_mo = major_omission(df_maom, 36, \"NNG\", 2, 0.55)"
      ]
    },
    {
      "cell_type": "code",
      "execution_count": 57,
      "metadata": {
        "colab": {
          "base_uri": "https://localhost:8080/"
        },
        "id": "xK17uCFS0XYP",
        "outputId": "053af595-b45e-4804-9d5d-894b49f03ba3"
      },
      "outputs": [
        {
          "output_type": "execute_result",
          "data": {
            "text/plain": [
              "3977"
            ]
          },
          "metadata": {},
          "execution_count": 57
        }
      ],
      "source": [
        "df_maom.loc[df_maom.errors.apply(len)==1].shape[0]"
      ]
    },
    {
      "cell_type": "code",
      "execution_count": null,
      "metadata": {
        "id": "5dEN4FtwwxT9"
      },
      "outputs": [],
      "source": [
        "# df_maom.loc[df_maom.errors.apply(len)==1]"
      ]
    },
    {
      "cell_type": "code",
      "execution_count": 58,
      "metadata": {
        "colab": {
          "base_uri": "https://localhost:8080/"
        },
        "id": "cAFpZuxFxe0E",
        "outputId": "e253ce9a-5384-4b14-990e-827d510123d2"
      },
      "outputs": [
        {
          "output_type": "stream",
          "name": "stdout",
          "text": [
            "\t  omission: 3977\t3977\n",
            "\t  addition: 0\t0\n",
            "\t  mis-translation: 0\t0\n",
            "\t  over-translation: 0\t0\n",
            "\t  under-translation: 0\t0\n",
            "\t  grammer: 0\t0\n"
          ]
        }
      ],
      "source": [
        "check_idx(df_maom)"
      ]
    },
    {
      "cell_type": "code",
      "execution_count": 59,
      "metadata": {
        "id": "juB8-R5f4-Rv"
      },
      "outputs": [],
      "source": [
        "df_mo = major_omission(df_maom, 0.55, 36, \"NNG\", 2, kiwi_tokens)"
      ]
    },
    {
      "cell_type": "code",
      "execution_count": 60,
      "metadata": {
        "colab": {
          "base_uri": "https://localhost:8080/"
        },
        "id": "I_L4neB8zfEJ",
        "outputId": "eb15fc97-d276-45ad-fde9-e128153e39cd"
      },
      "outputs": [
        {
          "output_type": "stream",
          "name": "stdout",
          "text": [
            "\t  omission: 6359\t6359\n",
            "\t  addition: 0\t0\n",
            "\t  mis-translation: 0\t0\n",
            "\t  over-translation: 0\t0\n",
            "\t  under-translation: 0\t0\n",
            "\t  grammer: 0\t0\n"
          ]
        }
      ],
      "source": [
        "check_idx(df_mo)"
      ]
    },
    {
      "cell_type": "code",
      "execution_count": null,
      "metadata": {
        "id": "vdh_F4ZpvWq3"
      },
      "outputs": [],
      "source": [
        "# df_mo.loc[df_mo.errors.apply(len)==1]"
      ]
    },
    {
      "cell_type": "markdown",
      "metadata": {
        "id": "52H2DVr8DGAD"
      },
      "source": [
        "### Omission - Neutral"
      ]
    },
    {
      "cell_type": "code",
      "execution_count": 61,
      "metadata": {
        "colab": {
          "base_uri": "https://localhost:8080/"
        },
        "id": "Ei1FhEO8Fqjg",
        "outputId": "7a6388a2-f98a-45ee-b088-2bc56982249c"
      },
      "outputs": [
        {
          "output_type": "execute_result",
          "data": {
            "text/plain": [
              "['.', ':', ';']"
            ]
          },
          "metadata": {},
          "execution_count": 61
        }
      ],
      "source": [
        "sp_list = [\".\", \";\", \":\"]\n",
        "np.random.shuffle(sp_list)\n",
        "sp_list"
      ]
    },
    {
      "cell_type": "code",
      "execution_count": 62,
      "metadata": {
        "colab": {
          "base_uri": "https://localhost:8080/",
          "height": 34
        },
        "id": "VHlhWbmKGdsr",
        "outputId": "7f33ee7e-c966-4a12-fb4b-921ad0b19101"
      },
      "outputs": [
        {
          "output_type": "execute_result",
          "data": {
            "text/plain": [
              "'안녕하세요; 반갑습니다'"
            ],
            "application/vnd.google.colaboratory.intrinsic+json": {
              "type": "string"
            }
          },
          "metadata": {},
          "execution_count": 62
        }
      ],
      "source": [
        "test = \"안녕하세요; 반갑습니다.\"\n",
        "a = test.find(\".\")\n",
        "test[:a] + test[a+1:]"
      ]
    },
    {
      "cell_type": "code",
      "execution_count": 63,
      "metadata": {
        "id": "fuNlXo5MDKPw"
      },
      "outputs": [],
      "source": [
        "def omission_nt(df, ratio, seed):\n",
        "    df_t = copy_df(df)\n",
        "    np.random.seed(seed)\n",
        "    on_index = random_index(df_t.drop(index=dindex_dict[\"omission\"]), ratio, seed)\n",
        "    on_index = df_t.loc[on_index][df_t.loc[on_index].curHyp.str.contains(r\"\\.|\\;|\\:\")].index\n",
        "    result = df_t.loc[on_index]\n",
        "\n",
        "    sp_list = [\".\", \";\", \":\"]\n",
        "    for i in on_index:\n",
        "        np.random.shuffle(sp_list)\n",
        "        for s in sp_list:\n",
        "            cur_hyp = result.loc[i, \"curHyp\"]\n",
        "            s_loc = cur_hyp.find(s)\n",
        "            if s_loc==-1:\n",
        "                continue\n",
        "            break\n",
        "        conv_hyp = cur_hyp[:s_loc]+cur_hyp[s_loc+1:]\n",
        "        result.loc[i, \"curHyp\"] = conv_hyp\n",
        "        input_errors(result, i, \"neutral\", s_loc, s, \"omission\")\n",
        "        result.loc[i, \"errLog\"][\"omission\"] = {\"start_idx\": s_loc, \"text\": s}\n",
        "        dindex_dict[\"omission\"].append(i)\n",
        "\n",
        "    return convert_df(df, result)\n",
        "\n",
        "df_on = omission_nt(df_mo, 0.01, 111)"
      ]
    },
    {
      "cell_type": "code",
      "execution_count": null,
      "metadata": {
        "id": "d-aXz7lcH89O"
      },
      "outputs": [],
      "source": [
        "# df_on.loc[df_on.errors.apply(lambda x: x[0][\"severity\"]==\"neutral\" if len(x)!=0 else False)]"
      ]
    },
    {
      "cell_type": "code",
      "execution_count": 64,
      "metadata": {
        "colab": {
          "base_uri": "https://localhost:8080/"
        },
        "id": "83kjVALDwP5K",
        "outputId": "51d8eec0-274a-49a0-8b5c-ac4bbae1bce1"
      },
      "outputs": [
        {
          "output_type": "stream",
          "name": "stdout",
          "text": [
            "\t  omission: 6686\t6686\n",
            "\t  addition: 0\t0\n",
            "\t  mis-translation: 0\t0\n",
            "\t  over-translation: 0\t0\n",
            "\t  under-translation: 0\t0\n",
            "\t  grammer: 0\t0\n"
          ]
        }
      ],
      "source": [
        "check_idx(df_on)"
      ]
    },
    {
      "cell_type": "markdown",
      "metadata": {
        "id": "FixBGthYwUkw"
      },
      "source": [
        "## Addition"
      ]
    },
    {
      "cell_type": "code",
      "source": [
        "dindex_dict[\"addition\"] = []"
      ],
      "metadata": {
        "id": "he8gLmksK77O"
      },
      "execution_count": 180,
      "outputs": []
    },
    {
      "cell_type": "markdown",
      "metadata": {
        "id": "wpSwjmIIIKGv"
      },
      "source": [
        "###Addition-Major"
      ]
    },
    {
      "cell_type": "code",
      "execution_count": 181,
      "metadata": {
        "id": "GDrnrpGegLoe"
      },
      "outputs": [],
      "source": [
        "ma_ad_index = random_index(df_on, 0.22, 55)\n",
        "nouns_lists = count_tokens[ma_ad_index].apply(lambda x: x[\"NNG\"])\n",
        "nnpg_info = count_tokens[ma_ad_index].apply(lambda x: [val for val in list(set(x[\"NNG\"])) if len(val)>1])\n",
        "drop_index = nnpg_info[nnpg_info.apply(len) == 0].index.to_list()\n",
        "nnpg_info.drop(index=drop_index, axis=0, inplace=True)\n",
        "maad_index = list(set(ma_ad_index)-set(drop_index))"
      ]
    },
    {
      "cell_type": "code",
      "execution_count": 182,
      "metadata": {
        "id": "7SpEWBAyTDda"
      },
      "outputs": [],
      "source": [
        "## Addition : Major\n",
        "def major_addition(df, ratio, seed, count_tokens, nouns):\n",
        "    np.random.seed(seed)\n",
        "    df_t=copy_df(df)\n",
        "\n",
        "    ma_ad_index = random_index(df_t, ratio, seed)\n",
        "    nouns_lists = count_tokens[ma_ad_index].apply(lambda x: x[\"NNG\"])\n",
        "    nnpg_info = count_tokens[ma_ad_index].apply(lambda x: [val for val in list(set(x[\"NNG\"])) if len(val)>1])\n",
        "    drop_index = nnpg_info[nnpg_info.apply(len) == 0].index.to_list()\n",
        "    nnpg_info.drop(index=drop_index, axis=0, inplace=True)\n",
        "    ma_ad_index = list(set(ma_ad_index)-set(drop_index))\n",
        "    np.random.seed(seed)\n",
        "    add_position = nnpg_info.apply(lambda x: x[np.random.choice(range(0, len(x)))])\n",
        "    np.random.seed(seed)\n",
        "    add_words = nouns_lists.apply(lambda x: np.random.choice(list(set(nouns)-set(x))))\n",
        "    result = df_t.loc[ma_ad_index]\n",
        "\n",
        "\n",
        "    josa_list = [\"의\", \"에 의한\", \"에\", \"만\", \"만의\"]\n",
        "    for i in ma_ad_index:\n",
        "        cur_hyp = df.loc[i, \"curHyp\"]\n",
        "        josa_add = np.random.choice(josa_list)\n",
        "        word = add_position[i]\n",
        "        start = cur_hyp.find(word)\n",
        "        if word not in cur_hyp:\n",
        "            continue\n",
        "        add_word = add_words[i]+josa_add\n",
        "        while start>=0 and cur_hyp[start]!=\" \":\n",
        "            start-=1\n",
        "        if start < 0:\n",
        "            conv_hyp = f\"{add_word}\"+\" \"+cur_hyp[start+1:].strip()\n",
        "        else:\n",
        "            conv_hyp = cur_hyp[:start+1].strip()+\" \"+f\"{add_word}\"+\" \"+cur_hyp[start+1:].strip()\n",
        "        result.loc[i, \"curHyp\"] = conv_hyp\n",
        "        input_errors(result, i, \"major\", start+1, add_word, \"addition\")\n",
        "\n",
        "        move_index(result, i, start+1, add_word)\n",
        "        result.loc[i, \"errLog\"][\"addition\"] = {\"start_idx\": (start+1), \"text\": add_word}\n",
        "        dindex_dict[\"addition\"].append(i)\n",
        "\n",
        "    return convert_df(df, result)"
      ]
    },
    {
      "cell_type": "code",
      "execution_count": 183,
      "metadata": {
        "id": "xF4Q0WgCKNOT"
      },
      "outputs": [],
      "source": [
        "# temp = check_memorize(df_maad.loc[maad_index])\n",
        "# ttp = temp.loc[temp.errLog.apply(lambda i: \"addition\" in i)]\n",
        "# ttp.loc[ttp[\"errLog\"].apply(lambda x: x[\"addition\"][\"text\"]) != ttp[\"validation\"].apply(lambda y: y[\"addition\"])]"
      ]
    },
    {
      "cell_type": "code",
      "execution_count": 184,
      "metadata": {
        "colab": {
          "base_uri": "https://localhost:8080/"
        },
        "id": "W5j1-GUHniFA",
        "outputId": "bba17603-7d4f-4018-b7b9-eb2b74c69e38"
      },
      "outputs": [
        {
          "output_type": "stream",
          "name": "stdout",
          "text": [
            "\t  omission: 6686\t6686\n",
            "\t  addition: 9718\t9718\n",
            "\t  mis-translation: 2763\t0\n",
            "\t  over-translation: 0\t0\n",
            "\t  under-translation: 0\t0\n",
            "\t  grammer: 0\t0\n"
          ]
        }
      ],
      "source": [
        "df_maad = major_addition(df_on, 0.22, 55, count_tokens, nouns)\n",
        "check_idx(df_maad)"
      ]
    },
    {
      "cell_type": "markdown",
      "metadata": {
        "id": "fL4VA2o1JcEc"
      },
      "source": [
        "### Addition-Minor"
      ]
    },
    {
      "cell_type": "code",
      "execution_count": 185,
      "metadata": {
        "id": "ppIaC3ftgGJS"
      },
      "outputs": [],
      "source": [
        "amindex = random_index(df_maad.drop(index=dindex_dict[\"addition\"]), 0.2, 234)"
      ]
    },
    {
      "cell_type": "code",
      "execution_count": 186,
      "metadata": {
        "id": "UXrsrECTJf9u"
      },
      "outputs": [],
      "source": [
        "## -- Addition : Minor\n",
        "def ma_iter(df, ratio, seed):\n",
        "    df_t = copy_df(df)\n",
        "    np.random.seed(seed)\n",
        "    am_index = random_index(df_t.drop(index=dindex_dict[\"addition\"]), ratio, seed)\n",
        "    result = df_t.loc[am_index]\n",
        "\n",
        "    for i in am_index:\n",
        "        cur_hyp = result.loc[i, \"curHyp\"]\n",
        "        sch = cur_hyp.split(\" \")\n",
        "        sch_idx = [i for i in range(len(sch))]\n",
        "        np.random.shuffle(sch_idx)\n",
        "        is_possible = False\n",
        "        for rand_idx in sch_idx:\n",
        "            random_dup = sch[rand_idx]\n",
        "            conv_hyp=\" \".join(sch[:rand_idx] + [random_dup] +sch[rand_idx:])\n",
        "            if rand_idx==0:\n",
        "                start = 0\n",
        "            else:\n",
        "                start = len(\" \".join(sch[:rand_idx]))+1\n",
        "            sps_dup = re.sub(r\"[^ㄱ-ㅎ가-힣]\", \"\", random_dup)\n",
        "            if len(sps_dup) == len(random_dup):\n",
        "                is_possible=True\n",
        "                break\n",
        "        if not is_possible:\n",
        "            continue\n",
        "        result.loc[i, \"curHyp\"] = conv_hyp\n",
        "        input_errors(result, i, \"minor\", start, random_dup, \"addition\")\n",
        "\n",
        "        move_index(result, i, start, random_dup)\n",
        "        result.loc[i, \"errLog\"][\"addition\"] = {\"start_idx\": start, \"text\": random_dup}\n",
        "        dindex_dict[\"addition\"].append(i)\n",
        "\n",
        "    return convert_df(df, result)"
      ]
    },
    {
      "cell_type": "code",
      "execution_count": 187,
      "metadata": {
        "colab": {
          "base_uri": "https://localhost:8080/"
        },
        "id": "gxbNseRDz2N9",
        "outputId": "f374af4f-2fee-4092-b367-9d155762aa63"
      },
      "outputs": [
        {
          "output_type": "stream",
          "name": "stdout",
          "text": [
            "\t  omission: 6686\t6686\n",
            "\t  addition: 16788\t16788\n",
            "\t  mis-translation: 2763\t0\n",
            "\t  over-translation: 0\t0\n",
            "\t  under-translation: 0\t0\n",
            "\t  grammer: 0\t0\n"
          ]
        }
      ],
      "source": [
        "df_miter = ma_iter(df_maad, 0.2, 234)\n",
        "check_idx(df_miter)"
      ]
    },
    {
      "cell_type": "code",
      "source": [
        "# df_miter.loc[df_miter.errLog.apply(lambda x: \"omission\" in x.keys()) & df_miter.errLog.apply(lambda x: \"addition\" in x.keys())]"
      ],
      "metadata": {
        "id": "oaYHYMEF8NXa"
      },
      "execution_count": 80,
      "outputs": []
    },
    {
      "cell_type": "markdown",
      "metadata": {
        "id": "gdiSv2UYwfkF"
      },
      "source": [
        "## Mis-Translation"
      ]
    },
    {
      "cell_type": "code",
      "execution_count": 270,
      "metadata": {
        "id": "4_5iLjnBh3sa"
      },
      "outputs": [],
      "source": [
        "dindex_dict[\"mis-translation\"] = []"
      ]
    },
    {
      "cell_type": "markdown",
      "metadata": {
        "id": "5O8XNfgj2kcJ"
      },
      "source": [
        "### MT - Minor"
      ]
    },
    {
      "cell_type": "code",
      "execution_count": null,
      "metadata": {
        "colab": {
          "base_uri": "https://localhost:8080/"
        },
        "id": "q06ChmwNaO54",
        "outputId": "1350cad4-cc7e-4940-af05-9242fe55f6fa"
      },
      "outputs": [
        {
          "data": {
            "text/plain": [
              "547115    사업 또는 사업장(이하 \"사업\"이라 한다)의 ㅱㅱㅱ 이전 등으로 사업의 소재지를 파...\n",
              "547116    통상근로자로서 월정액으로 ㅱㅱㅱ 보수를 지급받는 근로자에게는 월단위 기준보수를 적용한다.\n",
              "547118    「고용보험법」 제77조의2제1항에 따른 예술인(이하 \"예술인\"이라 한다)에게는 월단...\n",
              "547119    제77조의6제1항에 따른 노무제공자(이하 \"노무제공자\"라 한다)에게는 ㅱㅱㅱ 월단위...\n",
              "547128    이 영에서 규정된 사업의 범위에 관하여 이 영에 특별한 규정이 없으면 「통계법」 제...\n",
              "                                ...                        \n",
              "521845    이 법 시행 후 ㅱㅱㅱ 위원을 임명 또는 위촉할 당시 제56조제3항 후단의 개정규정...\n",
              "521846    장기요양재심사위원회의 위원 구성에 관하여는 제1항에 따라 제56조제3항 후단의 개정...\n",
              "521847    이 법 시행 당시 「노인장기요양보험법 시행규칙」 제23조에 따라 장기요양기관 지정신...\n",
              "521848    장기요양기관으로 지정받을 목적으로 이 법 시행 당시 「노인복지법」 제35조제2항에 ...\n",
              "521849    장기요양기관으로 지정받을 목적으로 「노인복지법」에 따른 노인의료복지시설 또는 재가노...\n",
              "Length: 45092, dtype: object"
            ]
          },
          "execution_count": 250,
          "metadata": {},
          "output_type": "execute_result"
        }
      ],
      "source": [
        "te_drop = df_miter.drop(index=dindex_dict[\"mis-translation\"])\n",
        "transHyp = pd.Series(te_drop.index.map(lambda x: can_noise(te_drop, x)), index=te_drop.index)\n",
        "transHyp"
      ]
    },
    {
      "cell_type": "code",
      "execution_count": null,
      "metadata": {
        "id": "t7V4Jv9TfuqH"
      },
      "outputs": [],
      "source": [
        "te_drop = df_miter.drop(index=dindex_dict[\"mis-translation\"])\n",
        "transHyp = pd.Series(te_drop.index.map(lambda x: can_noise(te_drop, x)), index=te_drop.index)\n",
        "temp = te_drop.loc[transHyp.str.contains(r'하여야 한다')]\n",
        "can_idx = random_index(temp, 0.3, 789)"
      ]
    },
    {
      "cell_type": "code",
      "execution_count": 271,
      "metadata": {
        "id": "eGef5RgVU8Fa"
      },
      "outputs": [],
      "source": [
        "## Mis-Translation : Minor\n",
        "def hv_mistrans(df, ratio, seed):\n",
        "    df_t = copy_df(df)\n",
        "    te_drop = df_t.drop(index=dindex_dict[\"mis-translation\"])\n",
        "    transHyp = pd.Series(te_drop.index.map(lambda x: can_noise(te_drop, x)), index=te_drop.index)\n",
        "    temp = te_drop.loc[transHyp.str.contains(r'하여야 한다')]\n",
        "    can_index = random_index(temp, ratio, seed)\n",
        "    result = te_drop.loc[can_index]\n",
        "    ch_words = ['해야만 한다', '해야 할 것이다']\n",
        "\n",
        "    for i in can_index:\n",
        "        np.random.shuffle(ch_words)\n",
        "        ch_word = ch_words[0]\n",
        "        cur_hyp = result.loc[i, \"curHyp\"]\n",
        "        start = cur_hyp.find('하여야 한다')\n",
        "        conv_hyp = cur_hyp[:start] + ch_word + cur_hyp[start+6:]\n",
        "\n",
        "        result.loc[i, 'curHyp'] = conv_hyp\n",
        "        input_errors(result, i, 'minor', start, ch_word, 'mis-translation')\n",
        "\n",
        "        move_index(result, i, start, \"하여야 한다\", ch_word)\n",
        "        result.loc[i, \"errLog\"][\"mis-translation\"] = {\"start_idx\": start, \"text\": ch_word}\n",
        "        dindex_dict[\"mis-translation\"].append(i)\n",
        "    return convert_df(df, result)\n"
      ]
    },
    {
      "cell_type": "code",
      "execution_count": 272,
      "metadata": {
        "id": "MkcFFdQzvfPJ"
      },
      "outputs": [],
      "source": [
        "# temp = check_memorize(df_can.loc[can_idx])\n",
        "# temp\n",
        "# ttp = temp.loc[temp.errLog.apply(lambda i: \"mis-translation\" in i)]\n",
        "# ttp.loc[ttp[\"errLog\"].apply(lambda x: x[\"mis-translation\"][\"text\"]) != ttp[\"validation\"].apply(lambda y: y[\"mis-translation\"])]"
      ]
    },
    {
      "cell_type": "code",
      "execution_count": 273,
      "metadata": {
        "colab": {
          "base_uri": "https://localhost:8080/"
        },
        "id": "cA5eaReufXCP",
        "outputId": "a36df8b4-254d-4e6a-9edb-a9011b1bb08e"
      },
      "outputs": [
        {
          "output_type": "stream",
          "name": "stdout",
          "text": [
            "\t  omission: 6686\t6686\n",
            "\t  addition: 16788\t16788\n",
            "\t  mis-translation: 2763\t2763\n",
            "\t  over-translation: 17078\t0\n",
            "\t  under-translation: 3944\t0\n",
            "\t  grammer: 0\t0\n"
          ]
        }
      ],
      "source": [
        "df_can = hv_mistrans(df_miter, 0.3, 789)\n",
        "check_idx(df_can)"
      ]
    },
    {
      "cell_type": "code",
      "execution_count": 228,
      "metadata": {
        "colab": {
          "base_uri": "https://localhost:8080/",
          "height": 53
        },
        "id": "rpVBW7HQcy8M",
        "outputId": "9aa1d38f-2d8d-4706-f138-81e2a9324d8f"
      },
      "outputs": [
        {
          "output_type": "execute_result",
          "data": {
            "text/plain": [
              "Empty DataFrame\n",
              "Columns: [curHyp, errLog, validation]\n",
              "Index: []"
            ],
            "text/html": [
              "\n",
              "  <div id=\"df-f84b2ac5-be5c-4a90-a3a4-70dd8f2765ec\" class=\"colab-df-container\">\n",
              "    <div>\n",
              "<style scoped>\n",
              "    .dataframe tbody tr th:only-of-type {\n",
              "        vertical-align: middle;\n",
              "    }\n",
              "\n",
              "    .dataframe tbody tr th {\n",
              "        vertical-align: top;\n",
              "    }\n",
              "\n",
              "    .dataframe thead th {\n",
              "        text-align: right;\n",
              "    }\n",
              "</style>\n",
              "<table border=\"1\" class=\"dataframe\">\n",
              "  <thead>\n",
              "    <tr style=\"text-align: right;\">\n",
              "      <th></th>\n",
              "      <th>curHyp</th>\n",
              "      <th>errLog</th>\n",
              "      <th>validation</th>\n",
              "    </tr>\n",
              "  </thead>\n",
              "  <tbody>\n",
              "  </tbody>\n",
              "</table>\n",
              "</div>\n",
              "    <div class=\"colab-df-buttons\">\n",
              "\n",
              "  <div class=\"colab-df-container\">\n",
              "    <button class=\"colab-df-convert\" onclick=\"convertToInteractive('df-f84b2ac5-be5c-4a90-a3a4-70dd8f2765ec')\"\n",
              "            title=\"Convert this dataframe to an interactive table.\"\n",
              "            style=\"display:none;\">\n",
              "\n",
              "  <svg xmlns=\"http://www.w3.org/2000/svg\" height=\"24px\" viewBox=\"0 -960 960 960\">\n",
              "    <path d=\"M120-120v-720h720v720H120Zm60-500h600v-160H180v160Zm220 220h160v-160H400v160Zm0 220h160v-160H400v160ZM180-400h160v-160H180v160Zm440 0h160v-160H620v160ZM180-180h160v-160H180v160Zm440 0h160v-160H620v160Z\"/>\n",
              "  </svg>\n",
              "    </button>\n",
              "\n",
              "  <style>\n",
              "    .colab-df-container {\n",
              "      display:flex;\n",
              "      gap: 12px;\n",
              "    }\n",
              "\n",
              "    .colab-df-convert {\n",
              "      background-color: #E8F0FE;\n",
              "      border: none;\n",
              "      border-radius: 50%;\n",
              "      cursor: pointer;\n",
              "      display: none;\n",
              "      fill: #1967D2;\n",
              "      height: 32px;\n",
              "      padding: 0 0 0 0;\n",
              "      width: 32px;\n",
              "    }\n",
              "\n",
              "    .colab-df-convert:hover {\n",
              "      background-color: #E2EBFA;\n",
              "      box-shadow: 0px 1px 2px rgba(60, 64, 67, 0.3), 0px 1px 3px 1px rgba(60, 64, 67, 0.15);\n",
              "      fill: #174EA6;\n",
              "    }\n",
              "\n",
              "    .colab-df-buttons div {\n",
              "      margin-bottom: 4px;\n",
              "    }\n",
              "\n",
              "    [theme=dark] .colab-df-convert {\n",
              "      background-color: #3B4455;\n",
              "      fill: #D2E3FC;\n",
              "    }\n",
              "\n",
              "    [theme=dark] .colab-df-convert:hover {\n",
              "      background-color: #434B5C;\n",
              "      box-shadow: 0px 1px 3px 1px rgba(0, 0, 0, 0.15);\n",
              "      filter: drop-shadow(0px 1px 2px rgba(0, 0, 0, 0.3));\n",
              "      fill: #FFFFFF;\n",
              "    }\n",
              "  </style>\n",
              "\n",
              "    <script>\n",
              "      const buttonEl =\n",
              "        document.querySelector('#df-f84b2ac5-be5c-4a90-a3a4-70dd8f2765ec button.colab-df-convert');\n",
              "      buttonEl.style.display =\n",
              "        google.colab.kernel.accessAllowed ? 'block' : 'none';\n",
              "\n",
              "      async function convertToInteractive(key) {\n",
              "        const element = document.querySelector('#df-f84b2ac5-be5c-4a90-a3a4-70dd8f2765ec');\n",
              "        const dataTable =\n",
              "          await google.colab.kernel.invokeFunction('convertToInteractive',\n",
              "                                                    [key], {});\n",
              "        if (!dataTable) return;\n",
              "\n",
              "        const docLinkHtml = 'Like what you see? Visit the ' +\n",
              "          '<a target=\"_blank\" href=https://colab.research.google.com/notebooks/data_table.ipynb>data table notebook</a>'\n",
              "          + ' to learn more about interactive tables.';\n",
              "        element.innerHTML = '';\n",
              "        dataTable['output_type'] = 'display_data';\n",
              "        await google.colab.output.renderOutput(dataTable, element);\n",
              "        const docLink = document.createElement('div');\n",
              "        docLink.innerHTML = docLinkHtml;\n",
              "        element.appendChild(docLink);\n",
              "      }\n",
              "    </script>\n",
              "  </div>\n",
              "\n",
              "    </div>\n",
              "  </div>\n"
            ]
          },
          "metadata": {},
          "execution_count": 228
        }
      ],
      "source": [
        "res = find_errors(df_can, dindex_dict)\n",
        "res[\"addition\"]"
      ]
    },
    {
      "cell_type": "code",
      "execution_count": 274,
      "metadata": {
        "id": "mjsmqJBB6Ssb"
      },
      "outputs": [],
      "source": [
        "def ddo_trans(df, ratio, seed, val):\n",
        "    df_t = copy_df(df)\n",
        "    conv_list = [\"내지\", \"및\", \"또는\"]\n",
        "    conv_list.remove(val)\n",
        "    te_drop = df_t.drop(index=dindex_dict[\"mis-translation\"])\n",
        "    transHyp = pd.Series(te_drop.index.map(lambda x: can_noise(te_drop, x)), index=te_drop.index)\n",
        "    ival = \"\\s\"+val+\"\\s\"\n",
        "    ddo_idx = random_index(te_drop.loc[transHyp.str.contains(ival, regex=True)], ratio, seed)\n",
        "    result = te_drop.loc[ddo_idx]\n",
        "\n",
        "\n",
        "    for i in ddo_idx:\n",
        "        np.random.shuffle(conv_list)\n",
        "        conv_word = conv_list[0]\n",
        "\n",
        "        conv_hyp, start, fconv_word, word = replace_inteli(result, i, val, conv_word)\n",
        "\n",
        "        result.loc[i, \"curHyp\"] = conv_hyp\n",
        "        input_errors(result, i, 'minor', start, fconv_word, 'mis-translation')\n",
        "\n",
        "        move_index(result, i, start, word, fconv_word)\n",
        "        result.loc[i, \"errLog\"][\"mis-translation\"] = {\"start_idx\": start, \"text\": fconv_word}\n",
        "        dindex_dict[\"mis-translation\"].append(i)\n",
        "    return convert_df(df, result)"
      ]
    },
    {
      "cell_type": "code",
      "execution_count": 275,
      "metadata": {
        "id": "BvexdvvVbfvg"
      },
      "outputs": [],
      "source": [
        "df_ddo = ddo_trans(df_can, 0.2, 555, \"또는\")"
      ]
    },
    {
      "cell_type": "code",
      "source": [
        "res = find_errors(df_ddo, dindex_dict)\n",
        "res[\"addition\"]"
      ],
      "metadata": {
        "id": "PwvDvtqFBP7d",
        "outputId": "f03f139a-627a-4db8-c4b3-ffc1a5bdebf9",
        "colab": {
          "base_uri": "https://localhost:8080/",
          "height": 53
        }
      },
      "execution_count": 276,
      "outputs": [
        {
          "output_type": "execute_result",
          "data": {
            "text/plain": [
              "Empty DataFrame\n",
              "Columns: [curHyp, errLog, validation]\n",
              "Index: []"
            ],
            "text/html": [
              "\n",
              "  <div id=\"df-bf7c374f-2751-4f29-9f82-27c4ecdb2e5b\" class=\"colab-df-container\">\n",
              "    <div>\n",
              "<style scoped>\n",
              "    .dataframe tbody tr th:only-of-type {\n",
              "        vertical-align: middle;\n",
              "    }\n",
              "\n",
              "    .dataframe tbody tr th {\n",
              "        vertical-align: top;\n",
              "    }\n",
              "\n",
              "    .dataframe thead th {\n",
              "        text-align: right;\n",
              "    }\n",
              "</style>\n",
              "<table border=\"1\" class=\"dataframe\">\n",
              "  <thead>\n",
              "    <tr style=\"text-align: right;\">\n",
              "      <th></th>\n",
              "      <th>curHyp</th>\n",
              "      <th>errLog</th>\n",
              "      <th>validation</th>\n",
              "    </tr>\n",
              "  </thead>\n",
              "  <tbody>\n",
              "  </tbody>\n",
              "</table>\n",
              "</div>\n",
              "    <div class=\"colab-df-buttons\">\n",
              "\n",
              "  <div class=\"colab-df-container\">\n",
              "    <button class=\"colab-df-convert\" onclick=\"convertToInteractive('df-bf7c374f-2751-4f29-9f82-27c4ecdb2e5b')\"\n",
              "            title=\"Convert this dataframe to an interactive table.\"\n",
              "            style=\"display:none;\">\n",
              "\n",
              "  <svg xmlns=\"http://www.w3.org/2000/svg\" height=\"24px\" viewBox=\"0 -960 960 960\">\n",
              "    <path d=\"M120-120v-720h720v720H120Zm60-500h600v-160H180v160Zm220 220h160v-160H400v160Zm0 220h160v-160H400v160ZM180-400h160v-160H180v160Zm440 0h160v-160H620v160ZM180-180h160v-160H180v160Zm440 0h160v-160H620v160Z\"/>\n",
              "  </svg>\n",
              "    </button>\n",
              "\n",
              "  <style>\n",
              "    .colab-df-container {\n",
              "      display:flex;\n",
              "      gap: 12px;\n",
              "    }\n",
              "\n",
              "    .colab-df-convert {\n",
              "      background-color: #E8F0FE;\n",
              "      border: none;\n",
              "      border-radius: 50%;\n",
              "      cursor: pointer;\n",
              "      display: none;\n",
              "      fill: #1967D2;\n",
              "      height: 32px;\n",
              "      padding: 0 0 0 0;\n",
              "      width: 32px;\n",
              "    }\n",
              "\n",
              "    .colab-df-convert:hover {\n",
              "      background-color: #E2EBFA;\n",
              "      box-shadow: 0px 1px 2px rgba(60, 64, 67, 0.3), 0px 1px 3px 1px rgba(60, 64, 67, 0.15);\n",
              "      fill: #174EA6;\n",
              "    }\n",
              "\n",
              "    .colab-df-buttons div {\n",
              "      margin-bottom: 4px;\n",
              "    }\n",
              "\n",
              "    [theme=dark] .colab-df-convert {\n",
              "      background-color: #3B4455;\n",
              "      fill: #D2E3FC;\n",
              "    }\n",
              "\n",
              "    [theme=dark] .colab-df-convert:hover {\n",
              "      background-color: #434B5C;\n",
              "      box-shadow: 0px 1px 3px 1px rgba(0, 0, 0, 0.15);\n",
              "      filter: drop-shadow(0px 1px 2px rgba(0, 0, 0, 0.3));\n",
              "      fill: #FFFFFF;\n",
              "    }\n",
              "  </style>\n",
              "\n",
              "    <script>\n",
              "      const buttonEl =\n",
              "        document.querySelector('#df-bf7c374f-2751-4f29-9f82-27c4ecdb2e5b button.colab-df-convert');\n",
              "      buttonEl.style.display =\n",
              "        google.colab.kernel.accessAllowed ? 'block' : 'none';\n",
              "\n",
              "      async function convertToInteractive(key) {\n",
              "        const element = document.querySelector('#df-bf7c374f-2751-4f29-9f82-27c4ecdb2e5b');\n",
              "        const dataTable =\n",
              "          await google.colab.kernel.invokeFunction('convertToInteractive',\n",
              "                                                    [key], {});\n",
              "        if (!dataTable) return;\n",
              "\n",
              "        const docLinkHtml = 'Like what you see? Visit the ' +\n",
              "          '<a target=\"_blank\" href=https://colab.research.google.com/notebooks/data_table.ipynb>data table notebook</a>'\n",
              "          + ' to learn more about interactive tables.';\n",
              "        element.innerHTML = '';\n",
              "        dataTable['output_type'] = 'display_data';\n",
              "        await google.colab.output.renderOutput(dataTable, element);\n",
              "        const docLink = document.createElement('div');\n",
              "        docLink.innerHTML = docLinkHtml;\n",
              "        element.appendChild(docLink);\n",
              "      }\n",
              "    </script>\n",
              "  </div>\n",
              "\n",
              "    </div>\n",
              "  </div>\n"
            ]
          },
          "metadata": {},
          "execution_count": 276
        }
      ]
    },
    {
      "cell_type": "code",
      "execution_count": 277,
      "metadata": {
        "id": "4XPnL54LeB-5"
      },
      "outputs": [],
      "source": [
        "df_nae = ddo_trans(df_ddo, 0.25, 444, \"내지\")"
      ]
    },
    {
      "cell_type": "code",
      "execution_count": 278,
      "metadata": {
        "colab": {
          "base_uri": "https://localhost:8080/",
          "height": 53
        },
        "id": "UVgGyHxpjnv0",
        "outputId": "70294a4b-c111-4aff-887a-f1968d78943a"
      },
      "outputs": [
        {
          "output_type": "execute_result",
          "data": {
            "text/plain": [
              "Empty DataFrame\n",
              "Columns: [curHyp, errLog, validation]\n",
              "Index: []"
            ],
            "text/html": [
              "\n",
              "  <div id=\"df-c6367ea7-3704-4b22-8f7f-527114f3075f\" class=\"colab-df-container\">\n",
              "    <div>\n",
              "<style scoped>\n",
              "    .dataframe tbody tr th:only-of-type {\n",
              "        vertical-align: middle;\n",
              "    }\n",
              "\n",
              "    .dataframe tbody tr th {\n",
              "        vertical-align: top;\n",
              "    }\n",
              "\n",
              "    .dataframe thead th {\n",
              "        text-align: right;\n",
              "    }\n",
              "</style>\n",
              "<table border=\"1\" class=\"dataframe\">\n",
              "  <thead>\n",
              "    <tr style=\"text-align: right;\">\n",
              "      <th></th>\n",
              "      <th>curHyp</th>\n",
              "      <th>errLog</th>\n",
              "      <th>validation</th>\n",
              "    </tr>\n",
              "  </thead>\n",
              "  <tbody>\n",
              "  </tbody>\n",
              "</table>\n",
              "</div>\n",
              "    <div class=\"colab-df-buttons\">\n",
              "\n",
              "  <div class=\"colab-df-container\">\n",
              "    <button class=\"colab-df-convert\" onclick=\"convertToInteractive('df-c6367ea7-3704-4b22-8f7f-527114f3075f')\"\n",
              "            title=\"Convert this dataframe to an interactive table.\"\n",
              "            style=\"display:none;\">\n",
              "\n",
              "  <svg xmlns=\"http://www.w3.org/2000/svg\" height=\"24px\" viewBox=\"0 -960 960 960\">\n",
              "    <path d=\"M120-120v-720h720v720H120Zm60-500h600v-160H180v160Zm220 220h160v-160H400v160Zm0 220h160v-160H400v160ZM180-400h160v-160H180v160Zm440 0h160v-160H620v160ZM180-180h160v-160H180v160Zm440 0h160v-160H620v160Z\"/>\n",
              "  </svg>\n",
              "    </button>\n",
              "\n",
              "  <style>\n",
              "    .colab-df-container {\n",
              "      display:flex;\n",
              "      gap: 12px;\n",
              "    }\n",
              "\n",
              "    .colab-df-convert {\n",
              "      background-color: #E8F0FE;\n",
              "      border: none;\n",
              "      border-radius: 50%;\n",
              "      cursor: pointer;\n",
              "      display: none;\n",
              "      fill: #1967D2;\n",
              "      height: 32px;\n",
              "      padding: 0 0 0 0;\n",
              "      width: 32px;\n",
              "    }\n",
              "\n",
              "    .colab-df-convert:hover {\n",
              "      background-color: #E2EBFA;\n",
              "      box-shadow: 0px 1px 2px rgba(60, 64, 67, 0.3), 0px 1px 3px 1px rgba(60, 64, 67, 0.15);\n",
              "      fill: #174EA6;\n",
              "    }\n",
              "\n",
              "    .colab-df-buttons div {\n",
              "      margin-bottom: 4px;\n",
              "    }\n",
              "\n",
              "    [theme=dark] .colab-df-convert {\n",
              "      background-color: #3B4455;\n",
              "      fill: #D2E3FC;\n",
              "    }\n",
              "\n",
              "    [theme=dark] .colab-df-convert:hover {\n",
              "      background-color: #434B5C;\n",
              "      box-shadow: 0px 1px 3px 1px rgba(0, 0, 0, 0.15);\n",
              "      filter: drop-shadow(0px 1px 2px rgba(0, 0, 0, 0.3));\n",
              "      fill: #FFFFFF;\n",
              "    }\n",
              "  </style>\n",
              "\n",
              "    <script>\n",
              "      const buttonEl =\n",
              "        document.querySelector('#df-c6367ea7-3704-4b22-8f7f-527114f3075f button.colab-df-convert');\n",
              "      buttonEl.style.display =\n",
              "        google.colab.kernel.accessAllowed ? 'block' : 'none';\n",
              "\n",
              "      async function convertToInteractive(key) {\n",
              "        const element = document.querySelector('#df-c6367ea7-3704-4b22-8f7f-527114f3075f');\n",
              "        const dataTable =\n",
              "          await google.colab.kernel.invokeFunction('convertToInteractive',\n",
              "                                                    [key], {});\n",
              "        if (!dataTable) return;\n",
              "\n",
              "        const docLinkHtml = 'Like what you see? Visit the ' +\n",
              "          '<a target=\"_blank\" href=https://colab.research.google.com/notebooks/data_table.ipynb>data table notebook</a>'\n",
              "          + ' to learn more about interactive tables.';\n",
              "        element.innerHTML = '';\n",
              "        dataTable['output_type'] = 'display_data';\n",
              "        await google.colab.output.renderOutput(dataTable, element);\n",
              "        const docLink = document.createElement('div');\n",
              "        docLink.innerHTML = docLinkHtml;\n",
              "        element.appendChild(docLink);\n",
              "      }\n",
              "    </script>\n",
              "  </div>\n",
              "\n",
              "    </div>\n",
              "  </div>\n"
            ]
          },
          "metadata": {},
          "execution_count": 278
        }
      ],
      "source": [
        "res = find_errors(df_nae, dindex_dict)\n",
        "res[\"addition\"]"
      ]
    },
    {
      "cell_type": "code",
      "execution_count": 279,
      "metadata": {
        "id": "I5kqFfwJkMU0"
      },
      "outputs": [],
      "source": [
        "df_mit = ddo_trans(df_nae, 0.3, 333, \"및\")"
      ]
    },
    {
      "cell_type": "code",
      "execution_count": 280,
      "metadata": {
        "colab": {
          "base_uri": "https://localhost:8080/",
          "height": 53
        },
        "id": "JtsnxI6mDL5w",
        "outputId": "08cbf867-1da9-4146-d34e-fd5a509eb073"
      },
      "outputs": [
        {
          "output_type": "execute_result",
          "data": {
            "text/plain": [
              "Empty DataFrame\n",
              "Columns: [curHyp, errLog, validation]\n",
              "Index: []"
            ],
            "text/html": [
              "\n",
              "  <div id=\"df-3891354e-22c3-4291-a65b-5711ba193c4f\" class=\"colab-df-container\">\n",
              "    <div>\n",
              "<style scoped>\n",
              "    .dataframe tbody tr th:only-of-type {\n",
              "        vertical-align: middle;\n",
              "    }\n",
              "\n",
              "    .dataframe tbody tr th {\n",
              "        vertical-align: top;\n",
              "    }\n",
              "\n",
              "    .dataframe thead th {\n",
              "        text-align: right;\n",
              "    }\n",
              "</style>\n",
              "<table border=\"1\" class=\"dataframe\">\n",
              "  <thead>\n",
              "    <tr style=\"text-align: right;\">\n",
              "      <th></th>\n",
              "      <th>curHyp</th>\n",
              "      <th>errLog</th>\n",
              "      <th>validation</th>\n",
              "    </tr>\n",
              "  </thead>\n",
              "  <tbody>\n",
              "  </tbody>\n",
              "</table>\n",
              "</div>\n",
              "    <div class=\"colab-df-buttons\">\n",
              "\n",
              "  <div class=\"colab-df-container\">\n",
              "    <button class=\"colab-df-convert\" onclick=\"convertToInteractive('df-3891354e-22c3-4291-a65b-5711ba193c4f')\"\n",
              "            title=\"Convert this dataframe to an interactive table.\"\n",
              "            style=\"display:none;\">\n",
              "\n",
              "  <svg xmlns=\"http://www.w3.org/2000/svg\" height=\"24px\" viewBox=\"0 -960 960 960\">\n",
              "    <path d=\"M120-120v-720h720v720H120Zm60-500h600v-160H180v160Zm220 220h160v-160H400v160Zm0 220h160v-160H400v160ZM180-400h160v-160H180v160Zm440 0h160v-160H620v160ZM180-180h160v-160H180v160Zm440 0h160v-160H620v160Z\"/>\n",
              "  </svg>\n",
              "    </button>\n",
              "\n",
              "  <style>\n",
              "    .colab-df-container {\n",
              "      display:flex;\n",
              "      gap: 12px;\n",
              "    }\n",
              "\n",
              "    .colab-df-convert {\n",
              "      background-color: #E8F0FE;\n",
              "      border: none;\n",
              "      border-radius: 50%;\n",
              "      cursor: pointer;\n",
              "      display: none;\n",
              "      fill: #1967D2;\n",
              "      height: 32px;\n",
              "      padding: 0 0 0 0;\n",
              "      width: 32px;\n",
              "    }\n",
              "\n",
              "    .colab-df-convert:hover {\n",
              "      background-color: #E2EBFA;\n",
              "      box-shadow: 0px 1px 2px rgba(60, 64, 67, 0.3), 0px 1px 3px 1px rgba(60, 64, 67, 0.15);\n",
              "      fill: #174EA6;\n",
              "    }\n",
              "\n",
              "    .colab-df-buttons div {\n",
              "      margin-bottom: 4px;\n",
              "    }\n",
              "\n",
              "    [theme=dark] .colab-df-convert {\n",
              "      background-color: #3B4455;\n",
              "      fill: #D2E3FC;\n",
              "    }\n",
              "\n",
              "    [theme=dark] .colab-df-convert:hover {\n",
              "      background-color: #434B5C;\n",
              "      box-shadow: 0px 1px 3px 1px rgba(0, 0, 0, 0.15);\n",
              "      filter: drop-shadow(0px 1px 2px rgba(0, 0, 0, 0.3));\n",
              "      fill: #FFFFFF;\n",
              "    }\n",
              "  </style>\n",
              "\n",
              "    <script>\n",
              "      const buttonEl =\n",
              "        document.querySelector('#df-3891354e-22c3-4291-a65b-5711ba193c4f button.colab-df-convert');\n",
              "      buttonEl.style.display =\n",
              "        google.colab.kernel.accessAllowed ? 'block' : 'none';\n",
              "\n",
              "      async function convertToInteractive(key) {\n",
              "        const element = document.querySelector('#df-3891354e-22c3-4291-a65b-5711ba193c4f');\n",
              "        const dataTable =\n",
              "          await google.colab.kernel.invokeFunction('convertToInteractive',\n",
              "                                                    [key], {});\n",
              "        if (!dataTable) return;\n",
              "\n",
              "        const docLinkHtml = 'Like what you see? Visit the ' +\n",
              "          '<a target=\"_blank\" href=https://colab.research.google.com/notebooks/data_table.ipynb>data table notebook</a>'\n",
              "          + ' to learn more about interactive tables.';\n",
              "        element.innerHTML = '';\n",
              "        dataTable['output_type'] = 'display_data';\n",
              "        await google.colab.output.renderOutput(dataTable, element);\n",
              "        const docLink = document.createElement('div');\n",
              "        docLink.innerHTML = docLinkHtml;\n",
              "        element.appendChild(docLink);\n",
              "      }\n",
              "    </script>\n",
              "  </div>\n",
              "\n",
              "    </div>\n",
              "  </div>\n"
            ]
          },
          "metadata": {},
          "execution_count": 280
        }
      ],
      "source": [
        "res = find_errors(df_mit, dindex_dict)\n",
        "res[\"addition\"]"
      ]
    },
    {
      "cell_type": "code",
      "execution_count": 281,
      "metadata": {
        "id": "FjH9D2eFPB7E",
        "outputId": "cec9f884-3142-4a32-c2be-d96eebf0fae3",
        "colab": {
          "base_uri": "https://localhost:8080/"
        }
      },
      "outputs": [
        {
          "output_type": "stream",
          "name": "stdout",
          "text": [
            "\t  omission: 6686\t6686\n",
            "\t  addition: 16788\t16788\n",
            "\t  mis-translation: 7612\t7612\n",
            "\t  over-translation: 17078\t0\n",
            "\t  under-translation: 3944\t0\n",
            "\t  grammer: 0\t0\n"
          ]
        }
      ],
      "source": [
        "check_idx(df_mit)"
      ]
    },
    {
      "cell_type": "markdown",
      "metadata": {
        "id": "dOph575-U6pJ"
      },
      "source": [
        "### MT - Major"
      ]
    },
    {
      "cell_type": "code",
      "execution_count": null,
      "metadata": {
        "colab": {
          "base_uri": "https://localhost:8080/"
        },
        "id": "s4f4DjhYXT8i",
        "outputId": "ce7b1cb7-71c9-48a3-e7a4-5512681a6d7b"
      },
      "outputs": [
        {
          "data": {
            "text/plain": [
              "['', '16', '10', '3', '']"
            ]
          },
          "execution_count": 263,
          "metadata": {},
          "output_type": "execute_result"
        }
      ],
      "source": [
        "re.split(r\"[^\\d]+\",'제16조의10제3항')"
      ]
    },
    {
      "cell_type": "code",
      "execution_count": 282,
      "metadata": {
        "colab": {
          "base_uri": "https://localhost:8080/"
        },
        "id": "pshYxEHfHpwo",
        "outputId": "d689be00-ec72-4ec5-ed38-52e6e39d11c0"
      },
      "outputs": [
        {
          "output_type": "stream",
          "name": "stdout",
          "text": [
            "법 제47조의2제3항에서 \"법원의 무죄 판결이 확정되는 등 대통령령으로 정하는 사유\"란 다음 각 호의 어느 하나에 해당하는 사유를 말한다. 다만, 제2호 또는 제3호의 경우 불송치 또는 불기소를 받은 이후 해당 사건이 다시 수사 및 기소되어 법원의 판결에 따라 유죄가 확정된 경우는 제외한다. 제47조의2제3항에서\n",
            "('법 제2조의3제47항에서 \"법원의 무죄 판결이 확정되는 등 대통령령으로 정하는 사유\"란 다음 각 호의 어느 하나에 해당하는 사유를 말한다. 다만, 제2호 또는 제3호의 경우 불송치 또는 불기소를 받은 이후 해당 사건이 다시 수사 및 기소되어 법원의 판결에 따라 유죄가 확정된 경우는 제외한다.', 2, '제2조의3제47항에서', '제47조의2제3항에서')\n"
          ]
        }
      ],
      "source": [
        "patterns = r\"제[\\d]+[\\w]+[\\d]+[\\w]+\\s\"\n",
        "compiler = re.compile(patterns)\n",
        "te_drop = df_mit.drop(index=dindex_dict[\"mis-translation\"])\n",
        "transHyp = pd.Series(te_drop.index.map(lambda x: can_noise(te_drop, x)), index=te_drop.index)\n",
        "std_idx = random_index(te_drop.loc[transHyp.str.contains(patterns)], 0.35, 987)\n",
        "result = te_drop.loc[std_idx]\n",
        "\n",
        "for i in std_idx:\n",
        "    cur_hyp = result.loc[i, \"curHyp\"]\n",
        "    all_find = list(compiler.finditer(cur_hyp))\n",
        "    np.random.shuffle(all_find)\n",
        "    for f in all_find:\n",
        "        sts = f.group().strip()\n",
        "        sts_nsp = re.sub(r\"[가-힣]+\", \" \", sts)\n",
        "        sts_list = re.split(r\"[^\\d]+\", sts_nsp)[1:-1]\n",
        "        sts_add = re.split(r\"[\\d]+\", sts)\n",
        "        pre_shuffle = copy.deepcopy(sts_list)\n",
        "        if len(list(set(pre_shuffle)))==1: continue\n",
        "        while True:\n",
        "            np.random.shuffle(pre_shuffle)\n",
        "            if sts_list!=pre_shuffle:\n",
        "                break\n",
        "        conv_hyp = sts_add.pop(0)\n",
        "        for a, b in zip(sts_add, pre_shuffle):\n",
        "            conv_hyp+=(b+a)\n",
        "        break\n",
        "    print(cur_hyp, sts)\n",
        "    print(replace_inteli(result, i, sts, conv_hyp))\n",
        "    break\n"
      ]
    },
    {
      "cell_type": "code",
      "execution_count": 283,
      "metadata": {
        "id": "ODFCZZTGdKsY"
      },
      "outputs": [],
      "source": [
        "def replace_numbers(df, ratio, seed):\n",
        "    df_t = copy_df(df)\n",
        "    patterns = r\"제[\\d]+[\\w]+[\\d]+[\\w]+\\s\"\n",
        "    compiler = re.compile(patterns)\n",
        "    te_drop = df_t.drop(index=dindex_dict[\"mis-translation\"])\n",
        "    transHyp = pd.Series(te_drop.index.map(lambda x: can_noise(te_drop, x)), index=te_drop.index)\n",
        "    std_idx = random_index(te_drop.loc[transHyp.str.contains(patterns)], ratio, seed)\n",
        "    result = te_drop.loc[std_idx]\n",
        "\n",
        "    for i in std_idx:\n",
        "        cur_hyp = result.loc[i, \"curHyp\"]\n",
        "        all_find = list(compiler.finditer(cur_hyp))\n",
        "        np.random.shuffle(all_find)\n",
        "        for f in all_find:\n",
        "            sts = f.group().strip()\n",
        "            sts_nsp = re.sub(r\"[가-힣]+\", \" \", sts)\n",
        "            sts_list = re.split(r\"[^\\d]+\", sts_nsp)[1:-1]\n",
        "            sts_add = re.split(r\"[\\d]+\", sts)\n",
        "            pre_shuffle = copy.deepcopy(sts_list)\n",
        "            if len(list(set(pre_shuffle)))==1: continue\n",
        "            while True:\n",
        "                np.random.shuffle(pre_shuffle)\n",
        "                if sts_list!=pre_shuffle:\n",
        "                    break\n",
        "            break\n",
        "        chyp = sts_add.pop(0)\n",
        "        for a, b in zip(sts_add, pre_shuffle):\n",
        "            chyp+=(b+a)\n",
        "\n",
        "        conv_hyp, start, conv_word, word = replace_inteli(result, i, sts, chyp)\n",
        "\n",
        "        result.loc[i, \"curHyp\"] = conv_hyp\n",
        "        input_errors(result, i, 'major', start, conv_word, 'mis-translation')\n",
        "\n",
        "        move_index(result, i, start, word, conv_word)\n",
        "        result.loc[i, \"errLog\"][\"mis-translation\"] = {\"start_idx\": start, \"text\": conv_word}\n",
        "        dindex_dict[\"mis-translation\"].append(i)\n",
        "    return convert_df(df, result)"
      ]
    },
    {
      "cell_type": "code",
      "execution_count": 284,
      "metadata": {
        "colab": {
          "base_uri": "https://localhost:8080/",
          "height": 53
        },
        "id": "e5YjYawPUS0v",
        "outputId": "5ab92aaa-df4d-4427-cedf-011feca8e5f9"
      },
      "outputs": [
        {
          "output_type": "execute_result",
          "data": {
            "text/plain": [
              "Empty DataFrame\n",
              "Columns: [curHyp, errLog, validation]\n",
              "Index: []"
            ],
            "text/html": [
              "\n",
              "  <div id=\"df-8f1a6426-b34e-4f38-a711-7e19ecedcfb6\" class=\"colab-df-container\">\n",
              "    <div>\n",
              "<style scoped>\n",
              "    .dataframe tbody tr th:only-of-type {\n",
              "        vertical-align: middle;\n",
              "    }\n",
              "\n",
              "    .dataframe tbody tr th {\n",
              "        vertical-align: top;\n",
              "    }\n",
              "\n",
              "    .dataframe thead th {\n",
              "        text-align: right;\n",
              "    }\n",
              "</style>\n",
              "<table border=\"1\" class=\"dataframe\">\n",
              "  <thead>\n",
              "    <tr style=\"text-align: right;\">\n",
              "      <th></th>\n",
              "      <th>curHyp</th>\n",
              "      <th>errLog</th>\n",
              "      <th>validation</th>\n",
              "    </tr>\n",
              "  </thead>\n",
              "  <tbody>\n",
              "  </tbody>\n",
              "</table>\n",
              "</div>\n",
              "    <div class=\"colab-df-buttons\">\n",
              "\n",
              "  <div class=\"colab-df-container\">\n",
              "    <button class=\"colab-df-convert\" onclick=\"convertToInteractive('df-8f1a6426-b34e-4f38-a711-7e19ecedcfb6')\"\n",
              "            title=\"Convert this dataframe to an interactive table.\"\n",
              "            style=\"display:none;\">\n",
              "\n",
              "  <svg xmlns=\"http://www.w3.org/2000/svg\" height=\"24px\" viewBox=\"0 -960 960 960\">\n",
              "    <path d=\"M120-120v-720h720v720H120Zm60-500h600v-160H180v160Zm220 220h160v-160H400v160Zm0 220h160v-160H400v160ZM180-400h160v-160H180v160Zm440 0h160v-160H620v160ZM180-180h160v-160H180v160Zm440 0h160v-160H620v160Z\"/>\n",
              "  </svg>\n",
              "    </button>\n",
              "\n",
              "  <style>\n",
              "    .colab-df-container {\n",
              "      display:flex;\n",
              "      gap: 12px;\n",
              "    }\n",
              "\n",
              "    .colab-df-convert {\n",
              "      background-color: #E8F0FE;\n",
              "      border: none;\n",
              "      border-radius: 50%;\n",
              "      cursor: pointer;\n",
              "      display: none;\n",
              "      fill: #1967D2;\n",
              "      height: 32px;\n",
              "      padding: 0 0 0 0;\n",
              "      width: 32px;\n",
              "    }\n",
              "\n",
              "    .colab-df-convert:hover {\n",
              "      background-color: #E2EBFA;\n",
              "      box-shadow: 0px 1px 2px rgba(60, 64, 67, 0.3), 0px 1px 3px 1px rgba(60, 64, 67, 0.15);\n",
              "      fill: #174EA6;\n",
              "    }\n",
              "\n",
              "    .colab-df-buttons div {\n",
              "      margin-bottom: 4px;\n",
              "    }\n",
              "\n",
              "    [theme=dark] .colab-df-convert {\n",
              "      background-color: #3B4455;\n",
              "      fill: #D2E3FC;\n",
              "    }\n",
              "\n",
              "    [theme=dark] .colab-df-convert:hover {\n",
              "      background-color: #434B5C;\n",
              "      box-shadow: 0px 1px 3px 1px rgba(0, 0, 0, 0.15);\n",
              "      filter: drop-shadow(0px 1px 2px rgba(0, 0, 0, 0.3));\n",
              "      fill: #FFFFFF;\n",
              "    }\n",
              "  </style>\n",
              "\n",
              "    <script>\n",
              "      const buttonEl =\n",
              "        document.querySelector('#df-8f1a6426-b34e-4f38-a711-7e19ecedcfb6 button.colab-df-convert');\n",
              "      buttonEl.style.display =\n",
              "        google.colab.kernel.accessAllowed ? 'block' : 'none';\n",
              "\n",
              "      async function convertToInteractive(key) {\n",
              "        const element = document.querySelector('#df-8f1a6426-b34e-4f38-a711-7e19ecedcfb6');\n",
              "        const dataTable =\n",
              "          await google.colab.kernel.invokeFunction('convertToInteractive',\n",
              "                                                    [key], {});\n",
              "        if (!dataTable) return;\n",
              "\n",
              "        const docLinkHtml = 'Like what you see? Visit the ' +\n",
              "          '<a target=\"_blank\" href=https://colab.research.google.com/notebooks/data_table.ipynb>data table notebook</a>'\n",
              "          + ' to learn more about interactive tables.';\n",
              "        element.innerHTML = '';\n",
              "        dataTable['output_type'] = 'display_data';\n",
              "        await google.colab.output.renderOutput(dataTable, element);\n",
              "        const docLink = document.createElement('div');\n",
              "        docLink.innerHTML = docLinkHtml;\n",
              "        element.appendChild(docLink);\n",
              "      }\n",
              "    </script>\n",
              "  </div>\n",
              "\n",
              "    </div>\n",
              "  </div>\n"
            ]
          },
          "metadata": {},
          "execution_count": 284
        }
      ],
      "source": [
        "df_rpnm = replace_numbers(df_mit, .35, 987)\n",
        "res = find_errors(df_rpnm, dindex_dict)\n",
        "res[\"addition\"]"
      ]
    },
    {
      "cell_type": "code",
      "execution_count": 285,
      "metadata": {
        "colab": {
          "base_uri": "https://localhost:8080/"
        },
        "id": "30BFFzkjUV7h",
        "outputId": "abd1d8d8-cd7d-4db2-9ad9-c2cdee93da4d"
      },
      "outputs": [
        {
          "output_type": "stream",
          "name": "stdout",
          "text": [
            "\t  omission: 6686\t6686\n",
            "\t  addition: 16788\t16788\n",
            "\t  mis-translation: 12273\t12273\n",
            "\t  over-translation: 17078\t0\n",
            "\t  under-translation: 3944\t0\n",
            "\t  grammer: 0\t0\n"
          ]
        }
      ],
      "source": [
        "check_idx(df_rpnm)"
      ]
    },
    {
      "cell_type": "markdown",
      "metadata": {
        "id": "xfB7Py7QiO4o"
      },
      "source": [
        "### MT-Neutral"
      ]
    },
    {
      "cell_type": "code",
      "execution_count": 240,
      "metadata": {
        "colab": {
          "base_uri": "https://localhost:8080/",
          "height": 34
        },
        "id": "Tba0mgxoTj1m",
        "outputId": "54e0f319-e137-4692-94ee-87a003b51fb8"
      },
      "outputs": [
        {
          "output_type": "execute_result",
          "data": {
            "text/plain": [
              "'제37조제1항 또는 제3항을 위반하여 신용공여 및 예금등을 받거나 가지급금을 받은 자'"
            ],
            "application/vnd.google.colaboratory.intrinsic+json": {
              "type": "string"
            }
          },
          "metadata": {},
          "execution_count": 240
        }
      ],
      "source": [
        "df_rpnm.loc[403045, \"curHyp\"]"
      ]
    },
    {
      "cell_type": "code",
      "execution_count": 286,
      "metadata": {
        "id": "qcdqZqnjVkCQ"
      },
      "outputs": [],
      "source": [
        "rep_dict = {\n",
        "    r'\\\"[^\\\"]+\\\"':\"'\", r\"\\'[^\\']+\\'\":'\"',\n",
        "    r'「[^」]+」':'\"'\n",
        "    }"
      ]
    },
    {
      "cell_type": "code",
      "execution_count": 287,
      "metadata": {
        "id": "GwN541zRiSB4"
      },
      "outputs": [],
      "source": [
        "def change_morphus(df, ratio, seed, rep_dict):\n",
        "    df_t = copy_df(df_rpnm)\n",
        "    patterns = \"|\".join(rep_dict.keys())\n",
        "\n",
        "    te_drop = df_t.drop(index=dindex_dict[\"mis-translation\"])\n",
        "    transHyp = pd.Series(te_drop.index.map(lambda x: can_noise(te_drop, x)), index=te_drop.index)\n",
        "    std_idx = random_index(te_drop.loc[transHyp.str.contains(patterns, regex=True)], ratio, seed)\n",
        "\n",
        "    result = te_drop.loc[std_idx]\n",
        "\n",
        "    rpd_keys = copy.deepcopy(list(rep_dict.keys()))\n",
        "    for e, i in enumerate(std_idx):\n",
        "        cur_hyp = result.loc[i, \"curHyp\"]\n",
        "        np.random.shuffle(rpd_keys)\n",
        "        for pattern in rpd_keys:\n",
        "            find_list = list(re.finditer(pattern, cur_hyp))\n",
        "            if not find_list: continue\n",
        "            break\n",
        "\n",
        "        np.random.shuffle(find_list)\n",
        "        f = find_list[0]\n",
        "\n",
        "        word, start = f.group(), f.start()\n",
        "        r_word = (rep_dict[pattern]+word[1:-1]+rep_dict[pattern]).strip()\n",
        "        res = replace_inteli(result, i, word, r_word)\n",
        "        if res!=None:\n",
        "            conv_hyp, start, conv_word, word = res\n",
        "        else:\n",
        "            continue\n",
        "\n",
        "        result.loc[i, \"curHyp\"] = conv_hyp\n",
        "        input_errors(result, i, 'neutral', start, conv_word, 'mis-translation')\n",
        "\n",
        "        move_index(result, i, start, word, conv_word)\n",
        "        result.loc[i, \"errLog\"][\"mis-translation\"] = {\"start_idx\": start, \"text\": conv_word}\n",
        "        dindex_dict[\"mis-translation\"].append(i)\n",
        "    return convert_df(df, result)"
      ]
    },
    {
      "cell_type": "code",
      "execution_count": 288,
      "metadata": {
        "colab": {
          "base_uri": "https://localhost:8080/",
          "height": 53
        },
        "id": "jsRVDu_hyEyC",
        "outputId": "3bcf4c12-fb69-43c3-de88-67ade037a8be"
      },
      "outputs": [
        {
          "output_type": "execute_result",
          "data": {
            "text/plain": [
              "Empty DataFrame\n",
              "Columns: [curHyp, errLog, validation]\n",
              "Index: []"
            ],
            "text/html": [
              "\n",
              "  <div id=\"df-a5a3d2e4-51f0-4062-8800-7fe7cd34974d\" class=\"colab-df-container\">\n",
              "    <div>\n",
              "<style scoped>\n",
              "    .dataframe tbody tr th:only-of-type {\n",
              "        vertical-align: middle;\n",
              "    }\n",
              "\n",
              "    .dataframe tbody tr th {\n",
              "        vertical-align: top;\n",
              "    }\n",
              "\n",
              "    .dataframe thead th {\n",
              "        text-align: right;\n",
              "    }\n",
              "</style>\n",
              "<table border=\"1\" class=\"dataframe\">\n",
              "  <thead>\n",
              "    <tr style=\"text-align: right;\">\n",
              "      <th></th>\n",
              "      <th>curHyp</th>\n",
              "      <th>errLog</th>\n",
              "      <th>validation</th>\n",
              "    </tr>\n",
              "  </thead>\n",
              "  <tbody>\n",
              "  </tbody>\n",
              "</table>\n",
              "</div>\n",
              "    <div class=\"colab-df-buttons\">\n",
              "\n",
              "  <div class=\"colab-df-container\">\n",
              "    <button class=\"colab-df-convert\" onclick=\"convertToInteractive('df-a5a3d2e4-51f0-4062-8800-7fe7cd34974d')\"\n",
              "            title=\"Convert this dataframe to an interactive table.\"\n",
              "            style=\"display:none;\">\n",
              "\n",
              "  <svg xmlns=\"http://www.w3.org/2000/svg\" height=\"24px\" viewBox=\"0 -960 960 960\">\n",
              "    <path d=\"M120-120v-720h720v720H120Zm60-500h600v-160H180v160Zm220 220h160v-160H400v160Zm0 220h160v-160H400v160ZM180-400h160v-160H180v160Zm440 0h160v-160H620v160ZM180-180h160v-160H180v160Zm440 0h160v-160H620v160Z\"/>\n",
              "  </svg>\n",
              "    </button>\n",
              "\n",
              "  <style>\n",
              "    .colab-df-container {\n",
              "      display:flex;\n",
              "      gap: 12px;\n",
              "    }\n",
              "\n",
              "    .colab-df-convert {\n",
              "      background-color: #E8F0FE;\n",
              "      border: none;\n",
              "      border-radius: 50%;\n",
              "      cursor: pointer;\n",
              "      display: none;\n",
              "      fill: #1967D2;\n",
              "      height: 32px;\n",
              "      padding: 0 0 0 0;\n",
              "      width: 32px;\n",
              "    }\n",
              "\n",
              "    .colab-df-convert:hover {\n",
              "      background-color: #E2EBFA;\n",
              "      box-shadow: 0px 1px 2px rgba(60, 64, 67, 0.3), 0px 1px 3px 1px rgba(60, 64, 67, 0.15);\n",
              "      fill: #174EA6;\n",
              "    }\n",
              "\n",
              "    .colab-df-buttons div {\n",
              "      margin-bottom: 4px;\n",
              "    }\n",
              "\n",
              "    [theme=dark] .colab-df-convert {\n",
              "      background-color: #3B4455;\n",
              "      fill: #D2E3FC;\n",
              "    }\n",
              "\n",
              "    [theme=dark] .colab-df-convert:hover {\n",
              "      background-color: #434B5C;\n",
              "      box-shadow: 0px 1px 3px 1px rgba(0, 0, 0, 0.15);\n",
              "      filter: drop-shadow(0px 1px 2px rgba(0, 0, 0, 0.3));\n",
              "      fill: #FFFFFF;\n",
              "    }\n",
              "  </style>\n",
              "\n",
              "    <script>\n",
              "      const buttonEl =\n",
              "        document.querySelector('#df-a5a3d2e4-51f0-4062-8800-7fe7cd34974d button.colab-df-convert');\n",
              "      buttonEl.style.display =\n",
              "        google.colab.kernel.accessAllowed ? 'block' : 'none';\n",
              "\n",
              "      async function convertToInteractive(key) {\n",
              "        const element = document.querySelector('#df-a5a3d2e4-51f0-4062-8800-7fe7cd34974d');\n",
              "        const dataTable =\n",
              "          await google.colab.kernel.invokeFunction('convertToInteractive',\n",
              "                                                    [key], {});\n",
              "        if (!dataTable) return;\n",
              "\n",
              "        const docLinkHtml = 'Like what you see? Visit the ' +\n",
              "          '<a target=\"_blank\" href=https://colab.research.google.com/notebooks/data_table.ipynb>data table notebook</a>'\n",
              "          + ' to learn more about interactive tables.';\n",
              "        element.innerHTML = '';\n",
              "        dataTable['output_type'] = 'display_data';\n",
              "        await google.colab.output.renderOutput(dataTable, element);\n",
              "        const docLink = document.createElement('div');\n",
              "        docLink.innerHTML = docLinkHtml;\n",
              "        element.appendChild(docLink);\n",
              "      }\n",
              "    </script>\n",
              "  </div>\n",
              "\n",
              "    </div>\n",
              "  </div>\n"
            ]
          },
          "metadata": {},
          "execution_count": 288
        }
      ],
      "source": [
        "df_cmp = change_morphus(df_rpnm, 0.025, 777, rep_dict)\n",
        "res = find_errors(df_cmp, dindex_dict)\n",
        "res[\"addition\"]"
      ]
    },
    {
      "cell_type": "code",
      "execution_count": 289,
      "metadata": {
        "colab": {
          "base_uri": "https://localhost:8080/"
        },
        "id": "jgta4JMxyy_2",
        "outputId": "f8c073a2-b2ab-40e9-b48f-aef80fa6264d"
      },
      "outputs": [
        {
          "output_type": "stream",
          "name": "stdout",
          "text": [
            "\t  omission: 6686\t6686\n",
            "\t  addition: 16788\t16788\n",
            "\t  mis-translation: 12438\t12438\n",
            "\t  over-translation: 17078\t0\n",
            "\t  under-translation: 3944\t0\n",
            "\t  grammer: 0\t0\n"
          ]
        }
      ],
      "source": [
        "check_idx(df_cmp)"
      ]
    },
    {
      "cell_type": "code",
      "execution_count": null,
      "metadata": {
        "colab": {
          "base_uri": "https://localhost:8080/",
          "height": 206
        },
        "id": "lUkQzrGK02Dv",
        "outputId": "54dd7a92-8cf7-4fa9-bdaa-70a10c0a1bf3"
      },
      "outputs": [
        {
          "data": {
            "text/html": [
              "\n",
              "  <div id=\"df-a4c4198c-4f28-4550-86ec-2721ee2278e7\" class=\"colab-df-container\">\n",
              "    <div>\n",
              "<style scoped>\n",
              "    .dataframe tbody tr th:only-of-type {\n",
              "        vertical-align: middle;\n",
              "    }\n",
              "\n",
              "    .dataframe tbody tr th {\n",
              "        vertical-align: top;\n",
              "    }\n",
              "\n",
              "    .dataframe thead th {\n",
              "        text-align: right;\n",
              "    }\n",
              "</style>\n",
              "<table border=\"1\" class=\"dataframe\">\n",
              "  <thead>\n",
              "    <tr style=\"text-align: right;\">\n",
              "      <th></th>\n",
              "      <th>omission</th>\n",
              "      <th>addition</th>\n",
              "      <th>mis-translation</th>\n",
              "      <th>over-translation</th>\n",
              "      <th>under-translation</th>\n",
              "      <th>grammer</th>\n",
              "      <th>sum</th>\n",
              "    </tr>\n",
              "  </thead>\n",
              "  <tbody>\n",
              "    <tr>\n",
              "      <th>critical</th>\n",
              "      <td>2.51</td>\n",
              "      <td>0.00</td>\n",
              "      <td>0.00</td>\n",
              "      <td>0.0</td>\n",
              "      <td>0.0</td>\n",
              "      <td>0.0</td>\n",
              "      <td>2.51</td>\n",
              "    </tr>\n",
              "    <tr>\n",
              "      <th>major</th>\n",
              "      <td>15.19</td>\n",
              "      <td>27.06</td>\n",
              "      <td>13.00</td>\n",
              "      <td>0.0</td>\n",
              "      <td>0.0</td>\n",
              "      <td>0.0</td>\n",
              "      <td>55.25</td>\n",
              "    </tr>\n",
              "    <tr>\n",
              "      <th>minor</th>\n",
              "      <td>0.00</td>\n",
              "      <td>19.68</td>\n",
              "      <td>21.19</td>\n",
              "      <td>0.0</td>\n",
              "      <td>0.0</td>\n",
              "      <td>0.0</td>\n",
              "      <td>40.88</td>\n",
              "    </tr>\n",
              "    <tr>\n",
              "      <th>neutral</th>\n",
              "      <td>0.91</td>\n",
              "      <td>0.00</td>\n",
              "      <td>0.46</td>\n",
              "      <td>0.0</td>\n",
              "      <td>0.0</td>\n",
              "      <td>0.0</td>\n",
              "      <td>1.37</td>\n",
              "    </tr>\n",
              "    <tr>\n",
              "      <th>sum</th>\n",
              "      <td>18.61</td>\n",
              "      <td>46.74</td>\n",
              "      <td>34.65</td>\n",
              "      <td>0.0</td>\n",
              "      <td>0.0</td>\n",
              "      <td>0.0</td>\n",
              "      <td>100.00</td>\n",
              "    </tr>\n",
              "  </tbody>\n",
              "</table>\n",
              "</div>\n",
              "    <div class=\"colab-df-buttons\">\n",
              "\n",
              "  <div class=\"colab-df-container\">\n",
              "    <button class=\"colab-df-convert\" onclick=\"convertToInteractive('df-a4c4198c-4f28-4550-86ec-2721ee2278e7')\"\n",
              "            title=\"Convert this dataframe to an interactive table.\"\n",
              "            style=\"display:none;\">\n",
              "\n",
              "  <svg xmlns=\"http://www.w3.org/2000/svg\" height=\"24px\" viewBox=\"0 -960 960 960\">\n",
              "    <path d=\"M120-120v-720h720v720H120Zm60-500h600v-160H180v160Zm220 220h160v-160H400v160Zm0 220h160v-160H400v160ZM180-400h160v-160H180v160Zm440 0h160v-160H620v160ZM180-180h160v-160H180v160Zm440 0h160v-160H620v160Z\"/>\n",
              "  </svg>\n",
              "    </button>\n",
              "\n",
              "  <style>\n",
              "    .colab-df-container {\n",
              "      display:flex;\n",
              "      gap: 12px;\n",
              "    }\n",
              "\n",
              "    .colab-df-convert {\n",
              "      background-color: #E8F0FE;\n",
              "      border: none;\n",
              "      border-radius: 50%;\n",
              "      cursor: pointer;\n",
              "      display: none;\n",
              "      fill: #1967D2;\n",
              "      height: 32px;\n",
              "      padding: 0 0 0 0;\n",
              "      width: 32px;\n",
              "    }\n",
              "\n",
              "    .colab-df-convert:hover {\n",
              "      background-color: #E2EBFA;\n",
              "      box-shadow: 0px 1px 2px rgba(60, 64, 67, 0.3), 0px 1px 3px 1px rgba(60, 64, 67, 0.15);\n",
              "      fill: #174EA6;\n",
              "    }\n",
              "\n",
              "    .colab-df-buttons div {\n",
              "      margin-bottom: 4px;\n",
              "    }\n",
              "\n",
              "    [theme=dark] .colab-df-convert {\n",
              "      background-color: #3B4455;\n",
              "      fill: #D2E3FC;\n",
              "    }\n",
              "\n",
              "    [theme=dark] .colab-df-convert:hover {\n",
              "      background-color: #434B5C;\n",
              "      box-shadow: 0px 1px 3px 1px rgba(0, 0, 0, 0.15);\n",
              "      filter: drop-shadow(0px 1px 2px rgba(0, 0, 0, 0.3));\n",
              "      fill: #FFFFFF;\n",
              "    }\n",
              "  </style>\n",
              "\n",
              "    <script>\n",
              "      const buttonEl =\n",
              "        document.querySelector('#df-a4c4198c-4f28-4550-86ec-2721ee2278e7 button.colab-df-convert');\n",
              "      buttonEl.style.display =\n",
              "        google.colab.kernel.accessAllowed ? 'block' : 'none';\n",
              "\n",
              "      async function convertToInteractive(key) {\n",
              "        const element = document.querySelector('#df-a4c4198c-4f28-4550-86ec-2721ee2278e7');\n",
              "        const dataTable =\n",
              "          await google.colab.kernel.invokeFunction('convertToInteractive',\n",
              "                                                    [key], {});\n",
              "        if (!dataTable) return;\n",
              "\n",
              "        const docLinkHtml = 'Like what you see? Visit the ' +\n",
              "          '<a target=\"_blank\" href=https://colab.research.google.com/notebooks/data_table.ipynb>data table notebook</a>'\n",
              "          + ' to learn more about interactive tables.';\n",
              "        element.innerHTML = '';\n",
              "        dataTable['output_type'] = 'display_data';\n",
              "        await google.colab.output.renderOutput(dataTable, element);\n",
              "        const docLink = document.createElement('div');\n",
              "        docLink.innerHTML = docLinkHtml;\n",
              "        element.appendChild(docLink);\n",
              "      }\n",
              "    </script>\n",
              "  </div>\n",
              "\n",
              "\n",
              "<div id=\"df-96b319b8-35dd-4ea1-b854-8cd24f63ef40\">\n",
              "  <button class=\"colab-df-quickchart\" onclick=\"quickchart('df-96b319b8-35dd-4ea1-b854-8cd24f63ef40')\"\n",
              "            title=\"Suggest charts.\"\n",
              "            style=\"display:none;\">\n",
              "\n",
              "<svg xmlns=\"http://www.w3.org/2000/svg\" height=\"24px\"viewBox=\"0 0 24 24\"\n",
              "     width=\"24px\">\n",
              "    <g>\n",
              "        <path d=\"M19 3H5c-1.1 0-2 .9-2 2v14c0 1.1.9 2 2 2h14c1.1 0 2-.9 2-2V5c0-1.1-.9-2-2-2zM9 17H7v-7h2v7zm4 0h-2V7h2v10zm4 0h-2v-4h2v4z\"/>\n",
              "    </g>\n",
              "</svg>\n",
              "  </button>\n",
              "\n",
              "<style>\n",
              "  .colab-df-quickchart {\n",
              "    background-color: #E8F0FE;\n",
              "    border: none;\n",
              "    border-radius: 50%;\n",
              "    cursor: pointer;\n",
              "    display: none;\n",
              "    fill: #1967D2;\n",
              "    height: 32px;\n",
              "    padding: 0 0 0 0;\n",
              "    width: 32px;\n",
              "  }\n",
              "\n",
              "  .colab-df-quickchart:hover {\n",
              "    background-color: #E2EBFA;\n",
              "    box-shadow: 0px 1px 2px rgba(60, 64, 67, 0.3), 0px 1px 3px 1px rgba(60, 64, 67, 0.15);\n",
              "    fill: #174EA6;\n",
              "  }\n",
              "\n",
              "  [theme=dark] .colab-df-quickchart {\n",
              "    background-color: #3B4455;\n",
              "    fill: #D2E3FC;\n",
              "  }\n",
              "\n",
              "  [theme=dark] .colab-df-quickchart:hover {\n",
              "    background-color: #434B5C;\n",
              "    box-shadow: 0px 1px 3px 1px rgba(0, 0, 0, 0.15);\n",
              "    filter: drop-shadow(0px 1px 2px rgba(0, 0, 0, 0.3));\n",
              "    fill: #FFFFFF;\n",
              "  }\n",
              "</style>\n",
              "\n",
              "  <script>\n",
              "    async function quickchart(key) {\n",
              "      const charts = await google.colab.kernel.invokeFunction(\n",
              "          'suggestCharts', [key], {});\n",
              "    }\n",
              "    (() => {\n",
              "      let quickchartButtonEl =\n",
              "        document.querySelector('#df-96b319b8-35dd-4ea1-b854-8cd24f63ef40 button');\n",
              "      quickchartButtonEl.style.display =\n",
              "        google.colab.kernel.accessAllowed ? 'block' : 'none';\n",
              "    })();\n",
              "  </script>\n",
              "</div>\n",
              "    </div>\n",
              "  </div>\n"
            ],
            "text/plain": [
              "          omission  addition  mis-translation  over-translation  \\\n",
              "critical      2.51      0.00             0.00               0.0   \n",
              "major        15.19     27.06            13.00               0.0   \n",
              "minor         0.00     19.68            21.19               0.0   \n",
              "neutral       0.91      0.00             0.46               0.0   \n",
              "sum          18.61     46.74            34.65               0.0   \n",
              "\n",
              "          under-translation  grammer     sum  \n",
              "critical                0.0      0.0    2.51  \n",
              "major                   0.0      0.0   55.25  \n",
              "minor                   0.0      0.0   40.88  \n",
              "neutral                 0.0      0.0    1.37  \n",
              "sum                     0.0      0.0  100.00  "
            ]
          },
          "execution_count": 274,
          "metadata": {},
          "output_type": "execute_result"
        }
      ],
      "source": [
        "errors_report(df_cmp, True)"
      ]
    },
    {
      "cell_type": "code",
      "execution_count": null,
      "metadata": {
        "colab": {
          "base_uri": "https://localhost:8080/"
        },
        "id": "Ax6WcZBuGUTx",
        "outputId": "e6d60b80-5330-4e22-ddac-d3bfa6eed121"
      },
      "outputs": [
        {
          "data": {
            "text/plain": [
              "4106"
            ]
          },
          "execution_count": 275,
          "metadata": {},
          "output_type": "execute_result"
        }
      ],
      "source": [
        "rep_dict={r\"\\s때\":\" 경우\", r\"\\s경우\":\" 때\"}\n",
        "ratio, seed = 0.3, 908\n",
        "errType = \"mis-translation\"\n",
        "\n",
        "df_t = copy_df(df_cmp)\n",
        "patterns = \"|\".join(rep_dict.keys())\n",
        "\n",
        "te_drop = df_t.drop(index=dindex_dict[errType])\n",
        "transHyp = pd.Series(te_drop.index.map(lambda x: can_noise(te_drop, x)), index=te_drop.index)\n",
        "std_idx = random_index(te_drop.loc[transHyp.str.contains(patterns, regex=True)], ratio, seed)\n",
        "len(std_idx)"
      ]
    },
    {
      "cell_type": "code",
      "execution_count": null,
      "metadata": {
        "colab": {
          "base_uri": "https://localhost:8080/",
          "height": 35
        },
        "id": "6YZ4qBrlMMaa",
        "outputId": "7d9f752a-2280-4a40-b68a-5d9bbe0b6f3c"
      },
      "outputs": [
        {
          "data": {
            "application/vnd.google.colaboratory.intrinsic+json": {
              "type": "string"
            },
            "text/plain": [
              "'\\\\s때'"
            ]
          },
          "execution_count": 276,
          "metadata": {},
          "output_type": "execute_result"
        }
      ],
      "source": [
        "list(rep_dict.keys())[np.random.choice(list(range(0, len(rep_dict.keys()))))]"
      ]
    },
    {
      "cell_type": "code",
      "execution_count": 290,
      "metadata": {
        "id": "82r6ZlLS1bWU"
      },
      "outputs": [],
      "source": [
        "rep_dict={r\"\\s때\":[\" 경우\"], r\"\\s경우\":[\" 때\"]}\n",
        "ratio, seed = 0.4, 908\n",
        "\n",
        "def change_word(df, ratio, seed, rep_dict, severity, errType):\n",
        "    df_t = copy_df(df)\n",
        "    patterns = \"|\".join(rep_dict.keys())\n",
        "\n",
        "    te_drop = df_t.drop(index=dindex_dict[errType])\n",
        "    transHyp = pd.Series(te_drop.index.map(lambda x: can_noise(te_drop, x)), index=te_drop.index)\n",
        "    std_idx = random_index(te_drop.loc[transHyp.str.contains(patterns, regex=True)], ratio, seed)\n",
        "\n",
        "    result = te_drop.loc[std_idx]\n",
        "\n",
        "    rpd_keys = copy.deepcopy(list(rep_dict.keys()))\n",
        "    for e, i in enumerate(std_idx):\n",
        "        cur_hyp = result.loc[i, \"curHyp\"]\n",
        "        np.random.shuffle(rpd_keys)\n",
        "        is_complete=False\n",
        "        for pattern in rpd_keys:\n",
        "            i_word = pattern\n",
        "            o_word = rep_dict[pattern][np.random.choice(list(range(0, len(rep_dict[pattern]))))]\n",
        "\n",
        "            find_list = list(re.finditer(pattern, cur_hyp))\n",
        "            if len(find_list)==0: continue\n",
        "            break\n",
        "        np.random.shuffle(find_list)\n",
        "        f = find_list[0]\n",
        "        start, init_word = f.start(), f.group()\n",
        "        res = replace_inteli(result, i, i_word, o_word)\n",
        "        if res != None:\n",
        "            conv_hyp, start, conv_word, word = res\n",
        "        else:\n",
        "            continue\n",
        "        result.loc[i, \"curHyp\"] = conv_hyp\n",
        "        input_errors(result, i, severity, start, conv_word, errType)\n",
        "\n",
        "        move_index(result, i, start, word, conv_word)\n",
        "        result.loc[i, \"errLog\"][errType] = {\"start_idx\": start, \"text\": conv_word}\n",
        "        dindex_dict[errType].append(i)\n",
        "    return convert_df(df, result)"
      ]
    },
    {
      "cell_type": "code",
      "execution_count": 291,
      "metadata": {
        "id": "nxYK1VIXQTYb",
        "outputId": "5b9ce61d-c465-4757-eeb3-bfcdf9c70e6f",
        "colab": {
          "base_uri": "https://localhost:8080/",
          "height": 53
        }
      },
      "outputs": [
        {
          "output_type": "execute_result",
          "data": {
            "text/plain": [
              "Empty DataFrame\n",
              "Columns: [curHyp, errLog, validation]\n",
              "Index: []"
            ],
            "text/html": [
              "\n",
              "  <div id=\"df-14df265c-2bbe-4e5b-b227-7cc81e3297cf\" class=\"colab-df-container\">\n",
              "    <div>\n",
              "<style scoped>\n",
              "    .dataframe tbody tr th:only-of-type {\n",
              "        vertical-align: middle;\n",
              "    }\n",
              "\n",
              "    .dataframe tbody tr th {\n",
              "        vertical-align: top;\n",
              "    }\n",
              "\n",
              "    .dataframe thead th {\n",
              "        text-align: right;\n",
              "    }\n",
              "</style>\n",
              "<table border=\"1\" class=\"dataframe\">\n",
              "  <thead>\n",
              "    <tr style=\"text-align: right;\">\n",
              "      <th></th>\n",
              "      <th>curHyp</th>\n",
              "      <th>errLog</th>\n",
              "      <th>validation</th>\n",
              "    </tr>\n",
              "  </thead>\n",
              "  <tbody>\n",
              "  </tbody>\n",
              "</table>\n",
              "</div>\n",
              "    <div class=\"colab-df-buttons\">\n",
              "\n",
              "  <div class=\"colab-df-container\">\n",
              "    <button class=\"colab-df-convert\" onclick=\"convertToInteractive('df-14df265c-2bbe-4e5b-b227-7cc81e3297cf')\"\n",
              "            title=\"Convert this dataframe to an interactive table.\"\n",
              "            style=\"display:none;\">\n",
              "\n",
              "  <svg xmlns=\"http://www.w3.org/2000/svg\" height=\"24px\" viewBox=\"0 -960 960 960\">\n",
              "    <path d=\"M120-120v-720h720v720H120Zm60-500h600v-160H180v160Zm220 220h160v-160H400v160Zm0 220h160v-160H400v160ZM180-400h160v-160H180v160Zm440 0h160v-160H620v160ZM180-180h160v-160H180v160Zm440 0h160v-160H620v160Z\"/>\n",
              "  </svg>\n",
              "    </button>\n",
              "\n",
              "  <style>\n",
              "    .colab-df-container {\n",
              "      display:flex;\n",
              "      gap: 12px;\n",
              "    }\n",
              "\n",
              "    .colab-df-convert {\n",
              "      background-color: #E8F0FE;\n",
              "      border: none;\n",
              "      border-radius: 50%;\n",
              "      cursor: pointer;\n",
              "      display: none;\n",
              "      fill: #1967D2;\n",
              "      height: 32px;\n",
              "      padding: 0 0 0 0;\n",
              "      width: 32px;\n",
              "    }\n",
              "\n",
              "    .colab-df-convert:hover {\n",
              "      background-color: #E2EBFA;\n",
              "      box-shadow: 0px 1px 2px rgba(60, 64, 67, 0.3), 0px 1px 3px 1px rgba(60, 64, 67, 0.15);\n",
              "      fill: #174EA6;\n",
              "    }\n",
              "\n",
              "    .colab-df-buttons div {\n",
              "      margin-bottom: 4px;\n",
              "    }\n",
              "\n",
              "    [theme=dark] .colab-df-convert {\n",
              "      background-color: #3B4455;\n",
              "      fill: #D2E3FC;\n",
              "    }\n",
              "\n",
              "    [theme=dark] .colab-df-convert:hover {\n",
              "      background-color: #434B5C;\n",
              "      box-shadow: 0px 1px 3px 1px rgba(0, 0, 0, 0.15);\n",
              "      filter: drop-shadow(0px 1px 2px rgba(0, 0, 0, 0.3));\n",
              "      fill: #FFFFFF;\n",
              "    }\n",
              "  </style>\n",
              "\n",
              "    <script>\n",
              "      const buttonEl =\n",
              "        document.querySelector('#df-14df265c-2bbe-4e5b-b227-7cc81e3297cf button.colab-df-convert');\n",
              "      buttonEl.style.display =\n",
              "        google.colab.kernel.accessAllowed ? 'block' : 'none';\n",
              "\n",
              "      async function convertToInteractive(key) {\n",
              "        const element = document.querySelector('#df-14df265c-2bbe-4e5b-b227-7cc81e3297cf');\n",
              "        const dataTable =\n",
              "          await google.colab.kernel.invokeFunction('convertToInteractive',\n",
              "                                                    [key], {});\n",
              "        if (!dataTable) return;\n",
              "\n",
              "        const docLinkHtml = 'Like what you see? Visit the ' +\n",
              "          '<a target=\"_blank\" href=https://colab.research.google.com/notebooks/data_table.ipynb>data table notebook</a>'\n",
              "          + ' to learn more about interactive tables.';\n",
              "        element.innerHTML = '';\n",
              "        dataTable['output_type'] = 'display_data';\n",
              "        await google.colab.output.renderOutput(dataTable, element);\n",
              "        const docLink = document.createElement('div');\n",
              "        docLink.innerHTML = docLinkHtml;\n",
              "        element.appendChild(docLink);\n",
              "      }\n",
              "    </script>\n",
              "  </div>\n",
              "\n",
              "    </div>\n",
              "  </div>\n"
            ]
          },
          "metadata": {},
          "execution_count": 291
        }
      ],
      "source": [
        "df_ch1 = change_word(df_cmp, 0.4, 908, rep_dict, \"minor\", \"mis-translation\")\n",
        "res = find_errors(df_ch1, dindex_dict)\n",
        "res[\"addition\"]"
      ]
    },
    {
      "cell_type": "code",
      "execution_count": 247,
      "metadata": {
        "colab": {
          "base_uri": "https://localhost:8080/"
        },
        "id": "h89KMuuYGv3h",
        "outputId": "c9ff8433-c054-4408-f7eb-dc45cd8608e2"
      },
      "outputs": [
        {
          "output_type": "stream",
          "name": "stdout",
          "text": [
            "\t  omission: 6686\t6686\n",
            "\t  addition: 16788\t16788\n",
            "\t  mis-translation: 17878\t17878\n",
            "\t  over-translation: 6998\t0\n",
            "\t  under-translation: 3958\t0\n",
            "\t  grammer: 0\t0\n"
          ]
        }
      ],
      "source": [
        "check_idx(df_ch1)"
      ]
    },
    {
      "cell_type": "markdown",
      "metadata": {
        "id": "egVHyaqyUT_D"
      },
      "source": [
        "## Over / Under Translation"
      ]
    },
    {
      "cell_type": "code",
      "source": [
        "dindex_dict['over-translation'] = []\n",
        "dindex_dict['under-translation'] = []"
      ],
      "metadata": {
        "id": "2LDCCOGOQPr6"
      },
      "execution_count": 292,
      "outputs": []
    },
    {
      "cell_type": "code",
      "execution_count": 249,
      "metadata": {
        "id": "w7e41vLxGQD0"
      },
      "outputs": [],
      "source": [
        "import pickle\n",
        "with open(os.path.join(gdrive_path, \"etc_files/under_crawl.pkl\"), \"rb\") as f:\n",
        "    under = pickle.load(f)\n",
        "\n",
        "with open(os.path.join(gdrive_path, \"etc_files/over_crawl.pkl\"), \"rb\") as f:\n",
        "    over = pickle.load(f)"
      ]
    },
    {
      "cell_type": "code",
      "execution_count": 293,
      "metadata": {
        "id": "S7hJ_G6KOnKt"
      },
      "outputs": [],
      "source": [
        "df_over = change_word(df_ch1, 0.2, 808, over, \"major\", \"over-translation\")\n",
        "df_under = change_word(df_over, 0.2, 707, under, \"major\", \"under-translation\")"
      ]
    },
    {
      "cell_type": "code",
      "source": [
        "res = find_errors(df_over, dindex_dict)\n",
        "print(res[\"addition\"].shape[0], res[\"mis-translation\"].shape[0])"
      ],
      "metadata": {
        "id": "TZbZDqjRPFri",
        "outputId": "b53d5d03-9861-4786-cd98-94137e0012ef",
        "colab": {
          "base_uri": "https://localhost:8080/"
        }
      },
      "execution_count": 294,
      "outputs": [
        {
          "output_type": "stream",
          "name": "stdout",
          "text": [
            "0 0\n"
          ]
        }
      ]
    },
    {
      "cell_type": "code",
      "source": [
        "res = find_errors(df_under, dindex_dict)\n",
        "print(res[\"addition\"].shape[0], res[\"mis-translation\"].shape[0])"
      ],
      "metadata": {
        "id": "Enk9MVLOTVjU",
        "outputId": "140d9fc2-856b-4948-b937-d56dba903d19",
        "colab": {
          "base_uri": "https://localhost:8080/"
        }
      },
      "execution_count": 295,
      "outputs": [
        {
          "output_type": "stream",
          "name": "stdout",
          "text": [
            "0 0\n"
          ]
        }
      ]
    },
    {
      "cell_type": "code",
      "execution_count": 296,
      "metadata": {
        "colab": {
          "base_uri": "https://localhost:8080/"
        },
        "id": "SBPu_5ulQsdC",
        "outputId": "6ea97d11-9a9a-405e-8f80-d13450aaad55"
      },
      "outputs": [
        {
          "output_type": "stream",
          "name": "stdout",
          "text": [
            "\t  omission: 6686\t6686\n",
            "\t  addition: 16788\t16788\n",
            "\t  mis-translation: 17878\t17878\n",
            "\t  over-translation: 6997\t6997\n",
            "\t  under-translation: 3693\t3693\n",
            "\t  grammer: 0\t0\n"
          ]
        }
      ],
      "source": [
        "check_idx(df_under)"
      ]
    },
    {
      "cell_type": "markdown",
      "metadata": {
        "id": "LyMdVgpAmt9b"
      },
      "source": [
        "## Grammer"
      ]
    },
    {
      "cell_type": "markdown",
      "metadata": {
        "id": "1X9thrfj1zDu"
      },
      "source": [
        "### Grammer-Minor"
      ]
    },
    {
      "cell_type": "code",
      "execution_count": 297,
      "metadata": {
        "id": "VLT79jjpVd82"
      },
      "outputs": [],
      "source": [
        "dindex_dict[\"grammer\"] = []"
      ]
    },
    {
      "cell_type": "code",
      "execution_count": 300,
      "metadata": {
        "id": "3YrAJi_AmyWO"
      },
      "outputs": [],
      "source": [
        "def josa_grammer(df, ratio, seed):\n",
        "    df_t = copy_df(df)\n",
        "    js_mstr_index = random_index(df_t.drop(index=dindex_dict[\"grammer\"]), ratio, seed)\n",
        "    js_tokens = df_t.loc[js_mstr_index].curHyp.apply(lambda x: kiwi.tokenize(x))\n",
        "\n",
        "    jsd = {\n",
        "        \"가\":\"이\", \"을\":\"를\", \"로써\":\"으로써\", \"로서\":\"으로서\",\n",
        "        \"로\":\"으로\", \"로부터\":\"으로부터\", \"란\":\"이란\", \"나\":\"이나\",\n",
        "        \"와\":\"과\", \"랑\":\"이랑\", \"이랑\":\"랑\", \"며\":\"이며\", \"이며\":\"며\"\n",
        "        }\n",
        "    keys = list(jsd.keys())\n",
        "    for key in keys:\n",
        "        jsd[jsd[key]] = key\n",
        "\n",
        "    tags=[\"JKS\", \"JKC\", \"JKO\", \"JKB\", \"JX\", \"JC\"]\n",
        "    need_josa = None\n",
        "    for i, tag in enumerate(tags):\n",
        "        if i==0:\n",
        "            need_josa = js_tokens.apply(lambda x: find_tokens(x, tag))\n",
        "        else:\n",
        "            need_josa += js_tokens.apply(lambda x: find_tokens(x, tag))\n",
        "\n",
        "    drop_index = need_josa[need_josa.apply(len)==0].index\n",
        "    js_mstr_index = list(set(js_mstr_index)-set(drop_index))\n",
        "    need_josa.drop(index=drop_index, axis=0, inplace=True)\n",
        "    josa_elem = need_josa.apply(lambda x: list(set([val[0] for val in x])))\n",
        "    result = df_t.loc[js_mstr_index]\n",
        "\n",
        "    for i in js_mstr_index:\n",
        "        cur_hyp = result.loc[i, \"curHyp\"]\n",
        "        target = josa_elem[i]\n",
        "        np.random.shuffle(target)\n",
        "        for word in target:\n",
        "            try:\n",
        "                conv_hyp, start, conv_word, word = replace_inteli(result, i, word, jsd[word])\n",
        "                result.loc[i, \"curHyp\"] = conv_hyp\n",
        "                input_errors(result, i, 'minor', start, conv_word, 'grammer')\n",
        "\n",
        "                move_index(result, i, start, word, conv_word)\n",
        "                result.loc[i, \"errLog\"][\"grammer\"] = {\"start_idx\": start, \"text\": conv_word}\n",
        "                dindex_dict[\"grammer\"].append(i)\n",
        "                break\n",
        "            except:\n",
        "                pass\n",
        "\n",
        "    return convert_df(df, result)"
      ]
    },
    {
      "cell_type": "code",
      "source": [
        "df_jmt = josa_grammer(df_under, 0.2, 1010)\n",
        "res = find_errors(df_jmt, dindex_dict)\n",
        "for key in res.keys():\n",
        "    print(f\"{key}: {res[key].shape[0]}\", end='\\t')"
      ],
      "metadata": {
        "id": "xCLT2jnBUUSL",
        "outputId": "a6e552b9-4738-4a31-a867-3d2fe3ba8100",
        "colab": {
          "base_uri": "https://localhost:8080/"
        }
      },
      "execution_count": 301,
      "outputs": [
        {
          "output_type": "stream",
          "name": "stdout",
          "text": [
            "omission: 6686\taddition: 0\tmis-translation: 0\tover-translation: 0\tunder-translation: 0\tgrammer: 0\t"
          ]
        }
      ]
    },
    {
      "cell_type": "code",
      "execution_count": 302,
      "metadata": {
        "colab": {
          "base_uri": "https://localhost:8080/"
        },
        "id": "XOsjBd7rz_H8",
        "outputId": "0a29745e-8e87-4040-dabc-9b3acba8df23"
      },
      "outputs": [
        {
          "output_type": "stream",
          "name": "stdout",
          "text": [
            "\t  omission: 6686\t6686\n",
            "\t  addition: 16788\t16788\n",
            "\t  mis-translation: 17878\t17878\n",
            "\t  over-translation: 6997\t6997\n",
            "\t  under-translation: 3693\t3693\n",
            "\t  grammer: 8697\t8697\n"
          ]
        }
      ],
      "source": [
        "check_idx(df_jmt)"
      ]
    },
    {
      "cell_type": "code",
      "execution_count": 305,
      "metadata": {
        "id": "i4_cL9dLldf-"
      },
      "outputs": [],
      "source": [
        "def hada_gram(df, ratio, seed):\n",
        "    df_t = copy_df(df)\n",
        "    te_drop = df_t.drop(index=dindex_dict[\"grammer\"])\n",
        "    transHyp = pd.Series(te_drop.index.map(lambda x: can_noise(te_drop, x)), index=te_drop.index)\n",
        "    temp = te_drop.loc[transHyp.apply(lambda x: \"한다\" in x)]\n",
        "    handa_index = random_index(temp, ratio, seed)\n",
        "    result = df_t.loc[handa_index]\n",
        "    replace_list = [\"하다\", \"함\"]\n",
        "\n",
        "    for i in handa_index:\n",
        "        cur_hyp = result.loc[i, \"curHyp\"]\n",
        "        r_word = np.random.choice(replace_list)\n",
        "        conv_hyp, start, conv_word, word = replace_inteli(result, i, \"한다\", r_word)\n",
        "\n",
        "        result.loc[i, \"curHyp\"] = conv_hyp\n",
        "        input_errors(result, i, 'minor', start, conv_word, 'grammer')\n",
        "\n",
        "        move_index(result, i, start, word, conv_word)\n",
        "        result.loc[i, \"errLog\"][\"grammer\"] = {\"start_idx\": start, \"text\": conv_word}\n",
        "        dindex_dict[\"grammer\"].append(i)\n",
        "    return convert_df(df, result)"
      ]
    },
    {
      "cell_type": "code",
      "source": [
        "df_hada = hada_gram(df_jmt, 0.4, 141)\n",
        "res = find_errors(df_hada, dindex_dict)\n",
        "for key in res.keys():\n",
        "    print(f\"{key}: {res[key].shape[0]}\", end='\\t')"
      ],
      "metadata": {
        "id": "-3mVecgxVD8h",
        "outputId": "1be645bd-5a93-4640-9aa0-9341de0fa367",
        "colab": {
          "base_uri": "https://localhost:8080/"
        }
      },
      "execution_count": 306,
      "outputs": [
        {
          "output_type": "stream",
          "name": "stdout",
          "text": [
            "omission: 6686\taddition: 0\tmis-translation: 0\tover-translation: 0\tunder-translation: 0\tgrammer: 0\t"
          ]
        }
      ]
    },
    {
      "cell_type": "code",
      "execution_count": 307,
      "metadata": {
        "colab": {
          "base_uri": "https://localhost:8080/"
        },
        "id": "euTRKrN1X844",
        "outputId": "2094e2a7-7ee8-419e-95db-77a2228d4ce5"
      },
      "outputs": [
        {
          "output_type": "stream",
          "name": "stdout",
          "text": [
            "\t  omission: 6686\t6686\n",
            "\t  addition: 16788\t16788\n",
            "\t  mis-translation: 17878\t17878\n",
            "\t  over-translation: 6997\t6997\n",
            "\t  under-translation: 3693\t3693\n",
            "\t  grammer: 17234\t17234\n"
          ]
        }
      ],
      "source": [
        "check_idx(df_hada)"
      ]
    },
    {
      "cell_type": "code",
      "execution_count": 308,
      "metadata": {
        "colab": {
          "base_uri": "https://localhost:8080/"
        },
        "id": "xd5uqeIPvieP",
        "outputId": "dea5b4af-86b5-4522-ef8a-21bb0c196778"
      },
      "outputs": [
        {
          "output_type": "execute_result",
          "data": {
            "text/plain": [
              "38450"
            ]
          },
          "metadata": {},
          "execution_count": 308
        }
      ],
      "source": [
        "df_hada.loc[df_hada.errors.apply(len)>0].shape[0]"
      ]
    },
    {
      "cell_type": "markdown",
      "metadata": {
        "id": "E2wwJy45UIQX"
      },
      "source": [
        "# 후처리"
      ]
    },
    {
      "cell_type": "code",
      "execution_count": null,
      "metadata": {
        "id": "AeG1S6cbbfdA"
      },
      "outputs": [],
      "source": [
        "def convert_index(df_new):\n",
        "    df = copy_df(df_new)\n",
        "    new_errs = []\n",
        "    for i in df.index:\n",
        "        errors, errLog = df.loc[i, \"errors\"], df.loc[i, \"errLog\"]\n",
        "\n",
        "        for i, err in enumerate(df.loc[i, \"errors\"]):\n",
        "            errors[i]['start_idx'] = errLog[err[\"type\"]][\"start_idx\"]\n",
        "\n",
        "        new_errs.append(errors)\n",
        "    df[\"errors\"] = new_errs\n",
        "    return df\n",
        "temp = convert_index(df_mit)"
      ]
    },
    {
      "cell_type": "code",
      "execution_count": null,
      "metadata": {
        "id": "BJv-Y8UfUpks"
      },
      "outputs": [],
      "source": [
        "# df_mit.loc[df_jmt.errLog.apply(lambda x: len(x)>2)].iloc[:10]"
      ]
    },
    {
      "cell_type": "code",
      "execution_count": null,
      "metadata": {
        "id": "RYMSsJCwUp0u"
      },
      "outputs": [],
      "source": [
        "# temp.loc[df_jmt.errLog.apply(lambda x: len(x)>2)].iloc[:10]"
      ]
    },
    {
      "cell_type": "code",
      "execution_count": null,
      "metadata": {
        "id": "5nu6OaweY7h_"
      },
      "outputs": [],
      "source": [
        "def make_dict(df):\n",
        "    output_json = dict()\n",
        "    output_json[\"data\"] = []\n",
        "    for i in df.index:\n",
        "        base_form = {\"category\": None, \"en\": None, \"errs\": None, \"hyp\": None, \"ko\": None, \"law_name\": None}\n",
        "        if len(df.loc[i, \"errors\"])==0:\n",
        "            continue\n",
        "        base_form[\"category\"] = df.loc[i, \"category\"]\n",
        "        base_form[\"en\"] = df.loc[i, \"ENG\"]\n",
        "        base_form[\"errs\"] = df.loc[i, \"errors\"]\n",
        "        base_form[\"hyp\"] = df.loc[i, \"curHyp\"]\n",
        "        base_form[\"ko\"] = df.loc[i, \"KOR\"]\n",
        "        base_form[\"law_name\"] = df.loc[i, \"lawName\"]\n",
        "        output_json[\"data\"].append(base_form)\n",
        "    return output_json\n",
        "\n",
        "rrrr = make_dict(df_can)"
      ]
    },
    {
      "cell_type": "code",
      "execution_count": null,
      "metadata": {
        "id": "UTAVRr1GaWEE"
      },
      "outputs": [],
      "source": [
        "with open(os.path.join(gdrive_path, \"data_0825.json\"), \"w\") as f:\n",
        "  json.dump(rrrr, f, ensure_ascii=False, indent=4)"
      ]
    }
  ],
  "metadata": {
    "colab": {
      "provenance": [],
      "toc_visible": true,
      "include_colab_link": true
    },
    "kernelspec": {
      "display_name": "main",
      "language": "python",
      "name": "python3"
    },
    "language_info": {
      "codemirror_mode": {
        "name": "ipython",
        "version": 3
      },
      "file_extension": ".py",
      "mimetype": "text/x-python",
      "name": "python",
      "nbconvert_exporter": "python",
      "pygments_lexer": "ipython3",
      "version": "3.8.8"
    },
    "orig_nbformat": 4,
    "widgets": {
      "application/vnd.jupyter.widget-state+json": {
        "cd2e0361d1734322a4239792fb2833d0": {
          "model_module": "@jupyter-widgets/controls",
          "model_name": "HBoxModel",
          "model_module_version": "1.5.0",
          "state": {
            "_dom_classes": [],
            "_model_module": "@jupyter-widgets/controls",
            "_model_module_version": "1.5.0",
            "_model_name": "HBoxModel",
            "_view_count": null,
            "_view_module": "@jupyter-widgets/controls",
            "_view_module_version": "1.5.0",
            "_view_name": "HBoxView",
            "box_style": "",
            "children": [
              "IPY_MODEL_afd4ae012910456f98e4dbb87f838a59",
              "IPY_MODEL_93b17a6ad6f74c9daa625921ab855698",
              "IPY_MODEL_412f247d09ea40d4b37c498deab29611"
            ],
            "layout": "IPY_MODEL_539cb9995c514688996c0b8f934dae56"
          }
        },
        "afd4ae012910456f98e4dbb87f838a59": {
          "model_module": "@jupyter-widgets/controls",
          "model_name": "HTMLModel",
          "model_module_version": "1.5.0",
          "state": {
            "_dom_classes": [],
            "_model_module": "@jupyter-widgets/controls",
            "_model_module_version": "1.5.0",
            "_model_name": "HTMLModel",
            "_view_count": null,
            "_view_module": "@jupyter-widgets/controls",
            "_view_module_version": "1.5.0",
            "_view_name": "HTMLView",
            "description": "",
            "description_tooltip": null,
            "layout": "IPY_MODEL_8827216a86bd418d807ebb3da37833e7",
            "placeholder": "​",
            "style": "IPY_MODEL_8ff8e9355ac542bb8fcb3092ce5bf7e2",
            "value": "100%"
          }
        },
        "93b17a6ad6f74c9daa625921ab855698": {
          "model_module": "@jupyter-widgets/controls",
          "model_name": "FloatProgressModel",
          "model_module_version": "1.5.0",
          "state": {
            "_dom_classes": [],
            "_model_module": "@jupyter-widgets/controls",
            "_model_module_version": "1.5.0",
            "_model_name": "FloatProgressModel",
            "_view_count": null,
            "_view_module": "@jupyter-widgets/controls",
            "_view_module_version": "1.5.0",
            "_view_name": "ProgressView",
            "bar_style": "success",
            "description": "",
            "description_tooltip": null,
            "layout": "IPY_MODEL_59288257cc9e498eb197528cb378192c",
            "max": 45092,
            "min": 0,
            "orientation": "horizontal",
            "style": "IPY_MODEL_5a44f21694e741ddb411ee46f5ec7be0",
            "value": 45092
          }
        },
        "412f247d09ea40d4b37c498deab29611": {
          "model_module": "@jupyter-widgets/controls",
          "model_name": "HTMLModel",
          "model_module_version": "1.5.0",
          "state": {
            "_dom_classes": [],
            "_model_module": "@jupyter-widgets/controls",
            "_model_module_version": "1.5.0",
            "_model_name": "HTMLModel",
            "_view_count": null,
            "_view_module": "@jupyter-widgets/controls",
            "_view_module_version": "1.5.0",
            "_view_name": "HTMLView",
            "description": "",
            "description_tooltip": null,
            "layout": "IPY_MODEL_1bc5e2267d9e4715a6cc2576b5de1cf5",
            "placeholder": "​",
            "style": "IPY_MODEL_110c9058237a48229c53e5eac319220c",
            "value": " 45092/45092 [00:06&lt;00:00, 3967.06it/s]"
          }
        },
        "539cb9995c514688996c0b8f934dae56": {
          "model_module": "@jupyter-widgets/base",
          "model_name": "LayoutModel",
          "model_module_version": "1.2.0",
          "state": {
            "_model_module": "@jupyter-widgets/base",
            "_model_module_version": "1.2.0",
            "_model_name": "LayoutModel",
            "_view_count": null,
            "_view_module": "@jupyter-widgets/base",
            "_view_module_version": "1.2.0",
            "_view_name": "LayoutView",
            "align_content": null,
            "align_items": null,
            "align_self": null,
            "border": null,
            "bottom": null,
            "display": null,
            "flex": null,
            "flex_flow": null,
            "grid_area": null,
            "grid_auto_columns": null,
            "grid_auto_flow": null,
            "grid_auto_rows": null,
            "grid_column": null,
            "grid_gap": null,
            "grid_row": null,
            "grid_template_areas": null,
            "grid_template_columns": null,
            "grid_template_rows": null,
            "height": null,
            "justify_content": null,
            "justify_items": null,
            "left": null,
            "margin": null,
            "max_height": null,
            "max_width": null,
            "min_height": null,
            "min_width": null,
            "object_fit": null,
            "object_position": null,
            "order": null,
            "overflow": null,
            "overflow_x": null,
            "overflow_y": null,
            "padding": null,
            "right": null,
            "top": null,
            "visibility": null,
            "width": null
          }
        },
        "8827216a86bd418d807ebb3da37833e7": {
          "model_module": "@jupyter-widgets/base",
          "model_name": "LayoutModel",
          "model_module_version": "1.2.0",
          "state": {
            "_model_module": "@jupyter-widgets/base",
            "_model_module_version": "1.2.0",
            "_model_name": "LayoutModel",
            "_view_count": null,
            "_view_module": "@jupyter-widgets/base",
            "_view_module_version": "1.2.0",
            "_view_name": "LayoutView",
            "align_content": null,
            "align_items": null,
            "align_self": null,
            "border": null,
            "bottom": null,
            "display": null,
            "flex": null,
            "flex_flow": null,
            "grid_area": null,
            "grid_auto_columns": null,
            "grid_auto_flow": null,
            "grid_auto_rows": null,
            "grid_column": null,
            "grid_gap": null,
            "grid_row": null,
            "grid_template_areas": null,
            "grid_template_columns": null,
            "grid_template_rows": null,
            "height": null,
            "justify_content": null,
            "justify_items": null,
            "left": null,
            "margin": null,
            "max_height": null,
            "max_width": null,
            "min_height": null,
            "min_width": null,
            "object_fit": null,
            "object_position": null,
            "order": null,
            "overflow": null,
            "overflow_x": null,
            "overflow_y": null,
            "padding": null,
            "right": null,
            "top": null,
            "visibility": null,
            "width": null
          }
        },
        "8ff8e9355ac542bb8fcb3092ce5bf7e2": {
          "model_module": "@jupyter-widgets/controls",
          "model_name": "DescriptionStyleModel",
          "model_module_version": "1.5.0",
          "state": {
            "_model_module": "@jupyter-widgets/controls",
            "_model_module_version": "1.5.0",
            "_model_name": "DescriptionStyleModel",
            "_view_count": null,
            "_view_module": "@jupyter-widgets/base",
            "_view_module_version": "1.2.0",
            "_view_name": "StyleView",
            "description_width": ""
          }
        },
        "59288257cc9e498eb197528cb378192c": {
          "model_module": "@jupyter-widgets/base",
          "model_name": "LayoutModel",
          "model_module_version": "1.2.0",
          "state": {
            "_model_module": "@jupyter-widgets/base",
            "_model_module_version": "1.2.0",
            "_model_name": "LayoutModel",
            "_view_count": null,
            "_view_module": "@jupyter-widgets/base",
            "_view_module_version": "1.2.0",
            "_view_name": "LayoutView",
            "align_content": null,
            "align_items": null,
            "align_self": null,
            "border": null,
            "bottom": null,
            "display": null,
            "flex": null,
            "flex_flow": null,
            "grid_area": null,
            "grid_auto_columns": null,
            "grid_auto_flow": null,
            "grid_auto_rows": null,
            "grid_column": null,
            "grid_gap": null,
            "grid_row": null,
            "grid_template_areas": null,
            "grid_template_columns": null,
            "grid_template_rows": null,
            "height": null,
            "justify_content": null,
            "justify_items": null,
            "left": null,
            "margin": null,
            "max_height": null,
            "max_width": null,
            "min_height": null,
            "min_width": null,
            "object_fit": null,
            "object_position": null,
            "order": null,
            "overflow": null,
            "overflow_x": null,
            "overflow_y": null,
            "padding": null,
            "right": null,
            "top": null,
            "visibility": null,
            "width": null
          }
        },
        "5a44f21694e741ddb411ee46f5ec7be0": {
          "model_module": "@jupyter-widgets/controls",
          "model_name": "ProgressStyleModel",
          "model_module_version": "1.5.0",
          "state": {
            "_model_module": "@jupyter-widgets/controls",
            "_model_module_version": "1.5.0",
            "_model_name": "ProgressStyleModel",
            "_view_count": null,
            "_view_module": "@jupyter-widgets/base",
            "_view_module_version": "1.2.0",
            "_view_name": "StyleView",
            "bar_color": null,
            "description_width": ""
          }
        },
        "1bc5e2267d9e4715a6cc2576b5de1cf5": {
          "model_module": "@jupyter-widgets/base",
          "model_name": "LayoutModel",
          "model_module_version": "1.2.0",
          "state": {
            "_model_module": "@jupyter-widgets/base",
            "_model_module_version": "1.2.0",
            "_model_name": "LayoutModel",
            "_view_count": null,
            "_view_module": "@jupyter-widgets/base",
            "_view_module_version": "1.2.0",
            "_view_name": "LayoutView",
            "align_content": null,
            "align_items": null,
            "align_self": null,
            "border": null,
            "bottom": null,
            "display": null,
            "flex": null,
            "flex_flow": null,
            "grid_area": null,
            "grid_auto_columns": null,
            "grid_auto_flow": null,
            "grid_auto_rows": null,
            "grid_column": null,
            "grid_gap": null,
            "grid_row": null,
            "grid_template_areas": null,
            "grid_template_columns": null,
            "grid_template_rows": null,
            "height": null,
            "justify_content": null,
            "justify_items": null,
            "left": null,
            "margin": null,
            "max_height": null,
            "max_width": null,
            "min_height": null,
            "min_width": null,
            "object_fit": null,
            "object_position": null,
            "order": null,
            "overflow": null,
            "overflow_x": null,
            "overflow_y": null,
            "padding": null,
            "right": null,
            "top": null,
            "visibility": null,
            "width": null
          }
        },
        "110c9058237a48229c53e5eac319220c": {
          "model_module": "@jupyter-widgets/controls",
          "model_name": "DescriptionStyleModel",
          "model_module_version": "1.5.0",
          "state": {
            "_model_module": "@jupyter-widgets/controls",
            "_model_module_version": "1.5.0",
            "_model_name": "DescriptionStyleModel",
            "_view_count": null,
            "_view_module": "@jupyter-widgets/base",
            "_view_module_version": "1.2.0",
            "_view_name": "StyleView",
            "description_width": ""
          }
        }
      }
    }
  },
  "nbformat": 4,
  "nbformat_minor": 0
}
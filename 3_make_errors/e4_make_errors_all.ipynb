{
  "cells": [
    {
      "cell_type": "markdown",
      "metadata": {
        "id": "1yOqYTZXG5q6"
      },
      "source": [
        "<a href=\"https://colab.research.google.com/github/tjtmddnjswkd/capstone/blob/jc/3_make_errors/e4_make_errors_all.ipynb\" target=\"_parent\"><img src=\"https://colab.research.google.com/assets/colab-badge.svg\" alt=\"Open In Colab\"/></a>"
      ]
    },
    {
      "cell_type": "code",
      "execution_count": 1,
      "metadata": {
        "id": "Poy4ylDO2yJ6"
      },
      "outputs": [],
      "source": [
        "# !pip install kiwipiepy\n",
        "# # !pip install nltk\n",
        "# # !pip install\n",
        "# # !pip install selenium\n",
        "\n",
        "# #코랩에서 구글드라이버 연동\n",
        "# # !apt-get update\n",
        "# # !apt install chromium-chromedriver"
      ]
    },
    {
      "cell_type": "code",
      "execution_count": 2,
      "metadata": {
        "colab": {
          "base_uri": "https://localhost:8080/"
        },
        "id": "QAOpFDsxG5q_",
        "outputId": "5e6dd590-7063-45bb-cdba-92103b15b451"
      },
      "outputs": [
        {
          "output_type": "stream",
          "name": "stdout",
          "text": [
            "Mounted at /content/drive\n"
          ]
        }
      ],
      "source": [
        "try:\n",
        "    from google.colab import drive\n",
        "    drive.mount('/content/drive')\n",
        "except:\n",
        "    pass"
      ]
    },
    {
      "cell_type": "markdown",
      "metadata": {
        "id": "ozBK-UplHXCn"
      },
      "source": [
        "# 0.Data Load"
      ]
    },
    {
      "cell_type": "code",
      "execution_count": 3,
      "metadata": {
        "id": "wnd-0dXQG5rB"
      },
      "outputs": [],
      "source": [
        "import pandas as pd\n",
        "import numpy as np\n",
        "import json\n",
        "import os\n",
        "import re\n",
        "import copy\n",
        "from tqdm.notebook import tqdm\n",
        "\n",
        "if os.path.exists(r\"G:\\내 드라이브\\KB인턴관련\"):\n",
        "    gdrive_path = r\"G:\\내 드라이브\\KB인턴관련\"\n",
        "else:\n",
        "    gdrive_path = \"/content/drive/MyDrive/KB인턴관련\""
      ]
    },
    {
      "cell_type": "code",
      "execution_count": 4,
      "metadata": {
        "colab": {
          "base_uri": "https://localhost:8080/",
          "height": 206
        },
        "id": "LQO-CfvlG5rC",
        "outputId": "cbc80c10-0222-48b3-ad22-fd304e6cb40b"
      },
      "outputs": [
        {
          "output_type": "execute_result",
          "data": {
            "text/plain": [
              "  category           lawName  \\\n",
              "0       헌법  개성공업지구 지원에 관한 법률   \n",
              "2       헌법  개성공업지구 지원에 관한 법률   \n",
              "3       헌법  개성공업지구 지원에 관한 법률   \n",
              "4       헌법  개성공업지구 지원에 관한 법률   \n",
              "5       헌법  개성공업지구 지원에 관한 법률   \n",
              "\n",
              "                                                 ENG  \\\n",
              "0  The purpose of this Act is to enhance inter-Ko...   \n",
              "2  The term \"Gaeseong Industrial Complex\" or \"GIC...   \n",
              "3  The term \"GIC developer\" means a South Korean ...   \n",
              "4  The term \"GIC management organ\" means a corpor...   \n",
              "5  The term \"local enterprise of the GIC\" means a...   \n",
              "\n",
              "                                                 KOR  \n",
              "0  이 법은 개성공업지구의 개발·운영의 지원 및 개성공업지구에 투자하거나 출입·체류하는...  \n",
              "2  \"개성공업지구\"란 남한과 북한 사이의 합의에 따라서 북한의 개성지역 일대에서 개발·...  \n",
              "3  \"개성공업지구 개발업자\"란 「남북교류협력에 관한 법률」에 따른 협력사업의 승인을 받...  \n",
              "4  \"개성공업지구 관리기관\"이란 개성공업지구의 관리·운영을 위하여 북한의 「개성공업지구...  \n",
              "5  \"개성공업지구 현지기업\"이란 남한주민이 「남북교류협력에 관한 법률」에 따른 협력사업...  "
            ],
            "text/html": [
              "\n",
              "  <div id=\"df-56a873e5-65db-474d-81ce-e2e737568b3e\" class=\"colab-df-container\">\n",
              "    <div>\n",
              "<style scoped>\n",
              "    .dataframe tbody tr th:only-of-type {\n",
              "        vertical-align: middle;\n",
              "    }\n",
              "\n",
              "    .dataframe tbody tr th {\n",
              "        vertical-align: top;\n",
              "    }\n",
              "\n",
              "    .dataframe thead th {\n",
              "        text-align: right;\n",
              "    }\n",
              "</style>\n",
              "<table border=\"1\" class=\"dataframe\">\n",
              "  <thead>\n",
              "    <tr style=\"text-align: right;\">\n",
              "      <th></th>\n",
              "      <th>category</th>\n",
              "      <th>lawName</th>\n",
              "      <th>ENG</th>\n",
              "      <th>KOR</th>\n",
              "    </tr>\n",
              "  </thead>\n",
              "  <tbody>\n",
              "    <tr>\n",
              "      <th>0</th>\n",
              "      <td>헌법</td>\n",
              "      <td>개성공업지구 지원에 관한 법률</td>\n",
              "      <td>The purpose of this Act is to enhance inter-Ko...</td>\n",
              "      <td>이 법은 개성공업지구의 개발·운영의 지원 및 개성공업지구에 투자하거나 출입·체류하는...</td>\n",
              "    </tr>\n",
              "    <tr>\n",
              "      <th>2</th>\n",
              "      <td>헌법</td>\n",
              "      <td>개성공업지구 지원에 관한 법률</td>\n",
              "      <td>The term \"Gaeseong Industrial Complex\" or \"GIC...</td>\n",
              "      <td>\"개성공업지구\"란 남한과 북한 사이의 합의에 따라서 북한의 개성지역 일대에서 개발·...</td>\n",
              "    </tr>\n",
              "    <tr>\n",
              "      <th>3</th>\n",
              "      <td>헌법</td>\n",
              "      <td>개성공업지구 지원에 관한 법률</td>\n",
              "      <td>The term \"GIC developer\" means a South Korean ...</td>\n",
              "      <td>\"개성공업지구 개발업자\"란 「남북교류협력에 관한 법률」에 따른 협력사업의 승인을 받...</td>\n",
              "    </tr>\n",
              "    <tr>\n",
              "      <th>4</th>\n",
              "      <td>헌법</td>\n",
              "      <td>개성공업지구 지원에 관한 법률</td>\n",
              "      <td>The term \"GIC management organ\" means a corpor...</td>\n",
              "      <td>\"개성공업지구 관리기관\"이란 개성공업지구의 관리·운영을 위하여 북한의 「개성공업지구...</td>\n",
              "    </tr>\n",
              "    <tr>\n",
              "      <th>5</th>\n",
              "      <td>헌법</td>\n",
              "      <td>개성공업지구 지원에 관한 법률</td>\n",
              "      <td>The term \"local enterprise of the GIC\" means a...</td>\n",
              "      <td>\"개성공업지구 현지기업\"이란 남한주민이 「남북교류협력에 관한 법률」에 따른 협력사업...</td>\n",
              "    </tr>\n",
              "  </tbody>\n",
              "</table>\n",
              "</div>\n",
              "    <div class=\"colab-df-buttons\">\n",
              "\n",
              "  <div class=\"colab-df-container\">\n",
              "    <button class=\"colab-df-convert\" onclick=\"convertToInteractive('df-56a873e5-65db-474d-81ce-e2e737568b3e')\"\n",
              "            title=\"Convert this dataframe to an interactive table.\"\n",
              "            style=\"display:none;\">\n",
              "\n",
              "  <svg xmlns=\"http://www.w3.org/2000/svg\" height=\"24px\" viewBox=\"0 -960 960 960\">\n",
              "    <path d=\"M120-120v-720h720v720H120Zm60-500h600v-160H180v160Zm220 220h160v-160H400v160Zm0 220h160v-160H400v160ZM180-400h160v-160H180v160Zm440 0h160v-160H620v160ZM180-180h160v-160H180v160Zm440 0h160v-160H620v160Z\"/>\n",
              "  </svg>\n",
              "    </button>\n",
              "\n",
              "  <style>\n",
              "    .colab-df-container {\n",
              "      display:flex;\n",
              "      gap: 12px;\n",
              "    }\n",
              "\n",
              "    .colab-df-convert {\n",
              "      background-color: #E8F0FE;\n",
              "      border: none;\n",
              "      border-radius: 50%;\n",
              "      cursor: pointer;\n",
              "      display: none;\n",
              "      fill: #1967D2;\n",
              "      height: 32px;\n",
              "      padding: 0 0 0 0;\n",
              "      width: 32px;\n",
              "    }\n",
              "\n",
              "    .colab-df-convert:hover {\n",
              "      background-color: #E2EBFA;\n",
              "      box-shadow: 0px 1px 2px rgba(60, 64, 67, 0.3), 0px 1px 3px 1px rgba(60, 64, 67, 0.15);\n",
              "      fill: #174EA6;\n",
              "    }\n",
              "\n",
              "    .colab-df-buttons div {\n",
              "      margin-bottom: 4px;\n",
              "    }\n",
              "\n",
              "    [theme=dark] .colab-df-convert {\n",
              "      background-color: #3B4455;\n",
              "      fill: #D2E3FC;\n",
              "    }\n",
              "\n",
              "    [theme=dark] .colab-df-convert:hover {\n",
              "      background-color: #434B5C;\n",
              "      box-shadow: 0px 1px 3px 1px rgba(0, 0, 0, 0.15);\n",
              "      filter: drop-shadow(0px 1px 2px rgba(0, 0, 0, 0.3));\n",
              "      fill: #FFFFFF;\n",
              "    }\n",
              "  </style>\n",
              "\n",
              "    <script>\n",
              "      const buttonEl =\n",
              "        document.querySelector('#df-56a873e5-65db-474d-81ce-e2e737568b3e button.colab-df-convert');\n",
              "      buttonEl.style.display =\n",
              "        google.colab.kernel.accessAllowed ? 'block' : 'none';\n",
              "\n",
              "      async function convertToInteractive(key) {\n",
              "        const element = document.querySelector('#df-56a873e5-65db-474d-81ce-e2e737568b3e');\n",
              "        const dataTable =\n",
              "          await google.colab.kernel.invokeFunction('convertToInteractive',\n",
              "                                                    [key], {});\n",
              "        if (!dataTable) return;\n",
              "\n",
              "        const docLinkHtml = 'Like what you see? Visit the ' +\n",
              "          '<a target=\"_blank\" href=https://colab.research.google.com/notebooks/data_table.ipynb>data table notebook</a>'\n",
              "          + ' to learn more about interactive tables.';\n",
              "        element.innerHTML = '';\n",
              "        dataTable['output_type'] = 'display_data';\n",
              "        await google.colab.output.renderOutput(dataTable, element);\n",
              "        const docLink = document.createElement('div');\n",
              "        docLink.innerHTML = docLinkHtml;\n",
              "        element.appendChild(docLink);\n",
              "      }\n",
              "    </script>\n",
              "  </div>\n",
              "\n",
              "\n",
              "<div id=\"df-f968d667-1e68-4da1-a5d1-f2830d3052e3\">\n",
              "  <button class=\"colab-df-quickchart\" onclick=\"quickchart('df-f968d667-1e68-4da1-a5d1-f2830d3052e3')\"\n",
              "            title=\"Suggest charts.\"\n",
              "            style=\"display:none;\">\n",
              "\n",
              "<svg xmlns=\"http://www.w3.org/2000/svg\" height=\"24px\"viewBox=\"0 0 24 24\"\n",
              "     width=\"24px\">\n",
              "    <g>\n",
              "        <path d=\"M19 3H5c-1.1 0-2 .9-2 2v14c0 1.1.9 2 2 2h14c1.1 0 2-.9 2-2V5c0-1.1-.9-2-2-2zM9 17H7v-7h2v7zm4 0h-2V7h2v10zm4 0h-2v-4h2v4z\"/>\n",
              "    </g>\n",
              "</svg>\n",
              "  </button>\n",
              "\n",
              "<style>\n",
              "  .colab-df-quickchart {\n",
              "    background-color: #E8F0FE;\n",
              "    border: none;\n",
              "    border-radius: 50%;\n",
              "    cursor: pointer;\n",
              "    display: none;\n",
              "    fill: #1967D2;\n",
              "    height: 32px;\n",
              "    padding: 0 0 0 0;\n",
              "    width: 32px;\n",
              "  }\n",
              "\n",
              "  .colab-df-quickchart:hover {\n",
              "    background-color: #E2EBFA;\n",
              "    box-shadow: 0px 1px 2px rgba(60, 64, 67, 0.3), 0px 1px 3px 1px rgba(60, 64, 67, 0.15);\n",
              "    fill: #174EA6;\n",
              "  }\n",
              "\n",
              "  [theme=dark] .colab-df-quickchart {\n",
              "    background-color: #3B4455;\n",
              "    fill: #D2E3FC;\n",
              "  }\n",
              "\n",
              "  [theme=dark] .colab-df-quickchart:hover {\n",
              "    background-color: #434B5C;\n",
              "    box-shadow: 0px 1px 3px 1px rgba(0, 0, 0, 0.15);\n",
              "    filter: drop-shadow(0px 1px 2px rgba(0, 0, 0, 0.3));\n",
              "    fill: #FFFFFF;\n",
              "  }\n",
              "</style>\n",
              "\n",
              "  <script>\n",
              "    async function quickchart(key) {\n",
              "      const charts = await google.colab.kernel.invokeFunction(\n",
              "          'suggestCharts', [key], {});\n",
              "    }\n",
              "    (() => {\n",
              "      let quickchartButtonEl =\n",
              "        document.querySelector('#df-f968d667-1e68-4da1-a5d1-f2830d3052e3 button');\n",
              "      quickchartButtonEl.style.display =\n",
              "        google.colab.kernel.accessAllowed ? 'block' : 'none';\n",
              "    })();\n",
              "  </script>\n",
              "</div>\n",
              "    </div>\n",
              "  </div>\n"
            ]
          },
          "metadata": {},
          "execution_count": 4
        }
      ],
      "source": [
        "df = pd.read_csv(os.path.join(gdrive_path, \"preprocessing/fin.csv\"), encoding=\"euc-kr\", index_col=0)\n",
        "df.head()"
      ]
    },
    {
      "cell_type": "code",
      "source": [
        "df.info()"
      ],
      "metadata": {
        "id": "XhPQYnm8LS6o",
        "outputId": "abbdd725-6b8f-4639-fcc0-dc90645f91d9",
        "colab": {
          "base_uri": "https://localhost:8080/"
        }
      },
      "execution_count": 5,
      "outputs": [
        {
          "output_type": "stream",
          "name": "stdout",
          "text": [
            "<class 'pandas.core.frame.DataFrame'>\n",
            "Int64Index: 280765 entries, 0 to 585940\n",
            "Data columns (total 4 columns):\n",
            " #   Column    Non-Null Count   Dtype \n",
            "---  ------    --------------   ----- \n",
            " 0   category  280765 non-null  object\n",
            " 1   lawName   280765 non-null  object\n",
            " 2   ENG       280765 non-null  object\n",
            " 3   KOR       280765 non-null  object\n",
            "dtypes: object(4)\n",
            "memory usage: 10.7+ MB\n"
          ]
        }
      ]
    },
    {
      "cell_type": "code",
      "source": [
        "df.loc[df.KOR.str.contains(pat)]"
      ],
      "metadata": {
        "id": "8KO4fZZxlJFq",
        "outputId": "53a7962f-7269-4475-aaa8-4969f7cd63ec",
        "colab": {
          "base_uri": "https://localhost:8080/",
          "height": 1596
        }
      },
      "execution_count": 489,
      "outputs": [
        {
          "output_type": "stream",
          "name": "stderr",
          "text": [
            "<ipython-input-489-442e5e2ac6a2>:1: UserWarning: This pattern is interpreted as a regular expression, and has match groups. To actually get the groups, use str.extract.\n",
            "  df.loc[df.KOR.str.contains(pat)]\n"
          ]
        },
        {
          "output_type": "execute_result",
          "data": {
            "text/plain": [
              "       category                            lawName  \\\n",
              "186          헌법               개성공업지구 지원에 관한 법률 시행령   \n",
              "275          헌법  공문서에 대한 아포스티유 및 본부영사확인서 발급에 관한 규정   \n",
              "282          헌법  공문서에 대한 아포스티유 및 본부영사확인서 발급에 관한 규정   \n",
              "293          헌법  공문서에 대한 아포스티유 및 본부영사확인서 발급에 관한 규정   \n",
              "300          헌법  공문서에 대한 아포스티유 및 본부영사확인서 발급에 관한 규정   \n",
              "...         ...                                ...   \n",
              "585620       외무                       재외공관 공증법 시행령   \n",
              "585660       외무                       재외공관 공증법 시행령   \n",
              "585670       외무                       재외공관 공증법 시행령   \n",
              "585687       외무                       재외공관 공증법 시행령   \n",
              "585703       외무                       재외공관 공증법 시행령   \n",
              "\n",
              "                                                      ENG  \\\n",
              "186     For purposes of applying the subparagraphs of ...   \n",
              "275     The term \"written judgment\" means an original ...   \n",
              "282     Upon receiving an application for the issuance...   \n",
              "293     Notwithstanding paragraph (1), the Minister of...   \n",
              "300     The Minister of Foreign Affairs or the Ministe...   \n",
              "...                                                   ...   \n",
              "585620  In preparing documents in a diplomatic mission...   \n",
              "585660  When a person prepares notarial deeds, notaria...   \n",
              "585670  Where an execution clause is granted, the pers...   \n",
              "585687  In preparing notarial deeds by using document ...   \n",
              "585703  In cases of authenticating translated document...   \n",
              "\n",
              "                                                      KOR  \n",
              "186     법 제13조제1항 각 호 및 법 제15조제1항 각 호를 적용할 때에 상시근로자의 수...  \n",
              "275     \"재판서\"란 판결·결정·명령의 재판을 적은 문서로서 재판을 한 법관이 서명날인한 원...  \n",
              "282     외교부장관 또는 법무부장관은 제4조에 따라 아포스티유 또는 본부영사확인서 발급 신청...  \n",
              "293     제1항에도 불구하고 외교부장관 또는 법무부장관은 제11조에 따라 서명 또는 직인의 ...  \n",
              "300     외교부장관 및 법무부장관은 제3조에 따른 공문서의 아포스티유 및 본부영사확인서 발급...  \n",
              "...                                                   ...  \n",
              "585620  공관에서 공증에 관한 문서를 작성할 때에는 공관의 소재지 및 명칭을 적고, 공증담당...  \n",
              "585660  공정증서, 인증서, 확인서와 그 정본 및 등본을 작성하는 경우 작성자의 서명날인 용...  \n",
              "585670  집행문을 부여한 경우에는 공정증서 원본 작성자의 서명날인 부분 밑에 집행문을 부여하...  \n",
              "585687  별지 제23호서식 외의 서식을 사용하여 공정증서를 작성하는 경우에는 별지 제24호서...  \n",
              "585703  번역문을 인증하는 경우에는 촉탁인에게 별지 제34호서식의 인증문의 서약인란에 소정사...  \n",
              "\n",
              "[9624 rows x 4 columns]"
            ],
            "text/html": [
              "\n",
              "  <div id=\"df-6d886af0-004c-48ea-bcc2-14105315bee4\" class=\"colab-df-container\">\n",
              "    <div>\n",
              "<style scoped>\n",
              "    .dataframe tbody tr th:only-of-type {\n",
              "        vertical-align: middle;\n",
              "    }\n",
              "\n",
              "    .dataframe tbody tr th {\n",
              "        vertical-align: top;\n",
              "    }\n",
              "\n",
              "    .dataframe thead th {\n",
              "        text-align: right;\n",
              "    }\n",
              "</style>\n",
              "<table border=\"1\" class=\"dataframe\">\n",
              "  <thead>\n",
              "    <tr style=\"text-align: right;\">\n",
              "      <th></th>\n",
              "      <th>category</th>\n",
              "      <th>lawName</th>\n",
              "      <th>ENG</th>\n",
              "      <th>KOR</th>\n",
              "    </tr>\n",
              "  </thead>\n",
              "  <tbody>\n",
              "    <tr>\n",
              "      <th>186</th>\n",
              "      <td>헌법</td>\n",
              "      <td>개성공업지구 지원에 관한 법률 시행령</td>\n",
              "      <td>For purposes of applying the subparagraphs of ...</td>\n",
              "      <td>법 제13조제1항 각 호 및 법 제15조제1항 각 호를 적용할 때에 상시근로자의 수...</td>\n",
              "    </tr>\n",
              "    <tr>\n",
              "      <th>275</th>\n",
              "      <td>헌법</td>\n",
              "      <td>공문서에 대한 아포스티유 및 본부영사확인서 발급에 관한 규정</td>\n",
              "      <td>The term \"written judgment\" means an original ...</td>\n",
              "      <td>\"재판서\"란 판결·결정·명령의 재판을 적은 문서로서 재판을 한 법관이 서명날인한 원...</td>\n",
              "    </tr>\n",
              "    <tr>\n",
              "      <th>282</th>\n",
              "      <td>헌법</td>\n",
              "      <td>공문서에 대한 아포스티유 및 본부영사확인서 발급에 관한 규정</td>\n",
              "      <td>Upon receiving an application for the issuance...</td>\n",
              "      <td>외교부장관 또는 법무부장관은 제4조에 따라 아포스티유 또는 본부영사확인서 발급 신청...</td>\n",
              "    </tr>\n",
              "    <tr>\n",
              "      <th>293</th>\n",
              "      <td>헌법</td>\n",
              "      <td>공문서에 대한 아포스티유 및 본부영사확인서 발급에 관한 규정</td>\n",
              "      <td>Notwithstanding paragraph (1), the Minister of...</td>\n",
              "      <td>제1항에도 불구하고 외교부장관 또는 법무부장관은 제11조에 따라 서명 또는 직인의 ...</td>\n",
              "    </tr>\n",
              "    <tr>\n",
              "      <th>300</th>\n",
              "      <td>헌법</td>\n",
              "      <td>공문서에 대한 아포스티유 및 본부영사확인서 발급에 관한 규정</td>\n",
              "      <td>The Minister of Foreign Affairs or the Ministe...</td>\n",
              "      <td>외교부장관 및 법무부장관은 제3조에 따른 공문서의 아포스티유 및 본부영사확인서 발급...</td>\n",
              "    </tr>\n",
              "    <tr>\n",
              "      <th>...</th>\n",
              "      <td>...</td>\n",
              "      <td>...</td>\n",
              "      <td>...</td>\n",
              "      <td>...</td>\n",
              "    </tr>\n",
              "    <tr>\n",
              "      <th>585620</th>\n",
              "      <td>외무</td>\n",
              "      <td>재외공관 공증법 시행령</td>\n",
              "      <td>In preparing documents in a diplomatic mission...</td>\n",
              "      <td>공관에서 공증에 관한 문서를 작성할 때에는 공관의 소재지 및 명칭을 적고, 공증담당...</td>\n",
              "    </tr>\n",
              "    <tr>\n",
              "      <th>585660</th>\n",
              "      <td>외무</td>\n",
              "      <td>재외공관 공증법 시행령</td>\n",
              "      <td>When a person prepares notarial deeds, notaria...</td>\n",
              "      <td>공정증서, 인증서, 확인서와 그 정본 및 등본을 작성하는 경우 작성자의 서명날인 용...</td>\n",
              "    </tr>\n",
              "    <tr>\n",
              "      <th>585670</th>\n",
              "      <td>외무</td>\n",
              "      <td>재외공관 공증법 시행령</td>\n",
              "      <td>Where an execution clause is granted, the pers...</td>\n",
              "      <td>집행문을 부여한 경우에는 공정증서 원본 작성자의 서명날인 부분 밑에 집행문을 부여하...</td>\n",
              "    </tr>\n",
              "    <tr>\n",
              "      <th>585687</th>\n",
              "      <td>외무</td>\n",
              "      <td>재외공관 공증법 시행령</td>\n",
              "      <td>In preparing notarial deeds by using document ...</td>\n",
              "      <td>별지 제23호서식 외의 서식을 사용하여 공정증서를 작성하는 경우에는 별지 제24호서...</td>\n",
              "    </tr>\n",
              "    <tr>\n",
              "      <th>585703</th>\n",
              "      <td>외무</td>\n",
              "      <td>재외공관 공증법 시행령</td>\n",
              "      <td>In cases of authenticating translated document...</td>\n",
              "      <td>번역문을 인증하는 경우에는 촉탁인에게 별지 제34호서식의 인증문의 서약인란에 소정사...</td>\n",
              "    </tr>\n",
              "  </tbody>\n",
              "</table>\n",
              "<p>9624 rows × 4 columns</p>\n",
              "</div>\n",
              "    <div class=\"colab-df-buttons\">\n",
              "\n",
              "  <div class=\"colab-df-container\">\n",
              "    <button class=\"colab-df-convert\" onclick=\"convertToInteractive('df-6d886af0-004c-48ea-bcc2-14105315bee4')\"\n",
              "            title=\"Convert this dataframe to an interactive table.\"\n",
              "            style=\"display:none;\">\n",
              "\n",
              "  <svg xmlns=\"http://www.w3.org/2000/svg\" height=\"24px\" viewBox=\"0 -960 960 960\">\n",
              "    <path d=\"M120-120v-720h720v720H120Zm60-500h600v-160H180v160Zm220 220h160v-160H400v160Zm0 220h160v-160H400v160ZM180-400h160v-160H180v160Zm440 0h160v-160H620v160ZM180-180h160v-160H180v160Zm440 0h160v-160H620v160Z\"/>\n",
              "  </svg>\n",
              "    </button>\n",
              "\n",
              "  <style>\n",
              "    .colab-df-container {\n",
              "      display:flex;\n",
              "      gap: 12px;\n",
              "    }\n",
              "\n",
              "    .colab-df-convert {\n",
              "      background-color: #E8F0FE;\n",
              "      border: none;\n",
              "      border-radius: 50%;\n",
              "      cursor: pointer;\n",
              "      display: none;\n",
              "      fill: #1967D2;\n",
              "      height: 32px;\n",
              "      padding: 0 0 0 0;\n",
              "      width: 32px;\n",
              "    }\n",
              "\n",
              "    .colab-df-convert:hover {\n",
              "      background-color: #E2EBFA;\n",
              "      box-shadow: 0px 1px 2px rgba(60, 64, 67, 0.3), 0px 1px 3px 1px rgba(60, 64, 67, 0.15);\n",
              "      fill: #174EA6;\n",
              "    }\n",
              "\n",
              "    .colab-df-buttons div {\n",
              "      margin-bottom: 4px;\n",
              "    }\n",
              "\n",
              "    [theme=dark] .colab-df-convert {\n",
              "      background-color: #3B4455;\n",
              "      fill: #D2E3FC;\n",
              "    }\n",
              "\n",
              "    [theme=dark] .colab-df-convert:hover {\n",
              "      background-color: #434B5C;\n",
              "      box-shadow: 0px 1px 3px 1px rgba(0, 0, 0, 0.15);\n",
              "      filter: drop-shadow(0px 1px 2px rgba(0, 0, 0, 0.3));\n",
              "      fill: #FFFFFF;\n",
              "    }\n",
              "  </style>\n",
              "\n",
              "    <script>\n",
              "      const buttonEl =\n",
              "        document.querySelector('#df-6d886af0-004c-48ea-bcc2-14105315bee4 button.colab-df-convert');\n",
              "      buttonEl.style.display =\n",
              "        google.colab.kernel.accessAllowed ? 'block' : 'none';\n",
              "\n",
              "      async function convertToInteractive(key) {\n",
              "        const element = document.querySelector('#df-6d886af0-004c-48ea-bcc2-14105315bee4');\n",
              "        const dataTable =\n",
              "          await google.colab.kernel.invokeFunction('convertToInteractive',\n",
              "                                                    [key], {});\n",
              "        if (!dataTable) return;\n",
              "\n",
              "        const docLinkHtml = 'Like what you see? Visit the ' +\n",
              "          '<a target=\"_blank\" href=https://colab.research.google.com/notebooks/data_table.ipynb>data table notebook</a>'\n",
              "          + ' to learn more about interactive tables.';\n",
              "        element.innerHTML = '';\n",
              "        dataTable['output_type'] = 'display_data';\n",
              "        await google.colab.output.renderOutput(dataTable, element);\n",
              "        const docLink = document.createElement('div');\n",
              "        docLink.innerHTML = docLinkHtml;\n",
              "        element.appendChild(docLink);\n",
              "      }\n",
              "    </script>\n",
              "  </div>\n",
              "\n",
              "\n",
              "<div id=\"df-1b1709a0-bfeb-4d2c-9e86-a02081971d5d\">\n",
              "  <button class=\"colab-df-quickchart\" onclick=\"quickchart('df-1b1709a0-bfeb-4d2c-9e86-a02081971d5d')\"\n",
              "            title=\"Suggest charts.\"\n",
              "            style=\"display:none;\">\n",
              "\n",
              "<svg xmlns=\"http://www.w3.org/2000/svg\" height=\"24px\"viewBox=\"0 0 24 24\"\n",
              "     width=\"24px\">\n",
              "    <g>\n",
              "        <path d=\"M19 3H5c-1.1 0-2 .9-2 2v14c0 1.1.9 2 2 2h14c1.1 0 2-.9 2-2V5c0-1.1-.9-2-2-2zM9 17H7v-7h2v7zm4 0h-2V7h2v10zm4 0h-2v-4h2v4z\"/>\n",
              "    </g>\n",
              "</svg>\n",
              "  </button>\n",
              "\n",
              "<style>\n",
              "  .colab-df-quickchart {\n",
              "    background-color: #E8F0FE;\n",
              "    border: none;\n",
              "    border-radius: 50%;\n",
              "    cursor: pointer;\n",
              "    display: none;\n",
              "    fill: #1967D2;\n",
              "    height: 32px;\n",
              "    padding: 0 0 0 0;\n",
              "    width: 32px;\n",
              "  }\n",
              "\n",
              "  .colab-df-quickchart:hover {\n",
              "    background-color: #E2EBFA;\n",
              "    box-shadow: 0px 1px 2px rgba(60, 64, 67, 0.3), 0px 1px 3px 1px rgba(60, 64, 67, 0.15);\n",
              "    fill: #174EA6;\n",
              "  }\n",
              "\n",
              "  [theme=dark] .colab-df-quickchart {\n",
              "    background-color: #3B4455;\n",
              "    fill: #D2E3FC;\n",
              "  }\n",
              "\n",
              "  [theme=dark] .colab-df-quickchart:hover {\n",
              "    background-color: #434B5C;\n",
              "    box-shadow: 0px 1px 3px 1px rgba(0, 0, 0, 0.15);\n",
              "    filter: drop-shadow(0px 1px 2px rgba(0, 0, 0, 0.3));\n",
              "    fill: #FFFFFF;\n",
              "  }\n",
              "</style>\n",
              "\n",
              "  <script>\n",
              "    async function quickchart(key) {\n",
              "      const charts = await google.colab.kernel.invokeFunction(\n",
              "          'suggestCharts', [key], {});\n",
              "    }\n",
              "    (() => {\n",
              "      let quickchartButtonEl =\n",
              "        document.querySelector('#df-1b1709a0-bfeb-4d2c-9e86-a02081971d5d button');\n",
              "      quickchartButtonEl.style.display =\n",
              "        google.colab.kernel.accessAllowed ? 'block' : 'none';\n",
              "    })();\n",
              "  </script>\n",
              "</div>\n",
              "    </div>\n",
              "  </div>\n"
            ]
          },
          "metadata": {},
          "execution_count": 489
        }
      ]
    },
    {
      "cell_type": "markdown",
      "metadata": {
        "id": "Wa8WyRO-HbDB"
      },
      "source": [
        "# 1.Data Fiiltering"
      ]
    },
    {
      "cell_type": "code",
      "execution_count": 6,
      "metadata": {
        "id": "S1Q9BggtIv6n"
      },
      "outputs": [],
      "source": [
        "keyword_idx = df.loc[df.lawName.str.contains(r\"은행|금융|보험|예금|적금|대출|외환|통화|화폐|환율|예대\")].index"
      ]
    },
    {
      "cell_type": "code",
      "execution_count": 7,
      "metadata": {
        "id": "rhGtK13KJrdk"
      },
      "outputs": [],
      "source": [
        "tgk_idx = df.loc[df.category==\"통화ㆍ국채ㆍ금융\"].index"
      ]
    },
    {
      "cell_type": "code",
      "execution_count": 8,
      "metadata": {
        "colab": {
          "base_uri": "https://localhost:8080/"
        },
        "id": "YuEzG0xAKzRs",
        "outputId": "1ca533e1-7704-467a-811f-c7650792f0c7"
      },
      "outputs": [
        {
          "output_type": "stream",
          "name": "stdout",
          "text": [
            "키워드: 16712\t통화/국채/금융: 16004\n",
            "키워드-통국금: 4681\n",
            "통국금-키워드: 3973\n",
            "전체:  20685\n"
          ]
        }
      ],
      "source": [
        "print(f\"키워드: {len(keyword_idx)}\\t통화/국채/금융: {len(tgk_idx)}\")\n",
        "print(f\"키워드-통국금: {len(list(set(keyword_idx)-set(tgk_idx)))}\")\n",
        "print(f\"통국금-키워드: {len(list(set(tgk_idx)-set(keyword_idx)))}\")\n",
        "print(f\"전체:  {len(list(set(keyword_idx).union(set(tgk_idx))))}\")"
      ]
    },
    {
      "cell_type": "code",
      "execution_count": 9,
      "metadata": {
        "id": "-eet0uBuLhDt"
      },
      "outputs": [],
      "source": [
        "df_samp = df.loc[list(set(keyword_idx).union(set(tgk_idx)))].drop(index=[403163], axis=0)\n",
        "# df_samp = df.copy(deep=True)"
      ]
    },
    {
      "cell_type": "code",
      "source": [
        "df_samp = df.loc[df.lawName.str.contains('은행법|여신|보험|신용|금융')|df.category.str.contains('경제|금융|상업')]"
      ],
      "metadata": {
        "id": "eQvPbqMT6RMz"
      },
      "execution_count": 224,
      "outputs": []
    },
    {
      "cell_type": "code",
      "execution_count": 225,
      "metadata": {
        "id": "F-Wq1Cl7MXf8",
        "colab": {
          "base_uri": "https://localhost:8080/"
        },
        "outputId": "436c6bfa-aeb8-472d-8da3-149596ad09cc"
      },
      "outputs": [
        {
          "output_type": "stream",
          "name": "stderr",
          "text": [
            "<ipython-input-225-e55a75fc50f4>:1: SettingWithCopyWarning: \n",
            "A value is trying to be set on a copy of a slice from a DataFrame.\n",
            "Try using .loc[row_indexer,col_indexer] = value instead\n",
            "\n",
            "See the caveats in the documentation: https://pandas.pydata.org/pandas-docs/stable/user_guide/indexing.html#returning-a-view-versus-a-copy\n",
            "  df_samp[\"curHyp\"] = df_samp.KOR.values\n",
            "<ipython-input-225-e55a75fc50f4>:2: SettingWithCopyWarning: \n",
            "A value is trying to be set on a copy of a slice from a DataFrame.\n",
            "Try using .loc[row_indexer,col_indexer] = value instead\n",
            "\n",
            "See the caveats in the documentation: https://pandas.pydata.org/pandas-docs/stable/user_guide/indexing.html#returning-a-view-versus-a-copy\n",
            "  df_samp[\"errors\"] = [[] for _ in range(df_samp.shape[0])]\n",
            "<ipython-input-225-e55a75fc50f4>:4: SettingWithCopyWarning: \n",
            "A value is trying to be set on a copy of a slice from a DataFrame.\n",
            "Try using .loc[row_indexer,col_indexer] = value instead\n",
            "\n",
            "See the caveats in the documentation: https://pandas.pydata.org/pandas-docs/stable/user_guide/indexing.html#returning-a-view-versus-a-copy\n",
            "  df_samp[\"errLog\"] = [dict() for _ in range(df_samp.shape[0])]\n"
          ]
        }
      ],
      "source": [
        "df_samp[\"curHyp\"] = df_samp.KOR.values\n",
        "df_samp[\"errors\"] = [[] for _ in range(df_samp.shape[0])]\n",
        "# df_samp[\"tagLog\"] = [dict() for _ in range(df_samp.shape[0])]\n",
        "df_samp[\"errLog\"] = [dict() for _ in range(df_samp.shape[0])]\n",
        "# df_samp.iloc[:, 2:4]"
      ]
    },
    {
      "cell_type": "code",
      "source": [
        "df_samp.head()"
      ],
      "metadata": {
        "colab": {
          "base_uri": "https://localhost:8080/",
          "height": 293
        },
        "id": "e7VYU2z46bow",
        "outputId": "6afaf1ac-ca31-4855-9d5a-8aad9a708143"
      },
      "execution_count": 226,
      "outputs": [
        {
          "output_type": "execute_result",
          "data": {
            "text/plain": [
              "      category         lawName  \\\n",
              "22614      형사법  보험사기방지 특별법 시행령   \n",
              "22615      형사법  보험사기방지 특별법 시행령   \n",
              "22620      형사법  보험사기방지 특별법 시행령   \n",
              "22621      형사법  보험사기방지 특별법 시행령   \n",
              "22622      형사법  보험사기방지 특별법 시행령   \n",
              "\n",
              "                                                     ENG  \\\n",
              "22614  The purpose of this Decree is to prescribe mat...   \n",
              "22615  Reporting prescribed in Article 4 of the Speci...   \n",
              "22620  \"Grounds prescribed by Presidential Decree\" in...   \n",
              "22621  Where the terms and conditions of the relevant...   \n",
              "22622  Where justifiable grounds exists to suspect th...   \n",
              "\n",
              "                                                     KOR  \\\n",
              "22614  이 영은 「보험사기방지 특별법」에서 위임된 사항과 그 시행에 필요한 사항을 규정함을...   \n",
              "22615  「보험사기방지 특별법」(이하 \"법\"이라 한다) 제4조에 따른 보고는 금융위원회가 정...   \n",
              "22620  법 제5조제2항에서 \"대통령령으로 정하는 사유\"란 다음 각 호의 어느 하나에 해당하...   \n",
              "22621  해당 보험계약의 약관 또는 다른 법령에서 보험금 지급을 지체 또는 거절하거나 삭감하...   \n",
              "22622  보험회사가 보험사고 조사 과정에서 법 제4조에 따른 보험계약자등의 행위가 보험 사기...   \n",
              "\n",
              "                                                  curHyp errors errLog  \n",
              "22614  이 영은 「보험사기방지 특별법」에서 위임된 사항과 그 시행에 필요한 사항을 규정함을...     []     {}  \n",
              "22615  「보험사기방지 특별법」(이하 \"법\"이라 한다) 제4조에 따른 보고는 금융위원회가 정...     []     {}  \n",
              "22620  법 제5조제2항에서 \"대통령령으로 정하는 사유\"란 다음 각 호의 어느 하나에 해당하...     []     {}  \n",
              "22621  해당 보험계약의 약관 또는 다른 법령에서 보험금 지급을 지체 또는 거절하거나 삭감하...     []     {}  \n",
              "22622  보험회사가 보험사고 조사 과정에서 법 제4조에 따른 보험계약자등의 행위가 보험 사기...     []     {}  "
            ],
            "text/html": [
              "\n",
              "  <div id=\"df-39c83dc0-6349-485a-a71e-4965ba22fc37\" class=\"colab-df-container\">\n",
              "    <div>\n",
              "<style scoped>\n",
              "    .dataframe tbody tr th:only-of-type {\n",
              "        vertical-align: middle;\n",
              "    }\n",
              "\n",
              "    .dataframe tbody tr th {\n",
              "        vertical-align: top;\n",
              "    }\n",
              "\n",
              "    .dataframe thead th {\n",
              "        text-align: right;\n",
              "    }\n",
              "</style>\n",
              "<table border=\"1\" class=\"dataframe\">\n",
              "  <thead>\n",
              "    <tr style=\"text-align: right;\">\n",
              "      <th></th>\n",
              "      <th>category</th>\n",
              "      <th>lawName</th>\n",
              "      <th>ENG</th>\n",
              "      <th>KOR</th>\n",
              "      <th>curHyp</th>\n",
              "      <th>errors</th>\n",
              "      <th>errLog</th>\n",
              "    </tr>\n",
              "  </thead>\n",
              "  <tbody>\n",
              "    <tr>\n",
              "      <th>22614</th>\n",
              "      <td>형사법</td>\n",
              "      <td>보험사기방지 특별법 시행령</td>\n",
              "      <td>The purpose of this Decree is to prescribe mat...</td>\n",
              "      <td>이 영은 「보험사기방지 특별법」에서 위임된 사항과 그 시행에 필요한 사항을 규정함을...</td>\n",
              "      <td>이 영은 「보험사기방지 특별법」에서 위임된 사항과 그 시행에 필요한 사항을 규정함을...</td>\n",
              "      <td>[]</td>\n",
              "      <td>{}</td>\n",
              "    </tr>\n",
              "    <tr>\n",
              "      <th>22615</th>\n",
              "      <td>형사법</td>\n",
              "      <td>보험사기방지 특별법 시행령</td>\n",
              "      <td>Reporting prescribed in Article 4 of the Speci...</td>\n",
              "      <td>「보험사기방지 특별법」(이하 \"법\"이라 한다) 제4조에 따른 보고는 금융위원회가 정...</td>\n",
              "      <td>「보험사기방지 특별법」(이하 \"법\"이라 한다) 제4조에 따른 보고는 금융위원회가 정...</td>\n",
              "      <td>[]</td>\n",
              "      <td>{}</td>\n",
              "    </tr>\n",
              "    <tr>\n",
              "      <th>22620</th>\n",
              "      <td>형사법</td>\n",
              "      <td>보험사기방지 특별법 시행령</td>\n",
              "      <td>\"Grounds prescribed by Presidential Decree\" in...</td>\n",
              "      <td>법 제5조제2항에서 \"대통령령으로 정하는 사유\"란 다음 각 호의 어느 하나에 해당하...</td>\n",
              "      <td>법 제5조제2항에서 \"대통령령으로 정하는 사유\"란 다음 각 호의 어느 하나에 해당하...</td>\n",
              "      <td>[]</td>\n",
              "      <td>{}</td>\n",
              "    </tr>\n",
              "    <tr>\n",
              "      <th>22621</th>\n",
              "      <td>형사법</td>\n",
              "      <td>보험사기방지 특별법 시행령</td>\n",
              "      <td>Where the terms and conditions of the relevant...</td>\n",
              "      <td>해당 보험계약의 약관 또는 다른 법령에서 보험금 지급을 지체 또는 거절하거나 삭감하...</td>\n",
              "      <td>해당 보험계약의 약관 또는 다른 법령에서 보험금 지급을 지체 또는 거절하거나 삭감하...</td>\n",
              "      <td>[]</td>\n",
              "      <td>{}</td>\n",
              "    </tr>\n",
              "    <tr>\n",
              "      <th>22622</th>\n",
              "      <td>형사법</td>\n",
              "      <td>보험사기방지 특별법 시행령</td>\n",
              "      <td>Where justifiable grounds exists to suspect th...</td>\n",
              "      <td>보험회사가 보험사고 조사 과정에서 법 제4조에 따른 보험계약자등의 행위가 보험 사기...</td>\n",
              "      <td>보험회사가 보험사고 조사 과정에서 법 제4조에 따른 보험계약자등의 행위가 보험 사기...</td>\n",
              "      <td>[]</td>\n",
              "      <td>{}</td>\n",
              "    </tr>\n",
              "  </tbody>\n",
              "</table>\n",
              "</div>\n",
              "    <div class=\"colab-df-buttons\">\n",
              "\n",
              "  <div class=\"colab-df-container\">\n",
              "    <button class=\"colab-df-convert\" onclick=\"convertToInteractive('df-39c83dc0-6349-485a-a71e-4965ba22fc37')\"\n",
              "            title=\"Convert this dataframe to an interactive table.\"\n",
              "            style=\"display:none;\">\n",
              "\n",
              "  <svg xmlns=\"http://www.w3.org/2000/svg\" height=\"24px\" viewBox=\"0 -960 960 960\">\n",
              "    <path d=\"M120-120v-720h720v720H120Zm60-500h600v-160H180v160Zm220 220h160v-160H400v160Zm0 220h160v-160H400v160ZM180-400h160v-160H180v160Zm440 0h160v-160H620v160ZM180-180h160v-160H180v160Zm440 0h160v-160H620v160Z\"/>\n",
              "  </svg>\n",
              "    </button>\n",
              "\n",
              "  <style>\n",
              "    .colab-df-container {\n",
              "      display:flex;\n",
              "      gap: 12px;\n",
              "    }\n",
              "\n",
              "    .colab-df-convert {\n",
              "      background-color: #E8F0FE;\n",
              "      border: none;\n",
              "      border-radius: 50%;\n",
              "      cursor: pointer;\n",
              "      display: none;\n",
              "      fill: #1967D2;\n",
              "      height: 32px;\n",
              "      padding: 0 0 0 0;\n",
              "      width: 32px;\n",
              "    }\n",
              "\n",
              "    .colab-df-convert:hover {\n",
              "      background-color: #E2EBFA;\n",
              "      box-shadow: 0px 1px 2px rgba(60, 64, 67, 0.3), 0px 1px 3px 1px rgba(60, 64, 67, 0.15);\n",
              "      fill: #174EA6;\n",
              "    }\n",
              "\n",
              "    .colab-df-buttons div {\n",
              "      margin-bottom: 4px;\n",
              "    }\n",
              "\n",
              "    [theme=dark] .colab-df-convert {\n",
              "      background-color: #3B4455;\n",
              "      fill: #D2E3FC;\n",
              "    }\n",
              "\n",
              "    [theme=dark] .colab-df-convert:hover {\n",
              "      background-color: #434B5C;\n",
              "      box-shadow: 0px 1px 3px 1px rgba(0, 0, 0, 0.15);\n",
              "      filter: drop-shadow(0px 1px 2px rgba(0, 0, 0, 0.3));\n",
              "      fill: #FFFFFF;\n",
              "    }\n",
              "  </style>\n",
              "\n",
              "    <script>\n",
              "      const buttonEl =\n",
              "        document.querySelector('#df-39c83dc0-6349-485a-a71e-4965ba22fc37 button.colab-df-convert');\n",
              "      buttonEl.style.display =\n",
              "        google.colab.kernel.accessAllowed ? 'block' : 'none';\n",
              "\n",
              "      async function convertToInteractive(key) {\n",
              "        const element = document.querySelector('#df-39c83dc0-6349-485a-a71e-4965ba22fc37');\n",
              "        const dataTable =\n",
              "          await google.colab.kernel.invokeFunction('convertToInteractive',\n",
              "                                                    [key], {});\n",
              "        if (!dataTable) return;\n",
              "\n",
              "        const docLinkHtml = 'Like what you see? Visit the ' +\n",
              "          '<a target=\"_blank\" href=https://colab.research.google.com/notebooks/data_table.ipynb>data table notebook</a>'\n",
              "          + ' to learn more about interactive tables.';\n",
              "        element.innerHTML = '';\n",
              "        dataTable['output_type'] = 'display_data';\n",
              "        await google.colab.output.renderOutput(dataTable, element);\n",
              "        const docLink = document.createElement('div');\n",
              "        docLink.innerHTML = docLinkHtml;\n",
              "        element.appendChild(docLink);\n",
              "      }\n",
              "    </script>\n",
              "  </div>\n",
              "\n",
              "\n",
              "<div id=\"df-e8628071-f8e4-4d14-980e-809385c0b83c\">\n",
              "  <button class=\"colab-df-quickchart\" onclick=\"quickchart('df-e8628071-f8e4-4d14-980e-809385c0b83c')\"\n",
              "            title=\"Suggest charts.\"\n",
              "            style=\"display:none;\">\n",
              "\n",
              "<svg xmlns=\"http://www.w3.org/2000/svg\" height=\"24px\"viewBox=\"0 0 24 24\"\n",
              "     width=\"24px\">\n",
              "    <g>\n",
              "        <path d=\"M19 3H5c-1.1 0-2 .9-2 2v14c0 1.1.9 2 2 2h14c1.1 0 2-.9 2-2V5c0-1.1-.9-2-2-2zM9 17H7v-7h2v7zm4 0h-2V7h2v10zm4 0h-2v-4h2v4z\"/>\n",
              "    </g>\n",
              "</svg>\n",
              "  </button>\n",
              "\n",
              "<style>\n",
              "  .colab-df-quickchart {\n",
              "    background-color: #E8F0FE;\n",
              "    border: none;\n",
              "    border-radius: 50%;\n",
              "    cursor: pointer;\n",
              "    display: none;\n",
              "    fill: #1967D2;\n",
              "    height: 32px;\n",
              "    padding: 0 0 0 0;\n",
              "    width: 32px;\n",
              "  }\n",
              "\n",
              "  .colab-df-quickchart:hover {\n",
              "    background-color: #E2EBFA;\n",
              "    box-shadow: 0px 1px 2px rgba(60, 64, 67, 0.3), 0px 1px 3px 1px rgba(60, 64, 67, 0.15);\n",
              "    fill: #174EA6;\n",
              "  }\n",
              "\n",
              "  [theme=dark] .colab-df-quickchart {\n",
              "    background-color: #3B4455;\n",
              "    fill: #D2E3FC;\n",
              "  }\n",
              "\n",
              "  [theme=dark] .colab-df-quickchart:hover {\n",
              "    background-color: #434B5C;\n",
              "    box-shadow: 0px 1px 3px 1px rgba(0, 0, 0, 0.15);\n",
              "    filter: drop-shadow(0px 1px 2px rgba(0, 0, 0, 0.3));\n",
              "    fill: #FFFFFF;\n",
              "  }\n",
              "</style>\n",
              "\n",
              "  <script>\n",
              "    async function quickchart(key) {\n",
              "      const charts = await google.colab.kernel.invokeFunction(\n",
              "          'suggestCharts', [key], {});\n",
              "    }\n",
              "    (() => {\n",
              "      let quickchartButtonEl =\n",
              "        document.querySelector('#df-e8628071-f8e4-4d14-980e-809385c0b83c button');\n",
              "      quickchartButtonEl.style.display =\n",
              "        google.colab.kernel.accessAllowed ? 'block' : 'none';\n",
              "    })();\n",
              "  </script>\n",
              "</div>\n",
              "    </div>\n",
              "  </div>\n"
            ]
          },
          "metadata": {},
          "execution_count": 226
        }
      ]
    },
    {
      "cell_type": "markdown",
      "metadata": {
        "id": "lGIRhAJYCEq2"
      },
      "source": [
        "**주요 함수**"
      ]
    },
    {
      "cell_type": "code",
      "execution_count": 438,
      "metadata": {
        "id": "qtiBdvrdjMGN"
      },
      "outputs": [],
      "source": [
        "## 주요한 함수\n",
        "def remake_df():\n",
        "    result = df.loc[list(set(keyword_idx).union(set(tgk_idx)))]\n",
        "    result[\"curHyp\"] = result.KOR.values\n",
        "    result[\"errors\"] = [[] for _ in range(result.shape[0])]\n",
        "    result[\"errLog\"] = [dict() for _ in range(result.shape[0])]\n",
        "    return result.drop(index=[403163], axis=0)\n",
        "\n",
        "def random_df(dfs, ratio, seed):\n",
        "    np.random.seed(seed)\n",
        "    return dfs.loc[np.random.choice(dfs.index.to_list(), int(dfs.shape[0]*ratio), False), :]\n",
        "\n",
        "def random_index(srs, ratio, seed):\n",
        "    np.random.seed(seed)\n",
        "    return np.random.choice(srs.index, int(srs.shape[0]*ratio), False)\n",
        "\n",
        "def copy_df(data, col=[\"errors\", \"errLog\"]):\n",
        "    result = data.drop(columns=col, axis=1).copy(deep=True)\n",
        "    # print(id(result), id(data))\n",
        "    for c in col:\n",
        "        result[c] = data[c].apply(lambda x: copy.deepcopy(x)).copy(deep=True)\n",
        "    return result\n",
        "\n",
        "def count_tag(tokens, tags=None):\n",
        "    token_dict = dict()\n",
        "    for token in tokens:\n",
        "        if tags!=None and token.tag not in tags: continue\n",
        "        try:\n",
        "            token_dict[token.tag].append(token.form)\n",
        "        except:\n",
        "            token_dict[token.tag] = [token.form]\n",
        "\n",
        "    return token_dict\n",
        "\n",
        "def find_tokens(tokens, tag):\n",
        "    result_tokens = []\n",
        "    for token in tokens:\n",
        "        if token.tag == tag:\n",
        "            result_tokens.append((token.form, token.start, token.end))\n",
        "    return result_tokens\n",
        "\n",
        "def print_df(df, cols, idx=0, end=0):\n",
        "    print(df.shape[0])\n",
        "    if end==0:\n",
        "        values = df.index[idx:]\n",
        "    else:\n",
        "        values = df.index[idx:end]\n",
        "    for i in values:\n",
        "        print(f\"_________________ {i} _________________\")\n",
        "        for col in cols:\n",
        "            print(df.loc[i, col])\n",
        "\n",
        "def input_errors(df, index, severity, start_idx, text, type):\n",
        "    df.loc[index, \"errors\"].append({\"severity\":severity, \"start_idx\":start_idx, \"text\":text, \"type\":type})\n",
        "\n",
        "def convert_df(df, diff_df):\n",
        "    cdf = copy_df(df)\n",
        "    for i in diff_df.index:\n",
        "        cdf.loc[i, : ] = diff_df.loc[i, : ]\n",
        "    return cdf\n",
        "\n",
        "def dup_drop():\n",
        "    for k in dindex_dict.keys():\n",
        "        dindex_dict[k] = list(set(dindex_dict[k]))\n",
        "\n",
        "def check_idx(df):\n",
        "    dup_drop()\n",
        "    for k in dindex_dict.keys():\n",
        "        print(f\"{k}: {len(dindex_dict[k])}\")\n",
        "    print(\"############################################\")\n",
        "    print(\"omission: \", df.loc[df.errLog.apply(lambda x: \"omission\" in x.keys())].shape[0])\n",
        "    print(\"addition: \", df.loc[df.errLog.apply(lambda x: \"addition\" in x.keys())].shape[0])\n",
        "    print(\"mis-translation: \", df.loc[df.errLog.apply(lambda x: \"mis-translation\" in x.keys())].shape[0])\n",
        "    print(\"over-translation: \", df.loc[df.errLog.apply(lambda x: \"over-translation\" in x.keys())].shape[0])\n",
        "    print(\"under-translation: \", df.loc[df.errLog.apply(lambda x: \"under-translation\" in x.keys())].shape[0])\n",
        "    print(\"grammer: \", df.loc[df.errLog.apply(lambda x: \"grammer\" in x.keys())].shape[0])\n",
        "\n",
        "def check_memorize(data):\n",
        "    df = copy_df(data.loc[:, [\"curHyp\",\"errLog\"]], col=[\"errLog\"])\n",
        "    result_list = []\n",
        "    for i in df.index:\n",
        "        cur_hyp = df.loc[i, \"curHyp\"]\n",
        "        d = df.loc[i, \"errLog\"]\n",
        "        result_dict = dict()\n",
        "        for k in d.keys():\n",
        "            start = d[k][\"start_idx\"]\n",
        "            end = start+len(d[k][\"text\"])\n",
        "            result_dict[k] = cur_hyp[start:end]\n",
        "        result_list.append(result_dict)\n",
        "    df[\"validation\"] = result_list\n",
        "    return df\n",
        "\n",
        "def move_index(df, idx, start, word):\n",
        "    err_log = copy.deepcopy(df.loc[idx, \"errLog\"])\n",
        "    loop_keys = err_log.keys()\n",
        "    for k in loop_keys:\n",
        "        pre_idx = err_log[k][\"start_idx\"]\n",
        "        if pre_idx > start:\n",
        "            df.loc[idx, \"errLog\"][k][\"start_idx\"] = pre_idx + (len(word)+1)\n",
        "\n",
        "def replace_inteli(df, idx, keyword, rword):\n",
        "    errLog = df.loc[idx ,\"errLog\"]\n",
        "    cur_hyp = df.loc[idx, \"curHyp\"]\n",
        "\n",
        "    text_dict=dict()\n",
        "    for k in errLog.keys():\n",
        "        if k==\"omission\": continue\n",
        "        text, sindex = errLog[k][\"text\"], errLog[k][\"start_idx\"]\n",
        "        text_dict[text] = (sindex, sindex+len(text))\n",
        "\n",
        "    reject_range = []\n",
        "    for key in text_dict.keys():\n",
        "        if keyword in key:\n",
        "            reject_range.append(text_dict[key])\n",
        "\n",
        "    for f in re.finditer(keyword, cur_hyp):\n",
        "        start, end = f.start(), f.end()\n",
        "        is_reject = False\n",
        "        for r_s, r_e in reject_range:\n",
        "            if r_s <= start < r_e:\n",
        "                is_reject=True\n",
        "        if is_reject: continue\n",
        "        while start>=0 and cur_hyp[start]!=\" \":\n",
        "            start-=1\n",
        "        while end<len(cur_hyp) and cur_hyp[end]!=\" \":\n",
        "            end+=1\n",
        "        start += 1\n",
        "\n",
        "        word = cur_hyp[start:end]\n",
        "        if word in text_dict.keys():\n",
        "            start_idx = text_dict[word]\n",
        "            if start==start_idx: continue\n",
        "            break\n",
        "        break\n",
        "    add_word = word.replace(keyword, rword)\n",
        "    conv_sentence = cur_hyp[:start]+add_word+cur_hyp[start+len(word):]\n",
        "    return conv_sentence, start, add_word\n",
        "\n",
        "def can_noise(df, i):\n",
        "    cur_hyp = df.loc[i, \"curHyp\"]\n",
        "    errLog = df.loc[i, \"errLog\"]\n",
        "    for k in errLog.keys():\n",
        "        if k==\"omission\": continue\n",
        "        start, text = errLog[k][\"start_idx\"], errLog[k][\"text\"]\n",
        "        end = start+len(text)\n",
        "        cur_hyp = cur_hyp[:start]+(\"ㅱ\"*len(text))+cur_hyp[end:]\n",
        "    return cur_hyp\n",
        "\n",
        "def errors_report(df, rate=False):\n",
        "    sevs = {\"critical\":0, \"major\":1, \"minor\":2, \"neutral\":3}\n",
        "    err_types = {\n",
        "        'omission':[0, 0, 0, 0],\n",
        "        'addition':[0, 0, 0, 0],\n",
        "        'mis-translation':[0, 0, 0, 0],\n",
        "        'over-translation':[0, 0, 0, 0],\n",
        "        'under-translation':[0, 0, 0, 0],\n",
        "        'grammer':[0, 0, 0, 0]\n",
        "        }\n",
        "    for i in df.index:\n",
        "        errors = df.loc[i, \"errors\"]\n",
        "        for d in errors:\n",
        "            err_types[d[\"type\"]][sevs[d[\"severity\"]]]+=1\n",
        "    report_df = pd.DataFrame(err_types, index=sevs.keys())\n",
        "    report_df[\"sum\"] = report_df.apply(np.sum, axis=1)\n",
        "    report_df.loc[\"sum\"] = report_df.apply(np.sum, axis=0)\n",
        "    if rate:\n",
        "        return_df = pd.DataFrame()\n",
        "        for col in report_df.columns:\n",
        "            return_df[col] = report_df[col].apply(lambda x: round((100*x)/report_df.loc[\"sum\", \"sum\"], 2))\n",
        "        return return_df\n",
        "    else:\n",
        "        return report_df"
      ]
    },
    {
      "cell_type": "markdown",
      "metadata": {
        "id": "d9CE0grbeF2H"
      },
      "source": [
        "# 2.품사 태깅"
      ]
    },
    {
      "cell_type": "code",
      "execution_count": 228,
      "metadata": {
        "colab": {
          "base_uri": "https://localhost:8080/"
        },
        "id": "jpGSNLUANHMp",
        "outputId": "4bc075f2-c5de-4ba2-d054-0b03f8c09432"
      },
      "outputs": [
        {
          "output_type": "execute_result",
          "data": {
            "text/plain": [
              "22614     [(이, MM, 0, 1), (영, NNG, 2, 1), (은, JX, 3, 1),...\n",
              "22615     [(「, SSO, 0, 1), (보험, NNG, 1, 2), (사기, NNG, 3,...\n",
              "22620     [(법, NNG, 0, 1), (제, XPN, 2, 1), (5, SN, 3, 1)...\n",
              "22621     [(해당, NNG, 0, 2), (보험, NNG, 3, 2), (계약, NNG, 5...\n",
              "22622     [(보험, NNG, 0, 2), (회사, NNG, 2, 2), (가, JKS, 4,...\n",
              "                                ...                        \n",
              "577886    [(위원장, NNG, 0, 3), (은, JX, 3, 1), (법, NNG, 5, ...\n",
              "577888    [(회의, NNG, 0, 2), (에, JKB, 2, 1), (참석, NNG, 4,...\n",
              "577890    [(이, MM, 0, 1), (영, NNG, 2, 1), (에서, JKB, 3, 2...\n",
              "577909    [(과학, NNG, 0, 2), (기술, NNG, 2, 2), (정보, NNG, 4...\n",
              "577910    [(과학, NNG, 0, 2), (기술, NNG, 2, 2), (정보, NNG, 4...\n",
              "Name: KOR, Length: 45093, dtype: object"
            ]
          },
          "metadata": {},
          "execution_count": 228
        }
      ],
      "source": [
        "from kiwipiepy import Kiwi\n",
        "\n",
        "kiwi = Kiwi(num_workers=0, model_type='sbg')\n",
        "kiwi_tokens = df_samp.KOR.apply(lambda x: kiwi.tokenize(x))\n",
        "kiwi_tokens"
      ]
    },
    {
      "cell_type": "code",
      "execution_count": 229,
      "metadata": {
        "colab": {
          "base_uri": "https://localhost:8080/"
        },
        "id": "G9QE7FI-ePhw",
        "outputId": "132f9539-3535-42e5-83d5-dff20a834aa4"
      },
      "outputs": [
        {
          "output_type": "execute_result",
          "data": {
            "text/plain": [
              "22614     {'MM': ['이', '그'], 'NNG': ['영', '보험', '사기', '방...\n",
              "22615     {'SSO': ['「', '(', '\"'], 'NNG': ['보험', '사기', '...\n",
              "22620     {'NNG': ['법', '항', '대통령령', '사유', '다음', '해당', '...\n",
              "22621     {'NNG': ['해당', '보험', '계약', '약관', '법령', '보험금', ...\n",
              "22622     {'NNG': ['보험', '회사', '보험', '사고', '조사', '과정', '...\n",
              "                                ...                        \n",
              "577886    {'NNG': ['위원장', '법', '분쟁', '조정', '결과', '분쟁', '...\n",
              "577888    {'NNG': ['회의', '참석', '위원', '항', '회의', '출석', '의...\n",
              "577890    {'MM': ['이'], 'NNG': ['영', '규정', '사항', '분쟁', '...\n",
              "577909    {'NNG': ['과학', '기술', '정보', '통신부', '장관', '법', '...\n",
              "577910    {'NNG': ['과학', '기술', '정보', '통신부', '장관', '법', '...\n",
              "Name: KOR, Length: 45093, dtype: object"
            ]
          },
          "metadata": {},
          "execution_count": 229
        }
      ],
      "source": [
        "count_tokens = kiwi_tokens.apply(count_tag)\n",
        "count_tokens"
      ]
    },
    {
      "cell_type": "code",
      "execution_count": 230,
      "metadata": {
        "colab": {
          "base_uri": "https://localhost:8080/"
        },
        "id": "p1ZWuJumeRq8",
        "outputId": "ec12a5b3-09cd-4464-cd15-f8afe8bdb84d"
      },
      "outputs": [
        {
          "output_type": "execute_result",
          "data": {
            "text/plain": [
              "5261"
            ]
          },
          "metadata": {},
          "execution_count": 230
        }
      ],
      "source": [
        "nng_dict = dict()\n",
        "for tokens in count_tokens.apply(lambda x: x[\"NNG\"]):\n",
        "    for t in tokens:\n",
        "        try:\n",
        "            nng_dict[t] += 1\n",
        "        except:\n",
        "            nng_dict[t] = 1\n",
        "len(nng_dict.keys())"
      ]
    },
    {
      "cell_type": "code",
      "execution_count": 231,
      "metadata": {
        "colab": {
          "base_uri": "https://localhost:8080/"
        },
        "id": "deifFOmAeXyf",
        "outputId": "8690e26d-8e4e-47ef-c563-27054888a131"
      },
      "outputs": [
        {
          "output_type": "execute_result",
          "data": {
            "text/plain": [
              "5261"
            ]
          },
          "metadata": {},
          "execution_count": 231
        }
      ],
      "source": [
        "tag = \"NNG\"\n",
        "nouns =list(set(count_tokens.apply(lambda x: x[tag] if tag in x.keys() else []).sum()))\n",
        "len(nouns)"
      ]
    },
    {
      "cell_type": "markdown",
      "metadata": {
        "id": "zjsme1DLeVOk"
      },
      "source": [
        "# 3.Error 생성"
      ]
    },
    {
      "cell_type": "code",
      "source": [
        "dindex_dict = {\"omission\":[], \"addition\":[], \"mis-translation\":[], \"over-translation\":[], \"under-translation\":[], \"grammer\": []}"
      ],
      "metadata": {
        "id": "0UK0OXjXxyuS"
      },
      "execution_count": 289,
      "outputs": []
    },
    {
      "cell_type": "markdown",
      "metadata": {
        "id": "EIyuK-l2CEq3"
      },
      "source": [
        "## Omission"
      ]
    },
    {
      "cell_type": "markdown",
      "metadata": {
        "id": "ud9JeVcNCEq3"
      },
      "source": [
        "### Omission - Critical"
      ]
    },
    {
      "cell_type": "code",
      "execution_count": 290,
      "metadata": {
        "id": "8QBZ-5rACEq3"
      },
      "outputs": [],
      "source": [
        "cr_om_index = random_index(df_samp.curHyp, 0.02, 10)\n",
        "# df_samp.loc[cr_om_index]"
      ]
    },
    {
      "cell_type": "code",
      "execution_count": 291,
      "metadata": {
        "id": "c-JMkl5WCEq3"
      },
      "outputs": [],
      "source": [
        "def critical_omission(df, seed, ratio):\n",
        "    df_t = copy_df(df)\n",
        "    cr_om_index = random_index(df_t.curHyp, ratio, seed)\n",
        "    dindex_dict[\"omission\"]+=list(cr_om_index)\n",
        "    result = df_t.loc[cr_om_index]\n",
        "    random_ratio = [3/5, 2/3, 5/8, 5/7]\n",
        "    np.random.seed(seed)\n",
        "    split_sentences = result.curHyp.apply(lambda x: x.split(\" \"))\n",
        "    len_element = split_sentences.apply(len)\n",
        "    crop_element = len_element.apply(lambda x: int(x*(np.random.choice(random_ratio, 1))))\n",
        "    start_idx = (len_element-crop_element).apply(lambda x: np.random.choice([i for i in range(x)], 1)[0])\n",
        "    end_idx = start_idx+crop_element\n",
        "\n",
        "    for i in cr_om_index:\n",
        "        reduce_sentence = (\" \".join([split_sentences[i][k] for k in range(start_idx[i], end_idx[i]+1)])).strip()\n",
        "        cur_hyp = result.loc[i, \"curHyp\"]\n",
        "        sidx = cur_hyp.find(reduce_sentence)\n",
        "\n",
        "        conv_hyp = \" \".join([split_sentences[i][j] for j in range(len_element[i]) if (start_idx[i] > j) or (end_idx[i] < j)])\n",
        "        result.loc[i, \"curHyp\"] = conv_hyp\n",
        "        input_errors(result, i, \"critical\", sidx, reduce_sentence, \"omission\")\n",
        "        result.loc[i, \"errLog\"][\"omission\"] = {\"start_idx\": sidx, \"text\": reduce_sentence}\n",
        "\n",
        "    del split_sentences, len_element, crop_element, start_idx, end_idx\n",
        "    return convert_df(df, result)\n",
        "\n",
        "df_crom = critical_omission(df_samp, 10, 0.02)"
      ]
    },
    {
      "cell_type": "code",
      "source": [
        "df_crom.loc[cr_om_index].shape"
      ],
      "metadata": {
        "id": "v4nlokvECEq3",
        "outputId": "008013b2-eab1-4120-9f6c-822bed65c1b5",
        "colab": {
          "base_uri": "https://localhost:8080/"
        }
      },
      "execution_count": 292,
      "outputs": [
        {
          "output_type": "execute_result",
          "data": {
            "text/plain": [
              "(901, 7)"
            ]
          },
          "metadata": {},
          "execution_count": 292
        }
      ]
    },
    {
      "cell_type": "code",
      "source": [
        "# df_crom.loc[cr_om_index]"
      ],
      "metadata": {
        "id": "MM3HL4elrdIk"
      },
      "execution_count": 293,
      "outputs": []
    },
    {
      "cell_type": "code",
      "source": [
        "check_idx(df_crom)"
      ],
      "metadata": {
        "id": "67_skuDfwsSY",
        "outputId": "be54e150-367c-42c1-9204-5a2fcd6865af",
        "colab": {
          "base_uri": "https://localhost:8080/"
        }
      },
      "execution_count": 294,
      "outputs": [
        {
          "output_type": "stream",
          "name": "stdout",
          "text": [
            "omission: 901\n",
            "addition: 0\n",
            "mis-translation: 0\n",
            "over-translation: 0\n",
            "under-translation: 0\n",
            "grammer: 0\n",
            "############################################\n",
            "omission:  901\n",
            "addition:  0\n",
            "mis-translation:  0\n",
            "over-translation:  0\n",
            "under-translation:  0\n",
            "grammer:  0\n"
          ]
        }
      ]
    },
    {
      "cell_type": "markdown",
      "source": [
        "### Omission - Major"
      ],
      "metadata": {
        "id": "gyctilT50cBP"
      }
    },
    {
      "cell_type": "code",
      "source": [
        "np.random.seed(20)\n",
        "nnp_info = kiwi_tokens.apply(lambda x: find_tokens(x, tag)).drop(index=dindex_dict[\"omission\"], axis=0)\n",
        "np.random.seed(20)\n",
        "change_val = nnp_info[nnp_info.apply(len) > 0].apply(lambda x: x[np.random.choice(len(x), 1)[0]])\n",
        "ch6 = change_val[change_val.apply(lambda x: len(x[0])) > 3]\n",
        "chv_index = random_index(ch6, 0.65, 20)"
      ],
      "metadata": {
        "id": "eeZW2MXhtUsV"
      },
      "execution_count": 295,
      "outputs": []
    },
    {
      "cell_type": "code",
      "execution_count": 296,
      "metadata": {
        "id": "_WPZzdzD0XYO"
      },
      "outputs": [],
      "source": [
        "def major_omission(df_local, seed, tag, slen, ratio):\n",
        "    df_t = copy_df(df_local)\n",
        "    np.random.seed(seed)\n",
        "    nnp_info = kiwi_tokens.apply(lambda x: find_tokens(x, tag)).drop(index=dindex_dict[\"omission\"], axis=0)\n",
        "    np.random.seed(seed)\n",
        "    change_val = nnp_info[nnp_info.apply(len) > 0].apply(lambda x: x[np.random.choice(len(x), 1)[0]])\n",
        "    ch6 = change_val[change_val.apply(lambda x: len(x[0])) > slen]\n",
        "    chv_index = random_index(ch6, ratio, seed)\n",
        "    # drop_idx = ch6.loc[ch6.apply(lambda x: len(x[0].split(\"·\")))>1].index.to_list()\n",
        "    ch_srs = ch6.loc[chv_index]\n",
        "    result = df_t.loc[chv_index]\n",
        "\n",
        "    for i in chv_index:\n",
        "        del_word, start, end = ch_srs.loc[i]\n",
        "        cur_hyp = result.loc[i, \"curHyp\"]\n",
        "\n",
        "        forward = cur_hyp[:start]\n",
        "        backward = cur_hyp[start:]\n",
        "        split_back = backward.split(\" \")\n",
        "        del_unit = split_back[0]\n",
        "        back_mod = \" \".join(split_back[1:])\n",
        "\n",
        "        try:\n",
        "            if start==0:\n",
        "                conv_hyp = (forward+back_mod).strip(\" \")\n",
        "            elif cur_hyp[start-1] == '\"' or cur_hyp[start-1]=='「' or cur_hyp[end]==\"」\" or cur_hyp[end]=='\\\"' :\n",
        "                pattern = f'\\\"[^\\\"]*{del_word}[^\\\"]*\\\"|「[^」]*{del_word}[^」]*」'\n",
        "                find_comp = re.compile(pattern)\n",
        "                find_res = find_comp.search(cur_hyp)\n",
        "                start, end = find_res.span()\n",
        "                while cur_hyp[end]!=\" \" and  end<len(cur_hyp):\n",
        "                    end+=1\n",
        "                while cur_hyp[start]!=\" \" and start>=0:\n",
        "                    start-=1\n",
        "                start+=1\n",
        "                del_unit = cur_hyp[start:end]\n",
        "                conv_hyp = (cur_hyp[:start].strip()+\" \"+cur_hyp[end:].strip()).strip()\n",
        "            elif \"(\" in del_unit:\n",
        "                pattern = f'{del_word}[^\\)]+\\)'\n",
        "                find_comp = re.compile(pattern)\n",
        "                find_res = find_comp.search(cur_hyp)\n",
        "                start, end = find_res.span()\n",
        "                while cur_hyp[end]!=\" \" and  end<len(cur_hyp):\n",
        "                    end+=1\n",
        "                while cur_hyp[start]!=\" \" and start>=0:\n",
        "                    start-=1\n",
        "                start+=1\n",
        "                del_unit = cur_hyp[start:end]\n",
        "                conv_hyp = (cur_hyp[:start].strip()+\" \"+cur_hyp[end:].strip()).strip()\n",
        "            else:\n",
        "                conv_hyp = (forward+back_mod).strip(\" \")\n",
        "            dindex_dict[\"omission\"]+=[i]\n",
        "            result.loc[i, \"curHyp\"] = conv_hyp\n",
        "            input_errors(result, i, \"major\", start, del_unit, \"omission\")\n",
        "            result.loc[i, \"errLog\"][\"omission\"] = {\"start_idx\": start, \"text\": del_unit}\n",
        "        except:\n",
        "            pass\n",
        "\n",
        "    return convert_df(df_local, result)\n",
        "\n",
        "df_maom = major_omission(df_crom, 20, \"NNP\", 3, 0.65)\n",
        "# df_mo = major_omission(df_maom, 36, \"NNG\", 2, 0.55)"
      ]
    },
    {
      "cell_type": "code",
      "execution_count": 297,
      "metadata": {
        "id": "xK17uCFS0XYP",
        "outputId": "95951518-1e36-455f-f60e-10f3c2a494d0",
        "colab": {
          "base_uri": "https://localhost:8080/"
        }
      },
      "outputs": [
        {
          "output_type": "execute_result",
          "data": {
            "text/plain": [
              "3985"
            ]
          },
          "metadata": {},
          "execution_count": 297
        }
      ],
      "source": [
        "df_maom.loc[df_maom.errors.apply(len)==1].shape[0]"
      ]
    },
    {
      "cell_type": "code",
      "source": [
        "# df_maom.loc[df_maom.errors.apply(len)==1]"
      ],
      "metadata": {
        "id": "5dEN4FtwwxT9"
      },
      "execution_count": 298,
      "outputs": []
    },
    {
      "cell_type": "code",
      "source": [
        "check_idx(df_maom)"
      ],
      "metadata": {
        "id": "cAFpZuxFxe0E",
        "outputId": "286e4bbd-50b6-4fca-929f-68ade3bfc90e",
        "colab": {
          "base_uri": "https://localhost:8080/"
        }
      },
      "execution_count": 299,
      "outputs": [
        {
          "output_type": "stream",
          "name": "stdout",
          "text": [
            "omission: 3985\n",
            "addition: 0\n",
            "mis-translation: 0\n",
            "over-translation: 0\n",
            "under-translation: 0\n",
            "grammer: 0\n",
            "############################################\n",
            "omission:  3985\n",
            "addition:  0\n",
            "mis-translation:  0\n",
            "over-translation:  0\n",
            "under-translation:  0\n",
            "grammer:  0\n"
          ]
        }
      ]
    },
    {
      "cell_type": "code",
      "source": [
        "df_mo = major_omission(df_maom, 36, \"NNG\", 2, 0.55)"
      ],
      "metadata": {
        "id": "juB8-R5f4-Rv"
      },
      "execution_count": 300,
      "outputs": []
    },
    {
      "cell_type": "code",
      "source": [
        "check_idx(df_mo)"
      ],
      "metadata": {
        "id": "I_L4neB8zfEJ",
        "outputId": "a06fa0dc-3f0f-4010-a106-2ab5a8bef8ee",
        "colab": {
          "base_uri": "https://localhost:8080/"
        }
      },
      "execution_count": 301,
      "outputs": [
        {
          "output_type": "stream",
          "name": "stdout",
          "text": [
            "omission: 6462\n",
            "addition: 0\n",
            "mis-translation: 0\n",
            "over-translation: 0\n",
            "under-translation: 0\n",
            "grammer: 0\n",
            "############################################\n",
            "omission:  6462\n",
            "addition:  0\n",
            "mis-translation:  0\n",
            "over-translation:  0\n",
            "under-translation:  0\n",
            "grammer:  0\n"
          ]
        }
      ]
    },
    {
      "cell_type": "code",
      "source": [
        "# df_mo.loc[df_mo.errors.apply(len)==1]"
      ],
      "metadata": {
        "id": "vdh_F4ZpvWq3"
      },
      "execution_count": 302,
      "outputs": []
    },
    {
      "cell_type": "markdown",
      "source": [
        "### Omission - Neutral"
      ],
      "metadata": {
        "id": "52H2DVr8DGAD"
      }
    },
    {
      "cell_type": "code",
      "source": [
        "sp_list = [\".\", \";\", \":\"]\n",
        "np.random.shuffle(sp_list)\n",
        "sp_list"
      ],
      "metadata": {
        "id": "Ei1FhEO8Fqjg",
        "outputId": "ab614682-c04c-4ef9-abb8-84d58a5c035d",
        "colab": {
          "base_uri": "https://localhost:8080/"
        }
      },
      "execution_count": 303,
      "outputs": [
        {
          "output_type": "execute_result",
          "data": {
            "text/plain": [
              "['.', ';', ':']"
            ]
          },
          "metadata": {},
          "execution_count": 303
        }
      ]
    },
    {
      "cell_type": "code",
      "source": [
        "test = \"안녕하세요; 반갑습니다.\"\n",
        "a = test.find(\".\")\n",
        "test[:a] + test[a+1:]"
      ],
      "metadata": {
        "id": "VHlhWbmKGdsr",
        "outputId": "3dfde318-31af-4a54-d5f7-ffd94d5a8430",
        "colab": {
          "base_uri": "https://localhost:8080/",
          "height": 34
        }
      },
      "execution_count": 304,
      "outputs": [
        {
          "output_type": "execute_result",
          "data": {
            "text/plain": [
              "'안녕하세요; 반갑습니다'"
            ],
            "application/vnd.google.colaboratory.intrinsic+json": {
              "type": "string"
            }
          },
          "metadata": {},
          "execution_count": 304
        }
      ]
    },
    {
      "cell_type": "code",
      "source": [
        "def omission_nt(df, ratio, seed):    # 0.01, 111\n",
        "    df_t = copy_df(df)\n",
        "    np.random.seed(seed)\n",
        "    on_index = random_index(df_t.drop(index=dindex_dict[\"omission\"]), ratio, seed)\n",
        "    on_index = df_t.loc[on_index][df_t.loc[on_index].curHyp.str.contains(r\"\\.|\\;|\\:\")].index\n",
        "    result = df_t.loc[on_index]\n",
        "    dindex_dict[\"omission\"]+=list(on_index)\n",
        "\n",
        "    sp_list = [\".\", \";\", \":\"]\n",
        "    for i in on_index:\n",
        "        np.random.shuffle(sp_list)\n",
        "        for s in sp_list:\n",
        "            cur_hyp = result.loc[i, \"curHyp\"]\n",
        "            s_loc = cur_hyp.find(s)\n",
        "            if s_loc==-1:\n",
        "                continue\n",
        "            conv_hyp = cur_hyp[:s_loc]+cur_hyp[s_loc+1:]\n",
        "            result.loc[i, \"curHyp\"] = conv_hyp\n",
        "            input_errors(result, i, \"neutral\", s_loc, s, \"omission\")\n",
        "            result.loc[i, \"errLog\"][\"omission\"] = {\"start_idx\": s_loc, \"text\": s}\n",
        "            break\n",
        "    return convert_df(df, result)\n",
        "\n",
        "df_on = omission_nt(df_mo, 0.01, 111)"
      ],
      "metadata": {
        "id": "fuNlXo5MDKPw"
      },
      "execution_count": 305,
      "outputs": []
    },
    {
      "cell_type": "code",
      "source": [
        "# df_on.loc[df_on.errors.apply(lambda x: x[0][\"severity\"]==\"neutral\" if len(x)!=0 else False)]"
      ],
      "metadata": {
        "id": "d-aXz7lcH89O"
      },
      "execution_count": 306,
      "outputs": []
    },
    {
      "cell_type": "code",
      "source": [
        "check_idx(df_on)"
      ],
      "metadata": {
        "id": "83kjVALDwP5K",
        "outputId": "5a6289be-08de-44cd-81e9-cb0a23c19c86",
        "colab": {
          "base_uri": "https://localhost:8080/"
        }
      },
      "execution_count": 307,
      "outputs": [
        {
          "output_type": "stream",
          "name": "stdout",
          "text": [
            "omission: 6788\n",
            "addition: 0\n",
            "mis-translation: 0\n",
            "over-translation: 0\n",
            "under-translation: 0\n",
            "grammer: 0\n",
            "############################################\n",
            "omission:  6788\n",
            "addition:  0\n",
            "mis-translation:  0\n",
            "over-translation:  0\n",
            "under-translation:  0\n",
            "grammer:  0\n"
          ]
        }
      ]
    },
    {
      "cell_type": "markdown",
      "metadata": {
        "id": "FixBGthYwUkw"
      },
      "source": [
        "## Addition"
      ]
    },
    {
      "cell_type": "markdown",
      "metadata": {
        "id": "wpSwjmIIIKGv"
      },
      "source": [
        "###Addition-Major"
      ]
    },
    {
      "cell_type": "code",
      "source": [
        "ma_ad_index = random_index(df_on, 0.22, 55)\n",
        "nouns_lists = count_tokens[ma_ad_index].apply(lambda x: x[\"NNG\"])\n",
        "nnpg_info = count_tokens[ma_ad_index].apply(lambda x: [val for val in list(set(x[\"NNG\"])) if len(val)>1])\n",
        "drop_index = nnpg_info[nnpg_info.apply(len) == 0].index.to_list()\n",
        "nnpg_info.drop(index=drop_index, axis=0, inplace=True)\n",
        "maad_index = list(set(ma_ad_index)-set(drop_index))"
      ],
      "metadata": {
        "id": "GDrnrpGegLoe"
      },
      "execution_count": 308,
      "outputs": []
    },
    {
      "cell_type": "code",
      "execution_count": 309,
      "metadata": {
        "id": "7SpEWBAyTDda"
      },
      "outputs": [],
      "source": [
        "def major_addition(df, ratio, seed):\n",
        "    np.random.seed(seed)\n",
        "    df_t=copy_df(df)\n",
        "\n",
        "    ma_ad_index = random_index(df_t, ratio, seed)\n",
        "    nouns_lists = count_tokens[ma_ad_index].apply(lambda x: x[\"NNG\"])\n",
        "    nnpg_info = count_tokens[ma_ad_index].apply(lambda x: [val for val in list(set(x[\"NNG\"])) if len(val)>1])\n",
        "    drop_index = nnpg_info[nnpg_info.apply(len) == 0].index.to_list()\n",
        "    nnpg_info.drop(index=drop_index, axis=0, inplace=True)\n",
        "    ma_ad_index = list(set(ma_ad_index)-set(drop_index))\n",
        "    np.random.seed(seed)\n",
        "    add_position = nnpg_info.apply(lambda x: x[np.random.choice(range(0, len(x)))])\n",
        "    np.random.seed(seed)\n",
        "    add_words = nouns_lists.apply(lambda x: np.random.choice(list(set(nouns)-set(x))))\n",
        "    result = df_t.loc[ma_ad_index]\n",
        "\n",
        "    # dindex_dict[\"addition\"]+=ma_ad_index\n",
        "\n",
        "    josa_list = [\"의\", \"에 의한\", \"에\", \"만\", \"만의\"]\n",
        "    for i in ma_ad_index:\n",
        "        cur_hyp = df.loc[i, \"curHyp\"]\n",
        "        josa_add = np.random.choice(josa_list)\n",
        "        word = add_position[i]\n",
        "        start = cur_hyp.find(word)\n",
        "        if word not in cur_hyp:\n",
        "            continue\n",
        "        add_word = add_words[i]+josa_add\n",
        "        while start>=0 and cur_hyp[start]!=\" \":\n",
        "            start-=1\n",
        "        if start < 0:\n",
        "            conv_hyp = f\"{add_word}\"+\" \"+cur_hyp[start+1:].strip()\n",
        "        else:\n",
        "            conv_hyp = cur_hyp[:start+1].strip()+\" \"+f\"{add_word}\"+\" \"+cur_hyp[start+1:].strip()\n",
        "        result.loc[i, \"curHyp\"] = conv_hyp\n",
        "        input_errors(result, i, \"major\", start+1, add_word, \"addition\")\n",
        "\n",
        "        move_index(result, i, start+1, add_word)\n",
        "        result.loc[i, \"errLog\"][\"addition\"] = {\"start_idx\": (start+1), \"text\": add_word}\n",
        "        dindex_dict[\"addition\"].append(i)\n",
        "\n",
        "    return convert_df(df, result)\n",
        "\n",
        "df_maad = major_addition(df_on, 0.22, 55)"
      ]
    },
    {
      "cell_type": "code",
      "execution_count": 310,
      "metadata": {
        "id": "xF4Q0WgCKNOT",
        "outputId": "4d7c9534-670c-467b-bfce-4f53e87c8d2e",
        "colab": {
          "base_uri": "https://localhost:8080/",
          "height": 53
        }
      },
      "outputs": [
        {
          "output_type": "execute_result",
          "data": {
            "text/plain": [
              "Empty DataFrame\n",
              "Columns: [curHyp, errLog, validation]\n",
              "Index: []"
            ],
            "text/html": [
              "\n",
              "  <div id=\"df-19f2ad11-6d05-4f4f-a75a-43ad38d3c966\" class=\"colab-df-container\">\n",
              "    <div>\n",
              "<style scoped>\n",
              "    .dataframe tbody tr th:only-of-type {\n",
              "        vertical-align: middle;\n",
              "    }\n",
              "\n",
              "    .dataframe tbody tr th {\n",
              "        vertical-align: top;\n",
              "    }\n",
              "\n",
              "    .dataframe thead th {\n",
              "        text-align: right;\n",
              "    }\n",
              "</style>\n",
              "<table border=\"1\" class=\"dataframe\">\n",
              "  <thead>\n",
              "    <tr style=\"text-align: right;\">\n",
              "      <th></th>\n",
              "      <th>curHyp</th>\n",
              "      <th>errLog</th>\n",
              "      <th>validation</th>\n",
              "    </tr>\n",
              "  </thead>\n",
              "  <tbody>\n",
              "  </tbody>\n",
              "</table>\n",
              "</div>\n",
              "    <div class=\"colab-df-buttons\">\n",
              "\n",
              "  <div class=\"colab-df-container\">\n",
              "    <button class=\"colab-df-convert\" onclick=\"convertToInteractive('df-19f2ad11-6d05-4f4f-a75a-43ad38d3c966')\"\n",
              "            title=\"Convert this dataframe to an interactive table.\"\n",
              "            style=\"display:none;\">\n",
              "\n",
              "  <svg xmlns=\"http://www.w3.org/2000/svg\" height=\"24px\" viewBox=\"0 -960 960 960\">\n",
              "    <path d=\"M120-120v-720h720v720H120Zm60-500h600v-160H180v160Zm220 220h160v-160H400v160Zm0 220h160v-160H400v160ZM180-400h160v-160H180v160Zm440 0h160v-160H620v160ZM180-180h160v-160H180v160Zm440 0h160v-160H620v160Z\"/>\n",
              "  </svg>\n",
              "    </button>\n",
              "\n",
              "  <style>\n",
              "    .colab-df-container {\n",
              "      display:flex;\n",
              "      gap: 12px;\n",
              "    }\n",
              "\n",
              "    .colab-df-convert {\n",
              "      background-color: #E8F0FE;\n",
              "      border: none;\n",
              "      border-radius: 50%;\n",
              "      cursor: pointer;\n",
              "      display: none;\n",
              "      fill: #1967D2;\n",
              "      height: 32px;\n",
              "      padding: 0 0 0 0;\n",
              "      width: 32px;\n",
              "    }\n",
              "\n",
              "    .colab-df-convert:hover {\n",
              "      background-color: #E2EBFA;\n",
              "      box-shadow: 0px 1px 2px rgba(60, 64, 67, 0.3), 0px 1px 3px 1px rgba(60, 64, 67, 0.15);\n",
              "      fill: #174EA6;\n",
              "    }\n",
              "\n",
              "    .colab-df-buttons div {\n",
              "      margin-bottom: 4px;\n",
              "    }\n",
              "\n",
              "    [theme=dark] .colab-df-convert {\n",
              "      background-color: #3B4455;\n",
              "      fill: #D2E3FC;\n",
              "    }\n",
              "\n",
              "    [theme=dark] .colab-df-convert:hover {\n",
              "      background-color: #434B5C;\n",
              "      box-shadow: 0px 1px 3px 1px rgba(0, 0, 0, 0.15);\n",
              "      filter: drop-shadow(0px 1px 2px rgba(0, 0, 0, 0.3));\n",
              "      fill: #FFFFFF;\n",
              "    }\n",
              "  </style>\n",
              "\n",
              "    <script>\n",
              "      const buttonEl =\n",
              "        document.querySelector('#df-19f2ad11-6d05-4f4f-a75a-43ad38d3c966 button.colab-df-convert');\n",
              "      buttonEl.style.display =\n",
              "        google.colab.kernel.accessAllowed ? 'block' : 'none';\n",
              "\n",
              "      async function convertToInteractive(key) {\n",
              "        const element = document.querySelector('#df-19f2ad11-6d05-4f4f-a75a-43ad38d3c966');\n",
              "        const dataTable =\n",
              "          await google.colab.kernel.invokeFunction('convertToInteractive',\n",
              "                                                    [key], {});\n",
              "        if (!dataTable) return;\n",
              "\n",
              "        const docLinkHtml = 'Like what you see? Visit the ' +\n",
              "          '<a target=\"_blank\" href=https://colab.research.google.com/notebooks/data_table.ipynb>data table notebook</a>'\n",
              "          + ' to learn more about interactive tables.';\n",
              "        element.innerHTML = '';\n",
              "        dataTable['output_type'] = 'display_data';\n",
              "        await google.colab.output.renderOutput(dataTable, element);\n",
              "        const docLink = document.createElement('div');\n",
              "        docLink.innerHTML = docLinkHtml;\n",
              "        element.appendChild(docLink);\n",
              "      }\n",
              "    </script>\n",
              "  </div>\n",
              "\n",
              "    </div>\n",
              "  </div>\n"
            ]
          },
          "metadata": {},
          "execution_count": 310
        }
      ],
      "source": [
        "temp = check_memorize(df_maad.loc[maad_index])\n",
        "ttp = temp.loc[temp.errLog.apply(lambda i: \"addition\" in i)]\n",
        "ttp.loc[ttp[\"errLog\"].apply(lambda x: x[\"addition\"][\"text\"]) != ttp[\"validation\"].apply(lambda y: y[\"addition\"])]"
      ]
    },
    {
      "cell_type": "code",
      "source": [
        "check_idx(df_maad)"
      ],
      "metadata": {
        "id": "W5j1-GUHniFA",
        "outputId": "ff464b6c-c52d-4e4d-c088-1ff877cd0563",
        "colab": {
          "base_uri": "https://localhost:8080/"
        }
      },
      "execution_count": 311,
      "outputs": [
        {
          "output_type": "stream",
          "name": "stdout",
          "text": [
            "omission: 6788\n",
            "addition: 9727\n",
            "mis-translation: 0\n",
            "over-translation: 0\n",
            "under-translation: 0\n",
            "grammer: 0\n",
            "############################################\n",
            "omission:  6788\n",
            "addition:  9727\n",
            "mis-translation:  0\n",
            "over-translation:  0\n",
            "under-translation:  0\n",
            "grammer:  0\n"
          ]
        }
      ]
    },
    {
      "cell_type": "markdown",
      "source": [
        "### Addition-Minor"
      ],
      "metadata": {
        "id": "fL4VA2o1JcEc"
      }
    },
    {
      "cell_type": "code",
      "source": [
        "amindex = random_index(df_maad.drop(index=dindex_dict[\"addition\"]), 0.2, 234)"
      ],
      "metadata": {
        "id": "ppIaC3ftgGJS"
      },
      "execution_count": 312,
      "outputs": []
    },
    {
      "cell_type": "code",
      "source": [
        "def ma_iter(df, ratio, seed):   #0.2 234\n",
        "    df_t = copy_df(df)\n",
        "    np.random.seed(seed)\n",
        "    am_index = random_index(df_t.drop(index=dindex_dict[\"addition\"]), ratio, seed)\n",
        "    result = df_t.loc[am_index]\n",
        "    dindex_dict[\"addition\"]+=list(am_index)\n",
        "\n",
        "    for i in am_index:\n",
        "        cur_hyp = result.loc[i, \"curHyp\"]\n",
        "        sch = cur_hyp.split(\" \")\n",
        "        rand_idx = np.random.choice([i for i in range(len(sch))])\n",
        "        random_dup = sch[rand_idx]\n",
        "        conv_hyp=\" \".join(sch[:rand_idx] + [random_dup] +sch[rand_idx:])\n",
        "        if rand_idx==0:\n",
        "            start = 0\n",
        "        else:\n",
        "            start = len(\" \".join(sch[:rand_idx]))+1\n",
        "\n",
        "        result.loc[i, \"curHyp\"] = conv_hyp\n",
        "        input_errors(result, i, \"minor\", start, random_dup, \"addition\")\n",
        "\n",
        "        move_index(result, i, start, random_dup)\n",
        "        result.loc[i, \"errLog\"][\"addition\"] = {\"start_idx\": start, \"text\": random_dup}\n",
        "\n",
        "    return convert_df(df, result)\n",
        "df_miter = ma_iter(df_maad, 0.2, 234)"
      ],
      "metadata": {
        "id": "UXrsrECTJf9u"
      },
      "execution_count": 313,
      "outputs": []
    },
    {
      "cell_type": "code",
      "source": [
        "temp = check_memorize(df_miter.loc[amindex])\n",
        "ttp = temp.loc[temp.errLog.apply(lambda i: \"addition\" in i)]\n",
        "ttp.loc[ttp[\"errLog\"].apply(lambda x: x[\"addition\"][\"text\"]) != ttp[\"validation\"].apply(lambda y: y[\"addition\"])]"
      ],
      "metadata": {
        "id": "8LW_SzQSQ1kp",
        "outputId": "36277757-de8b-4b2e-990f-3dad08ceec53",
        "colab": {
          "base_uri": "https://localhost:8080/",
          "height": 53
        }
      },
      "execution_count": 314,
      "outputs": [
        {
          "output_type": "execute_result",
          "data": {
            "text/plain": [
              "Empty DataFrame\n",
              "Columns: [curHyp, errLog, validation]\n",
              "Index: []"
            ],
            "text/html": [
              "\n",
              "  <div id=\"df-65ee26ab-9fde-43fd-81cf-bcada6d6c7b0\" class=\"colab-df-container\">\n",
              "    <div>\n",
              "<style scoped>\n",
              "    .dataframe tbody tr th:only-of-type {\n",
              "        vertical-align: middle;\n",
              "    }\n",
              "\n",
              "    .dataframe tbody tr th {\n",
              "        vertical-align: top;\n",
              "    }\n",
              "\n",
              "    .dataframe thead th {\n",
              "        text-align: right;\n",
              "    }\n",
              "</style>\n",
              "<table border=\"1\" class=\"dataframe\">\n",
              "  <thead>\n",
              "    <tr style=\"text-align: right;\">\n",
              "      <th></th>\n",
              "      <th>curHyp</th>\n",
              "      <th>errLog</th>\n",
              "      <th>validation</th>\n",
              "    </tr>\n",
              "  </thead>\n",
              "  <tbody>\n",
              "  </tbody>\n",
              "</table>\n",
              "</div>\n",
              "    <div class=\"colab-df-buttons\">\n",
              "\n",
              "  <div class=\"colab-df-container\">\n",
              "    <button class=\"colab-df-convert\" onclick=\"convertToInteractive('df-65ee26ab-9fde-43fd-81cf-bcada6d6c7b0')\"\n",
              "            title=\"Convert this dataframe to an interactive table.\"\n",
              "            style=\"display:none;\">\n",
              "\n",
              "  <svg xmlns=\"http://www.w3.org/2000/svg\" height=\"24px\" viewBox=\"0 -960 960 960\">\n",
              "    <path d=\"M120-120v-720h720v720H120Zm60-500h600v-160H180v160Zm220 220h160v-160H400v160Zm0 220h160v-160H400v160ZM180-400h160v-160H180v160Zm440 0h160v-160H620v160ZM180-180h160v-160H180v160Zm440 0h160v-160H620v160Z\"/>\n",
              "  </svg>\n",
              "    </button>\n",
              "\n",
              "  <style>\n",
              "    .colab-df-container {\n",
              "      display:flex;\n",
              "      gap: 12px;\n",
              "    }\n",
              "\n",
              "    .colab-df-convert {\n",
              "      background-color: #E8F0FE;\n",
              "      border: none;\n",
              "      border-radius: 50%;\n",
              "      cursor: pointer;\n",
              "      display: none;\n",
              "      fill: #1967D2;\n",
              "      height: 32px;\n",
              "      padding: 0 0 0 0;\n",
              "      width: 32px;\n",
              "    }\n",
              "\n",
              "    .colab-df-convert:hover {\n",
              "      background-color: #E2EBFA;\n",
              "      box-shadow: 0px 1px 2px rgba(60, 64, 67, 0.3), 0px 1px 3px 1px rgba(60, 64, 67, 0.15);\n",
              "      fill: #174EA6;\n",
              "    }\n",
              "\n",
              "    .colab-df-buttons div {\n",
              "      margin-bottom: 4px;\n",
              "    }\n",
              "\n",
              "    [theme=dark] .colab-df-convert {\n",
              "      background-color: #3B4455;\n",
              "      fill: #D2E3FC;\n",
              "    }\n",
              "\n",
              "    [theme=dark] .colab-df-convert:hover {\n",
              "      background-color: #434B5C;\n",
              "      box-shadow: 0px 1px 3px 1px rgba(0, 0, 0, 0.15);\n",
              "      filter: drop-shadow(0px 1px 2px rgba(0, 0, 0, 0.3));\n",
              "      fill: #FFFFFF;\n",
              "    }\n",
              "  </style>\n",
              "\n",
              "    <script>\n",
              "      const buttonEl =\n",
              "        document.querySelector('#df-65ee26ab-9fde-43fd-81cf-bcada6d6c7b0 button.colab-df-convert');\n",
              "      buttonEl.style.display =\n",
              "        google.colab.kernel.accessAllowed ? 'block' : 'none';\n",
              "\n",
              "      async function convertToInteractive(key) {\n",
              "        const element = document.querySelector('#df-65ee26ab-9fde-43fd-81cf-bcada6d6c7b0');\n",
              "        const dataTable =\n",
              "          await google.colab.kernel.invokeFunction('convertToInteractive',\n",
              "                                                    [key], {});\n",
              "        if (!dataTable) return;\n",
              "\n",
              "        const docLinkHtml = 'Like what you see? Visit the ' +\n",
              "          '<a target=\"_blank\" href=https://colab.research.google.com/notebooks/data_table.ipynb>data table notebook</a>'\n",
              "          + ' to learn more about interactive tables.';\n",
              "        element.innerHTML = '';\n",
              "        dataTable['output_type'] = 'display_data';\n",
              "        await google.colab.output.renderOutput(dataTable, element);\n",
              "        const docLink = document.createElement('div');\n",
              "        docLink.innerHTML = docLinkHtml;\n",
              "        element.appendChild(docLink);\n",
              "      }\n",
              "    </script>\n",
              "  </div>\n",
              "\n",
              "    </div>\n",
              "  </div>\n"
            ]
          },
          "metadata": {},
          "execution_count": 314
        }
      ]
    },
    {
      "cell_type": "code",
      "source": [
        "check_idx(df_miter)"
      ],
      "metadata": {
        "id": "gxbNseRDz2N9",
        "outputId": "447bf4c6-c031-4690-fe6f-35f2897bcc46",
        "colab": {
          "base_uri": "https://localhost:8080/"
        }
      },
      "execution_count": 315,
      "outputs": [
        {
          "output_type": "stream",
          "name": "stdout",
          "text": [
            "omission: 6788\n",
            "addition: 16800\n",
            "mis-translation: 0\n",
            "over-translation: 0\n",
            "under-translation: 0\n",
            "grammer: 0\n",
            "############################################\n",
            "omission:  6788\n",
            "addition:  16800\n",
            "mis-translation:  0\n",
            "over-translation:  0\n",
            "under-translation:  0\n",
            "grammer:  0\n"
          ]
        }
      ]
    },
    {
      "cell_type": "markdown",
      "metadata": {
        "id": "gdiSv2UYwfkF"
      },
      "source": [
        "## Mis-Translation"
      ]
    },
    {
      "cell_type": "code",
      "source": [
        "dindex_dict[\"mis-translation\"] = []"
      ],
      "metadata": {
        "id": "4_5iLjnBh3sa"
      },
      "execution_count": 443,
      "outputs": []
    },
    {
      "cell_type": "markdown",
      "source": [
        "### MT - Minor"
      ],
      "metadata": {
        "id": "5O8XNfgj2kcJ"
      }
    },
    {
      "cell_type": "code",
      "source": [
        "te_drop = df_miter.drop(index=dindex_dict[\"mis-translation\"])\n",
        "transHyp = pd.Series(te_drop.index.map(lambda x: can_noise(te_drop, x)), index=te_drop.index)\n",
        "transHyp"
      ],
      "metadata": {
        "colab": {
          "base_uri": "https://localhost:8080/"
        },
        "id": "q06ChmwNaO54",
        "outputId": "d9b0edb9-d644-43fa-de5b-17f8c48c9ea6"
      },
      "execution_count": 445,
      "outputs": [
        {
          "output_type": "execute_result",
          "data": {
            "text/plain": [
              "22614     이 영은 ㅱㅱㅱㅱ 「보험사기방지 특별법」에서 위임된 사항과 그 시행에 필요한 사항을...\n",
              "22615     「보험사기방지 특별법」(이하 \"법\"이라 한다) 제4조에 따른 보고는 금융위원회가 정...\n",
              "22620     법 제5조제2항에서 \"대통령령으로 정하는 사유\"란 다음 각 호의 어느 하나에 ㅱㅱㅱ...\n",
              "22621     해당 보험계약의 약관 또는 다른 법령에서 보험금 지급을 지체 또는 거절하거나 삭감하...\n",
              "22622     보험회사가 보험사고 조사 과정에서 법 제4조에 따른 보험계약자등의 행위가 보험 사기...\n",
              "                                ...                        \n",
              "577886    위원장은 법 제48조의5에 따른 분쟁조정 결과 또는 분쟁조정 회의에 부치지 아니하기...\n",
              "577888    회의에 참석하는 위원 및 제7조제1항에 따라 회의에 출석하여 의견을 진술하는 전문가...\n",
              "577890    이 영에서 규정한 사항 외에 분쟁조정위원회의 운영 등에 필요한 사항은 분쟁조정위원회...\n",
              "577909    ㅱㅱㅱ 과학기술정보통신부장관은 법 제51조에 따라 다음 각 호의 권한을 우정사업본부...\n",
              "577910    과학기술정보통신부장관은 법 제51조에 따라 법 제18조에 따른 예금자금 중 과학기술...\n",
              "Length: 45093, dtype: object"
            ]
          },
          "metadata": {},
          "execution_count": 445
        }
      ]
    },
    {
      "cell_type": "code",
      "source": [
        "te_drop = df_miter.drop(index=dindex_dict[\"mis-translation\"])\n",
        "transHyp = pd.Series(te_drop.index.map(lambda x: can_noise(te_drop, x)), index=te_drop.index)\n",
        "temp = te_drop.loc[transHyp.str.contains(r'하여야 한다')]\n",
        "can_idx = random_index(temp, 0.3, 789)"
      ],
      "metadata": {
        "id": "t7V4Jv9TfuqH"
      },
      "execution_count": 446,
      "outputs": []
    },
    {
      "cell_type": "code",
      "source": [
        "def hv_mistrans(df, ratio, seed):   # 0.3 789\n",
        "    df_t = copy_df(df)\n",
        "    te_drop = df_t.drop(index=dindex_dict[\"mis-translation\"])\n",
        "    transHyp = pd.Series(te_drop.index.map(lambda x: can_noise(te_drop, x)), index=te_drop.index)\n",
        "    temp = te_drop.loc[transHyp.str.contains(r'하여야 한다')]\n",
        "    can_index = random_index(temp, ratio, seed)\n",
        "    result = te_drop.loc[can_index]\n",
        "    ch_words = ['해야만 한다', '해야 할 것이다']\n",
        "    dindex_dict[\"mis-translation\"] += list(can_index)\n",
        "\n",
        "    for i in can_index:\n",
        "        np.random.shuffle(ch_words)\n",
        "        ch_word = ch_words[0]\n",
        "        cur_hyp = result.loc[i, \"curHyp\"]\n",
        "        start = cur_hyp.find('하여야 한다')\n",
        "        conv_hyp = cur_hyp[:start] + ch_word + cur_hyp[start+6:]\n",
        "\n",
        "        result.loc[i, 'curHyp'] = conv_hyp\n",
        "        input_errors(result, i, 'minor', start, ch_word, 'mis-translation')\n",
        "\n",
        "        move_index(result, i, start, ch_word)\n",
        "        result.loc[i, \"errLog\"][\"mis-translation\"] = {\"start_idx\": start, \"text\": ch_word}\n",
        "    return convert_df(df, result)\n",
        "\n",
        "df_can = hv_mistrans(df_miter, 0.3, 789)"
      ],
      "metadata": {
        "id": "eGef5RgVU8Fa"
      },
      "execution_count": 450,
      "outputs": []
    },
    {
      "cell_type": "code",
      "source": [
        "temp = check_memorize(df_can.loc[can_idx])\n",
        "temp\n",
        "ttp = temp.loc[temp.errLog.apply(lambda i: \"mis-translation\" in i)]\n",
        "ttp.loc[ttp[\"errLog\"].apply(lambda x: x[\"mis-translation\"][\"text\"]) != ttp[\"validation\"].apply(lambda y: y[\"mis-translation\"])]"
      ],
      "metadata": {
        "id": "MkcFFdQzvfPJ",
        "outputId": "14f2656f-d9f7-47a6-88a8-eacaff09909d",
        "colab": {
          "base_uri": "https://localhost:8080/",
          "height": 53
        }
      },
      "execution_count": 451,
      "outputs": [
        {
          "output_type": "execute_result",
          "data": {
            "text/plain": [
              "Empty DataFrame\n",
              "Columns: [curHyp, errLog, validation]\n",
              "Index: []"
            ],
            "text/html": [
              "\n",
              "  <div id=\"df-bfec2622-eb00-4d82-8ecf-b21bc082684f\" class=\"colab-df-container\">\n",
              "    <div>\n",
              "<style scoped>\n",
              "    .dataframe tbody tr th:only-of-type {\n",
              "        vertical-align: middle;\n",
              "    }\n",
              "\n",
              "    .dataframe tbody tr th {\n",
              "        vertical-align: top;\n",
              "    }\n",
              "\n",
              "    .dataframe thead th {\n",
              "        text-align: right;\n",
              "    }\n",
              "</style>\n",
              "<table border=\"1\" class=\"dataframe\">\n",
              "  <thead>\n",
              "    <tr style=\"text-align: right;\">\n",
              "      <th></th>\n",
              "      <th>curHyp</th>\n",
              "      <th>errLog</th>\n",
              "      <th>validation</th>\n",
              "    </tr>\n",
              "  </thead>\n",
              "  <tbody>\n",
              "  </tbody>\n",
              "</table>\n",
              "</div>\n",
              "    <div class=\"colab-df-buttons\">\n",
              "\n",
              "  <div class=\"colab-df-container\">\n",
              "    <button class=\"colab-df-convert\" onclick=\"convertToInteractive('df-bfec2622-eb00-4d82-8ecf-b21bc082684f')\"\n",
              "            title=\"Convert this dataframe to an interactive table.\"\n",
              "            style=\"display:none;\">\n",
              "\n",
              "  <svg xmlns=\"http://www.w3.org/2000/svg\" height=\"24px\" viewBox=\"0 -960 960 960\">\n",
              "    <path d=\"M120-120v-720h720v720H120Zm60-500h600v-160H180v160Zm220 220h160v-160H400v160Zm0 220h160v-160H400v160ZM180-400h160v-160H180v160Zm440 0h160v-160H620v160ZM180-180h160v-160H180v160Zm440 0h160v-160H620v160Z\"/>\n",
              "  </svg>\n",
              "    </button>\n",
              "\n",
              "  <style>\n",
              "    .colab-df-container {\n",
              "      display:flex;\n",
              "      gap: 12px;\n",
              "    }\n",
              "\n",
              "    .colab-df-convert {\n",
              "      background-color: #E8F0FE;\n",
              "      border: none;\n",
              "      border-radius: 50%;\n",
              "      cursor: pointer;\n",
              "      display: none;\n",
              "      fill: #1967D2;\n",
              "      height: 32px;\n",
              "      padding: 0 0 0 0;\n",
              "      width: 32px;\n",
              "    }\n",
              "\n",
              "    .colab-df-convert:hover {\n",
              "      background-color: #E2EBFA;\n",
              "      box-shadow: 0px 1px 2px rgba(60, 64, 67, 0.3), 0px 1px 3px 1px rgba(60, 64, 67, 0.15);\n",
              "      fill: #174EA6;\n",
              "    }\n",
              "\n",
              "    .colab-df-buttons div {\n",
              "      margin-bottom: 4px;\n",
              "    }\n",
              "\n",
              "    [theme=dark] .colab-df-convert {\n",
              "      background-color: #3B4455;\n",
              "      fill: #D2E3FC;\n",
              "    }\n",
              "\n",
              "    [theme=dark] .colab-df-convert:hover {\n",
              "      background-color: #434B5C;\n",
              "      box-shadow: 0px 1px 3px 1px rgba(0, 0, 0, 0.15);\n",
              "      filter: drop-shadow(0px 1px 2px rgba(0, 0, 0, 0.3));\n",
              "      fill: #FFFFFF;\n",
              "    }\n",
              "  </style>\n",
              "\n",
              "    <script>\n",
              "      const buttonEl =\n",
              "        document.querySelector('#df-bfec2622-eb00-4d82-8ecf-b21bc082684f button.colab-df-convert');\n",
              "      buttonEl.style.display =\n",
              "        google.colab.kernel.accessAllowed ? 'block' : 'none';\n",
              "\n",
              "      async function convertToInteractive(key) {\n",
              "        const element = document.querySelector('#df-bfec2622-eb00-4d82-8ecf-b21bc082684f');\n",
              "        const dataTable =\n",
              "          await google.colab.kernel.invokeFunction('convertToInteractive',\n",
              "                                                    [key], {});\n",
              "        if (!dataTable) return;\n",
              "\n",
              "        const docLinkHtml = 'Like what you see? Visit the ' +\n",
              "          '<a target=\"_blank\" href=https://colab.research.google.com/notebooks/data_table.ipynb>data table notebook</a>'\n",
              "          + ' to learn more about interactive tables.';\n",
              "        element.innerHTML = '';\n",
              "        dataTable['output_type'] = 'display_data';\n",
              "        await google.colab.output.renderOutput(dataTable, element);\n",
              "        const docLink = document.createElement('div');\n",
              "        docLink.innerHTML = docLinkHtml;\n",
              "        element.appendChild(docLink);\n",
              "      }\n",
              "    </script>\n",
              "  </div>\n",
              "\n",
              "    </div>\n",
              "  </div>\n"
            ]
          },
          "metadata": {},
          "execution_count": 451
        }
      ]
    },
    {
      "cell_type": "code",
      "source": [
        "check_idx(df_can)"
      ],
      "metadata": {
        "id": "cA5eaReufXCP",
        "outputId": "85bb5c55-29a3-4cac-ea95-5f89a418898b",
        "colab": {
          "base_uri": "https://localhost:8080/"
        }
      },
      "execution_count": 452,
      "outputs": [
        {
          "output_type": "stream",
          "name": "stdout",
          "text": [
            "omission: 6788\n",
            "addition: 16800\n",
            "mis-translation: 2736\n",
            "over-translation: 0\n",
            "under-translation: 0\n",
            "grammer: 17313\n",
            "############################################\n",
            "omission:  6788\n",
            "addition:  16800\n",
            "mis-translation:  2736\n",
            "over-translation:  0\n",
            "under-translation:  0\n",
            "grammer:  0\n"
          ]
        }
      ]
    },
    {
      "cell_type": "code",
      "source": [
        "errors_report(df_can, True)"
      ],
      "metadata": {
        "colab": {
          "base_uri": "https://localhost:8080/",
          "height": 206
        },
        "id": "rpVBW7HQcy8M",
        "outputId": "939600af-b71c-40ea-c4d0-10c4186ceccf"
      },
      "execution_count": 454,
      "outputs": [
        {
          "output_type": "execute_result",
          "data": {
            "text/plain": [
              "          omission  addition  mis-translation  over-translation  \\\n",
              "critical      3.42      0.00             0.00               0.0   \n",
              "major        21.13     36.95             0.00               0.0   \n",
              "minor         0.00     26.87            10.39               0.0   \n",
              "neutral       1.24      0.00             0.00               0.0   \n",
              "sum          25.79     63.82            10.39               0.0   \n",
              "\n",
              "          under-translation  grammer     sum  \n",
              "critical                0.0      0.0    3.42  \n",
              "major                   0.0      0.0   58.08  \n",
              "minor                   0.0      0.0   37.26  \n",
              "neutral                 0.0      0.0    1.24  \n",
              "sum                     0.0      0.0  100.00  "
            ],
            "text/html": [
              "\n",
              "  <div id=\"df-d95cd4e3-fab4-4e59-b94b-79650bcf3e04\" class=\"colab-df-container\">\n",
              "    <div>\n",
              "<style scoped>\n",
              "    .dataframe tbody tr th:only-of-type {\n",
              "        vertical-align: middle;\n",
              "    }\n",
              "\n",
              "    .dataframe tbody tr th {\n",
              "        vertical-align: top;\n",
              "    }\n",
              "\n",
              "    .dataframe thead th {\n",
              "        text-align: right;\n",
              "    }\n",
              "</style>\n",
              "<table border=\"1\" class=\"dataframe\">\n",
              "  <thead>\n",
              "    <tr style=\"text-align: right;\">\n",
              "      <th></th>\n",
              "      <th>omission</th>\n",
              "      <th>addition</th>\n",
              "      <th>mis-translation</th>\n",
              "      <th>over-translation</th>\n",
              "      <th>under-translation</th>\n",
              "      <th>grammer</th>\n",
              "      <th>sum</th>\n",
              "    </tr>\n",
              "  </thead>\n",
              "  <tbody>\n",
              "    <tr>\n",
              "      <th>critical</th>\n",
              "      <td>3.42</td>\n",
              "      <td>0.00</td>\n",
              "      <td>0.00</td>\n",
              "      <td>0.0</td>\n",
              "      <td>0.0</td>\n",
              "      <td>0.0</td>\n",
              "      <td>3.42</td>\n",
              "    </tr>\n",
              "    <tr>\n",
              "      <th>major</th>\n",
              "      <td>21.13</td>\n",
              "      <td>36.95</td>\n",
              "      <td>0.00</td>\n",
              "      <td>0.0</td>\n",
              "      <td>0.0</td>\n",
              "      <td>0.0</td>\n",
              "      <td>58.08</td>\n",
              "    </tr>\n",
              "    <tr>\n",
              "      <th>minor</th>\n",
              "      <td>0.00</td>\n",
              "      <td>26.87</td>\n",
              "      <td>10.39</td>\n",
              "      <td>0.0</td>\n",
              "      <td>0.0</td>\n",
              "      <td>0.0</td>\n",
              "      <td>37.26</td>\n",
              "    </tr>\n",
              "    <tr>\n",
              "      <th>neutral</th>\n",
              "      <td>1.24</td>\n",
              "      <td>0.00</td>\n",
              "      <td>0.00</td>\n",
              "      <td>0.0</td>\n",
              "      <td>0.0</td>\n",
              "      <td>0.0</td>\n",
              "      <td>1.24</td>\n",
              "    </tr>\n",
              "    <tr>\n",
              "      <th>sum</th>\n",
              "      <td>25.79</td>\n",
              "      <td>63.82</td>\n",
              "      <td>10.39</td>\n",
              "      <td>0.0</td>\n",
              "      <td>0.0</td>\n",
              "      <td>0.0</td>\n",
              "      <td>100.00</td>\n",
              "    </tr>\n",
              "  </tbody>\n",
              "</table>\n",
              "</div>\n",
              "    <div class=\"colab-df-buttons\">\n",
              "\n",
              "  <div class=\"colab-df-container\">\n",
              "    <button class=\"colab-df-convert\" onclick=\"convertToInteractive('df-d95cd4e3-fab4-4e59-b94b-79650bcf3e04')\"\n",
              "            title=\"Convert this dataframe to an interactive table.\"\n",
              "            style=\"display:none;\">\n",
              "\n",
              "  <svg xmlns=\"http://www.w3.org/2000/svg\" height=\"24px\" viewBox=\"0 -960 960 960\">\n",
              "    <path d=\"M120-120v-720h720v720H120Zm60-500h600v-160H180v160Zm220 220h160v-160H400v160Zm0 220h160v-160H400v160ZM180-400h160v-160H180v160Zm440 0h160v-160H620v160ZM180-180h160v-160H180v160Zm440 0h160v-160H620v160Z\"/>\n",
              "  </svg>\n",
              "    </button>\n",
              "\n",
              "  <style>\n",
              "    .colab-df-container {\n",
              "      display:flex;\n",
              "      gap: 12px;\n",
              "    }\n",
              "\n",
              "    .colab-df-convert {\n",
              "      background-color: #E8F0FE;\n",
              "      border: none;\n",
              "      border-radius: 50%;\n",
              "      cursor: pointer;\n",
              "      display: none;\n",
              "      fill: #1967D2;\n",
              "      height: 32px;\n",
              "      padding: 0 0 0 0;\n",
              "      width: 32px;\n",
              "    }\n",
              "\n",
              "    .colab-df-convert:hover {\n",
              "      background-color: #E2EBFA;\n",
              "      box-shadow: 0px 1px 2px rgba(60, 64, 67, 0.3), 0px 1px 3px 1px rgba(60, 64, 67, 0.15);\n",
              "      fill: #174EA6;\n",
              "    }\n",
              "\n",
              "    .colab-df-buttons div {\n",
              "      margin-bottom: 4px;\n",
              "    }\n",
              "\n",
              "    [theme=dark] .colab-df-convert {\n",
              "      background-color: #3B4455;\n",
              "      fill: #D2E3FC;\n",
              "    }\n",
              "\n",
              "    [theme=dark] .colab-df-convert:hover {\n",
              "      background-color: #434B5C;\n",
              "      box-shadow: 0px 1px 3px 1px rgba(0, 0, 0, 0.15);\n",
              "      filter: drop-shadow(0px 1px 2px rgba(0, 0, 0, 0.3));\n",
              "      fill: #FFFFFF;\n",
              "    }\n",
              "  </style>\n",
              "\n",
              "    <script>\n",
              "      const buttonEl =\n",
              "        document.querySelector('#df-d95cd4e3-fab4-4e59-b94b-79650bcf3e04 button.colab-df-convert');\n",
              "      buttonEl.style.display =\n",
              "        google.colab.kernel.accessAllowed ? 'block' : 'none';\n",
              "\n",
              "      async function convertToInteractive(key) {\n",
              "        const element = document.querySelector('#df-d95cd4e3-fab4-4e59-b94b-79650bcf3e04');\n",
              "        const dataTable =\n",
              "          await google.colab.kernel.invokeFunction('convertToInteractive',\n",
              "                                                    [key], {});\n",
              "        if (!dataTable) return;\n",
              "\n",
              "        const docLinkHtml = 'Like what you see? Visit the ' +\n",
              "          '<a target=\"_blank\" href=https://colab.research.google.com/notebooks/data_table.ipynb>data table notebook</a>'\n",
              "          + ' to learn more about interactive tables.';\n",
              "        element.innerHTML = '';\n",
              "        dataTable['output_type'] = 'display_data';\n",
              "        await google.colab.output.renderOutput(dataTable, element);\n",
              "        const docLink = document.createElement('div');\n",
              "        docLink.innerHTML = docLinkHtml;\n",
              "        element.appendChild(docLink);\n",
              "      }\n",
              "    </script>\n",
              "  </div>\n",
              "\n",
              "\n",
              "<div id=\"df-ea422ec9-3c4c-4187-9d2b-b72f3d2e909c\">\n",
              "  <button class=\"colab-df-quickchart\" onclick=\"quickchart('df-ea422ec9-3c4c-4187-9d2b-b72f3d2e909c')\"\n",
              "            title=\"Suggest charts.\"\n",
              "            style=\"display:none;\">\n",
              "\n",
              "<svg xmlns=\"http://www.w3.org/2000/svg\" height=\"24px\"viewBox=\"0 0 24 24\"\n",
              "     width=\"24px\">\n",
              "    <g>\n",
              "        <path d=\"M19 3H5c-1.1 0-2 .9-2 2v14c0 1.1.9 2 2 2h14c1.1 0 2-.9 2-2V5c0-1.1-.9-2-2-2zM9 17H7v-7h2v7zm4 0h-2V7h2v10zm4 0h-2v-4h2v4z\"/>\n",
              "    </g>\n",
              "</svg>\n",
              "  </button>\n",
              "\n",
              "<style>\n",
              "  .colab-df-quickchart {\n",
              "    background-color: #E8F0FE;\n",
              "    border: none;\n",
              "    border-radius: 50%;\n",
              "    cursor: pointer;\n",
              "    display: none;\n",
              "    fill: #1967D2;\n",
              "    height: 32px;\n",
              "    padding: 0 0 0 0;\n",
              "    width: 32px;\n",
              "  }\n",
              "\n",
              "  .colab-df-quickchart:hover {\n",
              "    background-color: #E2EBFA;\n",
              "    box-shadow: 0px 1px 2px rgba(60, 64, 67, 0.3), 0px 1px 3px 1px rgba(60, 64, 67, 0.15);\n",
              "    fill: #174EA6;\n",
              "  }\n",
              "\n",
              "  [theme=dark] .colab-df-quickchart {\n",
              "    background-color: #3B4455;\n",
              "    fill: #D2E3FC;\n",
              "  }\n",
              "\n",
              "  [theme=dark] .colab-df-quickchart:hover {\n",
              "    background-color: #434B5C;\n",
              "    box-shadow: 0px 1px 3px 1px rgba(0, 0, 0, 0.15);\n",
              "    filter: drop-shadow(0px 1px 2px rgba(0, 0, 0, 0.3));\n",
              "    fill: #FFFFFF;\n",
              "  }\n",
              "</style>\n",
              "\n",
              "  <script>\n",
              "    async function quickchart(key) {\n",
              "      const charts = await google.colab.kernel.invokeFunction(\n",
              "          'suggestCharts', [key], {});\n",
              "    }\n",
              "    (() => {\n",
              "      let quickchartButtonEl =\n",
              "        document.querySelector('#df-ea422ec9-3c4c-4187-9d2b-b72f3d2e909c button');\n",
              "      quickchartButtonEl.style.display =\n",
              "        google.colab.kernel.accessAllowed ? 'block' : 'none';\n",
              "    })();\n",
              "  </script>\n",
              "</div>\n",
              "    </div>\n",
              "  </div>\n"
            ]
          },
          "metadata": {},
          "execution_count": 454
        }
      ]
    },
    {
      "cell_type": "code",
      "source": [
        "def ddo_trans(df, ratio, seed, val):\n",
        "    df_t = copy_df(df)\n",
        "    conv_list = [\"내지\", \"및\", \"또는\"]\n",
        "    conv_list.remove(val)\n",
        "    te_drop = df_t.drop(index=dindex_dict[\"mis-translation\"])\n",
        "    transHyp = pd.Series(te_drop.index.map(lambda x: can_noise(te_drop, x)), index=te_drop.index)\n",
        "    # temp = df_t.drop(index=dindex_dict[\"mis-translation\"])\n",
        "    ival = \" \"+val+\" \"\n",
        "    ddo_idx = random_index(te_drop.loc[transHyp.str.contains(ival)], ratio, seed)\n",
        "    result = te_drop.loc[ddo_idx]\n",
        "    dindex_dict[\"mis-translation\"]+=list(ddo_idx)\n",
        "\n",
        "\n",
        "    for i in ddo_idx:\n",
        "        np.random.shuffle(conv_list)\n",
        "        conv_word = conv_list[0]\n",
        "\n",
        "        conv_hyp, start, fconv_word = replace_inteli(result, i, val, conv_word)\n",
        "\n",
        "        result.loc[i, \"curHyp\"] = conv_hyp\n",
        "        input_errors(result, i, 'minor', start, fconv_word, 'mis-translation')\n",
        "\n",
        "        move_index(result, i, start, fconv_word)\n",
        "        result.loc[i, \"errLog\"][\"mis-translation\"] = {\"start_idx\": start, \"text\": fconv_word}\n",
        "    return convert_df(df, result)"
      ],
      "metadata": {
        "id": "mjsmqJBB6Ssb"
      },
      "execution_count": 461,
      "outputs": []
    },
    {
      "cell_type": "code",
      "source": [
        "te_drop = df_can.drop(index=dindex_dict[\"mis-translation\"])\n",
        "transHyp = pd.Series(te_drop.index.map(lambda x: can_noise(te_drop, x)), index=te_drop.index)\n",
        "do_idx = random_index(te_drop.loc[transHyp.str.contains(\" \"+\"또는\"+\" \")], 0.2, 555)\n",
        "\n",
        "df_ddo = ddo_trans(df_can, 0.2, 555, \"또는\")\n",
        "\n",
        "temp = check_memorize(df_ddo.loc[do_idx])\n",
        "ttp = temp.loc[temp.errLog.apply(lambda i: \"mis-translation\" in i)]\n",
        "ttp.loc[ttp[\"errLog\"].apply(lambda x: x[\"mis-translation\"][\"text\"]) != ttp[\"validation\"].apply(lambda y: y[\"mis-translation\"])]"
      ],
      "metadata": {
        "id": "BvexdvvVbfvg",
        "colab": {
          "base_uri": "https://localhost:8080/",
          "height": 53
        },
        "outputId": "ccb88bf1-0825-4537-ffb1-91bebfb0d95f"
      },
      "execution_count": 462,
      "outputs": [
        {
          "output_type": "execute_result",
          "data": {
            "text/plain": [
              "Empty DataFrame\n",
              "Columns: [curHyp, errLog, validation]\n",
              "Index: []"
            ],
            "text/html": [
              "\n",
              "  <div id=\"df-8dc121ed-4142-4c9b-ac4f-1d99a354738b\" class=\"colab-df-container\">\n",
              "    <div>\n",
              "<style scoped>\n",
              "    .dataframe tbody tr th:only-of-type {\n",
              "        vertical-align: middle;\n",
              "    }\n",
              "\n",
              "    .dataframe tbody tr th {\n",
              "        vertical-align: top;\n",
              "    }\n",
              "\n",
              "    .dataframe thead th {\n",
              "        text-align: right;\n",
              "    }\n",
              "</style>\n",
              "<table border=\"1\" class=\"dataframe\">\n",
              "  <thead>\n",
              "    <tr style=\"text-align: right;\">\n",
              "      <th></th>\n",
              "      <th>curHyp</th>\n",
              "      <th>errLog</th>\n",
              "      <th>validation</th>\n",
              "    </tr>\n",
              "  </thead>\n",
              "  <tbody>\n",
              "  </tbody>\n",
              "</table>\n",
              "</div>\n",
              "    <div class=\"colab-df-buttons\">\n",
              "\n",
              "  <div class=\"colab-df-container\">\n",
              "    <button class=\"colab-df-convert\" onclick=\"convertToInteractive('df-8dc121ed-4142-4c9b-ac4f-1d99a354738b')\"\n",
              "            title=\"Convert this dataframe to an interactive table.\"\n",
              "            style=\"display:none;\">\n",
              "\n",
              "  <svg xmlns=\"http://www.w3.org/2000/svg\" height=\"24px\" viewBox=\"0 -960 960 960\">\n",
              "    <path d=\"M120-120v-720h720v720H120Zm60-500h600v-160H180v160Zm220 220h160v-160H400v160Zm0 220h160v-160H400v160ZM180-400h160v-160H180v160Zm440 0h160v-160H620v160ZM180-180h160v-160H180v160Zm440 0h160v-160H620v160Z\"/>\n",
              "  </svg>\n",
              "    </button>\n",
              "\n",
              "  <style>\n",
              "    .colab-df-container {\n",
              "      display:flex;\n",
              "      gap: 12px;\n",
              "    }\n",
              "\n",
              "    .colab-df-convert {\n",
              "      background-color: #E8F0FE;\n",
              "      border: none;\n",
              "      border-radius: 50%;\n",
              "      cursor: pointer;\n",
              "      display: none;\n",
              "      fill: #1967D2;\n",
              "      height: 32px;\n",
              "      padding: 0 0 0 0;\n",
              "      width: 32px;\n",
              "    }\n",
              "\n",
              "    .colab-df-convert:hover {\n",
              "      background-color: #E2EBFA;\n",
              "      box-shadow: 0px 1px 2px rgba(60, 64, 67, 0.3), 0px 1px 3px 1px rgba(60, 64, 67, 0.15);\n",
              "      fill: #174EA6;\n",
              "    }\n",
              "\n",
              "    .colab-df-buttons div {\n",
              "      margin-bottom: 4px;\n",
              "    }\n",
              "\n",
              "    [theme=dark] .colab-df-convert {\n",
              "      background-color: #3B4455;\n",
              "      fill: #D2E3FC;\n",
              "    }\n",
              "\n",
              "    [theme=dark] .colab-df-convert:hover {\n",
              "      background-color: #434B5C;\n",
              "      box-shadow: 0px 1px 3px 1px rgba(0, 0, 0, 0.15);\n",
              "      filter: drop-shadow(0px 1px 2px rgba(0, 0, 0, 0.3));\n",
              "      fill: #FFFFFF;\n",
              "    }\n",
              "  </style>\n",
              "\n",
              "    <script>\n",
              "      const buttonEl =\n",
              "        document.querySelector('#df-8dc121ed-4142-4c9b-ac4f-1d99a354738b button.colab-df-convert');\n",
              "      buttonEl.style.display =\n",
              "        google.colab.kernel.accessAllowed ? 'block' : 'none';\n",
              "\n",
              "      async function convertToInteractive(key) {\n",
              "        const element = document.querySelector('#df-8dc121ed-4142-4c9b-ac4f-1d99a354738b');\n",
              "        const dataTable =\n",
              "          await google.colab.kernel.invokeFunction('convertToInteractive',\n",
              "                                                    [key], {});\n",
              "        if (!dataTable) return;\n",
              "\n",
              "        const docLinkHtml = 'Like what you see? Visit the ' +\n",
              "          '<a target=\"_blank\" href=https://colab.research.google.com/notebooks/data_table.ipynb>data table notebook</a>'\n",
              "          + ' to learn more about interactive tables.';\n",
              "        element.innerHTML = '';\n",
              "        dataTable['output_type'] = 'display_data';\n",
              "        await google.colab.output.renderOutput(dataTable, element);\n",
              "        const docLink = document.createElement('div');\n",
              "        docLink.innerHTML = docLinkHtml;\n",
              "        element.appendChild(docLink);\n",
              "      }\n",
              "    </script>\n",
              "  </div>\n",
              "\n",
              "    </div>\n",
              "  </div>\n"
            ]
          },
          "metadata": {},
          "execution_count": 462
        }
      ]
    },
    {
      "cell_type": "code",
      "source": [
        "check_idx(df_ddo)"
      ],
      "metadata": {
        "colab": {
          "base_uri": "https://localhost:8080/"
        },
        "id": "4XPnL54LeB-5",
        "outputId": "a7982f31-cf80-49d5-f44b-20279d096a3e"
      },
      "execution_count": 463,
      "outputs": [
        {
          "output_type": "stream",
          "name": "stdout",
          "text": [
            "omission: 6788\n",
            "addition: 16800\n",
            "mis-translation: 4669\n",
            "over-translation: 0\n",
            "under-translation: 0\n",
            "grammer: 17313\n",
            "############################################\n",
            "omission:  6788\n",
            "addition:  16800\n",
            "mis-translation:  4669\n",
            "over-translation:  0\n",
            "under-translation:  0\n",
            "grammer:  0\n"
          ]
        }
      ]
    },
    {
      "cell_type": "code",
      "source": [
        "te_drop = df_ddo.drop(index=dindex_dict[\"mis-translation\"])\n",
        "transHyp = pd.Series(te_drop.index.map(lambda x: can_noise(te_drop, x)), index=te_drop.index)\n",
        "do_idx = random_index(te_drop.loc[transHyp.str.contains(\" \"+\"내지\"+\" \")], 0.25, 444)\n",
        "\n",
        "df_nae = ddo_trans(df_ddo, 0.25, 444, \"내지\")\n",
        "\n",
        "temp = check_memorize(df_nae.loc[do_idx])\n",
        "ttp = temp.loc[temp.errLog.apply(lambda i: \"mis-translation\" in i)]\n",
        "ttp.loc[ttp[\"errLog\"].apply(lambda x: x[\"mis-translation\"][\"text\"]) != ttp[\"validation\"].apply(lambda y: y[\"mis-translation\"])]"
      ],
      "metadata": {
        "id": "UVgGyHxpjnv0",
        "colab": {
          "base_uri": "https://localhost:8080/",
          "height": 53
        },
        "outputId": "876961a8-62ec-4eea-bcfd-dd8c4975ef9d"
      },
      "execution_count": 465,
      "outputs": [
        {
          "output_type": "execute_result",
          "data": {
            "text/plain": [
              "Empty DataFrame\n",
              "Columns: [curHyp, errLog, validation]\n",
              "Index: []"
            ],
            "text/html": [
              "\n",
              "  <div id=\"df-6a6384a2-7bae-4f8b-a6d9-166293a6dbdc\" class=\"colab-df-container\">\n",
              "    <div>\n",
              "<style scoped>\n",
              "    .dataframe tbody tr th:only-of-type {\n",
              "        vertical-align: middle;\n",
              "    }\n",
              "\n",
              "    .dataframe tbody tr th {\n",
              "        vertical-align: top;\n",
              "    }\n",
              "\n",
              "    .dataframe thead th {\n",
              "        text-align: right;\n",
              "    }\n",
              "</style>\n",
              "<table border=\"1\" class=\"dataframe\">\n",
              "  <thead>\n",
              "    <tr style=\"text-align: right;\">\n",
              "      <th></th>\n",
              "      <th>curHyp</th>\n",
              "      <th>errLog</th>\n",
              "      <th>validation</th>\n",
              "    </tr>\n",
              "  </thead>\n",
              "  <tbody>\n",
              "  </tbody>\n",
              "</table>\n",
              "</div>\n",
              "    <div class=\"colab-df-buttons\">\n",
              "\n",
              "  <div class=\"colab-df-container\">\n",
              "    <button class=\"colab-df-convert\" onclick=\"convertToInteractive('df-6a6384a2-7bae-4f8b-a6d9-166293a6dbdc')\"\n",
              "            title=\"Convert this dataframe to an interactive table.\"\n",
              "            style=\"display:none;\">\n",
              "\n",
              "  <svg xmlns=\"http://www.w3.org/2000/svg\" height=\"24px\" viewBox=\"0 -960 960 960\">\n",
              "    <path d=\"M120-120v-720h720v720H120Zm60-500h600v-160H180v160Zm220 220h160v-160H400v160Zm0 220h160v-160H400v160ZM180-400h160v-160H180v160Zm440 0h160v-160H620v160ZM180-180h160v-160H180v160Zm440 0h160v-160H620v160Z\"/>\n",
              "  </svg>\n",
              "    </button>\n",
              "\n",
              "  <style>\n",
              "    .colab-df-container {\n",
              "      display:flex;\n",
              "      gap: 12px;\n",
              "    }\n",
              "\n",
              "    .colab-df-convert {\n",
              "      background-color: #E8F0FE;\n",
              "      border: none;\n",
              "      border-radius: 50%;\n",
              "      cursor: pointer;\n",
              "      display: none;\n",
              "      fill: #1967D2;\n",
              "      height: 32px;\n",
              "      padding: 0 0 0 0;\n",
              "      width: 32px;\n",
              "    }\n",
              "\n",
              "    .colab-df-convert:hover {\n",
              "      background-color: #E2EBFA;\n",
              "      box-shadow: 0px 1px 2px rgba(60, 64, 67, 0.3), 0px 1px 3px 1px rgba(60, 64, 67, 0.15);\n",
              "      fill: #174EA6;\n",
              "    }\n",
              "\n",
              "    .colab-df-buttons div {\n",
              "      margin-bottom: 4px;\n",
              "    }\n",
              "\n",
              "    [theme=dark] .colab-df-convert {\n",
              "      background-color: #3B4455;\n",
              "      fill: #D2E3FC;\n",
              "    }\n",
              "\n",
              "    [theme=dark] .colab-df-convert:hover {\n",
              "      background-color: #434B5C;\n",
              "      box-shadow: 0px 1px 3px 1px rgba(0, 0, 0, 0.15);\n",
              "      filter: drop-shadow(0px 1px 2px rgba(0, 0, 0, 0.3));\n",
              "      fill: #FFFFFF;\n",
              "    }\n",
              "  </style>\n",
              "\n",
              "    <script>\n",
              "      const buttonEl =\n",
              "        document.querySelector('#df-6a6384a2-7bae-4f8b-a6d9-166293a6dbdc button.colab-df-convert');\n",
              "      buttonEl.style.display =\n",
              "        google.colab.kernel.accessAllowed ? 'block' : 'none';\n",
              "\n",
              "      async function convertToInteractive(key) {\n",
              "        const element = document.querySelector('#df-6a6384a2-7bae-4f8b-a6d9-166293a6dbdc');\n",
              "        const dataTable =\n",
              "          await google.colab.kernel.invokeFunction('convertToInteractive',\n",
              "                                                    [key], {});\n",
              "        if (!dataTable) return;\n",
              "\n",
              "        const docLinkHtml = 'Like what you see? Visit the ' +\n",
              "          '<a target=\"_blank\" href=https://colab.research.google.com/notebooks/data_table.ipynb>data table notebook</a>'\n",
              "          + ' to learn more about interactive tables.';\n",
              "        element.innerHTML = '';\n",
              "        dataTable['output_type'] = 'display_data';\n",
              "        await google.colab.output.renderOutput(dataTable, element);\n",
              "        const docLink = document.createElement('div');\n",
              "        docLink.innerHTML = docLinkHtml;\n",
              "        element.appendChild(docLink);\n",
              "      }\n",
              "    </script>\n",
              "  </div>\n",
              "\n",
              "    </div>\n",
              "  </div>\n"
            ]
          },
          "metadata": {},
          "execution_count": 465
        }
      ]
    },
    {
      "cell_type": "code",
      "source": [
        "te_drop = df_nae.drop(index=dindex_dict[\"mis-translation\"])\n",
        "transHyp = pd.Series(te_drop.index.map(lambda x: can_noise(te_drop, x)), index=te_drop.index)\n",
        "do_idx = random_index(te_drop.loc[transHyp.str.contains(\" \"+\"및\"+\" \")], 0.3, 333)\n",
        "\n",
        "df_mit = ddo_trans(df_nae, 0.3, 333, \"및\")\n",
        "\n",
        "temp = check_memorize(df_mit.loc[do_idx])\n",
        "ttp = temp.loc[temp.errLog.apply(lambda i: \"mis-translation\" in i)]\n",
        "ttp.loc[ttp[\"errLog\"].apply(lambda x: x[\"mis-translation\"][\"text\"]) != ttp[\"validation\"].apply(lambda y: y[\"mis-translation\"])]"
      ],
      "metadata": {
        "id": "I5kqFfwJkMU0",
        "outputId": "c781e482-a1b5-4393-b100-87aa19844d35",
        "colab": {
          "base_uri": "https://localhost:8080/",
          "height": 53
        }
      },
      "execution_count": 466,
      "outputs": [
        {
          "output_type": "execute_result",
          "data": {
            "text/plain": [
              "Empty DataFrame\n",
              "Columns: [curHyp, errLog, validation]\n",
              "Index: []"
            ],
            "text/html": [
              "\n",
              "  <div id=\"df-5586ff40-d055-4aa4-84e7-44d42ba75855\" class=\"colab-df-container\">\n",
              "    <div>\n",
              "<style scoped>\n",
              "    .dataframe tbody tr th:only-of-type {\n",
              "        vertical-align: middle;\n",
              "    }\n",
              "\n",
              "    .dataframe tbody tr th {\n",
              "        vertical-align: top;\n",
              "    }\n",
              "\n",
              "    .dataframe thead th {\n",
              "        text-align: right;\n",
              "    }\n",
              "</style>\n",
              "<table border=\"1\" class=\"dataframe\">\n",
              "  <thead>\n",
              "    <tr style=\"text-align: right;\">\n",
              "      <th></th>\n",
              "      <th>curHyp</th>\n",
              "      <th>errLog</th>\n",
              "      <th>validation</th>\n",
              "    </tr>\n",
              "  </thead>\n",
              "  <tbody>\n",
              "  </tbody>\n",
              "</table>\n",
              "</div>\n",
              "    <div class=\"colab-df-buttons\">\n",
              "\n",
              "  <div class=\"colab-df-container\">\n",
              "    <button class=\"colab-df-convert\" onclick=\"convertToInteractive('df-5586ff40-d055-4aa4-84e7-44d42ba75855')\"\n",
              "            title=\"Convert this dataframe to an interactive table.\"\n",
              "            style=\"display:none;\">\n",
              "\n",
              "  <svg xmlns=\"http://www.w3.org/2000/svg\" height=\"24px\" viewBox=\"0 -960 960 960\">\n",
              "    <path d=\"M120-120v-720h720v720H120Zm60-500h600v-160H180v160Zm220 220h160v-160H400v160Zm0 220h160v-160H400v160ZM180-400h160v-160H180v160Zm440 0h160v-160H620v160ZM180-180h160v-160H180v160Zm440 0h160v-160H620v160Z\"/>\n",
              "  </svg>\n",
              "    </button>\n",
              "\n",
              "  <style>\n",
              "    .colab-df-container {\n",
              "      display:flex;\n",
              "      gap: 12px;\n",
              "    }\n",
              "\n",
              "    .colab-df-convert {\n",
              "      background-color: #E8F0FE;\n",
              "      border: none;\n",
              "      border-radius: 50%;\n",
              "      cursor: pointer;\n",
              "      display: none;\n",
              "      fill: #1967D2;\n",
              "      height: 32px;\n",
              "      padding: 0 0 0 0;\n",
              "      width: 32px;\n",
              "    }\n",
              "\n",
              "    .colab-df-convert:hover {\n",
              "      background-color: #E2EBFA;\n",
              "      box-shadow: 0px 1px 2px rgba(60, 64, 67, 0.3), 0px 1px 3px 1px rgba(60, 64, 67, 0.15);\n",
              "      fill: #174EA6;\n",
              "    }\n",
              "\n",
              "    .colab-df-buttons div {\n",
              "      margin-bottom: 4px;\n",
              "    }\n",
              "\n",
              "    [theme=dark] .colab-df-convert {\n",
              "      background-color: #3B4455;\n",
              "      fill: #D2E3FC;\n",
              "    }\n",
              "\n",
              "    [theme=dark] .colab-df-convert:hover {\n",
              "      background-color: #434B5C;\n",
              "      box-shadow: 0px 1px 3px 1px rgba(0, 0, 0, 0.15);\n",
              "      filter: drop-shadow(0px 1px 2px rgba(0, 0, 0, 0.3));\n",
              "      fill: #FFFFFF;\n",
              "    }\n",
              "  </style>\n",
              "\n",
              "    <script>\n",
              "      const buttonEl =\n",
              "        document.querySelector('#df-5586ff40-d055-4aa4-84e7-44d42ba75855 button.colab-df-convert');\n",
              "      buttonEl.style.display =\n",
              "        google.colab.kernel.accessAllowed ? 'block' : 'none';\n",
              "\n",
              "      async function convertToInteractive(key) {\n",
              "        const element = document.querySelector('#df-5586ff40-d055-4aa4-84e7-44d42ba75855');\n",
              "        const dataTable =\n",
              "          await google.colab.kernel.invokeFunction('convertToInteractive',\n",
              "                                                    [key], {});\n",
              "        if (!dataTable) return;\n",
              "\n",
              "        const docLinkHtml = 'Like what you see? Visit the ' +\n",
              "          '<a target=\"_blank\" href=https://colab.research.google.com/notebooks/data_table.ipynb>data table notebook</a>'\n",
              "          + ' to learn more about interactive tables.';\n",
              "        element.innerHTML = '';\n",
              "        dataTable['output_type'] = 'display_data';\n",
              "        await google.colab.output.renderOutput(dataTable, element);\n",
              "        const docLink = document.createElement('div');\n",
              "        docLink.innerHTML = docLinkHtml;\n",
              "        element.appendChild(docLink);\n",
              "      }\n",
              "    </script>\n",
              "  </div>\n",
              "\n",
              "    </div>\n",
              "  </div>\n"
            ]
          },
          "metadata": {},
          "execution_count": 466
        }
      ]
    },
    {
      "cell_type": "code",
      "source": [
        "check_idx(df_mit)"
      ],
      "metadata": {
        "id": "JtsnxI6mDL5w",
        "outputId": "7309deba-09e3-42b6-cb5e-9f779ca7c3fd",
        "colab": {
          "base_uri": "https://localhost:8080/"
        }
      },
      "execution_count": 467,
      "outputs": [
        {
          "output_type": "stream",
          "name": "stdout",
          "text": [
            "omission: 6788\n",
            "addition: 16800\n",
            "mis-translation: 7591\n",
            "over-translation: 0\n",
            "under-translation: 0\n",
            "grammer: 17313\n",
            "############################################\n",
            "omission:  6788\n",
            "addition:  16800\n",
            "mis-translation:  7591\n",
            "over-translation:  0\n",
            "under-translation:  0\n",
            "grammer:  0\n"
          ]
        }
      ]
    },
    {
      "cell_type": "code",
      "source": [
        "# def standard_change(df, ratio, seed, val, errType):\n",
        "#     df_t = copy_df(df)\n",
        "#     np.random.seed(seed)\n",
        "#     std_idx = random_index(df_t.drop(index=dindex_dict[errType]))"
      ],
      "metadata": {
        "id": "FjH9D2eFPB7E"
      },
      "execution_count": null,
      "outputs": []
    },
    {
      "cell_type": "markdown",
      "source": [
        "### MT - Major"
      ],
      "metadata": {
        "id": "dOph575-U6pJ"
      }
    },
    {
      "cell_type": "code",
      "source": [
        "re.split(r\"[^\\d]+\",'제16조의10제3항')"
      ],
      "metadata": {
        "id": "s4f4DjhYXT8i",
        "outputId": "28363f45-92f6-4542-e7e9-b043ba2d19ec",
        "colab": {
          "base_uri": "https://localhost:8080/"
        }
      },
      "execution_count": null,
      "outputs": [
        {
          "output_type": "execute_result",
          "data": {
            "text/plain": [
              "['', '16', '10', '3', '']"
            ]
          },
          "metadata": {},
          "execution_count": 469
        }
      ]
    },
    {
      "cell_type": "code",
      "source": [
        "patterns = r\"제[\\d]+[\\w]+[\\d]+[\\w]+\\s\"\n",
        "compiler = re.compile(patterns)\n",
        "te_drop = df_mit.drop(index=dindex_dict[\"mis-translation\"])\n",
        "transHyp = pd.Series(te_drop.index.map(lambda x: can_noise(te_drop, x)), index=te_drop.index)\n",
        "std_idx = random_index(te_drop.loc[transHyp.str.contains(patterns)], 0.35, 987)\n",
        "result = te_drop.loc[std_idx]\n",
        "\n",
        "for i in std_idx:\n",
        "    cur_hyp = result.loc[i, \"curHyp\"]\n",
        "    all_find = list(compiler.finditer(cur_hyp))\n",
        "    np.random.shuffle(all_find)\n",
        "    for f in all_find:\n",
        "        sts = f.group().strip()\n",
        "        sts_nsp = re.sub(r\"[가-힣]+\", \" \", sts)\n",
        "        sts_list = re.split(r\"[^\\d]+\", sts_nsp)[1:-1]\n",
        "        sts_add = re.split(r\"[\\d]+\", sts)\n",
        "        pre_shuffle = copy.deepcopy(sts_list)\n",
        "        if len(list(set(pre_shuffle)))==1: continue\n",
        "        while True:\n",
        "            np.random.shuffle(pre_shuffle)\n",
        "            if sts_list!=pre_shuffle:\n",
        "                break\n",
        "        conv_hyp = sts_add.pop(0)\n",
        "        for a, b in zip(sts_add, pre_shuffle):\n",
        "            conv_hyp+=(b+a)\n",
        "        break\n",
        "    print(cur_hyp, sts)\n",
        "    print(replace_inteli(result, i, sts, conv_hyp))\n",
        "    break\n"
      ],
      "metadata": {
        "colab": {
          "base_uri": "https://localhost:8080/"
        },
        "id": "pshYxEHfHpwo",
        "outputId": "1d29de44-8354-4fa3-832c-a0dc618df564"
      },
      "execution_count": 470,
      "outputs": [
        {
          "output_type": "stream",
          "name": "stdout",
          "text": [
            "조달청장은 법 제7조제3항제4호에 따라 각 중앙관서의 장의 물품관리 상황을 조달청장이 정하는 기준에 따라 평가하여야 한다. 제7조제3항제4호에\n",
            "('조달청장은 법 제7조제4항제3호에 따라 각 중앙관서의 장의 물품관리 상황을 조달청장이 정하는 기준에 따라 평가하여야 한다.', 8, '제7조제4항제3호에')\n"
          ]
        }
      ]
    },
    {
      "cell_type": "code",
      "source": [
        "def replace_numbers(df, ratio, seed):\n",
        "    df_t = copy_df(df)\n",
        "    patterns = r\"제[\\d]+[\\w]+[\\d]+[\\w]+\\s\"\n",
        "    te_drop = df_t.drop(index=dindex_dict[\"mis-translation\"])\n",
        "    transHyp = pd.Series(te_drop.index.map(lambda x: can_noise(te_drop, x)), index=te_drop.index)\n",
        "    std_idx = random_index(te_drop.loc[transHyp.str.contains(patterns)], ratio, seed)\n",
        "    result = te_drop.loc[std_idx]\n",
        "\n",
        "    for i in std_idx:\n",
        "        cur_hyp = result.loc[i, \"curHyp\"]\n",
        "        all_find = list(compiler.finditer(cur_hyp))\n",
        "        np.random.shuffle(all_find)\n",
        "        for f in all_find:\n",
        "            sts = f.group().strip()\n",
        "            sts_nsp = re.sub(r\"[가-힣]+\", \" \", sts)\n",
        "            sts_list = re.split(r\"[^\\d]+\", sts_nsp)[1:-1]\n",
        "            sts_add = re.split(r\"[\\d]+\", sts)\n",
        "            pre_shuffle = copy.deepcopy(sts_list)\n",
        "            if len(list(set(pre_shuffle)))==1: continue\n",
        "            while True:\n",
        "                np.random.shuffle(pre_shuffle)\n",
        "                if sts_list!=pre_shuffle:\n",
        "                    break\n",
        "            chyp = sts_add.pop(0)\n",
        "            for a, b in zip(sts_add, pre_shuffle):\n",
        "                chyp+=(b+a)\n",
        "\n",
        "            conv_hyp, start, conv_word = replace_inteli(result, i, sts, chyp)\n",
        "            break\n",
        "\n",
        "        result.loc[i, \"curHyp\"] = conv_hyp\n",
        "        input_errors(result, i, 'major', start, conv_word, 'mis-translation')\n",
        "\n",
        "        move_index(result, i, start, conv_word)\n",
        "        result.loc[i, \"errLog\"][\"mis-translation\"] = {\"start_idx\": start, \"text\": conv_word}\n",
        "        dindex_dict[\"mis-translation\"].append(i)\n",
        "    return convert_df(df, result)\n",
        "\n",
        "df_rpnm = replace_numbers(df_mit, .35, 987)"
      ],
      "metadata": {
        "id": "ODFCZZTGdKsY"
      },
      "execution_count": 477,
      "outputs": []
    },
    {
      "cell_type": "code",
      "source": [
        "temp = check_memorize(df_rpnm.loc[std_idx])\n",
        "ttp = temp.loc[temp.errLog.apply(lambda i: \"mis-translation\" in i)]\n",
        "ttp.loc[ttp[\"errLog\"].apply(lambda x: x[\"mis-translation\"][\"text\"]) != ttp[\"validation\"].apply(lambda y: y[\"mis-translation\"])]"
      ],
      "metadata": {
        "colab": {
          "base_uri": "https://localhost:8080/",
          "height": 53
        },
        "id": "RDln-dyaTVu8",
        "outputId": "5e819caf-f4ac-4d48-be63-8fa1ff1c21d4"
      },
      "execution_count": 478,
      "outputs": [
        {
          "output_type": "execute_result",
          "data": {
            "text/plain": [
              "Empty DataFrame\n",
              "Columns: [curHyp, errLog, validation]\n",
              "Index: []"
            ],
            "text/html": [
              "\n",
              "  <div id=\"df-d3c96a80-9e30-4344-b095-3f0caa4cf891\" class=\"colab-df-container\">\n",
              "    <div>\n",
              "<style scoped>\n",
              "    .dataframe tbody tr th:only-of-type {\n",
              "        vertical-align: middle;\n",
              "    }\n",
              "\n",
              "    .dataframe tbody tr th {\n",
              "        vertical-align: top;\n",
              "    }\n",
              "\n",
              "    .dataframe thead th {\n",
              "        text-align: right;\n",
              "    }\n",
              "</style>\n",
              "<table border=\"1\" class=\"dataframe\">\n",
              "  <thead>\n",
              "    <tr style=\"text-align: right;\">\n",
              "      <th></th>\n",
              "      <th>curHyp</th>\n",
              "      <th>errLog</th>\n",
              "      <th>validation</th>\n",
              "    </tr>\n",
              "  </thead>\n",
              "  <tbody>\n",
              "  </tbody>\n",
              "</table>\n",
              "</div>\n",
              "    <div class=\"colab-df-buttons\">\n",
              "\n",
              "  <div class=\"colab-df-container\">\n",
              "    <button class=\"colab-df-convert\" onclick=\"convertToInteractive('df-d3c96a80-9e30-4344-b095-3f0caa4cf891')\"\n",
              "            title=\"Convert this dataframe to an interactive table.\"\n",
              "            style=\"display:none;\">\n",
              "\n",
              "  <svg xmlns=\"http://www.w3.org/2000/svg\" height=\"24px\" viewBox=\"0 -960 960 960\">\n",
              "    <path d=\"M120-120v-720h720v720H120Zm60-500h600v-160H180v160Zm220 220h160v-160H400v160Zm0 220h160v-160H400v160ZM180-400h160v-160H180v160Zm440 0h160v-160H620v160ZM180-180h160v-160H180v160Zm440 0h160v-160H620v160Z\"/>\n",
              "  </svg>\n",
              "    </button>\n",
              "\n",
              "  <style>\n",
              "    .colab-df-container {\n",
              "      display:flex;\n",
              "      gap: 12px;\n",
              "    }\n",
              "\n",
              "    .colab-df-convert {\n",
              "      background-color: #E8F0FE;\n",
              "      border: none;\n",
              "      border-radius: 50%;\n",
              "      cursor: pointer;\n",
              "      display: none;\n",
              "      fill: #1967D2;\n",
              "      height: 32px;\n",
              "      padding: 0 0 0 0;\n",
              "      width: 32px;\n",
              "    }\n",
              "\n",
              "    .colab-df-convert:hover {\n",
              "      background-color: #E2EBFA;\n",
              "      box-shadow: 0px 1px 2px rgba(60, 64, 67, 0.3), 0px 1px 3px 1px rgba(60, 64, 67, 0.15);\n",
              "      fill: #174EA6;\n",
              "    }\n",
              "\n",
              "    .colab-df-buttons div {\n",
              "      margin-bottom: 4px;\n",
              "    }\n",
              "\n",
              "    [theme=dark] .colab-df-convert {\n",
              "      background-color: #3B4455;\n",
              "      fill: #D2E3FC;\n",
              "    }\n",
              "\n",
              "    [theme=dark] .colab-df-convert:hover {\n",
              "      background-color: #434B5C;\n",
              "      box-shadow: 0px 1px 3px 1px rgba(0, 0, 0, 0.15);\n",
              "      filter: drop-shadow(0px 1px 2px rgba(0, 0, 0, 0.3));\n",
              "      fill: #FFFFFF;\n",
              "    }\n",
              "  </style>\n",
              "\n",
              "    <script>\n",
              "      const buttonEl =\n",
              "        document.querySelector('#df-d3c96a80-9e30-4344-b095-3f0caa4cf891 button.colab-df-convert');\n",
              "      buttonEl.style.display =\n",
              "        google.colab.kernel.accessAllowed ? 'block' : 'none';\n",
              "\n",
              "      async function convertToInteractive(key) {\n",
              "        const element = document.querySelector('#df-d3c96a80-9e30-4344-b095-3f0caa4cf891');\n",
              "        const dataTable =\n",
              "          await google.colab.kernel.invokeFunction('convertToInteractive',\n",
              "                                                    [key], {});\n",
              "        if (!dataTable) return;\n",
              "\n",
              "        const docLinkHtml = 'Like what you see? Visit the ' +\n",
              "          '<a target=\"_blank\" href=https://colab.research.google.com/notebooks/data_table.ipynb>data table notebook</a>'\n",
              "          + ' to learn more about interactive tables.';\n",
              "        element.innerHTML = '';\n",
              "        dataTable['output_type'] = 'display_data';\n",
              "        await google.colab.output.renderOutput(dataTable, element);\n",
              "        const docLink = document.createElement('div');\n",
              "        docLink.innerHTML = docLinkHtml;\n",
              "        element.appendChild(docLink);\n",
              "      }\n",
              "    </script>\n",
              "  </div>\n",
              "\n",
              "    </div>\n",
              "  </div>\n"
            ]
          },
          "metadata": {},
          "execution_count": 478
        }
      ]
    },
    {
      "cell_type": "code",
      "source": [
        "check_idx(df_rpnm)"
      ],
      "metadata": {
        "colab": {
          "base_uri": "https://localhost:8080/"
        },
        "id": "e5YjYawPUS0v",
        "outputId": "ea34f4e9-0904-4d04-e99a-8d753af9098d"
      },
      "execution_count": 479,
      "outputs": [
        {
          "output_type": "stream",
          "name": "stdout",
          "text": [
            "omission: 6788\n",
            "addition: 16800\n",
            "mis-translation: 12270\n",
            "over-translation: 0\n",
            "under-translation: 0\n",
            "grammer: 17313\n",
            "############################################\n",
            "omission:  6788\n",
            "addition:  16800\n",
            "mis-translation:  12270\n",
            "over-translation:  0\n",
            "under-translation:  0\n",
            "grammer:  0\n"
          ]
        }
      ]
    },
    {
      "cell_type": "code",
      "source": [
        "errors_report(df_rpnm, True)"
      ],
      "metadata": {
        "colab": {
          "base_uri": "https://localhost:8080/",
          "height": 206
        },
        "id": "30BFFzkjUV7h",
        "outputId": "6bcebe25-8e2c-44b7-9256-e78603191463"
      },
      "execution_count": 480,
      "outputs": [
        {
          "output_type": "execute_result",
          "data": {
            "text/plain": [
              "          omission  addition  mis-translation  over-translation  \\\n",
              "critical      2.51      0.00             0.00               0.0   \n",
              "major        15.51     27.13            13.05               0.0   \n",
              "minor         0.00     19.73            21.17               0.0   \n",
              "neutral       0.91      0.00             0.00               0.0   \n",
              "sum          18.93     46.85            34.22               0.0   \n",
              "\n",
              "          under-translation  grammer     sum  \n",
              "critical                0.0      0.0    2.51  \n",
              "major                   0.0      0.0   55.68  \n",
              "minor                   0.0      0.0   40.89  \n",
              "neutral                 0.0      0.0    0.91  \n",
              "sum                     0.0      0.0  100.00  "
            ],
            "text/html": [
              "\n",
              "  <div id=\"df-27f314e1-37c4-4c23-bbe9-5be0a88687ce\" class=\"colab-df-container\">\n",
              "    <div>\n",
              "<style scoped>\n",
              "    .dataframe tbody tr th:only-of-type {\n",
              "        vertical-align: middle;\n",
              "    }\n",
              "\n",
              "    .dataframe tbody tr th {\n",
              "        vertical-align: top;\n",
              "    }\n",
              "\n",
              "    .dataframe thead th {\n",
              "        text-align: right;\n",
              "    }\n",
              "</style>\n",
              "<table border=\"1\" class=\"dataframe\">\n",
              "  <thead>\n",
              "    <tr style=\"text-align: right;\">\n",
              "      <th></th>\n",
              "      <th>omission</th>\n",
              "      <th>addition</th>\n",
              "      <th>mis-translation</th>\n",
              "      <th>over-translation</th>\n",
              "      <th>under-translation</th>\n",
              "      <th>grammer</th>\n",
              "      <th>sum</th>\n",
              "    </tr>\n",
              "  </thead>\n",
              "  <tbody>\n",
              "    <tr>\n",
              "      <th>critical</th>\n",
              "      <td>2.51</td>\n",
              "      <td>0.00</td>\n",
              "      <td>0.00</td>\n",
              "      <td>0.0</td>\n",
              "      <td>0.0</td>\n",
              "      <td>0.0</td>\n",
              "      <td>2.51</td>\n",
              "    </tr>\n",
              "    <tr>\n",
              "      <th>major</th>\n",
              "      <td>15.51</td>\n",
              "      <td>27.13</td>\n",
              "      <td>13.05</td>\n",
              "      <td>0.0</td>\n",
              "      <td>0.0</td>\n",
              "      <td>0.0</td>\n",
              "      <td>55.68</td>\n",
              "    </tr>\n",
              "    <tr>\n",
              "      <th>minor</th>\n",
              "      <td>0.00</td>\n",
              "      <td>19.73</td>\n",
              "      <td>21.17</td>\n",
              "      <td>0.0</td>\n",
              "      <td>0.0</td>\n",
              "      <td>0.0</td>\n",
              "      <td>40.89</td>\n",
              "    </tr>\n",
              "    <tr>\n",
              "      <th>neutral</th>\n",
              "      <td>0.91</td>\n",
              "      <td>0.00</td>\n",
              "      <td>0.00</td>\n",
              "      <td>0.0</td>\n",
              "      <td>0.0</td>\n",
              "      <td>0.0</td>\n",
              "      <td>0.91</td>\n",
              "    </tr>\n",
              "    <tr>\n",
              "      <th>sum</th>\n",
              "      <td>18.93</td>\n",
              "      <td>46.85</td>\n",
              "      <td>34.22</td>\n",
              "      <td>0.0</td>\n",
              "      <td>0.0</td>\n",
              "      <td>0.0</td>\n",
              "      <td>100.00</td>\n",
              "    </tr>\n",
              "  </tbody>\n",
              "</table>\n",
              "</div>\n",
              "    <div class=\"colab-df-buttons\">\n",
              "\n",
              "  <div class=\"colab-df-container\">\n",
              "    <button class=\"colab-df-convert\" onclick=\"convertToInteractive('df-27f314e1-37c4-4c23-bbe9-5be0a88687ce')\"\n",
              "            title=\"Convert this dataframe to an interactive table.\"\n",
              "            style=\"display:none;\">\n",
              "\n",
              "  <svg xmlns=\"http://www.w3.org/2000/svg\" height=\"24px\" viewBox=\"0 -960 960 960\">\n",
              "    <path d=\"M120-120v-720h720v720H120Zm60-500h600v-160H180v160Zm220 220h160v-160H400v160Zm0 220h160v-160H400v160ZM180-400h160v-160H180v160Zm440 0h160v-160H620v160ZM180-180h160v-160H180v160Zm440 0h160v-160H620v160Z\"/>\n",
              "  </svg>\n",
              "    </button>\n",
              "\n",
              "  <style>\n",
              "    .colab-df-container {\n",
              "      display:flex;\n",
              "      gap: 12px;\n",
              "    }\n",
              "\n",
              "    .colab-df-convert {\n",
              "      background-color: #E8F0FE;\n",
              "      border: none;\n",
              "      border-radius: 50%;\n",
              "      cursor: pointer;\n",
              "      display: none;\n",
              "      fill: #1967D2;\n",
              "      height: 32px;\n",
              "      padding: 0 0 0 0;\n",
              "      width: 32px;\n",
              "    }\n",
              "\n",
              "    .colab-df-convert:hover {\n",
              "      background-color: #E2EBFA;\n",
              "      box-shadow: 0px 1px 2px rgba(60, 64, 67, 0.3), 0px 1px 3px 1px rgba(60, 64, 67, 0.15);\n",
              "      fill: #174EA6;\n",
              "    }\n",
              "\n",
              "    .colab-df-buttons div {\n",
              "      margin-bottom: 4px;\n",
              "    }\n",
              "\n",
              "    [theme=dark] .colab-df-convert {\n",
              "      background-color: #3B4455;\n",
              "      fill: #D2E3FC;\n",
              "    }\n",
              "\n",
              "    [theme=dark] .colab-df-convert:hover {\n",
              "      background-color: #434B5C;\n",
              "      box-shadow: 0px 1px 3px 1px rgba(0, 0, 0, 0.15);\n",
              "      filter: drop-shadow(0px 1px 2px rgba(0, 0, 0, 0.3));\n",
              "      fill: #FFFFFF;\n",
              "    }\n",
              "  </style>\n",
              "\n",
              "    <script>\n",
              "      const buttonEl =\n",
              "        document.querySelector('#df-27f314e1-37c4-4c23-bbe9-5be0a88687ce button.colab-df-convert');\n",
              "      buttonEl.style.display =\n",
              "        google.colab.kernel.accessAllowed ? 'block' : 'none';\n",
              "\n",
              "      async function convertToInteractive(key) {\n",
              "        const element = document.querySelector('#df-27f314e1-37c4-4c23-bbe9-5be0a88687ce');\n",
              "        const dataTable =\n",
              "          await google.colab.kernel.invokeFunction('convertToInteractive',\n",
              "                                                    [key], {});\n",
              "        if (!dataTable) return;\n",
              "\n",
              "        const docLinkHtml = 'Like what you see? Visit the ' +\n",
              "          '<a target=\"_blank\" href=https://colab.research.google.com/notebooks/data_table.ipynb>data table notebook</a>'\n",
              "          + ' to learn more about interactive tables.';\n",
              "        element.innerHTML = '';\n",
              "        dataTable['output_type'] = 'display_data';\n",
              "        await google.colab.output.renderOutput(dataTable, element);\n",
              "        const docLink = document.createElement('div');\n",
              "        docLink.innerHTML = docLinkHtml;\n",
              "        element.appendChild(docLink);\n",
              "      }\n",
              "    </script>\n",
              "  </div>\n",
              "\n",
              "\n",
              "<div id=\"df-32ffc451-ff44-49fa-aef5-efe9bbcc7c1d\">\n",
              "  <button class=\"colab-df-quickchart\" onclick=\"quickchart('df-32ffc451-ff44-49fa-aef5-efe9bbcc7c1d')\"\n",
              "            title=\"Suggest charts.\"\n",
              "            style=\"display:none;\">\n",
              "\n",
              "<svg xmlns=\"http://www.w3.org/2000/svg\" height=\"24px\"viewBox=\"0 0 24 24\"\n",
              "     width=\"24px\">\n",
              "    <g>\n",
              "        <path d=\"M19 3H5c-1.1 0-2 .9-2 2v14c0 1.1.9 2 2 2h14c1.1 0 2-.9 2-2V5c0-1.1-.9-2-2-2zM9 17H7v-7h2v7zm4 0h-2V7h2v10zm4 0h-2v-4h2v4z\"/>\n",
              "    </g>\n",
              "</svg>\n",
              "  </button>\n",
              "\n",
              "<style>\n",
              "  .colab-df-quickchart {\n",
              "    background-color: #E8F0FE;\n",
              "    border: none;\n",
              "    border-radius: 50%;\n",
              "    cursor: pointer;\n",
              "    display: none;\n",
              "    fill: #1967D2;\n",
              "    height: 32px;\n",
              "    padding: 0 0 0 0;\n",
              "    width: 32px;\n",
              "  }\n",
              "\n",
              "  .colab-df-quickchart:hover {\n",
              "    background-color: #E2EBFA;\n",
              "    box-shadow: 0px 1px 2px rgba(60, 64, 67, 0.3), 0px 1px 3px 1px rgba(60, 64, 67, 0.15);\n",
              "    fill: #174EA6;\n",
              "  }\n",
              "\n",
              "  [theme=dark] .colab-df-quickchart {\n",
              "    background-color: #3B4455;\n",
              "    fill: #D2E3FC;\n",
              "  }\n",
              "\n",
              "  [theme=dark] .colab-df-quickchart:hover {\n",
              "    background-color: #434B5C;\n",
              "    box-shadow: 0px 1px 3px 1px rgba(0, 0, 0, 0.15);\n",
              "    filter: drop-shadow(0px 1px 2px rgba(0, 0, 0, 0.3));\n",
              "    fill: #FFFFFF;\n",
              "  }\n",
              "</style>\n",
              "\n",
              "  <script>\n",
              "    async function quickchart(key) {\n",
              "      const charts = await google.colab.kernel.invokeFunction(\n",
              "          'suggestCharts', [key], {});\n",
              "    }\n",
              "    (() => {\n",
              "      let quickchartButtonEl =\n",
              "        document.querySelector('#df-32ffc451-ff44-49fa-aef5-efe9bbcc7c1d button');\n",
              "      quickchartButtonEl.style.display =\n",
              "        google.colab.kernel.accessAllowed ? 'block' : 'none';\n",
              "    })();\n",
              "  </script>\n",
              "</div>\n",
              "    </div>\n",
              "  </div>\n"
            ]
          },
          "metadata": {},
          "execution_count": 480
        }
      ]
    },
    {
      "cell_type": "markdown",
      "source": [
        "## Over / Under Translation"
      ],
      "metadata": {
        "id": "egVHyaqyUT_D"
      }
    },
    {
      "cell_type": "markdown",
      "source": [
        "- 준용하다 -> 적용하다 : 과잉번역\n",
        "- 적용하다 -> 준용하다 : 과소번역"
      ],
      "metadata": {
        "id": "MuWGEuVPUexu"
      }
    },
    {
      "cell_type": "code",
      "source": [
        "import pickle\n",
        "with open(os.path.join(gdrive_path, \"etc_files/crawl_dict.pkl\"), \"rb\") as f:\n",
        "    term_dict = pickle.load(f)\n",
        "# term_dict"
      ],
      "metadata": {
        "id": "w7e41vLxGQD0"
      },
      "execution_count": 437,
      "outputs": []
    },
    {
      "cell_type": "code",
      "source": [],
      "metadata": {
        "id": "0vGy818jZ11D"
      },
      "execution_count": null,
      "outputs": []
    },
    {
      "cell_type": "markdown",
      "metadata": {
        "id": "LyMdVgpAmt9b"
      },
      "source": [
        "## Grammer"
      ]
    },
    {
      "cell_type": "markdown",
      "source": [
        "### Grammer-Minor"
      ],
      "metadata": {
        "id": "1X9thrfj1zDu"
      }
    },
    {
      "cell_type": "code",
      "source": [
        "dindex_dict[\"grammer\"] = []"
      ],
      "metadata": {
        "id": "VLT79jjpVd82"
      },
      "execution_count": 493,
      "outputs": []
    },
    {
      "cell_type": "code",
      "source": [
        "jsg_index = random_index(df_rpnm, 0.2, 1010)\n",
        "jsg_tokens = df_rpnm.loc[jsg_index].curHyp.apply(lambda x: kiwi.tokenize(x))"
      ],
      "metadata": {
        "id": "xcTGPsPG0Xu0"
      },
      "execution_count": 494,
      "outputs": []
    },
    {
      "cell_type": "code",
      "source": [
        "jsd = {\n",
        "        \"가\":\"이\", \"을\":\"를\", \"로써\":\"으로써\", \"로서\":\"으로서\",\n",
        "        \"로\":\"으로\", \"로부터\":\"으로부터\", \"란\":\"이란\", \"나\":\"이나\",\n",
        "        \"와\":\"과\", \"랑\":\"이랑\", \"이랑\":\"랑\", \"며\":\"이며\", \"이며\":\"며\"\n",
        "        }\n",
        "keys = list(jsd.keys())\n",
        "for key in keys:\n",
        "    jsd[jsd[key]] = key\n",
        "\n",
        "need_josa = None\n",
        "for i, tag in enumerate([\"JKS\", \"JKC\", \"JKO\", \"JKB\", \"JX\", \"JC\"]):\n",
        "    if i==0:\n",
        "        need_josa = jsg_tokens.apply(lambda x: find_tokens(x, tag))\n",
        "    else:\n",
        "        need_josa += jsg_tokens.apply(lambda x: find_tokens(x, tag))\n",
        "drop_index = need_josa[need_josa.apply(len)==0].index\n",
        "jsg_index = list(set(jsg_index)-set(drop_index))"
      ],
      "metadata": {
        "id": "x37na6b10pXi"
      },
      "execution_count": 495,
      "outputs": []
    },
    {
      "cell_type": "code",
      "execution_count": 496,
      "metadata": {
        "id": "3YrAJi_AmyWO"
      },
      "outputs": [],
      "source": [
        "def josa_mistranslation(df, ratio, seed):\n",
        "    df_t = copy_df(df)\n",
        "    js_mstr_index = random_index(df_t.drop(index=dindex_dict[\"grammer\"]), ratio, seed)\n",
        "    js_tokens = df_t.loc[js_mstr_index].curHyp.apply(lambda x: kiwi.tokenize(x))\n",
        "\n",
        "    jsd = {\n",
        "        \"가\":\"이\", \"을\":\"를\", \"로써\":\"으로써\", \"로서\":\"으로서\",\n",
        "        \"로\":\"으로\", \"로부터\":\"으로부터\", \"란\":\"이란\", \"나\":\"이나\",\n",
        "        \"와\":\"과\", \"랑\":\"이랑\", \"이랑\":\"랑\", \"며\":\"이며\", \"이며\":\"며\"\n",
        "        }\n",
        "    keys = list(jsd.keys())\n",
        "    for key in keys:\n",
        "        jsd[jsd[key]] = key\n",
        "\n",
        "    tags=[\"JKS\", \"JKC\", \"JKO\", \"JKB\", \"JX\", \"JC\"]\n",
        "    need_josa = None\n",
        "    for i, tag in enumerate(tags):\n",
        "        if i==0:\n",
        "            need_josa = js_tokens.apply(lambda x: find_tokens(x, tag))\n",
        "        else:\n",
        "            need_josa += js_tokens.apply(lambda x: find_tokens(x, tag))\n",
        "\n",
        "    drop_index = need_josa[need_josa.apply(len)==0].index\n",
        "    js_mstr_index = list(set(js_mstr_index)-set(drop_index))\n",
        "    need_josa.drop(index=drop_index, axis=0, inplace=True)\n",
        "    josa_elem = need_josa.apply(lambda x: list(set([val[0] for val in x])))\n",
        "    result = df_t.loc[js_mstr_index]\n",
        "\n",
        "    for i in js_mstr_index:\n",
        "        cur_hyp = result.loc[i, \"curHyp\"]\n",
        "        target = josa_elem[i]\n",
        "        np.random.shuffle(target)\n",
        "        for word in target:\n",
        "            try:\n",
        "                conv_hyp, start, conv_word = replace_inteli(result, i, word, jsd[word])\n",
        "                result.loc[i, \"curHyp\"] = conv_hyp\n",
        "                input_errors(result, i, 'minor', start, conv_word, 'grammer')\n",
        "\n",
        "                move_index(result, i, start, conv_word)\n",
        "                result.loc[i, \"errLog\"][\"grammer\"] = {\"start_idx\": start, \"text\": conv_word}\n",
        "                dindex_dict[\"grammer\"].append(i)\n",
        "                break\n",
        "            except:\n",
        "                pass\n",
        "\n",
        "    return convert_df(df, result)\n",
        "\n",
        "df_jmt = josa_mistranslation(df_rpnm, 0.2, 1010)"
      ]
    },
    {
      "cell_type": "code",
      "execution_count": 497,
      "metadata": {
        "colab": {
          "base_uri": "https://localhost:8080/",
          "height": 53
        },
        "id": "LJVz9FNIlxR6",
        "outputId": "8ee3fdd7-141f-4de8-fc4e-4c0f099e1bd7"
      },
      "outputs": [
        {
          "output_type": "execute_result",
          "data": {
            "text/plain": [
              "Empty DataFrame\n",
              "Columns: [curHyp, errLog, validation]\n",
              "Index: []"
            ],
            "text/html": [
              "\n",
              "  <div id=\"df-ebcf5515-d6d8-4e0c-b8e5-b95292561d11\" class=\"colab-df-container\">\n",
              "    <div>\n",
              "<style scoped>\n",
              "    .dataframe tbody tr th:only-of-type {\n",
              "        vertical-align: middle;\n",
              "    }\n",
              "\n",
              "    .dataframe tbody tr th {\n",
              "        vertical-align: top;\n",
              "    }\n",
              "\n",
              "    .dataframe thead th {\n",
              "        text-align: right;\n",
              "    }\n",
              "</style>\n",
              "<table border=\"1\" class=\"dataframe\">\n",
              "  <thead>\n",
              "    <tr style=\"text-align: right;\">\n",
              "      <th></th>\n",
              "      <th>curHyp</th>\n",
              "      <th>errLog</th>\n",
              "      <th>validation</th>\n",
              "    </tr>\n",
              "  </thead>\n",
              "  <tbody>\n",
              "  </tbody>\n",
              "</table>\n",
              "</div>\n",
              "    <div class=\"colab-df-buttons\">\n",
              "\n",
              "  <div class=\"colab-df-container\">\n",
              "    <button class=\"colab-df-convert\" onclick=\"convertToInteractive('df-ebcf5515-d6d8-4e0c-b8e5-b95292561d11')\"\n",
              "            title=\"Convert this dataframe to an interactive table.\"\n",
              "            style=\"display:none;\">\n",
              "\n",
              "  <svg xmlns=\"http://www.w3.org/2000/svg\" height=\"24px\" viewBox=\"0 -960 960 960\">\n",
              "    <path d=\"M120-120v-720h720v720H120Zm60-500h600v-160H180v160Zm220 220h160v-160H400v160Zm0 220h160v-160H400v160ZM180-400h160v-160H180v160Zm440 0h160v-160H620v160ZM180-180h160v-160H180v160Zm440 0h160v-160H620v160Z\"/>\n",
              "  </svg>\n",
              "    </button>\n",
              "\n",
              "  <style>\n",
              "    .colab-df-container {\n",
              "      display:flex;\n",
              "      gap: 12px;\n",
              "    }\n",
              "\n",
              "    .colab-df-convert {\n",
              "      background-color: #E8F0FE;\n",
              "      border: none;\n",
              "      border-radius: 50%;\n",
              "      cursor: pointer;\n",
              "      display: none;\n",
              "      fill: #1967D2;\n",
              "      height: 32px;\n",
              "      padding: 0 0 0 0;\n",
              "      width: 32px;\n",
              "    }\n",
              "\n",
              "    .colab-df-convert:hover {\n",
              "      background-color: #E2EBFA;\n",
              "      box-shadow: 0px 1px 2px rgba(60, 64, 67, 0.3), 0px 1px 3px 1px rgba(60, 64, 67, 0.15);\n",
              "      fill: #174EA6;\n",
              "    }\n",
              "\n",
              "    .colab-df-buttons div {\n",
              "      margin-bottom: 4px;\n",
              "    }\n",
              "\n",
              "    [theme=dark] .colab-df-convert {\n",
              "      background-color: #3B4455;\n",
              "      fill: #D2E3FC;\n",
              "    }\n",
              "\n",
              "    [theme=dark] .colab-df-convert:hover {\n",
              "      background-color: #434B5C;\n",
              "      box-shadow: 0px 1px 3px 1px rgba(0, 0, 0, 0.15);\n",
              "      filter: drop-shadow(0px 1px 2px rgba(0, 0, 0, 0.3));\n",
              "      fill: #FFFFFF;\n",
              "    }\n",
              "  </style>\n",
              "\n",
              "    <script>\n",
              "      const buttonEl =\n",
              "        document.querySelector('#df-ebcf5515-d6d8-4e0c-b8e5-b95292561d11 button.colab-df-convert');\n",
              "      buttonEl.style.display =\n",
              "        google.colab.kernel.accessAllowed ? 'block' : 'none';\n",
              "\n",
              "      async function convertToInteractive(key) {\n",
              "        const element = document.querySelector('#df-ebcf5515-d6d8-4e0c-b8e5-b95292561d11');\n",
              "        const dataTable =\n",
              "          await google.colab.kernel.invokeFunction('convertToInteractive',\n",
              "                                                    [key], {});\n",
              "        if (!dataTable) return;\n",
              "\n",
              "        const docLinkHtml = 'Like what you see? Visit the ' +\n",
              "          '<a target=\"_blank\" href=https://colab.research.google.com/notebooks/data_table.ipynb>data table notebook</a>'\n",
              "          + ' to learn more about interactive tables.';\n",
              "        element.innerHTML = '';\n",
              "        dataTable['output_type'] = 'display_data';\n",
              "        await google.colab.output.renderOutput(dataTable, element);\n",
              "        const docLink = document.createElement('div');\n",
              "        docLink.innerHTML = docLinkHtml;\n",
              "        element.appendChild(docLink);\n",
              "      }\n",
              "    </script>\n",
              "  </div>\n",
              "\n",
              "    </div>\n",
              "  </div>\n"
            ]
          },
          "metadata": {},
          "execution_count": 497
        }
      ],
      "source": [
        "temp = check_memorize(df_jmt.loc[jsg_index])\n",
        "temp\n",
        "ttp = temp.loc[temp.errLog.apply(lambda i: \"grammer\" in i)]\n",
        "ttp.loc[ttp[\"errLog\"].apply(lambda x: x[\"grammer\"][\"text\"]) != ttp[\"validation\"].apply(lambda y: y[\"grammer\"])]"
      ]
    },
    {
      "cell_type": "code",
      "source": [
        "check_idx(df_jmt)"
      ],
      "metadata": {
        "id": "XOsjBd7rz_H8",
        "outputId": "393d8163-20af-48c8-db4c-2951c39288eb",
        "colab": {
          "base_uri": "https://localhost:8080/"
        }
      },
      "execution_count": 498,
      "outputs": [
        {
          "output_type": "stream",
          "name": "stdout",
          "text": [
            "omission: 6788\n",
            "addition: 16800\n",
            "mis-translation: 12270\n",
            "over-translation: 0\n",
            "under-translation: 0\n",
            "grammer: 8792\n",
            "############################################\n",
            "omission:  6788\n",
            "addition:  16800\n",
            "mis-translation:  12270\n",
            "over-translation:  0\n",
            "under-translation:  0\n",
            "grammer:  8792\n"
          ]
        }
      ]
    },
    {
      "cell_type": "code",
      "source": [
        "errors_report(df_jmt, True)"
      ],
      "metadata": {
        "colab": {
          "base_uri": "https://localhost:8080/",
          "height": 206
        },
        "id": "BVmvd6WXWWzA",
        "outputId": "41d53c4d-0679-459d-ccea-ffaf1812a426"
      },
      "execution_count": 499,
      "outputs": [
        {
          "output_type": "execute_result",
          "data": {
            "text/plain": [
              "          omission  addition  mis-translation  over-translation  \\\n",
              "critical      2.02      0.00             0.00               0.0   \n",
              "major        12.45     21.78            10.48               0.0   \n",
              "minor         0.00     15.84            17.00               0.0   \n",
              "neutral       0.73      0.00             0.00               0.0   \n",
              "sum          15.20     37.63            27.48               0.0   \n",
              "\n",
              "          under-translation  grammer     sum  \n",
              "critical                0.0     0.00    2.02  \n",
              "major                   0.0     0.00   44.72  \n",
              "minor                   0.0    19.69   52.53  \n",
              "neutral                 0.0     0.00    0.73  \n",
              "sum                     0.0    19.69  100.00  "
            ],
            "text/html": [
              "\n",
              "  <div id=\"df-493bcc04-ad11-4e1c-8d2d-a0d6e381fdba\" class=\"colab-df-container\">\n",
              "    <div>\n",
              "<style scoped>\n",
              "    .dataframe tbody tr th:only-of-type {\n",
              "        vertical-align: middle;\n",
              "    }\n",
              "\n",
              "    .dataframe tbody tr th {\n",
              "        vertical-align: top;\n",
              "    }\n",
              "\n",
              "    .dataframe thead th {\n",
              "        text-align: right;\n",
              "    }\n",
              "</style>\n",
              "<table border=\"1\" class=\"dataframe\">\n",
              "  <thead>\n",
              "    <tr style=\"text-align: right;\">\n",
              "      <th></th>\n",
              "      <th>omission</th>\n",
              "      <th>addition</th>\n",
              "      <th>mis-translation</th>\n",
              "      <th>over-translation</th>\n",
              "      <th>under-translation</th>\n",
              "      <th>grammer</th>\n",
              "      <th>sum</th>\n",
              "    </tr>\n",
              "  </thead>\n",
              "  <tbody>\n",
              "    <tr>\n",
              "      <th>critical</th>\n",
              "      <td>2.02</td>\n",
              "      <td>0.00</td>\n",
              "      <td>0.00</td>\n",
              "      <td>0.0</td>\n",
              "      <td>0.0</td>\n",
              "      <td>0.00</td>\n",
              "      <td>2.02</td>\n",
              "    </tr>\n",
              "    <tr>\n",
              "      <th>major</th>\n",
              "      <td>12.45</td>\n",
              "      <td>21.78</td>\n",
              "      <td>10.48</td>\n",
              "      <td>0.0</td>\n",
              "      <td>0.0</td>\n",
              "      <td>0.00</td>\n",
              "      <td>44.72</td>\n",
              "    </tr>\n",
              "    <tr>\n",
              "      <th>minor</th>\n",
              "      <td>0.00</td>\n",
              "      <td>15.84</td>\n",
              "      <td>17.00</td>\n",
              "      <td>0.0</td>\n",
              "      <td>0.0</td>\n",
              "      <td>19.69</td>\n",
              "      <td>52.53</td>\n",
              "    </tr>\n",
              "    <tr>\n",
              "      <th>neutral</th>\n",
              "      <td>0.73</td>\n",
              "      <td>0.00</td>\n",
              "      <td>0.00</td>\n",
              "      <td>0.0</td>\n",
              "      <td>0.0</td>\n",
              "      <td>0.00</td>\n",
              "      <td>0.73</td>\n",
              "    </tr>\n",
              "    <tr>\n",
              "      <th>sum</th>\n",
              "      <td>15.20</td>\n",
              "      <td>37.63</td>\n",
              "      <td>27.48</td>\n",
              "      <td>0.0</td>\n",
              "      <td>0.0</td>\n",
              "      <td>19.69</td>\n",
              "      <td>100.00</td>\n",
              "    </tr>\n",
              "  </tbody>\n",
              "</table>\n",
              "</div>\n",
              "    <div class=\"colab-df-buttons\">\n",
              "\n",
              "  <div class=\"colab-df-container\">\n",
              "    <button class=\"colab-df-convert\" onclick=\"convertToInteractive('df-493bcc04-ad11-4e1c-8d2d-a0d6e381fdba')\"\n",
              "            title=\"Convert this dataframe to an interactive table.\"\n",
              "            style=\"display:none;\">\n",
              "\n",
              "  <svg xmlns=\"http://www.w3.org/2000/svg\" height=\"24px\" viewBox=\"0 -960 960 960\">\n",
              "    <path d=\"M120-120v-720h720v720H120Zm60-500h600v-160H180v160Zm220 220h160v-160H400v160Zm0 220h160v-160H400v160ZM180-400h160v-160H180v160Zm440 0h160v-160H620v160ZM180-180h160v-160H180v160Zm440 0h160v-160H620v160Z\"/>\n",
              "  </svg>\n",
              "    </button>\n",
              "\n",
              "  <style>\n",
              "    .colab-df-container {\n",
              "      display:flex;\n",
              "      gap: 12px;\n",
              "    }\n",
              "\n",
              "    .colab-df-convert {\n",
              "      background-color: #E8F0FE;\n",
              "      border: none;\n",
              "      border-radius: 50%;\n",
              "      cursor: pointer;\n",
              "      display: none;\n",
              "      fill: #1967D2;\n",
              "      height: 32px;\n",
              "      padding: 0 0 0 0;\n",
              "      width: 32px;\n",
              "    }\n",
              "\n",
              "    .colab-df-convert:hover {\n",
              "      background-color: #E2EBFA;\n",
              "      box-shadow: 0px 1px 2px rgba(60, 64, 67, 0.3), 0px 1px 3px 1px rgba(60, 64, 67, 0.15);\n",
              "      fill: #174EA6;\n",
              "    }\n",
              "\n",
              "    .colab-df-buttons div {\n",
              "      margin-bottom: 4px;\n",
              "    }\n",
              "\n",
              "    [theme=dark] .colab-df-convert {\n",
              "      background-color: #3B4455;\n",
              "      fill: #D2E3FC;\n",
              "    }\n",
              "\n",
              "    [theme=dark] .colab-df-convert:hover {\n",
              "      background-color: #434B5C;\n",
              "      box-shadow: 0px 1px 3px 1px rgba(0, 0, 0, 0.15);\n",
              "      filter: drop-shadow(0px 1px 2px rgba(0, 0, 0, 0.3));\n",
              "      fill: #FFFFFF;\n",
              "    }\n",
              "  </style>\n",
              "\n",
              "    <script>\n",
              "      const buttonEl =\n",
              "        document.querySelector('#df-493bcc04-ad11-4e1c-8d2d-a0d6e381fdba button.colab-df-convert');\n",
              "      buttonEl.style.display =\n",
              "        google.colab.kernel.accessAllowed ? 'block' : 'none';\n",
              "\n",
              "      async function convertToInteractive(key) {\n",
              "        const element = document.querySelector('#df-493bcc04-ad11-4e1c-8d2d-a0d6e381fdba');\n",
              "        const dataTable =\n",
              "          await google.colab.kernel.invokeFunction('convertToInteractive',\n",
              "                                                    [key], {});\n",
              "        if (!dataTable) return;\n",
              "\n",
              "        const docLinkHtml = 'Like what you see? Visit the ' +\n",
              "          '<a target=\"_blank\" href=https://colab.research.google.com/notebooks/data_table.ipynb>data table notebook</a>'\n",
              "          + ' to learn more about interactive tables.';\n",
              "        element.innerHTML = '';\n",
              "        dataTable['output_type'] = 'display_data';\n",
              "        await google.colab.output.renderOutput(dataTable, element);\n",
              "        const docLink = document.createElement('div');\n",
              "        docLink.innerHTML = docLinkHtml;\n",
              "        element.appendChild(docLink);\n",
              "      }\n",
              "    </script>\n",
              "  </div>\n",
              "\n",
              "\n",
              "<div id=\"df-c38db8b3-d2a4-48f3-951f-6d9d45e19037\">\n",
              "  <button class=\"colab-df-quickchart\" onclick=\"quickchart('df-c38db8b3-d2a4-48f3-951f-6d9d45e19037')\"\n",
              "            title=\"Suggest charts.\"\n",
              "            style=\"display:none;\">\n",
              "\n",
              "<svg xmlns=\"http://www.w3.org/2000/svg\" height=\"24px\"viewBox=\"0 0 24 24\"\n",
              "     width=\"24px\">\n",
              "    <g>\n",
              "        <path d=\"M19 3H5c-1.1 0-2 .9-2 2v14c0 1.1.9 2 2 2h14c1.1 0 2-.9 2-2V5c0-1.1-.9-2-2-2zM9 17H7v-7h2v7zm4 0h-2V7h2v10zm4 0h-2v-4h2v4z\"/>\n",
              "    </g>\n",
              "</svg>\n",
              "  </button>\n",
              "\n",
              "<style>\n",
              "  .colab-df-quickchart {\n",
              "    background-color: #E8F0FE;\n",
              "    border: none;\n",
              "    border-radius: 50%;\n",
              "    cursor: pointer;\n",
              "    display: none;\n",
              "    fill: #1967D2;\n",
              "    height: 32px;\n",
              "    padding: 0 0 0 0;\n",
              "    width: 32px;\n",
              "  }\n",
              "\n",
              "  .colab-df-quickchart:hover {\n",
              "    background-color: #E2EBFA;\n",
              "    box-shadow: 0px 1px 2px rgba(60, 64, 67, 0.3), 0px 1px 3px 1px rgba(60, 64, 67, 0.15);\n",
              "    fill: #174EA6;\n",
              "  }\n",
              "\n",
              "  [theme=dark] .colab-df-quickchart {\n",
              "    background-color: #3B4455;\n",
              "    fill: #D2E3FC;\n",
              "  }\n",
              "\n",
              "  [theme=dark] .colab-df-quickchart:hover {\n",
              "    background-color: #434B5C;\n",
              "    box-shadow: 0px 1px 3px 1px rgba(0, 0, 0, 0.15);\n",
              "    filter: drop-shadow(0px 1px 2px rgba(0, 0, 0, 0.3));\n",
              "    fill: #FFFFFF;\n",
              "  }\n",
              "</style>\n",
              "\n",
              "  <script>\n",
              "    async function quickchart(key) {\n",
              "      const charts = await google.colab.kernel.invokeFunction(\n",
              "          'suggestCharts', [key], {});\n",
              "    }\n",
              "    (() => {\n",
              "      let quickchartButtonEl =\n",
              "        document.querySelector('#df-c38db8b3-d2a4-48f3-951f-6d9d45e19037 button');\n",
              "      quickchartButtonEl.style.display =\n",
              "        google.colab.kernel.accessAllowed ? 'block' : 'none';\n",
              "    })();\n",
              "  </script>\n",
              "</div>\n",
              "    </div>\n",
              "  </div>\n"
            ]
          },
          "metadata": {},
          "execution_count": 499
        }
      ]
    },
    {
      "cell_type": "code",
      "source": [
        "te_drop = df_jmt.drop(index=dindex_dict[\"grammer\"])\n",
        "transHyp = pd.Series(te_drop.index.map(lambda x: can_noise(te_drop, x)), index=te_drop.index)\n",
        "temp = te_drop.loc[transHyp.apply(lambda x: \"한다\" in x)]\n",
        "handa_index = random_index(temp, 0.4, 141)"
      ],
      "metadata": {
        "id": "RPo6jWKIVF4R"
      },
      "execution_count": 506,
      "outputs": []
    },
    {
      "cell_type": "code",
      "source": [
        "def hada_gram(df, ratio, seed):\n",
        "    df_t = copy_df(df)\n",
        "    te_drop = df_t.drop(index=dindex_dict[\"grammer\"])\n",
        "    transHyp = pd.Series(te_drop.index.map(lambda x: can_noise(te_drop, x)), index=te_drop.index)\n",
        "    temp = te_drop.loc[transHyp.apply(lambda x: \"한다\" in x)]\n",
        "    handa_index = random_index(temp, 0.4, 141)\n",
        "    result = df_t.loc[handa_index]\n",
        "    replace_list = [\"하다\", \"함\"]\n",
        "\n",
        "    for i in handa_index:\n",
        "        dindex_dict[\"grammer\"].append(i)\n",
        "        cur_hyp = result.loc[i, \"curHyp\"]\n",
        "        r_word = np.random.choice(replace_list)\n",
        "        conv_hyp, start, conv_word = replace_inteli(result, i, \"한다\", r_word)\n",
        "\n",
        "        result.loc[i, \"curHyp\"] = conv_hyp\n",
        "        input_errors(result, i, 'minor', start, conv_word, 'grammer')\n",
        "\n",
        "        move_index(result, i, start, conv_word)\n",
        "        result.loc[i, \"errLog\"][\"grammer\"] = {\"start_idx\": start, \"text\": conv_word}\n",
        "\n",
        "    return convert_df(df, result)\n",
        "\n",
        "df_hada = hada_gram(df_jmt, 0.4, 141)"
      ],
      "metadata": {
        "id": "i4_cL9dLldf-"
      },
      "execution_count": 507,
      "outputs": []
    },
    {
      "cell_type": "code",
      "source": [
        "temp = check_memorize(df_hada.loc[handa_index])\n",
        "temp\n",
        "ttp = temp.loc[temp.errLog.apply(lambda i: \"grammer\" in i)]\n",
        "ttp.loc[ttp[\"errLog\"].apply(lambda x: x[\"grammer\"][\"text\"]) != ttp[\"validation\"].apply(lambda y: y[\"grammer\"])]"
      ],
      "metadata": {
        "colab": {
          "base_uri": "https://localhost:8080/",
          "height": 53
        },
        "id": "k_HdeRc0aMZr",
        "outputId": "5a97fcd2-9c7a-47da-8dd7-f9eb88943af8"
      },
      "execution_count": 508,
      "outputs": [
        {
          "output_type": "execute_result",
          "data": {
            "text/plain": [
              "Empty DataFrame\n",
              "Columns: [curHyp, errLog, validation]\n",
              "Index: []"
            ],
            "text/html": [
              "\n",
              "  <div id=\"df-f027a736-2caf-4ab6-ad77-d27fe1a9b527\" class=\"colab-df-container\">\n",
              "    <div>\n",
              "<style scoped>\n",
              "    .dataframe tbody tr th:only-of-type {\n",
              "        vertical-align: middle;\n",
              "    }\n",
              "\n",
              "    .dataframe tbody tr th {\n",
              "        vertical-align: top;\n",
              "    }\n",
              "\n",
              "    .dataframe thead th {\n",
              "        text-align: right;\n",
              "    }\n",
              "</style>\n",
              "<table border=\"1\" class=\"dataframe\">\n",
              "  <thead>\n",
              "    <tr style=\"text-align: right;\">\n",
              "      <th></th>\n",
              "      <th>curHyp</th>\n",
              "      <th>errLog</th>\n",
              "      <th>validation</th>\n",
              "    </tr>\n",
              "  </thead>\n",
              "  <tbody>\n",
              "  </tbody>\n",
              "</table>\n",
              "</div>\n",
              "    <div class=\"colab-df-buttons\">\n",
              "\n",
              "  <div class=\"colab-df-container\">\n",
              "    <button class=\"colab-df-convert\" onclick=\"convertToInteractive('df-f027a736-2caf-4ab6-ad77-d27fe1a9b527')\"\n",
              "            title=\"Convert this dataframe to an interactive table.\"\n",
              "            style=\"display:none;\">\n",
              "\n",
              "  <svg xmlns=\"http://www.w3.org/2000/svg\" height=\"24px\" viewBox=\"0 -960 960 960\">\n",
              "    <path d=\"M120-120v-720h720v720H120Zm60-500h600v-160H180v160Zm220 220h160v-160H400v160Zm0 220h160v-160H400v160ZM180-400h160v-160H180v160Zm440 0h160v-160H620v160ZM180-180h160v-160H180v160Zm440 0h160v-160H620v160Z\"/>\n",
              "  </svg>\n",
              "    </button>\n",
              "\n",
              "  <style>\n",
              "    .colab-df-container {\n",
              "      display:flex;\n",
              "      gap: 12px;\n",
              "    }\n",
              "\n",
              "    .colab-df-convert {\n",
              "      background-color: #E8F0FE;\n",
              "      border: none;\n",
              "      border-radius: 50%;\n",
              "      cursor: pointer;\n",
              "      display: none;\n",
              "      fill: #1967D2;\n",
              "      height: 32px;\n",
              "      padding: 0 0 0 0;\n",
              "      width: 32px;\n",
              "    }\n",
              "\n",
              "    .colab-df-convert:hover {\n",
              "      background-color: #E2EBFA;\n",
              "      box-shadow: 0px 1px 2px rgba(60, 64, 67, 0.3), 0px 1px 3px 1px rgba(60, 64, 67, 0.15);\n",
              "      fill: #174EA6;\n",
              "    }\n",
              "\n",
              "    .colab-df-buttons div {\n",
              "      margin-bottom: 4px;\n",
              "    }\n",
              "\n",
              "    [theme=dark] .colab-df-convert {\n",
              "      background-color: #3B4455;\n",
              "      fill: #D2E3FC;\n",
              "    }\n",
              "\n",
              "    [theme=dark] .colab-df-convert:hover {\n",
              "      background-color: #434B5C;\n",
              "      box-shadow: 0px 1px 3px 1px rgba(0, 0, 0, 0.15);\n",
              "      filter: drop-shadow(0px 1px 2px rgba(0, 0, 0, 0.3));\n",
              "      fill: #FFFFFF;\n",
              "    }\n",
              "  </style>\n",
              "\n",
              "    <script>\n",
              "      const buttonEl =\n",
              "        document.querySelector('#df-f027a736-2caf-4ab6-ad77-d27fe1a9b527 button.colab-df-convert');\n",
              "      buttonEl.style.display =\n",
              "        google.colab.kernel.accessAllowed ? 'block' : 'none';\n",
              "\n",
              "      async function convertToInteractive(key) {\n",
              "        const element = document.querySelector('#df-f027a736-2caf-4ab6-ad77-d27fe1a9b527');\n",
              "        const dataTable =\n",
              "          await google.colab.kernel.invokeFunction('convertToInteractive',\n",
              "                                                    [key], {});\n",
              "        if (!dataTable) return;\n",
              "\n",
              "        const docLinkHtml = 'Like what you see? Visit the ' +\n",
              "          '<a target=\"_blank\" href=https://colab.research.google.com/notebooks/data_table.ipynb>data table notebook</a>'\n",
              "          + ' to learn more about interactive tables.';\n",
              "        element.innerHTML = '';\n",
              "        dataTable['output_type'] = 'display_data';\n",
              "        await google.colab.output.renderOutput(dataTable, element);\n",
              "        const docLink = document.createElement('div');\n",
              "        docLink.innerHTML = docLinkHtml;\n",
              "        element.appendChild(docLink);\n",
              "      }\n",
              "    </script>\n",
              "  </div>\n",
              "\n",
              "    </div>\n",
              "  </div>\n"
            ]
          },
          "metadata": {},
          "execution_count": 508
        }
      ]
    },
    {
      "cell_type": "code",
      "source": [
        "check_idx(df_hada)"
      ],
      "metadata": {
        "colab": {
          "base_uri": "https://localhost:8080/"
        },
        "id": "euTRKrN1X844",
        "outputId": "403445f8-97d9-4be5-d19f-a9a8a95c754a"
      },
      "execution_count": 509,
      "outputs": [
        {
          "output_type": "stream",
          "name": "stdout",
          "text": [
            "omission: 6788\n",
            "addition: 16800\n",
            "mis-translation: 12270\n",
            "over-translation: 0\n",
            "under-translation: 0\n",
            "grammer: 17308\n",
            "############################################\n",
            "omission:  6788\n",
            "addition:  16800\n",
            "mis-translation:  12270\n",
            "over-translation:  0\n",
            "under-translation:  0\n",
            "grammer:  17308\n"
          ]
        }
      ]
    },
    {
      "cell_type": "code",
      "source": [
        "errors_report(df_hada, True)"
      ],
      "metadata": {
        "colab": {
          "base_uri": "https://localhost:8080/",
          "height": 206
        },
        "id": "WR5IOiNZvUgu",
        "outputId": "ec4d3316-361f-40b0-f793-b0da73d7dc41"
      },
      "execution_count": 510,
      "outputs": [
        {
          "output_type": "execute_result",
          "data": {
            "text/plain": [
              "          omission  addition  mis-translation  over-translation  \\\n",
              "critical      1.69       0.0             0.00               0.0   \n",
              "major        10.46      18.3             8.80               0.0   \n",
              "minor         0.00      13.3            14.28               0.0   \n",
              "neutral       0.61       0.0             0.00               0.0   \n",
              "sum          12.77      31.6            23.08               0.0   \n",
              "\n",
              "          under-translation  grammer     sum  \n",
              "critical                0.0     0.00    1.69  \n",
              "major                   0.0     0.00   37.56  \n",
              "minor                   0.0    32.55   60.14  \n",
              "neutral                 0.0     0.00    0.61  \n",
              "sum                     0.0    32.55  100.00  "
            ],
            "text/html": [
              "\n",
              "  <div id=\"df-e80657c9-ed14-4db3-8e96-9043da67b589\" class=\"colab-df-container\">\n",
              "    <div>\n",
              "<style scoped>\n",
              "    .dataframe tbody tr th:only-of-type {\n",
              "        vertical-align: middle;\n",
              "    }\n",
              "\n",
              "    .dataframe tbody tr th {\n",
              "        vertical-align: top;\n",
              "    }\n",
              "\n",
              "    .dataframe thead th {\n",
              "        text-align: right;\n",
              "    }\n",
              "</style>\n",
              "<table border=\"1\" class=\"dataframe\">\n",
              "  <thead>\n",
              "    <tr style=\"text-align: right;\">\n",
              "      <th></th>\n",
              "      <th>omission</th>\n",
              "      <th>addition</th>\n",
              "      <th>mis-translation</th>\n",
              "      <th>over-translation</th>\n",
              "      <th>under-translation</th>\n",
              "      <th>grammer</th>\n",
              "      <th>sum</th>\n",
              "    </tr>\n",
              "  </thead>\n",
              "  <tbody>\n",
              "    <tr>\n",
              "      <th>critical</th>\n",
              "      <td>1.69</td>\n",
              "      <td>0.0</td>\n",
              "      <td>0.00</td>\n",
              "      <td>0.0</td>\n",
              "      <td>0.0</td>\n",
              "      <td>0.00</td>\n",
              "      <td>1.69</td>\n",
              "    </tr>\n",
              "    <tr>\n",
              "      <th>major</th>\n",
              "      <td>10.46</td>\n",
              "      <td>18.3</td>\n",
              "      <td>8.80</td>\n",
              "      <td>0.0</td>\n",
              "      <td>0.0</td>\n",
              "      <td>0.00</td>\n",
              "      <td>37.56</td>\n",
              "    </tr>\n",
              "    <tr>\n",
              "      <th>minor</th>\n",
              "      <td>0.00</td>\n",
              "      <td>13.3</td>\n",
              "      <td>14.28</td>\n",
              "      <td>0.0</td>\n",
              "      <td>0.0</td>\n",
              "      <td>32.55</td>\n",
              "      <td>60.14</td>\n",
              "    </tr>\n",
              "    <tr>\n",
              "      <th>neutral</th>\n",
              "      <td>0.61</td>\n",
              "      <td>0.0</td>\n",
              "      <td>0.00</td>\n",
              "      <td>0.0</td>\n",
              "      <td>0.0</td>\n",
              "      <td>0.00</td>\n",
              "      <td>0.61</td>\n",
              "    </tr>\n",
              "    <tr>\n",
              "      <th>sum</th>\n",
              "      <td>12.77</td>\n",
              "      <td>31.6</td>\n",
              "      <td>23.08</td>\n",
              "      <td>0.0</td>\n",
              "      <td>0.0</td>\n",
              "      <td>32.55</td>\n",
              "      <td>100.00</td>\n",
              "    </tr>\n",
              "  </tbody>\n",
              "</table>\n",
              "</div>\n",
              "    <div class=\"colab-df-buttons\">\n",
              "\n",
              "  <div class=\"colab-df-container\">\n",
              "    <button class=\"colab-df-convert\" onclick=\"convertToInteractive('df-e80657c9-ed14-4db3-8e96-9043da67b589')\"\n",
              "            title=\"Convert this dataframe to an interactive table.\"\n",
              "            style=\"display:none;\">\n",
              "\n",
              "  <svg xmlns=\"http://www.w3.org/2000/svg\" height=\"24px\" viewBox=\"0 -960 960 960\">\n",
              "    <path d=\"M120-120v-720h720v720H120Zm60-500h600v-160H180v160Zm220 220h160v-160H400v160Zm0 220h160v-160H400v160ZM180-400h160v-160H180v160Zm440 0h160v-160H620v160ZM180-180h160v-160H180v160Zm440 0h160v-160H620v160Z\"/>\n",
              "  </svg>\n",
              "    </button>\n",
              "\n",
              "  <style>\n",
              "    .colab-df-container {\n",
              "      display:flex;\n",
              "      gap: 12px;\n",
              "    }\n",
              "\n",
              "    .colab-df-convert {\n",
              "      background-color: #E8F0FE;\n",
              "      border: none;\n",
              "      border-radius: 50%;\n",
              "      cursor: pointer;\n",
              "      display: none;\n",
              "      fill: #1967D2;\n",
              "      height: 32px;\n",
              "      padding: 0 0 0 0;\n",
              "      width: 32px;\n",
              "    }\n",
              "\n",
              "    .colab-df-convert:hover {\n",
              "      background-color: #E2EBFA;\n",
              "      box-shadow: 0px 1px 2px rgba(60, 64, 67, 0.3), 0px 1px 3px 1px rgba(60, 64, 67, 0.15);\n",
              "      fill: #174EA6;\n",
              "    }\n",
              "\n",
              "    .colab-df-buttons div {\n",
              "      margin-bottom: 4px;\n",
              "    }\n",
              "\n",
              "    [theme=dark] .colab-df-convert {\n",
              "      background-color: #3B4455;\n",
              "      fill: #D2E3FC;\n",
              "    }\n",
              "\n",
              "    [theme=dark] .colab-df-convert:hover {\n",
              "      background-color: #434B5C;\n",
              "      box-shadow: 0px 1px 3px 1px rgba(0, 0, 0, 0.15);\n",
              "      filter: drop-shadow(0px 1px 2px rgba(0, 0, 0, 0.3));\n",
              "      fill: #FFFFFF;\n",
              "    }\n",
              "  </style>\n",
              "\n",
              "    <script>\n",
              "      const buttonEl =\n",
              "        document.querySelector('#df-e80657c9-ed14-4db3-8e96-9043da67b589 button.colab-df-convert');\n",
              "      buttonEl.style.display =\n",
              "        google.colab.kernel.accessAllowed ? 'block' : 'none';\n",
              "\n",
              "      async function convertToInteractive(key) {\n",
              "        const element = document.querySelector('#df-e80657c9-ed14-4db3-8e96-9043da67b589');\n",
              "        const dataTable =\n",
              "          await google.colab.kernel.invokeFunction('convertToInteractive',\n",
              "                                                    [key], {});\n",
              "        if (!dataTable) return;\n",
              "\n",
              "        const docLinkHtml = 'Like what you see? Visit the ' +\n",
              "          '<a target=\"_blank\" href=https://colab.research.google.com/notebooks/data_table.ipynb>data table notebook</a>'\n",
              "          + ' to learn more about interactive tables.';\n",
              "        element.innerHTML = '';\n",
              "        dataTable['output_type'] = 'display_data';\n",
              "        await google.colab.output.renderOutput(dataTable, element);\n",
              "        const docLink = document.createElement('div');\n",
              "        docLink.innerHTML = docLinkHtml;\n",
              "        element.appendChild(docLink);\n",
              "      }\n",
              "    </script>\n",
              "  </div>\n",
              "\n",
              "\n",
              "<div id=\"df-fd35c9c3-75c5-4120-ac11-f1ce9f1a5936\">\n",
              "  <button class=\"colab-df-quickchart\" onclick=\"quickchart('df-fd35c9c3-75c5-4120-ac11-f1ce9f1a5936')\"\n",
              "            title=\"Suggest charts.\"\n",
              "            style=\"display:none;\">\n",
              "\n",
              "<svg xmlns=\"http://www.w3.org/2000/svg\" height=\"24px\"viewBox=\"0 0 24 24\"\n",
              "     width=\"24px\">\n",
              "    <g>\n",
              "        <path d=\"M19 3H5c-1.1 0-2 .9-2 2v14c0 1.1.9 2 2 2h14c1.1 0 2-.9 2-2V5c0-1.1-.9-2-2-2zM9 17H7v-7h2v7zm4 0h-2V7h2v10zm4 0h-2v-4h2v4z\"/>\n",
              "    </g>\n",
              "</svg>\n",
              "  </button>\n",
              "\n",
              "<style>\n",
              "  .colab-df-quickchart {\n",
              "    background-color: #E8F0FE;\n",
              "    border: none;\n",
              "    border-radius: 50%;\n",
              "    cursor: pointer;\n",
              "    display: none;\n",
              "    fill: #1967D2;\n",
              "    height: 32px;\n",
              "    padding: 0 0 0 0;\n",
              "    width: 32px;\n",
              "  }\n",
              "\n",
              "  .colab-df-quickchart:hover {\n",
              "    background-color: #E2EBFA;\n",
              "    box-shadow: 0px 1px 2px rgba(60, 64, 67, 0.3), 0px 1px 3px 1px rgba(60, 64, 67, 0.15);\n",
              "    fill: #174EA6;\n",
              "  }\n",
              "\n",
              "  [theme=dark] .colab-df-quickchart {\n",
              "    background-color: #3B4455;\n",
              "    fill: #D2E3FC;\n",
              "  }\n",
              "\n",
              "  [theme=dark] .colab-df-quickchart:hover {\n",
              "    background-color: #434B5C;\n",
              "    box-shadow: 0px 1px 3px 1px rgba(0, 0, 0, 0.15);\n",
              "    filter: drop-shadow(0px 1px 2px rgba(0, 0, 0, 0.3));\n",
              "    fill: #FFFFFF;\n",
              "  }\n",
              "</style>\n",
              "\n",
              "  <script>\n",
              "    async function quickchart(key) {\n",
              "      const charts = await google.colab.kernel.invokeFunction(\n",
              "          'suggestCharts', [key], {});\n",
              "    }\n",
              "    (() => {\n",
              "      let quickchartButtonEl =\n",
              "        document.querySelector('#df-fd35c9c3-75c5-4120-ac11-f1ce9f1a5936 button');\n",
              "      quickchartButtonEl.style.display =\n",
              "        google.colab.kernel.accessAllowed ? 'block' : 'none';\n",
              "    })();\n",
              "  </script>\n",
              "</div>\n",
              "    </div>\n",
              "  </div>\n"
            ]
          },
          "metadata": {},
          "execution_count": 510
        }
      ]
    },
    {
      "cell_type": "code",
      "source": [
        "# df_hada.loc[df_hada.curHyp.apply(lambda x: len(x.split(\".\"))) > 2]"
      ],
      "metadata": {
        "id": "xd5uqeIPvieP"
      },
      "execution_count": 435,
      "outputs": []
    },
    {
      "cell_type": "markdown",
      "source": [
        "# 후처리"
      ],
      "metadata": {
        "id": "E2wwJy45UIQX"
      }
    },
    {
      "cell_type": "code",
      "execution_count": null,
      "metadata": {
        "id": "AeG1S6cbbfdA"
      },
      "outputs": [],
      "source": [
        "def convert_index(df_new):\n",
        "    df = copy_df(df_new)\n",
        "    new_errs = []\n",
        "    for i in df.index:\n",
        "        errors, errLog = df.loc[i, \"errors\"], df.loc[i, \"errLog\"]\n",
        "\n",
        "        for i, err in enumerate(df.loc[i, \"errors\"]):\n",
        "            errors[i]['start_idx'] = errLog[err[\"type\"]][\"start_idx\"]\n",
        "\n",
        "        new_errs.append(errors)\n",
        "    df[\"errors\"] = new_errs\n",
        "    return df\n",
        "temp = convert_index(df_mit)"
      ]
    },
    {
      "cell_type": "code",
      "source": [
        "# df_mit.loc[df_jmt.errLog.apply(lambda x: len(x)>2)].iloc[:10]"
      ],
      "metadata": {
        "id": "BJv-Y8UfUpks"
      },
      "execution_count": 87,
      "outputs": []
    },
    {
      "cell_type": "code",
      "source": [
        "# temp.loc[df_jmt.errLog.apply(lambda x: len(x)>2)].iloc[:10]"
      ],
      "metadata": {
        "id": "RYMSsJCwUp0u"
      },
      "execution_count": 86,
      "outputs": []
    },
    {
      "cell_type": "code",
      "execution_count": null,
      "metadata": {
        "id": "5nu6OaweY7h_"
      },
      "outputs": [],
      "source": [
        "def make_dict(df):\n",
        "    output_json = dict()\n",
        "    output_json[\"data\"] = []\n",
        "    for i in df.index:\n",
        "        base_form = {\"category\": None, \"en\": None, \"errs\": None, \"hyp\": None, \"ko\": None, \"law_name\": None}\n",
        "        if len(df.loc[i, \"errors\"])==0:\n",
        "            continue\n",
        "        base_form[\"category\"] = df.loc[i, \"category\"]\n",
        "        base_form[\"en\"] = df.loc[i, \"ENG\"]\n",
        "        base_form[\"errs\"] = df.loc[i, \"errors\"]\n",
        "        base_form[\"hyp\"] = df.loc[i, \"curHyp\"]\n",
        "        base_form[\"ko\"] = df.loc[i, \"KOR\"]\n",
        "        base_form[\"law_name\"] = df.loc[i, \"lawName\"]\n",
        "        output_json[\"data\"].append(base_form)\n",
        "    return output_json\n",
        "\n",
        "rrrr = make_dict(df_can)"
      ]
    },
    {
      "cell_type": "code",
      "execution_count": null,
      "metadata": {
        "id": "UTAVRr1GaWEE"
      },
      "outputs": [],
      "source": [
        "with open(os.path.join(gdrive_path, \"data_0825.json\"), \"w\") as f:\n",
        "  json.dump(rrrr, f, ensure_ascii=False, indent=4)"
      ]
    }
  ],
  "metadata": {
    "colab": {
      "provenance": [],
      "toc_visible": true
    },
    "kernelspec": {
      "display_name": "main",
      "language": "python",
      "name": "python3"
    },
    "language_info": {
      "codemirror_mode": {
        "name": "ipython",
        "version": 3
      },
      "file_extension": ".py",
      "mimetype": "text/x-python",
      "name": "python",
      "nbconvert_exporter": "python",
      "pygments_lexer": "ipython3",
      "version": "3.8.8"
    },
    "orig_nbformat": 4
  },
  "nbformat": 4,
  "nbformat_minor": 0
}
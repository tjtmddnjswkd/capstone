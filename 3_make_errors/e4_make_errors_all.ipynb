{
  "cells": [
    {
      "cell_type": "markdown",
      "metadata": {
        "id": "1yOqYTZXG5q6"
      },
      "source": [
        "<a href=\"https://colab.research.google.com/github/tjtmddnjswkd/capstone/blob/jc/3_make_errors/e4_make_errors_all.ipynb\" target=\"_parent\"><img src=\"https://colab.research.google.com/assets/colab-badge.svg\" alt=\"Open In Colab\"/></a>"
      ]
    },
    {
      "cell_type": "code",
      "execution_count": 3,
      "metadata": {
        "id": "Poy4ylDO2yJ6"
      },
      "outputs": [],
      "source": [
        "# !pip install kiwipiepy\n",
        "# !pip install nltk\n",
        "# !pip install\n",
        "# !pip install selenium\n",
        "\n",
        "#코랩에서 구글드라이버 연동\n",
        "# !apt-get update\n",
        "# !apt install chromium-chromedriver"
      ]
    },
    {
      "cell_type": "code",
      "execution_count": 2,
      "metadata": {
        "colab": {
          "base_uri": "https://localhost:8080/"
        },
        "id": "QAOpFDsxG5q_",
        "outputId": "4ab5fc88-e9d1-446a-9485-86c03ed018cf"
      },
      "outputs": [
        {
          "output_type": "stream",
          "name": "stdout",
          "text": [
            "Mounted at /content/drive\n"
          ]
        }
      ],
      "source": [
        "try:\n",
        "    from google.colab import drive\n",
        "    drive.mount('/content/drive')\n",
        "except:\n",
        "    pass"
      ]
    },
    {
      "cell_type": "markdown",
      "metadata": {
        "id": "DrolchR0CEqz"
      },
      "source": [
        "**아이디어 기록**\n",
        "\n",
        "1. Critical\n",
        "\n",
        "2. Major\n",
        "    - Mis-Translation\n",
        "        - \"ailen\" -> 외계인으로 처리"
      ]
    },
    {
      "cell_type": "markdown",
      "metadata": {
        "id": "ozBK-UplHXCn"
      },
      "source": [
        "# 0.Data Load"
      ]
    },
    {
      "cell_type": "code",
      "execution_count": 4,
      "metadata": {
        "id": "wnd-0dXQG5rB"
      },
      "outputs": [],
      "source": [
        "import pandas as pd\n",
        "import numpy as np\n",
        "import json\n",
        "import os\n",
        "import re\n",
        "import copy\n",
        "from tqdm.notebook import tqdm\n",
        "\n",
        "if os.path.exists(r\"G:\\내 드라이브\\KB인턴관련\"):\n",
        "    gdrive_path = r\"G:\\내 드라이브\\KB인턴관련\"\n",
        "else:\n",
        "    gdrive_path = \"/content/drive/MyDrive/KB인턴관련\""
      ]
    },
    {
      "cell_type": "code",
      "execution_count": 5,
      "metadata": {
        "colab": {
          "base_uri": "https://localhost:8080/",
          "height": 293
        },
        "id": "LQO-CfvlG5rC",
        "outputId": "f065afdd-47e3-4390-f2f8-e4d6c38aeac4"
      },
      "outputs": [
        {
          "output_type": "execute_result",
          "data": {
            "text/plain": [
              "  category           lawName  \\\n",
              "0       헌법  개성공업지구 지원에 관한 법률   \n",
              "2       헌법  개성공업지구 지원에 관한 법률   \n",
              "3       헌법  개성공업지구 지원에 관한 법률   \n",
              "4       헌법  개성공업지구 지원에 관한 법률   \n",
              "5       헌법  개성공업지구 지원에 관한 법률   \n",
              "\n",
              "                                                 ENG  \\\n",
              "0  The purpose of this Act is to enhance inter-Ko...   \n",
              "2  The term \"Gaeseong Industrial Complex\" or \"GIC...   \n",
              "3  The term \"GIC developer\" means a South Korean ...   \n",
              "4  The term \"GIC management organ\" means a corpor...   \n",
              "5  The term \"local enterprise of the GIC\" means a...   \n",
              "\n",
              "                                                 KOR  \n",
              "0  이 법은 개성공업지구의 개발·운영의 지원 및 개성공업지구에 투자하거나 출입·체류하는...  \n",
              "2  \"개성공업지구\"란 남한과 북한 사이의 합의에 따라서 북한의 개성지역 일대에서 개발·...  \n",
              "3  \"개성공업지구 개발업자\"란 「남북교류협력에 관한 법률」에 따른 협력사업의 승인을 받...  \n",
              "4  \"개성공업지구 관리기관\"이란 개성공업지구의 관리·운영을 위하여 북한의 「개성공업지구...  \n",
              "5  \"개성공업지구 현지기업\"이란 남한주민이 「남북교류협력에 관한 법률」에 따른 협력사업...  "
            ],
            "text/html": [
              "\n",
              "  <div id=\"df-c2a8a545-eebd-47fe-9455-a4e97277c9df\" class=\"colab-df-container\">\n",
              "    <div>\n",
              "<style scoped>\n",
              "    .dataframe tbody tr th:only-of-type {\n",
              "        vertical-align: middle;\n",
              "    }\n",
              "\n",
              "    .dataframe tbody tr th {\n",
              "        vertical-align: top;\n",
              "    }\n",
              "\n",
              "    .dataframe thead th {\n",
              "        text-align: right;\n",
              "    }\n",
              "</style>\n",
              "<table border=\"1\" class=\"dataframe\">\n",
              "  <thead>\n",
              "    <tr style=\"text-align: right;\">\n",
              "      <th></th>\n",
              "      <th>category</th>\n",
              "      <th>lawName</th>\n",
              "      <th>ENG</th>\n",
              "      <th>KOR</th>\n",
              "    </tr>\n",
              "  </thead>\n",
              "  <tbody>\n",
              "    <tr>\n",
              "      <th>0</th>\n",
              "      <td>헌법</td>\n",
              "      <td>개성공업지구 지원에 관한 법률</td>\n",
              "      <td>The purpose of this Act is to enhance inter-Ko...</td>\n",
              "      <td>이 법은 개성공업지구의 개발·운영의 지원 및 개성공업지구에 투자하거나 출입·체류하는...</td>\n",
              "    </tr>\n",
              "    <tr>\n",
              "      <th>2</th>\n",
              "      <td>헌법</td>\n",
              "      <td>개성공업지구 지원에 관한 법률</td>\n",
              "      <td>The term \"Gaeseong Industrial Complex\" or \"GIC...</td>\n",
              "      <td>\"개성공업지구\"란 남한과 북한 사이의 합의에 따라서 북한의 개성지역 일대에서 개발·...</td>\n",
              "    </tr>\n",
              "    <tr>\n",
              "      <th>3</th>\n",
              "      <td>헌법</td>\n",
              "      <td>개성공업지구 지원에 관한 법률</td>\n",
              "      <td>The term \"GIC developer\" means a South Korean ...</td>\n",
              "      <td>\"개성공업지구 개발업자\"란 「남북교류협력에 관한 법률」에 따른 협력사업의 승인을 받...</td>\n",
              "    </tr>\n",
              "    <tr>\n",
              "      <th>4</th>\n",
              "      <td>헌법</td>\n",
              "      <td>개성공업지구 지원에 관한 법률</td>\n",
              "      <td>The term \"GIC management organ\" means a corpor...</td>\n",
              "      <td>\"개성공업지구 관리기관\"이란 개성공업지구의 관리·운영을 위하여 북한의 「개성공업지구...</td>\n",
              "    </tr>\n",
              "    <tr>\n",
              "      <th>5</th>\n",
              "      <td>헌법</td>\n",
              "      <td>개성공업지구 지원에 관한 법률</td>\n",
              "      <td>The term \"local enterprise of the GIC\" means a...</td>\n",
              "      <td>\"개성공업지구 현지기업\"이란 남한주민이 「남북교류협력에 관한 법률」에 따른 협력사업...</td>\n",
              "    </tr>\n",
              "  </tbody>\n",
              "</table>\n",
              "</div>\n",
              "    <div class=\"colab-df-buttons\">\n",
              "\n",
              "  <div class=\"colab-df-container\">\n",
              "    <button class=\"colab-df-convert\" onclick=\"convertToInteractive('df-c2a8a545-eebd-47fe-9455-a4e97277c9df')\"\n",
              "            title=\"Convert this dataframe to an interactive table.\"\n",
              "            style=\"display:none;\">\n",
              "\n",
              "  <svg xmlns=\"http://www.w3.org/2000/svg\" height=\"24px\" viewBox=\"0 -960 960 960\">\n",
              "    <path d=\"M120-120v-720h720v720H120Zm60-500h600v-160H180v160Zm220 220h160v-160H400v160Zm0 220h160v-160H400v160ZM180-400h160v-160H180v160Zm440 0h160v-160H620v160ZM180-180h160v-160H180v160Zm440 0h160v-160H620v160Z\"/>\n",
              "  </svg>\n",
              "    </button>\n",
              "\n",
              "  <style>\n",
              "    .colab-df-container {\n",
              "      display:flex;\n",
              "      gap: 12px;\n",
              "    }\n",
              "\n",
              "    .colab-df-convert {\n",
              "      background-color: #E8F0FE;\n",
              "      border: none;\n",
              "      border-radius: 50%;\n",
              "      cursor: pointer;\n",
              "      display: none;\n",
              "      fill: #1967D2;\n",
              "      height: 32px;\n",
              "      padding: 0 0 0 0;\n",
              "      width: 32px;\n",
              "    }\n",
              "\n",
              "    .colab-df-convert:hover {\n",
              "      background-color: #E2EBFA;\n",
              "      box-shadow: 0px 1px 2px rgba(60, 64, 67, 0.3), 0px 1px 3px 1px rgba(60, 64, 67, 0.15);\n",
              "      fill: #174EA6;\n",
              "    }\n",
              "\n",
              "    .colab-df-buttons div {\n",
              "      margin-bottom: 4px;\n",
              "    }\n",
              "\n",
              "    [theme=dark] .colab-df-convert {\n",
              "      background-color: #3B4455;\n",
              "      fill: #D2E3FC;\n",
              "    }\n",
              "\n",
              "    [theme=dark] .colab-df-convert:hover {\n",
              "      background-color: #434B5C;\n",
              "      box-shadow: 0px 1px 3px 1px rgba(0, 0, 0, 0.15);\n",
              "      filter: drop-shadow(0px 1px 2px rgba(0, 0, 0, 0.3));\n",
              "      fill: #FFFFFF;\n",
              "    }\n",
              "  </style>\n",
              "\n",
              "    <script>\n",
              "      const buttonEl =\n",
              "        document.querySelector('#df-c2a8a545-eebd-47fe-9455-a4e97277c9df button.colab-df-convert');\n",
              "      buttonEl.style.display =\n",
              "        google.colab.kernel.accessAllowed ? 'block' : 'none';\n",
              "\n",
              "      async function convertToInteractive(key) {\n",
              "        const element = document.querySelector('#df-c2a8a545-eebd-47fe-9455-a4e97277c9df');\n",
              "        const dataTable =\n",
              "          await google.colab.kernel.invokeFunction('convertToInteractive',\n",
              "                                                    [key], {});\n",
              "        if (!dataTable) return;\n",
              "\n",
              "        const docLinkHtml = 'Like what you see? Visit the ' +\n",
              "          '<a target=\"_blank\" href=https://colab.research.google.com/notebooks/data_table.ipynb>data table notebook</a>'\n",
              "          + ' to learn more about interactive tables.';\n",
              "        element.innerHTML = '';\n",
              "        dataTable['output_type'] = 'display_data';\n",
              "        await google.colab.output.renderOutput(dataTable, element);\n",
              "        const docLink = document.createElement('div');\n",
              "        docLink.innerHTML = docLinkHtml;\n",
              "        element.appendChild(docLink);\n",
              "      }\n",
              "    </script>\n",
              "  </div>\n",
              "\n",
              "\n",
              "<div id=\"df-5a392eb8-4f34-46b0-921b-4d29cc95b3ce\">\n",
              "  <button class=\"colab-df-quickchart\" onclick=\"quickchart('df-5a392eb8-4f34-46b0-921b-4d29cc95b3ce')\"\n",
              "            title=\"Suggest charts.\"\n",
              "            style=\"display:none;\">\n",
              "\n",
              "<svg xmlns=\"http://www.w3.org/2000/svg\" height=\"24px\"viewBox=\"0 0 24 24\"\n",
              "     width=\"24px\">\n",
              "    <g>\n",
              "        <path d=\"M19 3H5c-1.1 0-2 .9-2 2v14c0 1.1.9 2 2 2h14c1.1 0 2-.9 2-2V5c0-1.1-.9-2-2-2zM9 17H7v-7h2v7zm4 0h-2V7h2v10zm4 0h-2v-4h2v4z\"/>\n",
              "    </g>\n",
              "</svg>\n",
              "  </button>\n",
              "\n",
              "<style>\n",
              "  .colab-df-quickchart {\n",
              "    background-color: #E8F0FE;\n",
              "    border: none;\n",
              "    border-radius: 50%;\n",
              "    cursor: pointer;\n",
              "    display: none;\n",
              "    fill: #1967D2;\n",
              "    height: 32px;\n",
              "    padding: 0 0 0 0;\n",
              "    width: 32px;\n",
              "  }\n",
              "\n",
              "  .colab-df-quickchart:hover {\n",
              "    background-color: #E2EBFA;\n",
              "    box-shadow: 0px 1px 2px rgba(60, 64, 67, 0.3), 0px 1px 3px 1px rgba(60, 64, 67, 0.15);\n",
              "    fill: #174EA6;\n",
              "  }\n",
              "\n",
              "  [theme=dark] .colab-df-quickchart {\n",
              "    background-color: #3B4455;\n",
              "    fill: #D2E3FC;\n",
              "  }\n",
              "\n",
              "  [theme=dark] .colab-df-quickchart:hover {\n",
              "    background-color: #434B5C;\n",
              "    box-shadow: 0px 1px 3px 1px rgba(0, 0, 0, 0.15);\n",
              "    filter: drop-shadow(0px 1px 2px rgba(0, 0, 0, 0.3));\n",
              "    fill: #FFFFFF;\n",
              "  }\n",
              "</style>\n",
              "\n",
              "  <script>\n",
              "    async function quickchart(key) {\n",
              "      const charts = await google.colab.kernel.invokeFunction(\n",
              "          'suggestCharts', [key], {});\n",
              "    }\n",
              "    (() => {\n",
              "      let quickchartButtonEl =\n",
              "        document.querySelector('#df-5a392eb8-4f34-46b0-921b-4d29cc95b3ce button');\n",
              "      quickchartButtonEl.style.display =\n",
              "        google.colab.kernel.accessAllowed ? 'block' : 'none';\n",
              "    })();\n",
              "  </script>\n",
              "</div>\n",
              "    </div>\n",
              "  </div>\n"
            ]
          },
          "metadata": {},
          "execution_count": 5
        }
      ],
      "source": [
        "df = pd.read_csv(os.path.join(gdrive_path, \"preprocessing/fin.csv\"), encoding=\"euc-kr\", index_col=0)\n",
        "df.head()"
      ]
    },
    {
      "cell_type": "code",
      "source": [
        "df.info(      )"
      ],
      "metadata": {
        "id": "XhPQYnm8LS6o",
        "outputId": "f7552709-5b18-452a-ca7a-af552032a539",
        "colab": {
          "base_uri": "https://localhost:8080/"
        }
      },
      "execution_count": 324,
      "outputs": [
        {
          "output_type": "stream",
          "name": "stdout",
          "text": [
            "<class 'pandas.core.frame.DataFrame'>\n",
            "Int64Index: 280765 entries, 0 to 585940\n",
            "Data columns (total 4 columns):\n",
            " #   Column    Non-Null Count   Dtype \n",
            "---  ------    --------------   ----- \n",
            " 0   category  280765 non-null  object\n",
            " 1   lawName   280765 non-null  object\n",
            " 2   ENG       280765 non-null  object\n",
            " 3   KOR       280765 non-null  object\n",
            "dtypes: object(4)\n",
            "memory usage: 18.8+ MB\n"
          ]
        }
      ]
    },
    {
      "cell_type": "markdown",
      "metadata": {
        "id": "Wa8WyRO-HbDB"
      },
      "source": [
        "# 1.Data Fiiltering"
      ]
    },
    {
      "cell_type": "code",
      "execution_count": 6,
      "metadata": {
        "id": "S1Q9BggtIv6n"
      },
      "outputs": [],
      "source": [
        "keyword_idx = df.loc[df.lawName.str.contains(r\"은행|금융|보험|예금|적금|대출|외환|통화|화폐|환율|예대\")].index"
      ]
    },
    {
      "cell_type": "code",
      "execution_count": 7,
      "metadata": {
        "id": "rhGtK13KJrdk"
      },
      "outputs": [],
      "source": [
        "tgk_idx = df.loc[df.category==\"통화ㆍ국채ㆍ금융\"].index"
      ]
    },
    {
      "cell_type": "code",
      "execution_count": 8,
      "metadata": {
        "colab": {
          "base_uri": "https://localhost:8080/"
        },
        "id": "YuEzG0xAKzRs",
        "outputId": "7c1479d6-dac0-4c66-cf94-1cc6fab2efe7"
      },
      "outputs": [
        {
          "output_type": "stream",
          "name": "stdout",
          "text": [
            "키워드: 16712\t통화/국채/금융: 16004\n",
            "키워드-통국금: 4681\n",
            "통국금-키워드: 3973\n",
            "전체:  20685\n"
          ]
        }
      ],
      "source": [
        "print(f\"키워드: {len(keyword_idx)}\\t통화/국채/금융: {len(tgk_idx)}\")\n",
        "print(f\"키워드-통국금: {len(list(set(keyword_idx)-set(tgk_idx)))}\")\n",
        "print(f\"통국금-키워드: {len(list(set(tgk_idx)-set(keyword_idx)))}\")\n",
        "print(f\"전체:  {len(list(set(keyword_idx).union(set(tgk_idx))))}\")"
      ]
    },
    {
      "cell_type": "code",
      "execution_count": 430,
      "metadata": {
        "id": "-eet0uBuLhDt"
      },
      "outputs": [],
      "source": [
        "df_samp = df.loc[list(set(keyword_idx).union(set(tgk_idx)))].drop(index=[403163], axis=0)\n",
        "# df_samp = df.copy(deep=True)"
      ]
    },
    {
      "cell_type": "code",
      "execution_count": 431,
      "metadata": {
        "id": "F-Wq1Cl7MXf8"
      },
      "outputs": [],
      "source": [
        "df_samp[\"curHyp\"] = df_samp.KOR.values\n",
        "df_samp[\"errors\"] = [[] for _ in range(df_samp.shape[0])]\n",
        "df_samp[\"tagLog\"] = [dict() for _ in range(df_samp.shape[0])]\n",
        "df_samp[\"errorLog\"] = [dict() for _ in range(df_samp.shape[0])]\n",
        "# df_samp.iloc[:, 2:4]"
      ]
    },
    {
      "cell_type": "markdown",
      "metadata": {
        "id": "lGIRhAJYCEq2"
      },
      "source": [
        "**주요 함수**"
      ]
    },
    {
      "cell_type": "code",
      "execution_count": 548,
      "metadata": {
        "id": "qtiBdvrdjMGN"
      },
      "outputs": [],
      "source": [
        "## 주요한 함수\n",
        "def remake_df():\n",
        "    result = df.loc[list(set(keyword_idx).union(set(tgk_idx)))]\n",
        "    result[\"curHyp\"] = result.KOR.values\n",
        "    result[\"errors\"] = [[] for _ in range(result.shape[0])]\n",
        "    result[\"tag_log\"] = [dict() for _ in range(result.shape[0])]\n",
        "    return result.drop(index=[403163], axis=0)\n",
        "\n",
        "def random_df(dfs, ratio, seed):\n",
        "    np.random.seed(seed)\n",
        "    return dfs.loc[np.random.choice(dfs.index.to_list(), int(dfs.shape[0]*ratio), False), :]\n",
        "\n",
        "def random_index(srs, ratio, seed):\n",
        "    np.random.seed(seed)\n",
        "    return np.random.choice(srs.index, int(srs.shape[0]*ratio), False)\n",
        "\n",
        "def copy_df(data, col=[\"errors\", \"errorLog\", \"errorLog\"]):\n",
        "    result = data.drop(columns=col, axis=1).copy(deep=True)\n",
        "    # print(id(result), id(data))\n",
        "    for c in col:\n",
        "        result[c] = data[c].apply(lambda x: copy.deepcopy(x)).copy(deep=True)\n",
        "    return result\n",
        "\n",
        "def count_tag(tokens, tags=None):\n",
        "    token_dict = dict()\n",
        "    for token in tokens:\n",
        "        if tags!=None and token.tag not in tags: continue\n",
        "        try:\n",
        "            token_dict[token.tag].append(token.form)\n",
        "        except:\n",
        "            token_dict[token.tag] = [token.form]\n",
        "\n",
        "    return token_dict\n",
        "\n",
        "def find_tokens(tokens, tag):\n",
        "    result_tokens = []\n",
        "    for token in tokens:\n",
        "        if token.tag == tag:\n",
        "            result_tokens.append((token.form, token.start, token.end))\n",
        "    return result_tokens\n",
        "\n",
        "def print_df(df, cols, idx=0, end=0):\n",
        "    print(df.shape[0])\n",
        "    if end==0:\n",
        "        values = df.index[idx:]\n",
        "    else:\n",
        "        values = df.index[idx:end]\n",
        "    for i in values:\n",
        "        print(f\"_________________ {i} _________________\")\n",
        "        for col in cols:\n",
        "            print(df.loc[i, col])\n",
        "\n",
        "# result.loc[i, \"errors\"].append({\"severity\":\"major\", \"start_idx\":start, \"text\":del_unit, \"type\":\"omission\"})\n",
        "def input_errors(df, index, severity, start_idx, text, type):\n",
        "    df.loc[index, \"errors\"].append({\"severity\":severity, \"start_idx\":start_idx, \"text\":text, \"type\":type})\n",
        "\n",
        "def convert_df(df, diff_df):\n",
        "    cdf = copy_df(df)\n",
        "    for i in diff_df.index:\n",
        "        cdf.loc[i, : ] = diff_df.loc[i, : ]\n",
        "    return cdf\n",
        "\n",
        "def dup_drop():\n",
        "    for k in dindex_dict.keys():\n",
        "        dindex_dict[k] = list(set(dindex_dict[k]))\n",
        "\n",
        "def check_idx(df):\n",
        "    dup_drop()\n",
        "    for k in dindex_dict.keys():\n",
        "        print(f\"{k}: {len(dindex_dict[k])}\")\n",
        "    print(\"############################################\")\n",
        "    print(\"omission: \", df.loc[df.errorLog.apply(lambda x: \"omission\" in x.keys())].shape[0])\n",
        "    print(\"addition: \", df.loc[df.errorLog.apply(lambda x: \"addition\" in x.keys())].shape[0])\n",
        "    print(\"mis-translation: \", df.loc[df.errorLog.apply(lambda x: \"mis-translation\" in x.keys())].shape[0])\n",
        "    print(\"over-translation: \", df.loc[df.errorLog.apply(lambda x: \"over-translation\" in x.keys())].shape[0])\n",
        "    print(\"under-translation: \", df.loc[df.errorLog.apply(lambda x: \"under-translation\" in x.keys())].shape[0])\n",
        "    print(\"grammer: \", df.loc[df.errorLog.apply(lambda x: \"grammer\" in x.keys())].shape[0])"
      ]
    },
    {
      "cell_type": "markdown",
      "metadata": {
        "id": "d9CE0grbeF2H"
      },
      "source": [
        "# 2.품사 태깅"
      ]
    },
    {
      "cell_type": "code",
      "execution_count": 12,
      "metadata": {
        "colab": {
          "base_uri": "https://localhost:8080/"
        },
        "id": "jpGSNLUANHMp",
        "outputId": "595e0503-803b-47bb-8504-9168ef599b7d"
      },
      "outputs": [
        {
          "output_type": "execute_result",
          "data": {
            "text/plain": [
              "547121    [(예술인, NNG, 0, 3), ([, SSO, 3, 1), (「, SSO, 4,...\n",
              "547123    [(노무, NNG, 0, 2), (제공자, NNG, 2, 3), ([, SSO, 5...\n",
              "547124    [(법, NNG, 0, 1), (제, XPN, 2, 1), (3, SN, 3, 1)...\n",
              "547125    [(법, NNG, 0, 1), (제, XPN, 2, 1), (3, SN, 3, 1)...\n",
              "547126    [(예술, NNG, 0, 2), (이, VCP, 2, 1), (ᆫ, ETM, 2, ...\n",
              "                                ...                        \n",
              "78005     [(기획, NNG, 0, 2), (재정부, NNG, 2, 3), (장관, NNG, ...\n",
              "78006     [(제, XPN, 0, 1), (1, SN, 1, 1), (항, NNG, 2, 1)...\n",
              "78007     [(기획, NNG, 0, 2), (재정부, NNG, 2, 3), (장관, NNG, ...\n",
              "406361    [(제, XPN, 0, 1), (3, SN, 1, 1), (항, NNG, 2, 1)...\n",
              "406362    [(조합, NNG, 0, 2), (이, JKS, 2, 1), (제, XPN, 4, ...\n",
              "Name: KOR, Length: 20684, dtype: object"
            ]
          },
          "metadata": {},
          "execution_count": 12
        }
      ],
      "source": [
        "from kiwipiepy import Kiwi\n",
        "\n",
        "kiwi = Kiwi(num_workers=0, model_type='sbg')\n",
        "kiwi_tokens = df_samp.KOR.apply(lambda x: kiwi.tokenize(x))\n",
        "kiwi_tokens"
      ]
    },
    {
      "cell_type": "code",
      "execution_count": 13,
      "metadata": {
        "colab": {
          "base_uri": "https://localhost:8080/"
        },
        "id": "G9QE7FI-ePhw",
        "outputId": "6189f401-6f14-4405-c9c6-40f6b7a241bf"
      },
      "outputs": [
        {
          "output_type": "execute_result",
          "data": {
            "text/plain": [
              "547121    {'NNG': ['예술인', '항', '단서', '단기', '예술인', '이하', ...\n",
              "547123    {'NNG': ['노무', '제공자', '항', '단서', '단기', '노무', '...\n",
              "547124    {'NNG': ['법', '항', '대통령령', '사유', '해당', '경우', '...\n",
              "547125    {'NNG': ['법', '항', '법', '항', '항', '준용', '경우', ...\n",
              "547126    {'NNG': ['예술', '다음', '호의', '해당', '경우', '법', '항...\n",
              "                                ...                        \n",
              "78005     {'NNG': ['기획', '재정부', '장관', '국채', '발행', '관리', ...\n",
              "78006     {'XPN': ['제'], 'SN': ['1'], 'NNG': ['항', '국채',...\n",
              "78007     {'NNG': ['기획', '재정부', '장관', '국채', '시장', '정책', ...\n",
              "406361    {'XPN': ['제', '제', '제', '제', '제'], 'SN': ['3',...\n",
              "406362    {'NNG': ['조합', '항', '규정', '복지', '사업', '실시', '경...\n",
              "Name: KOR, Length: 20684, dtype: object"
            ]
          },
          "metadata": {},
          "execution_count": 13
        }
      ],
      "source": [
        "count_tokens = kiwi_tokens.apply(count_tag)\n",
        "count_tokens"
      ]
    },
    {
      "cell_type": "code",
      "execution_count": 14,
      "metadata": {
        "colab": {
          "base_uri": "https://localhost:8080/"
        },
        "id": "p1ZWuJumeRq8",
        "outputId": "a4dd974a-ad38-4120-acfb-5f9d30dd007c"
      },
      "outputs": [
        {
          "output_type": "execute_result",
          "data": {
            "text/plain": [
              "3703"
            ]
          },
          "metadata": {},
          "execution_count": 14
        }
      ],
      "source": [
        "nng_dict = dict()\n",
        "for tokens in count_tokens.apply(lambda x: x[\"NNG\"]):\n",
        "    for t in tokens:\n",
        "        try:\n",
        "            nng_dict[t] += 1\n",
        "        except:\n",
        "            nng_dict[t] = 1\n",
        "len(nng_dict.keys())"
      ]
    },
    {
      "cell_type": "code",
      "execution_count": 15,
      "metadata": {
        "colab": {
          "base_uri": "https://localhost:8080/"
        },
        "id": "deifFOmAeXyf",
        "outputId": "3442a86c-e2a5-47cb-c5ff-75aeb3fcccd3"
      },
      "outputs": [
        {
          "output_type": "execute_result",
          "data": {
            "text/plain": [
              "547121    [(고용보험법, 5, 10)]\n",
              "547123    [(고용보험법, 7, 12)]\n",
              "547124                  []\n",
              "547125                  []\n",
              "547126                  []\n",
              "                ...       \n",
              "78005     [(한국은행, 56, 60)]\n",
              "78006                   []\n",
              "78007                   []\n",
              "406361                  []\n",
              "406362                  []\n",
              "Name: KOR, Length: 20684, dtype: object"
            ]
          },
          "metadata": {},
          "execution_count": 15
        }
      ],
      "source": [
        "tag = \"NNG\"\n",
        "nouns =list(set(count_tokens.apply(lambda x: x[tag] if tag in x.keys() else []).sum()))\n",
        "len(nouns)"
      ]
    },
    {
      "cell_type": "markdown",
      "metadata": {
        "id": "zjsme1DLeVOk"
      },
      "source": [
        "# 3.Error 생성"
      ]
    },
    {
      "cell_type": "code",
      "source": [
        "dindex_dict = {\"omission\":[], \"addition\":[], \"mis-translation\":[], \"over-translation\":[], \"under-translation\":[], \"grammer\": []}"
      ],
      "metadata": {
        "id": "0UK0OXjXxyuS"
      },
      "execution_count": 555,
      "outputs": []
    },
    {
      "cell_type": "markdown",
      "metadata": {
        "id": "EIyuK-l2CEq3"
      },
      "source": [
        "## Omission"
      ]
    },
    {
      "cell_type": "markdown",
      "metadata": {
        "id": "ud9JeVcNCEq3"
      },
      "source": [
        "### Omission - Critical"
      ]
    },
    {
      "cell_type": "code",
      "execution_count": 556,
      "metadata": {
        "id": "8QBZ-5rACEq3"
      },
      "outputs": [],
      "source": [
        "cr_om_index = random_index(df_samp.curHyp, 0.02, 10)\n",
        "# df_samp.loc[cr_om_index]"
      ]
    },
    {
      "cell_type": "code",
      "execution_count": 557,
      "metadata": {
        "id": "c-JMkl5WCEq3"
      },
      "outputs": [],
      "source": [
        "def critical_omission(df, seed, ratio):\n",
        "    df_t = copy_df(df)\n",
        "    cr_om_index = random_index(df_t.curHyp, ratio, seed)\n",
        "    dindex_dict[\"omission\"]+=list(cr_om_index)\n",
        "    result = df_t.loc[cr_om_index]\n",
        "    random_ratio = [3/5, 2/3, 5/8, 5/7]\n",
        "    np.random.seed(seed)\n",
        "    split_sentences = result.curHyp.apply(lambda x: x.split(\" \"))\n",
        "    len_element = split_sentences.apply(len)\n",
        "    crop_element = len_element.apply(lambda x: int(x*(np.random.choice(random_ratio, 1))))\n",
        "    start_idx = (len_element-crop_element).apply(lambda x: np.random.choice([i for i in range(x)], 1)[0])\n",
        "    end_idx = start_idx+crop_element\n",
        "\n",
        "    for i in cr_om_index:\n",
        "        reduce_sentence = (\" \".join([split_sentences[i][k] for k in range(start_idx[i], end_idx[i]+1)])).strip()\n",
        "        cur_hyp = result.loc[i, \"curHyp\"]\n",
        "        sidx = cur_hyp.find(reduce_sentence)\n",
        "\n",
        "        conv_hyp = \" \".join([split_sentences[i][j] for j in range(len_element[i]) if (start_idx[i] > j) or (end_idx[i] < j)])\n",
        "        result.loc[i, \"curHyp\"] = conv_hyp\n",
        "        result.loc[i, \"tagLog\"][\"omission\"] = sidx\n",
        "        input_errors(result, i, \"critical\", sidx, reduce_sentence, \"omission\")\n",
        "        result.loc[i, \"errorLog\"][\"omission\"] = {\"start_idx\": sidx, \"text\": reduce_sentence}\n",
        "\n",
        "    del split_sentences, len_element, crop_element, start_idx, end_idx\n",
        "    return convert_df(df, result)\n",
        "\n",
        "df_crom = critical_omission(df_samp, 10, 0.02)"
      ]
    },
    {
      "cell_type": "code",
      "source": [
        "df_crom.loc[cr_om_index].shape"
      ],
      "metadata": {
        "id": "v4nlokvECEq3",
        "outputId": "aeef3627-b885-40e9-f4f5-f9ffd785dfca",
        "colab": {
          "base_uri": "https://localhost:8080/"
        }
      },
      "execution_count": 558,
      "outputs": [
        {
          "output_type": "execute_result",
          "data": {
            "text/plain": [
              "(413, 8)"
            ]
          },
          "metadata": {},
          "execution_count": 558
        }
      ]
    },
    {
      "cell_type": "code",
      "source": [
        "# df_crom.loc[cr_om_index]"
      ],
      "metadata": {
        "id": "MM3HL4elrdIk"
      },
      "execution_count": 530,
      "outputs": []
    },
    {
      "cell_type": "code",
      "source": [
        "check_idx(df_crom)"
      ],
      "metadata": {
        "id": "67_skuDfwsSY",
        "outputId": "360445ab-4142-42f9-e2bb-9642b39dd75f",
        "colab": {
          "base_uri": "https://localhost:8080/"
        }
      },
      "execution_count": 559,
      "outputs": [
        {
          "output_type": "stream",
          "name": "stdout",
          "text": [
            "omission: 413\n",
            "addition: 0\n",
            "mis-translation: 0\n",
            "over-translation: 0\n",
            "under-translation: 0\n",
            "grammer: 0\n",
            "############################################\n",
            "omission:  413\n",
            "addition:  0\n",
            "mis-translation:  0\n",
            "over-translation:  0\n",
            "under-translation:  0\n",
            "grammer:  0\n"
          ]
        }
      ]
    },
    {
      "cell_type": "markdown",
      "source": [
        "### Omission - Major"
      ],
      "metadata": {
        "id": "gyctilT50cBP"
      }
    },
    {
      "cell_type": "code",
      "source": [
        "np.random.seed(20)\n",
        "nnp_info = kiwi_tokens.apply(lambda x: find_tokens(x, tag)).drop(index=dindex_dict[\"omission\"], axis=0)\n",
        "np.random.seed(20)\n",
        "change_val = nnp_info[nnp_info.apply(len) > 0].apply(lambda x: x[np.random.choice(len(x), 1)[0]])\n",
        "ch6 = change_val[change_val.apply(lambda x: len(x[0])) > 3]\n",
        "chv_index = random_index(ch6, 0.65, 20)"
      ],
      "metadata": {
        "id": "eeZW2MXhtUsV"
      },
      "execution_count": 532,
      "outputs": []
    },
    {
      "cell_type": "code",
      "execution_count": 560,
      "metadata": {
        "id": "_WPZzdzD0XYO"
      },
      "outputs": [],
      "source": [
        "def major_omission(df_local, seed, tag, slen, ratio):\n",
        "    df_t = copy_df(df_local)\n",
        "    np.random.seed(seed)\n",
        "    nnp_info = kiwi_tokens.apply(lambda x: find_tokens(x, tag)).drop(index=dindex_dict[\"omission\"], axis=0)\n",
        "    np.random.seed(seed)\n",
        "    change_val = nnp_info[nnp_info.apply(len) > 0].apply(lambda x: x[np.random.choice(len(x), 1)[0]])\n",
        "    ch6 = change_val[change_val.apply(lambda x: len(x[0])) > slen]\n",
        "    chv_index = random_index(ch6, ratio, seed)\n",
        "    # drop_idx = ch6.loc[ch6.apply(lambda x: len(x[0].split(\"·\")))>1].index.to_list()\n",
        "    ch_srs = ch6.loc[chv_index]\n",
        "    result = df_t.loc[chv_index]\n",
        "\n",
        "    for i in chv_index:\n",
        "        del_word, start, end = ch_srs.loc[i]\n",
        "        cur_hyp = result.loc[i, \"curHyp\"]\n",
        "\n",
        "        forward = cur_hyp[:start]\n",
        "        backward = cur_hyp[start:]\n",
        "        split_back = backward.split(\" \")\n",
        "        del_unit = split_back[0]\n",
        "        back_mod = \" \".join(split_back[1:])\n",
        "\n",
        "        try:\n",
        "            if start==0:\n",
        "                conv_hyp = (forward+back_mod).strip(\" \")\n",
        "            elif cur_hyp[start-1] == '\"' or cur_hyp[start-1]=='「' or cur_hyp[end]==\"」\" or cur_hyp[end]=='\\\"' :\n",
        "                pattern = f'\\\"[^\\\"]*{del_word}[^\\\"]*\\\"|「[^」]*{del_word}[^」]*」'\n",
        "                find_comp = re.compile(pattern)\n",
        "                find_res = find_comp.search(cur_hyp)\n",
        "                start, end = find_res.span()\n",
        "                while cur_hyp[end]!=\" \" and  end<len(cur_hyp):\n",
        "                    end+=1\n",
        "                while cur_hyp[start]!=\" \" and start>=0:\n",
        "                    start-=1\n",
        "                start+=1\n",
        "                del_unit = cur_hyp[start:end]\n",
        "                conv_hyp = (cur_hyp[:start].strip()+\" \"+cur_hyp[end:].strip()).strip()\n",
        "            elif \"(\" in del_unit:\n",
        "                pattern = f'{del_word}[^\\)]+\\)'\n",
        "                find_comp = re.compile(pattern)\n",
        "                find_res = find_comp.search(cur_hyp)\n",
        "                start, end = find_res.span()\n",
        "                while cur_hyp[end]!=\" \" and  end<len(cur_hyp):\n",
        "                    end+=1\n",
        "                while cur_hyp[start]!=\" \" and start>=0:\n",
        "                    start-=1\n",
        "                start+=1\n",
        "                del_unit = cur_hyp[start:end]\n",
        "                conv_hyp = (cur_hyp[:start].strip()+\" \"+cur_hyp[end:].strip()).strip()\n",
        "            else:\n",
        "                conv_hyp = (forward+back_mod).strip(\" \")\n",
        "            result.loc[i, \"tagLog\"][\"omission\"] = start\n",
        "            dindex_dict[\"omission\"]+=[i]\n",
        "            result.loc[i, \"curHyp\"] = conv_hyp\n",
        "            input_errors(result, i, \"major\", start, del_unit, \"omission\")\n",
        "            result.loc[i, \"errorLog\"][\"omission\"] = {\"start_idx\": start, \"text\": del_unit}\n",
        "        except:\n",
        "            pass\n",
        "\n",
        "    return convert_df(df_local, result)\n",
        "\n",
        "df_maom = major_omission(df_crom, 20, \"NNP\", 3, 0.65)\n",
        "# df_mo = major_omission(df_maom, 36, \"NNG\", 2, 0.55)"
      ]
    },
    {
      "cell_type": "code",
      "execution_count": 561,
      "metadata": {
        "id": "xK17uCFS0XYP",
        "outputId": "22289c58-b39e-4085-eaec-a8bdc26eebf5",
        "colab": {
          "base_uri": "https://localhost:8080/"
        }
      },
      "outputs": [
        {
          "output_type": "execute_result",
          "data": {
            "text/plain": [
              "1967"
            ]
          },
          "metadata": {},
          "execution_count": 561
        }
      ],
      "source": [
        "df_maom.loc[df_maom.errors.apply(len)==1].shape[0]"
      ]
    },
    {
      "cell_type": "code",
      "source": [
        "# df_maom.loc[df_maom.errors.apply(len)==1]"
      ],
      "metadata": {
        "id": "5dEN4FtwwxT9"
      },
      "execution_count": 562,
      "outputs": []
    },
    {
      "cell_type": "code",
      "source": [
        "check_idx(df_maom)"
      ],
      "metadata": {
        "id": "cAFpZuxFxe0E",
        "outputId": "4e88297e-3e36-423d-acd4-cf8fce8c3d20",
        "colab": {
          "base_uri": "https://localhost:8080/"
        }
      },
      "execution_count": 563,
      "outputs": [
        {
          "output_type": "stream",
          "name": "stdout",
          "text": [
            "omission: 1967\n",
            "addition: 0\n",
            "mis-translation: 0\n",
            "over-translation: 0\n",
            "under-translation: 0\n",
            "grammer: 0\n",
            "############################################\n",
            "omission:  1967\n",
            "addition:  0\n",
            "mis-translation:  0\n",
            "over-translation:  0\n",
            "under-translation:  0\n",
            "grammer:  0\n"
          ]
        }
      ]
    },
    {
      "cell_type": "code",
      "source": [
        "df_mo = major_omission(df_maom, 36, \"NNG\", 2, 0.55)"
      ],
      "metadata": {
        "id": "juB8-R5f4-Rv"
      },
      "execution_count": 564,
      "outputs": []
    },
    {
      "cell_type": "code",
      "source": [
        "check_idx(df_mo)"
      ],
      "metadata": {
        "id": "I_L4neB8zfEJ",
        "outputId": "aba8e281-93a9-4288-b8d1-e0a94e32ffd9",
        "colab": {
          "base_uri": "https://localhost:8080/"
        }
      },
      "execution_count": 565,
      "outputs": [
        {
          "output_type": "stream",
          "name": "stdout",
          "text": [
            "omission: 3049\n",
            "addition: 0\n",
            "mis-translation: 0\n",
            "over-translation: 0\n",
            "under-translation: 0\n",
            "grammer: 0\n",
            "############################################\n",
            "omission:  3049\n",
            "addition:  0\n",
            "mis-translation:  0\n",
            "over-translation:  0\n",
            "under-translation:  0\n",
            "grammer:  0\n"
          ]
        }
      ]
    },
    {
      "cell_type": "code",
      "source": [
        "# df_mo.loc[df_mo.errors.apply(len)==1]"
      ],
      "metadata": {
        "id": "vdh_F4ZpvWq3"
      },
      "execution_count": 539,
      "outputs": []
    },
    {
      "cell_type": "markdown",
      "source": [
        "### Omission - Neutral"
      ],
      "metadata": {
        "id": "52H2DVr8DGAD"
      }
    },
    {
      "cell_type": "code",
      "source": [
        "sp_list = [\".\", \";\", \":\"]\n",
        "np.random.shuffle(sp_list)\n",
        "sp_list"
      ],
      "metadata": {
        "id": "Ei1FhEO8Fqjg",
        "outputId": "dd204009-74f8-45d7-fbae-1cb209677aec",
        "colab": {
          "base_uri": "https://localhost:8080/"
        }
      },
      "execution_count": 566,
      "outputs": [
        {
          "output_type": "execute_result",
          "data": {
            "text/plain": [
              "['.', ':', ';']"
            ]
          },
          "metadata": {},
          "execution_count": 566
        }
      ]
    },
    {
      "cell_type": "code",
      "source": [
        "test = \"안녕하세요; 반갑습니다.\"\n",
        "a = test.find(\".\")\n",
        "test[:a] + test[a+1:]"
      ],
      "metadata": {
        "id": "VHlhWbmKGdsr",
        "outputId": "be1c1432-9325-44ab-9dc9-7d3b81877bae",
        "colab": {
          "base_uri": "https://localhost:8080/",
          "height": 35
        }
      },
      "execution_count": 567,
      "outputs": [
        {
          "output_type": "execute_result",
          "data": {
            "text/plain": [
              "'안녕하세요; 반갑습니다'"
            ],
            "application/vnd.google.colaboratory.intrinsic+json": {
              "type": "string"
            }
          },
          "metadata": {},
          "execution_count": 567
        }
      ]
    },
    {
      "cell_type": "code",
      "source": [
        "def omission_nt(df, ratio, seed):    # 0.01, 111\n",
        "    df_t = copy_df(df)\n",
        "    np.random.seed(seed)\n",
        "    on_index = random_index(df_t.drop(index=dindex_dict[\"omission\"]), ratio, seed)\n",
        "    on_index = df_t.loc[on_index][df_t.loc[on_index].curHyp.str.contains(r\"\\.|\\;|\\:\")].index\n",
        "    result = df_t.loc[on_index]\n",
        "    dindex_dict[\"omission\"]+=list(on_index)\n",
        "\n",
        "    sp_list = [\".\", \";\", \":\"]\n",
        "    for i in on_index:\n",
        "        np.random.shuffle(sp_list)\n",
        "        for s in sp_list:\n",
        "            cur_hyp = result.loc[i, \"curHyp\"]\n",
        "            s_loc = cur_hyp.find(s)\n",
        "            if s_loc==-1:\n",
        "                continue\n",
        "            conv_hyp = cur_hyp[:s_loc]+cur_hyp[s_loc+1:]\n",
        "            result.loc[i, \"tagLog\"][\"omission\"] = s_loc\n",
        "            result.loc[i, \"curHyp\"] = conv_hyp\n",
        "            input_errors(result, i, \"neutral\", s_loc, s, \"omission\")\n",
        "            result.loc[i, \"errorLog\"][\"omission\"] = {\"start_idx\": s_loc, \"text\": s}\n",
        "            break\n",
        "    return convert_df(df, result)\n",
        "\n",
        "df_on = omission_nt(df_mo, 0.01, 111)"
      ],
      "metadata": {
        "id": "fuNlXo5MDKPw"
      },
      "execution_count": 568,
      "outputs": []
    },
    {
      "cell_type": "code",
      "source": [
        "# df_on.loc[df_on.errors.apply(lambda x: x[0][\"severity\"]==\"neutral\" if len(x)!=0 else False)]"
      ],
      "metadata": {
        "id": "d-aXz7lcH89O"
      },
      "execution_count": 569,
      "outputs": []
    },
    {
      "cell_type": "code",
      "source": [
        "check_idx(df_on)"
      ],
      "metadata": {
        "id": "83kjVALDwP5K",
        "outputId": "ba010d07-910b-49b4-884d-127432077893",
        "colab": {
          "base_uri": "https://localhost:8080/"
        }
      },
      "execution_count": 570,
      "outputs": [
        {
          "output_type": "stream",
          "name": "stdout",
          "text": [
            "omission: 3190\n",
            "addition: 0\n",
            "mis-translation: 0\n",
            "over-translation: 0\n",
            "under-translation: 0\n",
            "grammer: 0\n",
            "############################################\n",
            "omission:  3190\n",
            "addition:  0\n",
            "mis-translation:  0\n",
            "over-translation:  0\n",
            "under-translation:  0\n",
            "grammer:  0\n"
          ]
        }
      ]
    },
    {
      "cell_type": "markdown",
      "metadata": {
        "id": "FixBGthYwUkw"
      },
      "source": [
        "## Addition"
      ]
    },
    {
      "cell_type": "markdown",
      "metadata": {
        "id": "wpSwjmIIIKGv"
      },
      "source": [
        "###Addition-Major"
      ]
    },
    {
      "cell_type": "code",
      "execution_count": 545,
      "metadata": {
        "id": "7SpEWBAyTDda"
      },
      "outputs": [],
      "source": [
        "def major_addition(df, ratio, seed):\n",
        "    np.random.seed(seed)\n",
        "    df_t=copy_df(df)\n",
        "\n",
        "    ma_ad_index = random_index(df_t, ratio, seed)\n",
        "    nouns_lists = count_tokens[ma_ad_index].apply(lambda x: x[\"NNG\"])\n",
        "    nnpg_info = count_tokens[ma_ad_index].apply(lambda x: [val for val in list(set(x[\"NNG\"])) if len(val)>1])\n",
        "    drop_index = nnpg_info[nnpg_info.apply(len) == 0].index.to_list()\n",
        "    nnpg_info.drop(index=drop_index, axis=0, inplace=True)\n",
        "    ma_ad_index = list(set(ma_ad_index)-set(drop_index))\n",
        "    np.random.seed(seed)\n",
        "    add_position = nnpg_info.apply(lambda x: x[np.random.choice(range(0, len(x)))])\n",
        "    np.random.seed(seed)\n",
        "    add_words = nouns_lists.apply(lambda x: np.random.choice(list(set(nouns)-set(x))))\n",
        "    result = df_t.loc[ma_ad_index]\n",
        "\n",
        "    dindex_dict[\"addition\"]+=ma_ad_index\n",
        "\n",
        "    josa_list = [\"의\", \"에 의한\", \"에\", \"만\", \"만의\"]\n",
        "    for i in ma_ad_index:\n",
        "        cur_hyp = df.loc[i, \"curHyp\"]\n",
        "        josa_add = np.random.choice(josa_list)\n",
        "        word = add_position[i]\n",
        "        start = cur_hyp.find(word)\n",
        "        # if word not in cur_hyp:\n",
        "        #     continue\n",
        "        add_word = add_words[i]+josa_add\n",
        "        while start>=0 and cur_hyp[start]!=\" \":\n",
        "            start-=1\n",
        "        conv_hyp = cur_hyp[:start+1].strip()+\" \"+f\"{add_word}\"+\" \"+cur_hyp[start+1:].strip()\n",
        "        result.loc[i, \"tagLog\"][\"addition\"] = add_word\n",
        "        result.loc[i, \"curHyp\"] = conv_hyp\n",
        "        input_errors(result, i, \"major\", start+1, add_word, \"addition\")\n",
        "\n",
        "        err_log = copy.deepcopy(result.loc[i, \"errorLog\"])\n",
        "        loop_keys = err_log.keys()\n",
        "        for k in loop_keys:\n",
        "            pre_idx = err_log[k][\"start_idx\"]\n",
        "            if pre_idx > start+1:\n",
        "                result.loc[i, \"errorLog\"][k] = pre_idx + (len(add_word)+1)\n",
        "\n",
        "        result.loc[i, \"errorLog\"][\"addition\"] = {\"start_idx\": (start+1), \"text\": add_word}\n",
        "\n",
        "    return convert_df(df, result)\n",
        "\n",
        "df_maad = major_addition(df_on, 0.22, 55)"
      ]
    },
    {
      "cell_type": "code",
      "execution_count": 546,
      "metadata": {
        "id": "xF4Q0WgCKNOT"
      },
      "outputs": [],
      "source": [
        "# df_maad.loc[df_maad.errors.apply(len)>1]"
      ]
    },
    {
      "cell_type": "code",
      "source": [
        "set(list(df_maad.loc[df_maad.errorLog.apply(lambda x: \"addition\" in x.keys())].index))"
      ],
      "metadata": {
        "id": "I3dqNqaE5Kfc",
        "outputId": "f3d6d4a2-84a8-4bf1-e8db-acc4a0a17a7e",
        "colab": {
          "base_uri": "https://localhost:8080/"
        }
      },
      "execution_count": 550,
      "outputs": [
        {
          "output_type": "execute_result",
          "data": {
            "text/plain": [
              "4469"
            ]
          },
          "metadata": {},
          "execution_count": 550
        }
      ]
    },
    {
      "cell_type": "code",
      "source": [
        "who = list(set(dindex_dict[\"addition\"]) - set(list(df_maad.loc[df_maad.errorLog.apply(lambda x: \"addition\" in x.keys())].index)))\n",
        "df_maad.loc[who]"
      ],
      "metadata": {
        "id": "gvqw5xCmzu6W",
        "outputId": "91fd9fc9-96e5-46a3-cdb7-543b168c5867",
        "colab": {
          "base_uri": "https://localhost:8080/",
          "height": 4601
        }
      },
      "execution_count": 554,
      "outputs": [
        {
          "output_type": "execute_result",
          "data": {
            "text/plain": [
              "        category                   lawName  \\\n",
              "207882        해운          어선원 및 어선 재해보상보험법   \n",
              "86028   통화ㆍ국채ㆍ금융                  한국수출입은행법   \n",
              "405009  통화ㆍ국채ㆍ금융  신용정보의 이용 및 보호에 관한 법률 시행령   \n",
              "408081  통화ㆍ국채ㆍ금융                예금자보호법 시행령   \n",
              "395833  통화ㆍ국채ㆍ금융         금융산업의 구조개선에 관한 법률   \n",
              "...          ...                       ...   \n",
              "394206  통화ㆍ국채ㆍ금융   경제자유구역의 지정 및 운영에 관한 특별법   \n",
              "413668  통화ㆍ국채ㆍ금융        자본시장과 금융투자업에 관한 법률   \n",
              "421862  통화ㆍ국채ㆍ금융                     한국은행법   \n",
              "417779  통화ㆍ국채ㆍ금융    자본시장과 금융투자업에 관한 법률 시행령   \n",
              "406525  통화ㆍ국채ㆍ금융               신용협동조합법 시행령   \n",
              "\n",
              "                                                      ENG  \\\n",
              "207882  In compelling the payment under paragraph (2),...   \n",
              "86028   The Minister of Strategy and Finance may entru...   \n",
              "405009  \"Risk management system prescribed by Presiden...   \n",
              "408081  Where the Corporation moves its main office, b...   \n",
              "395833  The applicant institution shall not receive su...   \n",
              "...                                                   ...   \n",
              "394206  Where the Minister of Trade, Industry and Ener...   \n",
              "413668  A person who trades financial investment instr...   \n",
              "421862  The Governor shall submit the statement of acc...   \n",
              "417779  \"Case prescribed by Presidential Decree\" in Ar...   \n",
              "406525  The Director for Inspection and Supervision of...   \n",
              "\n",
              "                                                      KOR  \\\n",
              "207882  중앙회는 제2항에 따라 납부를 독촉하는 경우에는 독촉장을 발급하여야 한다. 이 경우...   \n",
              "86028             기획재정부장관은 제1항에 따른 검사를 금융감독원장에게 위탁할 수 있다.   \n",
              "405009  법 제26조의4제4항 각 호 외의 부분에서 \"대통령령으로 정하는 위험관리체계\"란 다...   \n",
              "408081  동일한 등기소의 관할구역안에서 주된 사무소·지사무소 또는 출장소를 이전한 때에는 2...   \n",
              "395833  신청기관이 정부 또는 예금보험공사로부터 제12조 또는 「예금자보호법」 제38조에 따...   \n",
              "...                                                   ...   \n",
              "394206  산업통상자원부장관은 제4항이나 제5항에 따라 경제자유구역을 지정한 경우에는 대통령령...   \n",
              "413668        제70조를 위반하여 투자자로부터 예탁받은 재산으로 금융투자상품의 매매를 한 자   \n",
              "421862  총재는 회계연도가 끝난 후 2개월 이내에 외부감사를 받은 해당 연도 결산서(재무제표...   \n",
              "417779  법 제249조의9제1항제6호에서 \"대통령령으로 정하는 경우\"란 다음 각 호의 어느 ...   \n",
              "406525           위원장은 중앙회의 검사·감독이사가 되고, 위원은 다음 각호의 자가 된다.   \n",
              "\n",
              "                                                   curHyp  \\\n",
              "207882                      납부기한은 10일 이상의 여유가 있도록 하여야 한다.   \n",
              "86028                                               수 있다.   \n",
              "405009                           법 제26조의4제4항 위험관리체계를 말한다.   \n",
              "408081  동일한 등기소의 관할구역안에서 주된 사무소·지사무소 또는 이전한 때에는 2주이내에 ...   \n",
              "395833                                       지원을 받지 아니할 것   \n",
              "...                                                   ...   \n",
              "394206  산업통상자원부장관은 제4항이나 제5항에 따라 경제자유구역을 지정한 경우에는 대통령령...   \n",
              "413668               제70조를 위반하여 예탁받은 재산으로 금융투자상품의 매매를 한 자   \n",
              "421862              총재는 회계연도가 끝난 후 기획재정부장관에게 각각 제출하여야 한다.   \n",
              "417779                                         법 경우를 말한다.   \n",
              "406525                                      위원장은 중앙회의 된다.   \n",
              "\n",
              "                                                   errors             tagLog  \\\n",
              "207882  [{'severity': 'critical', 'start_idx': 0, 'tex...    {'omission': 0}   \n",
              "86028   [{'severity': 'critical', 'start_idx': 0, 'tex...    {'omission': 0}   \n",
              "405009  [{'severity': 'critical', 'start_idx': 12, 'te...   {'omission': 12}   \n",
              "408081  [{'severity': 'major', 'start_idx': 32, 'text'...   {'omission': 32}   \n",
              "395833  [{'severity': 'critical', 'start_idx': 0, 'tex...    {'omission': 0}   \n",
              "...                                                   ...                ...   \n",
              "394206  [{'severity': 'major', 'start_idx': 125, 'text...  {'omission': 125}   \n",
              "413668  [{'severity': 'major', 'start_idx': 11, 'text'...   {'omission': 11}   \n",
              "421862  [{'severity': 'critical', 'start_idx': 15, 'te...   {'omission': 15}   \n",
              "417779  [{'severity': 'critical', 'start_idx': 2, 'tex...    {'omission': 2}   \n",
              "406525  [{'severity': 'critical', 'start_idx': 10, 'te...   {'omission': 10}   \n",
              "\n",
              "                                                 errorLog  \n",
              "207882  {'omission': {'start_idx': 0, 'text': '중앙회는 제2...  \n",
              "86028   {'omission': {'start_idx': 0, 'text': '기획재정부장관...  \n",
              "405009  {'omission': {'start_idx': 12, 'text': '각 호 외의...  \n",
              "408081    {'omission': {'start_idx': 32, 'text': '출장소를'}}  \n",
              "395833  {'omission': {'start_idx': 0, 'text': '신청기관이 정...  \n",
              "...                                                   ...  \n",
              "394206  {'omission': {'start_idx': 125, 'text': '「토지이용...  \n",
              "413668  {'omission': {'start_idx': 11, 'text': '투자자로부터'}}  \n",
              "421862  {'omission': {'start_idx': 15, 'text': '2개월 이내...  \n",
              "417779  {'omission': {'start_idx': 2, 'text': '제249조의9...  \n",
              "406525  {'omission': {'start_idx': 10, 'text': '검사·감독이...  \n",
              "\n",
              "[80 rows x 8 columns]"
            ],
            "text/html": [
              "\n",
              "  <div id=\"df-20d91768-64ae-4cff-b410-c35ae2adb740\" class=\"colab-df-container\">\n",
              "    <div>\n",
              "<style scoped>\n",
              "    .dataframe tbody tr th:only-of-type {\n",
              "        vertical-align: middle;\n",
              "    }\n",
              "\n",
              "    .dataframe tbody tr th {\n",
              "        vertical-align: top;\n",
              "    }\n",
              "\n",
              "    .dataframe thead th {\n",
              "        text-align: right;\n",
              "    }\n",
              "</style>\n",
              "<table border=\"1\" class=\"dataframe\">\n",
              "  <thead>\n",
              "    <tr style=\"text-align: right;\">\n",
              "      <th></th>\n",
              "      <th>category</th>\n",
              "      <th>lawName</th>\n",
              "      <th>ENG</th>\n",
              "      <th>KOR</th>\n",
              "      <th>curHyp</th>\n",
              "      <th>errors</th>\n",
              "      <th>tagLog</th>\n",
              "      <th>errorLog</th>\n",
              "    </tr>\n",
              "  </thead>\n",
              "  <tbody>\n",
              "    <tr>\n",
              "      <th>207882</th>\n",
              "      <td>해운</td>\n",
              "      <td>어선원 및 어선 재해보상보험법</td>\n",
              "      <td>In compelling the payment under paragraph (2),...</td>\n",
              "      <td>중앙회는 제2항에 따라 납부를 독촉하는 경우에는 독촉장을 발급하여야 한다. 이 경우...</td>\n",
              "      <td>납부기한은 10일 이상의 여유가 있도록 하여야 한다.</td>\n",
              "      <td>[{'severity': 'critical', 'start_idx': 0, 'tex...</td>\n",
              "      <td>{'omission': 0}</td>\n",
              "      <td>{'omission': {'start_idx': 0, 'text': '중앙회는 제2...</td>\n",
              "    </tr>\n",
              "    <tr>\n",
              "      <th>86028</th>\n",
              "      <td>통화ㆍ국채ㆍ금융</td>\n",
              "      <td>한국수출입은행법</td>\n",
              "      <td>The Minister of Strategy and Finance may entru...</td>\n",
              "      <td>기획재정부장관은 제1항에 따른 검사를 금융감독원장에게 위탁할 수 있다.</td>\n",
              "      <td>수 있다.</td>\n",
              "      <td>[{'severity': 'critical', 'start_idx': 0, 'tex...</td>\n",
              "      <td>{'omission': 0}</td>\n",
              "      <td>{'omission': {'start_idx': 0, 'text': '기획재정부장관...</td>\n",
              "    </tr>\n",
              "    <tr>\n",
              "      <th>405009</th>\n",
              "      <td>통화ㆍ국채ㆍ금융</td>\n",
              "      <td>신용정보의 이용 및 보호에 관한 법률 시행령</td>\n",
              "      <td>\"Risk management system prescribed by Presiden...</td>\n",
              "      <td>법 제26조의4제4항 각 호 외의 부분에서 \"대통령령으로 정하는 위험관리체계\"란 다...</td>\n",
              "      <td>법 제26조의4제4항 위험관리체계를 말한다.</td>\n",
              "      <td>[{'severity': 'critical', 'start_idx': 12, 'te...</td>\n",
              "      <td>{'omission': 12}</td>\n",
              "      <td>{'omission': {'start_idx': 12, 'text': '각 호 외의...</td>\n",
              "    </tr>\n",
              "    <tr>\n",
              "      <th>408081</th>\n",
              "      <td>통화ㆍ국채ㆍ금융</td>\n",
              "      <td>예금자보호법 시행령</td>\n",
              "      <td>Where the Corporation moves its main office, b...</td>\n",
              "      <td>동일한 등기소의 관할구역안에서 주된 사무소·지사무소 또는 출장소를 이전한 때에는 2...</td>\n",
              "      <td>동일한 등기소의 관할구역안에서 주된 사무소·지사무소 또는 이전한 때에는 2주이내에 ...</td>\n",
              "      <td>[{'severity': 'major', 'start_idx': 32, 'text'...</td>\n",
              "      <td>{'omission': 32}</td>\n",
              "      <td>{'omission': {'start_idx': 32, 'text': '출장소를'}}</td>\n",
              "    </tr>\n",
              "    <tr>\n",
              "      <th>395833</th>\n",
              "      <td>통화ㆍ국채ㆍ금융</td>\n",
              "      <td>금융산업의 구조개선에 관한 법률</td>\n",
              "      <td>The applicant institution shall not receive su...</td>\n",
              "      <td>신청기관이 정부 또는 예금보험공사로부터 제12조 또는 「예금자보호법」 제38조에 따...</td>\n",
              "      <td>지원을 받지 아니할 것</td>\n",
              "      <td>[{'severity': 'critical', 'start_idx': 0, 'tex...</td>\n",
              "      <td>{'omission': 0}</td>\n",
              "      <td>{'omission': {'start_idx': 0, 'text': '신청기관이 정...</td>\n",
              "    </tr>\n",
              "    <tr>\n",
              "      <th>...</th>\n",
              "      <td>...</td>\n",
              "      <td>...</td>\n",
              "      <td>...</td>\n",
              "      <td>...</td>\n",
              "      <td>...</td>\n",
              "      <td>...</td>\n",
              "      <td>...</td>\n",
              "      <td>...</td>\n",
              "    </tr>\n",
              "    <tr>\n",
              "      <th>394206</th>\n",
              "      <td>통화ㆍ국채ㆍ금융</td>\n",
              "      <td>경제자유구역의 지정 및 운영에 관한 특별법</td>\n",
              "      <td>Where the Minister of Trade, Industry and Ener...</td>\n",
              "      <td>산업통상자원부장관은 제4항이나 제5항에 따라 경제자유구역을 지정한 경우에는 대통령령...</td>\n",
              "      <td>산업통상자원부장관은 제4항이나 제5항에 따라 경제자유구역을 지정한 경우에는 대통령령...</td>\n",
              "      <td>[{'severity': 'major', 'start_idx': 125, 'text...</td>\n",
              "      <td>{'omission': 125}</td>\n",
              "      <td>{'omission': {'start_idx': 125, 'text': '「토지이용...</td>\n",
              "    </tr>\n",
              "    <tr>\n",
              "      <th>413668</th>\n",
              "      <td>통화ㆍ국채ㆍ금융</td>\n",
              "      <td>자본시장과 금융투자업에 관한 법률</td>\n",
              "      <td>A person who trades financial investment instr...</td>\n",
              "      <td>제70조를 위반하여 투자자로부터 예탁받은 재산으로 금융투자상품의 매매를 한 자</td>\n",
              "      <td>제70조를 위반하여 예탁받은 재산으로 금융투자상품의 매매를 한 자</td>\n",
              "      <td>[{'severity': 'major', 'start_idx': 11, 'text'...</td>\n",
              "      <td>{'omission': 11}</td>\n",
              "      <td>{'omission': {'start_idx': 11, 'text': '투자자로부터'}}</td>\n",
              "    </tr>\n",
              "    <tr>\n",
              "      <th>421862</th>\n",
              "      <td>통화ㆍ국채ㆍ금융</td>\n",
              "      <td>한국은행법</td>\n",
              "      <td>The Governor shall submit the statement of acc...</td>\n",
              "      <td>총재는 회계연도가 끝난 후 2개월 이내에 외부감사를 받은 해당 연도 결산서(재무제표...</td>\n",
              "      <td>총재는 회계연도가 끝난 후 기획재정부장관에게 각각 제출하여야 한다.</td>\n",
              "      <td>[{'severity': 'critical', 'start_idx': 15, 'te...</td>\n",
              "      <td>{'omission': 15}</td>\n",
              "      <td>{'omission': {'start_idx': 15, 'text': '2개월 이내...</td>\n",
              "    </tr>\n",
              "    <tr>\n",
              "      <th>417779</th>\n",
              "      <td>통화ㆍ국채ㆍ금융</td>\n",
              "      <td>자본시장과 금융투자업에 관한 법률 시행령</td>\n",
              "      <td>\"Case prescribed by Presidential Decree\" in Ar...</td>\n",
              "      <td>법 제249조의9제1항제6호에서 \"대통령령으로 정하는 경우\"란 다음 각 호의 어느 ...</td>\n",
              "      <td>법 경우를 말한다.</td>\n",
              "      <td>[{'severity': 'critical', 'start_idx': 2, 'tex...</td>\n",
              "      <td>{'omission': 2}</td>\n",
              "      <td>{'omission': {'start_idx': 2, 'text': '제249조의9...</td>\n",
              "    </tr>\n",
              "    <tr>\n",
              "      <th>406525</th>\n",
              "      <td>통화ㆍ국채ㆍ금융</td>\n",
              "      <td>신용협동조합법 시행령</td>\n",
              "      <td>The Director for Inspection and Supervision of...</td>\n",
              "      <td>위원장은 중앙회의 검사·감독이사가 되고, 위원은 다음 각호의 자가 된다.</td>\n",
              "      <td>위원장은 중앙회의 된다.</td>\n",
              "      <td>[{'severity': 'critical', 'start_idx': 10, 'te...</td>\n",
              "      <td>{'omission': 10}</td>\n",
              "      <td>{'omission': {'start_idx': 10, 'text': '검사·감독이...</td>\n",
              "    </tr>\n",
              "  </tbody>\n",
              "</table>\n",
              "<p>80 rows × 8 columns</p>\n",
              "</div>\n",
              "    <div class=\"colab-df-buttons\">\n",
              "\n",
              "  <div class=\"colab-df-container\">\n",
              "    <button class=\"colab-df-convert\" onclick=\"convertToInteractive('df-20d91768-64ae-4cff-b410-c35ae2adb740')\"\n",
              "            title=\"Convert this dataframe to an interactive table.\"\n",
              "            style=\"display:none;\">\n",
              "\n",
              "  <svg xmlns=\"http://www.w3.org/2000/svg\" height=\"24px\" viewBox=\"0 -960 960 960\">\n",
              "    <path d=\"M120-120v-720h720v720H120Zm60-500h600v-160H180v160Zm220 220h160v-160H400v160Zm0 220h160v-160H400v160ZM180-400h160v-160H180v160Zm440 0h160v-160H620v160ZM180-180h160v-160H180v160Zm440 0h160v-160H620v160Z\"/>\n",
              "  </svg>\n",
              "    </button>\n",
              "\n",
              "  <style>\n",
              "    .colab-df-container {\n",
              "      display:flex;\n",
              "      gap: 12px;\n",
              "    }\n",
              "\n",
              "    .colab-df-convert {\n",
              "      background-color: #E8F0FE;\n",
              "      border: none;\n",
              "      border-radius: 50%;\n",
              "      cursor: pointer;\n",
              "      display: none;\n",
              "      fill: #1967D2;\n",
              "      height: 32px;\n",
              "      padding: 0 0 0 0;\n",
              "      width: 32px;\n",
              "    }\n",
              "\n",
              "    .colab-df-convert:hover {\n",
              "      background-color: #E2EBFA;\n",
              "      box-shadow: 0px 1px 2px rgba(60, 64, 67, 0.3), 0px 1px 3px 1px rgba(60, 64, 67, 0.15);\n",
              "      fill: #174EA6;\n",
              "    }\n",
              "\n",
              "    .colab-df-buttons div {\n",
              "      margin-bottom: 4px;\n",
              "    }\n",
              "\n",
              "    [theme=dark] .colab-df-convert {\n",
              "      background-color: #3B4455;\n",
              "      fill: #D2E3FC;\n",
              "    }\n",
              "\n",
              "    [theme=dark] .colab-df-convert:hover {\n",
              "      background-color: #434B5C;\n",
              "      box-shadow: 0px 1px 3px 1px rgba(0, 0, 0, 0.15);\n",
              "      filter: drop-shadow(0px 1px 2px rgba(0, 0, 0, 0.3));\n",
              "      fill: #FFFFFF;\n",
              "    }\n",
              "  </style>\n",
              "\n",
              "    <script>\n",
              "      const buttonEl =\n",
              "        document.querySelector('#df-20d91768-64ae-4cff-b410-c35ae2adb740 button.colab-df-convert');\n",
              "      buttonEl.style.display =\n",
              "        google.colab.kernel.accessAllowed ? 'block' : 'none';\n",
              "\n",
              "      async function convertToInteractive(key) {\n",
              "        const element = document.querySelector('#df-20d91768-64ae-4cff-b410-c35ae2adb740');\n",
              "        const dataTable =\n",
              "          await google.colab.kernel.invokeFunction('convertToInteractive',\n",
              "                                                    [key], {});\n",
              "        if (!dataTable) return;\n",
              "\n",
              "        const docLinkHtml = 'Like what you see? Visit the ' +\n",
              "          '<a target=\"_blank\" href=https://colab.research.google.com/notebooks/data_table.ipynb>data table notebook</a>'\n",
              "          + ' to learn more about interactive tables.';\n",
              "        element.innerHTML = '';\n",
              "        dataTable['output_type'] = 'display_data';\n",
              "        await google.colab.output.renderOutput(dataTable, element);\n",
              "        const docLink = document.createElement('div');\n",
              "        docLink.innerHTML = docLinkHtml;\n",
              "        element.appendChild(docLink);\n",
              "      }\n",
              "    </script>\n",
              "  </div>\n",
              "\n",
              "\n",
              "<div id=\"df-dc1afe4a-c3e7-4978-bcc0-d8352ab2c5af\">\n",
              "  <button class=\"colab-df-quickchart\" onclick=\"quickchart('df-dc1afe4a-c3e7-4978-bcc0-d8352ab2c5af')\"\n",
              "            title=\"Suggest charts.\"\n",
              "            style=\"display:none;\">\n",
              "\n",
              "<svg xmlns=\"http://www.w3.org/2000/svg\" height=\"24px\"viewBox=\"0 0 24 24\"\n",
              "     width=\"24px\">\n",
              "    <g>\n",
              "        <path d=\"M19 3H5c-1.1 0-2 .9-2 2v14c0 1.1.9 2 2 2h14c1.1 0 2-.9 2-2V5c0-1.1-.9-2-2-2zM9 17H7v-7h2v7zm4 0h-2V7h2v10zm4 0h-2v-4h2v4z\"/>\n",
              "    </g>\n",
              "</svg>\n",
              "  </button>\n",
              "\n",
              "<style>\n",
              "  .colab-df-quickchart {\n",
              "    background-color: #E8F0FE;\n",
              "    border: none;\n",
              "    border-radius: 50%;\n",
              "    cursor: pointer;\n",
              "    display: none;\n",
              "    fill: #1967D2;\n",
              "    height: 32px;\n",
              "    padding: 0 0 0 0;\n",
              "    width: 32px;\n",
              "  }\n",
              "\n",
              "  .colab-df-quickchart:hover {\n",
              "    background-color: #E2EBFA;\n",
              "    box-shadow: 0px 1px 2px rgba(60, 64, 67, 0.3), 0px 1px 3px 1px rgba(60, 64, 67, 0.15);\n",
              "    fill: #174EA6;\n",
              "  }\n",
              "\n",
              "  [theme=dark] .colab-df-quickchart {\n",
              "    background-color: #3B4455;\n",
              "    fill: #D2E3FC;\n",
              "  }\n",
              "\n",
              "  [theme=dark] .colab-df-quickchart:hover {\n",
              "    background-color: #434B5C;\n",
              "    box-shadow: 0px 1px 3px 1px rgba(0, 0, 0, 0.15);\n",
              "    filter: drop-shadow(0px 1px 2px rgba(0, 0, 0, 0.3));\n",
              "    fill: #FFFFFF;\n",
              "  }\n",
              "</style>\n",
              "\n",
              "  <script>\n",
              "    async function quickchart(key) {\n",
              "      const charts = await google.colab.kernel.invokeFunction(\n",
              "          'suggestCharts', [key], {});\n",
              "    }\n",
              "    (() => {\n",
              "      let quickchartButtonEl =\n",
              "        document.querySelector('#df-dc1afe4a-c3e7-4978-bcc0-d8352ab2c5af button');\n",
              "      quickchartButtonEl.style.display =\n",
              "        google.colab.kernel.accessAllowed ? 'block' : 'none';\n",
              "    })();\n",
              "  </script>\n",
              "</div>\n",
              "    </div>\n",
              "  </div>\n"
            ]
          },
          "metadata": {},
          "execution_count": 554
        }
      ]
    },
    {
      "cell_type": "markdown",
      "source": [
        "### Addition-Minor"
      ],
      "metadata": {
        "id": "fL4VA2o1JcEc"
      }
    },
    {
      "cell_type": "code",
      "source": [
        "def ma_iter(df, ratio, seed):   #0.22 234\n",
        "    df_t = copy_df(df)\n",
        "    np.random.seed(seed)\n",
        "    am_index = random_index(df_t.drop(index=dindex_dict[\"addition\"]), ratio, seed)\n",
        "    result = df_t.loc[am_index]\n",
        "    dindex_dict[\"addition\"]+=list(am_index)\n",
        "\n",
        "    for i in am_index:\n",
        "        cur_hyp = result.loc[i, \"curHyp\"]\n",
        "        sch = cur_hyp.split(\" \")\n",
        "        rand_idx = np.random.choice([i for i in range(len(sch))])\n",
        "        random_dup = sch[rand_idx]\n",
        "        conv_hyp=\" \".join(sch[:rand_idx] + [random_dup] +sch[rand_idx:])\n",
        "        start = conv_hyp.find(random_dup) + len(random_dup) + 1\n",
        "\n",
        "        result.loc[i, \"tagLog\"][\"addition\"] = random_dup\n",
        "        result.loc[i, \"curHyp\"] = conv_hyp\n",
        "        input_errors(result, i, \"minor\", start, random_dup, \"addition\")\n",
        "\n",
        "        try:\n",
        "            o_index = result.loc[i, \"tagLog\"][\"omission\"]\n",
        "            if o_index > start:\n",
        "                result.loc[i, \"tagLog\"][\"omission\"] += (len(random_dup)+1)\n",
        "        except:\n",
        "            pass\n",
        "\n",
        "    return convert_df(df, result)\n",
        "df_miter = ma_iter(df_maad, 0.2, 234)"
      ],
      "metadata": {
        "id": "UXrsrECTJf9u"
      },
      "execution_count": 420,
      "outputs": []
    },
    {
      "cell_type": "code",
      "source": [
        "# am_index = random_index(df_maad.drop(index=dindex_dict[\"addition\"]), 0.22, 234)\n",
        "# df_miter.loc[am_index]"
      ],
      "metadata": {
        "id": "8LW_SzQSQ1kp"
      },
      "execution_count": 421,
      "outputs": []
    },
    {
      "cell_type": "code",
      "source": [
        "check_idx(df_miter)"
      ],
      "metadata": {
        "id": "gxbNseRDz2N9",
        "outputId": "27a16bab-3f2b-477c-b9fe-51b7146756bd",
        "colab": {
          "base_uri": "https://localhost:8080/"
        }
      },
      "execution_count": 422,
      "outputs": [
        {
          "output_type": "stream",
          "name": "stdout",
          "text": [
            "omission: 3190\n",
            "addition: 7712\n",
            "mis-translation: 0\n",
            "over-translation: 0\n",
            "under-translation: 0\n",
            "grammer: 0\n",
            "############################################\n",
            "omission:  3190\n",
            "addition:  7712\n",
            "mis-translation:  0\n",
            "over-translation:  0\n",
            "under-translation:  0\n",
            "grammer:  0\n"
          ]
        }
      ]
    },
    {
      "cell_type": "markdown",
      "metadata": {
        "id": "gdiSv2UYwfkF"
      },
      "source": [
        "## Mis-Translation"
      ]
    },
    {
      "cell_type": "markdown",
      "source": [
        "### MT - Minor"
      ],
      "metadata": {
        "id": "5O8XNfgj2kcJ"
      }
    },
    {
      "cell_type": "code",
      "source": [
        "def hv_mistrans(df, ratio, seed):   # 0.3 789\n",
        "    df_t = copy_df(df)\n",
        "    temp = df_t.drop(index=dindex_dict[\"mis-translation\"]).loc[df_t.curHyp.str.contains(r'하여야 한다')]\n",
        "    can_index = random_index(temp, ratio, seed)\n",
        "    result = df_t.loc[can_index]\n",
        "    ch_words = ['해야만 한다', '해야 할 것이다']\n",
        "    dindex_dict[\"mis-translation\"] += list(can_index)\n",
        "\n",
        "    for i in can_index:\n",
        "        np.random.shuffle(ch_words)\n",
        "        ch_word = ch_words[0]\n",
        "        cur_hyp = result.loc[i, \"curHyp\"]\n",
        "        start = cur_hyp.find('하여야 한다')\n",
        "        conv_hyp = cur_hyp[:start] + ch_word + cur_hyp[start+6:]\n",
        "\n",
        "        result.loc[i, \"tagLog\"][\"mis-translation\"] = ch_word\n",
        "        result.loc[i, 'curHyp'] = conv_hyp\n",
        "        input_errors(result, i, 'minor', start, ch_word, 'mis-translation')\n",
        "\n",
        "        try:\n",
        "            o_index = result.loc[i, \"tagLog\"][\"omission\"]\n",
        "            if o_index > start:\n",
        "                if ch_word == \"해야 할 것이다\":\n",
        "                    result.loc[i, \"tagLog\"][\"omission\"] += 2\n",
        "        except:\n",
        "            pass\n",
        "    return convert_df(df, result)\n",
        "\n",
        "df_can = hv_mistrans(df_miter, 0.3, 789)"
      ],
      "metadata": {
        "id": "eGef5RgVU8Fa"
      },
      "execution_count": 423,
      "outputs": []
    },
    {
      "cell_type": "code",
      "source": [
        "# df_can.loc[df_can.curHyp.str.contains('해야만 한다|해야 할 것이다')]"
      ],
      "metadata": {
        "id": "xpeFyZ3RcEsm"
      },
      "execution_count": 424,
      "outputs": []
    },
    {
      "cell_type": "code",
      "source": [
        "temp = df_can.drop(index=dindex_dict[\"mis-translation\"])\n",
        "# ddo_idx = temp.loc[temp.curHyp.str.contains(r\"\\s또는\\s\")]\n",
        "# mit_idx = temp.loc[temp.curHyp.str.contains(r\"\\s및\\s\")].index\n",
        "# nae_idx = temp.loc[temp.curHyp.str.contains(r\"\\s내지\\s\")].index"
      ],
      "metadata": {
        "id": "lIcMWUvx85EE"
      },
      "execution_count": 425,
      "outputs": []
    },
    {
      "cell_type": "code",
      "source": [
        "def ddo_trans(df, ratio, seed, val):\n",
        "    df_t = copy_df(df)\n",
        "    conv_list = [\"내지\", \"및\", \"또는\"]\n",
        "    conv_list.remove(val)\n",
        "    temp = df_t.drop(index=dindex_dict[\"mis-translation\"])\n",
        "    ival = val+\" \"\n",
        "    ddo_idx = random_index(temp.loc[temp.curHyp.str.contains(ival)], ratio, seed)\n",
        "    dindex_dict[\"mis-translation\"]+=list(ddo_idx)\n",
        "\n",
        "    result = df_t.loc[ddo_idx]\n",
        "    for i in ddo_idx:\n",
        "        np.random.shuffle(conv_list)\n",
        "        conv_word = conv_list[0]\n",
        "        cur_hyp = result.loc[i, \"curHyp\"]\n",
        "        start = cur_hyp.find(ival)\n",
        "        conv_hyp = cur_hyp[:start] + conv_word + cur_hyp[start+len(val):]\n",
        "\n",
        "        result.loc[i, \"tagLog\"][\"mis-translation\"] = conv_word\n",
        "        result.loc[i, \"curHyp\"] = conv_hyp\n",
        "        input_errors(result, i, 'minor', start, conv_word, 'mis-translation')\n",
        "\n",
        "        try:\n",
        "            o_index=result.loc[i, \"tagLog\"][\"omission\"]\n",
        "            if o_index > start:\n",
        "                if len(val) > len(conv_word):\n",
        "                    result.loc[i, \"tagLog\"][\"omission\"]-=(len(val)-len(conv_word))\n",
        "                elif len(val) < len(conv_word):\n",
        "                    result.loc[i, \"tagLog\"][\"omission\"]+=(len(conv_word)-len(val))\n",
        "        except:\n",
        "            pass\n",
        "    return convert_df(df, result)\n",
        "\n",
        "df_ddo = ddo_trans(df_can, 0.2, 555, \"또는\")\n",
        "df_nae = ddo_trans(df_ddo, 0.25, 444, \"내지\")\n",
        "df_mit = ddo_trans(df_nae, 0.3, 333, \"및\")"
      ],
      "metadata": {
        "id": "mjsmqJBB6Ssb"
      },
      "execution_count": 426,
      "outputs": []
    },
    {
      "cell_type": "code",
      "source": [
        "check_idx(df_mit)"
      ],
      "metadata": {
        "id": "JtsnxI6mDL5w",
        "outputId": "29b7ef10-4f04-4715-8428-e51a087d4f23",
        "colab": {
          "base_uri": "https://localhost:8080/"
        }
      },
      "execution_count": 427,
      "outputs": [
        {
          "output_type": "stream",
          "name": "stdout",
          "text": [
            "omission: 3190\n",
            "addition: 7712\n",
            "mis-translation: 3272\n",
            "over-translation: 0\n",
            "under-translation: 0\n",
            "grammer: 0\n",
            "############################################\n",
            "omission:  3190\n",
            "addition:  7712\n",
            "mis-translation:  3272\n",
            "over-translation:  0\n",
            "under-translation:  0\n",
            "grammer:  0\n"
          ]
        }
      ]
    },
    {
      "cell_type": "code",
      "source": [
        "# def hada_trans(df, ratio, seed):\n",
        "#     df_t = copy_df(df)\n",
        "\n",
        "#     df_mit.loc[df_mit.curHyp.str.contains(\"한다\")]\n",
        "# 나중에 해야 인덱스 맞출 수 있을 듯"
      ],
      "metadata": {
        "id": "cbX_b7ohe7hs",
        "outputId": "47012324-28e0-47ee-a956-a658afa4015a",
        "colab": {
          "base_uri": "https://localhost:8080/",
          "height": 4485
        }
      },
      "execution_count": 429,
      "outputs": [
        {
          "output_type": "execute_result",
          "data": {
            "text/plain": [
              "        category                              lawName  \\\n",
              "547121        노동  고용보험 및 산업재해보상보험의 보험료징수 등에 관한 법률 시행령   \n",
              "547123        노동  고용보험 및 산업재해보상보험의 보험료징수 등에 관한 법률 시행령   \n",
              "547124        노동  고용보험 및 산업재해보상보험의 보험료징수 등에 관한 법률 시행령   \n",
              "547125        노동  고용보험 및 산업재해보상보험의 보험료징수 등에 관한 법률 시행령   \n",
              "547126        노동  고용보험 및 산업재해보상보험의 보험료징수 등에 관한 법률 시행령   \n",
              "...          ...                                  ...   \n",
              "78001   통화ㆍ국채ㆍ금융                                  국채법   \n",
              "78003   통화ㆍ국채ㆍ금융                                  국채법   \n",
              "78004   통화ㆍ국채ㆍ금융                                  국채법   \n",
              "78005   통화ㆍ국채ㆍ금융                                  국채법   \n",
              "78006   통화ㆍ국채ㆍ금융                                  국채법   \n",
              "\n",
              "                                                      ENG  \\\n",
              "547121  Where the average monthly remuneration of each...   \n",
              "547123  Where the amount of monthly remuneration of ea...   \n",
              "547124  \"Where any ground prescribed by Presidential D...   \n",
              "547125  The standard remuneration under Article 3 (2) ...   \n",
              "547126  Where an artist falls under any of the followi...   \n",
              "...                                                   ...   \n",
              "78001   The right to receive payments of principal and...   \n",
              "78003   Article 36 (4) and (5) of the Management of th...   \n",
              "78004   The Governor of the Bank of Korea shall file a...   \n",
              "78005   Where necessary to properly issue and manage S...   \n",
              "78006   Any person requested to provide materials rela...   \n",
              "\n",
              "                                                      KOR  \\\n",
              "547121  예술인[「고용보험법」 제77조의2제2항제2호 단서에 따른 단기예술인(이하 \"단기예술...   \n",
              "547123  노무제공자[「고용보험법」 제77조의6제2항제2호 단서에 따른 단기노무제공자(이하 \"...   \n",
              "547124  법 제3조제1항에서 \"대통령령으로 정하는 사유에 해당하는 경우\"란 다음 각 호의 어...   \n",
              "547125  법 제3조제2항(법 제48조의2제8항제2호 및 제48조의3제8항제2호에서 준용하는 ...   \n",
              "547126  예술인이 다음 각 호의 어느 하나에 해당하는 경우 법 제48조의2제8항제2호에서 준...   \n",
              "...                                                   ...   \n",
              "78001   국채의 원금 및 이자를 받을 권리는 5년간 행사하지 아니하면 시효(시효)의 완성으로...   \n",
              "78003   제1항에 따라 한국은행이 처리하는 국채에 관한 사무 중 국채 발행에 따라 수입되는 ...   \n",
              "78004   한국은행 총재는 제15조에 따른 국채에 관한 사무의 처리 내용을 기획재정부령으로 정...   \n",
              "78005   기획재정부장관은 국채의 발행과 관리를 적절하게 하기 위하여 필요한 경우에는 관계 중...   \n",
              "78006   제1항에 따라 국채 관련 자료의 제출을 요청받은 자는 특별한 사유가 없으면 요청에 ...   \n",
              "\n",
              "                                                   curHyp  \\\n",
              "547121  제77조의2제2항제2호 단서에 따른 단기예술인(이하 \"단기예술인\"이라 한다)과 같은...   \n",
              "547123  제77조의6제2항제2호 단서에 따른 단기노무제공자(이하 \"단기노무제공자\"라 한다)와...   \n",
              "547124  법 제3조제1항에서 \"대통령령으로 정하는 사유에 해당하는 경우\"란 다음 각 호의 어...   \n",
              "547125  법 제3조제2항(법 제48조의2제8항제2호 및 제48조의3제8항제2호에서 준용하는 ...   \n",
              "547126   이득에 의한 예술인이 다음 각 호의 어느 하나에 해당하는 경우 법 제48조의2제8...   \n",
              "...                                                   ...   \n",
              "78001   국채의 원금 및 이자를 받을 권리는 5년간 행사하지 아니하면 시효(시효)의 완성으로...   \n",
              "78003   제1항에 따라 한국은행이 처리하는 국채에 관한 사무 중 국채 발행에 따라 수입되는 ...   \n",
              "78004   총재는 제15조에 따른 국채에 관한 사무의 처리 내용을 기획재정부령으로 정하는 바에...   \n",
              "78005   기획재정부장관은 국채의 발행과 관리를 적절하게 하기 위하여 필요한 경우에는 관계 관...   \n",
              "78006   제1항에 따라 국채 관련 자료의 제출을 요청받은 자는 특별한 중계만 사유가 없으면 ...   \n",
              "\n",
              "                                                   errors  \\\n",
              "547121  [{'severity': 'major', 'start_idx': 0, 'text':...   \n",
              "547123  [{'severity': 'major', 'start_idx': 0, 'text':...   \n",
              "547124  [{'severity': 'minor', 'start_idx': 48, 'text'...   \n",
              "547125                                                 []   \n",
              "547126  [{'severity': 'major', 'start_idx': 0, 'text':...   \n",
              "...                                                   ...   \n",
              "78001                                                  []   \n",
              "78003   [{'severity': 'major', 'start_idx': 96, 'text'...   \n",
              "78004   [{'severity': 'major', 'start_idx': 0, 'text':...   \n",
              "78005   [{'severity': 'minor', 'start_idx': 45, 'text'...   \n",
              "78006   [{'severity': 'major', 'start_idx': 34, 'text'...   \n",
              "\n",
              "                                              tagLog  \n",
              "547121           {'omission': 0, 'addition': '기분만의'}  \n",
              "547123                               {'omission': 0}  \n",
              "547124                            {'addition': '어느'}  \n",
              "547125                                            {}  \n",
              "547126                        {'addition': '이득에 의한'}  \n",
              "...                                              ...  \n",
              "78001                                             {}  \n",
              "78003                            {'addition': '신주에'}  \n",
              "78004   {'omission': 0, 'mis-translation': '해야만 한다'}  \n",
              "78005                             {'addition': '관계'}  \n",
              "78006                            {'addition': '중계만'}  \n",
              "\n",
              "[12856 rows x 7 columns]"
            ],
            "text/html": [
              "\n",
              "  <div id=\"df-8db66f7f-9d34-4604-a2da-87fa1ec62a76\" class=\"colab-df-container\">\n",
              "    <div>\n",
              "<style scoped>\n",
              "    .dataframe tbody tr th:only-of-type {\n",
              "        vertical-align: middle;\n",
              "    }\n",
              "\n",
              "    .dataframe tbody tr th {\n",
              "        vertical-align: top;\n",
              "    }\n",
              "\n",
              "    .dataframe thead th {\n",
              "        text-align: right;\n",
              "    }\n",
              "</style>\n",
              "<table border=\"1\" class=\"dataframe\">\n",
              "  <thead>\n",
              "    <tr style=\"text-align: right;\">\n",
              "      <th></th>\n",
              "      <th>category</th>\n",
              "      <th>lawName</th>\n",
              "      <th>ENG</th>\n",
              "      <th>KOR</th>\n",
              "      <th>curHyp</th>\n",
              "      <th>errors</th>\n",
              "      <th>tagLog</th>\n",
              "    </tr>\n",
              "  </thead>\n",
              "  <tbody>\n",
              "    <tr>\n",
              "      <th>547121</th>\n",
              "      <td>노동</td>\n",
              "      <td>고용보험 및 산업재해보상보험의 보험료징수 등에 관한 법률 시행령</td>\n",
              "      <td>Where the average monthly remuneration of each...</td>\n",
              "      <td>예술인[「고용보험법」 제77조의2제2항제2호 단서에 따른 단기예술인(이하 \"단기예술...</td>\n",
              "      <td>제77조의2제2항제2호 단서에 따른 단기예술인(이하 \"단기예술인\"이라 한다)과 같은...</td>\n",
              "      <td>[{'severity': 'major', 'start_idx': 0, 'text':...</td>\n",
              "      <td>{'omission': 0, 'addition': '기분만의'}</td>\n",
              "    </tr>\n",
              "    <tr>\n",
              "      <th>547123</th>\n",
              "      <td>노동</td>\n",
              "      <td>고용보험 및 산업재해보상보험의 보험료징수 등에 관한 법률 시행령</td>\n",
              "      <td>Where the amount of monthly remuneration of ea...</td>\n",
              "      <td>노무제공자[「고용보험법」 제77조의6제2항제2호 단서에 따른 단기노무제공자(이하 \"...</td>\n",
              "      <td>제77조의6제2항제2호 단서에 따른 단기노무제공자(이하 \"단기노무제공자\"라 한다)와...</td>\n",
              "      <td>[{'severity': 'major', 'start_idx': 0, 'text':...</td>\n",
              "      <td>{'omission': 0}</td>\n",
              "    </tr>\n",
              "    <tr>\n",
              "      <th>547124</th>\n",
              "      <td>노동</td>\n",
              "      <td>고용보험 및 산업재해보상보험의 보험료징수 등에 관한 법률 시행령</td>\n",
              "      <td>\"Where any ground prescribed by Presidential D...</td>\n",
              "      <td>법 제3조제1항에서 \"대통령령으로 정하는 사유에 해당하는 경우\"란 다음 각 호의 어...</td>\n",
              "      <td>법 제3조제1항에서 \"대통령령으로 정하는 사유에 해당하는 경우\"란 다음 각 호의 어...</td>\n",
              "      <td>[{'severity': 'minor', 'start_idx': 48, 'text'...</td>\n",
              "      <td>{'addition': '어느'}</td>\n",
              "    </tr>\n",
              "    <tr>\n",
              "      <th>547125</th>\n",
              "      <td>노동</td>\n",
              "      <td>고용보험 및 산업재해보상보험의 보험료징수 등에 관한 법률 시행령</td>\n",
              "      <td>The standard remuneration under Article 3 (2) ...</td>\n",
              "      <td>법 제3조제2항(법 제48조의2제8항제2호 및 제48조의3제8항제2호에서 준용하는 ...</td>\n",
              "      <td>법 제3조제2항(법 제48조의2제8항제2호 및 제48조의3제8항제2호에서 준용하는 ...</td>\n",
              "      <td>[]</td>\n",
              "      <td>{}</td>\n",
              "    </tr>\n",
              "    <tr>\n",
              "      <th>547126</th>\n",
              "      <td>노동</td>\n",
              "      <td>고용보험 및 산업재해보상보험의 보험료징수 등에 관한 법률 시행령</td>\n",
              "      <td>Where an artist falls under any of the followi...</td>\n",
              "      <td>예술인이 다음 각 호의 어느 하나에 해당하는 경우 법 제48조의2제8항제2호에서 준...</td>\n",
              "      <td>이득에 의한 예술인이 다음 각 호의 어느 하나에 해당하는 경우 법 제48조의2제8...</td>\n",
              "      <td>[{'severity': 'major', 'start_idx': 0, 'text':...</td>\n",
              "      <td>{'addition': '이득에 의한'}</td>\n",
              "    </tr>\n",
              "    <tr>\n",
              "      <th>...</th>\n",
              "      <td>...</td>\n",
              "      <td>...</td>\n",
              "      <td>...</td>\n",
              "      <td>...</td>\n",
              "      <td>...</td>\n",
              "      <td>...</td>\n",
              "      <td>...</td>\n",
              "    </tr>\n",
              "    <tr>\n",
              "      <th>78001</th>\n",
              "      <td>통화ㆍ국채ㆍ금융</td>\n",
              "      <td>국채법</td>\n",
              "      <td>The right to receive payments of principal and...</td>\n",
              "      <td>국채의 원금 및 이자를 받을 권리는 5년간 행사하지 아니하면 시효(시효)의 완성으로...</td>\n",
              "      <td>국채의 원금 및 이자를 받을 권리는 5년간 행사하지 아니하면 시효(시효)의 완성으로...</td>\n",
              "      <td>[]</td>\n",
              "      <td>{}</td>\n",
              "    </tr>\n",
              "    <tr>\n",
              "      <th>78003</th>\n",
              "      <td>통화ㆍ국채ㆍ금융</td>\n",
              "      <td>국채법</td>\n",
              "      <td>Article 36 (4) and (5) of the Management of th...</td>\n",
              "      <td>제1항에 따라 한국은행이 처리하는 국채에 관한 사무 중 국채 발행에 따라 수입되는 ...</td>\n",
              "      <td>제1항에 따라 한국은행이 처리하는 국채에 관한 사무 중 국채 발행에 따라 수입되는 ...</td>\n",
              "      <td>[{'severity': 'major', 'start_idx': 96, 'text'...</td>\n",
              "      <td>{'addition': '신주에'}</td>\n",
              "    </tr>\n",
              "    <tr>\n",
              "      <th>78004</th>\n",
              "      <td>통화ㆍ국채ㆍ금융</td>\n",
              "      <td>국채법</td>\n",
              "      <td>The Governor of the Bank of Korea shall file a...</td>\n",
              "      <td>한국은행 총재는 제15조에 따른 국채에 관한 사무의 처리 내용을 기획재정부령으로 정...</td>\n",
              "      <td>총재는 제15조에 따른 국채에 관한 사무의 처리 내용을 기획재정부령으로 정하는 바에...</td>\n",
              "      <td>[{'severity': 'major', 'start_idx': 0, 'text':...</td>\n",
              "      <td>{'omission': 0, 'mis-translation': '해야만 한다'}</td>\n",
              "    </tr>\n",
              "    <tr>\n",
              "      <th>78005</th>\n",
              "      <td>통화ㆍ국채ㆍ금융</td>\n",
              "      <td>국채법</td>\n",
              "      <td>Where necessary to properly issue and manage S...</td>\n",
              "      <td>기획재정부장관은 국채의 발행과 관리를 적절하게 하기 위하여 필요한 경우에는 관계 중...</td>\n",
              "      <td>기획재정부장관은 국채의 발행과 관리를 적절하게 하기 위하여 필요한 경우에는 관계 관...</td>\n",
              "      <td>[{'severity': 'minor', 'start_idx': 45, 'text'...</td>\n",
              "      <td>{'addition': '관계'}</td>\n",
              "    </tr>\n",
              "    <tr>\n",
              "      <th>78006</th>\n",
              "      <td>통화ㆍ국채ㆍ금융</td>\n",
              "      <td>국채법</td>\n",
              "      <td>Any person requested to provide materials rela...</td>\n",
              "      <td>제1항에 따라 국채 관련 자료의 제출을 요청받은 자는 특별한 사유가 없으면 요청에 ...</td>\n",
              "      <td>제1항에 따라 국채 관련 자료의 제출을 요청받은 자는 특별한 중계만 사유가 없으면 ...</td>\n",
              "      <td>[{'severity': 'major', 'start_idx': 34, 'text'...</td>\n",
              "      <td>{'addition': '중계만'}</td>\n",
              "    </tr>\n",
              "  </tbody>\n",
              "</table>\n",
              "<p>12856 rows × 7 columns</p>\n",
              "</div>\n",
              "    <div class=\"colab-df-buttons\">\n",
              "\n",
              "  <div class=\"colab-df-container\">\n",
              "    <button class=\"colab-df-convert\" onclick=\"convertToInteractive('df-8db66f7f-9d34-4604-a2da-87fa1ec62a76')\"\n",
              "            title=\"Convert this dataframe to an interactive table.\"\n",
              "            style=\"display:none;\">\n",
              "\n",
              "  <svg xmlns=\"http://www.w3.org/2000/svg\" height=\"24px\" viewBox=\"0 -960 960 960\">\n",
              "    <path d=\"M120-120v-720h720v720H120Zm60-500h600v-160H180v160Zm220 220h160v-160H400v160Zm0 220h160v-160H400v160ZM180-400h160v-160H180v160Zm440 0h160v-160H620v160ZM180-180h160v-160H180v160Zm440 0h160v-160H620v160Z\"/>\n",
              "  </svg>\n",
              "    </button>\n",
              "\n",
              "  <style>\n",
              "    .colab-df-container {\n",
              "      display:flex;\n",
              "      gap: 12px;\n",
              "    }\n",
              "\n",
              "    .colab-df-convert {\n",
              "      background-color: #E8F0FE;\n",
              "      border: none;\n",
              "      border-radius: 50%;\n",
              "      cursor: pointer;\n",
              "      display: none;\n",
              "      fill: #1967D2;\n",
              "      height: 32px;\n",
              "      padding: 0 0 0 0;\n",
              "      width: 32px;\n",
              "    }\n",
              "\n",
              "    .colab-df-convert:hover {\n",
              "      background-color: #E2EBFA;\n",
              "      box-shadow: 0px 1px 2px rgba(60, 64, 67, 0.3), 0px 1px 3px 1px rgba(60, 64, 67, 0.15);\n",
              "      fill: #174EA6;\n",
              "    }\n",
              "\n",
              "    .colab-df-buttons div {\n",
              "      margin-bottom: 4px;\n",
              "    }\n",
              "\n",
              "    [theme=dark] .colab-df-convert {\n",
              "      background-color: #3B4455;\n",
              "      fill: #D2E3FC;\n",
              "    }\n",
              "\n",
              "    [theme=dark] .colab-df-convert:hover {\n",
              "      background-color: #434B5C;\n",
              "      box-shadow: 0px 1px 3px 1px rgba(0, 0, 0, 0.15);\n",
              "      filter: drop-shadow(0px 1px 2px rgba(0, 0, 0, 0.3));\n",
              "      fill: #FFFFFF;\n",
              "    }\n",
              "  </style>\n",
              "\n",
              "    <script>\n",
              "      const buttonEl =\n",
              "        document.querySelector('#df-8db66f7f-9d34-4604-a2da-87fa1ec62a76 button.colab-df-convert');\n",
              "      buttonEl.style.display =\n",
              "        google.colab.kernel.accessAllowed ? 'block' : 'none';\n",
              "\n",
              "      async function convertToInteractive(key) {\n",
              "        const element = document.querySelector('#df-8db66f7f-9d34-4604-a2da-87fa1ec62a76');\n",
              "        const dataTable =\n",
              "          await google.colab.kernel.invokeFunction('convertToInteractive',\n",
              "                                                    [key], {});\n",
              "        if (!dataTable) return;\n",
              "\n",
              "        const docLinkHtml = 'Like what you see? Visit the ' +\n",
              "          '<a target=\"_blank\" href=https://colab.research.google.com/notebooks/data_table.ipynb>data table notebook</a>'\n",
              "          + ' to learn more about interactive tables.';\n",
              "        element.innerHTML = '';\n",
              "        dataTable['output_type'] = 'display_data';\n",
              "        await google.colab.output.renderOutput(dataTable, element);\n",
              "        const docLink = document.createElement('div');\n",
              "        docLink.innerHTML = docLinkHtml;\n",
              "        element.appendChild(docLink);\n",
              "      }\n",
              "    </script>\n",
              "  </div>\n",
              "\n",
              "\n",
              "<div id=\"df-611b6849-9533-4bd2-a7fd-f2a3bf170e3c\">\n",
              "  <button class=\"colab-df-quickchart\" onclick=\"quickchart('df-611b6849-9533-4bd2-a7fd-f2a3bf170e3c')\"\n",
              "            title=\"Suggest charts.\"\n",
              "            style=\"display:none;\">\n",
              "\n",
              "<svg xmlns=\"http://www.w3.org/2000/svg\" height=\"24px\"viewBox=\"0 0 24 24\"\n",
              "     width=\"24px\">\n",
              "    <g>\n",
              "        <path d=\"M19 3H5c-1.1 0-2 .9-2 2v14c0 1.1.9 2 2 2h14c1.1 0 2-.9 2-2V5c0-1.1-.9-2-2-2zM9 17H7v-7h2v7zm4 0h-2V7h2v10zm4 0h-2v-4h2v4z\"/>\n",
              "    </g>\n",
              "</svg>\n",
              "  </button>\n",
              "\n",
              "<style>\n",
              "  .colab-df-quickchart {\n",
              "    background-color: #E8F0FE;\n",
              "    border: none;\n",
              "    border-radius: 50%;\n",
              "    cursor: pointer;\n",
              "    display: none;\n",
              "    fill: #1967D2;\n",
              "    height: 32px;\n",
              "    padding: 0 0 0 0;\n",
              "    width: 32px;\n",
              "  }\n",
              "\n",
              "  .colab-df-quickchart:hover {\n",
              "    background-color: #E2EBFA;\n",
              "    box-shadow: 0px 1px 2px rgba(60, 64, 67, 0.3), 0px 1px 3px 1px rgba(60, 64, 67, 0.15);\n",
              "    fill: #174EA6;\n",
              "  }\n",
              "\n",
              "  [theme=dark] .colab-df-quickchart {\n",
              "    background-color: #3B4455;\n",
              "    fill: #D2E3FC;\n",
              "  }\n",
              "\n",
              "  [theme=dark] .colab-df-quickchart:hover {\n",
              "    background-color: #434B5C;\n",
              "    box-shadow: 0px 1px 3px 1px rgba(0, 0, 0, 0.15);\n",
              "    filter: drop-shadow(0px 1px 2px rgba(0, 0, 0, 0.3));\n",
              "    fill: #FFFFFF;\n",
              "  }\n",
              "</style>\n",
              "\n",
              "  <script>\n",
              "    async function quickchart(key) {\n",
              "      const charts = await google.colab.kernel.invokeFunction(\n",
              "          'suggestCharts', [key], {});\n",
              "    }\n",
              "    (() => {\n",
              "      let quickchartButtonEl =\n",
              "        document.querySelector('#df-611b6849-9533-4bd2-a7fd-f2a3bf170e3c button');\n",
              "      quickchartButtonEl.style.display =\n",
              "        google.colab.kernel.accessAllowed ? 'block' : 'none';\n",
              "    })();\n",
              "  </script>\n",
              "</div>\n",
              "    </div>\n",
              "  </div>\n"
            ]
          },
          "metadata": {},
          "execution_count": 429
        }
      ]
    },
    {
      "cell_type": "code",
      "source": [
        "# df_mit.loc[df_mit.curHyp.str.contains(\"및\") & df_mit.tagLog.apply(lambda x: set(x.keys())=={\"omission\", \"mis-translation\"})]"
      ],
      "metadata": {
        "id": "BzK4eSaIBqrI"
      },
      "execution_count": 385,
      "outputs": []
    },
    {
      "cell_type": "markdown",
      "source": [
        "### MT - Major"
      ],
      "metadata": {
        "id": "dOph575-U6pJ"
      }
    },
    {
      "cell_type": "code",
      "source": [
        "test = '법 제16조의10제3항 단서에서 \"1개월간 소정근로시간이 60시간 미만인 사람 등 대통령령으로 정하는 근로자\"란 「고용보험법 시행령」 제3조제1항에 따른 고용보험 적용 제외 근로자 및 같은 영 제3조의3제2호 각 목에 해당하는 사람으로서 고용보험 가입을 신청하지 않은 사람을 말한다.'\n",
        "compiler = re.compile(r\"제[\\d]+조[\\s|\\w]*제[\\d]+항\")\n",
        "for f in compiler.finditer(test): print(f)"
      ],
      "metadata": {
        "id": "AZciYBMUVzzO",
        "outputId": "6ede6678-dda5-4396-943f-8ffff5483d88",
        "colab": {
          "base_uri": "https://localhost:8080/"
        }
      },
      "execution_count": 386,
      "outputs": [
        {
          "output_type": "stream",
          "name": "stdout",
          "text": [
            "<re.Match object; span=(2, 12), match='제16조의10제3항'>\n",
            "<re.Match object; span=(75, 81), match='제3조제1항'>\n"
          ]
        }
      ]
    },
    {
      "cell_type": "code",
      "source": [
        "re.split(r\"[^\\d]+\",'제16조의10제3항')"
      ],
      "metadata": {
        "id": "s4f4DjhYXT8i",
        "outputId": "6702e4ed-0317-494d-e077-c0e3fdfb3bd8",
        "colab": {
          "base_uri": "https://localhost:8080/"
        }
      },
      "execution_count": 387,
      "outputs": [
        {
          "output_type": "execute_result",
          "data": {
            "text/plain": [
              "['', '16', '10', '3', '']"
            ]
          },
          "metadata": {},
          "execution_count": 387
        }
      ]
    },
    {
      "cell_type": "code",
      "source": [
        "df_mit.loc[df_mit.curHyp.str.contains(r\"[\\d]+조[\\s|\\w]*제[\\d]+항\")]"
      ],
      "metadata": {
        "id": "qaNalVcEU-gE",
        "outputId": "b1a65083-5b5e-4aec-de66-5fde5aba82eb",
        "colab": {
          "base_uri": "https://localhost:8080/",
          "height": 4386
        }
      },
      "execution_count": 389,
      "outputs": [
        {
          "output_type": "execute_result",
          "data": {
            "text/plain": [
              "        category                              lawName  \\\n",
              "547121        노동  고용보험 및 산업재해보상보험의 보험료징수 등에 관한 법률 시행령   \n",
              "547123        노동  고용보험 및 산업재해보상보험의 보험료징수 등에 관한 법률 시행령   \n",
              "547124        노동  고용보험 및 산업재해보상보험의 보험료징수 등에 관한 법률 시행령   \n",
              "547125        노동  고용보험 및 산업재해보상보험의 보험료징수 등에 관한 법률 시행령   \n",
              "547126        노동  고용보험 및 산업재해보상보험의 보험료징수 등에 관한 법률 시행령   \n",
              "...          ...                                  ...   \n",
              "406311  통화ㆍ국채ㆍ금융                          신용협동조합법 시행령   \n",
              "406314  통화ㆍ국채ㆍ금융                          신용협동조합법 시행령   \n",
              "78003   통화ㆍ국채ㆍ금융                                  국채법   \n",
              "78005   통화ㆍ국채ㆍ금융                                  국채법   \n",
              "406361  통화ㆍ국채ㆍ금융                          신용협동조합법 시행령   \n",
              "\n",
              "                                                      ENG  \\\n",
              "547121  Where the average monthly remuneration of each...   \n",
              "547123  Where the amount of monthly remuneration of ea...   \n",
              "547124  \"Where any ground prescribed by Presidential D...   \n",
              "547125  The standard remuneration under Article 3 (2) ...   \n",
              "547126  Where an artist falls under any of the followi...   \n",
              "...                                                   ...   \n",
              "406311  A union which has an auditor as a standing mem...   \n",
              "406314  Any of the following persons shall be eligible...   \n",
              "78003   Article 36 (4) and (5) of the Management of th...   \n",
              "78005   Where necessary to properly issue and manage S...   \n",
              "406361  Notwithstanding paragraph (3), a workplace cre...   \n",
              "\n",
              "                                                      KOR  \\\n",
              "547121  예술인[「고용보험법」 제77조의2제2항제2호 단서에 따른 단기예술인(이하 \"단기예술...   \n",
              "547123  노무제공자[「고용보험법」 제77조의6제2항제2호 단서에 따른 단기노무제공자(이하 \"...   \n",
              "547124  법 제3조제1항에서 \"대통령령으로 정하는 사유에 해당하는 경우\"란 다음 각 호의 어...   \n",
              "547125  법 제3조제2항(법 제48조의2제8항제2호 및 제48조의3제8항제2호에서 준용하는 ...   \n",
              "547126  예술인이 다음 각 호의 어느 하나에 해당하는 경우 법 제48조의2제8항제2호에서 준...   \n",
              "...                                                   ...   \n",
              "406311  제14조제5항에 따라 감사를 상임으로 하는 조합은 같은 항에 따른 요건에 해당하게 ...   \n",
              "406314  법 제27조제6항 또는 제8항 및 이 영 제14조제1항 또는 제5항에 따라 상임이사...   \n",
              "78003   제1항에 따라 한국은행이 처리하는 국채에 관한 사무 중 국채 발행에 따라 수입되는 ...   \n",
              "78005   기획재정부장관은 국채의 발행과 관리를 적절하게 하기 위하여 필요한 경우에는 관계 중...   \n",
              "406361  제3항의 규정에 불구하고 제12조제1항제2호의 직장조합 및 동항제3호 라목의 단체조...   \n",
              "\n",
              "                                                   curHyp  \\\n",
              "547121  제77조의2제2항제2호 단서에 따른 단기예술인(이하 \"단기예술인\"이라 한다)과 같은...   \n",
              "547123  제77조의6제2항제2호 단서에 따른 단기노무제공자(이하 \"단기노무제공자\"라 한다)와...   \n",
              "547124  법 제3조제1항에서 \"대통령령으로 정하는 사유에 해당하는 경우\"란 다음 각 호의 어...   \n",
              "547125  법 제3조제2항(법 제48조의2제8항제2호 및 제48조의3제8항제2호에서 준용하는 ...   \n",
              "547126   이득에 의한 예술인이 다음 각 호의 어느 하나에 해당하는 경우 법 제48조의2제8...   \n",
              "...                                                   ...   \n",
              "406311  제14조제5항에 따라 감사를 상임으로 하는 조합은 같은 항에 따른 요건에 해당하게 ...   \n",
              "406314  법 제27조제6항 또는 제8항 및 이 영 제14조제1항 또는 제5항에 따라 상임이사...   \n",
              "78003   제1항에 따라 한국은행이 처리하는 국채에 관한 사무 중 국채 발행에 따라 수입되는 ...   \n",
              "78005   기획재정부장관은 국채의 발행과 관리를 적절하게 하기 위하여 필요한 경우에는 관계 관...   \n",
              "406361  제3항의 규정에 불구하고 제12조제1항제2호의 직장조합 및 동항제3호 라목의 단체조...   \n",
              "\n",
              "                                                   errors  \\\n",
              "547121  [{'severity': 'major', 'start_idx': 0, 'text':...   \n",
              "547123  [{'severity': 'major', 'start_idx': 0, 'text':...   \n",
              "547124  [{'severity': 'minor', 'start_idx': 45, 'text'...   \n",
              "547125                                                 []   \n",
              "547126  [{'severity': 'major', 'start_idx': 0, 'text':...   \n",
              "...                                                   ...   \n",
              "406311  [{'severity': 'major', 'start_idx': 54, 'text'...   \n",
              "406314                                                 []   \n",
              "78003   [{'severity': 'major', 'start_idx': 96, 'text'...   \n",
              "78005   [{'severity': 'minor', 'start_idx': 42, 'text'...   \n",
              "406361  [{'severity': 'neutral', 'start_idx': 106, 'te...   \n",
              "\n",
              "                                     tagLog  \n",
              "547121  {'omission': 0, 'addition': '기분만의'}  \n",
              "547123                      {'omission': 0}  \n",
              "547124                   {'addition': '어느'}  \n",
              "547125                                   {}  \n",
              "547126               {'addition': '이득에 의한'}  \n",
              "...                                     ...  \n",
              "406311                  {'addition': '청취만'}  \n",
              "406314                                   {}  \n",
              "78003                   {'addition': '신주에'}  \n",
              "78005                    {'addition': '관계'}  \n",
              "406361                    {'omission': 106}  \n",
              "\n",
              "[6698 rows x 7 columns]"
            ],
            "text/html": [
              "\n",
              "  <div id=\"df-bc056c5b-2e4f-402f-9744-03c8f7b369c9\" class=\"colab-df-container\">\n",
              "    <div>\n",
              "<style scoped>\n",
              "    .dataframe tbody tr th:only-of-type {\n",
              "        vertical-align: middle;\n",
              "    }\n",
              "\n",
              "    .dataframe tbody tr th {\n",
              "        vertical-align: top;\n",
              "    }\n",
              "\n",
              "    .dataframe thead th {\n",
              "        text-align: right;\n",
              "    }\n",
              "</style>\n",
              "<table border=\"1\" class=\"dataframe\">\n",
              "  <thead>\n",
              "    <tr style=\"text-align: right;\">\n",
              "      <th></th>\n",
              "      <th>category</th>\n",
              "      <th>lawName</th>\n",
              "      <th>ENG</th>\n",
              "      <th>KOR</th>\n",
              "      <th>curHyp</th>\n",
              "      <th>errors</th>\n",
              "      <th>tagLog</th>\n",
              "    </tr>\n",
              "  </thead>\n",
              "  <tbody>\n",
              "    <tr>\n",
              "      <th>547121</th>\n",
              "      <td>노동</td>\n",
              "      <td>고용보험 및 산업재해보상보험의 보험료징수 등에 관한 법률 시행령</td>\n",
              "      <td>Where the average monthly remuneration of each...</td>\n",
              "      <td>예술인[「고용보험법」 제77조의2제2항제2호 단서에 따른 단기예술인(이하 \"단기예술...</td>\n",
              "      <td>제77조의2제2항제2호 단서에 따른 단기예술인(이하 \"단기예술인\"이라 한다)과 같은...</td>\n",
              "      <td>[{'severity': 'major', 'start_idx': 0, 'text':...</td>\n",
              "      <td>{'omission': 0, 'addition': '기분만의'}</td>\n",
              "    </tr>\n",
              "    <tr>\n",
              "      <th>547123</th>\n",
              "      <td>노동</td>\n",
              "      <td>고용보험 및 산업재해보상보험의 보험료징수 등에 관한 법률 시행령</td>\n",
              "      <td>Where the amount of monthly remuneration of ea...</td>\n",
              "      <td>노무제공자[「고용보험법」 제77조의6제2항제2호 단서에 따른 단기노무제공자(이하 \"...</td>\n",
              "      <td>제77조의6제2항제2호 단서에 따른 단기노무제공자(이하 \"단기노무제공자\"라 한다)와...</td>\n",
              "      <td>[{'severity': 'major', 'start_idx': 0, 'text':...</td>\n",
              "      <td>{'omission': 0}</td>\n",
              "    </tr>\n",
              "    <tr>\n",
              "      <th>547124</th>\n",
              "      <td>노동</td>\n",
              "      <td>고용보험 및 산업재해보상보험의 보험료징수 등에 관한 법률 시행령</td>\n",
              "      <td>\"Where any ground prescribed by Presidential D...</td>\n",
              "      <td>법 제3조제1항에서 \"대통령령으로 정하는 사유에 해당하는 경우\"란 다음 각 호의 어...</td>\n",
              "      <td>법 제3조제1항에서 \"대통령령으로 정하는 사유에 해당하는 경우\"란 다음 각 호의 어...</td>\n",
              "      <td>[{'severity': 'minor', 'start_idx': 45, 'text'...</td>\n",
              "      <td>{'addition': '어느'}</td>\n",
              "    </tr>\n",
              "    <tr>\n",
              "      <th>547125</th>\n",
              "      <td>노동</td>\n",
              "      <td>고용보험 및 산업재해보상보험의 보험료징수 등에 관한 법률 시행령</td>\n",
              "      <td>The standard remuneration under Article 3 (2) ...</td>\n",
              "      <td>법 제3조제2항(법 제48조의2제8항제2호 및 제48조의3제8항제2호에서 준용하는 ...</td>\n",
              "      <td>법 제3조제2항(법 제48조의2제8항제2호 및 제48조의3제8항제2호에서 준용하는 ...</td>\n",
              "      <td>[]</td>\n",
              "      <td>{}</td>\n",
              "    </tr>\n",
              "    <tr>\n",
              "      <th>547126</th>\n",
              "      <td>노동</td>\n",
              "      <td>고용보험 및 산업재해보상보험의 보험료징수 등에 관한 법률 시행령</td>\n",
              "      <td>Where an artist falls under any of the followi...</td>\n",
              "      <td>예술인이 다음 각 호의 어느 하나에 해당하는 경우 법 제48조의2제8항제2호에서 준...</td>\n",
              "      <td>이득에 의한 예술인이 다음 각 호의 어느 하나에 해당하는 경우 법 제48조의2제8...</td>\n",
              "      <td>[{'severity': 'major', 'start_idx': 0, 'text':...</td>\n",
              "      <td>{'addition': '이득에 의한'}</td>\n",
              "    </tr>\n",
              "    <tr>\n",
              "      <th>...</th>\n",
              "      <td>...</td>\n",
              "      <td>...</td>\n",
              "      <td>...</td>\n",
              "      <td>...</td>\n",
              "      <td>...</td>\n",
              "      <td>...</td>\n",
              "      <td>...</td>\n",
              "    </tr>\n",
              "    <tr>\n",
              "      <th>406311</th>\n",
              "      <td>통화ㆍ국채ㆍ금융</td>\n",
              "      <td>신용협동조합법 시행령</td>\n",
              "      <td>A union which has an auditor as a standing mem...</td>\n",
              "      <td>제14조제5항에 따라 감사를 상임으로 하는 조합은 같은 항에 따른 요건에 해당하게 ...</td>\n",
              "      <td>제14조제5항에 따라 감사를 상임으로 하는 조합은 같은 항에 따른 요건에 해당하게 ...</td>\n",
              "      <td>[{'severity': 'major', 'start_idx': 54, 'text'...</td>\n",
              "      <td>{'addition': '청취만'}</td>\n",
              "    </tr>\n",
              "    <tr>\n",
              "      <th>406314</th>\n",
              "      <td>통화ㆍ국채ㆍ금융</td>\n",
              "      <td>신용협동조합법 시행령</td>\n",
              "      <td>Any of the following persons shall be eligible...</td>\n",
              "      <td>법 제27조제6항 또는 제8항 및 이 영 제14조제1항 또는 제5항에 따라 상임이사...</td>\n",
              "      <td>법 제27조제6항 또는 제8항 및 이 영 제14조제1항 또는 제5항에 따라 상임이사...</td>\n",
              "      <td>[]</td>\n",
              "      <td>{}</td>\n",
              "    </tr>\n",
              "    <tr>\n",
              "      <th>78003</th>\n",
              "      <td>통화ㆍ국채ㆍ금융</td>\n",
              "      <td>국채법</td>\n",
              "      <td>Article 36 (4) and (5) of the Management of th...</td>\n",
              "      <td>제1항에 따라 한국은행이 처리하는 국채에 관한 사무 중 국채 발행에 따라 수입되는 ...</td>\n",
              "      <td>제1항에 따라 한국은행이 처리하는 국채에 관한 사무 중 국채 발행에 따라 수입되는 ...</td>\n",
              "      <td>[{'severity': 'major', 'start_idx': 96, 'text'...</td>\n",
              "      <td>{'addition': '신주에'}</td>\n",
              "    </tr>\n",
              "    <tr>\n",
              "      <th>78005</th>\n",
              "      <td>통화ㆍ국채ㆍ금융</td>\n",
              "      <td>국채법</td>\n",
              "      <td>Where necessary to properly issue and manage S...</td>\n",
              "      <td>기획재정부장관은 국채의 발행과 관리를 적절하게 하기 위하여 필요한 경우에는 관계 중...</td>\n",
              "      <td>기획재정부장관은 국채의 발행과 관리를 적절하게 하기 위하여 필요한 경우에는 관계 관...</td>\n",
              "      <td>[{'severity': 'minor', 'start_idx': 42, 'text'...</td>\n",
              "      <td>{'addition': '관계'}</td>\n",
              "    </tr>\n",
              "    <tr>\n",
              "      <th>406361</th>\n",
              "      <td>통화ㆍ국채ㆍ금융</td>\n",
              "      <td>신용협동조합법 시행령</td>\n",
              "      <td>Notwithstanding paragraph (3), a workplace cre...</td>\n",
              "      <td>제3항의 규정에 불구하고 제12조제1항제2호의 직장조합 및 동항제3호 라목의 단체조...</td>\n",
              "      <td>제3항의 규정에 불구하고 제12조제1항제2호의 직장조합 및 동항제3호 라목의 단체조...</td>\n",
              "      <td>[{'severity': 'neutral', 'start_idx': 106, 'te...</td>\n",
              "      <td>{'omission': 106}</td>\n",
              "    </tr>\n",
              "  </tbody>\n",
              "</table>\n",
              "<p>6698 rows × 7 columns</p>\n",
              "</div>\n",
              "    <div class=\"colab-df-buttons\">\n",
              "\n",
              "  <div class=\"colab-df-container\">\n",
              "    <button class=\"colab-df-convert\" onclick=\"convertToInteractive('df-bc056c5b-2e4f-402f-9744-03c8f7b369c9')\"\n",
              "            title=\"Convert this dataframe to an interactive table.\"\n",
              "            style=\"display:none;\">\n",
              "\n",
              "  <svg xmlns=\"http://www.w3.org/2000/svg\" height=\"24px\" viewBox=\"0 -960 960 960\">\n",
              "    <path d=\"M120-120v-720h720v720H120Zm60-500h600v-160H180v160Zm220 220h160v-160H400v160Zm0 220h160v-160H400v160ZM180-400h160v-160H180v160Zm440 0h160v-160H620v160ZM180-180h160v-160H180v160Zm440 0h160v-160H620v160Z\"/>\n",
              "  </svg>\n",
              "    </button>\n",
              "\n",
              "  <style>\n",
              "    .colab-df-container {\n",
              "      display:flex;\n",
              "      gap: 12px;\n",
              "    }\n",
              "\n",
              "    .colab-df-convert {\n",
              "      background-color: #E8F0FE;\n",
              "      border: none;\n",
              "      border-radius: 50%;\n",
              "      cursor: pointer;\n",
              "      display: none;\n",
              "      fill: #1967D2;\n",
              "      height: 32px;\n",
              "      padding: 0 0 0 0;\n",
              "      width: 32px;\n",
              "    }\n",
              "\n",
              "    .colab-df-convert:hover {\n",
              "      background-color: #E2EBFA;\n",
              "      box-shadow: 0px 1px 2px rgba(60, 64, 67, 0.3), 0px 1px 3px 1px rgba(60, 64, 67, 0.15);\n",
              "      fill: #174EA6;\n",
              "    }\n",
              "\n",
              "    .colab-df-buttons div {\n",
              "      margin-bottom: 4px;\n",
              "    }\n",
              "\n",
              "    [theme=dark] .colab-df-convert {\n",
              "      background-color: #3B4455;\n",
              "      fill: #D2E3FC;\n",
              "    }\n",
              "\n",
              "    [theme=dark] .colab-df-convert:hover {\n",
              "      background-color: #434B5C;\n",
              "      box-shadow: 0px 1px 3px 1px rgba(0, 0, 0, 0.15);\n",
              "      filter: drop-shadow(0px 1px 2px rgba(0, 0, 0, 0.3));\n",
              "      fill: #FFFFFF;\n",
              "    }\n",
              "  </style>\n",
              "\n",
              "    <script>\n",
              "      const buttonEl =\n",
              "        document.querySelector('#df-bc056c5b-2e4f-402f-9744-03c8f7b369c9 button.colab-df-convert');\n",
              "      buttonEl.style.display =\n",
              "        google.colab.kernel.accessAllowed ? 'block' : 'none';\n",
              "\n",
              "      async function convertToInteractive(key) {\n",
              "        const element = document.querySelector('#df-bc056c5b-2e4f-402f-9744-03c8f7b369c9');\n",
              "        const dataTable =\n",
              "          await google.colab.kernel.invokeFunction('convertToInteractive',\n",
              "                                                    [key], {});\n",
              "        if (!dataTable) return;\n",
              "\n",
              "        const docLinkHtml = 'Like what you see? Visit the ' +\n",
              "          '<a target=\"_blank\" href=https://colab.research.google.com/notebooks/data_table.ipynb>data table notebook</a>'\n",
              "          + ' to learn more about interactive tables.';\n",
              "        element.innerHTML = '';\n",
              "        dataTable['output_type'] = 'display_data';\n",
              "        await google.colab.output.renderOutput(dataTable, element);\n",
              "        const docLink = document.createElement('div');\n",
              "        docLink.innerHTML = docLinkHtml;\n",
              "        element.appendChild(docLink);\n",
              "      }\n",
              "    </script>\n",
              "  </div>\n",
              "\n",
              "\n",
              "<div id=\"df-0940d2b8-7a88-4b51-be53-da27d09d13c4\">\n",
              "  <button class=\"colab-df-quickchart\" onclick=\"quickchart('df-0940d2b8-7a88-4b51-be53-da27d09d13c4')\"\n",
              "            title=\"Suggest charts.\"\n",
              "            style=\"display:none;\">\n",
              "\n",
              "<svg xmlns=\"http://www.w3.org/2000/svg\" height=\"24px\"viewBox=\"0 0 24 24\"\n",
              "     width=\"24px\">\n",
              "    <g>\n",
              "        <path d=\"M19 3H5c-1.1 0-2 .9-2 2v14c0 1.1.9 2 2 2h14c1.1 0 2-.9 2-2V5c0-1.1-.9-2-2-2zM9 17H7v-7h2v7zm4 0h-2V7h2v10zm4 0h-2v-4h2v4z\"/>\n",
              "    </g>\n",
              "</svg>\n",
              "  </button>\n",
              "\n",
              "<style>\n",
              "  .colab-df-quickchart {\n",
              "    background-color: #E8F0FE;\n",
              "    border: none;\n",
              "    border-radius: 50%;\n",
              "    cursor: pointer;\n",
              "    display: none;\n",
              "    fill: #1967D2;\n",
              "    height: 32px;\n",
              "    padding: 0 0 0 0;\n",
              "    width: 32px;\n",
              "  }\n",
              "\n",
              "  .colab-df-quickchart:hover {\n",
              "    background-color: #E2EBFA;\n",
              "    box-shadow: 0px 1px 2px rgba(60, 64, 67, 0.3), 0px 1px 3px 1px rgba(60, 64, 67, 0.15);\n",
              "    fill: #174EA6;\n",
              "  }\n",
              "\n",
              "  [theme=dark] .colab-df-quickchart {\n",
              "    background-color: #3B4455;\n",
              "    fill: #D2E3FC;\n",
              "  }\n",
              "\n",
              "  [theme=dark] .colab-df-quickchart:hover {\n",
              "    background-color: #434B5C;\n",
              "    box-shadow: 0px 1px 3px 1px rgba(0, 0, 0, 0.15);\n",
              "    filter: drop-shadow(0px 1px 2px rgba(0, 0, 0, 0.3));\n",
              "    fill: #FFFFFF;\n",
              "  }\n",
              "</style>\n",
              "\n",
              "  <script>\n",
              "    async function quickchart(key) {\n",
              "      const charts = await google.colab.kernel.invokeFunction(\n",
              "          'suggestCharts', [key], {});\n",
              "    }\n",
              "    (() => {\n",
              "      let quickchartButtonEl =\n",
              "        document.querySelector('#df-0940d2b8-7a88-4b51-be53-da27d09d13c4 button');\n",
              "      quickchartButtonEl.style.display =\n",
              "        google.colab.kernel.accessAllowed ? 'block' : 'none';\n",
              "    })();\n",
              "  </script>\n",
              "</div>\n",
              "    </div>\n",
              "  </div>\n"
            ]
          },
          "metadata": {},
          "execution_count": 389
        }
      ]
    },
    {
      "cell_type": "code",
      "source": [
        "df_mit.loc[df_mit.errors.apply(len)>0].shape"
      ],
      "metadata": {
        "id": "ODFCZZTGdKsY",
        "outputId": "34ee2737-31d6-4ba6-94d9-8021faea7a52",
        "colab": {
          "base_uri": "https://localhost:8080/"
        }
      },
      "execution_count": 392,
      "outputs": [
        {
          "output_type": "execute_result",
          "data": {
            "text/plain": [
              "(11526, 7)"
            ]
          },
          "metadata": {},
          "execution_count": 392
        }
      ]
    },
    {
      "cell_type": "markdown",
      "source": [
        "## Over / Under Translation"
      ],
      "metadata": {
        "id": "egVHyaqyUT_D"
      }
    },
    {
      "cell_type": "markdown",
      "source": [
        "- 준용하다 -> 적용하다 : 과잉번역\n",
        "- 적용하다 -> 준용하다 : 과소번역"
      ],
      "metadata": {
        "id": "MuWGEuVPUexu"
      }
    },
    {
      "cell_type": "code",
      "source": [
        "def jy_trans(df, ratio, seedp):\n",
        ""
      ],
      "metadata": {
        "id": "w7e41vLxGQD0",
        "outputId": "e3042b9c-8b52-4311-8003-691c80fc0148",
        "colab": {
          "base_uri": "https://localhost:8080/",
          "height": 1000
        }
      },
      "execution_count": 325,
      "outputs": [
        {
          "output_type": "execute_result",
          "data": {
            "text/plain": [
              "        category                  lawName  \\\n",
              "394179  통화ㆍ국채ㆍ금융  경제자유구역의 지정 및 운영에 관한 특별법   \n",
              "394247  통화ㆍ국채ㆍ금융  경제자유구역의 지정 및 운영에 관한 특별법   \n",
              "394294  통화ㆍ국채ㆍ금융  경제자유구역의 지정 및 운영에 관한 특별법   \n",
              "394312  통화ㆍ국채ㆍ금융  경제자유구역의 지정 및 운영에 관한 특별법   \n",
              "394347  통화ㆍ국채ㆍ금융  경제자유구역의 지정 및 운영에 관한 특별법   \n",
              "...          ...                      ...   \n",
              "194419        노동            산업재해보상보험법 시행령   \n",
              "194464        노동            산업재해보상보험법 시행령   \n",
              "194470        노동            산업재해보상보험법 시행령   \n",
              "194496        노동            산업재해보상보험법 시행령   \n",
              "78003   통화ㆍ국채ㆍ금융                      국채법   \n",
              "\n",
              "                                                      ENG  \\\n",
              "394179  Paragraphs (2) and (3) shall apply mutatis mut...   \n",
              "394247  Provisions of Articles 4 through 6 shall apply...   \n",
              "394294  Article 7 (3) and (4) shall apply mutatis muta...   \n",
              "394312  Article 4 (1) through (5), (8), and (9) shall ...   \n",
              "394347  Where the Mayor/Do Governor revokes the design...   \n",
              "...                                                   ...   \n",
              "194419  The main clause of Article 107 (1) and paragra...   \n",
              "194464  Articles 21 through 85, 96 through 98, 101 thr...   \n",
              "194470  Articles 27, 28, 30 through 35, and 36 shall a...   \n",
              "194496  Articles 27 through 36 shall apply mutatis mut...   \n",
              "78003   Article 36 (4) and (5) of the Management of th...   \n",
              "\n",
              "                                                      KOR  \\\n",
              "394179              경제자유구역기본계획의 변경에 관하여는 제2항 및 제3항을 준용한다.   \n",
              "394247  제1항 및 제2항에 따른 변경의 절차 및 요건에 관하여는 제4조부터 제6조까지의 규...   \n",
              "394294  제1항에 따른 경제자유구역개발계획의 변경 절차에 대해서는 제7조제3항 및 제4항을 ...   \n",
              "394312  제1항에 따른 경제자유구역의 지정 해제에 관하여는 제4조제1항부터 제5항까지, 제8...   \n",
              "394347  시·도지사는 제1항에 따라 개발사업시행자의 지정을 취소한 경우에는 새로운 개발사업시...   \n",
              "...                                                   ...   \n",
              "194419  소위원회의 운영에 관하여는 제107조제1항 본문, 같은 조 제2항·제4항 및 제5항...   \n",
              "194464  법 제123조에 따른 현장실습생에게 보험급여를 지급하는 경우 등에 관하여는 제21조...   \n",
              "194470  법 제124조제2항에 따른 중·소기업 사업주에 대한 업무상의 재해의 인정 범위에 관...   \n",
              "194496  특수형태근로종사자에 대한 업무상의 재해의 인정 기준에 관하여는 제27조부터 제36조...   \n",
              "78003   제1항에 따라 한국은행이 처리하는 국채에 관한 사무 중 국채 발행에 따라 수입되는 ...   \n",
              "\n",
              "                                                   curHyp  \\\n",
              "394179              경제자유구역기본계획의 변경에 관하여는 제2항 및 제3항을 준용한다.   \n",
              "394247  제1항 및 제2항에 따른 변경의 절차 및 요건에 관하여는 제4조부터 제6조까지의 규...   \n",
              "394294  제1항에 따른 경제자유구역개발계획의 변경 부족만 절차에 대해서는 제7조제3항 및 제...   \n",
              "394312  제1항에 따른 알림만의 경제자유구역의 지정 해제에 관하여는 제4조제1항부터 제5항까...   \n",
              "394347  시·도지사는 제1항에 따라 개발사업시행자의 지정을 취소한 경우에는 새로운 개발사업시...   \n",
              "...                                                   ...   \n",
              "194419  소위원회의 운영에 관하여는 제107조제1항 본문, 같은 조 제2항·제4항 및 제5항...   \n",
              "194464  법 제123조에 따른 현장실습생에게 보험급여를 지급하는 경우 등에 관하여는 제21조...   \n",
              "194470  법 제124조제2항에 따른 중·소기업 사업주에 대한 업무상의 재해의 인정 범위에 관...   \n",
              "194496  특수형태근로종사자에 대한 업무상의 재해의 인정 기준에 관하여는 제27조부터 제36조...   \n",
              "78003   제1항에 따라 한국은행이 처리하는 국채에 관한 사무 중 국채 발행에 따라 수입되는 ...   \n",
              "\n",
              "                                                   errors  \\\n",
              "394179                                                 []   \n",
              "394247                                                 []   \n",
              "394294  [{'severity': 'major', 'start_idx': 23, 'text'...   \n",
              "394312  [{'severity': 'major', 'start_idx': 8, 'text':...   \n",
              "394347                                                 []   \n",
              "...                                                   ...   \n",
              "194419  [{'severity': 'major', 'start_idx': 66, 'text'...   \n",
              "194464                                                 []   \n",
              "194470  [{'severity': 'major', 'start_idx': 95, 'text'...   \n",
              "194496                                                 []   \n",
              "78003   [{'severity': 'major', 'start_idx': 96, 'text'...   \n",
              "\n",
              "                                               tagLog  \n",
              "394179                                             {}  \n",
              "394247                                             {}  \n",
              "394294                            {'addition': '부족만'}  \n",
              "394312  {'addition': '알림만의', 'mis-translation': '내지'}  \n",
              "394347                                             {}  \n",
              "...                                               ...  \n",
              "194419                               {'omission': 66}  \n",
              "194464                                             {}  \n",
              "194470      {'omission': 96, 'mis-translation': '내지'}  \n",
              "194496                                             {}  \n",
              "78003                             {'addition': '신주에'}  \n",
              "\n",
              "[542 rows x 7 columns]"
            ],
            "text/html": [
              "\n",
              "  <div id=\"df-639057ba-1e62-404b-a7ed-755814c48e3b\" class=\"colab-df-container\">\n",
              "    <div>\n",
              "<style scoped>\n",
              "    .dataframe tbody tr th:only-of-type {\n",
              "        vertical-align: middle;\n",
              "    }\n",
              "\n",
              "    .dataframe tbody tr th {\n",
              "        vertical-align: top;\n",
              "    }\n",
              "\n",
              "    .dataframe thead th {\n",
              "        text-align: right;\n",
              "    }\n",
              "</style>\n",
              "<table border=\"1\" class=\"dataframe\">\n",
              "  <thead>\n",
              "    <tr style=\"text-align: right;\">\n",
              "      <th></th>\n",
              "      <th>category</th>\n",
              "      <th>lawName</th>\n",
              "      <th>ENG</th>\n",
              "      <th>KOR</th>\n",
              "      <th>curHyp</th>\n",
              "      <th>errors</th>\n",
              "      <th>tagLog</th>\n",
              "    </tr>\n",
              "  </thead>\n",
              "  <tbody>\n",
              "    <tr>\n",
              "      <th>394179</th>\n",
              "      <td>통화ㆍ국채ㆍ금융</td>\n",
              "      <td>경제자유구역의 지정 및 운영에 관한 특별법</td>\n",
              "      <td>Paragraphs (2) and (3) shall apply mutatis mut...</td>\n",
              "      <td>경제자유구역기본계획의 변경에 관하여는 제2항 및 제3항을 준용한다.</td>\n",
              "      <td>경제자유구역기본계획의 변경에 관하여는 제2항 및 제3항을 준용한다.</td>\n",
              "      <td>[]</td>\n",
              "      <td>{}</td>\n",
              "    </tr>\n",
              "    <tr>\n",
              "      <th>394247</th>\n",
              "      <td>통화ㆍ국채ㆍ금융</td>\n",
              "      <td>경제자유구역의 지정 및 운영에 관한 특별법</td>\n",
              "      <td>Provisions of Articles 4 through 6 shall apply...</td>\n",
              "      <td>제1항 및 제2항에 따른 변경의 절차 및 요건에 관하여는 제4조부터 제6조까지의 규...</td>\n",
              "      <td>제1항 및 제2항에 따른 변경의 절차 및 요건에 관하여는 제4조부터 제6조까지의 규...</td>\n",
              "      <td>[]</td>\n",
              "      <td>{}</td>\n",
              "    </tr>\n",
              "    <tr>\n",
              "      <th>394294</th>\n",
              "      <td>통화ㆍ국채ㆍ금융</td>\n",
              "      <td>경제자유구역의 지정 및 운영에 관한 특별법</td>\n",
              "      <td>Article 7 (3) and (4) shall apply mutatis muta...</td>\n",
              "      <td>제1항에 따른 경제자유구역개발계획의 변경 절차에 대해서는 제7조제3항 및 제4항을 ...</td>\n",
              "      <td>제1항에 따른 경제자유구역개발계획의 변경 부족만 절차에 대해서는 제7조제3항 및 제...</td>\n",
              "      <td>[{'severity': 'major', 'start_idx': 23, 'text'...</td>\n",
              "      <td>{'addition': '부족만'}</td>\n",
              "    </tr>\n",
              "    <tr>\n",
              "      <th>394312</th>\n",
              "      <td>통화ㆍ국채ㆍ금융</td>\n",
              "      <td>경제자유구역의 지정 및 운영에 관한 특별법</td>\n",
              "      <td>Article 4 (1) through (5), (8), and (9) shall ...</td>\n",
              "      <td>제1항에 따른 경제자유구역의 지정 해제에 관하여는 제4조제1항부터 제5항까지, 제8...</td>\n",
              "      <td>제1항에 따른 알림만의 경제자유구역의 지정 해제에 관하여는 제4조제1항부터 제5항까...</td>\n",
              "      <td>[{'severity': 'major', 'start_idx': 8, 'text':...</td>\n",
              "      <td>{'addition': '알림만의', 'mis-translation': '내지'}</td>\n",
              "    </tr>\n",
              "    <tr>\n",
              "      <th>394347</th>\n",
              "      <td>통화ㆍ국채ㆍ금융</td>\n",
              "      <td>경제자유구역의 지정 및 운영에 관한 특별법</td>\n",
              "      <td>Where the Mayor/Do Governor revokes the design...</td>\n",
              "      <td>시·도지사는 제1항에 따라 개발사업시행자의 지정을 취소한 경우에는 새로운 개발사업시...</td>\n",
              "      <td>시·도지사는 제1항에 따라 개발사업시행자의 지정을 취소한 경우에는 새로운 개발사업시...</td>\n",
              "      <td>[]</td>\n",
              "      <td>{}</td>\n",
              "    </tr>\n",
              "    <tr>\n",
              "      <th>...</th>\n",
              "      <td>...</td>\n",
              "      <td>...</td>\n",
              "      <td>...</td>\n",
              "      <td>...</td>\n",
              "      <td>...</td>\n",
              "      <td>...</td>\n",
              "      <td>...</td>\n",
              "    </tr>\n",
              "    <tr>\n",
              "      <th>194419</th>\n",
              "      <td>노동</td>\n",
              "      <td>산업재해보상보험법 시행령</td>\n",
              "      <td>The main clause of Article 107 (1) and paragra...</td>\n",
              "      <td>소위원회의 운영에 관하여는 제107조제1항 본문, 같은 조 제2항·제4항 및 제5항...</td>\n",
              "      <td>소위원회의 운영에 관하여는 제107조제1항 본문, 같은 조 제2항·제4항 및 제5항...</td>\n",
              "      <td>[{'severity': 'major', 'start_idx': 66, 'text'...</td>\n",
              "      <td>{'omission': 66}</td>\n",
              "    </tr>\n",
              "    <tr>\n",
              "      <th>194464</th>\n",
              "      <td>노동</td>\n",
              "      <td>산업재해보상보험법 시행령</td>\n",
              "      <td>Articles 21 through 85, 96 through 98, 101 thr...</td>\n",
              "      <td>법 제123조에 따른 현장실습생에게 보험급여를 지급하는 경우 등에 관하여는 제21조...</td>\n",
              "      <td>법 제123조에 따른 현장실습생에게 보험급여를 지급하는 경우 등에 관하여는 제21조...</td>\n",
              "      <td>[]</td>\n",
              "      <td>{}</td>\n",
              "    </tr>\n",
              "    <tr>\n",
              "      <th>194470</th>\n",
              "      <td>노동</td>\n",
              "      <td>산업재해보상보험법 시행령</td>\n",
              "      <td>Articles 27, 28, 30 through 35, and 36 shall a...</td>\n",
              "      <td>법 제124조제2항에 따른 중·소기업 사업주에 대한 업무상의 재해의 인정 범위에 관...</td>\n",
              "      <td>법 제124조제2항에 따른 중·소기업 사업주에 대한 업무상의 재해의 인정 범위에 관...</td>\n",
              "      <td>[{'severity': 'major', 'start_idx': 95, 'text'...</td>\n",
              "      <td>{'omission': 96, 'mis-translation': '내지'}</td>\n",
              "    </tr>\n",
              "    <tr>\n",
              "      <th>194496</th>\n",
              "      <td>노동</td>\n",
              "      <td>산업재해보상보험법 시행령</td>\n",
              "      <td>Articles 27 through 36 shall apply mutatis mut...</td>\n",
              "      <td>특수형태근로종사자에 대한 업무상의 재해의 인정 기준에 관하여는 제27조부터 제36조...</td>\n",
              "      <td>특수형태근로종사자에 대한 업무상의 재해의 인정 기준에 관하여는 제27조부터 제36조...</td>\n",
              "      <td>[]</td>\n",
              "      <td>{}</td>\n",
              "    </tr>\n",
              "    <tr>\n",
              "      <th>78003</th>\n",
              "      <td>통화ㆍ국채ㆍ금융</td>\n",
              "      <td>국채법</td>\n",
              "      <td>Article 36 (4) and (5) of the Management of th...</td>\n",
              "      <td>제1항에 따라 한국은행이 처리하는 국채에 관한 사무 중 국채 발행에 따라 수입되는 ...</td>\n",
              "      <td>제1항에 따라 한국은행이 처리하는 국채에 관한 사무 중 국채 발행에 따라 수입되는 ...</td>\n",
              "      <td>[{'severity': 'major', 'start_idx': 96, 'text'...</td>\n",
              "      <td>{'addition': '신주에'}</td>\n",
              "    </tr>\n",
              "  </tbody>\n",
              "</table>\n",
              "<p>542 rows × 7 columns</p>\n",
              "</div>\n",
              "    <div class=\"colab-df-buttons\">\n",
              "\n",
              "  <div class=\"colab-df-container\">\n",
              "    <button class=\"colab-df-convert\" onclick=\"convertToInteractive('df-639057ba-1e62-404b-a7ed-755814c48e3b')\"\n",
              "            title=\"Convert this dataframe to an interactive table.\"\n",
              "            style=\"display:none;\">\n",
              "\n",
              "  <svg xmlns=\"http://www.w3.org/2000/svg\" height=\"24px\" viewBox=\"0 -960 960 960\">\n",
              "    <path d=\"M120-120v-720h720v720H120Zm60-500h600v-160H180v160Zm220 220h160v-160H400v160Zm0 220h160v-160H400v160ZM180-400h160v-160H180v160Zm440 0h160v-160H620v160ZM180-180h160v-160H180v160Zm440 0h160v-160H620v160Z\"/>\n",
              "  </svg>\n",
              "    </button>\n",
              "\n",
              "  <style>\n",
              "    .colab-df-container {\n",
              "      display:flex;\n",
              "      gap: 12px;\n",
              "    }\n",
              "\n",
              "    .colab-df-convert {\n",
              "      background-color: #E8F0FE;\n",
              "      border: none;\n",
              "      border-radius: 50%;\n",
              "      cursor: pointer;\n",
              "      display: none;\n",
              "      fill: #1967D2;\n",
              "      height: 32px;\n",
              "      padding: 0 0 0 0;\n",
              "      width: 32px;\n",
              "    }\n",
              "\n",
              "    .colab-df-convert:hover {\n",
              "      background-color: #E2EBFA;\n",
              "      box-shadow: 0px 1px 2px rgba(60, 64, 67, 0.3), 0px 1px 3px 1px rgba(60, 64, 67, 0.15);\n",
              "      fill: #174EA6;\n",
              "    }\n",
              "\n",
              "    .colab-df-buttons div {\n",
              "      margin-bottom: 4px;\n",
              "    }\n",
              "\n",
              "    [theme=dark] .colab-df-convert {\n",
              "      background-color: #3B4455;\n",
              "      fill: #D2E3FC;\n",
              "    }\n",
              "\n",
              "    [theme=dark] .colab-df-convert:hover {\n",
              "      background-color: #434B5C;\n",
              "      box-shadow: 0px 1px 3px 1px rgba(0, 0, 0, 0.15);\n",
              "      filter: drop-shadow(0px 1px 2px rgba(0, 0, 0, 0.3));\n",
              "      fill: #FFFFFF;\n",
              "    }\n",
              "  </style>\n",
              "\n",
              "    <script>\n",
              "      const buttonEl =\n",
              "        document.querySelector('#df-639057ba-1e62-404b-a7ed-755814c48e3b button.colab-df-convert');\n",
              "      buttonEl.style.display =\n",
              "        google.colab.kernel.accessAllowed ? 'block' : 'none';\n",
              "\n",
              "      async function convertToInteractive(key) {\n",
              "        const element = document.querySelector('#df-639057ba-1e62-404b-a7ed-755814c48e3b');\n",
              "        const dataTable =\n",
              "          await google.colab.kernel.invokeFunction('convertToInteractive',\n",
              "                                                    [key], {});\n",
              "        if (!dataTable) return;\n",
              "\n",
              "        const docLinkHtml = 'Like what you see? Visit the ' +\n",
              "          '<a target=\"_blank\" href=https://colab.research.google.com/notebooks/data_table.ipynb>data table notebook</a>'\n",
              "          + ' to learn more about interactive tables.';\n",
              "        element.innerHTML = '';\n",
              "        dataTable['output_type'] = 'display_data';\n",
              "        await google.colab.output.renderOutput(dataTable, element);\n",
              "        const docLink = document.createElement('div');\n",
              "        docLink.innerHTML = docLinkHtml;\n",
              "        element.appendChild(docLink);\n",
              "      }\n",
              "    </script>\n",
              "  </div>\n",
              "\n",
              "\n",
              "<div id=\"df-778c4456-ba34-4cae-a538-d4e0149b3d29\">\n",
              "  <button class=\"colab-df-quickchart\" onclick=\"quickchart('df-778c4456-ba34-4cae-a538-d4e0149b3d29')\"\n",
              "            title=\"Suggest charts.\"\n",
              "            style=\"display:none;\">\n",
              "\n",
              "<svg xmlns=\"http://www.w3.org/2000/svg\" height=\"24px\"viewBox=\"0 0 24 24\"\n",
              "     width=\"24px\">\n",
              "    <g>\n",
              "        <path d=\"M19 3H5c-1.1 0-2 .9-2 2v14c0 1.1.9 2 2 2h14c1.1 0 2-.9 2-2V5c0-1.1-.9-2-2-2zM9 17H7v-7h2v7zm4 0h-2V7h2v10zm4 0h-2v-4h2v4z\"/>\n",
              "    </g>\n",
              "</svg>\n",
              "  </button>\n",
              "\n",
              "<style>\n",
              "  .colab-df-quickchart {\n",
              "    background-color: #E8F0FE;\n",
              "    border: none;\n",
              "    border-radius: 50%;\n",
              "    cursor: pointer;\n",
              "    display: none;\n",
              "    fill: #1967D2;\n",
              "    height: 32px;\n",
              "    padding: 0 0 0 0;\n",
              "    width: 32px;\n",
              "  }\n",
              "\n",
              "  .colab-df-quickchart:hover {\n",
              "    background-color: #E2EBFA;\n",
              "    box-shadow: 0px 1px 2px rgba(60, 64, 67, 0.3), 0px 1px 3px 1px rgba(60, 64, 67, 0.15);\n",
              "    fill: #174EA6;\n",
              "  }\n",
              "\n",
              "  [theme=dark] .colab-df-quickchart {\n",
              "    background-color: #3B4455;\n",
              "    fill: #D2E3FC;\n",
              "  }\n",
              "\n",
              "  [theme=dark] .colab-df-quickchart:hover {\n",
              "    background-color: #434B5C;\n",
              "    box-shadow: 0px 1px 3px 1px rgba(0, 0, 0, 0.15);\n",
              "    filter: drop-shadow(0px 1px 2px rgba(0, 0, 0, 0.3));\n",
              "    fill: #FFFFFF;\n",
              "  }\n",
              "</style>\n",
              "\n",
              "  <script>\n",
              "    async function quickchart(key) {\n",
              "      const charts = await google.colab.kernel.invokeFunction(\n",
              "          'suggestCharts', [key], {});\n",
              "    }\n",
              "    (() => {\n",
              "      let quickchartButtonEl =\n",
              "        document.querySelector('#df-778c4456-ba34-4cae-a538-d4e0149b3d29 button');\n",
              "      quickchartButtonEl.style.display =\n",
              "        google.colab.kernel.accessAllowed ? 'block' : 'none';\n",
              "    })();\n",
              "  </script>\n",
              "</div>\n",
              "    </div>\n",
              "  </div>\n"
            ]
          },
          "metadata": {},
          "execution_count": 325
        }
      ]
    },
    {
      "cell_type": "markdown",
      "metadata": {
        "id": "LyMdVgpAmt9b"
      },
      "source": [
        "## Grammer"
      ]
    },
    {
      "cell_type": "markdown",
      "source": [
        "### Grammer-Minor"
      ],
      "metadata": {
        "id": "1X9thrfj1zDu"
      }
    },
    {
      "cell_type": "code",
      "execution_count": 268,
      "metadata": {
        "id": "3YrAJi_AmyWO"
      },
      "outputs": [],
      "source": [
        "def josa_mistranslation(df, ratio, seed):\n",
        "    df_t = copy_df(df)\n",
        "    js_mstr_index = random_index(df_t, ratio, seed)\n",
        "    js_tokens = df_maad.loc[js_mstr_index].curHyp.apply(lambda x: kiwi.tokenize(x))\n",
        "\n",
        "    jsd = {\"가\":\"이\", \"을\":\"를\", \"로써\":\"으로써\", \"로서\":\"으로서\", \"로\":\"으로\", \"로부터\":\"으로부터\", \"란\":\"이란\", \"나\":\"이나\", \"와\":\"과\"}\n",
        "    keys = list(jsd.keys())\n",
        "    for key in keys:\n",
        "        jsd[jsd[key]] = key\n",
        "\n",
        "    tags=[\"JKS\", \"JKC\", \"JKO\", \"JKB\", \"JX\", \"JC\"]\n",
        "    need_josa = None\n",
        "    for i, tag in enumerate(tags):\n",
        "        if i==0:\n",
        "            need_josa = js_tokens.apply(lambda x: find_tokens(x, tag))\n",
        "        else:\n",
        "            need_josa += js_tokens.apply(lambda x: find_tokens(x, tag))\n",
        "\n",
        "    drop_index = need_josa[need_josa.apply(len)==0].index\n",
        "    js_mstr_index = list(set(js_mstr_index)-set(drop_index))\n",
        "    need_josa.drop(index=drop_index, axis=0, inplace=True)\n",
        "    np.random.seed(seed)\n",
        "    trans_words = need_josa.apply(lambda x: x[np.random.choice(range(0,len(x)))])\n",
        "    result = df_t.loc[js_mstr_index]\n",
        "\n",
        "    for i in js_mstr_index:\n",
        "        cur_hyp = result.loc[i, \"curHyp\"]\n",
        "        word, start, end = trans_words[i]\n",
        "        try:\n",
        "            conv_word = jsd[word]\n",
        "            conv_hyp = cur_hyp[:start]+conv_word+cur_hyp[end:]\n",
        "            result.loc[i, \"tagLog\"][\"grammer\"] = conv_word\n",
        "            result.loc[i, \"curHyp\"] = conv_hyp\n",
        "            input_errors(result, i, \"minor\", start, conv_word, \"grammer\")\n",
        "            dindex_dict[\"grammer\"].append(i)\n",
        "        except:\n",
        "            pass\n",
        "        try:\n",
        "            o_index = result.loc[i, \"tagLog\"][\"omission\"]\n",
        "            if o_index > start:\n",
        "                if len(word) > len(conv_word):\n",
        "                    result.loc[i, \"tagLog\"][\"omission\"] -= (len(word)-len(conv_word))\n",
        "                elif len(word) < len(conv_word):\n",
        "                    result.loc[i, \"tagLog\"][\"omission\"] += (len(conv_word)-len(word))\n",
        "        except:\n",
        "            pass\n",
        "    return convert_df(df, result)\n",
        "\n",
        "df_jmt = josa_mistranslation(df_can, 0.2, 1010)"
      ]
    },
    {
      "cell_type": "code",
      "execution_count": 269,
      "metadata": {
        "colab": {
          "base_uri": "https://localhost:8080/"
        },
        "id": "LJVz9FNIlxR6",
        "outputId": "1ee2cad6-f52d-4a6c-e86e-e9f8b28820e7"
      },
      "outputs": [
        {
          "output_type": "execute_result",
          "data": {
            "text/plain": [
              "(10810, 7)"
            ]
          },
          "metadata": {},
          "execution_count": 269
        }
      ],
      "source": [
        "df_jmt.loc[df_jmt.errors.apply(len)>0].shape"
      ]
    },
    {
      "cell_type": "code",
      "source": [
        "check_idx(df_jmt)"
      ],
      "metadata": {
        "id": "XOsjBd7rz_H8",
        "outputId": "74abb19e-618b-485d-9b11-6db8afb78474",
        "colab": {
          "base_uri": "https://localhost:8080/"
        }
      },
      "execution_count": 270,
      "outputs": [
        {
          "output_type": "stream",
          "name": "stdout",
          "text": [
            "omission: 3190\n",
            "addition: 7712\n",
            "mis-translation: 0\n",
            "over-translation: 0\n",
            "under-translation: 0\n",
            "grammer: 1936\n",
            "############################################\n",
            "omission:  3190\n",
            "addition:  7712\n",
            "mis-translation:  0\n",
            "over-translation:  0\n",
            "under-translation:  0\n",
            "grammer:  1936\n"
          ]
        }
      ]
    },
    {
      "cell_type": "markdown",
      "source": [
        "# 후처리"
      ],
      "metadata": {
        "id": "E2wwJy45UIQX"
      }
    },
    {
      "cell_type": "code",
      "execution_count": 136,
      "metadata": {
        "colab": {
          "base_uri": "https://localhost:8080/",
          "height": 513
        },
        "id": "AeG1S6cbbfdA",
        "outputId": "16e06ece-993f-4a07-bac1-8017bfd9a793"
      },
      "outputs": [
        {
          "output_type": "execute_result",
          "data": {
            "text/plain": [
              "        category   lawName                                                ENG  \\\n",
              "402202  통화ㆍ국채ㆍ금융  보험업법 시행령  In other cases similar to subparagraphs 1 and ...   \n",
              "402265  통화ㆍ국채ㆍ금융  보험업법 시행령  Where any contribution money has not been paid...   \n",
              "\n",
              "                                                      KOR  \\\n",
              "402202        그 밖에 제1호 및 제2호에 준하는 경우로서 금융위원회가 정하여 고시하는 경우   \n",
              "402265  제5항에 따른 납부기한까지 출연금을 내지 아니한 경우에는 내야 할 출연금에 대하여 ...   \n",
              "\n",
              "                                                   curHyp  \\\n",
              "402202         그 밖에 제1호 및 제2호에 준하는 경우로서 금융정하여 차용만 고시하는 경우   \n",
              "402265  제5항에 따른 납부기한까지 출연금을 내지 아니한 경우에는 내야 할 출연금에 대하여 ...   \n",
              "\n",
              "                                                   errors  \\\n",
              "402202  [{'severity': 'major', 'start_idx': 27, 'text'...   \n",
              "402265  [{'severity': 'major', 'start_idx': 81, 'text'...   \n",
              "\n",
              "                                                   tagLog  \n",
              "402202                {'omission': 27, 'addition': '차용만'}  \n",
              "402265  {'omission': 81, 'addition': '여신만', 'mis-trans...  "
            ],
            "text/html": [
              "\n",
              "  <div id=\"df-7548e853-686d-4159-987d-50a9a66c4939\" class=\"colab-df-container\">\n",
              "    <div>\n",
              "<style scoped>\n",
              "    .dataframe tbody tr th:only-of-type {\n",
              "        vertical-align: middle;\n",
              "    }\n",
              "\n",
              "    .dataframe tbody tr th {\n",
              "        vertical-align: top;\n",
              "    }\n",
              "\n",
              "    .dataframe thead th {\n",
              "        text-align: right;\n",
              "    }\n",
              "</style>\n",
              "<table border=\"1\" class=\"dataframe\">\n",
              "  <thead>\n",
              "    <tr style=\"text-align: right;\">\n",
              "      <th></th>\n",
              "      <th>category</th>\n",
              "      <th>lawName</th>\n",
              "      <th>ENG</th>\n",
              "      <th>KOR</th>\n",
              "      <th>curHyp</th>\n",
              "      <th>errors</th>\n",
              "      <th>tagLog</th>\n",
              "    </tr>\n",
              "  </thead>\n",
              "  <tbody>\n",
              "    <tr>\n",
              "      <th>402202</th>\n",
              "      <td>통화ㆍ국채ㆍ금융</td>\n",
              "      <td>보험업법 시행령</td>\n",
              "      <td>In other cases similar to subparagraphs 1 and ...</td>\n",
              "      <td>그 밖에 제1호 및 제2호에 준하는 경우로서 금융위원회가 정하여 고시하는 경우</td>\n",
              "      <td>그 밖에 제1호 및 제2호에 준하는 경우로서 금융정하여 차용만 고시하는 경우</td>\n",
              "      <td>[{'severity': 'major', 'start_idx': 27, 'text'...</td>\n",
              "      <td>{'omission': 27, 'addition': '차용만'}</td>\n",
              "    </tr>\n",
              "    <tr>\n",
              "      <th>402265</th>\n",
              "      <td>통화ㆍ국채ㆍ금융</td>\n",
              "      <td>보험업법 시행령</td>\n",
              "      <td>Where any contribution money has not been paid...</td>\n",
              "      <td>제5항에 따른 납부기한까지 출연금을 내지 아니한 경우에는 내야 할 출연금에 대하여 ...</td>\n",
              "      <td>제5항에 따른 납부기한까지 출연금을 내지 아니한 경우에는 내야 할 출연금에 대하여 ...</td>\n",
              "      <td>[{'severity': 'major', 'start_idx': 81, 'text'...</td>\n",
              "      <td>{'omission': 81, 'addition': '여신만', 'mis-trans...</td>\n",
              "    </tr>\n",
              "  </tbody>\n",
              "</table>\n",
              "</div>\n",
              "    <div class=\"colab-df-buttons\">\n",
              "\n",
              "  <div class=\"colab-df-container\">\n",
              "    <button class=\"colab-df-convert\" onclick=\"convertToInteractive('df-7548e853-686d-4159-987d-50a9a66c4939')\"\n",
              "            title=\"Convert this dataframe to an interactive table.\"\n",
              "            style=\"display:none;\">\n",
              "\n",
              "  <svg xmlns=\"http://www.w3.org/2000/svg\" height=\"24px\" viewBox=\"0 -960 960 960\">\n",
              "    <path d=\"M120-120v-720h720v720H120Zm60-500h600v-160H180v160Zm220 220h160v-160H400v160Zm0 220h160v-160H400v160ZM180-400h160v-160H180v160Zm440 0h160v-160H620v160ZM180-180h160v-160H180v160Zm440 0h160v-160H620v160Z\"/>\n",
              "  </svg>\n",
              "    </button>\n",
              "\n",
              "  <style>\n",
              "    .colab-df-container {\n",
              "      display:flex;\n",
              "      gap: 12px;\n",
              "    }\n",
              "\n",
              "    .colab-df-convert {\n",
              "      background-color: #E8F0FE;\n",
              "      border: none;\n",
              "      border-radius: 50%;\n",
              "      cursor: pointer;\n",
              "      display: none;\n",
              "      fill: #1967D2;\n",
              "      height: 32px;\n",
              "      padding: 0 0 0 0;\n",
              "      width: 32px;\n",
              "    }\n",
              "\n",
              "    .colab-df-convert:hover {\n",
              "      background-color: #E2EBFA;\n",
              "      box-shadow: 0px 1px 2px rgba(60, 64, 67, 0.3), 0px 1px 3px 1px rgba(60, 64, 67, 0.15);\n",
              "      fill: #174EA6;\n",
              "    }\n",
              "\n",
              "    .colab-df-buttons div {\n",
              "      margin-bottom: 4px;\n",
              "    }\n",
              "\n",
              "    [theme=dark] .colab-df-convert {\n",
              "      background-color: #3B4455;\n",
              "      fill: #D2E3FC;\n",
              "    }\n",
              "\n",
              "    [theme=dark] .colab-df-convert:hover {\n",
              "      background-color: #434B5C;\n",
              "      box-shadow: 0px 1px 3px 1px rgba(0, 0, 0, 0.15);\n",
              "      filter: drop-shadow(0px 1px 2px rgba(0, 0, 0, 0.3));\n",
              "      fill: #FFFFFF;\n",
              "    }\n",
              "  </style>\n",
              "\n",
              "    <script>\n",
              "      const buttonEl =\n",
              "        document.querySelector('#df-7548e853-686d-4159-987d-50a9a66c4939 button.colab-df-convert');\n",
              "      buttonEl.style.display =\n",
              "        google.colab.kernel.accessAllowed ? 'block' : 'none';\n",
              "\n",
              "      async function convertToInteractive(key) {\n",
              "        const element = document.querySelector('#df-7548e853-686d-4159-987d-50a9a66c4939');\n",
              "        const dataTable =\n",
              "          await google.colab.kernel.invokeFunction('convertToInteractive',\n",
              "                                                    [key], {});\n",
              "        if (!dataTable) return;\n",
              "\n",
              "        const docLinkHtml = 'Like what you see? Visit the ' +\n",
              "          '<a target=\"_blank\" href=https://colab.research.google.com/notebooks/data_table.ipynb>data table notebook</a>'\n",
              "          + ' to learn more about interactive tables.';\n",
              "        element.innerHTML = '';\n",
              "        dataTable['output_type'] = 'display_data';\n",
              "        await google.colab.output.renderOutput(dataTable, element);\n",
              "        const docLink = document.createElement('div');\n",
              "        docLink.innerHTML = docLinkHtml;\n",
              "        element.appendChild(docLink);\n",
              "      }\n",
              "    </script>\n",
              "  </div>\n",
              "\n",
              "\n",
              "<div id=\"df-b7a3a3b8-2ae6-414d-a389-676c014a70db\">\n",
              "  <button class=\"colab-df-quickchart\" onclick=\"quickchart('df-b7a3a3b8-2ae6-414d-a389-676c014a70db')\"\n",
              "            title=\"Suggest charts.\"\n",
              "            style=\"display:none;\">\n",
              "\n",
              "<svg xmlns=\"http://www.w3.org/2000/svg\" height=\"24px\"viewBox=\"0 0 24 24\"\n",
              "     width=\"24px\">\n",
              "    <g>\n",
              "        <path d=\"M19 3H5c-1.1 0-2 .9-2 2v14c0 1.1.9 2 2 2h14c1.1 0 2-.9 2-2V5c0-1.1-.9-2-2-2zM9 17H7v-7h2v7zm4 0h-2V7h2v10zm4 0h-2v-4h2v4z\"/>\n",
              "    </g>\n",
              "</svg>\n",
              "  </button>\n",
              "\n",
              "<style>\n",
              "  .colab-df-quickchart {\n",
              "    background-color: #E8F0FE;\n",
              "    border: none;\n",
              "    border-radius: 50%;\n",
              "    cursor: pointer;\n",
              "    display: none;\n",
              "    fill: #1967D2;\n",
              "    height: 32px;\n",
              "    padding: 0 0 0 0;\n",
              "    width: 32px;\n",
              "  }\n",
              "\n",
              "  .colab-df-quickchart:hover {\n",
              "    background-color: #E2EBFA;\n",
              "    box-shadow: 0px 1px 2px rgba(60, 64, 67, 0.3), 0px 1px 3px 1px rgba(60, 64, 67, 0.15);\n",
              "    fill: #174EA6;\n",
              "  }\n",
              "\n",
              "  [theme=dark] .colab-df-quickchart {\n",
              "    background-color: #3B4455;\n",
              "    fill: #D2E3FC;\n",
              "  }\n",
              "\n",
              "  [theme=dark] .colab-df-quickchart:hover {\n",
              "    background-color: #434B5C;\n",
              "    box-shadow: 0px 1px 3px 1px rgba(0, 0, 0, 0.15);\n",
              "    filter: drop-shadow(0px 1px 2px rgba(0, 0, 0, 0.3));\n",
              "    fill: #FFFFFF;\n",
              "  }\n",
              "</style>\n",
              "\n",
              "  <script>\n",
              "    async function quickchart(key) {\n",
              "      const charts = await google.colab.kernel.invokeFunction(\n",
              "          'suggestCharts', [key], {});\n",
              "    }\n",
              "    (() => {\n",
              "      let quickchartButtonEl =\n",
              "        document.querySelector('#df-b7a3a3b8-2ae6-414d-a389-676c014a70db button');\n",
              "      quickchartButtonEl.style.display =\n",
              "        google.colab.kernel.accessAllowed ? 'block' : 'none';\n",
              "    })();\n",
              "  </script>\n",
              "</div>\n",
              "    </div>\n",
              "  </div>\n"
            ]
          },
          "metadata": {},
          "execution_count": 136
        }
      ],
      "source": [
        "def convert_index(df_new):\n",
        "    df = copy_df(df_new)\n",
        "    for i in df.index:\n",
        "        cur_hyp = df.loc[i, \"curHyp\"]\n",
        "        for j, val in enumerate(df.loc[i, \"errors\"]):\n",
        "            e_case = val[\"type\"]\n",
        "            if e_case==\"omission\":\n",
        "                df.loc[i, \"errors\"][j][\"start_idx\"] = df.loc[i, \"tagLog\"][e_case]\n",
        "            elif e_case==\"grammer\":\n",
        "                continue\n",
        "            else:\n",
        "                idx = cur_hyp.find(df.loc[i, \"tagLog\"][e_case])\n",
        "                df.loc[i, \"errors\"][j][\"start_idx\"] = idx\n",
        "    return df\n",
        "\n",
        "temp = convert_index(df_can)\n",
        "temp.loc[[402202, 402265]]\n"
      ]
    },
    {
      "cell_type": "code",
      "execution_count": 137,
      "metadata": {
        "colab": {
          "base_uri": "https://localhost:8080/",
          "height": 513
        },
        "id": "Q8INoWc7h7Q4",
        "outputId": "fb859914-3a3e-4284-af1d-99367f3faca8"
      },
      "outputs": [
        {
          "output_type": "execute_result",
          "data": {
            "text/plain": [
              "        category   lawName                                                ENG  \\\n",
              "402202  통화ㆍ국채ㆍ금융  보험업법 시행령  In other cases similar to subparagraphs 1 and ...   \n",
              "402265  통화ㆍ국채ㆍ금융  보험업법 시행령  Where any contribution money has not been paid...   \n",
              "\n",
              "                                                      KOR  \\\n",
              "402202        그 밖에 제1호 및 제2호에 준하는 경우로서 금융위원회가 정하여 고시하는 경우   \n",
              "402265  제5항에 따른 납부기한까지 출연금을 내지 아니한 경우에는 내야 할 출연금에 대하여 ...   \n",
              "\n",
              "                                                   curHyp  \\\n",
              "402202         그 밖에 제1호 및 제2호에 준하는 경우로서 금융정하여 차용만 고시하는 경우   \n",
              "402265  제5항에 따른 납부기한까지 출연금을 내지 아니한 경우에는 내야 할 출연금에 대하여 ...   \n",
              "\n",
              "                                                   errors  \\\n",
              "402202  [{'severity': 'major', 'start_idx': 27, 'text'...   \n",
              "402265  [{'severity': 'major', 'start_idx': 77, 'text'...   \n",
              "\n",
              "                                                   tagLog  \n",
              "402202                {'omission': 27, 'addition': '차용만'}  \n",
              "402265  {'omission': 81, 'addition': '여신만', 'mis-trans...  "
            ],
            "text/html": [
              "\n",
              "  <div id=\"df-a347bf83-4f85-42f9-9c21-bba85639561f\" class=\"colab-df-container\">\n",
              "    <div>\n",
              "<style scoped>\n",
              "    .dataframe tbody tr th:only-of-type {\n",
              "        vertical-align: middle;\n",
              "    }\n",
              "\n",
              "    .dataframe tbody tr th {\n",
              "        vertical-align: top;\n",
              "    }\n",
              "\n",
              "    .dataframe thead th {\n",
              "        text-align: right;\n",
              "    }\n",
              "</style>\n",
              "<table border=\"1\" class=\"dataframe\">\n",
              "  <thead>\n",
              "    <tr style=\"text-align: right;\">\n",
              "      <th></th>\n",
              "      <th>category</th>\n",
              "      <th>lawName</th>\n",
              "      <th>ENG</th>\n",
              "      <th>KOR</th>\n",
              "      <th>curHyp</th>\n",
              "      <th>errors</th>\n",
              "      <th>tagLog</th>\n",
              "    </tr>\n",
              "  </thead>\n",
              "  <tbody>\n",
              "    <tr>\n",
              "      <th>402202</th>\n",
              "      <td>통화ㆍ국채ㆍ금융</td>\n",
              "      <td>보험업법 시행령</td>\n",
              "      <td>In other cases similar to subparagraphs 1 and ...</td>\n",
              "      <td>그 밖에 제1호 및 제2호에 준하는 경우로서 금융위원회가 정하여 고시하는 경우</td>\n",
              "      <td>그 밖에 제1호 및 제2호에 준하는 경우로서 금융정하여 차용만 고시하는 경우</td>\n",
              "      <td>[{'severity': 'major', 'start_idx': 27, 'text'...</td>\n",
              "      <td>{'omission': 27, 'addition': '차용만'}</td>\n",
              "    </tr>\n",
              "    <tr>\n",
              "      <th>402265</th>\n",
              "      <td>통화ㆍ국채ㆍ금융</td>\n",
              "      <td>보험업법 시행령</td>\n",
              "      <td>Where any contribution money has not been paid...</td>\n",
              "      <td>제5항에 따른 납부기한까지 출연금을 내지 아니한 경우에는 내야 할 출연금에 대하여 ...</td>\n",
              "      <td>제5항에 따른 납부기한까지 출연금을 내지 아니한 경우에는 내야 할 출연금에 대하여 ...</td>\n",
              "      <td>[{'severity': 'major', 'start_idx': 77, 'text'...</td>\n",
              "      <td>{'omission': 81, 'addition': '여신만', 'mis-trans...</td>\n",
              "    </tr>\n",
              "  </tbody>\n",
              "</table>\n",
              "</div>\n",
              "    <div class=\"colab-df-buttons\">\n",
              "\n",
              "  <div class=\"colab-df-container\">\n",
              "    <button class=\"colab-df-convert\" onclick=\"convertToInteractive('df-a347bf83-4f85-42f9-9c21-bba85639561f')\"\n",
              "            title=\"Convert this dataframe to an interactive table.\"\n",
              "            style=\"display:none;\">\n",
              "\n",
              "  <svg xmlns=\"http://www.w3.org/2000/svg\" height=\"24px\" viewBox=\"0 -960 960 960\">\n",
              "    <path d=\"M120-120v-720h720v720H120Zm60-500h600v-160H180v160Zm220 220h160v-160H400v160Zm0 220h160v-160H400v160ZM180-400h160v-160H180v160Zm440 0h160v-160H620v160ZM180-180h160v-160H180v160Zm440 0h160v-160H620v160Z\"/>\n",
              "  </svg>\n",
              "    </button>\n",
              "\n",
              "  <style>\n",
              "    .colab-df-container {\n",
              "      display:flex;\n",
              "      gap: 12px;\n",
              "    }\n",
              "\n",
              "    .colab-df-convert {\n",
              "      background-color: #E8F0FE;\n",
              "      border: none;\n",
              "      border-radius: 50%;\n",
              "      cursor: pointer;\n",
              "      display: none;\n",
              "      fill: #1967D2;\n",
              "      height: 32px;\n",
              "      padding: 0 0 0 0;\n",
              "      width: 32px;\n",
              "    }\n",
              "\n",
              "    .colab-df-convert:hover {\n",
              "      background-color: #E2EBFA;\n",
              "      box-shadow: 0px 1px 2px rgba(60, 64, 67, 0.3), 0px 1px 3px 1px rgba(60, 64, 67, 0.15);\n",
              "      fill: #174EA6;\n",
              "    }\n",
              "\n",
              "    .colab-df-buttons div {\n",
              "      margin-bottom: 4px;\n",
              "    }\n",
              "\n",
              "    [theme=dark] .colab-df-convert {\n",
              "      background-color: #3B4455;\n",
              "      fill: #D2E3FC;\n",
              "    }\n",
              "\n",
              "    [theme=dark] .colab-df-convert:hover {\n",
              "      background-color: #434B5C;\n",
              "      box-shadow: 0px 1px 3px 1px rgba(0, 0, 0, 0.15);\n",
              "      filter: drop-shadow(0px 1px 2px rgba(0, 0, 0, 0.3));\n",
              "      fill: #FFFFFF;\n",
              "    }\n",
              "  </style>\n",
              "\n",
              "    <script>\n",
              "      const buttonEl =\n",
              "        document.querySelector('#df-a347bf83-4f85-42f9-9c21-bba85639561f button.colab-df-convert');\n",
              "      buttonEl.style.display =\n",
              "        google.colab.kernel.accessAllowed ? 'block' : 'none';\n",
              "\n",
              "      async function convertToInteractive(key) {\n",
              "        const element = document.querySelector('#df-a347bf83-4f85-42f9-9c21-bba85639561f');\n",
              "        const dataTable =\n",
              "          await google.colab.kernel.invokeFunction('convertToInteractive',\n",
              "                                                    [key], {});\n",
              "        if (!dataTable) return;\n",
              "\n",
              "        const docLinkHtml = 'Like what you see? Visit the ' +\n",
              "          '<a target=\"_blank\" href=https://colab.research.google.com/notebooks/data_table.ipynb>data table notebook</a>'\n",
              "          + ' to learn more about interactive tables.';\n",
              "        element.innerHTML = '';\n",
              "        dataTable['output_type'] = 'display_data';\n",
              "        await google.colab.output.renderOutput(dataTable, element);\n",
              "        const docLink = document.createElement('div');\n",
              "        docLink.innerHTML = docLinkHtml;\n",
              "        element.appendChild(docLink);\n",
              "      }\n",
              "    </script>\n",
              "  </div>\n",
              "\n",
              "\n",
              "<div id=\"df-a174f51f-78ea-4348-81ef-5a97962c9bdf\">\n",
              "  <button class=\"colab-df-quickchart\" onclick=\"quickchart('df-a174f51f-78ea-4348-81ef-5a97962c9bdf')\"\n",
              "            title=\"Suggest charts.\"\n",
              "            style=\"display:none;\">\n",
              "\n",
              "<svg xmlns=\"http://www.w3.org/2000/svg\" height=\"24px\"viewBox=\"0 0 24 24\"\n",
              "     width=\"24px\">\n",
              "    <g>\n",
              "        <path d=\"M19 3H5c-1.1 0-2 .9-2 2v14c0 1.1.9 2 2 2h14c1.1 0 2-.9 2-2V5c0-1.1-.9-2-2-2zM9 17H7v-7h2v7zm4 0h-2V7h2v10zm4 0h-2v-4h2v4z\"/>\n",
              "    </g>\n",
              "</svg>\n",
              "  </button>\n",
              "\n",
              "<style>\n",
              "  .colab-df-quickchart {\n",
              "    background-color: #E8F0FE;\n",
              "    border: none;\n",
              "    border-radius: 50%;\n",
              "    cursor: pointer;\n",
              "    display: none;\n",
              "    fill: #1967D2;\n",
              "    height: 32px;\n",
              "    padding: 0 0 0 0;\n",
              "    width: 32px;\n",
              "  }\n",
              "\n",
              "  .colab-df-quickchart:hover {\n",
              "    background-color: #E2EBFA;\n",
              "    box-shadow: 0px 1px 2px rgba(60, 64, 67, 0.3), 0px 1px 3px 1px rgba(60, 64, 67, 0.15);\n",
              "    fill: #174EA6;\n",
              "  }\n",
              "\n",
              "  [theme=dark] .colab-df-quickchart {\n",
              "    background-color: #3B4455;\n",
              "    fill: #D2E3FC;\n",
              "  }\n",
              "\n",
              "  [theme=dark] .colab-df-quickchart:hover {\n",
              "    background-color: #434B5C;\n",
              "    box-shadow: 0px 1px 3px 1px rgba(0, 0, 0, 0.15);\n",
              "    filter: drop-shadow(0px 1px 2px rgba(0, 0, 0, 0.3));\n",
              "    fill: #FFFFFF;\n",
              "  }\n",
              "</style>\n",
              "\n",
              "  <script>\n",
              "    async function quickchart(key) {\n",
              "      const charts = await google.colab.kernel.invokeFunction(\n",
              "          'suggestCharts', [key], {});\n",
              "    }\n",
              "    (() => {\n",
              "      let quickchartButtonEl =\n",
              "        document.querySelector('#df-a174f51f-78ea-4348-81ef-5a97962c9bdf button');\n",
              "      quickchartButtonEl.style.display =\n",
              "        google.colab.kernel.accessAllowed ? 'block' : 'none';\n",
              "    })();\n",
              "  </script>\n",
              "</div>\n",
              "    </div>\n",
              "  </div>\n"
            ]
          },
          "metadata": {},
          "execution_count": 137
        }
      ],
      "source": [
        "df_can.loc[[402202, 402265]]"
      ]
    },
    {
      "cell_type": "code",
      "source": [
        "df_can.loc[df_can.errors.apply(len)>0].shape"
      ],
      "metadata": {
        "id": "jL7ZpI6wdeXi",
        "outputId": "fd555a50-2de3-4a80-cd40-2081550d6446",
        "colab": {
          "base_uri": "https://localhost:8080/"
        }
      },
      "execution_count": 140,
      "outputs": [
        {
          "output_type": "execute_result",
          "data": {
            "text/plain": [
              "(10763, 7)"
            ]
          },
          "metadata": {},
          "execution_count": 140
        }
      ]
    },
    {
      "cell_type": "code",
      "execution_count": 141,
      "metadata": {
        "id": "5nu6OaweY7h_"
      },
      "outputs": [],
      "source": [
        "def make_dict(df):\n",
        "    output_json = dict()\n",
        "    output_json[\"data\"] = []\n",
        "    for i in df.index:\n",
        "        base_form = {\"category\": None, \"en\": None, \"errs\": None, \"hyp\": None, \"ko\": None, \"law_name\": None}\n",
        "        if len(df.loc[i, \"errors\"])==0:\n",
        "            continue\n",
        "        base_form[\"category\"] = df.loc[i, \"category\"]\n",
        "        base_form[\"en\"] = df.loc[i, \"ENG\"]\n",
        "        base_form[\"errs\"] = df.loc[i, \"errors\"]\n",
        "        base_form[\"hyp\"] = df.loc[i, \"curHyp\"]\n",
        "        base_form[\"ko\"] = df.loc[i, \"KOR\"]\n",
        "        base_form[\"law_name\"] = df.loc[i, \"lawName\"]\n",
        "        output_json[\"data\"].append(base_form)\n",
        "    return output_json\n",
        "\n",
        "rrrr = make_dict(df_can)"
      ]
    },
    {
      "cell_type": "code",
      "execution_count": 142,
      "metadata": {
        "id": "UTAVRr1GaWEE"
      },
      "outputs": [],
      "source": [
        "with open(os.path.join(gdrive_path, \"data_0825.json\"), \"w\") as f:\n",
        "  json.dump(rrrr, f, ensure_ascii=False, indent=4)"
      ]
    }
  ],
  "metadata": {
    "colab": {
      "provenance": [],
      "toc_visible": true
    },
    "kernelspec": {
      "display_name": "main",
      "language": "python",
      "name": "python3"
    },
    "language_info": {
      "codemirror_mode": {
        "name": "ipython",
        "version": 3
      },
      "file_extension": ".py",
      "mimetype": "text/x-python",
      "name": "python",
      "nbconvert_exporter": "python",
      "pygments_lexer": "ipython3",
      "version": "3.8.8"
    },
    "orig_nbformat": 4
  },
  "nbformat": 4,
  "nbformat_minor": 0
}
{
  "cells": [
    {
      "cell_type": "markdown",
      "metadata": {
        "id": "view-in-github",
        "colab_type": "text"
      },
      "source": [
        "<a href=\"https://colab.research.google.com/github/tjtmddnjswkd/capstone/blob/master/api_crawling.ipynb\" target=\"_parent\"><img src=\"https://colab.research.google.com/assets/colab-badge.svg\" alt=\"Open In Colab\"/></a>"
      ]
    },
    {
      "cell_type": "code",
      "source": [
        "!pip install xmltodict"
      ],
      "metadata": {
        "colab": {
          "base_uri": "https://localhost:8080/"
        },
        "id": "jH9VcIauesOV",
        "outputId": "784cfff9-6eaf-4e89-dbbe-1eaa54e6771a"
      },
      "execution_count": 1,
      "outputs": [
        {
          "output_type": "stream",
          "name": "stdout",
          "text": [
            "Collecting xmltodict\n",
            "  Downloading xmltodict-0.13.0-py2.py3-none-any.whl (10.0 kB)\n",
            "Installing collected packages: xmltodict\n",
            "Successfully installed xmltodict-0.13.0\n"
          ]
        }
      ]
    },
    {
      "cell_type": "code",
      "source": [
        "import pandas as pd\n",
        "import re\n",
        "import sys\n",
        "import requests\n",
        "import json\n",
        "import pprint\n",
        "from bs4 import BeautifulSoup\n",
        "from urllib.request import urlopen\n",
        "import xmltodict\n",
        "from tqdm import tqdm\n",
        "import random\n",
        "import pprint"
      ],
      "metadata": {
        "id": "cUAo_Pc5euCs"
      },
      "execution_count": 2,
      "outputs": []
    },
    {
      "cell_type": "code",
      "source": [
        "url = 'http://www.law.go.kr/DRF/lawSearch.do?OC=seokhee051&target=elaw&type=XML'\n",
        "# url 불러오기\n",
        "response = requests.get(url)\n",
        "# XML -> 딕셔너리 변환후 파싱\n",
        "contents = response.text\n",
        "dict_contents = xmltodict.parse(contents)\n",
        "totalCnt = int(dict_contents['LawSearch']['totalCnt'])"
      ],
      "metadata": {
        "id": "JGFiNkvsevvj"
      },
      "execution_count": 3,
      "outputs": []
    },
    {
      "cell_type": "code",
      "source": [
        "totalCnt"
      ],
      "metadata": {
        "colab": {
          "base_uri": "https://localhost:8080/"
        },
        "id": "btgoVNxyk4_x",
        "outputId": "75e564e8-7800-4bd8-fc98-138767a0fcb5"
      },
      "execution_count": 8,
      "outputs": [
        {
          "output_type": "execute_result",
          "data": {
            "text/plain": [
              "2608"
            ]
          },
          "metadata": {},
          "execution_count": 8
        }
      ]
    },
    {
      "cell_type": "code",
      "source": [
        "rows = []\n",
        "not_match_jo = []\n",
        "changed_num = 0\n",
        "changed = []\n",
        "eng_cnt = 0\n",
        "kor_cnt = 0\n",
        "total_page = int(totalCnt/20)+1\n",
        "for p in tqdm(range(1,total_page)):\n",
        "  url = 'http://www.law.go.kr/DRF/lawSearch.do?OC=seokhee051&target=elaw&type=XML' \\\n",
        "        + '&page=' + str(p)\n",
        "  # url 불러오기\n",
        "  response = requests.get(url)\n",
        "  # XML -> 딕셔너리 변환후 파싱\n",
        "  contents = response.text\n",
        "  dict_contents = xmltodict.parse(contents)\n",
        "  try:\n",
        "    for content in dict_contents['LawSearch']['law']:\n",
        "      name_kor = content['법령명한글']\n",
        "      name_eng = content['법령명영문']\n",
        "      mst = content['법령일련번호']\n",
        "\n",
        "      eng_url = 'https://www.law.go.kr/DRF/lawService.do?OC=seokhee051&target=elaw' \\\n",
        "                + '&MST=' + str(mst)\n",
        "                # + '&ID=' + str(법령ID)\n",
        "      eng_response = requests.get(eng_url)\n",
        "      eng_contents = eng_response.text\n",
        "      eng_dict_contents = xmltodict.parse(eng_contents)\n",
        "\n",
        "      kor_url = 'https://www.law.go.kr/DRF/lawService.do?OC=seokhee051&target=law' \\\n",
        "                + '&MST=' + str(mst)\n",
        "                # + '&ID=' + str(법령ID)\n",
        "      kor_response = requests.get(kor_url)\n",
        "      kor_contents = kor_response.text\n",
        "      kor_dict_contents = xmltodict.parse(kor_contents)\n",
        "\n",
        "      # # 영어조문 개수와 한글 조문 개수 맞지 않다면 건너뛰기\n",
        "      # if len(eng_dict_contents['Law']['JoSection']['Jo']) != len(kor_dict_contents['법령']['조문']['조문단위']):\n",
        "      #     not_match_jo += 1\n",
        "      #     print(f'영한 조문 개수 맞지 않는 법령 개수', not_match_jo, kor_dict_contents['법령']['기본정보']['법령명_한글'])\n",
        "      #     continue\n",
        "      # eng_cnt += len(eng_dict_contents['Law']['JoSection']['Jo'])\n",
        "      # kor_cnt += len(kor_dict_contents['법령']['조문']['조문단위'])\n",
        "      min_num_jo = min(len(eng_dict_contents['Law']['JoSection']['Jo']), len(kor_dict_contents['법령']['조문']['조문단위']))\n",
        "      temp_cnt = 0\n",
        "      print('법령명:', name_kor, ', 조문 개수:', min_num_jo, ', 페이지:', p, ', 몇번째?:', content['@id'])\n",
        "      try:\n",
        "        # for eng_jo, kor_jo in zip(eng_dict_contents['Law']['JoSection']['Jo'],kor_dict_contents['법령']['조문']['조문단위']):\n",
        "        for ind in range(min_num_jo):\n",
        "          eng_jo, kor_jo = eng_dict_contents['Law']['JoSection']['Jo'][ind], kor_dict_contents['법령']['조문']['조문단위'][ind]\n",
        "\n",
        "          if kor_jo['조문여부']!='조문':\n",
        "            continue\n",
        "          # if kor_jo.get('조문가지번호'):\n",
        "          #   continue\n",
        "\n",
        "          kor_total = 0\n",
        "          if kor_jo.get('항'): # 항내용이 있으면 list 바로 호내용이면 dict 타입이네\n",
        "            if type(kor_jo['항']) == dict:\n",
        "              kor_total += len(kor_jo['항']['호'])\n",
        "              for ho in kor_jo['항']['호']:\n",
        "                if ho.get('목'):\n",
        "                  kor_total += len(ho['목'])\n",
        "              kor_total += 1 # 호부터 시작하면 영어에서는 또 \\n이 하나 늘어남\n",
        "            else:\n",
        "              kor_total += len(kor_jo['항'])\n",
        "              for hang in kor_jo['항']:\n",
        "                if hang.get('호'):\n",
        "                  kor_total += len(hang['호'])\n",
        "                  for ho in hang['호']:\n",
        "                    if ho.get('목'):\n",
        "                      kor_total += len(ho['목'])\n",
        "          else:\n",
        "            kor_total = 1\n",
        "\n",
        "          if kor_jo.get('조문참고자료'):\n",
        "            if '\\n\\t\\t\\n\\t\\t' in kor_jo['조문참고자료']:\n",
        "              kor_total += 2\n",
        "              kor_jo['조문참고자료'] = kor_jo['조문참고자료'].replace('\\n\\t\\t\\n\\t\\t', '\\n')\n",
        "            else:\n",
        "              kor_total += 1\n",
        "\n",
        "          if (eng_jo['joCts'].count('\\n')+1) != kor_total:\n",
        "            not_match_jo.append([name_kor, kor_jo['조문제목']])\n",
        "            continue\n",
        "\n",
        "          if eng_jo['joYn']!= 'Y':\n",
        "            changed_num += 1\n",
        "            changed.append([eng_jo, kor_jo])\n",
        "            print('안바뀐 법령 개수:', changed_num)\n",
        "            continue\n",
        "          # if eng_jo['joBrNo']!='00':\n",
        "          #   continue\n",
        "\n",
        "          eng_text = eng_jo['joCts']\n",
        "\n",
        "          jo_txt = ''\n",
        "          hang_txt = ''\n",
        "          ho_txt = ''\n",
        "          mok_txt = ''\n",
        "\n",
        "          jo_txt += kor_jo['조문내용']\n",
        "          if kor_jo.get('항'): # 항내용이 있으면 list 바로 호내용이면 dict 타입이네\n",
        "            if type(kor_jo['항']) == dict:\n",
        "              for ho in kor_jo['항']['호']:\n",
        "                ho_txt += ho['호내용']\n",
        "                if ho.get('목'):\n",
        "                  for mok in ho['목']:\n",
        "                    mok_txt = mok['목내용']\n",
        "                  ho_txt += mok_txt\n",
        "              hang_txt += ho_txt\n",
        "            else:\n",
        "              for hang in kor_jo['항']:\n",
        "                hang_txt += hang['항내용']\n",
        "                if hang.get('호'):\n",
        "                  for ho in hang['호']:\n",
        "                    ho_txt += ho['호내용']\n",
        "                    if ho.get('목'):\n",
        "                      for mok in ho['목']:\n",
        "                        mok_txt = mok['목내용']\n",
        "                        ho_txt += mok_txt\n",
        "                  hang_txt += ho_txt\n",
        "              jo_txt += hang_txt\n",
        "          if kor_jo.get('조문참고자료'):\n",
        "            jo_txt += kor_jo['조문참고자료']\n",
        "          kor_text = jo_txt\n",
        "          rows.append({'name_kor':name_kor, 'name_eng':name_eng, 'MST':mst, 'eng':eng_text, 'kor':kor_text})\n",
        "      except Exception as e:\n",
        "        print('eng_kor_contents 예외 발생:', e)\n",
        "  except Exception as e:\n",
        "    print('dict_contents 예외 발생:', e)\n",
        "print(len(not_match_jo))\n",
        "df = pd.DataFrame(rows)"
      ],
      "metadata": {
        "colab": {
          "base_uri": "https://localhost:8080/",
          "height": 1000
        },
        "id": "UO3lZCQGe6wE",
        "outputId": "b9b0cedb-27ad-4e58-b6e8-c8c71f36877e"
      },
      "execution_count": 509,
      "outputs": [
        {
          "output_type": "stream",
          "name": "stderr",
          "text": [
            "\r  0%|          | 0/130 [00:00<?, ?it/s]"
          ]
        },
        {
          "output_type": "stream",
          "name": "stdout",
          "text": [
            "법령명: 119구조ㆍ구급에 관한 법률 , 조문 개수: 47 , 페이지: 1 , 몇번째?: 1\n",
            "법령명: 119구조ㆍ구급에 관한 법률 시행령 , 조문 개수: 47 , 페이지: 1 , 몇번째?: 2\n",
            "법령명: 1인 창조기업 육성에 관한 법률 , 조문 개수: 24 , 페이지: 1 , 몇번째?: 3\n",
            "법령명: 1인 창조기업 육성에 관한 법률 시행령 , 조문 개수: 12 , 페이지: 1 , 몇번째?: 4\n",
            "법령명: 2011대구세계육상선수권대회, 2013충주세계조정선수권대회, 2014인천아시아경기대회, 2014인천장애인아시아경기대회 및 2015광주하계유니버시아드대회 지원법 , 조문 개수: 46 , 페이지: 1 , 몇번째?: 5\n",
            "법령명: 2018 평창 동계올림픽대회 및 동계패럴림픽대회 지원 등에 관한 특별법 , 조문 개수: 113 , 페이지: 1 , 몇번째?: 6\n",
            "법령명: 2018 평창 동계올림픽대회 및 동계패럴림픽대회 지원 등에 관한 특별법 시행령 , 조문 개수: 64 , 페이지: 1 , 몇번째?: 7\n",
            "법령명: 2023 새만금 세계스카우트잼버리 지원 특별법 , 조문 개수: 39 , 페이지: 1 , 몇번째?: 8\n",
            "법령명: 2023 새만금 세계스카우트잼버리 지원 특별법 시행령 , 조문 개수: 12 , 페이지: 1 , 몇번째?: 9\n",
            "법령명: 4ㆍ16세월호참사 진상규명 및 안전사회 건설 등을 위한 특별법 , 조문 개수: 60 , 페이지: 1 , 몇번째?: 10\n",
            "법령명: 4ㆍ16세월호참사 피해구제 및 지원 등을 위한 특별법 , 조문 개수: 55 , 페이지: 1 , 몇번째?: 11\n",
            "법령명: 4ㆍ16세월호참사 피해구제 및 지원 등을 위한 특별법 시행령 , 조문 개수: 42 , 페이지: 1 , 몇번째?: 12\n",
            "법령명: 5ㆍ18민주유공자예우 및 단체설립에 관한 법률 , 조문 개수: 125 , 페이지: 1 , 몇번째?: 13\n",
            "법령명: 5ㆍ18민주화운동 등에 관한 특별법 , 조문 개수: 9 , 페이지: 1 , 몇번째?: 14\n",
            "법령명: 5ㆍ18민주화운동 진상규명을 위한 특별법 , 조문 개수: 84 , 페이지: 1 , 몇번째?: 15\n",
            "법령명: 6ㆍ25 전사자유해의 발굴 등에 관한 법률 , 조문 개수: 18 , 페이지: 1 , 몇번째?: 16\n",
            "법령명: 6ㆍ25전쟁 납북피해 진상규명 및 납북피해자 명예회복에 관한 법률 , 조문 개수: 18 , 페이지: 1 , 몇번째?: 17\n",
            "법령명: 6ㆍ25전쟁 납북피해 진상규명 및 납북피해자 명예회복에 관한 법률 시행령 , 조문 개수: 19 , 페이지: 1 , 몇번째?: 18\n",
            "법령명: 6ㆍ25전쟁 무공훈장 수여 등에 관한 법률 , 조문 개수: 11 , 페이지: 1 , 몇번째?: 19\n"
          ]
        },
        {
          "output_type": "stream",
          "name": "stderr",
          "text": [
            "\r  1%|          | 1/130 [02:08<4:36:01, 128.38s/it]"
          ]
        },
        {
          "output_type": "stream",
          "name": "stdout",
          "text": [
            "법령명: 6ㆍ25전쟁 전후 적 지역에서 활동한 비정규군 공로자 보상에 관한 법률 , 조문 개수: 21 , 페이지: 1 , 몇번째?: 20\n",
            "법령명: 6ㆍ25전쟁 전후 적 지역에서 활동한 비정규군 공로자 보상에 관한 법률 시행령 , 조문 개수: 20 , 페이지: 2 , 몇번째?: 21\n",
            "법령명: 가등기담보 등에 관한 법률 , 조문 개수: 18 , 페이지: 2 , 몇번째?: 22\n",
            "법령명: 가맹사업거래의 공정화에 관한 법률 , 조문 개수: 75 , 페이지: 2 , 몇번째?: 23\n",
            "법령명: 가맹사업거래의 공정화에 관한 법률 시행령 , 조문 개수: 62 , 페이지: 2 , 몇번째?: 24\n",
            "법령명: 가맹사업 진흥에 관한 법률 , 조문 개수: 19 , 페이지: 2 , 몇번째?: 25\n",
            "법령명: 가맹사업 진흥에 관한 법률 시행령 , 조문 개수: 7 , 페이지: 2 , 몇번째?: 26\n",
            "법령명: 가사근로자의 고용개선 등에 관한 법률 , 조문 개수: 35 , 페이지: 2 , 몇번째?: 27\n",
            "법령명: 가사소송법 , 조문 개수: 105 , 페이지: 2 , 몇번째?: 28\n",
            "법령명: 가석방자관리규정 , 조문 개수: 21 , 페이지: 2 , 몇번째?: 29\n",
            "법령명: 가습기살균제 피해구제를 위한 특별법 , 조문 개수: 58 , 페이지: 2 , 몇번째?: 30\n",
            "법령명: 가습기살균제 피해구제를 위한 특별법 시행령 , 조문 개수: 54 , 페이지: 2 , 몇번째?: 31\n",
            "법령명: 가정의례에관한법률 , 조문 개수: 15 , 페이지: 2 , 몇번째?: 32\n",
            "법령명: 가정폭력방지 및 피해자보호 등에 관한 법률 , 조문 개수: 42 , 페이지: 2 , 몇번째?: 33\n",
            "법령명: 가정폭력방지 및 피해자보호 등에 관한 법률 시행령 , 조문 개수: 14 , 페이지: 2 , 몇번째?: 34\n",
            "법령명: 가정폭력범죄의 처벌 등에 관한 특례법 , 조문 개수: 89 , 페이지: 2 , 몇번째?: 35\n",
            "법령명: 가정폭력범죄의 처벌 등에 관한 특례법 시행령 , 조문 개수: 7 , 페이지: 2 , 몇번째?: 36\n",
            "법령명: 가족관계의 등록 등에 관한 법률 , 조문 개수: 156 , 페이지: 2 , 몇번째?: 37\n",
            "법령명: 가족친화 사회환경의 조성 촉진에 관한 법률 , 조문 개수: 32 , 페이지: 2 , 몇번째?: 38\n",
            "법령명: 가족친화 사회환경의 조성 촉진에 관한 법률 시행령 , 조문 개수: 19 , 페이지: 2 , 몇번째?: 39\n"
          ]
        },
        {
          "output_type": "stream",
          "name": "stderr",
          "text": [
            "\r  2%|▏         | 2/130 [04:40<5:04:09, 142.57s/it]"
          ]
        },
        {
          "output_type": "stream",
          "name": "stdout",
          "text": [
            "법령명: 가축 및 축산물 이력관리에 관한 법률 , 조문 개수: 45 , 페이지: 2 , 몇번째?: 40\n",
            "안바뀐 법령 개수: 1\n",
            "법령명: 가축분뇨의 관리 및 이용에 관한 법률 , 조문 개수: 70 , 페이지: 3 , 몇번째?: 41\n",
            "법령명: 가축전염병 예방법 , 조문 개수: 100 , 페이지: 3 , 몇번째?: 42\n",
            "법령명: 가축전염병 예방법 시행령 , 조문 개수: 32 , 페이지: 3 , 몇번째?: 43\n",
            "법령명: 각급 법원의 설치와 관할구역에 관한 법률 , 조문 개수: 5 , 페이지: 3 , 몇번째?: 44\n",
            "법령명: 각급 법원 판사 정원법 , 조문 개수: 2 , 페이지: 3 , 몇번째?: 45\n",
            "법령명: 간선급행버스체계의 건설 및 운영에 관한 특별법 , 조문 개수: 48 , 페이지: 3 , 몇번째?: 46\n",
            "법령명: 간접투자자산 운용업법 , 조문 개수: 255 , 페이지: 3 , 몇번째?: 47\n",
            "법령명: 간접투자자산 운용업법 시행령 , 조문 개수: 216 , 페이지: 3 , 몇번째?: 48\n",
            "법령명: 간접투자자산 운용업법 시행규칙 , 조문 개수: 58 , 페이지: 3 , 몇번째?: 49\n",
            "법령명: 간척지의 농어업적 이용 및 관리에 관한 법률 , 조문 개수: 47 , 페이지: 3 , 몇번째?: 50\n",
            "법령명: 감사원법 , 조문 개수: 87 , 페이지: 3 , 몇번째?: 51\n",
            "법령명: 감염병의 예방 및 관리에 관한 법률 , 조문 개수: 144 , 페이지: 3 , 몇번째?: 52\n",
            "법령명: 감염병의 예방 및 관리에 관한 법률 시행령 , 조문 개수: 68 , 페이지: 3 , 몇번째?: 53\n",
            "법령명: 감정평가 및 감정평가사에 관한 법률 , 조문 개수: 69 , 페이지: 3 , 몇번째?: 54\n",
            "법령명: 개발이익 환수에 관한 법률 , 조문 개수: 38 , 페이지: 3 , 몇번째?: 55\n",
            "법령명: 개발이익 환수에 관한 법률 시행령 , 조문 개수: 38 , 페이지: 3 , 몇번째?: 56\n",
            "법령명: 개발제한구역의 지정 및 관리에 관한 특별조치법 , 조문 개수: 45 , 페이지: 3 , 몇번째?: 57\n",
            "법령명: 개발제한구역의 지정 및 관리에 관한 특별조치법 시행령 , 조문 개수: 66 , 페이지: 3 , 몇번째?: 58\n",
            "법령명: 개별소비세법 , 조문 개수: 40 , 페이지: 3 , 몇번째?: 59\n"
          ]
        },
        {
          "output_type": "stream",
          "name": "stderr",
          "text": [
            "\r  2%|▏         | 3/130 [08:01<5:57:23, 168.85s/it]"
          ]
        },
        {
          "output_type": "stream",
          "name": "stdout",
          "text": [
            "법령명: 개별소비세법 시행령 , 조문 개수: 62 , 페이지: 3 , 몇번째?: 60\n",
            "법령명: 개성공업지구 지원에 관한 법률 , 조문 개수: 34 , 페이지: 4 , 몇번째?: 61\n",
            "법령명: 개성공업지구 지원에 관한 법률 시행령 , 조문 개수: 41 , 페이지: 4 , 몇번째?: 62\n",
            "법령명: 개성공업지구 지원에 관한 법률 시행규칙 , 조문 개수: 4 , 페이지: 4 , 몇번째?: 63\n",
            "법령명: 개인정보 보호법 , 조문 개수: 140 , 페이지: 4 , 몇번째?: 64\n"
          ]
        },
        {
          "output_type": "stream",
          "name": "stderr",
          "text": [
            "\r  3%|▎         | 4/130 [08:25<3:55:10, 111.99s/it]"
          ]
        },
        {
          "output_type": "stream",
          "name": "stdout",
          "text": [
            "dict_contents 예외 발생: ('Connection aborted.', RemoteDisconnected('Remote end closed connection without response'))\n",
            "법령명: 건설기계저당법 , 조문 개수: 10 , 페이지: 5 , 몇번째?: 81\n",
            "법령명: 건설기계저당법시행령 , 조문 개수: 9 , 페이지: 5 , 몇번째?: 82\n",
            "법령명: 건설기술 진흥법 , 조문 개수: 128 , 페이지: 5 , 몇번째?: 83\n",
            "법령명: 건설기술 진흥법 시행령 , 조문 개수: 165 , 페이지: 5 , 몇번째?: 84\n",
            "법령명: 건설기술 진흥법 시행규칙 , 조문 개수: 73 , 페이지: 5 , 몇번째?: 85\n",
            "법령명: 건설산업기본법 , 조문 개수: 155 , 페이지: 5 , 몇번째?: 86\n",
            "법령명: 건설산업기본법 시행령 , 조문 개수: 146 , 페이지: 5 , 몇번째?: 87\n",
            "법령명: 건설폐기물의 재활용촉진에 관한 법률 , 조문 개수: 79 , 페이지: 5 , 몇번째?: 88\n",
            "법령명: 건설폐기물의 재활용촉진에 관한 법률 시행령 , 조문 개수: 43 , 페이지: 5 , 몇번째?: 89\n",
            "법령명: 건전가정의례의 정착 및 지원에 관한 법률 , 조문 개수: 8 , 페이지: 5 , 몇번째?: 90\n",
            "법령명: 건축기본법 , 조문 개수: 32 , 페이지: 5 , 몇번째?: 91\n",
            "법령명: 건축물의 분양에 관한 법률 , 조문 개수: 17 , 페이지: 5 , 몇번째?: 92\n",
            "법령명: 건축법 , 조문 개수: 178 , 페이지: 5 , 몇번째?: 93\n",
            "법령명: 건축법 시행령 , 조문 개수: 208 , 페이지: 5 , 몇번째?: 94\n",
            "법령명: 건축사법 , 조문 개수: 83 , 페이지: 5 , 몇번째?: 95\n",
            "eng_kor_contents 예외 발생: '조문제목'\n",
            "법령명: 건축서비스산업 진흥법 , 조문 개수: 47 , 페이지: 5 , 몇번째?: 96\n",
            "법령명: 검사의 보수에 관한 법률 , 조문 개수: 4 , 페이지: 5 , 몇번째?: 97\n",
            "법령명: 검사정원법 , 조문 개수: 2 , 페이지: 5 , 몇번째?: 98\n",
            "법령명: 검사징계법 , 조문 개수: 31 , 페이지: 5 , 몇번째?: 99\n"
          ]
        },
        {
          "output_type": "stream",
          "name": "stderr",
          "text": [
            "\r  4%|▍         | 5/130 [12:04<5:13:19, 150.39s/it]"
          ]
        },
        {
          "output_type": "stream",
          "name": "stdout",
          "text": [
            "법령명: 검역법 , 조문 개수: 65 , 페이지: 5 , 몇번째?: 100\n",
            "법령명: 검역법 시행령 , 조문 개수: 9 , 페이지: 6 , 몇번째?: 101\n",
            "법령명: 검찰청법 , 조문 개수: 71 , 페이지: 6 , 몇번째?: 102\n",
            "법령명: 게임산업진흥에 관한 법률 , 조문 개수: 78 , 페이지: 6 , 몇번째?: 103\n",
            "법령명: 게임산업진흥에 관한 법률 시행령 , 조문 개수: 41 , 페이지: 6 , 몇번째?: 104\n",
            "eng_kor_contents 예외 발생: '조문제목'\n",
            "법령명: 겨레말큰사전남북공동편찬사업회법 , 조문 개수: 24 , 페이지: 6 , 몇번째?: 105\n",
            "법령명: 결핵예방법 , 조문 개수: 41 , 페이지: 6 , 몇번째?: 106\n",
            "법령명: 결핵예방법 시행령 , 조문 개수: 18 , 페이지: 6 , 몇번째?: 107\n",
            "법령명: 결혼중개업의 관리에 관한 법률 , 조문 개수: 40 , 페이지: 6 , 몇번째?: 108\n",
            "법령명: 결혼중개업의 관리에 관한 법률 시행령 , 조문 개수: 12 , 페이지: 6 , 몇번째?: 109\n",
            "법령명: 결혼중개업의 관리에 관한 법률 시행규칙 , 조문 개수: 16 , 페이지: 6 , 몇번째?: 110\n",
            "법령명: 경관법 , 조문 개수: 41 , 페이지: 6 , 몇번째?: 111\n",
            "법령명: 경관법 시행령 , 조문 개수: 26 , 페이지: 6 , 몇번째?: 112\n",
            "법령명: 경력단절여성등의 경제활동 촉진법 시행령 , 조문 개수: 11 , 페이지: 6 , 몇번째?: 113\n",
            "법령명: 경륜ㆍ경정법 , 조문 개수: 42 , 페이지: 6 , 몇번째?: 114\n",
            "법령명: 경륜ㆍ경정법 시행령 , 조문 개수: 34 , 페이지: 6 , 몇번째?: 115\n",
            "법령명: 경범죄 처벌법 , 조문 개수: 13 , 페이지: 6 , 몇번째?: 116\n",
            "법령명: 경범죄 처벌법 시행령 , 조문 개수: 10 , 페이지: 6 , 몇번째?: 117\n",
            "법령명: 경비교도대 폐지에 따른 보상 등에 관한 법률 , 조문 개수: 4 , 페이지: 6 , 몇번째?: 118\n",
            "법령명: 경비교도대 폐지에 따른 보상 등에 관한 법률 시행령 , 조문 개수: 8 , 페이지: 6 , 몇번째?: 119\n"
          ]
        },
        {
          "output_type": "stream",
          "name": "stderr",
          "text": [
            "\r  5%|▍         | 6/130 [14:16<4:58:11, 144.28s/it]"
          ]
        },
        {
          "output_type": "stream",
          "name": "stdout",
          "text": [
            "법령명: 경비업법 , 조문 개수: 47 , 페이지: 6 , 몇번째?: 120\n",
            "법령명: 경비업법 시행령 , 조문 개수: 37 , 페이지: 7 , 몇번째?: 121\n",
            "법령명: 경영지도사 및 기술지도사에 관한 법률 , 조문 개수: 52 , 페이지: 7 , 몇번째?: 122\n",
            "법령명: 경제교육지원법 , 조문 개수: 16 , 페이지: 7 , 몇번째?: 123\n",
            "법령명: 경제사회노동위원회법 , 조문 개수: 20 , 페이지: 7 , 몇번째?: 124\n",
            "법령명: 경제사회발전노사정위원회법 시행령 , 조문 개수: 18 , 페이지: 7 , 몇번째?: 125\n",
            "법령명: 경제자유구역 및 제주국제자유도시의 외국교육기관 설립ㆍ운영에 관한 특별법 , 조문 개수: 25 , 페이지: 7 , 몇번째?: 126\n",
            "법령명: 경제자유구역 및 제주국제자유도시의 외국교육기관 설립ㆍ운영에 관한 특별법 시행령 , 조문 개수: 20 , 페이지: 7 , 몇번째?: 127\n",
            "법령명: 경제자유구역의 지정 및 운영에 관한 특별법 , 조문 개수: 87 , 페이지: 7 , 몇번째?: 128\n",
            "eng_kor_contents 예외 발생: '조문제목'\n",
            "법령명: 경제자유구역의 지정 및 운영에 관한 특별법 시행령 , 조문 개수: 69 , 페이지: 7 , 몇번째?: 129\n",
            "eng_kor_contents 예외 발생: '호'\n",
            "법령명: 경찰공무원법 , 조문 개수: 36 , 페이지: 7 , 몇번째?: 130\n",
            "법령명: 경찰공무원 보건안전 및 복지 기본법 , 조문 개수: 15 , 페이지: 7 , 몇번째?: 131\n",
            "법령명: 경찰공무원 보건안전 및 복지 기본법 시행령 , 조문 개수: 11 , 페이지: 7 , 몇번째?: 132\n",
            "법령명: 경찰관의 정보수집 및 처리 등에 관한 규정 , 조문 개수: 9 , 페이지: 7 , 몇번째?: 133\n",
            "법령명: 경찰관 직무집행법 , 조문 개수: 21 , 페이지: 7 , 몇번째?: 134\n",
            "법령명: 경찰관 직무집행법 시행령 , 조문 개수: 25 , 페이지: 7 , 몇번째?: 135\n",
            "법령명: 경찰법 , 조문 개수: 34 , 페이지: 7 , 몇번째?: 136\n",
            "법령명: 경찰제복 및 경찰장비의 규제에 관한 법률 , 조문 개수: 14 , 페이지: 7 , 몇번째?: 137\n",
            "법령명: 경찰제복 및 경찰장비의 규제에 관한 법률 시행령 , 조문 개수: 10 , 페이지: 7 , 몇번째?: 138\n",
            "법령명: 경찰직무 응원법 , 조문 개수: 9 , 페이지: 7 , 몇번째?: 139\n"
          ]
        },
        {
          "output_type": "stream",
          "name": "stderr",
          "text": [
            "\r  5%|▌         | 7/130 [16:44<4:58:11, 145.46s/it]"
          ]
        },
        {
          "output_type": "stream",
          "name": "stdout",
          "text": [
            "법령명: 계량에 관한 법률 , 조문 개수: 89 , 페이지: 7 , 몇번째?: 140\n",
            "법령명: 계량에 관한 법률 시행령 , 조문 개수: 53 , 페이지: 8 , 몇번째?: 141\n",
            "법령명: 계엄법 , 조문 개수: 19 , 페이지: 8 , 몇번째?: 142\n",
            "법령명: 계엄법 시행령 , 조문 개수: 15 , 페이지: 8 , 몇번째?: 143\n",
            "법령명: 고도 보존 및 육성에 관한 특별법 , 조문 개수: 45 , 페이지: 8 , 몇번째?: 144\n",
            "법령명: 고도 보존 및 육성에 관한 특별법 시행령 , 조문 개수: 42 , 페이지: 8 , 몇번째?: 145\n",
            "eng_kor_contents 예외 발생: '조문제목'\n",
            "법령명: 고독사 예방 및 관리에 관한 법률 , 조문 개수: 26 , 페이지: 8 , 몇번째?: 146\n",
            "법령명: 고등교육법 , 조문 개수: 108 , 페이지: 8 , 몇번째?: 147\n",
            "법령명: 고등교육법 시행령 , 조문 개수: 127 , 페이지: 8 , 몇번째?: 148\n",
            "법령명: 고등학교 입학자격 검정고시 규칙 , 조문 개수: 18 , 페이지: 8 , 몇번째?: 149\n",
            "법령명: 고등학교 졸업학력 검정고시 규칙 , 조문 개수: 26 , 페이지: 8 , 몇번째?: 150\n",
            "법령명: 고려인동포 합법적 체류자격 취득 및 정착 지원을 위한 특별법 , 조문 개수: 8 , 페이지: 8 , 몇번째?: 151\n",
            "법령명: 고령친화산업 진흥법 , 조문 개수: 20 , 페이지: 8 , 몇번째?: 152\n",
            "법령명: 고령친화산업 진흥법 시행령 , 조문 개수: 16 , 페이지: 8 , 몇번째?: 153\n",
            "법령명: 고속국도법 , 조문 개수: 16 , 페이지: 8 , 몇번째?: 154\n",
            "법령명: 고압가스 안전관리법 , 조문 개수: 78 , 페이지: 8 , 몇번째?: 155\n"
          ]
        },
        {
          "output_type": "stream",
          "name": "stderr",
          "text": [
            "\r  5%|▌         | 7/130 [19:00<5:34:02, 162.94s/it]\n"
          ]
        },
        {
          "output_type": "error",
          "ename": "KeyboardInterrupt",
          "evalue": "ignored",
          "traceback": [
            "\u001b[0;31m---------------------------------------------------------------------------\u001b[0m",
            "\u001b[0;31mKeyboardInterrupt\u001b[0m                         Traceback (most recent call last)",
            "\u001b[0;32m<ipython-input-509-bf3d528819bc>\u001b[0m in \u001b[0;36m<cell line: 8>\u001b[0;34m()\u001b[0m\n\u001b[1;32m     30\u001b[0m                 \u001b[0;34m+\u001b[0m \u001b[0;34m'&MST='\u001b[0m \u001b[0;34m+\u001b[0m \u001b[0mstr\u001b[0m\u001b[0;34m(\u001b[0m\u001b[0mmst\u001b[0m\u001b[0;34m)\u001b[0m\u001b[0;34m\u001b[0m\u001b[0;34m\u001b[0m\u001b[0m\n\u001b[1;32m     31\u001b[0m                 \u001b[0;31m# + '&ID=' + str(법령ID)\u001b[0m\u001b[0;34m\u001b[0m\u001b[0;34m\u001b[0m\u001b[0m\n\u001b[0;32m---> 32\u001b[0;31m       \u001b[0mkor_response\u001b[0m \u001b[0;34m=\u001b[0m \u001b[0mrequests\u001b[0m\u001b[0;34m.\u001b[0m\u001b[0mget\u001b[0m\u001b[0;34m(\u001b[0m\u001b[0mkor_url\u001b[0m\u001b[0;34m)\u001b[0m\u001b[0;34m\u001b[0m\u001b[0;34m\u001b[0m\u001b[0m\n\u001b[0m\u001b[1;32m     33\u001b[0m       \u001b[0mkor_contents\u001b[0m \u001b[0;34m=\u001b[0m \u001b[0mkor_response\u001b[0m\u001b[0;34m.\u001b[0m\u001b[0mtext\u001b[0m\u001b[0;34m\u001b[0m\u001b[0;34m\u001b[0m\u001b[0m\n\u001b[1;32m     34\u001b[0m       \u001b[0mkor_dict_contents\u001b[0m \u001b[0;34m=\u001b[0m \u001b[0mxmltodict\u001b[0m\u001b[0;34m.\u001b[0m\u001b[0mparse\u001b[0m\u001b[0;34m(\u001b[0m\u001b[0mkor_contents\u001b[0m\u001b[0;34m)\u001b[0m\u001b[0;34m\u001b[0m\u001b[0;34m\u001b[0m\u001b[0m\n",
            "\u001b[0;32m/usr/local/lib/python3.10/dist-packages/requests/api.py\u001b[0m in \u001b[0;36mget\u001b[0;34m(url, params, **kwargs)\u001b[0m\n\u001b[1;32m     71\u001b[0m     \"\"\"\n\u001b[1;32m     72\u001b[0m \u001b[0;34m\u001b[0m\u001b[0m\n\u001b[0;32m---> 73\u001b[0;31m     \u001b[0;32mreturn\u001b[0m \u001b[0mrequest\u001b[0m\u001b[0;34m(\u001b[0m\u001b[0;34m\"get\"\u001b[0m\u001b[0;34m,\u001b[0m \u001b[0murl\u001b[0m\u001b[0;34m,\u001b[0m \u001b[0mparams\u001b[0m\u001b[0;34m=\u001b[0m\u001b[0mparams\u001b[0m\u001b[0;34m,\u001b[0m \u001b[0;34m**\u001b[0m\u001b[0mkwargs\u001b[0m\u001b[0;34m)\u001b[0m\u001b[0;34m\u001b[0m\u001b[0;34m\u001b[0m\u001b[0m\n\u001b[0m\u001b[1;32m     74\u001b[0m \u001b[0;34m\u001b[0m\u001b[0m\n\u001b[1;32m     75\u001b[0m \u001b[0;34m\u001b[0m\u001b[0m\n",
            "\u001b[0;32m/usr/local/lib/python3.10/dist-packages/requests/api.py\u001b[0m in \u001b[0;36mrequest\u001b[0;34m(method, url, **kwargs)\u001b[0m\n\u001b[1;32m     57\u001b[0m     \u001b[0;31m# cases, and look like a memory leak in others.\u001b[0m\u001b[0;34m\u001b[0m\u001b[0;34m\u001b[0m\u001b[0m\n\u001b[1;32m     58\u001b[0m     \u001b[0;32mwith\u001b[0m \u001b[0msessions\u001b[0m\u001b[0;34m.\u001b[0m\u001b[0mSession\u001b[0m\u001b[0;34m(\u001b[0m\u001b[0;34m)\u001b[0m \u001b[0;32mas\u001b[0m \u001b[0msession\u001b[0m\u001b[0;34m:\u001b[0m\u001b[0;34m\u001b[0m\u001b[0;34m\u001b[0m\u001b[0m\n\u001b[0;32m---> 59\u001b[0;31m         \u001b[0;32mreturn\u001b[0m \u001b[0msession\u001b[0m\u001b[0;34m.\u001b[0m\u001b[0mrequest\u001b[0m\u001b[0;34m(\u001b[0m\u001b[0mmethod\u001b[0m\u001b[0;34m=\u001b[0m\u001b[0mmethod\u001b[0m\u001b[0;34m,\u001b[0m \u001b[0murl\u001b[0m\u001b[0;34m=\u001b[0m\u001b[0murl\u001b[0m\u001b[0;34m,\u001b[0m \u001b[0;34m**\u001b[0m\u001b[0mkwargs\u001b[0m\u001b[0;34m)\u001b[0m\u001b[0;34m\u001b[0m\u001b[0;34m\u001b[0m\u001b[0m\n\u001b[0m\u001b[1;32m     60\u001b[0m \u001b[0;34m\u001b[0m\u001b[0m\n\u001b[1;32m     61\u001b[0m \u001b[0;34m\u001b[0m\u001b[0m\n",
            "\u001b[0;32m/usr/local/lib/python3.10/dist-packages/requests/sessions.py\u001b[0m in \u001b[0;36mrequest\u001b[0;34m(self, method, url, params, data, headers, cookies, files, auth, timeout, allow_redirects, proxies, hooks, stream, verify, cert, json)\u001b[0m\n\u001b[1;32m    587\u001b[0m         }\n\u001b[1;32m    588\u001b[0m         \u001b[0msend_kwargs\u001b[0m\u001b[0;34m.\u001b[0m\u001b[0mupdate\u001b[0m\u001b[0;34m(\u001b[0m\u001b[0msettings\u001b[0m\u001b[0;34m)\u001b[0m\u001b[0;34m\u001b[0m\u001b[0;34m\u001b[0m\u001b[0m\n\u001b[0;32m--> 589\u001b[0;31m         \u001b[0mresp\u001b[0m \u001b[0;34m=\u001b[0m \u001b[0mself\u001b[0m\u001b[0;34m.\u001b[0m\u001b[0msend\u001b[0m\u001b[0;34m(\u001b[0m\u001b[0mprep\u001b[0m\u001b[0;34m,\u001b[0m \u001b[0;34m**\u001b[0m\u001b[0msend_kwargs\u001b[0m\u001b[0;34m)\u001b[0m\u001b[0;34m\u001b[0m\u001b[0;34m\u001b[0m\u001b[0m\n\u001b[0m\u001b[1;32m    590\u001b[0m \u001b[0;34m\u001b[0m\u001b[0m\n\u001b[1;32m    591\u001b[0m         \u001b[0;32mreturn\u001b[0m \u001b[0mresp\u001b[0m\u001b[0;34m\u001b[0m\u001b[0;34m\u001b[0m\u001b[0m\n",
            "\u001b[0;32m/usr/local/lib/python3.10/dist-packages/requests/sessions.py\u001b[0m in \u001b[0;36msend\u001b[0;34m(self, request, **kwargs)\u001b[0m\n\u001b[1;32m    701\u001b[0m \u001b[0;34m\u001b[0m\u001b[0m\n\u001b[1;32m    702\u001b[0m         \u001b[0;31m# Send the request\u001b[0m\u001b[0;34m\u001b[0m\u001b[0;34m\u001b[0m\u001b[0m\n\u001b[0;32m--> 703\u001b[0;31m         \u001b[0mr\u001b[0m \u001b[0;34m=\u001b[0m \u001b[0madapter\u001b[0m\u001b[0;34m.\u001b[0m\u001b[0msend\u001b[0m\u001b[0;34m(\u001b[0m\u001b[0mrequest\u001b[0m\u001b[0;34m,\u001b[0m \u001b[0;34m**\u001b[0m\u001b[0mkwargs\u001b[0m\u001b[0;34m)\u001b[0m\u001b[0;34m\u001b[0m\u001b[0;34m\u001b[0m\u001b[0m\n\u001b[0m\u001b[1;32m    704\u001b[0m \u001b[0;34m\u001b[0m\u001b[0m\n\u001b[1;32m    705\u001b[0m         \u001b[0;31m# Total elapsed time of the request (approximately)\u001b[0m\u001b[0;34m\u001b[0m\u001b[0;34m\u001b[0m\u001b[0m\n",
            "\u001b[0;32m/usr/local/lib/python3.10/dist-packages/requests/adapters.py\u001b[0m in \u001b[0;36msend\u001b[0;34m(self, request, stream, timeout, verify, cert, proxies)\u001b[0m\n\u001b[1;32m    484\u001b[0m \u001b[0;34m\u001b[0m\u001b[0m\n\u001b[1;32m    485\u001b[0m         \u001b[0;32mtry\u001b[0m\u001b[0;34m:\u001b[0m\u001b[0;34m\u001b[0m\u001b[0;34m\u001b[0m\u001b[0m\n\u001b[0;32m--> 486\u001b[0;31m             resp = conn.urlopen(\n\u001b[0m\u001b[1;32m    487\u001b[0m                 \u001b[0mmethod\u001b[0m\u001b[0;34m=\u001b[0m\u001b[0mrequest\u001b[0m\u001b[0;34m.\u001b[0m\u001b[0mmethod\u001b[0m\u001b[0;34m,\u001b[0m\u001b[0;34m\u001b[0m\u001b[0;34m\u001b[0m\u001b[0m\n\u001b[1;32m    488\u001b[0m                 \u001b[0murl\u001b[0m\u001b[0;34m=\u001b[0m\u001b[0murl\u001b[0m\u001b[0;34m,\u001b[0m\u001b[0;34m\u001b[0m\u001b[0;34m\u001b[0m\u001b[0m\n",
            "\u001b[0;32m/usr/local/lib/python3.10/dist-packages/urllib3/connectionpool.py\u001b[0m in \u001b[0;36murlopen\u001b[0;34m(self, method, url, body, headers, retries, redirect, assert_same_host, timeout, pool_timeout, release_conn, chunked, body_pos, preload_content, decode_content, **response_kw)\u001b[0m\n\u001b[1;32m    789\u001b[0m \u001b[0;34m\u001b[0m\u001b[0m\n\u001b[1;32m    790\u001b[0m             \u001b[0;31m# Make the request on the HTTPConnection object\u001b[0m\u001b[0;34m\u001b[0m\u001b[0;34m\u001b[0m\u001b[0m\n\u001b[0;32m--> 791\u001b[0;31m             response = self._make_request(\n\u001b[0m\u001b[1;32m    792\u001b[0m                 \u001b[0mconn\u001b[0m\u001b[0;34m,\u001b[0m\u001b[0;34m\u001b[0m\u001b[0;34m\u001b[0m\u001b[0m\n\u001b[1;32m    793\u001b[0m                 \u001b[0mmethod\u001b[0m\u001b[0;34m,\u001b[0m\u001b[0;34m\u001b[0m\u001b[0;34m\u001b[0m\u001b[0m\n",
            "\u001b[0;32m/usr/local/lib/python3.10/dist-packages/urllib3/connectionpool.py\u001b[0m in \u001b[0;36m_make_request\u001b[0;34m(self, conn, method, url, body, headers, retries, timeout, chunked, response_conn, preload_content, decode_content, enforce_content_length)\u001b[0m\n\u001b[1;32m    535\u001b[0m         \u001b[0;31m# Receive the response from the server\u001b[0m\u001b[0;34m\u001b[0m\u001b[0;34m\u001b[0m\u001b[0m\n\u001b[1;32m    536\u001b[0m         \u001b[0;32mtry\u001b[0m\u001b[0;34m:\u001b[0m\u001b[0;34m\u001b[0m\u001b[0;34m\u001b[0m\u001b[0m\n\u001b[0;32m--> 537\u001b[0;31m             \u001b[0mresponse\u001b[0m \u001b[0;34m=\u001b[0m \u001b[0mconn\u001b[0m\u001b[0;34m.\u001b[0m\u001b[0mgetresponse\u001b[0m\u001b[0;34m(\u001b[0m\u001b[0;34m)\u001b[0m\u001b[0;34m\u001b[0m\u001b[0;34m\u001b[0m\u001b[0m\n\u001b[0m\u001b[1;32m    538\u001b[0m         \u001b[0;32mexcept\u001b[0m \u001b[0;34m(\u001b[0m\u001b[0mBaseSSLError\u001b[0m\u001b[0;34m,\u001b[0m \u001b[0mOSError\u001b[0m\u001b[0;34m)\u001b[0m \u001b[0;32mas\u001b[0m \u001b[0me\u001b[0m\u001b[0;34m:\u001b[0m\u001b[0;34m\u001b[0m\u001b[0;34m\u001b[0m\u001b[0m\n\u001b[1;32m    539\u001b[0m             \u001b[0mself\u001b[0m\u001b[0;34m.\u001b[0m\u001b[0m_raise_timeout\u001b[0m\u001b[0;34m(\u001b[0m\u001b[0merr\u001b[0m\u001b[0;34m=\u001b[0m\u001b[0me\u001b[0m\u001b[0;34m,\u001b[0m \u001b[0murl\u001b[0m\u001b[0;34m=\u001b[0m\u001b[0murl\u001b[0m\u001b[0;34m,\u001b[0m \u001b[0mtimeout_value\u001b[0m\u001b[0;34m=\u001b[0m\u001b[0mread_timeout\u001b[0m\u001b[0;34m)\u001b[0m\u001b[0;34m\u001b[0m\u001b[0;34m\u001b[0m\u001b[0m\n",
            "\u001b[0;32m/usr/local/lib/python3.10/dist-packages/urllib3/connection.py\u001b[0m in \u001b[0;36mgetresponse\u001b[0;34m(self)\u001b[0m\n\u001b[1;32m    459\u001b[0m \u001b[0;34m\u001b[0m\u001b[0m\n\u001b[1;32m    460\u001b[0m         \u001b[0;31m# Get the response from http.client.HTTPConnection\u001b[0m\u001b[0;34m\u001b[0m\u001b[0;34m\u001b[0m\u001b[0m\n\u001b[0;32m--> 461\u001b[0;31m         \u001b[0mhttplib_response\u001b[0m \u001b[0;34m=\u001b[0m \u001b[0msuper\u001b[0m\u001b[0;34m(\u001b[0m\u001b[0;34m)\u001b[0m\u001b[0;34m.\u001b[0m\u001b[0mgetresponse\u001b[0m\u001b[0;34m(\u001b[0m\u001b[0;34m)\u001b[0m\u001b[0;34m\u001b[0m\u001b[0;34m\u001b[0m\u001b[0m\n\u001b[0m\u001b[1;32m    462\u001b[0m \u001b[0;34m\u001b[0m\u001b[0m\n\u001b[1;32m    463\u001b[0m         \u001b[0;32mtry\u001b[0m\u001b[0;34m:\u001b[0m\u001b[0;34m\u001b[0m\u001b[0;34m\u001b[0m\u001b[0m\n",
            "\u001b[0;32m/usr/lib/python3.10/http/client.py\u001b[0m in \u001b[0;36mgetresponse\u001b[0;34m(self)\u001b[0m\n\u001b[1;32m   1373\u001b[0m         \u001b[0;32mtry\u001b[0m\u001b[0;34m:\u001b[0m\u001b[0;34m\u001b[0m\u001b[0;34m\u001b[0m\u001b[0m\n\u001b[1;32m   1374\u001b[0m             \u001b[0;32mtry\u001b[0m\u001b[0;34m:\u001b[0m\u001b[0;34m\u001b[0m\u001b[0;34m\u001b[0m\u001b[0m\n\u001b[0;32m-> 1375\u001b[0;31m                 \u001b[0mresponse\u001b[0m\u001b[0;34m.\u001b[0m\u001b[0mbegin\u001b[0m\u001b[0;34m(\u001b[0m\u001b[0;34m)\u001b[0m\u001b[0;34m\u001b[0m\u001b[0;34m\u001b[0m\u001b[0m\n\u001b[0m\u001b[1;32m   1376\u001b[0m             \u001b[0;32mexcept\u001b[0m \u001b[0mConnectionError\u001b[0m\u001b[0;34m:\u001b[0m\u001b[0;34m\u001b[0m\u001b[0;34m\u001b[0m\u001b[0m\n\u001b[1;32m   1377\u001b[0m                 \u001b[0mself\u001b[0m\u001b[0;34m.\u001b[0m\u001b[0mclose\u001b[0m\u001b[0;34m(\u001b[0m\u001b[0;34m)\u001b[0m\u001b[0;34m\u001b[0m\u001b[0;34m\u001b[0m\u001b[0m\n",
            "\u001b[0;32m/usr/lib/python3.10/http/client.py\u001b[0m in \u001b[0;36mbegin\u001b[0;34m(self)\u001b[0m\n\u001b[1;32m    316\u001b[0m         \u001b[0;31m# read until we get a non-100 response\u001b[0m\u001b[0;34m\u001b[0m\u001b[0;34m\u001b[0m\u001b[0m\n\u001b[1;32m    317\u001b[0m         \u001b[0;32mwhile\u001b[0m \u001b[0;32mTrue\u001b[0m\u001b[0;34m:\u001b[0m\u001b[0;34m\u001b[0m\u001b[0;34m\u001b[0m\u001b[0m\n\u001b[0;32m--> 318\u001b[0;31m             \u001b[0mversion\u001b[0m\u001b[0;34m,\u001b[0m \u001b[0mstatus\u001b[0m\u001b[0;34m,\u001b[0m \u001b[0mreason\u001b[0m \u001b[0;34m=\u001b[0m \u001b[0mself\u001b[0m\u001b[0;34m.\u001b[0m\u001b[0m_read_status\u001b[0m\u001b[0;34m(\u001b[0m\u001b[0;34m)\u001b[0m\u001b[0;34m\u001b[0m\u001b[0;34m\u001b[0m\u001b[0m\n\u001b[0m\u001b[1;32m    319\u001b[0m             \u001b[0;32mif\u001b[0m \u001b[0mstatus\u001b[0m \u001b[0;34m!=\u001b[0m \u001b[0mCONTINUE\u001b[0m\u001b[0;34m:\u001b[0m\u001b[0;34m\u001b[0m\u001b[0;34m\u001b[0m\u001b[0m\n\u001b[1;32m    320\u001b[0m                 \u001b[0;32mbreak\u001b[0m\u001b[0;34m\u001b[0m\u001b[0;34m\u001b[0m\u001b[0m\n",
            "\u001b[0;32m/usr/lib/python3.10/http/client.py\u001b[0m in \u001b[0;36m_read_status\u001b[0;34m(self)\u001b[0m\n\u001b[1;32m    277\u001b[0m \u001b[0;34m\u001b[0m\u001b[0m\n\u001b[1;32m    278\u001b[0m     \u001b[0;32mdef\u001b[0m \u001b[0m_read_status\u001b[0m\u001b[0;34m(\u001b[0m\u001b[0mself\u001b[0m\u001b[0;34m)\u001b[0m\u001b[0;34m:\u001b[0m\u001b[0;34m\u001b[0m\u001b[0;34m\u001b[0m\u001b[0m\n\u001b[0;32m--> 279\u001b[0;31m         \u001b[0mline\u001b[0m \u001b[0;34m=\u001b[0m \u001b[0mstr\u001b[0m\u001b[0;34m(\u001b[0m\u001b[0mself\u001b[0m\u001b[0;34m.\u001b[0m\u001b[0mfp\u001b[0m\u001b[0;34m.\u001b[0m\u001b[0mreadline\u001b[0m\u001b[0;34m(\u001b[0m\u001b[0m_MAXLINE\u001b[0m \u001b[0;34m+\u001b[0m \u001b[0;36m1\u001b[0m\u001b[0;34m)\u001b[0m\u001b[0;34m,\u001b[0m \u001b[0;34m\"iso-8859-1\"\u001b[0m\u001b[0;34m)\u001b[0m\u001b[0;34m\u001b[0m\u001b[0;34m\u001b[0m\u001b[0m\n\u001b[0m\u001b[1;32m    280\u001b[0m         \u001b[0;32mif\u001b[0m \u001b[0mlen\u001b[0m\u001b[0;34m(\u001b[0m\u001b[0mline\u001b[0m\u001b[0;34m)\u001b[0m \u001b[0;34m>\u001b[0m \u001b[0m_MAXLINE\u001b[0m\u001b[0;34m:\u001b[0m\u001b[0;34m\u001b[0m\u001b[0;34m\u001b[0m\u001b[0m\n\u001b[1;32m    281\u001b[0m             \u001b[0;32mraise\u001b[0m \u001b[0mLineTooLong\u001b[0m\u001b[0;34m(\u001b[0m\u001b[0;34m\"status line\"\u001b[0m\u001b[0;34m)\u001b[0m\u001b[0;34m\u001b[0m\u001b[0;34m\u001b[0m\u001b[0m\n",
            "\u001b[0;32m/usr/lib/python3.10/socket.py\u001b[0m in \u001b[0;36mreadinto\u001b[0;34m(self, b)\u001b[0m\n\u001b[1;32m    703\u001b[0m         \u001b[0;32mwhile\u001b[0m \u001b[0;32mTrue\u001b[0m\u001b[0;34m:\u001b[0m\u001b[0;34m\u001b[0m\u001b[0;34m\u001b[0m\u001b[0m\n\u001b[1;32m    704\u001b[0m             \u001b[0;32mtry\u001b[0m\u001b[0;34m:\u001b[0m\u001b[0;34m\u001b[0m\u001b[0;34m\u001b[0m\u001b[0m\n\u001b[0;32m--> 705\u001b[0;31m                 \u001b[0;32mreturn\u001b[0m \u001b[0mself\u001b[0m\u001b[0;34m.\u001b[0m\u001b[0m_sock\u001b[0m\u001b[0;34m.\u001b[0m\u001b[0mrecv_into\u001b[0m\u001b[0;34m(\u001b[0m\u001b[0mb\u001b[0m\u001b[0;34m)\u001b[0m\u001b[0;34m\u001b[0m\u001b[0;34m\u001b[0m\u001b[0m\n\u001b[0m\u001b[1;32m    706\u001b[0m             \u001b[0;32mexcept\u001b[0m \u001b[0mtimeout\u001b[0m\u001b[0;34m:\u001b[0m\u001b[0;34m\u001b[0m\u001b[0;34m\u001b[0m\u001b[0m\n\u001b[1;32m    707\u001b[0m                 \u001b[0mself\u001b[0m\u001b[0;34m.\u001b[0m\u001b[0m_timeout_occurred\u001b[0m \u001b[0;34m=\u001b[0m \u001b[0;32mTrue\u001b[0m\u001b[0;34m\u001b[0m\u001b[0;34m\u001b[0m\u001b[0m\n",
            "\u001b[0;32m/usr/lib/python3.10/ssl.py\u001b[0m in \u001b[0;36mrecv_into\u001b[0;34m(self, buffer, nbytes, flags)\u001b[0m\n\u001b[1;32m   1301\u001b[0m                   \u001b[0;34m\"non-zero flags not allowed in calls to recv_into() on %s\"\u001b[0m \u001b[0;34m%\u001b[0m\u001b[0;34m\u001b[0m\u001b[0;34m\u001b[0m\u001b[0m\n\u001b[1;32m   1302\u001b[0m                   self.__class__)\n\u001b[0;32m-> 1303\u001b[0;31m             \u001b[0;32mreturn\u001b[0m \u001b[0mself\u001b[0m\u001b[0;34m.\u001b[0m\u001b[0mread\u001b[0m\u001b[0;34m(\u001b[0m\u001b[0mnbytes\u001b[0m\u001b[0;34m,\u001b[0m \u001b[0mbuffer\u001b[0m\u001b[0;34m)\u001b[0m\u001b[0;34m\u001b[0m\u001b[0;34m\u001b[0m\u001b[0m\n\u001b[0m\u001b[1;32m   1304\u001b[0m         \u001b[0;32melse\u001b[0m\u001b[0;34m:\u001b[0m\u001b[0;34m\u001b[0m\u001b[0;34m\u001b[0m\u001b[0m\n\u001b[1;32m   1305\u001b[0m             \u001b[0;32mreturn\u001b[0m \u001b[0msuper\u001b[0m\u001b[0;34m(\u001b[0m\u001b[0;34m)\u001b[0m\u001b[0;34m.\u001b[0m\u001b[0mrecv_into\u001b[0m\u001b[0;34m(\u001b[0m\u001b[0mbuffer\u001b[0m\u001b[0;34m,\u001b[0m \u001b[0mnbytes\u001b[0m\u001b[0;34m,\u001b[0m \u001b[0mflags\u001b[0m\u001b[0;34m)\u001b[0m\u001b[0;34m\u001b[0m\u001b[0;34m\u001b[0m\u001b[0m\n",
            "\u001b[0;32m/usr/lib/python3.10/ssl.py\u001b[0m in \u001b[0;36mread\u001b[0;34m(self, len, buffer)\u001b[0m\n\u001b[1;32m   1157\u001b[0m         \u001b[0;32mtry\u001b[0m\u001b[0;34m:\u001b[0m\u001b[0;34m\u001b[0m\u001b[0;34m\u001b[0m\u001b[0m\n\u001b[1;32m   1158\u001b[0m             \u001b[0;32mif\u001b[0m \u001b[0mbuffer\u001b[0m \u001b[0;32mis\u001b[0m \u001b[0;32mnot\u001b[0m \u001b[0;32mNone\u001b[0m\u001b[0;34m:\u001b[0m\u001b[0;34m\u001b[0m\u001b[0;34m\u001b[0m\u001b[0m\n\u001b[0;32m-> 1159\u001b[0;31m                 \u001b[0;32mreturn\u001b[0m \u001b[0mself\u001b[0m\u001b[0;34m.\u001b[0m\u001b[0m_sslobj\u001b[0m\u001b[0;34m.\u001b[0m\u001b[0mread\u001b[0m\u001b[0;34m(\u001b[0m\u001b[0mlen\u001b[0m\u001b[0;34m,\u001b[0m \u001b[0mbuffer\u001b[0m\u001b[0;34m)\u001b[0m\u001b[0;34m\u001b[0m\u001b[0;34m\u001b[0m\u001b[0m\n\u001b[0m\u001b[1;32m   1160\u001b[0m             \u001b[0;32melse\u001b[0m\u001b[0;34m:\u001b[0m\u001b[0;34m\u001b[0m\u001b[0;34m\u001b[0m\u001b[0m\n\u001b[1;32m   1161\u001b[0m                 \u001b[0;32mreturn\u001b[0m \u001b[0mself\u001b[0m\u001b[0;34m.\u001b[0m\u001b[0m_sslobj\u001b[0m\u001b[0;34m.\u001b[0m\u001b[0mread\u001b[0m\u001b[0;34m(\u001b[0m\u001b[0mlen\u001b[0m\u001b[0;34m)\u001b[0m\u001b[0;34m\u001b[0m\u001b[0;34m\u001b[0m\u001b[0m\n",
            "\u001b[0;31mKeyboardInterrupt\u001b[0m: "
          ]
        }
      ]
    },
    {
      "cell_type": "code",
      "source": [
        "url = 'http://www.law.go.kr/DRF/lawSearch.do?OC=seokhee051&target=elaw&type=XML' \\\n",
        "        + '&page=1'\n",
        "# url 불러오기\n",
        "response = requests.get(url)\n",
        "# XML -> 딕셔너리 변환후 파싱\n",
        "contents = response.text\n",
        "dict_contents = xmltodict.parse(contents)\n",
        "\n",
        "content = dict_contents['LawSearch']['law'][5]\n",
        "\n",
        "name_kor = content['법령명한글']\n",
        "name_eng = content['법령명영문']\n",
        "mst = content['법령일련번호']\n",
        "print(name_kor)\n",
        "eng_url = 'https://www.law.go.kr/DRF/lawService.do?OC=seokhee051&target=elaw' \\\n",
        "          + '&MST=' + str(mst)\n",
        "          # + '&ID=' + str(법령ID)\n",
        "eng_response = requests.get(eng_url)\n",
        "eng_contents = eng_response.text\n",
        "eng_dict_contents = xmltodict.parse(eng_contents)\n",
        "\n",
        "kor_url = 'https://www.law.go.kr/DRF/lawService.do?OC=seokhee051&target=law' \\\n",
        "          + '&MST=' + str(mst)\n",
        "          # + '&ID=' + str(법령ID)\n",
        "kor_response = requests.get(kor_url)\n",
        "kor_contents = kor_response.text\n",
        "kor_dict_contents = xmltodict.parse(kor_contents)"
      ],
      "metadata": {
        "colab": {
          "base_uri": "https://localhost:8080/"
        },
        "id": "dKOL_fsAOq9c",
        "outputId": "fa9b3b1b-4f98-4992-9f78-6b16542f33ab"
      },
      "execution_count": 501,
      "outputs": [
        {
          "output_type": "stream",
          "name": "stdout",
          "text": [
            "2018 평창 동계올림픽대회 및 동계패럴림픽대회 지원 등에 관한 특별법\n"
          ]
        }
      ]
    },
    {
      "cell_type": "code",
      "source": [
        "count = 0\n",
        "for temp in kor_dict_contents['법령']['조문']['조문단위']:\n",
        "    if temp.get('조문제목'):\n",
        "        if temp['조문제목'] == '기념화폐의 판매':\n",
        "            print(count)\n",
        "    count += 1"
      ],
      "metadata": {
        "colab": {
          "base_uri": "https://localhost:8080/"
        },
        "id": "kgm8Dla-udOH",
        "outputId": "fc834c99-6229-4b6d-ea0a-ddaac3ff094e"
      },
      "execution_count": 502,
      "outputs": [
        {
          "output_type": "stream",
          "name": "stdout",
          "text": [
            "17\n"
          ]
        }
      ]
    },
    {
      "cell_type": "code",
      "source": [
        "eng_dict_contents['Law']['JoSection']['Jo'][17]"
      ],
      "metadata": {
        "colab": {
          "base_uri": "https://localhost:8080/"
        },
        "id": "e0NFbzpdFzZh",
        "outputId": "82fb245e-1b83-4e66-a2f2-c96af789731e"
      },
      "execution_count": 503,
      "outputs": [
        {
          "output_type": "execute_result",
          "data": {
            "text/plain": [
              "{'@No': '18',\n",
              " 'chapNo': '00000200000000000000',\n",
              " 'joNo': '0014',\n",
              " 'joBrNo': '00',\n",
              " 'joYn': 'Y',\n",
              " 'joTtl': 'Sale of Commemorative Banknotes',\n",
              " 'joCts': 'Article 14 (Sale of Commemorative Banknotes) (1) In order to cover the expenses to be incurred in preparing and operating the Games, the Organizing Committee may request the Bank of Korea to issue commemorative banknotes. <Amended by Act No. 14198, May 29, 2016>\\n  (2) The Organizing Committee may exclusively acquire commemorative banknotes issued under paragraph (1). <Amended by Act No. 14198, May 29, 2016>\\n  [This Article remains in force through Mar. 31, 2019 pursuant to Article 2 of Addenda to Act No. 11226, Jan. 26, 2012]'}"
            ]
          },
          "metadata": {},
          "execution_count": 503
        }
      ]
    },
    {
      "cell_type": "code",
      "source": [
        "kor_dict_contents['법령']['조문']['조문단위'][17]"
      ],
      "metadata": {
        "colab": {
          "base_uri": "https://localhost:8080/"
        },
        "id": "DFs5EwD9p4DB",
        "outputId": "f7957767-a7ae-49df-f8eb-298938c487d6"
      },
      "execution_count": 504,
      "outputs": [
        {
          "output_type": "execute_result",
          "data": {
            "text/plain": [
              "{'@조문키': '0014001',\n",
              " '조문번호': '14',\n",
              " '조문여부': '조문',\n",
              " '조문제목': '기념화폐의 판매',\n",
              " '조문시행일자': '20190401',\n",
              " '조문이동이전': None,\n",
              " '조문이동이후': None,\n",
              " '조문변경여부': 'N',\n",
              " '조문내용': '제14조(기념화폐의 판매)',\n",
              " '항': [{'항번호': '①',\n",
              "   '항내용': '① 조직위원회는 대회의 준비ㆍ운영에 필요한 비용을 충당하기 위하여 기념화폐의 발행을 한국은행에 요청할 수 있다. <개정 2016.5.29>'},\n",
              "  {'항번호': '②',\n",
              "   '항내용': '②조직위원회는 제1항에 따라 발행된 기념화폐를 독점적으로 인수할 수 있다. <개정 2016.5.29>'}],\n",
              " '조문참고자료': '[제목개정 2016.5.29]\\n\\t\\t\\n\\t\\t[법률 제11226호(2012. 1. 26.) 제14조의 개정규정은 같은 법 부칙 제2조의 규정에 의하여 2019년 3월 31일까지 유효함]'}"
            ]
          },
          "metadata": {},
          "execution_count": 504
        }
      ]
    },
    {
      "cell_type": "code",
      "source": [
        "# 영한 조문 개수 맞지 않는 법령 개수 2 간접투자자산 운용업법 시행령 17\n",
        "# 영한 조문 개수 맞지 않는 법령 개수 3 간척지의 농어업적 이용 및 관리에 관한 법률 9\n",
        "# 영한 조문 개수 맞지 않는 법령 개수 4 개발이익 환수에 관한 법률 14\n",
        "# 영한 조문 개수 맞지 않는 법령 개수 5 개별소비세법 18"
      ],
      "metadata": {
        "id": "iEzhrHGmaZOJ"
      },
      "execution_count": 179,
      "outputs": []
    },
    {
      "cell_type": "code",
      "source": [
        "kor_jo = kor_dict_contents['법령']['조문']['조문단위'][43]\n",
        "eng_jo = eng_dict_contents['Law']['JoSection']['Jo'][43]\n",
        "kor_total = 0\n",
        "if kor_jo.get('항'): # 항내용이 있으면 list 바로 호내용이면 dict 타입이네\n",
        "  if type(kor_jo['항']) == dict:\n",
        "    kor_total += len(kor_jo['항']['호'])\n",
        "    for ho in kor_jo['항']['호']:\n",
        "      if ho.get('목'):\n",
        "        kor_total += len(ho['목'])\n",
        "    kor_total += 1\n",
        "  else:\n",
        "    kor_total += len(kor_jo['항'])\n",
        "    for hang in kor_jo['항']:\n",
        "      if hang.get('호'):\n",
        "        kor_total += len(hang['호'])\n",
        "        for ho in hang['호']:\n",
        "          if ho.get('목'):\n",
        "            kor_total += len(ho['목'])\n",
        "else:\n",
        "  kor_total = 1\n",
        "print(kor_total)\n",
        "\n",
        "if kor_jo.get('조문참고자료'):\n",
        "  kor_total += (1 + kor_jo['조문참고자료'].count('\\n'))\n",
        "print(kor_total)\n",
        "if (eng_jo['joCts'].count('\\n')+1) != kor_total:\n",
        "  not_match_jo += 1\n",
        "  print(not_match_jo)"
      ],
      "metadata": {
        "colab": {
          "base_uri": "https://localhost:8080/"
        },
        "id": "iAqPDa5waazW",
        "outputId": "f8eed098-a89b-4a3c-c1f5-11dcb5412eb1"
      },
      "execution_count": 485,
      "outputs": [
        {
          "output_type": "stream",
          "name": "stdout",
          "text": [
            "6\n",
            "9\n",
            "4\n"
          ]
        }
      ]
    },
    {
      "cell_type": "code",
      "source": [
        "eng_jo['joCts'].count('\\n')\n",
        "# kor_jo\n",
        "# eng_jo"
      ],
      "metadata": {
        "colab": {
          "base_uri": "https://localhost:8080/",
          "height": 221
        },
        "id": "NOQ55N2bnHWk",
        "outputId": "0682fe9a-2667-4f9d-df62-3a48e067704c"
      },
      "execution_count": 487,
      "outputs": [
        {
          "output_type": "error",
          "ename": "AttributeError",
          "evalue": "ignored",
          "traceback": [
            "\u001b[0;31m---------------------------------------------------------------------------\u001b[0m",
            "\u001b[0;31mAttributeError\u001b[0m                            Traceback (most recent call last)",
            "\u001b[0;32m<ipython-input-487-a664f08aa749>\u001b[0m in \u001b[0;36m<cell line: 1>\u001b[0;34m()\u001b[0m\n\u001b[0;32m----> 1\u001b[0;31m \u001b[0meng_jo\u001b[0m\u001b[0;34m[\u001b[0m\u001b[0;34m'joCts'\u001b[0m\u001b[0;34m]\u001b[0m\u001b[0;34m.\u001b[0m\u001b[0misin\u001b[0m\u001b[0;34m(\u001b[0m\u001b[0;34m'\\n'\u001b[0m\u001b[0;34m)\u001b[0m\u001b[0;34m\u001b[0m\u001b[0;34m\u001b[0m\u001b[0m\n\u001b[0m\u001b[1;32m      2\u001b[0m \u001b[0;31m# kor_jo\u001b[0m\u001b[0;34m\u001b[0m\u001b[0;34m\u001b[0m\u001b[0m\n\u001b[1;32m      3\u001b[0m \u001b[0;31m# eng_jo\u001b[0m\u001b[0;34m\u001b[0m\u001b[0;34m\u001b[0m\u001b[0m\n",
            "\u001b[0;31mAttributeError\u001b[0m: 'str' object has no attribute 'isin'"
          ]
        }
      ]
    }
  ],
  "metadata": {
    "colab": {
      "name": "Colaboratory에 오신 것을 환영합니다",
      "toc_visible": true,
      "provenance": [],
      "include_colab_link": true
    },
    "kernelspec": {
      "display_name": "Python 3",
      "name": "python3"
    }
  },
  "nbformat": 4,
  "nbformat_minor": 0
}
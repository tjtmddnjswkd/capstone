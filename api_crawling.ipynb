{
  "cells": [
    {
      "cell_type": "markdown",
      "metadata": {
        "id": "view-in-github",
        "colab_type": "text"
      },
      "source": [
        "<a href=\"https://colab.research.google.com/github/tjtmddnjswkd/capstone/blob/master/api_crawling.ipynb\" target=\"_parent\"><img src=\"https://colab.research.google.com/assets/colab-badge.svg\" alt=\"Open In Colab\"/></a>"
      ]
    },
    {
      "cell_type": "code",
      "source": [
        "!pip install xmltodict"
      ],
      "metadata": {
        "colab": {
          "base_uri": "https://localhost:8080/"
        },
        "id": "jH9VcIauesOV",
        "outputId": "50c68633-bb57-46ab-a038-78f0bd36a117"
      },
      "execution_count": 2,
      "outputs": [
        {
          "output_type": "stream",
          "name": "stdout",
          "text": [
            "Collecting xmltodict\n",
            "  Downloading xmltodict-0.13.0-py2.py3-none-any.whl (10.0 kB)\n",
            "Installing collected packages: xmltodict\n",
            "Successfully installed xmltodict-0.13.0\n"
          ]
        }
      ]
    },
    {
      "cell_type": "code",
      "source": [
        "import pandas as pd\n",
        "import re\n",
        "import sys\n",
        "import requests\n",
        "import json\n",
        "import pprint\n",
        "from bs4 import BeautifulSoup\n",
        "from urllib.request import urlopen\n",
        "import xmltodict\n",
        "from tqdm import tqdm\n",
        "import random\n",
        "import pprint"
      ],
      "metadata": {
        "id": "cUAo_Pc5euCs"
      },
      "execution_count": 3,
      "outputs": []
    },
    {
      "cell_type": "code",
      "source": [
        "url = 'http://www.law.go.kr/DRF/lawSearch.do?OC=seokhee051&target=elaw&type=XML'\n",
        "# url 불러오기\n",
        "response = requests.get(url)\n",
        "# XML -> 딕셔너리 변환후 파싱\n",
        "contents = response.text\n",
        "dict_contents = xmltodict.parse(contents)\n",
        "totalCnt = int(dict_contents['LawSearch']['totalCnt'])"
      ],
      "metadata": {
        "id": "JGFiNkvsevvj"
      },
      "execution_count": 4,
      "outputs": []
    },
    {
      "cell_type": "code",
      "source": [
        "totalCnt"
      ],
      "metadata": {
        "colab": {
          "base_uri": "https://localhost:8080/"
        },
        "id": "btgoVNxyk4_x",
        "outputId": "aa3a1ae8-259e-4ba5-a0b9-09568da44eb7"
      },
      "execution_count": 5,
      "outputs": [
        {
          "output_type": "execute_result",
          "data": {
            "text/plain": [
              "2609"
            ]
          },
          "metadata": {},
          "execution_count": 5
        }
      ]
    },
    {
      "cell_type": "code",
      "source": [
        "rows = []\n",
        "not_match_jo = []\n",
        "changed_num = 0\n",
        "changed = []\n",
        "eng_cnt = 0\n",
        "kor_cnt = 0\n",
        "total_page = int(totalCnt/20)+1\n",
        "for p in tqdm(range(120,total_page)):\n",
        "  url = 'http://www.law.go.kr/DRF/lawSearch.do?OC=seokhee051&target=elaw&type=XML' \\\n",
        "        + '&page=' + str(p)\n",
        "  # url 불러오기\n",
        "  response = requests.get(url)\n",
        "  # XML -> 딕셔너리 변환후 파싱\n",
        "  contents = response.text\n",
        "  dict_contents = xmltodict.parse(contents)\n",
        "  try:\n",
        "    for content in dict_contents['LawSearch']['law']:\n",
        "      name_kor = content['법령명한글']\n",
        "      name_eng = content['법령명영문']\n",
        "      mst = content['법령일련번호']\n",
        "\n",
        "      eng_url = 'https://www.law.go.kr/DRF/lawService.do?OC=seokhee051&target=elaw' \\\n",
        "                + '&MST=' + str(mst)\n",
        "                # + '&ID=' + str(법령ID)\n",
        "      eng_response = requests.get(eng_url)\n",
        "      eng_contents = eng_response.text\n",
        "      eng_dict_contents = xmltodict.parse(eng_contents)\n",
        "\n",
        "      kor_url = 'https://www.law.go.kr/DRF/lawService.do?OC=seokhee051&target=law' \\\n",
        "                + '&MST=' + str(mst)\n",
        "                # + '&ID=' + str(법령ID)\n",
        "      kor_response = requests.get(kor_url)\n",
        "      kor_contents = kor_response.text\n",
        "      kor_dict_contents = xmltodict.parse(kor_contents)\n",
        "\n",
        "      # # 영어조문 개수와 한글 조문 개수 맞지 않다면 건너뛰기\n",
        "      # if len(eng_dict_contents['Law']['JoSection']['Jo']) != len(kor_dict_contents['법령']['조문']['조문단위']):\n",
        "      #     not_match_jo += 1\n",
        "      #     print(f'영한 조문 개수 맞지 않는 법령 개수', not_match_jo, kor_dict_contents['법령']['기본정보']['법령명_한글'])\n",
        "      #     continue\n",
        "      # eng_cnt += len(eng_dict_contents['Law']['JoSection']['Jo'])\n",
        "      # kor_cnt += len(kor_dict_contents['법령']['조문']['조문단위'])\n",
        "      min_num_jo = min(len(eng_dict_contents['Law']['JoSection']['Jo']), len(kor_dict_contents['법령']['조문']['조문단위']))\n",
        "      temp_cnt = 0\n",
        "      print('법령명:', name_kor, ', 조문 개수:', min_num_jo, ', 페이지:', p, ', 몇번째?:', content['@id'])\n",
        "      try:\n",
        "        # for eng_jo, kor_jo in zip(eng_dict_contents['Law']['JoSection']['Jo'],kor_dict_contents['법령']['조문']['조문단위']):\n",
        "        for ind in range(min_num_jo):\n",
        "          eng_jo, kor_jo = eng_dict_contents['Law']['JoSection']['Jo'][ind], kor_dict_contents['법령']['조문']['조문단위'][ind]\n",
        "\n",
        "          if kor_jo['조문여부']!='조문':\n",
        "            continue\n",
        "          # if kor_jo.get('조문가지번호'):\n",
        "          #   continue\n",
        "\n",
        "          kor_total = 0\n",
        "          if kor_jo.get('항'): # 항내용이 있으면 list 바로 호내용이면 dict 타입이네\n",
        "            if type(kor_jo['항']) == dict:\n",
        "              kor_total += len(kor_jo['항']['호'])\n",
        "              for ho in kor_jo['항']['호']:\n",
        "                if ho.get('목'):\n",
        "                  kor_total += len(ho['목'])\n",
        "              kor_total += 1 # 호부터 시작하면 영어에서는 또 \\n이 하나 늘어남\n",
        "            else:\n",
        "              kor_total += len(kor_jo['항'])\n",
        "              for hang in kor_jo['항']:\n",
        "                if hang.get('호'):\n",
        "                  kor_total += len(hang['호'])\n",
        "                  for ho in hang['호']:\n",
        "                    if ho.get('목'):\n",
        "                      kor_total += len(ho['목'])\n",
        "          else:\n",
        "            kor_total = 1\n",
        "\n",
        "          if kor_jo.get('조문참고자료'):\n",
        "            if '\\n\\t\\t\\n\\t\\t' in kor_jo['조문참고자료']:\n",
        "              kor_total += 2\n",
        "              kor_jo['조문참고자료'] = kor_jo['조문참고자료'].replace('\\n\\t\\t\\n\\t\\t', '\\n')\n",
        "            else:\n",
        "              kor_total += 1\n",
        "\n",
        "          if (eng_jo['joCts'].count('\\n')+1) != kor_total:\n",
        "            not_match_jo.append([name_kor, kor_jo['조문제목']])\n",
        "            continue\n",
        "\n",
        "          if eng_jo['joYn']!= 'Y':\n",
        "            changed_num += 1\n",
        "            changed.append([eng_jo, kor_jo])\n",
        "            print('안바뀐 법령 개수:', changed_num)\n",
        "            continue\n",
        "          # if eng_jo['joBrNo']!='00':\n",
        "          #   continue\n",
        "\n",
        "          eng_text = eng_jo['joCts']\n",
        "\n",
        "          jo_txt = ''\n",
        "          hang_txt = ''\n",
        "          ho_txt = ''\n",
        "          mok_txt = ''\n",
        "\n",
        "          jo_txt += kor_jo['조문내용']\n",
        "          if kor_jo.get('항'): # 항내용이 있으면 list 바로 호내용이면 dict 타입이네\n",
        "            if type(kor_jo['항']) == dict: # 바로 호내용일 때\n",
        "              for ho in kor_jo['항']['호']:\n",
        "                ho_txt += '\\n' + ho['호내용']\n",
        "                if ho.get('목'):\n",
        "                  for mok in ho['목']:\n",
        "                    mok_txt += '\\n' + mok['목내용']\n",
        "                  ho_txt += mok_txt\n",
        "              hang_txt += ho_txt\n",
        "            else:\n",
        "              for hang in kor_jo['항']:\n",
        "                if hang_txt == '':\n",
        "                  hang_txt += hang['항내용'] # 영어의 경우 맨 첫항과 조문 내용 사이에 \\n으로 분리가 안돼있음\n",
        "                else:\n",
        "                  hang_txt += '\\n' + hang['항내용']\n",
        "\n",
        "                if hang.get('호'):\n",
        "                  for ho in hang['호']:\n",
        "                    ho_txt += '\\n' + ho['호내용']\n",
        "                    if ho.get('목'):\n",
        "                      for mok in ho['목']:\n",
        "                        mok_txt += '\\n' + mok['목내용']\n",
        "                      ho_txt += mok_txt\n",
        "                  hang_txt += ho_txt\n",
        "              jo_txt += hang_txt\n",
        "          if kor_jo.get('조문참고자료'):\n",
        "            eng_text = '\\n'.join([i.strip() for i in eng_text.split('\\n')[:-1]]) # 조문참고자료 부분 삭제하기\n",
        "          kor_text = jo_txt\n",
        "          rows.append({'name_kor':name_kor, 'name_eng':name_eng, 'MST':mst, 'eng':eng_text, 'kor':kor_text})\n",
        "      except Exception as e:\n",
        "        print('eng_kor_contents 예외 발생:', e)\n",
        "  except Exception as e:\n",
        "    print('dict_contents 예외 발생:', e)\n",
        "print(len(not_match_jo))\n",
        "df = pd.DataFrame(rows)"
      ],
      "metadata": {
        "colab": {
          "base_uri": "https://localhost:8080/"
        },
        "id": "UO3lZCQGe6wE",
        "outputId": "6414f510-6e4b-4c06-9ae5-5f9168b0e026"
      },
      "execution_count": 8,
      "outputs": [
        {
          "output_type": "stream",
          "name": "stderr",
          "text": [
            "\r  0%|          | 0/11 [00:00<?, ?it/s]"
          ]
        },
        {
          "output_type": "stream",
          "name": "stdout",
          "text": [
            "법령명: 한국국방연구원법 , 조문 개수: 23 , 페이지: 120 , 몇번째?: 2381\n",
            "법령명: 한국국제교류재단법 , 조문 개수: 28 , 페이지: 120 , 몇번째?: 2382\n",
            "법령명: 한국국제보건의료재단법 , 조문 개수: 31 , 페이지: 120 , 몇번째?: 2383\n",
            "법령명: 한국국제보건의료재단법 시행령 , 조문 개수: 16 , 페이지: 120 , 몇번째?: 2384\n",
            "법령명: 한국국제협력단법 , 조문 개수: 35 , 페이지: 120 , 몇번째?: 2385\n",
            "법령명: 한국농어촌공사 및 농지관리기금법 , 조문 개수: 67 , 페이지: 120 , 몇번째?: 2386\n",
            "법령명: 한국도로공사법 , 조문 개수: 28 , 페이지: 120 , 몇번째?: 2387\n",
            "법령명: 한국보건의료인국가시험원법 , 조문 개수: 26 , 페이지: 120 , 몇번째?: 2388\n",
            "법령명: 한국보훈복지의료공단법 , 조문 개수: 35 , 페이지: 120 , 몇번째?: 2389\n",
            "eng_kor_contents 예외 발생: '조문제목'\n",
            "법령명: 한국부동산원법 , 조문 개수: 21 , 페이지: 120 , 몇번째?: 2390\n",
            "법령명: 한국사학진흥재단법 , 조문 개수: 36 , 페이지: 120 , 몇번째?: 2391\n",
            "법령명: 한국산업은행법 , 조문 개수: 54 , 페이지: 120 , 몇번째?: 2392\n",
            "법령명: 한국산업은행법 시행령 , 조문 개수: 49 , 페이지: 120 , 몇번째?: 2393\n",
            "법령명: 한국산업은행법시행규칙 , 조문 개수: 7 , 페이지: 120 , 몇번째?: 2394\n",
            "eng_kor_contents 예외 발생: 0\n",
            "법령명: 한국수자원공사법 , 조문 개수: 48 , 페이지: 120 , 몇번째?: 2395\n",
            "eng_kor_contents 예외 발생: '조문제목'\n",
            "법령명: 한국수자원공사법 시행령 , 조문 개수: 39 , 페이지: 120 , 몇번째?: 2396\n",
            "법령명: 한국수출입은행법 , 조문 개수: 57 , 페이지: 120 , 몇번째?: 2397\n",
            "법령명: 한국수출입은행법 시행령 , 조문 개수: 59 , 페이지: 120 , 몇번째?: 2398\n",
            "법령명: 한국수화언어법 , 조문 개수: 24 , 페이지: 120 , 몇번째?: 2399\n"
          ]
        },
        {
          "output_type": "stream",
          "name": "stderr",
          "text": [
            "\r  9%|▉         | 1/11 [02:27<24:33, 147.32s/it]"
          ]
        },
        {
          "output_type": "stream",
          "name": "stdout",
          "text": [
            "법령명: 한국수화언어법 시행령 , 조문 개수: 14 , 페이지: 120 , 몇번째?: 2400\n",
            "법령명: 한국여성개발원법 , 조문 개수: 25 , 페이지: 121 , 몇번째?: 2401\n",
            "법령명: 한국연구재단법 , 조문 개수: 24 , 페이지: 121 , 몇번째?: 2402\n",
            "법령명: 한국연구재단법 시행령 , 조문 개수: 9 , 페이지: 121 , 몇번째?: 2403\n",
            "법령명: 한국원자력안전기술원법 , 조문 개수: 24 , 페이지: 121 , 몇번째?: 2404\n",
            "법령명: 한국원자력안전기술원법 시행령 , 조문 개수: 7 , 페이지: 121 , 몇번째?: 2405\n",
            "법령명: 한국은행법 , 조문 개수: 137 , 페이지: 121 , 몇번째?: 2406\n",
            "법령명: 한국은행 통화안정증권법 , 조문 개수: 8 , 페이지: 121 , 몇번째?: 2407\n",
            "법령명: 한국인 원자폭탄 피해자 지원을 위한 특별법 , 조문 개수: 19 , 페이지: 121 , 몇번째?: 2408\n",
            "법령명: 한국인 원자폭탄 피해자 지원을 위한 특별법 시행령 , 조문 개수: 13 , 페이지: 121 , 몇번째?: 2409\n",
            "법령명: 한국자산관리공사 설립 등에 관한 법률 , 조문 개수: 69 , 페이지: 121 , 몇번째?: 2410\n",
            "법령명: 한국장학재단 설립 등에 관한 법률 , 조문 개수: 67 , 페이지: 121 , 몇번째?: 2411\n",
            "법령명: 한국장학재단 설립 등에 관한 법률 시행령 , 조문 개수: 41 , 페이지: 121 , 몇번째?: 2412\n",
            "법령명: 한국전통문화대학교 설치법 , 조문 개수: 21 , 페이지: 121 , 몇번째?: 2413\n",
            "법령명: 한국정책금융공사법 , 조문 개수: 45 , 페이지: 121 , 몇번째?: 2414\n",
            "법령명: 한국정책금융공사법 시행령 , 조문 개수: 40 , 페이지: 121 , 몇번째?: 2415\n",
            "법령명: 한국주택금융공사법 , 조문 개수: 96 , 페이지: 121 , 몇번째?: 2416\n",
            "eng_kor_contents 예외 발생: '조문제목'\n",
            "법령명: 한국주택금융공사법 시행령 , 조문 개수: 58 , 페이지: 121 , 몇번째?: 2417\n",
            "법령명: 한국주택금융공사법 시행규칙 , 조문 개수: 6 , 페이지: 121 , 몇번째?: 2418\n"
          ]
        },
        {
          "output_type": "stream",
          "name": "stderr",
          "text": [
            "\r 18%|█▊        | 2/11 [04:47<21:28, 143.20s/it]"
          ]
        },
        {
          "output_type": "stream",
          "name": "stdout",
          "text": [
            "dict_contents 예외 발생: 'NoneType' object is not subscriptable\n",
            "법령명: 한국진도개 보호ㆍ육성법 , 조문 개수: 15 , 페이지: 122 , 몇번째?: 2421\n",
            "법령명: 한국학중앙연구원육성법 , 조문 개수: 12 , 페이지: 122 , 몇번째?: 2422\n",
            "법령명: 한국해운조합법 , 조문 개수: 30 , 페이지: 122 , 몇번째?: 2423\n",
            "eng_kor_contents 예외 발생: '조문제목'\n",
            "법령명: 한부모가족지원법 , 조문 개수: 57 , 페이지: 122 , 몇번째?: 2424\n",
            "법령명: 한부모가족지원법 시행령 , 조문 개수: 31 , 페이지: 122 , 몇번째?: 2425\n",
            "법령명: 한센인피해사건의 진상규명 및 피해자 지원 등에 관한 법률 , 조문 개수: 14 , 페이지: 122 , 몇번째?: 2426\n",
            "법령명: 한ㆍ아프리카재단법 , 조문 개수: 26 , 페이지: 122 , 몇번째?: 2427\n",
            "법령명: 한옥 등 건축자산의 진흥에 관한 법률 , 조문 개수: 50 , 페이지: 122 , 몇번째?: 2428\n",
            "법령명: 한의약육성법 , 조문 개수: 24 , 페이지: 122 , 몇번째?: 2429\n",
            "법령명: 할부거래에 관한 법률 , 조문 개수: 68 , 페이지: 122 , 몇번째?: 2430\n",
            "법령명: 할부거래에 관한 법률 시행령 , 조문 개수: 39 , 페이지: 122 , 몇번째?: 2431\n",
            "법령명: 할부거래에 관한 법률 시행규칙 , 조문 개수: 13 , 페이지: 122 , 몇번째?: 2432\n",
            "법령명: 항공기저당법 , 조문 개수: 9 , 페이지: 122 , 몇번째?: 2433\n",
            "법령명: 항공법 , 조문 개수: 300 , 페이지: 122 , 몇번째?: 2434\n",
            "eng_kor_contents 예외 발생: '조문제목'\n",
            "법령명: 항공법 시행령 , 조문 개수: 117 , 페이지: 122 , 몇번째?: 2435\n",
            "eng_kor_contents 예외 발생: '조문제목'\n",
            "법령명: 항공보안법 , 조문 개수: 72 , 페이지: 122 , 몇번째?: 2436\n",
            "법령명: 항공보안법 시행령 , 조문 개수: 34 , 페이지: 122 , 몇번째?: 2437\n",
            "법령명: 항공사업법 , 조문 개수: 111 , 페이지: 122 , 몇번째?: 2438\n",
            "법령명: 항공사업법 시행령 , 조문 개수: 37 , 페이지: 122 , 몇번째?: 2439\n"
          ]
        },
        {
          "output_type": "stream",
          "name": "stderr",
          "text": [
            "\r 27%|██▋       | 3/11 [08:44<24:46, 185.87s/it]"
          ]
        },
        {
          "output_type": "stream",
          "name": "stdout",
          "text": [
            "법령명: 항공안전법 , 조문 개수: 204 , 페이지: 122 , 몇번째?: 2440\n",
            "법령명: 항공안전법 시행령 , 조문 개수: 33 , 페이지: 123 , 몇번째?: 2441\n",
            "법령명: 항공우주산업개발 촉진법 , 조문 개수: 27 , 페이지: 123 , 몇번째?: 2442\n",
            "법령명: 항공우주산업개발 촉진법 시행령 , 조문 개수: 27 , 페이지: 123 , 몇번째?: 2443\n",
            "법령명: 항공운송사업 진흥법 , 조문 개수: 13 , 페이지: 123 , 몇번째?: 2444\n",
            "법령명: 항공ㆍ철도 사고조사에 관한 법률 , 조문 개수: 44 , 페이지: 123 , 몇번째?: 2445\n",
            "법령명: 항공ㆍ철도 사고조사에 관한 법률 시행령 , 조문 개수: 9 , 페이지: 123 , 몇번째?: 2446\n",
            "법령명: 항로표지법 , 조문 개수: 72 , 페이지: 123 , 몇번째?: 2447\n",
            "법령명: 항로표지법 시행령 , 조문 개수: 37 , 페이지: 123 , 몇번째?: 2448\n",
            "법령명: 항만법 , 조문 개수: 121 , 페이지: 123 , 몇번째?: 2449\n",
            "법령명: 항만안전특별법 , 조문 개수: 17 , 페이지: 123 , 몇번째?: 2450\n",
            "법령명: 항만안전특별법 시행령 , 조문 개수: 11 , 페이지: 123 , 몇번째?: 2451\n",
            "법령명: 항만운송사업법 , 조문 개수: 64 , 페이지: 123 , 몇번째?: 2452\n",
            "법령명: 항만운송사업법 시행령 , 조문 개수: 37 , 페이지: 123 , 몇번째?: 2453\n",
            "법령명: 항만인력공급체제의 개편을 위한 지원특별법 , 조문 개수: 14 , 페이지: 123 , 몇번째?: 2454\n",
            "법령명: 항만 재개발 및 주변지역 발전에 관한 법률 , 조문 개수: 58 , 페이지: 123 , 몇번째?: 2455\n",
            "법령명: 항만지역등 대기질 개선에 관한 특별법 , 조문 개수: 30 , 페이지: 123 , 몇번째?: 2456\n",
            "법령명: 항만지역등 대기질 개선에 관한 특별법 시행령 , 조문 개수: 13 , 페이지: 123 , 몇번째?: 2457\n"
          ]
        },
        {
          "output_type": "stream",
          "name": "stderr",
          "text": [
            "\r 36%|███▋      | 4/11 [10:40<18:29, 158.44s/it]"
          ]
        },
        {
          "output_type": "stream",
          "name": "stdout",
          "text": [
            "dict_contents 예외 발생: 'NoneType' object is not subscriptable\n",
            "법령명: 해사안전법 시행령 , 조문 개수: 37 , 페이지: 124 , 몇번째?: 2461\n",
            "법령명: 해수욕장의 이용 및 관리에 관한 법률 , 조문 개수: 57 , 페이지: 124 , 몇번째?: 2462\n",
            "법령명: 해양개발기본법 , 조문 개수: 27 , 페이지: 124 , 몇번째?: 2463\n",
            "법령명: 해양개발기본법시행령 , 조문 개수: 29 , 페이지: 124 , 몇번째?: 2464\n",
            "법령명: 해양경비법 , 조문 개수: 30 , 페이지: 124 , 몇번째?: 2465\n",
            "법령명: 해양경찰법 , 조문 개수: 27 , 페이지: 124 , 몇번째?: 2466\n",
            "법령명: 해양공간계획 및 관리에 관한 법률 , 조문 개수: 27 , 페이지: 124 , 몇번째?: 2467\n",
            "법령명: 해양과학조사법 , 조문 개수: 31 , 페이지: 124 , 몇번째?: 2468\n",
            "법령명: 해양과학조사법 시행령 , 조문 개수: 23 , 페이지: 124 , 몇번째?: 2469\n",
            "법령명: 해양교육 및 해양문화의 활성화에 관한 법률 , 조문 개수: 34 , 페이지: 124 , 몇번째?: 2470\n",
            "법령명: 해양교육 및 해양문화의 활성화에 관한 법률 시행령 , 조문 개수: 23 , 페이지: 124 , 몇번째?: 2471\n",
            "법령명: 해양사고의 조사 및 심판에 관한 법률 , 조문 개수: 141 , 페이지: 124 , 몇번째?: 2472\n",
            "법령명: 해양사고의 조사 및 심판에 관한 법률 시행령 , 조문 개수: 109 , 페이지: 124 , 몇번째?: 2473\n",
            "법령명: 해양산업클러스터의 지정 및 육성 등에 관한 특별법 , 조문 개수: 50 , 페이지: 124 , 몇번째?: 2474\n",
            "법령명: 해양생태계의 보전 및 관리에 관한 법률 , 조문 개수: 81 , 페이지: 124 , 몇번째?: 2475\n",
            "법령명: 해양수산과학기술 육성법 , 조문 개수: 30 , 페이지: 124 , 몇번째?: 2476\n",
            "법령명: 해양수산과학기술 육성법 시행령 , 조문 개수: 23 , 페이지: 124 , 몇번째?: 2477\n",
            "법령명: 해양수산발전 기본법 , 조문 개수: 47 , 페이지: 124 , 몇번째?: 2478\n",
            "법령명: 해양수산발전 기본법 시행령 , 조문 개수: 34 , 페이지: 124 , 몇번째?: 2479\n",
            "eng_kor_contents 예외 발생: '조문제목'\n"
          ]
        },
        {
          "output_type": "stream",
          "name": "stderr",
          "text": [
            "\r 45%|████▌     | 5/11 [13:12<15:37, 156.18s/it]"
          ]
        },
        {
          "output_type": "stream",
          "name": "stdout",
          "text": [
            "법령명: 해양수산부 소관 친환경농어업 육성 및 유기식품 등의 관리ㆍ지원에 관한 법률 시행규칙 , 조문 개수: 55 , 페이지: 124 , 몇번째?: 2480\n",
            "법령명: 해양수산생명자원의 확보ㆍ관리 및 이용 등에 관한 법률 , 조문 개수: 50 , 페이지: 125 , 몇번째?: 2481\n",
            "법령명: 해양심층수의 개발 및 관리에 관한 법률 , 조문 개수: 75 , 페이지: 125 , 몇번째?: 2482\n",
            "법령명: 해양오염방지법 , 조문 개수: 135 , 페이지: 125 , 몇번째?: 2483\n",
            "법령명: 해양오염방지법시행령 , 조문 개수: 74 , 페이지: 125 , 몇번째?: 2484\n",
            "법령명: 해양조사와 해양정보 활용에 관한 법률 , 조문 개수: 81 , 페이지: 125 , 몇번째?: 2485\n",
            "법령명: 해양치유자원의 관리 및 활용에 관한 법률 , 조문 개수: 44 , 페이지: 125 , 몇번째?: 2486\n",
            "법령명: 해양폐기물 및 해양오염퇴적물 관리법 , 조문 개수: 46 , 페이지: 125 , 몇번째?: 2487\n",
            "법령명: 해양환경관리법 , 조문 개수: 178 , 페이지: 125 , 몇번째?: 2488\n",
            "법령명: 해양환경관리법 시행령 , 조문 개수: 123 , 페이지: 125 , 몇번째?: 2489\n",
            "법령명: 해양환경 보전 및 활용에 관한 법률 , 조문 개수: 32 , 페이지: 125 , 몇번째?: 2490\n",
            "법령명: 해외건설 촉진법 , 조문 개수: 90 , 페이지: 125 , 몇번째?: 2491\n",
            "법령명: 해외건설 촉진법 시행령 , 조문 개수: 68 , 페이지: 125 , 몇번째?: 2492\n",
            "법령명: 해외긴급구호에 관한 법률 , 조문 개수: 19 , 페이지: 125 , 몇번째?: 2493\n",
            "법령명: 해외긴급구호에 관한 법률 시행령 , 조문 개수: 12 , 페이지: 125 , 몇번째?: 2494\n",
            "법령명: 해외농업ㆍ산림자원 개발협력법 , 조문 개수: 55 , 페이지: 125 , 몇번째?: 2495\n",
            "법령명: 해외농업ㆍ산림자원 개발협력법 시행령 , 조문 개수: 39 , 페이지: 125 , 몇번째?: 2496\n",
            "법령명: 해외이주법 , 조문 개수: 22 , 페이지: 125 , 몇번째?: 2497\n",
            "법령명: 해외자원개발 사업법 , 조문 개수: 49 , 페이지: 125 , 몇번째?: 2498\n",
            "법령명: 해외자원개발 사업법 시행령 , 조문 개수: 38 , 페이지: 125 , 몇번째?: 2499\n"
          ]
        },
        {
          "output_type": "stream",
          "name": "stderr",
          "text": [
            "\r 55%|█████▍    | 6/11 [15:53<13:08, 157.70s/it]"
          ]
        },
        {
          "output_type": "stream",
          "name": "stdout",
          "text": [
            "법령명: 해외진출기업의 국내복귀 지원에 관한 법률 , 조문 개수: 30 , 페이지: 125 , 몇번째?: 2500\n",
            "법령명: 해외진출기업의 국내복귀 지원에 관한 법률 시행령 , 조문 개수: 25 , 페이지: 126 , 몇번째?: 2501\n",
            "법령명: 해운법 , 조문 개수: 98 , 페이지: 126 , 몇번째?: 2502\n",
            "법령명: 해운법 시행령 , 조문 개수: 51 , 페이지: 126 , 몇번째?: 2503\n",
            "법령명: 해운산업육성법 , 조문 개수: 29 , 페이지: 126 , 몇번째?: 2504\n",
            "법령명: 해저광물자원 개발법 , 조문 개수: 43 , 페이지: 126 , 몇번째?: 2505\n",
            "법령명: 해저광물자원 개발법 시행령 , 조문 개수: 30 , 페이지: 126 , 몇번째?: 2506\n",
            "법령명: 핵융합에너지 개발진흥법 , 조문 개수: 17 , 페이지: 126 , 몇번째?: 2507\n",
            "법령명: 핵융합에너지 개발진흥법 시행령 , 조문 개수: 22 , 페이지: 126 , 몇번째?: 2508\n",
            "법령명: 행정규제관리법 , 조문 개수: 23 , 페이지: 126 , 몇번째?: 2509\n",
            "eng_kor_contents 예외 발생: '조문제목'\n",
            "법령명: 행정규제기본법 , 조문 개수: 50 , 페이지: 126 , 몇번째?: 2510\n",
            "법령명: 행정규제기본법 시행령 , 조문 개수: 38 , 페이지: 126 , 몇번째?: 2511\n",
            "법령명: 행정기관 소속 위원회의 설치ㆍ운영에 관한 법률 , 조문 개수: 15 , 페이지: 126 , 몇번째?: 2512\n",
            "법령명: 행정기본법 , 조문 개수: 53 , 페이지: 126 , 몇번째?: 2513\n",
            "법령명: 행정기본법 시행령 , 조문 개수: 15 , 페이지: 126 , 몇번째?: 2514\n",
            "법령명: 행정대집행법 , 조문 개수: 9 , 페이지: 126 , 몇번째?: 2515\n",
            "법령명: 행정대집행법 시행령 , 조문 개수: 7 , 페이지: 126 , 몇번째?: 2516\n",
            "법령명: 행정사법 , 조문 개수: 51 , 페이지: 126 , 몇번째?: 2517\n",
            "법령명: 행정소송법 , 조문 개수: 57 , 페이지: 126 , 몇번째?: 2518\n",
            "법령명: 행정심판법 , 조문 개수: 73 , 페이지: 126 , 몇번째?: 2519\n"
          ]
        },
        {
          "output_type": "stream",
          "name": "stderr",
          "text": [
            "\r 64%|██████▎   | 7/11 [17:55<09:44, 146.05s/it]"
          ]
        },
        {
          "output_type": "stream",
          "name": "stdout",
          "text": [
            "법령명: 행정심판법 시행령 , 조문 개수: 59 , 페이지: 126 , 몇번째?: 2520\n",
            "법령명: 행정절차법 , 조문 개수: 85 , 페이지: 127 , 몇번째?: 2521\n",
            "법령명: 행정조사기본법 , 조문 개수: 35 , 페이지: 127 , 몇번째?: 2522\n",
            "법령명: 향교재산법 , 조문 개수: 13 , 페이지: 127 , 몇번째?: 2523\n",
            "법령명: 향정신성의약품관리법 , 조문 개수: 58 , 페이지: 127 , 몇번째?: 2524\n",
            "법령명: 헌법재판소법 , 조문 개수: 95 , 페이지: 127 , 몇번째?: 2525\n",
            "법령명: 헌정질서 파괴범죄의 공소시효 등에 관한 특례법 , 조문 개수: 4 , 페이지: 127 , 몇번째?: 2526\n",
            "법령명: 헤이그 국제아동탈취협약 이행에 관한 법률 , 조문 개수: 21 , 페이지: 127 , 몇번째?: 2527\n",
            "법령명: 헤이그 국제아동탈취협약 이행에 관한 법률 시행규칙 , 조문 개수: 8 , 페이지: 127 , 몇번째?: 2528\n",
            "법령명: 혈액관리법 , 조문 개수: 42 , 페이지: 127 , 몇번째?: 2529\n",
            "법령명: 협동연구개발촉진법 , 조문 개수: 17 , 페이지: 127 , 몇번째?: 2530\n",
            "법령명: 협동연구개발촉진법 시행령 , 조문 개수: 13 , 페이지: 127 , 몇번째?: 2531\n",
            "법령명: 협동조합 기본법 , 조문 개수: 164 , 페이지: 127 , 몇번째?: 2532\n",
            "법령명: 협동조합 기본법 시행령 , 조문 개수: 61 , 페이지: 127 , 몇번째?: 2533\n",
            "법령명: 협동조합 기본법 시행규칙 , 조문 개수: 14 , 페이지: 127 , 몇번째?: 2534\n",
            "법령명: 형법 , 조문 개수: 459 , 페이지: 127 , 몇번째?: 2535\n",
            "eng_kor_contents 예외 발생: '조문제목'\n",
            "법령명: 형사보상 및 명예회복에 관한 법률 , 조문 개수: 39 , 페이지: 127 , 몇번째?: 2536\n",
            "법령명: 형사보상 및 명예회복에 관한 법률 시행령 , 조문 개수: 13 , 페이지: 127 , 몇번째?: 2537\n",
            "법령명: 형사사법절차에서의 전자문서 이용 등에 관한 법률 , 조문 개수: 22 , 페이지: 127 , 몇번째?: 2538\n",
            "법령명: 형사사법절차 전자화 촉진법 , 조문 개수: 17 , 페이지: 127 , 몇번째?: 2539\n"
          ]
        },
        {
          "output_type": "stream",
          "name": "stderr",
          "text": [
            "\r 73%|███████▎  | 8/11 [19:58<06:55, 138.59s/it]"
          ]
        },
        {
          "output_type": "stream",
          "name": "stdout",
          "text": [
            "법령명: 형사사법절차 전자화 촉진법 시행령 , 조문 개수: 19 , 페이지: 127 , 몇번째?: 2540\n"
          ]
        },
        {
          "output_type": "stream",
          "name": "stderr",
          "text": [
            "\r 82%|████████▏ | 9/11 [20:23<03:26, 103.27s/it]"
          ]
        },
        {
          "output_type": "stream",
          "name": "stdout",
          "text": [
            "dict_contents 예외 발생: 'NoneType' object is not subscriptable\n",
            "법령명: 화재의 예방 및 안전관리에 관한 법률 , 조문 개수: 56 , 페이지: 129 , 몇번째?: 2561\n",
            "법령명: 화재의 예방 및 안전관리에 관한 법률 시행령 , 조문 개수: 58 , 페이지: 129 , 몇번째?: 2562\n",
            "법령명: 화학무기ㆍ생물무기의 금지와 특정화학물질ㆍ생물작용제 등의 제조ㆍ수출입 규제 등에 관한 법률 , 조문 개수: 46 , 페이지: 129 , 몇번째?: 2563\n",
            "법령명: 화학물질관리법 , 조문 개수: 88 , 페이지: 129 , 몇번째?: 2564\n",
            "법령명: 화학물질관리법 시행령 , 조문 개수: 29 , 페이지: 129 , 몇번째?: 2565\n",
            "법령명: 화학물질관리법 시행규칙 , 조문 개수: 94 , 페이지: 129 , 몇번째?: 2566\n",
            "법령명: 화학물질의 등록 및 평가 등에 관한 법률 , 조문 개수: 69 , 페이지: 129 , 몇번째?: 2567\n",
            "법령명: 화학물질의 등록 및 평가 등에 관한 법률 시행령 , 조문 개수: 51 , 페이지: 129 , 몇번째?: 2568\n",
            "법령명: 화학물질의 등록 및 평가 등에 관한 법률 시행규칙 , 조문 개수: 72 , 페이지: 129 , 몇번째?: 2569\n",
            "법령명: 환경개선비용 부담법 , 조문 개수: 24 , 페이지: 129 , 몇번째?: 2570\n",
            "법령명: 환경개선비용 부담법 시행령 , 조문 개수: 32 , 페이지: 129 , 몇번째?: 2571\n",
            "법령명: 환경개선특별회계법 , 조문 개수: 11 , 페이지: 129 , 몇번째?: 2572\n",
            "법령명: 환경교육진흥법 , 조문 개수: 20 , 페이지: 129 , 몇번째?: 2573\n",
            "법령명: 환경기술 및 환경산업 지원법 , 조문 개수: 78 , 페이지: 129 , 몇번째?: 2574\n",
            "eng_kor_contents 예외 발생: '조문제목'\n",
            "법령명: 환경기술 및 환경산업 지원법 시행령 , 조문 개수: 74 , 페이지: 129 , 몇번째?: 2575\n",
            "법령명: 환경기술 및 환경산업 지원법 시행규칙 , 조문 개수: 82 , 페이지: 129 , 몇번째?: 2576\n",
            "법령명: 환경범죄 등의 단속 및 가중처벌에 관한 법률 , 조문 개수: 21 , 페이지: 129 , 몇번째?: 2577\n",
            "법령명: 환경보건법 , 조문 개수: 53 , 페이지: 129 , 몇번째?: 2578\n",
            "법령명: 환경보건법 시행령 , 조문 개수: 42 , 페이지: 129 , 몇번째?: 2579\n"
          ]
        },
        {
          "output_type": "stream",
          "name": "stderr",
          "text": [
            "\r 91%|█████████ | 10/11 [23:57<02:17, 137.38s/it]"
          ]
        },
        {
          "output_type": "stream",
          "name": "stdout",
          "text": [
            "법령명: 환경분야 시험ㆍ검사 등에 관한 법률 , 조문 개수: 48 , 페이지: 129 , 몇번째?: 2580\n",
            "법령명: 환경분야 시험ㆍ검사 등에 관한 법률 시행령 , 조문 개수: 24 , 페이지: 130 , 몇번째?: 2581\n",
            "법령명: 환경분쟁 조정법 , 조문 개수: 88 , 페이지: 130 , 몇번째?: 2582\n",
            "법령명: 환경영향평가법 , 조문 개수: 106 , 페이지: 130 , 몇번째?: 2583\n",
            "법령명: 환경영향평가법 시행령 , 조문 개수: 115 , 페이지: 130 , 몇번째?: 2584\n",
            "법령명: 환경오염시설의 통합관리에 관한 법률 , 조문 개수: 65 , 페이지: 130 , 몇번째?: 2585\n",
            "법령명: 환경오염시설의 통합관리에 관한 법률 시행령 , 조문 개수: 48 , 페이지: 130 , 몇번째?: 2586\n",
            "법령명: 환경오염피해 배상책임 및 구제에 관한 법률 , 조문 개수: 57 , 페이지: 130 , 몇번째?: 2587\n",
            "법령명: 환경오염피해 배상책임 및 구제에 관한 법률 시행령 , 조문 개수: 41 , 페이지: 130 , 몇번째?: 2588\n",
            "법령명: 환경정책기본법 , 조문 개수: 80 , 페이지: 130 , 몇번째?: 2589\n",
            "법령명: 환경정책기본법 시행령 , 조문 개수: 38 , 페이지: 130 , 몇번째?: 2590\n",
            "법령명: 환경친화적 산업구조로의 전환촉진에 관한 법률 , 조문 개수: 59 , 페이지: 130 , 몇번째?: 2591\n",
            "eng_kor_contents 예외 발생: '조문제목'\n",
            "법령명: 환경친화적 산업구조로의 전환촉진에 관한 법률 시행령 , 조문 개수: 43 , 페이지: 130 , 몇번째?: 2592\n",
            "eng_kor_contents 예외 발생: '조문제목'\n",
            "법령명: 환경친화적 자동차의 개발 및 보급 촉진에 관한 법률 , 조문 개수: 23 , 페이지: 130 , 몇번째?: 2593\n",
            "법령명: 환경친화적 자동차의 개발 및 보급 촉진에 관한 법률 시행령 , 조문 개수: 33 , 페이지: 130 , 몇번째?: 2594\n",
            "법령명: 환자안전법 , 조문 개수: 24 , 페이지: 130 , 몇번째?: 2595\n",
            "법령명: 환자안전법 시행령 , 조문 개수: 15 , 페이지: 130 , 몇번째?: 2596\n",
            "법령명: 회계관계직원 등의 책임에 관한 법률 , 조문 개수: 9 , 페이지: 130 , 몇번째?: 2597\n",
            "법령명: 회계관계직원 등의 책임에 관한 법률 시행령 , 조문 개수: 3 , 페이지: 130 , 몇번째?: 2598\n",
            "법령명: 회사정리법 , 조문 개수: 337 , 페이지: 130 , 몇번째?: 2599\n"
          ]
        },
        {
          "output_type": "stream",
          "name": "stderr",
          "text": [
            "100%|██████████| 11/11 [26:33<00:00, 144.88s/it]"
          ]
        },
        {
          "output_type": "stream",
          "name": "stdout",
          "text": [
            "법령명: 후견등기에 관한 법률 , 조문 개수: 52 , 페이지: 130 , 몇번째?: 2600\n",
            "966\n"
          ]
        },
        {
          "output_type": "stream",
          "name": "stderr",
          "text": [
            "\n"
          ]
        }
      ]
    },
    {
      "cell_type": "code",
      "source": [
        "df.to_csv('/content/drive/MyDrive/KB/KB_trans/120-.csv', index=False)"
      ],
      "metadata": {
        "id": "qqIAI4aPNBIz"
      },
      "execution_count": 9,
      "outputs": []
    },
    {
      "cell_type": "code",
      "source": [
        "from google.colab import drive\n",
        "drive.mount('/content/drive')"
      ],
      "metadata": {
        "id": "yPtgktQWewwW",
        "outputId": "3157476d-c4d6-4091-91c2-a067281047a9",
        "colab": {
          "base_uri": "https://localhost:8080/"
        }
      },
      "execution_count": 1,
      "outputs": [
        {
          "output_type": "stream",
          "name": "stdout",
          "text": [
            "Mounted at /content/drive\n"
          ]
        }
      ]
    },
    {
      "cell_type": "code",
      "source": [
        "url = 'http://www.law.go.kr/DRF/lawSearch.do?OC=seokhee051&target=elaw&type=XML' \\\n",
        "        + '&page=1'\n",
        "# url 불러오기\n",
        "response = requests.get(url)\n",
        "# XML -> 딕셔너리 변환후 파싱\n",
        "contents = response.text\n",
        "dict_contents = xmltodict.parse(contents)\n",
        "\n",
        "content = dict_contents['LawSearch']['law'][5]\n",
        "\n",
        "name_kor = content['법령명한글']\n",
        "name_eng = content['법령명영문']\n",
        "mst = content['법령일련번호']\n",
        "print(name_kor)\n",
        "eng_url = 'https://www.law.go.kr/DRF/lawService.do?OC=seokhee051&target=elaw' \\\n",
        "          + '&MST=' + str(mst)\n",
        "          # + '&ID=' + str(법령ID)\n",
        "eng_response = requests.get(eng_url)\n",
        "eng_contents = eng_response.text\n",
        "eng_dict_contents = xmltodict.parse(eng_contents)\n",
        "\n",
        "kor_url = 'https://www.law.go.kr/DRF/lawService.do?OC=seokhee051&target=law' \\\n",
        "          + '&MST=' + str(mst)\n",
        "          # + '&ID=' + str(법령ID)\n",
        "kor_response = requests.get(kor_url)\n",
        "kor_contents = kor_response.text\n",
        "kor_dict_contents = xmltodict.parse(kor_contents)"
      ],
      "metadata": {
        "colab": {
          "base_uri": "https://localhost:8080/",
          "height": 428
        },
        "id": "dKOL_fsAOq9c",
        "outputId": "cd3d330b-4312-4662-93f4-5e719c48d602"
      },
      "execution_count": null,
      "outputs": [
        {
          "output_type": "stream",
          "name": "stdout",
          "text": [
            "2018 평창 동계올림픽대회 및 동계패럴림픽대회 지원 등에 관한 특별법\n"
          ]
        },
        {
          "output_type": "error",
          "ename": "KeyboardInterrupt",
          "evalue": "ignored",
          "traceback": [
            "\u001b[0;31m---------------------------------------------------------------------------\u001b[0m",
            "\u001b[0;31mKeyboardInterrupt\u001b[0m                         Traceback (most recent call last)",
            "\u001b[0;32m<ipython-input-21-dd7a3eb421aa>\u001b[0m in \u001b[0;36m<cell line: 25>\u001b[0;34m()\u001b[0m\n\u001b[1;32m     23\u001b[0m           \u001b[0;34m+\u001b[0m \u001b[0;34m'&MST='\u001b[0m \u001b[0;34m+\u001b[0m \u001b[0mstr\u001b[0m\u001b[0;34m(\u001b[0m\u001b[0mmst\u001b[0m\u001b[0;34m)\u001b[0m\u001b[0;34m\u001b[0m\u001b[0;34m\u001b[0m\u001b[0m\n\u001b[1;32m     24\u001b[0m           \u001b[0;31m# + '&ID=' + str(법령ID)\u001b[0m\u001b[0;34m\u001b[0m\u001b[0;34m\u001b[0m\u001b[0m\n\u001b[0;32m---> 25\u001b[0;31m \u001b[0mkor_response\u001b[0m \u001b[0;34m=\u001b[0m \u001b[0mrequests\u001b[0m\u001b[0;34m.\u001b[0m\u001b[0mget\u001b[0m\u001b[0;34m(\u001b[0m\u001b[0mkor_url\u001b[0m\u001b[0;34m)\u001b[0m\u001b[0;34m\u001b[0m\u001b[0;34m\u001b[0m\u001b[0m\n\u001b[0m\u001b[1;32m     26\u001b[0m \u001b[0mkor_contents\u001b[0m \u001b[0;34m=\u001b[0m \u001b[0mkor_response\u001b[0m\u001b[0;34m.\u001b[0m\u001b[0mtext\u001b[0m\u001b[0;34m\u001b[0m\u001b[0;34m\u001b[0m\u001b[0m\n\u001b[1;32m     27\u001b[0m \u001b[0mkor_dict_contents\u001b[0m \u001b[0;34m=\u001b[0m \u001b[0mxmltodict\u001b[0m\u001b[0;34m.\u001b[0m\u001b[0mparse\u001b[0m\u001b[0;34m(\u001b[0m\u001b[0mkor_contents\u001b[0m\u001b[0;34m)\u001b[0m\u001b[0;34m\u001b[0m\u001b[0;34m\u001b[0m\u001b[0m\n",
            "\u001b[0;32m/usr/local/lib/python3.10/dist-packages/requests/api.py\u001b[0m in \u001b[0;36mget\u001b[0;34m(url, params, **kwargs)\u001b[0m\n\u001b[1;32m     71\u001b[0m     \"\"\"\n\u001b[1;32m     72\u001b[0m \u001b[0;34m\u001b[0m\u001b[0m\n\u001b[0;32m---> 73\u001b[0;31m     \u001b[0;32mreturn\u001b[0m \u001b[0mrequest\u001b[0m\u001b[0;34m(\u001b[0m\u001b[0;34m\"get\"\u001b[0m\u001b[0;34m,\u001b[0m \u001b[0murl\u001b[0m\u001b[0;34m,\u001b[0m \u001b[0mparams\u001b[0m\u001b[0;34m=\u001b[0m\u001b[0mparams\u001b[0m\u001b[0;34m,\u001b[0m \u001b[0;34m**\u001b[0m\u001b[0mkwargs\u001b[0m\u001b[0;34m)\u001b[0m\u001b[0;34m\u001b[0m\u001b[0;34m\u001b[0m\u001b[0m\n\u001b[0m\u001b[1;32m     74\u001b[0m \u001b[0;34m\u001b[0m\u001b[0m\n\u001b[1;32m     75\u001b[0m \u001b[0;34m\u001b[0m\u001b[0m\n",
            "\u001b[0;32m/usr/local/lib/python3.10/dist-packages/requests/api.py\u001b[0m in \u001b[0;36mrequest\u001b[0;34m(method, url, **kwargs)\u001b[0m\n\u001b[1;32m     57\u001b[0m     \u001b[0;31m# cases, and look like a memory leak in others.\u001b[0m\u001b[0;34m\u001b[0m\u001b[0;34m\u001b[0m\u001b[0m\n\u001b[1;32m     58\u001b[0m     \u001b[0;32mwith\u001b[0m \u001b[0msessions\u001b[0m\u001b[0;34m.\u001b[0m\u001b[0mSession\u001b[0m\u001b[0;34m(\u001b[0m\u001b[0;34m)\u001b[0m \u001b[0;32mas\u001b[0m \u001b[0msession\u001b[0m\u001b[0;34m:\u001b[0m\u001b[0;34m\u001b[0m\u001b[0;34m\u001b[0m\u001b[0m\n\u001b[0;32m---> 59\u001b[0;31m         \u001b[0;32mreturn\u001b[0m \u001b[0msession\u001b[0m\u001b[0;34m.\u001b[0m\u001b[0mrequest\u001b[0m\u001b[0;34m(\u001b[0m\u001b[0mmethod\u001b[0m\u001b[0;34m=\u001b[0m\u001b[0mmethod\u001b[0m\u001b[0;34m,\u001b[0m \u001b[0murl\u001b[0m\u001b[0;34m=\u001b[0m\u001b[0murl\u001b[0m\u001b[0;34m,\u001b[0m \u001b[0;34m**\u001b[0m\u001b[0mkwargs\u001b[0m\u001b[0;34m)\u001b[0m\u001b[0;34m\u001b[0m\u001b[0;34m\u001b[0m\u001b[0m\n\u001b[0m\u001b[1;32m     60\u001b[0m \u001b[0;34m\u001b[0m\u001b[0m\n\u001b[1;32m     61\u001b[0m \u001b[0;34m\u001b[0m\u001b[0m\n",
            "\u001b[0;32m/usr/local/lib/python3.10/dist-packages/requests/sessions.py\u001b[0m in \u001b[0;36mrequest\u001b[0;34m(self, method, url, params, data, headers, cookies, files, auth, timeout, allow_redirects, proxies, hooks, stream, verify, cert, json)\u001b[0m\n\u001b[1;32m    587\u001b[0m         }\n\u001b[1;32m    588\u001b[0m         \u001b[0msend_kwargs\u001b[0m\u001b[0;34m.\u001b[0m\u001b[0mupdate\u001b[0m\u001b[0;34m(\u001b[0m\u001b[0msettings\u001b[0m\u001b[0;34m)\u001b[0m\u001b[0;34m\u001b[0m\u001b[0;34m\u001b[0m\u001b[0m\n\u001b[0;32m--> 589\u001b[0;31m         \u001b[0mresp\u001b[0m \u001b[0;34m=\u001b[0m \u001b[0mself\u001b[0m\u001b[0;34m.\u001b[0m\u001b[0msend\u001b[0m\u001b[0;34m(\u001b[0m\u001b[0mprep\u001b[0m\u001b[0;34m,\u001b[0m \u001b[0;34m**\u001b[0m\u001b[0msend_kwargs\u001b[0m\u001b[0;34m)\u001b[0m\u001b[0;34m\u001b[0m\u001b[0;34m\u001b[0m\u001b[0m\n\u001b[0m\u001b[1;32m    590\u001b[0m \u001b[0;34m\u001b[0m\u001b[0m\n\u001b[1;32m    591\u001b[0m         \u001b[0;32mreturn\u001b[0m \u001b[0mresp\u001b[0m\u001b[0;34m\u001b[0m\u001b[0;34m\u001b[0m\u001b[0m\n",
            "\u001b[0;32m/usr/local/lib/python3.10/dist-packages/requests/sessions.py\u001b[0m in \u001b[0;36msend\u001b[0;34m(self, request, **kwargs)\u001b[0m\n\u001b[1;32m    701\u001b[0m \u001b[0;34m\u001b[0m\u001b[0m\n\u001b[1;32m    702\u001b[0m         \u001b[0;31m# Send the request\u001b[0m\u001b[0;34m\u001b[0m\u001b[0;34m\u001b[0m\u001b[0m\n\u001b[0;32m--> 703\u001b[0;31m         \u001b[0mr\u001b[0m \u001b[0;34m=\u001b[0m \u001b[0madapter\u001b[0m\u001b[0;34m.\u001b[0m\u001b[0msend\u001b[0m\u001b[0;34m(\u001b[0m\u001b[0mrequest\u001b[0m\u001b[0;34m,\u001b[0m \u001b[0;34m**\u001b[0m\u001b[0mkwargs\u001b[0m\u001b[0;34m)\u001b[0m\u001b[0;34m\u001b[0m\u001b[0;34m\u001b[0m\u001b[0m\n\u001b[0m\u001b[1;32m    704\u001b[0m \u001b[0;34m\u001b[0m\u001b[0m\n\u001b[1;32m    705\u001b[0m         \u001b[0;31m# Total elapsed time of the request (approximately)\u001b[0m\u001b[0;34m\u001b[0m\u001b[0;34m\u001b[0m\u001b[0m\n",
            "\u001b[0;32m/usr/local/lib/python3.10/dist-packages/requests/adapters.py\u001b[0m in \u001b[0;36msend\u001b[0;34m(self, request, stream, timeout, verify, cert, proxies)\u001b[0m\n\u001b[1;32m    484\u001b[0m \u001b[0;34m\u001b[0m\u001b[0m\n\u001b[1;32m    485\u001b[0m         \u001b[0;32mtry\u001b[0m\u001b[0;34m:\u001b[0m\u001b[0;34m\u001b[0m\u001b[0;34m\u001b[0m\u001b[0m\n\u001b[0;32m--> 486\u001b[0;31m             resp = conn.urlopen(\n\u001b[0m\u001b[1;32m    487\u001b[0m                 \u001b[0mmethod\u001b[0m\u001b[0;34m=\u001b[0m\u001b[0mrequest\u001b[0m\u001b[0;34m.\u001b[0m\u001b[0mmethod\u001b[0m\u001b[0;34m,\u001b[0m\u001b[0;34m\u001b[0m\u001b[0;34m\u001b[0m\u001b[0m\n\u001b[1;32m    488\u001b[0m                 \u001b[0murl\u001b[0m\u001b[0;34m=\u001b[0m\u001b[0murl\u001b[0m\u001b[0;34m,\u001b[0m\u001b[0;34m\u001b[0m\u001b[0;34m\u001b[0m\u001b[0m\n",
            "\u001b[0;32m/usr/local/lib/python3.10/dist-packages/urllib3/connectionpool.py\u001b[0m in \u001b[0;36murlopen\u001b[0;34m(self, method, url, body, headers, retries, redirect, assert_same_host, timeout, pool_timeout, release_conn, chunked, body_pos, preload_content, decode_content, **response_kw)\u001b[0m\n\u001b[1;32m    789\u001b[0m \u001b[0;34m\u001b[0m\u001b[0m\n\u001b[1;32m    790\u001b[0m             \u001b[0;31m# Make the request on the HTTPConnection object\u001b[0m\u001b[0;34m\u001b[0m\u001b[0;34m\u001b[0m\u001b[0m\n\u001b[0;32m--> 791\u001b[0;31m             response = self._make_request(\n\u001b[0m\u001b[1;32m    792\u001b[0m                 \u001b[0mconn\u001b[0m\u001b[0;34m,\u001b[0m\u001b[0;34m\u001b[0m\u001b[0;34m\u001b[0m\u001b[0m\n\u001b[1;32m    793\u001b[0m                 \u001b[0mmethod\u001b[0m\u001b[0;34m,\u001b[0m\u001b[0;34m\u001b[0m\u001b[0;34m\u001b[0m\u001b[0m\n",
            "\u001b[0;32m/usr/local/lib/python3.10/dist-packages/urllib3/connectionpool.py\u001b[0m in \u001b[0;36m_make_request\u001b[0;34m(self, conn, method, url, body, headers, retries, timeout, chunked, response_conn, preload_content, decode_content, enforce_content_length)\u001b[0m\n\u001b[1;32m    466\u001b[0m             \u001b[0;31m# Trigger any extra validation we need to do.\u001b[0m\u001b[0;34m\u001b[0m\u001b[0;34m\u001b[0m\u001b[0m\n\u001b[1;32m    467\u001b[0m             \u001b[0;32mtry\u001b[0m\u001b[0;34m:\u001b[0m\u001b[0;34m\u001b[0m\u001b[0;34m\u001b[0m\u001b[0m\n\u001b[0;32m--> 468\u001b[0;31m                 \u001b[0mself\u001b[0m\u001b[0;34m.\u001b[0m\u001b[0m_validate_conn\u001b[0m\u001b[0;34m(\u001b[0m\u001b[0mconn\u001b[0m\u001b[0;34m)\u001b[0m\u001b[0;34m\u001b[0m\u001b[0;34m\u001b[0m\u001b[0m\n\u001b[0m\u001b[1;32m    469\u001b[0m             \u001b[0;32mexcept\u001b[0m \u001b[0;34m(\u001b[0m\u001b[0mSocketTimeout\u001b[0m\u001b[0;34m,\u001b[0m \u001b[0mBaseSSLError\u001b[0m\u001b[0;34m)\u001b[0m \u001b[0;32mas\u001b[0m \u001b[0me\u001b[0m\u001b[0;34m:\u001b[0m\u001b[0;34m\u001b[0m\u001b[0;34m\u001b[0m\u001b[0m\n\u001b[1;32m    470\u001b[0m                 \u001b[0mself\u001b[0m\u001b[0;34m.\u001b[0m\u001b[0m_raise_timeout\u001b[0m\u001b[0;34m(\u001b[0m\u001b[0merr\u001b[0m\u001b[0;34m=\u001b[0m\u001b[0me\u001b[0m\u001b[0;34m,\u001b[0m \u001b[0murl\u001b[0m\u001b[0;34m=\u001b[0m\u001b[0murl\u001b[0m\u001b[0;34m,\u001b[0m \u001b[0mtimeout_value\u001b[0m\u001b[0;34m=\u001b[0m\u001b[0mconn\u001b[0m\u001b[0;34m.\u001b[0m\u001b[0mtimeout\u001b[0m\u001b[0;34m)\u001b[0m\u001b[0;34m\u001b[0m\u001b[0;34m\u001b[0m\u001b[0m\n",
            "\u001b[0;32m/usr/local/lib/python3.10/dist-packages/urllib3/connectionpool.py\u001b[0m in \u001b[0;36m_validate_conn\u001b[0;34m(self, conn)\u001b[0m\n\u001b[1;32m   1095\u001b[0m         \u001b[0;31m# Force connect early to allow us to validate the connection.\u001b[0m\u001b[0;34m\u001b[0m\u001b[0;34m\u001b[0m\u001b[0m\n\u001b[1;32m   1096\u001b[0m         \u001b[0;32mif\u001b[0m \u001b[0mconn\u001b[0m\u001b[0;34m.\u001b[0m\u001b[0mis_closed\u001b[0m\u001b[0;34m:\u001b[0m\u001b[0;34m\u001b[0m\u001b[0;34m\u001b[0m\u001b[0m\n\u001b[0;32m-> 1097\u001b[0;31m             \u001b[0mconn\u001b[0m\u001b[0;34m.\u001b[0m\u001b[0mconnect\u001b[0m\u001b[0;34m(\u001b[0m\u001b[0;34m)\u001b[0m\u001b[0;34m\u001b[0m\u001b[0;34m\u001b[0m\u001b[0m\n\u001b[0m\u001b[1;32m   1098\u001b[0m \u001b[0;34m\u001b[0m\u001b[0m\n\u001b[1;32m   1099\u001b[0m         \u001b[0;32mif\u001b[0m \u001b[0;32mnot\u001b[0m \u001b[0mconn\u001b[0m\u001b[0;34m.\u001b[0m\u001b[0mis_verified\u001b[0m\u001b[0;34m:\u001b[0m\u001b[0;34m\u001b[0m\u001b[0;34m\u001b[0m\u001b[0m\n",
            "\u001b[0;32m/usr/local/lib/python3.10/dist-packages/urllib3/connection.py\u001b[0m in \u001b[0;36mconnect\u001b[0;34m(self)\u001b[0m\n\u001b[1;32m    640\u001b[0m             )\n\u001b[1;32m    641\u001b[0m \u001b[0;34m\u001b[0m\u001b[0m\n\u001b[0;32m--> 642\u001b[0;31m         sock_and_verified = _ssl_wrap_socket_and_match_hostname(\n\u001b[0m\u001b[1;32m    643\u001b[0m             \u001b[0msock\u001b[0m\u001b[0;34m=\u001b[0m\u001b[0msock\u001b[0m\u001b[0;34m,\u001b[0m\u001b[0;34m\u001b[0m\u001b[0;34m\u001b[0m\u001b[0m\n\u001b[1;32m    644\u001b[0m             \u001b[0mcert_reqs\u001b[0m\u001b[0;34m=\u001b[0m\u001b[0mself\u001b[0m\u001b[0;34m.\u001b[0m\u001b[0mcert_reqs\u001b[0m\u001b[0;34m,\u001b[0m\u001b[0;34m\u001b[0m\u001b[0;34m\u001b[0m\u001b[0m\n",
            "\u001b[0;32m/usr/local/lib/python3.10/dist-packages/urllib3/connection.py\u001b[0m in \u001b[0;36m_ssl_wrap_socket_and_match_hostname\u001b[0;34m(sock, cert_reqs, ssl_version, ssl_minimum_version, ssl_maximum_version, cert_file, key_file, key_password, ca_certs, ca_cert_dir, ca_cert_data, assert_hostname, assert_fingerprint, server_hostname, ssl_context, tls_in_tls)\u001b[0m\n\u001b[1;32m    781\u001b[0m             \u001b[0mserver_hostname\u001b[0m \u001b[0;34m=\u001b[0m \u001b[0mnormalized\u001b[0m\u001b[0;34m\u001b[0m\u001b[0;34m\u001b[0m\u001b[0m\n\u001b[1;32m    782\u001b[0m \u001b[0;34m\u001b[0m\u001b[0m\n\u001b[0;32m--> 783\u001b[0;31m     ssl_sock = ssl_wrap_socket(\n\u001b[0m\u001b[1;32m    784\u001b[0m         \u001b[0msock\u001b[0m\u001b[0;34m=\u001b[0m\u001b[0msock\u001b[0m\u001b[0;34m,\u001b[0m\u001b[0;34m\u001b[0m\u001b[0;34m\u001b[0m\u001b[0m\n\u001b[1;32m    785\u001b[0m         \u001b[0mkeyfile\u001b[0m\u001b[0;34m=\u001b[0m\u001b[0mkey_file\u001b[0m\u001b[0;34m,\u001b[0m\u001b[0;34m\u001b[0m\u001b[0;34m\u001b[0m\u001b[0m\n",
            "\u001b[0;32m/usr/local/lib/python3.10/dist-packages/urllib3/util/ssl_.py\u001b[0m in \u001b[0;36mssl_wrap_socket\u001b[0;34m(sock, keyfile, certfile, cert_reqs, ca_certs, server_hostname, ssl_version, ciphers, ssl_context, ca_cert_dir, key_password, ca_cert_data, tls_in_tls)\u001b[0m\n\u001b[1;32m    469\u001b[0m         \u001b[0;32mpass\u001b[0m\u001b[0;34m\u001b[0m\u001b[0;34m\u001b[0m\u001b[0m\n\u001b[1;32m    470\u001b[0m \u001b[0;34m\u001b[0m\u001b[0m\n\u001b[0;32m--> 471\u001b[0;31m     \u001b[0mssl_sock\u001b[0m \u001b[0;34m=\u001b[0m \u001b[0m_ssl_wrap_socket_impl\u001b[0m\u001b[0;34m(\u001b[0m\u001b[0msock\u001b[0m\u001b[0;34m,\u001b[0m \u001b[0mcontext\u001b[0m\u001b[0;34m,\u001b[0m \u001b[0mtls_in_tls\u001b[0m\u001b[0;34m,\u001b[0m \u001b[0mserver_hostname\u001b[0m\u001b[0;34m)\u001b[0m\u001b[0;34m\u001b[0m\u001b[0;34m\u001b[0m\u001b[0m\n\u001b[0m\u001b[1;32m    472\u001b[0m     \u001b[0;32mreturn\u001b[0m \u001b[0mssl_sock\u001b[0m\u001b[0;34m\u001b[0m\u001b[0;34m\u001b[0m\u001b[0m\n\u001b[1;32m    473\u001b[0m \u001b[0;34m\u001b[0m\u001b[0m\n",
            "\u001b[0;32m/usr/local/lib/python3.10/dist-packages/urllib3/util/ssl_.py\u001b[0m in \u001b[0;36m_ssl_wrap_socket_impl\u001b[0;34m(sock, ssl_context, tls_in_tls, server_hostname)\u001b[0m\n\u001b[1;32m    513\u001b[0m         \u001b[0;32mreturn\u001b[0m \u001b[0mSSLTransport\u001b[0m\u001b[0;34m(\u001b[0m\u001b[0msock\u001b[0m\u001b[0;34m,\u001b[0m \u001b[0mssl_context\u001b[0m\u001b[0;34m,\u001b[0m \u001b[0mserver_hostname\u001b[0m\u001b[0;34m)\u001b[0m\u001b[0;34m\u001b[0m\u001b[0;34m\u001b[0m\u001b[0m\n\u001b[1;32m    514\u001b[0m \u001b[0;34m\u001b[0m\u001b[0m\n\u001b[0;32m--> 515\u001b[0;31m     \u001b[0;32mreturn\u001b[0m \u001b[0mssl_context\u001b[0m\u001b[0;34m.\u001b[0m\u001b[0mwrap_socket\u001b[0m\u001b[0;34m(\u001b[0m\u001b[0msock\u001b[0m\u001b[0;34m,\u001b[0m \u001b[0mserver_hostname\u001b[0m\u001b[0;34m=\u001b[0m\u001b[0mserver_hostname\u001b[0m\u001b[0;34m)\u001b[0m\u001b[0;34m\u001b[0m\u001b[0;34m\u001b[0m\u001b[0m\n\u001b[0m",
            "\u001b[0;32m/usr/lib/python3.10/ssl.py\u001b[0m in \u001b[0;36mwrap_socket\u001b[0;34m(self, sock, server_side, do_handshake_on_connect, suppress_ragged_eofs, server_hostname, session)\u001b[0m\n\u001b[1;32m    511\u001b[0m         \u001b[0;31m# SSLSocket class handles server_hostname encoding before it calls\u001b[0m\u001b[0;34m\u001b[0m\u001b[0;34m\u001b[0m\u001b[0m\n\u001b[1;32m    512\u001b[0m         \u001b[0;31m# ctx._wrap_socket()\u001b[0m\u001b[0;34m\u001b[0m\u001b[0;34m\u001b[0m\u001b[0m\n\u001b[0;32m--> 513\u001b[0;31m         return self.sslsocket_class._create(\n\u001b[0m\u001b[1;32m    514\u001b[0m             \u001b[0msock\u001b[0m\u001b[0;34m=\u001b[0m\u001b[0msock\u001b[0m\u001b[0;34m,\u001b[0m\u001b[0;34m\u001b[0m\u001b[0;34m\u001b[0m\u001b[0m\n\u001b[1;32m    515\u001b[0m             \u001b[0mserver_side\u001b[0m\u001b[0;34m=\u001b[0m\u001b[0mserver_side\u001b[0m\u001b[0;34m,\u001b[0m\u001b[0;34m\u001b[0m\u001b[0;34m\u001b[0m\u001b[0m\n",
            "\u001b[0;32m/usr/lib/python3.10/ssl.py\u001b[0m in \u001b[0;36m_create\u001b[0;34m(cls, sock, server_side, do_handshake_on_connect, suppress_ragged_eofs, server_hostname, context, session)\u001b[0m\n\u001b[1;32m   1098\u001b[0m                         \u001b[0;31m# non-blocking\u001b[0m\u001b[0;34m\u001b[0m\u001b[0;34m\u001b[0m\u001b[0m\n\u001b[1;32m   1099\u001b[0m                         \u001b[0;32mraise\u001b[0m \u001b[0mValueError\u001b[0m\u001b[0;34m(\u001b[0m\u001b[0;34m\"do_handshake_on_connect should not be specified for non-blocking sockets\"\u001b[0m\u001b[0;34m)\u001b[0m\u001b[0;34m\u001b[0m\u001b[0;34m\u001b[0m\u001b[0m\n\u001b[0;32m-> 1100\u001b[0;31m                     \u001b[0mself\u001b[0m\u001b[0;34m.\u001b[0m\u001b[0mdo_handshake\u001b[0m\u001b[0;34m(\u001b[0m\u001b[0;34m)\u001b[0m\u001b[0;34m\u001b[0m\u001b[0;34m\u001b[0m\u001b[0m\n\u001b[0m\u001b[1;32m   1101\u001b[0m             \u001b[0;32mexcept\u001b[0m \u001b[0;34m(\u001b[0m\u001b[0mOSError\u001b[0m\u001b[0;34m,\u001b[0m \u001b[0mValueError\u001b[0m\u001b[0;34m)\u001b[0m\u001b[0;34m:\u001b[0m\u001b[0;34m\u001b[0m\u001b[0;34m\u001b[0m\u001b[0m\n\u001b[1;32m   1102\u001b[0m                 \u001b[0mself\u001b[0m\u001b[0;34m.\u001b[0m\u001b[0mclose\u001b[0m\u001b[0;34m(\u001b[0m\u001b[0;34m)\u001b[0m\u001b[0;34m\u001b[0m\u001b[0;34m\u001b[0m\u001b[0m\n",
            "\u001b[0;32m/usr/lib/python3.10/ssl.py\u001b[0m in \u001b[0;36mdo_handshake\u001b[0;34m(self, block)\u001b[0m\n\u001b[1;32m   1369\u001b[0m             \u001b[0;32mif\u001b[0m \u001b[0mtimeout\u001b[0m \u001b[0;34m==\u001b[0m \u001b[0;36m0.0\u001b[0m \u001b[0;32mand\u001b[0m \u001b[0mblock\u001b[0m\u001b[0;34m:\u001b[0m\u001b[0;34m\u001b[0m\u001b[0;34m\u001b[0m\u001b[0m\n\u001b[1;32m   1370\u001b[0m                 \u001b[0mself\u001b[0m\u001b[0;34m.\u001b[0m\u001b[0msettimeout\u001b[0m\u001b[0;34m(\u001b[0m\u001b[0;32mNone\u001b[0m\u001b[0;34m)\u001b[0m\u001b[0;34m\u001b[0m\u001b[0;34m\u001b[0m\u001b[0m\n\u001b[0;32m-> 1371\u001b[0;31m             \u001b[0mself\u001b[0m\u001b[0;34m.\u001b[0m\u001b[0m_sslobj\u001b[0m\u001b[0;34m.\u001b[0m\u001b[0mdo_handshake\u001b[0m\u001b[0;34m(\u001b[0m\u001b[0;34m)\u001b[0m\u001b[0;34m\u001b[0m\u001b[0;34m\u001b[0m\u001b[0m\n\u001b[0m\u001b[1;32m   1372\u001b[0m         \u001b[0;32mfinally\u001b[0m\u001b[0;34m:\u001b[0m\u001b[0;34m\u001b[0m\u001b[0;34m\u001b[0m\u001b[0m\n\u001b[1;32m   1373\u001b[0m             \u001b[0mself\u001b[0m\u001b[0;34m.\u001b[0m\u001b[0msettimeout\u001b[0m\u001b[0;34m(\u001b[0m\u001b[0mtimeout\u001b[0m\u001b[0;34m)\u001b[0m\u001b[0;34m\u001b[0m\u001b[0;34m\u001b[0m\u001b[0m\n",
            "\u001b[0;31mKeyboardInterrupt\u001b[0m: "
          ]
        }
      ]
    },
    {
      "cell_type": "code",
      "source": [
        "count = 0\n",
        "for temp in kor_dict_contents['법령']['조문']['조문단위']:\n",
        "    if temp.get('조문제목'):\n",
        "        if temp['조문제목'] == '기념화폐의 판매':\n",
        "            print(count)\n",
        "    count += 1"
      ],
      "metadata": {
        "colab": {
          "base_uri": "https://localhost:8080/"
        },
        "id": "kgm8Dla-udOH",
        "outputId": "fc834c99-6229-4b6d-ea0a-ddaac3ff094e"
      },
      "execution_count": null,
      "outputs": [
        {
          "output_type": "stream",
          "name": "stdout",
          "text": [
            "17\n"
          ]
        }
      ]
    },
    {
      "cell_type": "code",
      "source": [
        "eng_dict_contents['Law']['JoSection']['Jo'][6]"
      ],
      "metadata": {
        "colab": {
          "base_uri": "https://localhost:8080/"
        },
        "id": "e0NFbzpdFzZh",
        "outputId": "bfa49e90-0367-4845-f03f-0109e52bd2b3"
      },
      "execution_count": null,
      "outputs": [
        {
          "output_type": "execute_result",
          "data": {
            "text/plain": [
              "{'@No': '7',\n",
              " 'chapNo': '00000200000000000000',\n",
              " 'joNo': '0005',\n",
              " 'joBrNo': '00',\n",
              " 'joYn': 'Y',\n",
              " 'joTtl': 'Establishment of Organizing Committee',\n",
              " 'joCts': 'Article 5 (Establishment of Organizing Committee) (1) In order to conduct the following projects and activities for the preparation and successful operation of the Games, the PyeongChang Organizing Committee for the 2018 Olympic and Paralympic Winter Games (hereinafter referred to as \"the Organizing Committee\") shall be established upon authorization from the Minister of Culture, Sports and Tourism: <Amended by Act No. 14198, May 29, 2016>\\n  1. Establishment of a comprehensive plan for the Games, and establishment and  implementation of detailed operational plans;\\n  2. Establishment and implementation of a plan to establish and use Games-related facilities;\\n  3. Cooperation with international sports organizations promoting the Games;\\n  4. Other projects necessary for the smooth preparation and operation of the Games.\\n  (2) The Organizing Committee shall be a corporation.\\n  (3) The Organizing Committee shall have a president, a vice president, executive members and auditors as its executives, and a plenary session as its supreme decision-making organ and an executive board for the efficient performance of its duties.\\n  (4) Such details as the number of executives prescribed in paragraph (3), their terms of office, methods of selecting executives, and organization, functions, etc. of the plenary session and the executive board shall be prescribed by the articles of association.\\n  (5) Except as otherwise expressly prescribed by this Act, the provisions concerning incorporated foundations in the Civil Act shall apply mutatis mutandis to the Organizing Committee.\\n  [This Article remains in force through Mar. 31, 2019 pursuant to Article 2 of the Addenda to Act No. 11226, Jan. 26, 2012]'}"
            ]
          },
          "metadata": {},
          "execution_count": 17
        }
      ]
    },
    {
      "cell_type": "code",
      "source": [
        "kor_dict_contents['법령']['조문']['조문단위'][6]"
      ],
      "metadata": {
        "colab": {
          "base_uri": "https://localhost:8080/"
        },
        "id": "DFs5EwD9p4DB",
        "outputId": "b69943c5-db55-46b7-ada5-f2ae14122e2f"
      },
      "execution_count": null,
      "outputs": [
        {
          "output_type": "execute_result",
          "data": {
            "text/plain": [
              "{'@조문키': '0005001',\n",
              " '조문번호': '5',\n",
              " '조문여부': '조문',\n",
              " '조문제목': '조직위원회의 설립',\n",
              " '조문시행일자': '20190401',\n",
              " '조문이동이전': None,\n",
              " '조문이동이후': None,\n",
              " '조문변경여부': 'N',\n",
              " '조문내용': '제5조(조직위원회의 설립)',\n",
              " '항': [{'항번호': '①',\n",
              "   '항내용': '① 대회의 준비 및 성공적인 개최를 위한 다음 각 호의 사업과 활동을 하기 위하여 문화체육관광부장관의 인가를 받아 2018 평창 동계올림픽대회 및 동계패럴림픽대회 조직위원회(이하 \"조직위원회\"라 한다)를 설립한다. <개정 2016.5.29>',\n",
              "   '호': [{'호번호': '1.', '호내용': '1. 대회 종합계획 수립 및 세부 운영계획의 수립ㆍ시행'},\n",
              "    {'호번호': '2.', '호내용': '2. 대회관련시설의 설치ㆍ이용에 관한 계획의 수립ㆍ시행'},\n",
              "    {'호번호': '3.', '호내용': '3. 대회를 주최하는 국제스포츠기구와의 협력'},\n",
              "    {'호번호': '4.', '호내용': '4. 그 밖에 대회의 원활한 준비 및 운영을 위하여 필요한 사업'}]},\n",
              "  {'항번호': '②', '항내용': '② 조직위원회는 법인으로 한다.'},\n",
              "  {'항번호': '③',\n",
              "   '항내용': '③ 조직위원회에 위원장, 부위원장, 집행위원 및 감사를 두고 이를 임원으로 하며, 최고의결기구인 위원총회 및 업무의 효율적인 추진을 위한 집행위원회를 둔다.'},\n",
              "  {'항번호': '④',\n",
              "   '항내용': '④ 제3항에 따른 임원의 정원, 임기 및 선출 방법, 위원총회와 집행위원회의 구성 및 기능 등에 관한 사항은 정관으로 정한다.'},\n",
              "  {'항번호': '⑤',\n",
              "   '항내용': '⑤ 조직위원회에 관하여 이 법에서 규정한 것 외에는 「민법」 중 재단법인에 관한 규정을 준용한다.'}],\n",
              " '조문참고자료': '[법률 제11226호(2012. 1. 26.) 제5조의 개정규정은 같은 법 부칙 제2조의 규정에 의하여 2019년 3월 31일까지 유효함]'}"
            ]
          },
          "metadata": {},
          "execution_count": 16
        }
      ]
    },
    {
      "cell_type": "code",
      "source": [
        "# 영한 조문 개수 맞지 않는 법령 개수 2 간접투자자산 운용업법 시행령 17\n",
        "# 영한 조문 개수 맞지 않는 법령 개수 3 간척지의 농어업적 이용 및 관리에 관한 법률 9\n",
        "# 영한 조문 개수 맞지 않는 법령 개수 4 개발이익 환수에 관한 법률 14\n",
        "# 영한 조문 개수 맞지 않는 법령 개수 5 개별소비세법 18"
      ],
      "metadata": {
        "id": "iEzhrHGmaZOJ"
      },
      "execution_count": null,
      "outputs": []
    },
    {
      "cell_type": "code",
      "source": [
        "kor_jo = kor_dict_contents['법령']['조문']['조문단위'][43]\n",
        "eng_jo = eng_dict_contents['Law']['JoSection']['Jo'][43]\n",
        "kor_total = 0\n",
        "if kor_jo.get('항'): # 항내용이 있으면 list 바로 호내용이면 dict 타입이네\n",
        "  if type(kor_jo['항']) == dict:\n",
        "    kor_total += len(kor_jo['항']['호'])\n",
        "    for ho in kor_jo['항']['호']:\n",
        "      if ho.get('목'):\n",
        "        kor_total += len(ho['목'])\n",
        "    kor_total += 1\n",
        "  else:\n",
        "    kor_total += len(kor_jo['항'])\n",
        "    for hang in kor_jo['항']:\n",
        "      if hang.get('호'):\n",
        "        kor_total += len(hang['호'])\n",
        "        for ho in hang['호']:\n",
        "          if ho.get('목'):\n",
        "            kor_total += len(ho['목'])\n",
        "else:\n",
        "  kor_total = 1\n",
        "print(kor_total)\n",
        "\n",
        "if kor_jo.get('조문참고자료'):\n",
        "  kor_total += (1 + kor_jo['조문참고자료'].count('\\n'))\n",
        "print(kor_total)\n",
        "if (eng_jo['joCts'].count('\\n')+1) != kor_total:\n",
        "  not_match_jo += 1\n",
        "  print(not_match_jo)"
      ],
      "metadata": {
        "colab": {
          "base_uri": "https://localhost:8080/"
        },
        "id": "iAqPDa5waazW",
        "outputId": "f8eed098-a89b-4a3c-c1f5-11dcb5412eb1"
      },
      "execution_count": null,
      "outputs": [
        {
          "output_type": "stream",
          "name": "stdout",
          "text": [
            "6\n",
            "9\n",
            "4\n"
          ]
        }
      ]
    }
  ],
  "metadata": {
    "colab": {
      "name": "Colaboratory에 오신 것을 환영합니다",
      "provenance": [],
      "include_colab_link": true
    },
    "kernelspec": {
      "display_name": "Python 3",
      "name": "python3"
    }
  },
  "nbformat": 4,
  "nbformat_minor": 0
}
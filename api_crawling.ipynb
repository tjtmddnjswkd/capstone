{
  "cells": [
    {
      "cell_type": "markdown",
      "metadata": {
        "id": "view-in-github",
        "colab_type": "text"
      },
      "source": [
        "<a href=\"https://colab.research.google.com/github/tjtmddnjswkd/capstone/blob/master/api_crawling.ipynb\" target=\"_parent\"><img src=\"https://colab.research.google.com/assets/colab-badge.svg\" alt=\"Open In Colab\"/></a>"
      ]
    },
    {
      "cell_type": "code",
      "source": [
        "!pip install xmltodict"
      ],
      "metadata": {
        "colab": {
          "base_uri": "https://localhost:8080/"
        },
        "id": "jH9VcIauesOV",
        "outputId": "e0dd2226-b459-4854-e0f0-5336db76ad1b"
      },
      "execution_count": 1,
      "outputs": [
        {
          "output_type": "stream",
          "name": "stdout",
          "text": [
            "Collecting xmltodict\n",
            "  Downloading xmltodict-0.13.0-py2.py3-none-any.whl (10.0 kB)\n",
            "Installing collected packages: xmltodict\n",
            "Successfully installed xmltodict-0.13.0\n"
          ]
        }
      ]
    },
    {
      "cell_type": "code",
      "source": [
        "import pandas as pd\n",
        "import re\n",
        "import sys\n",
        "import requests\n",
        "import json\n",
        "import pprint\n",
        "from bs4 import BeautifulSoup\n",
        "from urllib.request import urlopen\n",
        "import xmltodict\n",
        "from tqdm import tqdm\n",
        "import random\n",
        "import pprint"
      ],
      "metadata": {
        "id": "cUAo_Pc5euCs"
      },
      "execution_count": 2,
      "outputs": []
    },
    {
      "cell_type": "code",
      "source": [
        "url = 'http://www.law.go.kr/DRF/lawSearch.do?OC=seokhee051&target=elaw&type=XML'\n",
        "# url 불러오기\n",
        "response = requests.get(url)\n",
        "# XML -> 딕셔너리 변환후 파싱\n",
        "contents = response.text\n",
        "dict_contents = xmltodict.parse(contents)\n",
        "totalCnt = int(dict_contents['LawSearch']['totalCnt'])"
      ],
      "metadata": {
        "id": "JGFiNkvsevvj"
      },
      "execution_count": 3,
      "outputs": []
    },
    {
      "cell_type": "code",
      "source": [
        "totalCnt"
      ],
      "metadata": {
        "colab": {
          "base_uri": "https://localhost:8080/"
        },
        "id": "btgoVNxyk4_x",
        "outputId": "6cb1d81c-1d6f-4b3a-aee5-171fa01bcf76"
      },
      "execution_count": 4,
      "outputs": [
        {
          "output_type": "execute_result",
          "data": {
            "text/plain": [
              "2608"
            ]
          },
          "metadata": {},
          "execution_count": 4
        }
      ]
    },
    {
      "cell_type": "code",
      "source": [
        "rows = []\n",
        "not_match_jo = []\n",
        "changed_num = 0\n",
        "changed = []\n",
        "eng_cnt = 0\n",
        "kor_cnt = 0\n",
        "total_page = int(totalCnt/20)+1\n",
        "for p in tqdm(range(1,3)):#total_page)):\n",
        "  url = 'http://www.law.go.kr/DRF/lawSearch.do?OC=seokhee051&target=elaw&type=XML' \\\n",
        "        + '&page=' + str(p)\n",
        "  # url 불러오기\n",
        "  response = requests.get(url)\n",
        "  # XML -> 딕셔너리 변환후 파싱\n",
        "  contents = response.text\n",
        "  dict_contents = xmltodict.parse(contents)\n",
        "  try:\n",
        "    for content in dict_contents['LawSearch']['law']:\n",
        "      name_kor = content['법령명한글']\n",
        "      name_eng = content['법령명영문']\n",
        "      mst = content['법령일련번호']\n",
        "\n",
        "      eng_url = 'https://www.law.go.kr/DRF/lawService.do?OC=seokhee051&target=elaw' \\\n",
        "                + '&MST=' + str(mst)\n",
        "                # + '&ID=' + str(법령ID)\n",
        "      eng_response = requests.get(eng_url)\n",
        "      eng_contents = eng_response.text\n",
        "      eng_dict_contents = xmltodict.parse(eng_contents)\n",
        "\n",
        "      kor_url = 'https://www.law.go.kr/DRF/lawService.do?OC=seokhee051&target=law' \\\n",
        "                + '&MST=' + str(mst)\n",
        "                # + '&ID=' + str(법령ID)\n",
        "      kor_response = requests.get(kor_url)\n",
        "      kor_contents = kor_response.text\n",
        "      kor_dict_contents = xmltodict.parse(kor_contents)\n",
        "\n",
        "      # # 영어조문 개수와 한글 조문 개수 맞지 않다면 건너뛰기\n",
        "      # if len(eng_dict_contents['Law']['JoSection']['Jo']) != len(kor_dict_contents['법령']['조문']['조문단위']):\n",
        "      #     not_match_jo += 1\n",
        "      #     print(f'영한 조문 개수 맞지 않는 법령 개수', not_match_jo, kor_dict_contents['법령']['기본정보']['법령명_한글'])\n",
        "      #     continue\n",
        "      # eng_cnt += len(eng_dict_contents['Law']['JoSection']['Jo'])\n",
        "      # kor_cnt += len(kor_dict_contents['법령']['조문']['조문단위'])\n",
        "      min_num_jo = min(len(eng_dict_contents['Law']['JoSection']['Jo']), len(kor_dict_contents['법령']['조문']['조문단위']))\n",
        "      temp_cnt = 0\n",
        "      print('법령명:', name_kor, ', 조문 개수:', min_num_jo, ', 페이지:', p, ', 몇번째?:', content['@id'])\n",
        "      try:\n",
        "        # for eng_jo, kor_jo in zip(eng_dict_contents['Law']['JoSection']['Jo'],kor_dict_contents['법령']['조문']['조문단위']):\n",
        "        for ind in range(min_num_jo):\n",
        "          eng_jo, kor_jo = eng_dict_contents['Law']['JoSection']['Jo'][ind], kor_dict_contents['법령']['조문']['조문단위'][ind]\n",
        "\n",
        "          if kor_jo['조문여부']!='조문':\n",
        "            continue\n",
        "          # if kor_jo.get('조문가지번호'):\n",
        "          #   continue\n",
        "\n",
        "          kor_total = 0\n",
        "          if kor_jo.get('항'): # 항내용이 있으면 list 바로 호내용이면 dict 타입이네\n",
        "            if type(kor_jo['항']) == dict:\n",
        "              kor_total += len(kor_jo['항']['호'])\n",
        "              for ho in kor_jo['항']['호']:\n",
        "                if ho.get('목'):\n",
        "                  kor_total += len(ho['목'])\n",
        "              kor_total += 1 # 호부터 시작하면 영어에서는 또 \\n이 하나 늘어남\n",
        "            else:\n",
        "              kor_total += len(kor_jo['항'])\n",
        "              for hang in kor_jo['항']:\n",
        "                if hang.get('호'):\n",
        "                  kor_total += len(hang['호'])\n",
        "                  for ho in hang['호']:\n",
        "                    if ho.get('목'):\n",
        "                      kor_total += len(ho['목'])\n",
        "          else:\n",
        "            kor_total = 1\n",
        "\n",
        "          if kor_jo.get('조문참고자료'):\n",
        "            if '\\n\\t\\t\\n\\t\\t' in kor_jo['조문참고자료']:\n",
        "              kor_total += 2\n",
        "              kor_jo['조문참고자료'] = kor_jo['조문참고자료'].replace('\\n\\t\\t\\n\\t\\t', '\\n')\n",
        "            else:\n",
        "              kor_total += 1\n",
        "\n",
        "          if (eng_jo['joCts'].count('\\n')+1) != kor_total:\n",
        "            not_match_jo.append([name_kor, kor_jo['조문제목']])\n",
        "            continue\n",
        "\n",
        "          if eng_jo['joYn']!= 'Y':\n",
        "            changed_num += 1\n",
        "            changed.append([eng_jo, kor_jo])\n",
        "            print('안바뀐 법령 개수:', changed_num)\n",
        "            continue\n",
        "          # if eng_jo['joBrNo']!='00':\n",
        "          #   continue\n",
        "\n",
        "          eng_text = eng_jo['joCts']\n",
        "\n",
        "          jo_txt = ''\n",
        "          hang_txt = ''\n",
        "          ho_txt = ''\n",
        "          mok_txt = ''\n",
        "\n",
        "          jo_txt += kor_jo['조문내용']\n",
        "          if kor_jo.get('항'): # 항내용이 있으면 list 바로 호내용이면 dict 타입이네\n",
        "            if type(kor_jo['항']) == dict:\n",
        "              for ho in kor_jo['항']['호']:\n",
        "                ho_txt += ho['호내용']\n",
        "                if ho.get('목'):\n",
        "                  for mok in ho['목']:\n",
        "                    mok_txt = mok['목내용']\n",
        "                  ho_txt += mok_txt\n",
        "              hang_txt += ho_txt\n",
        "            else:\n",
        "              for hang in kor_jo['항']:\n",
        "                hang_txt += hang['항내용']\n",
        "                if hang.get('호'):\n",
        "                  for ho in hang['호']:\n",
        "                    ho_txt += ho['호내용']\n",
        "                    if ho.get('목'):\n",
        "                      for mok in ho['목']:\n",
        "                        mok_txt = mok['목내용']\n",
        "                        ho_txt += mok_txt\n",
        "                  hang_txt += ho_txt\n",
        "              jo_txt += hang_txt\n",
        "          if kor_jo.get('조문참고자료'):\n",
        "            # jo_txt += kor_jo['조문참고자료']\n",
        "            eng_text = '\\n  '.join(eng_text.split('\\n  ')[:-1])\n",
        "          kor_text = jo_txt\n",
        "          rows.append({'name_kor':name_kor, 'name_eng':name_eng, 'MST':mst, 'eng':eng_text, 'kor':kor_text})\n",
        "      except Exception as e:\n",
        "        print('eng_kor_contents 예외 발생:', e)\n",
        "  except Exception as e:\n",
        "    print('dict_contents 예외 발생:', e)\n",
        "print(len(not_match_jo))\n",
        "df = pd.DataFrame(rows)"
      ],
      "metadata": {
        "colab": {
          "base_uri": "https://localhost:8080/"
        },
        "id": "UO3lZCQGe6wE",
        "outputId": "ee275800-366c-460c-ea7c-1d19ac28cee9"
      },
      "execution_count": 5,
      "outputs": [
        {
          "output_type": "stream",
          "name": "stderr",
          "text": [
            "\r  0%|          | 0/2 [00:00<?, ?it/s]"
          ]
        },
        {
          "output_type": "stream",
          "name": "stdout",
          "text": [
            "법령명: 119구조ㆍ구급에 관한 법률 , 조문 개수: 47 , 페이지: 1 , 몇번째?: 1\n",
            "법령명: 119구조ㆍ구급에 관한 법률 시행령 , 조문 개수: 47 , 페이지: 1 , 몇번째?: 2\n",
            "법령명: 1인 창조기업 육성에 관한 법률 , 조문 개수: 24 , 페이지: 1 , 몇번째?: 3\n",
            "법령명: 1인 창조기업 육성에 관한 법률 시행령 , 조문 개수: 12 , 페이지: 1 , 몇번째?: 4\n",
            "법령명: 2011대구세계육상선수권대회, 2013충주세계조정선수권대회, 2014인천아시아경기대회, 2014인천장애인아시아경기대회 및 2015광주하계유니버시아드대회 지원법 , 조문 개수: 46 , 페이지: 1 , 몇번째?: 5\n",
            "법령명: 2018 평창 동계올림픽대회 및 동계패럴림픽대회 지원 등에 관한 특별법 , 조문 개수: 113 , 페이지: 1 , 몇번째?: 6\n",
            "법령명: 2018 평창 동계올림픽대회 및 동계패럴림픽대회 지원 등에 관한 특별법 시행령 , 조문 개수: 64 , 페이지: 1 , 몇번째?: 7\n",
            "법령명: 2023 새만금 세계스카우트잼버리 지원 특별법 , 조문 개수: 39 , 페이지: 1 , 몇번째?: 8\n",
            "법령명: 2023 새만금 세계스카우트잼버리 지원 특별법 시행령 , 조문 개수: 12 , 페이지: 1 , 몇번째?: 9\n",
            "법령명: 4ㆍ16세월호참사 진상규명 및 안전사회 건설 등을 위한 특별법 , 조문 개수: 60 , 페이지: 1 , 몇번째?: 10\n",
            "법령명: 4ㆍ16세월호참사 피해구제 및 지원 등을 위한 특별법 , 조문 개수: 55 , 페이지: 1 , 몇번째?: 11\n",
            "법령명: 4ㆍ16세월호참사 피해구제 및 지원 등을 위한 특별법 시행령 , 조문 개수: 42 , 페이지: 1 , 몇번째?: 12\n",
            "법령명: 5ㆍ18민주유공자예우 및 단체설립에 관한 법률 , 조문 개수: 125 , 페이지: 1 , 몇번째?: 13\n",
            "법령명: 5ㆍ18민주화운동 등에 관한 특별법 , 조문 개수: 9 , 페이지: 1 , 몇번째?: 14\n",
            "법령명: 5ㆍ18민주화운동 진상규명을 위한 특별법 , 조문 개수: 84 , 페이지: 1 , 몇번째?: 15\n",
            "법령명: 6ㆍ25 전사자유해의 발굴 등에 관한 법률 , 조문 개수: 18 , 페이지: 1 , 몇번째?: 16\n",
            "법령명: 6ㆍ25전쟁 납북피해 진상규명 및 납북피해자 명예회복에 관한 법률 , 조문 개수: 18 , 페이지: 1 , 몇번째?: 17\n",
            "법령명: 6ㆍ25전쟁 납북피해 진상규명 및 납북피해자 명예회복에 관한 법률 시행령 , 조문 개수: 19 , 페이지: 1 , 몇번째?: 18\n",
            "법령명: 6ㆍ25전쟁 무공훈장 수여 등에 관한 법률 , 조문 개수: 11 , 페이지: 1 , 몇번째?: 19\n"
          ]
        },
        {
          "output_type": "stream",
          "name": "stderr",
          "text": [
            "\r 50%|█████     | 1/2 [03:31<03:31, 211.90s/it]"
          ]
        },
        {
          "output_type": "stream",
          "name": "stdout",
          "text": [
            "법령명: 6ㆍ25전쟁 전후 적 지역에서 활동한 비정규군 공로자 보상에 관한 법률 , 조문 개수: 21 , 페이지: 1 , 몇번째?: 20\n",
            "법령명: 6ㆍ25전쟁 전후 적 지역에서 활동한 비정규군 공로자 보상에 관한 법률 시행령 , 조문 개수: 20 , 페이지: 2 , 몇번째?: 21\n",
            "법령명: 가등기담보 등에 관한 법률 , 조문 개수: 18 , 페이지: 2 , 몇번째?: 22\n",
            "법령명: 가맹사업거래의 공정화에 관한 법률 , 조문 개수: 75 , 페이지: 2 , 몇번째?: 23\n",
            "법령명: 가맹사업거래의 공정화에 관한 법률 시행령 , 조문 개수: 62 , 페이지: 2 , 몇번째?: 24\n",
            "법령명: 가맹사업 진흥에 관한 법률 , 조문 개수: 19 , 페이지: 2 , 몇번째?: 25\n",
            "법령명: 가맹사업 진흥에 관한 법률 시행령 , 조문 개수: 7 , 페이지: 2 , 몇번째?: 26\n",
            "법령명: 가사근로자의 고용개선 등에 관한 법률 , 조문 개수: 35 , 페이지: 2 , 몇번째?: 27\n",
            "법령명: 가사소송법 , 조문 개수: 105 , 페이지: 2 , 몇번째?: 28\n",
            "법령명: 가석방자관리규정 , 조문 개수: 21 , 페이지: 2 , 몇번째?: 29\n",
            "법령명: 가습기살균제 피해구제를 위한 특별법 , 조문 개수: 58 , 페이지: 2 , 몇번째?: 30\n",
            "법령명: 가습기살균제 피해구제를 위한 특별법 시행령 , 조문 개수: 54 , 페이지: 2 , 몇번째?: 31\n",
            "법령명: 가정의례에관한법률 , 조문 개수: 15 , 페이지: 2 , 몇번째?: 32\n",
            "법령명: 가정폭력방지 및 피해자보호 등에 관한 법률 , 조문 개수: 42 , 페이지: 2 , 몇번째?: 33\n",
            "법령명: 가정폭력방지 및 피해자보호 등에 관한 법률 시행령 , 조문 개수: 14 , 페이지: 2 , 몇번째?: 34\n",
            "법령명: 가정폭력범죄의 처벌 등에 관한 특례법 , 조문 개수: 89 , 페이지: 2 , 몇번째?: 35\n",
            "법령명: 가정폭력범죄의 처벌 등에 관한 특례법 시행령 , 조문 개수: 7 , 페이지: 2 , 몇번째?: 36\n",
            "법령명: 가족관계의 등록 등에 관한 법률 , 조문 개수: 156 , 페이지: 2 , 몇번째?: 37\n",
            "법령명: 가족친화 사회환경의 조성 촉진에 관한 법률 , 조문 개수: 32 , 페이지: 2 , 몇번째?: 38\n",
            "법령명: 가족친화 사회환경의 조성 촉진에 관한 법률 시행령 , 조문 개수: 19 , 페이지: 2 , 몇번째?: 39\n"
          ]
        },
        {
          "output_type": "stream",
          "name": "stderr",
          "text": [
            "100%|██████████| 2/2 [06:56<00:00, 208.04s/it]"
          ]
        },
        {
          "output_type": "stream",
          "name": "stdout",
          "text": [
            "법령명: 가축 및 축산물 이력관리에 관한 법률 , 조문 개수: 45 , 페이지: 2 , 몇번째?: 40\n",
            "안바뀐 법령 개수: 1\n",
            "69\n"
          ]
        },
        {
          "output_type": "stream",
          "name": "stderr",
          "text": [
            "\n"
          ]
        }
      ]
    },
    {
      "cell_type": "code",
      "source": [
        "df.to_csv('/content/drive/MyDrive/KB/sample.csv', index=False)"
      ],
      "metadata": {
        "id": "qqIAI4aPNBIz"
      },
      "execution_count": 7,
      "outputs": []
    },
    {
      "cell_type": "code",
      "source": [
        "url = 'http://www.law.go.kr/DRF/lawSearch.do?OC=seokhee051&target=elaw&type=XML' \\\n",
        "        + '&page=1'\n",
        "# url 불러오기\n",
        "response = requests.get(url)\n",
        "# XML -> 딕셔너리 변환후 파싱\n",
        "contents = response.text\n",
        "dict_contents = xmltodict.parse(contents)\n",
        "\n",
        "content = dict_contents['LawSearch']['law'][5]\n",
        "\n",
        "name_kor = content['법령명한글']\n",
        "name_eng = content['법령명영문']\n",
        "mst = content['법령일련번호']\n",
        "print(name_kor)\n",
        "eng_url = 'https://www.law.go.kr/DRF/lawService.do?OC=seokhee051&target=elaw' \\\n",
        "          + '&MST=' + str(mst)\n",
        "          # + '&ID=' + str(법령ID)\n",
        "eng_response = requests.get(eng_url)\n",
        "eng_contents = eng_response.text\n",
        "eng_dict_contents = xmltodict.parse(eng_contents)\n",
        "\n",
        "kor_url = 'https://www.law.go.kr/DRF/lawService.do?OC=seokhee051&target=law' \\\n",
        "          + '&MST=' + str(mst)\n",
        "          # + '&ID=' + str(법령ID)\n",
        "kor_response = requests.get(kor_url)\n",
        "kor_contents = kor_response.text\n",
        "kor_dict_contents = xmltodict.parse(kor_contents)"
      ],
      "metadata": {
        "colab": {
          "base_uri": "https://localhost:8080/"
        },
        "id": "dKOL_fsAOq9c",
        "outputId": "fa9b3b1b-4f98-4992-9f78-6b16542f33ab"
      },
      "execution_count": null,
      "outputs": [
        {
          "output_type": "stream",
          "name": "stdout",
          "text": [
            "2018 평창 동계올림픽대회 및 동계패럴림픽대회 지원 등에 관한 특별법\n"
          ]
        }
      ]
    },
    {
      "cell_type": "code",
      "source": [
        "count = 0\n",
        "for temp in kor_dict_contents['법령']['조문']['조문단위']:\n",
        "    if temp.get('조문제목'):\n",
        "        if temp['조문제목'] == '기념화폐의 판매':\n",
        "            print(count)\n",
        "    count += 1"
      ],
      "metadata": {
        "colab": {
          "base_uri": "https://localhost:8080/"
        },
        "id": "kgm8Dla-udOH",
        "outputId": "fc834c99-6229-4b6d-ea0a-ddaac3ff094e"
      },
      "execution_count": null,
      "outputs": [
        {
          "output_type": "stream",
          "name": "stdout",
          "text": [
            "17\n"
          ]
        }
      ]
    },
    {
      "cell_type": "code",
      "source": [
        "eng_dict_contents['Law']['JoSection']['Jo'][17]"
      ],
      "metadata": {
        "colab": {
          "base_uri": "https://localhost:8080/"
        },
        "id": "e0NFbzpdFzZh",
        "outputId": "82fb245e-1b83-4e66-a2f2-c96af789731e"
      },
      "execution_count": null,
      "outputs": [
        {
          "output_type": "execute_result",
          "data": {
            "text/plain": [
              "{'@No': '18',\n",
              " 'chapNo': '00000200000000000000',\n",
              " 'joNo': '0014',\n",
              " 'joBrNo': '00',\n",
              " 'joYn': 'Y',\n",
              " 'joTtl': 'Sale of Commemorative Banknotes',\n",
              " 'joCts': 'Article 14 (Sale of Commemorative Banknotes) (1) In order to cover the expenses to be incurred in preparing and operating the Games, the Organizing Committee may request the Bank of Korea to issue commemorative banknotes. <Amended by Act No. 14198, May 29, 2016>\\n  (2) The Organizing Committee may exclusively acquire commemorative banknotes issued under paragraph (1). <Amended by Act No. 14198, May 29, 2016>\\n  [This Article remains in force through Mar. 31, 2019 pursuant to Article 2 of Addenda to Act No. 11226, Jan. 26, 2012]'}"
            ]
          },
          "metadata": {},
          "execution_count": 503
        }
      ]
    },
    {
      "cell_type": "code",
      "source": [
        "kor_dict_contents['법령']['조문']['조문단위'][17]"
      ],
      "metadata": {
        "colab": {
          "base_uri": "https://localhost:8080/"
        },
        "id": "DFs5EwD9p4DB",
        "outputId": "f7957767-a7ae-49df-f8eb-298938c487d6"
      },
      "execution_count": null,
      "outputs": [
        {
          "output_type": "execute_result",
          "data": {
            "text/plain": [
              "{'@조문키': '0014001',\n",
              " '조문번호': '14',\n",
              " '조문여부': '조문',\n",
              " '조문제목': '기념화폐의 판매',\n",
              " '조문시행일자': '20190401',\n",
              " '조문이동이전': None,\n",
              " '조문이동이후': None,\n",
              " '조문변경여부': 'N',\n",
              " '조문내용': '제14조(기념화폐의 판매)',\n",
              " '항': [{'항번호': '①',\n",
              "   '항내용': '① 조직위원회는 대회의 준비ㆍ운영에 필요한 비용을 충당하기 위하여 기념화폐의 발행을 한국은행에 요청할 수 있다. <개정 2016.5.29>'},\n",
              "  {'항번호': '②',\n",
              "   '항내용': '②조직위원회는 제1항에 따라 발행된 기념화폐를 독점적으로 인수할 수 있다. <개정 2016.5.29>'}],\n",
              " '조문참고자료': '[제목개정 2016.5.29]\\n\\t\\t\\n\\t\\t[법률 제11226호(2012. 1. 26.) 제14조의 개정규정은 같은 법 부칙 제2조의 규정에 의하여 2019년 3월 31일까지 유효함]'}"
            ]
          },
          "metadata": {},
          "execution_count": 504
        }
      ]
    },
    {
      "cell_type": "code",
      "source": [
        "# 영한 조문 개수 맞지 않는 법령 개수 2 간접투자자산 운용업법 시행령 17\n",
        "# 영한 조문 개수 맞지 않는 법령 개수 3 간척지의 농어업적 이용 및 관리에 관한 법률 9\n",
        "# 영한 조문 개수 맞지 않는 법령 개수 4 개발이익 환수에 관한 법률 14\n",
        "# 영한 조문 개수 맞지 않는 법령 개수 5 개별소비세법 18"
      ],
      "metadata": {
        "id": "iEzhrHGmaZOJ"
      },
      "execution_count": null,
      "outputs": []
    },
    {
      "cell_type": "code",
      "source": [
        "kor_jo = kor_dict_contents['법령']['조문']['조문단위'][43]\n",
        "eng_jo = eng_dict_contents['Law']['JoSection']['Jo'][43]\n",
        "kor_total = 0\n",
        "if kor_jo.get('항'): # 항내용이 있으면 list 바로 호내용이면 dict 타입이네\n",
        "  if type(kor_jo['항']) == dict:\n",
        "    kor_total += len(kor_jo['항']['호'])\n",
        "    for ho in kor_jo['항']['호']:\n",
        "      if ho.get('목'):\n",
        "        kor_total += len(ho['목'])\n",
        "    kor_total += 1\n",
        "  else:\n",
        "    kor_total += len(kor_jo['항'])\n",
        "    for hang in kor_jo['항']:\n",
        "      if hang.get('호'):\n",
        "        kor_total += len(hang['호'])\n",
        "        for ho in hang['호']:\n",
        "          if ho.get('목'):\n",
        "            kor_total += len(ho['목'])\n",
        "else:\n",
        "  kor_total = 1\n",
        "print(kor_total)\n",
        "\n",
        "if kor_jo.get('조문참고자료'):\n",
        "  kor_total += (1 + kor_jo['조문참고자료'].count('\\n'))\n",
        "print(kor_total)\n",
        "if (eng_jo['joCts'].count('\\n')+1) != kor_total:\n",
        "  not_match_jo += 1\n",
        "  print(not_match_jo)"
      ],
      "metadata": {
        "colab": {
          "base_uri": "https://localhost:8080/"
        },
        "id": "iAqPDa5waazW",
        "outputId": "f8eed098-a89b-4a3c-c1f5-11dcb5412eb1"
      },
      "execution_count": null,
      "outputs": [
        {
          "output_type": "stream",
          "name": "stdout",
          "text": [
            "6\n",
            "9\n",
            "4\n"
          ]
        }
      ]
    }
  ],
  "metadata": {
    "colab": {
      "name": "Colaboratory에 오신 것을 환영합니다",
      "provenance": [],
      "include_colab_link": true
    },
    "kernelspec": {
      "display_name": "Python 3",
      "name": "python3"
    }
  },
  "nbformat": 4,
  "nbformat_minor": 0
}
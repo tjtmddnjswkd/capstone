{
  "cells": [
    {
      "cell_type": "markdown",
      "metadata": {
        "id": "view-in-github",
        "colab_type": "text"
      },
      "source": [
        "<a href=\"https://colab.research.google.com/github/tjtmddnjswkd/capstone/blob/master/api_crawling.ipynb\" target=\"_parent\"><img src=\"https://colab.research.google.com/assets/colab-badge.svg\" alt=\"Open In Colab\"/></a>"
      ]
    },
    {
      "cell_type": "code",
      "source": [
        "!pip install xmltodict"
      ],
      "metadata": {
        "colab": {
          "base_uri": "https://localhost:8080/"
        },
        "id": "jH9VcIauesOV",
        "outputId": "3a3eb28e-c12d-42b3-d4e1-fa70d6ae2fbe"
      },
      "execution_count": 1,
      "outputs": [
        {
          "output_type": "stream",
          "name": "stdout",
          "text": [
            "Collecting xmltodict\n",
            "  Downloading xmltodict-0.13.0-py2.py3-none-any.whl (10.0 kB)\n",
            "Installing collected packages: xmltodict\n",
            "Successfully installed xmltodict-0.13.0\n"
          ]
        }
      ]
    },
    {
      "cell_type": "code",
      "source": [
        "import pandas as pd\n",
        "import re\n",
        "import sys\n",
        "import requests\n",
        "import json\n",
        "import pprint\n",
        "from bs4 import BeautifulSoup\n",
        "from urllib.request import urlopen\n",
        "import xmltodict\n",
        "from tqdm import tqdm\n",
        "import random\n",
        "import pprint"
      ],
      "metadata": {
        "id": "cUAo_Pc5euCs"
      },
      "execution_count": 2,
      "outputs": []
    },
    {
      "cell_type": "code",
      "source": [
        "url = 'http://www.law.go.kr/DRF/lawSearch.do?OC=seokhee051&target=elaw&type=XML'\n",
        "# url 불러오기\n",
        "response = requests.get(url)\n",
        "# XML -> 딕셔너리 변환후 파싱\n",
        "contents = response.text\n",
        "dict_contents = xmltodict.parse(contents)\n",
        "totalCnt = int(dict_contents['LawSearch']['totalCnt'])"
      ],
      "metadata": {
        "id": "JGFiNkvsevvj"
      },
      "execution_count": 3,
      "outputs": []
    },
    {
      "cell_type": "code",
      "source": [
        "totalCnt"
      ],
      "metadata": {
        "colab": {
          "base_uri": "https://localhost:8080/"
        },
        "id": "btgoVNxyk4_x",
        "outputId": "4c94def6-06b1-4522-934d-3d8de5f2f6e2"
      },
      "execution_count": 4,
      "outputs": [
        {
          "output_type": "execute_result",
          "data": {
            "text/plain": [
              "2610"
            ]
          },
          "metadata": {},
          "execution_count": 4
        }
      ]
    },
    {
      "cell_type": "code",
      "source": [
        "rows = []\n",
        "not_match_jo = []\n",
        "changed_num = 0\n",
        "changed = []\n",
        "eng_cnt = 0\n",
        "kor_cnt = 0\n",
        "total_page = int(totalCnt/20)+1\n",
        "for p in tqdm(range(120,total_page)):\n",
        "  url = 'http://www.law.go.kr/DRF/lawSearch.do?OC=seokhee051&target=elaw&type=XML' \\\n",
        "        + '&page=' + str(p)\n",
        "  # url 불러오기\n",
        "  response = requests.get(url)\n",
        "  # XML -> 딕셔너리 변환후 파싱\n",
        "  contents = response.text\n",
        "  dict_contents = xmltodict.parse(contents)\n",
        "  try:\n",
        "    for content in dict_contents['LawSearch']['law']:\n",
        "      name_kor = content['법령명한글']\n",
        "      name_eng = content['법령명영문']\n",
        "      mst = content['법령일련번호']\n",
        "\n",
        "      eng_url = 'https://www.law.go.kr/DRF/lawService.do?OC=seokhee051&target=elaw' \\\n",
        "                + '&MST=' + str(mst)\n",
        "                # + '&ID=' + str(법령ID)\n",
        "      eng_response = requests.get(eng_url)\n",
        "      eng_contents = eng_response.text\n",
        "      eng_dict_contents = xmltodict.parse(eng_contents)\n",
        "\n",
        "      kor_url = 'https://www.law.go.kr/DRF/lawService.do?OC=seokhee051&target=law' \\\n",
        "                + '&MST=' + str(mst)\n",
        "                # + '&ID=' + str(법령ID)\n",
        "      kor_response = requests.get(kor_url)\n",
        "      kor_contents = kor_response.text\n",
        "      kor_dict_contents = xmltodict.parse(kor_contents)\n",
        "\n",
        "      # # 영어조문 개수와 한글 조문 개수 맞지 않다면 건너뛰기\n",
        "      # if len(eng_dict_contents['Law']['JoSection']['Jo']) != len(kor_dict_contents['법령']['조문']['조문단위']):\n",
        "      #     not_match_jo += 1\n",
        "      #     print(f'영한 조문 개수 맞지 않는 법령 개수', not_match_jo, kor_dict_contents['법령']['기본정보']['법령명_한글'])\n",
        "      #     continue\n",
        "      # eng_cnt += len(eng_dict_contents['Law']['JoSection']['Jo'])\n",
        "      # kor_cnt += len(kor_dict_contents['법령']['조문']['조문단위'])\n",
        "      min_num_jo = min(len(eng_dict_contents['Law']['JoSection']['Jo']), len(kor_dict_contents['법령']['조문']['조문단위']))\n",
        "      temp_cnt = 0\n",
        "      print('법령명:', name_kor, ', 조문 개수:', min_num_jo, ', 페이지:', p, ', 몇번째?:', content['@id'])\n",
        "      try:\n",
        "        # for eng_jo, kor_jo in zip(eng_dict_contents['Law']['JoSection']['Jo'],kor_dict_contents['법령']['조문']['조문단위']):\n",
        "        for ind in range(min_num_jo):\n",
        "          eng_jo, kor_jo = eng_dict_contents['Law']['JoSection']['Jo'][ind], kor_dict_contents['법령']['조문']['조문단위'][ind]\n",
        "\n",
        "          if kor_jo['조문여부']!='조문':\n",
        "            continue\n",
        "          # if kor_jo.get('조문가지번호'):\n",
        "          #   continue\n",
        "\n",
        "          kor_total = 0\n",
        "          if kor_jo.get('항'): # 항내용이 있으면 list 바로 호내용이면 dict 타입이네\n",
        "            if type(kor_jo['항']) == dict:\n",
        "              kor_total += len(kor_jo['항']['호'])\n",
        "              for ho in kor_jo['항']['호']:\n",
        "                if ho.get('목'):\n",
        "                  kor_total += len(ho['목'])\n",
        "              kor_total += 1 # 호부터 시작하면 영어에서는 또 \\n이 하나 늘어남\n",
        "            else:\n",
        "              kor_total += len(kor_jo['항'])\n",
        "              for hang in kor_jo['항']:\n",
        "                if hang.get('호'):\n",
        "                  kor_total += len(hang['호'])\n",
        "                  for ho in hang['호']:\n",
        "                    if ho.get('목'):\n",
        "                      kor_total += len(ho['목'])\n",
        "          else:\n",
        "            kor_total = 1\n",
        "\n",
        "          if kor_jo.get('조문참고자료'):\n",
        "            if '\\n\\t\\t\\n\\t\\t' in kor_jo['조문참고자료']:\n",
        "              kor_total += 2\n",
        "              kor_jo['조문참고자료'] = kor_jo['조문참고자료'].replace('\\n\\t\\t\\n\\t\\t', '\\n')\n",
        "            else:\n",
        "              kor_total += 1\n",
        "\n",
        "          if (eng_jo['joCts'].count('\\n')+1) != kor_total:\n",
        "            not_match_jo.append([name_kor, kor_jo['조문제목']])\n",
        "            continue\n",
        "\n",
        "          if eng_jo['joYn']!= 'Y':\n",
        "            changed_num += 1\n",
        "            changed.append([eng_jo, kor_jo])\n",
        "            print('안바뀐 법령 개수:', changed_num)\n",
        "            continue\n",
        "          # if eng_jo['joBrNo']!='00':\n",
        "          #   continue\n",
        "\n",
        "          eng_text = eng_jo['joCts']\n",
        "\n",
        "          jo_txt = ''\n",
        "          hang_txt = ''\n",
        "          ho_txt = ''\n",
        "          mok_txt = ''\n",
        "\n",
        "          jo_txt += kor_jo['조문내용']\n",
        "          if kor_jo.get('항'): # 항내용이 있으면 list 바로 호내용이면 dict 타입이네\n",
        "            if type(kor_jo['항']) == dict: # 바로 호내용일 때\n",
        "              for ho in kor_jo['항']['호']:\n",
        "                ho_txt += '\\n' + ho['호내용']\n",
        "                if ho.get('목'):\n",
        "                  for mok in ho['목']:\n",
        "                    mok_txt += '\\n' + mok['목내용']\n",
        "                  ho_txt += mok_txt\n",
        "              hang_txt += ho_txt\n",
        "            else:\n",
        "              for hang in kor_jo['항']:\n",
        "                if hang_txt == '':\n",
        "                  hang_txt += hang['항내용'] # 영어의 경우 맨 첫항과 조문 내용 사이에 \\n으로 분리가 안돼있음\n",
        "                else:\n",
        "                  hang_txt += '\\n' + hang['항내용']\n",
        "\n",
        "                if hang.get('호'):\n",
        "                  for ho in hang['호']:\n",
        "                    ho_txt += '\\n' + ho['호내용']\n",
        "                    if ho.get('목'):\n",
        "                      for mok in ho['목']:\n",
        "                        mok_txt += '\\n' + mok['목내용']\n",
        "                      ho_txt += mok_txt\n",
        "                  hang_txt += ho_txt\n",
        "              jo_txt += hang_txt\n",
        "          if kor_jo.get('조문참고자료'):\n",
        "            eng_text = '\\n'.join([i.strip() for i in eng_text.split('\\n')[:-1]]) # 조문참고자료 부분 삭제하기\n",
        "          kor_text = jo_txt\n",
        "          rows.append({'name_kor':name_kor, 'name_eng':name_eng, 'MST':mst, 'eng':eng_text, 'kor':kor_text})\n",
        "      except Exception as e:\n",
        "        print('eng_kor_contents 예외 발생:', e)\n",
        "  except Exception as e:\n",
        "    print('dict_contents 예외 발생:', e)\n",
        "print(len(not_match_jo))\n",
        "df = pd.DataFrame(rows)"
      ],
      "metadata": {
        "id": "UO3lZCQGe6wE"
      },
      "execution_count": null,
      "outputs": []
    },
    {
      "cell_type": "code",
      "source": [
        "df.to_csv('/content/drive/MyDrive/KB/KB_trans/120-.csv', index=False)"
      ],
      "metadata": {
        "id": "qqIAI4aPNBIz"
      },
      "execution_count": null,
      "outputs": []
    },
    {
      "cell_type": "code",
      "source": [
        "from google.colab import drive\n",
        "drive.mount('/content/drive')"
      ],
      "metadata": {
        "id": "yPtgktQWewwW",
        "outputId": "3157476d-c4d6-4091-91c2-a067281047a9",
        "colab": {
          "base_uri": "https://localhost:8080/"
        }
      },
      "execution_count": null,
      "outputs": [
        {
          "output_type": "stream",
          "name": "stdout",
          "text": [
            "Mounted at /content/drive\n"
          ]
        }
      ]
    },
    {
      "cell_type": "code",
      "source": [
        "url = 'http://www.law.go.kr/DRF/lawSearch.do?OC=seokhee051&target=elaw&type=XML' \\\n",
        "        + '&page=1'\n",
        "# url 불러오기\n",
        "response = requests.get(url)\n",
        "# XML -> 딕셔너리 변환후 파싱\n",
        "contents = response.text\n",
        "dict_contents = xmltodict.parse(contents)\n",
        "\n",
        "content = dict_contents['LawSearch']['law'][1]\n",
        "\n",
        "name_kor = content['법령명한글']\n",
        "name_eng = content['법령명영문']\n",
        "mst = content['법령일련번호']\n",
        "print(name_kor)\n",
        "eng_url = 'https://www.law.go.kr/DRF/lawService.do?OC=seokhee051&target=elaw' \\\n",
        "          + '&MST=' + str(mst)\n",
        "          # + '&ID=' + str(법령ID)\n",
        "eng_response = requests.get(eng_url)\n",
        "eng_contents = eng_response.text\n",
        "eng_dict_contents = xmltodict.parse(eng_contents)\n",
        "\n",
        "kor_url = 'https://www.law.go.kr/DRF/lawService.do?OC=seokhee051&target=law' \\\n",
        "          + '&MST=' + str(mst)\n",
        "          # + '&ID=' + str(법령ID)\n",
        "kor_response = requests.get(kor_url)\n",
        "kor_contents = kor_response.text\n",
        "kor_dict_contents = xmltodict.parse(kor_contents)"
      ],
      "metadata": {
        "colab": {
          "base_uri": "https://localhost:8080/"
        },
        "id": "dKOL_fsAOq9c",
        "outputId": "193e5645-3e26-43ac-f8dc-cca5b0e1c7b8"
      },
      "execution_count": 143,
      "outputs": [
        {
          "output_type": "stream",
          "name": "stdout",
          "text": [
            "119구조ㆍ구급에 관한 법률 시행령\n"
          ]
        }
      ]
    },
    {
      "cell_type": "code",
      "source": [
        "count = 0\n",
        "for temp in kor_dict_contents['법령']['조문']['조문단위']:\n",
        "    if temp.get('조문제목'):\n",
        "        if temp['조문제목'] == '기념화폐의 판매':\n",
        "            print(count)\n",
        "    count += 1"
      ],
      "metadata": {
        "colab": {
          "base_uri": "https://localhost:8080/"
        },
        "id": "kgm8Dla-udOH",
        "outputId": "fc834c99-6229-4b6d-ea0a-ddaac3ff094e"
      },
      "execution_count": null,
      "outputs": [
        {
          "output_type": "stream",
          "name": "stdout",
          "text": [
            "17\n"
          ]
        }
      ]
    },
    {
      "cell_type": "code",
      "source": [
        "eng_dict_contents['Law']['JoSection']['Jo'][7]"
      ],
      "metadata": {
        "colab": {
          "base_uri": "https://localhost:8080/"
        },
        "id": "e0NFbzpdFzZh",
        "outputId": "9e32b565-749e-4989-d95a-e51dc531d20d"
      },
      "execution_count": 152,
      "outputs": [
        {
          "output_type": "execute_result",
          "data": {
            "text/plain": [
              "{'@No': '8',\n",
              " 'chapNo': '00000300000000000000',\n",
              " 'joNo': '0005',\n",
              " 'joBrNo': '00',\n",
              " 'joYn': 'Y',\n",
              " 'joTtl': 'Organization and Operation of 119 Rescue Squads',\n",
              " 'joCts': 'Article 5 (Organization and Operation of 119 Rescue Squads) (1) Any 119 rescue squads under Article 8 (1) of the Act (hereinafter referred to as “rescue squad”) shall be organized and operated by classifications as follows: <Amended on Jul. 7, 2014; Jul. 14, 2014; Nov. 19, 2014; Oct. 25, 2016; Jul. 26, 2017>\\n  1. General rescue squad: At least one squad shall be established in each fire station as prescribed by Municipal Rule of a City/Do, but where a Si/Gun/Gu (a Gu refers to an autonomous Gu; hereinafter the same apply) does not have a fire station, the squad may be established in an 119 safety center located in the center of the relevant Si/Gun/Gu;\\n  2. Special rescue squad: A squad shall be established in a fire station having jurisdiction over an area classified in the following items as prescribed by Municipal Rule of a City/Do in consideration of subject matters of fire service, characteristics of an area, and type and frequency of disasters, etc.: Provided, That a national expressway rescue squad pursuant to item (d) may be established in the rescue squad under direct jurisdiction established under subparagraph 3:\\n    (a) Chemical rescue squad: Areas clustered with chemical plants;\\n    (b) Sea and river disaster rescue squad: Inland water fisheries areas referred to in subparagraph 1 of Article 2 of the Inland Water Fisheries Act;\\n    (c) Mountain rescue squad: Mountain areas, such as natural parks referred to in subparagraph 1 of Article 2 of the Natural Parks Act;\\n    (d) National expressway rescue squad: National expressways referred to in subparagraph 1 of Article 10 of the Road Act (hereinafter referred to as “national expressway”);\\n    (e) Subway rescue squad: Stations and station facilities referred to in subparagraph 3 (a) of Article 2 of the Urban Railroad Act;\\n  3. Rescue squad under direct jurisdiction: A squad shall be established within the National Fire Agency or the fire headquarters of a City/Do for rescue, command in the field and support, etc. at the scenes of terrorism, etc. in a large or special disastrous accident, but where the squad is established in the fire headquarters of a City/Do, it shall comply with the Municipal Rule of the relevant City/Do;\\n  4. Terrorism response rescue squad: A squad shall be established in the National Fire Agency and the fire headquarters of a City/Do for professional response to terrorism or special disasters, and where the squad is established in the fire headquarters of a City/Do, it shall comply with the Municipal Rule of the relevant City/Do.\\n  (2) Districts for dispatching rescue squads shall be determined by Ordinance of the Ministry of the Interior and Safety. <Amended on Mar. 23, 2013; Nov. 19, 2014; Jul. 26, 2017>\\n  (3) The Fire Commissioner of the National Fire Agency, the head of a fire headquarters, or the head of a fire station (hereinafter referred to as the “Fire Commissioner of the National Fire Agency, etc.”) may support a rescue squad comprised of civilian volunteers (hereinafter referred to as “119 civilian water rescue squad”) when necessary for ensuring safety in places of summertime water play. <Amended on Nov. 19, 2014; Jul. 26, 2017>\\n  (4) Matters necessary for the operation of 119 civilian water rescue squads and other necessary matters shall be determined by Municipal Rule of a City/Do.'}"
            ]
          },
          "metadata": {},
          "execution_count": 152
        }
      ]
    },
    {
      "cell_type": "code",
      "source": [
        "kor_dict_contents['법령']['조문']['조문단위'][7]"
      ],
      "metadata": {
        "colab": {
          "base_uri": "https://localhost:8080/"
        },
        "id": "DFs5EwD9p4DB",
        "outputId": "a7bb3d8c-b926-4b9f-d723-db0d9c2322af"
      },
      "execution_count": 151,
      "outputs": [
        {
          "output_type": "execute_result",
          "data": {
            "text/plain": [
              "{'@조문키': '0005001',\n",
              " '조문번호': '5',\n",
              " '조문여부': '조문',\n",
              " '조문제목': '119구조대의 편성과 운영',\n",
              " '조문시행일자': '20210121',\n",
              " '조문이동이전': '000000',\n",
              " '조문이동이후': '000000',\n",
              " '조문변경여부': 'N',\n",
              " '조문내용': '제5조(119구조대의 편성과 운영)',\n",
              " '항': [{'항번호': '①',\n",
              "   '항내용': '① 법 제8조제1항에 따른 119구조대(이하 \"구조대\"라 한다)는 다음 각 호의 구분에 따라 편성·운영한다. <개정 2014.7.7, 2014.7.14, 2014.11.19, 2016.10.25, 2017.7.26>',\n",
              "   '호': [{'호번호': '1.',\n",
              "     '호내용': '1. 일반구조대: 시·도의 규칙으로 정하는 바에 따라 소방서마다 1개 대(隊) 이상 설치하되, 소방서가 없는 시·군·구(자치구를 말한다. 이하 같다)의 경우에는 해당 시·군·구 지역의 중심지에 있는 119안전센터에 설치할 수 있다.'},\n",
              "    {'호번호': '2.',\n",
              "     '호내용': '2. 특수구조대: 소방대상물, 지역 특성, 재난 발생 유형 및 빈도 등을 고려하여 시·도의 규칙으로 정하는 바에 따라 다음 각 목의 구분에 따른 지역을 관할하는 소방서에 다음 각 목의 구분에 따라 설치한다. 다만, 라목에 따른 고속국도구조대는 제3호에 따라 설치되는 직할구조대에 설치할 수 있다.',\n",
              "     '목': [{'목번호': '가.', '목내용': '가. 화학구조대: 화학공장이 밀집한 지역'},\n",
              "      {'목번호': '나.', '목내용': '나. 수난구조대: 「내수면어업법」 제2조제1호에 따른 내수면지역'},\n",
              "      {'목번호': '다.', '목내용': '다. 산악구조대: 「자연공원법」 제2조제1호에 따른 자연공원 등 산악지역'},\n",
              "      {'목번호': '라.',\n",
              "       '목내용': '라. 고속국도구조대: 「도로법」 제10조제1호에 따른 고속국도(이하 \"고속국도\"라 한다)'},\n",
              "      {'목번호': '마.',\n",
              "       '목내용': '마. 지하철구조대: 「도시철도법」 제2조제3호가목에 따른 도시철도의 역사(驛舍) 및 역 시설'}]},\n",
              "    {'호번호': '3.',\n",
              "     '호내용': '3. 직할구조대: 대형·특수 재난사고의 구조, 현장 지휘 및 테러현장 등의 지원 등을 위하여 소방청 또는 시·도 소방본부에 설치하되, 시·도 소방본부에 설치하는 경우에는 시·도의 규칙으로 정하는 바에 따른다.'},\n",
              "    {'호번호': '4.',\n",
              "     '호내용': '4. 테러대응구조대: 테러 및 특수재난에 전문적으로 대응하기 위하여 소방청과 시·도 소방본부에 각각 설치하며, 시·도 소방본부에 설치하는 경우에는 시·도의 규칙으로 정하는 바에 따른다.'}]},\n",
              "  {'항번호': '②',\n",
              "   '항내용': '② 구조대의 출동구역은 행정안전부령으로 정한다. <개정 2013.3.23, 2014.11.19, 2017.7.26>'},\n",
              "  {'항번호': '③',\n",
              "   '항내용': '③ 소방청장·소방본부장 또는 소방서장(이하 \"소방청장등\"이라 한다)은 여름철 물놀이 장소에서의 안전을 확보하기 위하여 필요한 경우 민간 자원봉사자로 구성된 구조대(이하 \"119시민수상구조대\"라 한다)를 지원할 수 있다. <개정 2014.11.19, 2017.7.26>'},\n",
              "  {'항번호': '④', '항내용': '④ 119시민수상구조대의 운영, 그 밖에 필요한 사항은 시·도의 조례로 정한다.'}]}"
            ]
          },
          "metadata": {},
          "execution_count": 151
        }
      ]
    },
    {
      "cell_type": "code",
      "source": [
        "# 영한 조문 개수 맞지 않는 법령 개수 2 간접투자자산 운용업법 시행령 17\n",
        "# 영한 조문 개수 맞지 않는 법령 개수 3 간척지의 농어업적 이용 및 관리에 관한 법률 9\n",
        "# 영한 조문 개수 맞지 않는 법령 개수 4 개발이익 환수에 관한 법률 14\n",
        "# 영한 조문 개수 맞지 않는 법령 개수 5 개별소비세법 18"
      ],
      "metadata": {
        "id": "iEzhrHGmaZOJ"
      },
      "execution_count": null,
      "outputs": []
    },
    {
      "cell_type": "code",
      "source": [
        "kor_jo = kor_dict_contents['법령']['조문']['조문단위'][43]\n",
        "eng_jo = eng_dict_contents['Law']['JoSection']['Jo'][43]\n",
        "kor_total = 0\n",
        "if kor_jo.get('항'): # 항내용이 있으면 list 바로 호내용이면 dict 타입이네\n",
        "  if type(kor_jo['항']) == dict:\n",
        "    kor_total += len(kor_jo['항']['호'])\n",
        "    for ho in kor_jo['항']['호']:\n",
        "      if ho.get('목'):\n",
        "        kor_total += len(ho['목'])\n",
        "    kor_total += 1\n",
        "  else:\n",
        "    kor_total += len(kor_jo['항'])\n",
        "    for hang in kor_jo['항']:\n",
        "      if hang.get('호'):\n",
        "        kor_total += len(hang['호'])\n",
        "        for ho in hang['호']:\n",
        "          if ho.get('목'):\n",
        "            kor_total += len(ho['목'])\n",
        "else:\n",
        "  kor_total = 1\n",
        "print(kor_total)\n",
        "\n",
        "if kor_jo.get('조문참고자료'):\n",
        "  kor_total += (1 + kor_jo['조문참고자료'].count('\\n'))\n",
        "print(kor_total)\n",
        "if (eng_jo['joCts'].count('\\n')+1) != kor_total:\n",
        "  not_match_jo += 1\n",
        "  print(not_match_jo)"
      ],
      "metadata": {
        "colab": {
          "base_uri": "https://localhost:8080/"
        },
        "id": "iAqPDa5waazW",
        "outputId": "f8eed098-a89b-4a3c-c1f5-11dcb5412eb1"
      },
      "execution_count": null,
      "outputs": [
        {
          "output_type": "stream",
          "name": "stdout",
          "text": [
            "6\n",
            "9\n",
            "4\n"
          ]
        }
      ]
    }
  ],
  "metadata": {
    "colab": {
      "name": "Colaboratory에 오신 것을 환영합니다",
      "provenance": [],
      "include_colab_link": true
    },
    "kernelspec": {
      "display_name": "Python 3",
      "name": "python3"
    }
  },
  "nbformat": 4,
  "nbformat_minor": 0
}
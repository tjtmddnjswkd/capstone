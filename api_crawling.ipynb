{
  "cells": [
    {
      "cell_type": "markdown",
      "metadata": {
        "id": "view-in-github",
        "colab_type": "text"
      },
      "source": [
        "<a href=\"https://colab.research.google.com/github/tjtmddnjswkd/capstone/blob/master/api_crawling.ipynb\" target=\"_parent\"><img src=\"https://colab.research.google.com/assets/colab-badge.svg\" alt=\"Open In Colab\"/></a>"
      ]
    },
    {
      "cell_type": "code",
      "source": [
        "!pip install xmltodict"
      ],
      "metadata": {
        "colab": {
          "base_uri": "https://localhost:8080/"
        },
        "id": "jH9VcIauesOV",
        "outputId": "784cfff9-6eaf-4e89-dbbe-1eaa54e6771a"
      },
      "execution_count": 1,
      "outputs": [
        {
          "output_type": "stream",
          "name": "stdout",
          "text": [
            "Collecting xmltodict\n",
            "  Downloading xmltodict-0.13.0-py2.py3-none-any.whl (10.0 kB)\n",
            "Installing collected packages: xmltodict\n",
            "Successfully installed xmltodict-0.13.0\n"
          ]
        }
      ]
    },
    {
      "cell_type": "code",
      "source": [
        "import pandas as pd\n",
        "import re\n",
        "import sys\n",
        "import requests\n",
        "import json\n",
        "import pprint\n",
        "from bs4 import BeautifulSoup\n",
        "from urllib.request import urlopen\n",
        "import xmltodict\n",
        "from tqdm import tqdm\n",
        "import random\n",
        "import pprint"
      ],
      "metadata": {
        "id": "cUAo_Pc5euCs"
      },
      "execution_count": 2,
      "outputs": []
    },
    {
      "cell_type": "code",
      "source": [
        "url = 'http://www.law.go.kr/DRF/lawSearch.do?OC=seokhee051&target=elaw&type=XML'\n",
        "# url 불러오기\n",
        "response = requests.get(url)\n",
        "# XML -> 딕셔너리 변환후 파싱\n",
        "contents = response.text\n",
        "dict_contents = xmltodict.parse(contents)\n",
        "totalCnt = int(dict_contents['LawSearch']['totalCnt'])"
      ],
      "metadata": {
        "id": "JGFiNkvsevvj"
      },
      "execution_count": 3,
      "outputs": []
    },
    {
      "cell_type": "code",
      "source": [
        "totalCnt"
      ],
      "metadata": {
        "colab": {
          "base_uri": "https://localhost:8080/"
        },
        "id": "btgoVNxyk4_x",
        "outputId": "75e564e8-7800-4bd8-fc98-138767a0fcb5"
      },
      "execution_count": 8,
      "outputs": [
        {
          "output_type": "execute_result",
          "data": {
            "text/plain": [
              "2608"
            ]
          },
          "metadata": {},
          "execution_count": 8
        }
      ]
    },
    {
      "cell_type": "code",
      "source": [
        "rows = []\n",
        "not_match_jo = []\n",
        "changed_num = 0\n",
        "changed = []\n",
        "eng_cnt = 0\n",
        "kor_cnt = 0\n",
        "total_page = int(totalCnt/20)+1\n",
        "for p in tqdm(range(1,total_page)):\n",
        "  url = 'http://www.law.go.kr/DRF/lawSearch.do?OC=seokhee051&target=elaw&type=XML' \\\n",
        "        + '&page=' + str(p)\n",
        "  # url 불러오기\n",
        "  response = requests.get(url)\n",
        "  # XML -> 딕셔너리 변환후 파싱\n",
        "  contents = response.text\n",
        "  dict_contents = xmltodict.parse(contents)\n",
        "  try:\n",
        "    for content in dict_contents['LawSearch']['law']:\n",
        "      name_kor = content['법령명한글']\n",
        "      name_eng = content['법령명영문']\n",
        "      mst = content['법령일련번호']\n",
        "\n",
        "      eng_url = 'https://www.law.go.kr/DRF/lawService.do?OC=seokhee051&target=elaw' \\\n",
        "                + '&MST=' + str(mst)\n",
        "                # + '&ID=' + str(법령ID)\n",
        "      eng_response = requests.get(eng_url)\n",
        "      eng_contents = eng_response.text\n",
        "      eng_dict_contents = xmltodict.parse(eng_contents)\n",
        "\n",
        "      kor_url = 'https://www.law.go.kr/DRF/lawService.do?OC=seokhee051&target=law' \\\n",
        "                + '&MST=' + str(mst)\n",
        "                # + '&ID=' + str(법령ID)\n",
        "      kor_response = requests.get(kor_url)\n",
        "      kor_contents = kor_response.text\n",
        "      kor_dict_contents = xmltodict.parse(kor_contents)\n",
        "\n",
        "      # # 영어조문 개수와 한글 조문 개수 맞지 않다면 건너뛰기\n",
        "      # if len(eng_dict_contents['Law']['JoSection']['Jo']) != len(kor_dict_contents['법령']['조문']['조문단위']):\n",
        "      #     not_match_jo += 1\n",
        "      #     print(f'영한 조문 개수 맞지 않는 법령 개수', not_match_jo, kor_dict_contents['법령']['기본정보']['법령명_한글'])\n",
        "      #     continue\n",
        "      # eng_cnt += len(eng_dict_contents['Law']['JoSection']['Jo'])\n",
        "      # kor_cnt += len(kor_dict_contents['법령']['조문']['조문단위'])\n",
        "      min_num_jo = min(len(eng_dict_contents['Law']['JoSection']['Jo']), len(kor_dict_contents['법령']['조문']['조문단위']))\n",
        "      temp_cnt = 0\n",
        "      print('법령명:', name_kor, ', 조문 개수:', min_num_jo, ', 페이지:', p, ', 몇번째?:', content['@id'])\n",
        "      try:\n",
        "        # for eng_jo, kor_jo in zip(eng_dict_contents['Law']['JoSection']['Jo'],kor_dict_contents['법령']['조문']['조문단위']):\n",
        "        for ind in range(min_num_jo):\n",
        "          eng_jo, kor_jo = eng_dict_contents['Law']['JoSection']['Jo'][ind], kor_dict_contents['법령']['조문']['조문단위'][ind]\n",
        "\n",
        "          if kor_jo['조문여부']!='조문':\n",
        "            continue\n",
        "          # if kor_jo.get('조문가지번호'):\n",
        "          #   continue\n",
        "\n",
        "          kor_total = 0\n",
        "          if kor_jo.get('항'): # 항내용이 있으면 list 바로 호내용이면 dict 타입이네\n",
        "            if type(kor_jo['항']) == dict:\n",
        "              kor_total += len(kor_jo['항']['호'])\n",
        "              for ho in kor_jo['항']['호']:\n",
        "                if ho.get('목'):\n",
        "                  kor_total += len(ho['목'])\n",
        "              kor_total += 1 # 호부터 시작하면 영어에서는 또 \\n이 하나 늘어남\n",
        "            else:\n",
        "              kor_total += len(kor_jo['항'])\n",
        "              for hang in kor_jo['항']:\n",
        "                if hang.get('호'):\n",
        "                  kor_total += len(hang['호'])\n",
        "                  for ho in hang['호']:\n",
        "                    if ho.get('목'):\n",
        "                      kor_total += len(ho['목'])\n",
        "          else:\n",
        "            kor_total = 1\n",
        "\n",
        "          if kor_jo.get('조문참고자료'):\n",
        "            if '\\n\\t\\t\\n\\t\\t' in kor_jo['조문참고자료']:\n",
        "              kor_total += 2\n",
        "              kor_jo['조문참고자료'] = kor_jo['조문참고자료'].replace('\\n\\t\\t\\n\\t\\t', '\\n')\n",
        "            else:\n",
        "              kor_total += 1\n",
        "\n",
        "          if (eng_jo['joCts'].count('\\n')+1) != kor_total:\n",
        "            not_match_jo.append([name_kor, kor_jo['조문제목']])\n",
        "            continue\n",
        "\n",
        "          if eng_jo['joYn']!= 'Y':\n",
        "            changed_num += 1\n",
        "            changed.append([eng_jo, kor_jo])\n",
        "            print('안바뀐 법령 개수:', changed_num)\n",
        "            continue\n",
        "          # if eng_jo['joBrNo']!='00':\n",
        "          #   continue\n",
        "\n",
        "          eng_text = eng_jo['joCts']\n",
        "\n",
        "          jo_txt = ''\n",
        "          hang_txt = ''\n",
        "          ho_txt = ''\n",
        "          mok_txt = ''\n",
        "\n",
        "          jo_txt += kor_jo['조문내용']\n",
        "          if kor_jo.get('항'): # 항내용이 있으면 list 바로 호내용이면 dict 타입이네\n",
        "            if type(kor_jo['항']) == dict:\n",
        "              for ho in kor_jo['항']['호']:\n",
        "                ho_txt += ho['호내용']\n",
        "                if ho.get('목'):\n",
        "                  for mok in ho['목']:\n",
        "                    mok_txt = mok['목내용']\n",
        "                  ho_txt += mok_txt\n",
        "              hang_txt += ho_txt\n",
        "            else:\n",
        "              for hang in kor_jo['항']:\n",
        "                hang_txt += hang['항내용']\n",
        "                if hang.get('호'):\n",
        "                  for ho in hang['호']:\n",
        "                    ho_txt += ho['호내용']\n",
        "                    if ho.get('목'):\n",
        "                      for mok in ho['목']:\n",
        "                        mok_txt = mok['목내용']\n",
        "                        ho_txt += mok_txt\n",
        "                  hang_txt += ho_txt\n",
        "              jo_txt += hang_txt\n",
        "          if kor_jo.get('조문참고자료'):\n",
        "            jo_txt += kor_jo['조문참고자료']\n",
        "          kor_text = jo_txt\n",
        "          rows.append({'name_kor':name_kor, 'name_eng':name_eng, 'MST':mst, 'eng':eng_text, 'kor':kor_text})\n",
        "      except Exception as e:\n",
        "        print('eng_kor_contents 예외 발생:', e)\n",
        "  except Exception as e:\n",
        "    print('dict_contents 예외 발생:', e)\n",
        "print(len(not_match_jo))\n",
        "df = pd.DataFrame(rows)"
      ],
      "metadata": {
        "colab": {
          "base_uri": "https://localhost:8080/",
          "height": 484
        },
        "id": "UO3lZCQGe6wE",
        "outputId": "a9edbd99-3082-4548-f2a6-5ab1c1a99029"
      },
      "execution_count": 508,
      "outputs": [
        {
          "output_type": "stream",
          "name": "stderr",
          "text": [
            "\r  0%|          | 0/130 [00:00<?, ?it/s]"
          ]
        },
        {
          "output_type": "stream",
          "name": "stdout",
          "text": [
            "법령명: 119구조ㆍ구급에 관한 법률 , 조문 개수: 47 , 페이지: 1 , 몇번째?: 1\n",
            "법령명: 119구조ㆍ구급에 관한 법률 시행령 , 조문 개수: 47 , 페이지: 1 , 몇번째?: 2\n",
            "법령명: 1인 창조기업 육성에 관한 법률 , 조문 개수: 24 , 페이지: 1 , 몇번째?: 3\n"
          ]
        },
        {
          "output_type": "stream",
          "name": "stderr",
          "text": [
            "\r  0%|          | 0/130 [00:23<?, ?it/s]\n"
          ]
        },
        {
          "output_type": "error",
          "ename": "KeyboardInterrupt",
          "evalue": "ignored",
          "traceback": [
            "\u001b[0;31m---------------------------------------------------------------------------\u001b[0m",
            "\u001b[0;31mKeyboardInterrupt\u001b[0m                         Traceback (most recent call last)",
            "\u001b[0;32m<ipython-input-508-bf3d528819bc>\u001b[0m in \u001b[0;36m<cell line: 8>\u001b[0;34m()\u001b[0m\n\u001b[1;32m     30\u001b[0m                 \u001b[0;34m+\u001b[0m \u001b[0;34m'&MST='\u001b[0m \u001b[0;34m+\u001b[0m \u001b[0mstr\u001b[0m\u001b[0;34m(\u001b[0m\u001b[0mmst\u001b[0m\u001b[0;34m)\u001b[0m\u001b[0;34m\u001b[0m\u001b[0;34m\u001b[0m\u001b[0m\n\u001b[1;32m     31\u001b[0m                 \u001b[0;31m# + '&ID=' + str(법령ID)\u001b[0m\u001b[0;34m\u001b[0m\u001b[0;34m\u001b[0m\u001b[0m\n\u001b[0;32m---> 32\u001b[0;31m       \u001b[0mkor_response\u001b[0m \u001b[0;34m=\u001b[0m \u001b[0mrequests\u001b[0m\u001b[0;34m.\u001b[0m\u001b[0mget\u001b[0m\u001b[0;34m(\u001b[0m\u001b[0mkor_url\u001b[0m\u001b[0;34m)\u001b[0m\u001b[0;34m\u001b[0m\u001b[0;34m\u001b[0m\u001b[0m\n\u001b[0m\u001b[1;32m     33\u001b[0m       \u001b[0mkor_contents\u001b[0m \u001b[0;34m=\u001b[0m \u001b[0mkor_response\u001b[0m\u001b[0;34m.\u001b[0m\u001b[0mtext\u001b[0m\u001b[0;34m\u001b[0m\u001b[0;34m\u001b[0m\u001b[0m\n\u001b[1;32m     34\u001b[0m       \u001b[0mkor_dict_contents\u001b[0m \u001b[0;34m=\u001b[0m \u001b[0mxmltodict\u001b[0m\u001b[0;34m.\u001b[0m\u001b[0mparse\u001b[0m\u001b[0;34m(\u001b[0m\u001b[0mkor_contents\u001b[0m\u001b[0;34m)\u001b[0m\u001b[0;34m\u001b[0m\u001b[0;34m\u001b[0m\u001b[0m\n",
            "\u001b[0;32m/usr/local/lib/python3.10/dist-packages/requests/api.py\u001b[0m in \u001b[0;36mget\u001b[0;34m(url, params, **kwargs)\u001b[0m\n\u001b[1;32m     71\u001b[0m     \"\"\"\n\u001b[1;32m     72\u001b[0m \u001b[0;34m\u001b[0m\u001b[0m\n\u001b[0;32m---> 73\u001b[0;31m     \u001b[0;32mreturn\u001b[0m \u001b[0mrequest\u001b[0m\u001b[0;34m(\u001b[0m\u001b[0;34m\"get\"\u001b[0m\u001b[0;34m,\u001b[0m \u001b[0murl\u001b[0m\u001b[0;34m,\u001b[0m \u001b[0mparams\u001b[0m\u001b[0;34m=\u001b[0m\u001b[0mparams\u001b[0m\u001b[0;34m,\u001b[0m \u001b[0;34m**\u001b[0m\u001b[0mkwargs\u001b[0m\u001b[0;34m)\u001b[0m\u001b[0;34m\u001b[0m\u001b[0;34m\u001b[0m\u001b[0m\n\u001b[0m\u001b[1;32m     74\u001b[0m \u001b[0;34m\u001b[0m\u001b[0m\n\u001b[1;32m     75\u001b[0m \u001b[0;34m\u001b[0m\u001b[0m\n",
            "\u001b[0;32m/usr/local/lib/python3.10/dist-packages/requests/api.py\u001b[0m in \u001b[0;36mrequest\u001b[0;34m(method, url, **kwargs)\u001b[0m\n\u001b[1;32m     57\u001b[0m     \u001b[0;31m# cases, and look like a memory leak in others.\u001b[0m\u001b[0;34m\u001b[0m\u001b[0;34m\u001b[0m\u001b[0m\n\u001b[1;32m     58\u001b[0m     \u001b[0;32mwith\u001b[0m \u001b[0msessions\u001b[0m\u001b[0;34m.\u001b[0m\u001b[0mSession\u001b[0m\u001b[0;34m(\u001b[0m\u001b[0;34m)\u001b[0m \u001b[0;32mas\u001b[0m \u001b[0msession\u001b[0m\u001b[0;34m:\u001b[0m\u001b[0;34m\u001b[0m\u001b[0;34m\u001b[0m\u001b[0m\n\u001b[0;32m---> 59\u001b[0;31m         \u001b[0;32mreturn\u001b[0m \u001b[0msession\u001b[0m\u001b[0;34m.\u001b[0m\u001b[0mrequest\u001b[0m\u001b[0;34m(\u001b[0m\u001b[0mmethod\u001b[0m\u001b[0;34m=\u001b[0m\u001b[0mmethod\u001b[0m\u001b[0;34m,\u001b[0m \u001b[0murl\u001b[0m\u001b[0;34m=\u001b[0m\u001b[0murl\u001b[0m\u001b[0;34m,\u001b[0m \u001b[0;34m**\u001b[0m\u001b[0mkwargs\u001b[0m\u001b[0;34m)\u001b[0m\u001b[0;34m\u001b[0m\u001b[0;34m\u001b[0m\u001b[0m\n\u001b[0m\u001b[1;32m     60\u001b[0m \u001b[0;34m\u001b[0m\u001b[0m\n\u001b[1;32m     61\u001b[0m \u001b[0;34m\u001b[0m\u001b[0m\n",
            "\u001b[0;32m/usr/local/lib/python3.10/dist-packages/requests/sessions.py\u001b[0m in \u001b[0;36mrequest\u001b[0;34m(self, method, url, params, data, headers, cookies, files, auth, timeout, allow_redirects, proxies, hooks, stream, verify, cert, json)\u001b[0m\n\u001b[1;32m    587\u001b[0m         }\n\u001b[1;32m    588\u001b[0m         \u001b[0msend_kwargs\u001b[0m\u001b[0;34m.\u001b[0m\u001b[0mupdate\u001b[0m\u001b[0;34m(\u001b[0m\u001b[0msettings\u001b[0m\u001b[0;34m)\u001b[0m\u001b[0;34m\u001b[0m\u001b[0;34m\u001b[0m\u001b[0m\n\u001b[0;32m--> 589\u001b[0;31m         \u001b[0mresp\u001b[0m \u001b[0;34m=\u001b[0m \u001b[0mself\u001b[0m\u001b[0;34m.\u001b[0m\u001b[0msend\u001b[0m\u001b[0;34m(\u001b[0m\u001b[0mprep\u001b[0m\u001b[0;34m,\u001b[0m \u001b[0;34m**\u001b[0m\u001b[0msend_kwargs\u001b[0m\u001b[0;34m)\u001b[0m\u001b[0;34m\u001b[0m\u001b[0;34m\u001b[0m\u001b[0m\n\u001b[0m\u001b[1;32m    590\u001b[0m \u001b[0;34m\u001b[0m\u001b[0m\n\u001b[1;32m    591\u001b[0m         \u001b[0;32mreturn\u001b[0m \u001b[0mresp\u001b[0m\u001b[0;34m\u001b[0m\u001b[0;34m\u001b[0m\u001b[0m\n",
            "\u001b[0;32m/usr/local/lib/python3.10/dist-packages/requests/sessions.py\u001b[0m in \u001b[0;36msend\u001b[0;34m(self, request, **kwargs)\u001b[0m\n\u001b[1;32m    701\u001b[0m \u001b[0;34m\u001b[0m\u001b[0m\n\u001b[1;32m    702\u001b[0m         \u001b[0;31m# Send the request\u001b[0m\u001b[0;34m\u001b[0m\u001b[0;34m\u001b[0m\u001b[0m\n\u001b[0;32m--> 703\u001b[0;31m         \u001b[0mr\u001b[0m \u001b[0;34m=\u001b[0m \u001b[0madapter\u001b[0m\u001b[0;34m.\u001b[0m\u001b[0msend\u001b[0m\u001b[0;34m(\u001b[0m\u001b[0mrequest\u001b[0m\u001b[0;34m,\u001b[0m \u001b[0;34m**\u001b[0m\u001b[0mkwargs\u001b[0m\u001b[0;34m)\u001b[0m\u001b[0;34m\u001b[0m\u001b[0;34m\u001b[0m\u001b[0m\n\u001b[0m\u001b[1;32m    704\u001b[0m \u001b[0;34m\u001b[0m\u001b[0m\n\u001b[1;32m    705\u001b[0m         \u001b[0;31m# Total elapsed time of the request (approximately)\u001b[0m\u001b[0;34m\u001b[0m\u001b[0;34m\u001b[0m\u001b[0m\n",
            "\u001b[0;32m/usr/local/lib/python3.10/dist-packages/requests/adapters.py\u001b[0m in \u001b[0;36msend\u001b[0;34m(self, request, stream, timeout, verify, cert, proxies)\u001b[0m\n\u001b[1;32m    484\u001b[0m \u001b[0;34m\u001b[0m\u001b[0m\n\u001b[1;32m    485\u001b[0m         \u001b[0;32mtry\u001b[0m\u001b[0;34m:\u001b[0m\u001b[0;34m\u001b[0m\u001b[0;34m\u001b[0m\u001b[0m\n\u001b[0;32m--> 486\u001b[0;31m             resp = conn.urlopen(\n\u001b[0m\u001b[1;32m    487\u001b[0m                 \u001b[0mmethod\u001b[0m\u001b[0;34m=\u001b[0m\u001b[0mrequest\u001b[0m\u001b[0;34m.\u001b[0m\u001b[0mmethod\u001b[0m\u001b[0;34m,\u001b[0m\u001b[0;34m\u001b[0m\u001b[0;34m\u001b[0m\u001b[0m\n\u001b[1;32m    488\u001b[0m                 \u001b[0murl\u001b[0m\u001b[0;34m=\u001b[0m\u001b[0murl\u001b[0m\u001b[0;34m,\u001b[0m\u001b[0;34m\u001b[0m\u001b[0;34m\u001b[0m\u001b[0m\n",
            "\u001b[0;32m/usr/local/lib/python3.10/dist-packages/urllib3/connectionpool.py\u001b[0m in \u001b[0;36murlopen\u001b[0;34m(self, method, url, body, headers, retries, redirect, assert_same_host, timeout, pool_timeout, release_conn, chunked, body_pos, preload_content, decode_content, **response_kw)\u001b[0m\n\u001b[1;32m    789\u001b[0m \u001b[0;34m\u001b[0m\u001b[0m\n\u001b[1;32m    790\u001b[0m             \u001b[0;31m# Make the request on the HTTPConnection object\u001b[0m\u001b[0;34m\u001b[0m\u001b[0;34m\u001b[0m\u001b[0m\n\u001b[0;32m--> 791\u001b[0;31m             response = self._make_request(\n\u001b[0m\u001b[1;32m    792\u001b[0m                 \u001b[0mconn\u001b[0m\u001b[0;34m,\u001b[0m\u001b[0;34m\u001b[0m\u001b[0;34m\u001b[0m\u001b[0m\n\u001b[1;32m    793\u001b[0m                 \u001b[0mmethod\u001b[0m\u001b[0;34m,\u001b[0m\u001b[0;34m\u001b[0m\u001b[0;34m\u001b[0m\u001b[0m\n",
            "\u001b[0;32m/usr/local/lib/python3.10/dist-packages/urllib3/connectionpool.py\u001b[0m in \u001b[0;36m_make_request\u001b[0;34m(self, conn, method, url, body, headers, retries, timeout, chunked, response_conn, preload_content, decode_content, enforce_content_length)\u001b[0m\n\u001b[1;32m    466\u001b[0m             \u001b[0;31m# Trigger any extra validation we need to do.\u001b[0m\u001b[0;34m\u001b[0m\u001b[0;34m\u001b[0m\u001b[0m\n\u001b[1;32m    467\u001b[0m             \u001b[0;32mtry\u001b[0m\u001b[0;34m:\u001b[0m\u001b[0;34m\u001b[0m\u001b[0;34m\u001b[0m\u001b[0m\n\u001b[0;32m--> 468\u001b[0;31m                 \u001b[0mself\u001b[0m\u001b[0;34m.\u001b[0m\u001b[0m_validate_conn\u001b[0m\u001b[0;34m(\u001b[0m\u001b[0mconn\u001b[0m\u001b[0;34m)\u001b[0m\u001b[0;34m\u001b[0m\u001b[0;34m\u001b[0m\u001b[0m\n\u001b[0m\u001b[1;32m    469\u001b[0m             \u001b[0;32mexcept\u001b[0m \u001b[0;34m(\u001b[0m\u001b[0mSocketTimeout\u001b[0m\u001b[0;34m,\u001b[0m \u001b[0mBaseSSLError\u001b[0m\u001b[0;34m)\u001b[0m \u001b[0;32mas\u001b[0m \u001b[0me\u001b[0m\u001b[0;34m:\u001b[0m\u001b[0;34m\u001b[0m\u001b[0;34m\u001b[0m\u001b[0m\n\u001b[1;32m    470\u001b[0m                 \u001b[0mself\u001b[0m\u001b[0;34m.\u001b[0m\u001b[0m_raise_timeout\u001b[0m\u001b[0;34m(\u001b[0m\u001b[0merr\u001b[0m\u001b[0;34m=\u001b[0m\u001b[0me\u001b[0m\u001b[0;34m,\u001b[0m \u001b[0murl\u001b[0m\u001b[0;34m=\u001b[0m\u001b[0murl\u001b[0m\u001b[0;34m,\u001b[0m \u001b[0mtimeout_value\u001b[0m\u001b[0;34m=\u001b[0m\u001b[0mconn\u001b[0m\u001b[0;34m.\u001b[0m\u001b[0mtimeout\u001b[0m\u001b[0;34m)\u001b[0m\u001b[0;34m\u001b[0m\u001b[0;34m\u001b[0m\u001b[0m\n",
            "\u001b[0;32m/usr/local/lib/python3.10/dist-packages/urllib3/connectionpool.py\u001b[0m in \u001b[0;36m_validate_conn\u001b[0;34m(self, conn)\u001b[0m\n\u001b[1;32m   1095\u001b[0m         \u001b[0;31m# Force connect early to allow us to validate the connection.\u001b[0m\u001b[0;34m\u001b[0m\u001b[0;34m\u001b[0m\u001b[0m\n\u001b[1;32m   1096\u001b[0m         \u001b[0;32mif\u001b[0m \u001b[0mconn\u001b[0m\u001b[0;34m.\u001b[0m\u001b[0mis_closed\u001b[0m\u001b[0;34m:\u001b[0m\u001b[0;34m\u001b[0m\u001b[0;34m\u001b[0m\u001b[0m\n\u001b[0;32m-> 1097\u001b[0;31m             \u001b[0mconn\u001b[0m\u001b[0;34m.\u001b[0m\u001b[0mconnect\u001b[0m\u001b[0;34m(\u001b[0m\u001b[0;34m)\u001b[0m\u001b[0;34m\u001b[0m\u001b[0;34m\u001b[0m\u001b[0m\n\u001b[0m\u001b[1;32m   1098\u001b[0m \u001b[0;34m\u001b[0m\u001b[0m\n\u001b[1;32m   1099\u001b[0m         \u001b[0;32mif\u001b[0m \u001b[0;32mnot\u001b[0m \u001b[0mconn\u001b[0m\u001b[0;34m.\u001b[0m\u001b[0mis_verified\u001b[0m\u001b[0;34m:\u001b[0m\u001b[0;34m\u001b[0m\u001b[0;34m\u001b[0m\u001b[0m\n",
            "\u001b[0;32m/usr/local/lib/python3.10/dist-packages/urllib3/connection.py\u001b[0m in \u001b[0;36mconnect\u001b[0;34m(self)\u001b[0m\n\u001b[1;32m    609\u001b[0m     \u001b[0;32mdef\u001b[0m \u001b[0mconnect\u001b[0m\u001b[0;34m(\u001b[0m\u001b[0mself\u001b[0m\u001b[0;34m)\u001b[0m \u001b[0;34m->\u001b[0m \u001b[0;32mNone\u001b[0m\u001b[0;34m:\u001b[0m\u001b[0;34m\u001b[0m\u001b[0;34m\u001b[0m\u001b[0m\n\u001b[1;32m    610\u001b[0m         \u001b[0msock\u001b[0m\u001b[0;34m:\u001b[0m \u001b[0msocket\u001b[0m\u001b[0;34m.\u001b[0m\u001b[0msocket\u001b[0m \u001b[0;34m|\u001b[0m \u001b[0mssl\u001b[0m\u001b[0;34m.\u001b[0m\u001b[0mSSLSocket\u001b[0m\u001b[0;34m\u001b[0m\u001b[0;34m\u001b[0m\u001b[0m\n\u001b[0;32m--> 611\u001b[0;31m         \u001b[0mself\u001b[0m\u001b[0;34m.\u001b[0m\u001b[0msock\u001b[0m \u001b[0;34m=\u001b[0m \u001b[0msock\u001b[0m \u001b[0;34m=\u001b[0m \u001b[0mself\u001b[0m\u001b[0;34m.\u001b[0m\u001b[0m_new_conn\u001b[0m\u001b[0;34m(\u001b[0m\u001b[0;34m)\u001b[0m\u001b[0;34m\u001b[0m\u001b[0;34m\u001b[0m\u001b[0m\n\u001b[0m\u001b[1;32m    612\u001b[0m         \u001b[0mserver_hostname\u001b[0m\u001b[0;34m:\u001b[0m \u001b[0mstr\u001b[0m \u001b[0;34m=\u001b[0m \u001b[0mself\u001b[0m\u001b[0;34m.\u001b[0m\u001b[0mhost\u001b[0m\u001b[0;34m\u001b[0m\u001b[0;34m\u001b[0m\u001b[0m\n\u001b[1;32m    613\u001b[0m         \u001b[0mtls_in_tls\u001b[0m \u001b[0;34m=\u001b[0m \u001b[0;32mFalse\u001b[0m\u001b[0;34m\u001b[0m\u001b[0;34m\u001b[0m\u001b[0m\n",
            "\u001b[0;32m/usr/local/lib/python3.10/dist-packages/urllib3/connection.py\u001b[0m in \u001b[0;36m_new_conn\u001b[0;34m(self)\u001b[0m\n\u001b[1;32m    201\u001b[0m         \"\"\"\n\u001b[1;32m    202\u001b[0m         \u001b[0;32mtry\u001b[0m\u001b[0;34m:\u001b[0m\u001b[0;34m\u001b[0m\u001b[0;34m\u001b[0m\u001b[0m\n\u001b[0;32m--> 203\u001b[0;31m             sock = connection.create_connection(\n\u001b[0m\u001b[1;32m    204\u001b[0m                 \u001b[0;34m(\u001b[0m\u001b[0mself\u001b[0m\u001b[0;34m.\u001b[0m\u001b[0m_dns_host\u001b[0m\u001b[0;34m,\u001b[0m \u001b[0mself\u001b[0m\u001b[0;34m.\u001b[0m\u001b[0mport\u001b[0m\u001b[0;34m)\u001b[0m\u001b[0;34m,\u001b[0m\u001b[0;34m\u001b[0m\u001b[0;34m\u001b[0m\u001b[0m\n\u001b[1;32m    205\u001b[0m                 \u001b[0mself\u001b[0m\u001b[0;34m.\u001b[0m\u001b[0mtimeout\u001b[0m\u001b[0;34m,\u001b[0m\u001b[0;34m\u001b[0m\u001b[0;34m\u001b[0m\u001b[0m\n",
            "\u001b[0;32m/usr/local/lib/python3.10/dist-packages/urllib3/util/connection.py\u001b[0m in \u001b[0;36mcreate_connection\u001b[0;34m(address, timeout, source_address, socket_options)\u001b[0m\n\u001b[1;32m     71\u001b[0m             \u001b[0;32mif\u001b[0m \u001b[0msource_address\u001b[0m\u001b[0;34m:\u001b[0m\u001b[0;34m\u001b[0m\u001b[0;34m\u001b[0m\u001b[0m\n\u001b[1;32m     72\u001b[0m                 \u001b[0msock\u001b[0m\u001b[0;34m.\u001b[0m\u001b[0mbind\u001b[0m\u001b[0;34m(\u001b[0m\u001b[0msource_address\u001b[0m\u001b[0;34m)\u001b[0m\u001b[0;34m\u001b[0m\u001b[0;34m\u001b[0m\u001b[0m\n\u001b[0;32m---> 73\u001b[0;31m             \u001b[0msock\u001b[0m\u001b[0;34m.\u001b[0m\u001b[0mconnect\u001b[0m\u001b[0;34m(\u001b[0m\u001b[0msa\u001b[0m\u001b[0;34m)\u001b[0m\u001b[0;34m\u001b[0m\u001b[0;34m\u001b[0m\u001b[0m\n\u001b[0m\u001b[1;32m     74\u001b[0m             \u001b[0;31m# Break explicitly a reference cycle\u001b[0m\u001b[0;34m\u001b[0m\u001b[0;34m\u001b[0m\u001b[0m\n\u001b[1;32m     75\u001b[0m             \u001b[0merr\u001b[0m \u001b[0;34m=\u001b[0m \u001b[0;32mNone\u001b[0m\u001b[0;34m\u001b[0m\u001b[0;34m\u001b[0m\u001b[0m\n",
            "\u001b[0;31mKeyboardInterrupt\u001b[0m: "
          ]
        }
      ]
    },
    {
      "cell_type": "code",
      "source": [
        "url = 'http://www.law.go.kr/DRF/lawSearch.do?OC=seokhee051&target=elaw&type=XML' \\\n",
        "        + '&page=1'\n",
        "# url 불러오기\n",
        "response = requests.get(url)\n",
        "# XML -> 딕셔너리 변환후 파싱\n",
        "contents = response.text\n",
        "dict_contents = xmltodict.parse(contents)\n",
        "\n",
        "content = dict_contents['LawSearch']['law'][5]\n",
        "\n",
        "name_kor = content['법령명한글']\n",
        "name_eng = content['법령명영문']\n",
        "mst = content['법령일련번호']\n",
        "print(name_kor)\n",
        "eng_url = 'https://www.law.go.kr/DRF/lawService.do?OC=seokhee051&target=elaw' \\\n",
        "          + '&MST=' + str(mst)\n",
        "          # + '&ID=' + str(법령ID)\n",
        "eng_response = requests.get(eng_url)\n",
        "eng_contents = eng_response.text\n",
        "eng_dict_contents = xmltodict.parse(eng_contents)\n",
        "\n",
        "kor_url = 'https://www.law.go.kr/DRF/lawService.do?OC=seokhee051&target=law' \\\n",
        "          + '&MST=' + str(mst)\n",
        "          # + '&ID=' + str(법령ID)\n",
        "kor_response = requests.get(kor_url)\n",
        "kor_contents = kor_response.text\n",
        "kor_dict_contents = xmltodict.parse(kor_contents)"
      ],
      "metadata": {
        "colab": {
          "base_uri": "https://localhost:8080/"
        },
        "id": "dKOL_fsAOq9c",
        "outputId": "fa9b3b1b-4f98-4992-9f78-6b16542f33ab"
      },
      "execution_count": 501,
      "outputs": [
        {
          "output_type": "stream",
          "name": "stdout",
          "text": [
            "2018 평창 동계올림픽대회 및 동계패럴림픽대회 지원 등에 관한 특별법\n"
          ]
        }
      ]
    },
    {
      "cell_type": "code",
      "source": [
        "count = 0\n",
        "for temp in kor_dict_contents['법령']['조문']['조문단위']:\n",
        "    if temp.get('조문제목'):\n",
        "        if temp['조문제목'] == '기념화폐의 판매':\n",
        "            print(count)\n",
        "    count += 1"
      ],
      "metadata": {
        "colab": {
          "base_uri": "https://localhost:8080/"
        },
        "id": "kgm8Dla-udOH",
        "outputId": "fc834c99-6229-4b6d-ea0a-ddaac3ff094e"
      },
      "execution_count": 502,
      "outputs": [
        {
          "output_type": "stream",
          "name": "stdout",
          "text": [
            "17\n"
          ]
        }
      ]
    },
    {
      "cell_type": "code",
      "source": [
        "eng_dict_contents['Law']['JoSection']['Jo'][17]"
      ],
      "metadata": {
        "colab": {
          "base_uri": "https://localhost:8080/"
        },
        "id": "e0NFbzpdFzZh",
        "outputId": "82fb245e-1b83-4e66-a2f2-c96af789731e"
      },
      "execution_count": 503,
      "outputs": [
        {
          "output_type": "execute_result",
          "data": {
            "text/plain": [
              "{'@No': '18',\n",
              " 'chapNo': '00000200000000000000',\n",
              " 'joNo': '0014',\n",
              " 'joBrNo': '00',\n",
              " 'joYn': 'Y',\n",
              " 'joTtl': 'Sale of Commemorative Banknotes',\n",
              " 'joCts': 'Article 14 (Sale of Commemorative Banknotes) (1) In order to cover the expenses to be incurred in preparing and operating the Games, the Organizing Committee may request the Bank of Korea to issue commemorative banknotes. <Amended by Act No. 14198, May 29, 2016>\\n  (2) The Organizing Committee may exclusively acquire commemorative banknotes issued under paragraph (1). <Amended by Act No. 14198, May 29, 2016>\\n  [This Article remains in force through Mar. 31, 2019 pursuant to Article 2 of Addenda to Act No. 11226, Jan. 26, 2012]'}"
            ]
          },
          "metadata": {},
          "execution_count": 503
        }
      ]
    },
    {
      "cell_type": "code",
      "source": [
        "kor_dict_contents['법령']['조문']['조문단위'][17]"
      ],
      "metadata": {
        "colab": {
          "base_uri": "https://localhost:8080/"
        },
        "id": "DFs5EwD9p4DB",
        "outputId": "f7957767-a7ae-49df-f8eb-298938c487d6"
      },
      "execution_count": 504,
      "outputs": [
        {
          "output_type": "execute_result",
          "data": {
            "text/plain": [
              "{'@조문키': '0014001',\n",
              " '조문번호': '14',\n",
              " '조문여부': '조문',\n",
              " '조문제목': '기념화폐의 판매',\n",
              " '조문시행일자': '20190401',\n",
              " '조문이동이전': None,\n",
              " '조문이동이후': None,\n",
              " '조문변경여부': 'N',\n",
              " '조문내용': '제14조(기념화폐의 판매)',\n",
              " '항': [{'항번호': '①',\n",
              "   '항내용': '① 조직위원회는 대회의 준비ㆍ운영에 필요한 비용을 충당하기 위하여 기념화폐의 발행을 한국은행에 요청할 수 있다. <개정 2016.5.29>'},\n",
              "  {'항번호': '②',\n",
              "   '항내용': '②조직위원회는 제1항에 따라 발행된 기념화폐를 독점적으로 인수할 수 있다. <개정 2016.5.29>'}],\n",
              " '조문참고자료': '[제목개정 2016.5.29]\\n\\t\\t\\n\\t\\t[법률 제11226호(2012. 1. 26.) 제14조의 개정규정은 같은 법 부칙 제2조의 규정에 의하여 2019년 3월 31일까지 유효함]'}"
            ]
          },
          "metadata": {},
          "execution_count": 504
        }
      ]
    },
    {
      "cell_type": "code",
      "source": [
        "# 영한 조문 개수 맞지 않는 법령 개수 2 간접투자자산 운용업법 시행령 17\n",
        "# 영한 조문 개수 맞지 않는 법령 개수 3 간척지의 농어업적 이용 및 관리에 관한 법률 9\n",
        "# 영한 조문 개수 맞지 않는 법령 개수 4 개발이익 환수에 관한 법률 14\n",
        "# 영한 조문 개수 맞지 않는 법령 개수 5 개별소비세법 18"
      ],
      "metadata": {
        "id": "iEzhrHGmaZOJ"
      },
      "execution_count": 179,
      "outputs": []
    },
    {
      "cell_type": "code",
      "source": [
        "kor_jo = kor_dict_contents['법령']['조문']['조문단위'][43]\n",
        "eng_jo = eng_dict_contents['Law']['JoSection']['Jo'][43]\n",
        "kor_total = 0\n",
        "if kor_jo.get('항'): # 항내용이 있으면 list 바로 호내용이면 dict 타입이네\n",
        "  if type(kor_jo['항']) == dict:\n",
        "    kor_total += len(kor_jo['항']['호'])\n",
        "    for ho in kor_jo['항']['호']:\n",
        "      if ho.get('목'):\n",
        "        kor_total += len(ho['목'])\n",
        "    kor_total += 1\n",
        "  else:\n",
        "    kor_total += len(kor_jo['항'])\n",
        "    for hang in kor_jo['항']:\n",
        "      if hang.get('호'):\n",
        "        kor_total += len(hang['호'])\n",
        "        for ho in hang['호']:\n",
        "          if ho.get('목'):\n",
        "            kor_total += len(ho['목'])\n",
        "else:\n",
        "  kor_total = 1\n",
        "print(kor_total)\n",
        "\n",
        "if kor_jo.get('조문참고자료'):\n",
        "  kor_total += (1 + kor_jo['조문참고자료'].count('\\n'))\n",
        "print(kor_total)\n",
        "if (eng_jo['joCts'].count('\\n')+1) != kor_total:\n",
        "  not_match_jo += 1\n",
        "  print(not_match_jo)"
      ],
      "metadata": {
        "colab": {
          "base_uri": "https://localhost:8080/"
        },
        "id": "iAqPDa5waazW",
        "outputId": "f8eed098-a89b-4a3c-c1f5-11dcb5412eb1"
      },
      "execution_count": 485,
      "outputs": [
        {
          "output_type": "stream",
          "name": "stdout",
          "text": [
            "6\n",
            "9\n",
            "4\n"
          ]
        }
      ]
    },
    {
      "cell_type": "code",
      "source": [
        "eng_jo['joCts'].count('\\n')\n",
        "# kor_jo\n",
        "# eng_jo"
      ],
      "metadata": {
        "colab": {
          "base_uri": "https://localhost:8080/",
          "height": 221
        },
        "id": "NOQ55N2bnHWk",
        "outputId": "0682fe9a-2667-4f9d-df62-3a48e067704c"
      },
      "execution_count": 487,
      "outputs": [
        {
          "output_type": "error",
          "ename": "AttributeError",
          "evalue": "ignored",
          "traceback": [
            "\u001b[0;31m---------------------------------------------------------------------------\u001b[0m",
            "\u001b[0;31mAttributeError\u001b[0m                            Traceback (most recent call last)",
            "\u001b[0;32m<ipython-input-487-a664f08aa749>\u001b[0m in \u001b[0;36m<cell line: 1>\u001b[0;34m()\u001b[0m\n\u001b[0;32m----> 1\u001b[0;31m \u001b[0meng_jo\u001b[0m\u001b[0;34m[\u001b[0m\u001b[0;34m'joCts'\u001b[0m\u001b[0;34m]\u001b[0m\u001b[0;34m.\u001b[0m\u001b[0misin\u001b[0m\u001b[0;34m(\u001b[0m\u001b[0;34m'\\n'\u001b[0m\u001b[0;34m)\u001b[0m\u001b[0;34m\u001b[0m\u001b[0;34m\u001b[0m\u001b[0m\n\u001b[0m\u001b[1;32m      2\u001b[0m \u001b[0;31m# kor_jo\u001b[0m\u001b[0;34m\u001b[0m\u001b[0;34m\u001b[0m\u001b[0m\n\u001b[1;32m      3\u001b[0m \u001b[0;31m# eng_jo\u001b[0m\u001b[0;34m\u001b[0m\u001b[0;34m\u001b[0m\u001b[0m\n",
            "\u001b[0;31mAttributeError\u001b[0m: 'str' object has no attribute 'isin'"
          ]
        }
      ]
    }
  ],
  "metadata": {
    "colab": {
      "name": "Colaboratory에 오신 것을 환영합니다",
      "toc_visible": true,
      "provenance": [],
      "include_colab_link": true
    },
    "kernelspec": {
      "display_name": "Python 3",
      "name": "python3"
    }
  },
  "nbformat": 4,
  "nbformat_minor": 0
}
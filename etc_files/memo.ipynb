{
  "cells": [
    {
      "cell_type": "markdown",
      "metadata": {
        "colab_type": "text",
        "id": "view-in-github"
      },
      "source": [
        "<a href=\"https://colab.research.google.com/github/tjtmddnjswkd/capstone/blob/jc/etc_files/memo.ipynb\" target=\"_parent\"><img src=\"https://colab.research.google.com/assets/colab-badge.svg\" alt=\"Open In Colab\"/></a>\n"
      ]
    },
    {
      "cell_type": "markdown",
      "metadata": {
        "id": "PCylPwO0P1U1"
      },
      "source": [
        "## 전처리 내역 정리\n",
        "\n",
        "### 1. 정규식 포맷 전처리 정리\n",
        "\n",
        "- \"(1)\" 형태: `\"^([\\d^]*\\)\\s\"`\n",
        "- \"①\" 형태: `\"^①\\s\"`\n",
        "- \"< >\" 형태: `\"\\<[^>]+\\>\"`\n",
        "- \"[ ]\" 형태: `\"^\\[[^\\]]+\\]\"`\n",
        "- 한자 형태 : `\"\\((([一-鿕]|[㐀-䶵]|[豈-龎])+)\\)\"`\n",
        "- \"「 」\" 형태 : `\"「|」\"`\n",
        "- \"ㆍ\" 형태 : `str.replace(\"및\")` or `str.replace(', ')` _미완_\n",
        "- \"1. \" 형태 : `\"^[\\d]+\\.\\s\"`\n",
        "\n",
        "### 2. 정규식 이외 데이터 처리\n",
        "\n",
        "#### 2.1.삭제 데이터\n",
        "\n",
        "- `\"Omitted\"`, `\"Deleted\"` 포함 시 삭제\n",
        "- 전처리 이후 공칸(`\"\"`)이 없는 경우만 활용 (나머지 삭제)\n",
        "\n",
        "#### 2.2.기타 특수기호 확인\n",
        "\n",
        "- \"\\*\" : 없음\n",
        "- \"○\" : 있음 (`index = 52094`)\n",
        "- \"⇒\" : 없음\n",
        "- \"ㅇ\" : 없음\n",
        "- \"=\" + \">\" : 없음\n",
        "- \"\\?\" : 많이 조회되지 않지만, 처리 규칙성이 모호함 (삭제 완료)\n",
        "\n",
        "#### 2.3.이전에 지워지지 않았던 처리 내용 찾기\n",
        "\n",
        "- 해당 단계에서 [1. 정규식 처리](#1-정규식-포맷-전처리-정리)에서 삭제되지 않은 경우나, 추가 케이스를 탐색함\n",
        "- 주로 보게 될 내용은 Bracket이 올바르게 제거되었는지 확인\n",
        "\n",
        "## 전처리 이상한 애들\n",
        "\n",
        "1. 얇은 대괄호: ［ ］"
      ]
    }
  ],
  "metadata": {
    "colab": {
      "include_colab_link": true,
      "provenance": [],
      "toc_visible": true
    },
    "kernelspec": {
      "display_name": "Python 3",
      "name": "python3"
    },
    "language_info": {
      "codemirror_mode": {
        "name": "ipython",
        "version": 3
      },
      "file_extension": ".py",
      "mimetype": "text/x-python",
      "name": "python",
      "nbconvert_exporter": "python",
      "pygments_lexer": "ipython3",
      "version": "3.8.8"
    }
  },
  "nbformat": 4,
  "nbformat_minor": 0
}

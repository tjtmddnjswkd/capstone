{
  "cells": [
    {
      "cell_type": "markdown",
      "metadata": {
        "id": "view-in-github",
        "colab_type": "text"
      },
      "source": [
        "<a href=\"https://colab.research.google.com/github/tjtmddnjswkd/capstone/blob/jc/preprocessing.ipynb\" target=\"_parent\"><img src=\"https://colab.research.google.com/assets/colab-badge.svg\" alt=\"Open In Colab\"/></a>"
      ]
    },
    {
      "cell_type": "markdown",
      "metadata": {
        "id": "u91ZxlnS-VYh",
        "outputId": "74693805-cdba-4858-cb79-b91f8e15d4d6"
      },
      "source": [
        "# 데이터 확인"
      ]
    },
    {
      "cell_type": "code",
      "source": [
        "from google.colab import drive\n",
        "drive.mount('/content/drive')"
      ],
      "metadata": {
        "id": "QjbMqf9g2Ney",
        "outputId": "1fb699e7-f6d9-48da-a3e4-13b8e337a82c",
        "colab": {
          "base_uri": "https://localhost:8080/"
        }
      },
      "execution_count": 3,
      "outputs": [
        {
          "output_type": "stream",
          "name": "stdout",
          "text": [
            "Mounted at /content/drive\n"
          ]
        }
      ]
    },
    {
      "cell_type": "code",
      "execution_count": 4,
      "metadata": {
        "id": "Kx8nuGpA2BKm"
      },
      "outputs": [],
      "source": [
        "import pandas as pd\n",
        "\n",
        "try:\n",
        "    gdrive_path = r'G:\\내 드라이브\\KB인턴관련'\n",
        "    df_local = pd.read_csv(gdrive_path+'/crawl_total_local.csv', encoding='euc-kr')\n",
        "    df_colab = pd.read_csv(gdrive_path+'/crawl_1706.csv', encoding='euc-kr')\n",
        "except:\n",
        "    gdrive_path = \"/content/drive/MyDrive/KB인턴관련\"\n",
        "    df_local = pd.read_csv(gdrive_path+'/crawl_total_local.csv', encoding='euc-kr')\n",
        "    df_colab = pd.read_csv(gdrive_path+'/crawl_1706.csv', encoding='euc-kr')"
      ]
    },
    {
      "cell_type": "code",
      "execution_count": 5,
      "metadata": {
        "id": "IJZYr5GA2BKn",
        "outputId": "ffa66bf3-6c96-4474-b3ae-08de641bcb87",
        "colab": {
          "base_uri": "https://localhost:8080/"
        }
      },
      "outputs": [
        {
          "output_type": "execute_result",
          "data": {
            "text/plain": [
              "(166579, 4)"
            ]
          },
          "metadata": {},
          "execution_count": 5
        }
      ],
      "source": [
        "df_local.shape"
      ]
    },
    {
      "cell_type": "code",
      "source": [
        "df_colab.columns"
      ],
      "metadata": {
        "id": "bHIsHoaE6BQ7",
        "outputId": "78ef94a6-8e02-4323-c990-67fc6f7e7993",
        "colab": {
          "base_uri": "https://localhost:8080/"
        }
      },
      "execution_count": 7,
      "outputs": [
        {
          "output_type": "execute_result",
          "data": {
            "text/plain": [
              "Index(['category', 'lawName', 'ENG', 'KOR'], dtype='object')"
            ]
          },
          "metadata": {},
          "execution_count": 7
        }
      ]
    },
    {
      "cell_type": "markdown",
      "source": [
        "# 데이터 살펴 보기"
      ],
      "metadata": {
        "id": "-ERx-T5G5nqC"
      }
    },
    {
      "cell_type": "code",
      "source": [
        "sample = df_colab.loc[df_colab[\"lawName\"]=='119구조·구급에 관한 법률']\n",
        "sample.head()"
      ],
      "metadata": {
        "id": "3XlFokyb5iuh",
        "outputId": "5a60c824-2601-478d-c6d2-11b03c4d9856",
        "colab": {
          "base_uri": "https://localhost:8080/",
          "height": 206
        }
      },
      "execution_count": 9,
      "outputs": [
        {
          "output_type": "execute_result",
          "data": {
            "text/plain": [
              "      category          lawName  \\\n",
              "34146   민방위ㆍ소방  119구조·구급에 관한 법률   \n",
              "34147   민방위ㆍ소방  119구조·구급에 관한 법률   \n",
              "34148   민방위ㆍ소방  119구조·구급에 관한 법률   \n",
              "34149   민방위ㆍ소방  119구조·구급에 관한 법률   \n",
              "34150   민방위ㆍ소방  119구조·구급에 관한 법률   \n",
              "\n",
              "                                                     ENG  \\\n",
              "34146                       CHAPTER I GENERAL PROVISIONS   \n",
              "34147  Article 1 (Purpose)\\nThe purpose of this Act i...   \n",
              "34148  Article 2 (Definitions)\\nThe terms used in thi...   \n",
              "34149  Article 3 (Responsibilities of the State)\\n(1)...   \n",
              "34150  Article 4 (Rights and Obligations of People)\\n...   \n",
              "\n",
              "                                                     KOR  \n",
              "34146                                             제1장 총칙  \n",
              "34147  제1조(목적)\\n이 법은 화재, 재난ㆍ재해 및 테러, 그 밖의 위급한 상황에서 11...  \n",
              "34148  제2조(정의)\\n이 법에서 사용하는 용어의 뜻은 다음과 같다. <개정 2016. 1...  \n",
              "34149  제3조(국가 등의 책무)\\n① 국가와 지방자치단체는 119구조ㆍ구급(이하 “구조ㆍ구...  \n",
              "34150  제4조(국민의 권리와 의무)\\n① 누구든지 위급상황에 처한 경우에는 국가와 지방자치...  "
            ],
            "text/html": [
              "\n",
              "\n",
              "  <div id=\"df-f94a13a7-c597-4cea-b998-74fdde431cbf\">\n",
              "    <div class=\"colab-df-container\">\n",
              "      <div>\n",
              "<style scoped>\n",
              "    .dataframe tbody tr th:only-of-type {\n",
              "        vertical-align: middle;\n",
              "    }\n",
              "\n",
              "    .dataframe tbody tr th {\n",
              "        vertical-align: top;\n",
              "    }\n",
              "\n",
              "    .dataframe thead th {\n",
              "        text-align: right;\n",
              "    }\n",
              "</style>\n",
              "<table border=\"1\" class=\"dataframe\">\n",
              "  <thead>\n",
              "    <tr style=\"text-align: right;\">\n",
              "      <th></th>\n",
              "      <th>category</th>\n",
              "      <th>lawName</th>\n",
              "      <th>ENG</th>\n",
              "      <th>KOR</th>\n",
              "    </tr>\n",
              "  </thead>\n",
              "  <tbody>\n",
              "    <tr>\n",
              "      <th>34146</th>\n",
              "      <td>민방위ㆍ소방</td>\n",
              "      <td>119구조·구급에 관한 법률</td>\n",
              "      <td>CHAPTER I GENERAL PROVISIONS</td>\n",
              "      <td>제1장 총칙</td>\n",
              "    </tr>\n",
              "    <tr>\n",
              "      <th>34147</th>\n",
              "      <td>민방위ㆍ소방</td>\n",
              "      <td>119구조·구급에 관한 법률</td>\n",
              "      <td>Article 1 (Purpose)\\nThe purpose of this Act i...</td>\n",
              "      <td>제1조(목적)\\n이 법은 화재, 재난ㆍ재해 및 테러, 그 밖의 위급한 상황에서 11...</td>\n",
              "    </tr>\n",
              "    <tr>\n",
              "      <th>34148</th>\n",
              "      <td>민방위ㆍ소방</td>\n",
              "      <td>119구조·구급에 관한 법률</td>\n",
              "      <td>Article 2 (Definitions)\\nThe terms used in thi...</td>\n",
              "      <td>제2조(정의)\\n이 법에서 사용하는 용어의 뜻은 다음과 같다. &lt;개정 2016. 1...</td>\n",
              "    </tr>\n",
              "    <tr>\n",
              "      <th>34149</th>\n",
              "      <td>민방위ㆍ소방</td>\n",
              "      <td>119구조·구급에 관한 법률</td>\n",
              "      <td>Article 3 (Responsibilities of the State)\\n(1)...</td>\n",
              "      <td>제3조(국가 등의 책무)\\n① 국가와 지방자치단체는 119구조ㆍ구급(이하 “구조ㆍ구...</td>\n",
              "    </tr>\n",
              "    <tr>\n",
              "      <th>34150</th>\n",
              "      <td>민방위ㆍ소방</td>\n",
              "      <td>119구조·구급에 관한 법률</td>\n",
              "      <td>Article 4 (Rights and Obligations of People)\\n...</td>\n",
              "      <td>제4조(국민의 권리와 의무)\\n① 누구든지 위급상황에 처한 경우에는 국가와 지방자치...</td>\n",
              "    </tr>\n",
              "  </tbody>\n",
              "</table>\n",
              "</div>\n",
              "      <button class=\"colab-df-convert\" onclick=\"convertToInteractive('df-f94a13a7-c597-4cea-b998-74fdde431cbf')\"\n",
              "              title=\"Convert this dataframe to an interactive table.\"\n",
              "              style=\"display:none;\">\n",
              "\n",
              "  <svg xmlns=\"http://www.w3.org/2000/svg\" height=\"24px\"viewBox=\"0 0 24 24\"\n",
              "       width=\"24px\">\n",
              "    <path d=\"M0 0h24v24H0V0z\" fill=\"none\"/>\n",
              "    <path d=\"M18.56 5.44l.94 2.06.94-2.06 2.06-.94-2.06-.94-.94-2.06-.94 2.06-2.06.94zm-11 1L8.5 8.5l.94-2.06 2.06-.94-2.06-.94L8.5 2.5l-.94 2.06-2.06.94zm10 10l.94 2.06.94-2.06 2.06-.94-2.06-.94-.94-2.06-.94 2.06-2.06.94z\"/><path d=\"M17.41 7.96l-1.37-1.37c-.4-.4-.92-.59-1.43-.59-.52 0-1.04.2-1.43.59L10.3 9.45l-7.72 7.72c-.78.78-.78 2.05 0 2.83L4 21.41c.39.39.9.59 1.41.59.51 0 1.02-.2 1.41-.59l7.78-7.78 2.81-2.81c.8-.78.8-2.07 0-2.86zM5.41 20L4 18.59l7.72-7.72 1.47 1.35L5.41 20z\"/>\n",
              "  </svg>\n",
              "      </button>\n",
              "\n",
              "\n",
              "\n",
              "    <div id=\"df-d77d4dec-f434-4ba2-b6a6-82823c4e85fd\">\n",
              "      <button class=\"colab-df-quickchart\" onclick=\"quickchart('df-d77d4dec-f434-4ba2-b6a6-82823c4e85fd')\"\n",
              "              title=\"Suggest charts.\"\n",
              "              style=\"display:none;\">\n",
              "\n",
              "<svg xmlns=\"http://www.w3.org/2000/svg\" height=\"24px\"viewBox=\"0 0 24 24\"\n",
              "     width=\"24px\">\n",
              "    <g>\n",
              "        <path d=\"M19 3H5c-1.1 0-2 .9-2 2v14c0 1.1.9 2 2 2h14c1.1 0 2-.9 2-2V5c0-1.1-.9-2-2-2zM9 17H7v-7h2v7zm4 0h-2V7h2v10zm4 0h-2v-4h2v4z\"/>\n",
              "    </g>\n",
              "</svg>\n",
              "      </button>\n",
              "    </div>\n",
              "\n",
              "<style>\n",
              "  .colab-df-quickchart {\n",
              "    background-color: #E8F0FE;\n",
              "    border: none;\n",
              "    border-radius: 50%;\n",
              "    cursor: pointer;\n",
              "    display: none;\n",
              "    fill: #1967D2;\n",
              "    height: 32px;\n",
              "    padding: 0 0 0 0;\n",
              "    width: 32px;\n",
              "  }\n",
              "\n",
              "  .colab-df-quickchart:hover {\n",
              "    background-color: #E2EBFA;\n",
              "    box-shadow: 0px 1px 2px rgba(60, 64, 67, 0.3), 0px 1px 3px 1px rgba(60, 64, 67, 0.15);\n",
              "    fill: #174EA6;\n",
              "  }\n",
              "\n",
              "  [theme=dark] .colab-df-quickchart {\n",
              "    background-color: #3B4455;\n",
              "    fill: #D2E3FC;\n",
              "  }\n",
              "\n",
              "  [theme=dark] .colab-df-quickchart:hover {\n",
              "    background-color: #434B5C;\n",
              "    box-shadow: 0px 1px 3px 1px rgba(0, 0, 0, 0.15);\n",
              "    filter: drop-shadow(0px 1px 2px rgba(0, 0, 0, 0.3));\n",
              "    fill: #FFFFFF;\n",
              "  }\n",
              "</style>\n",
              "\n",
              "    <script>\n",
              "      async function quickchart(key) {\n",
              "        const containerElement = document.querySelector('#' + key);\n",
              "        const charts = await google.colab.kernel.invokeFunction(\n",
              "            'suggestCharts', [key], {});\n",
              "      }\n",
              "    </script>\n",
              "\n",
              "      <script>\n",
              "\n",
              "function displayQuickchartButton(domScope) {\n",
              "  let quickchartButtonEl =\n",
              "    domScope.querySelector('#df-d77d4dec-f434-4ba2-b6a6-82823c4e85fd button.colab-df-quickchart');\n",
              "  quickchartButtonEl.style.display =\n",
              "    google.colab.kernel.accessAllowed ? 'block' : 'none';\n",
              "}\n",
              "\n",
              "        displayQuickchartButton(document);\n",
              "      </script>\n",
              "      <style>\n",
              "    .colab-df-container {\n",
              "      display:flex;\n",
              "      flex-wrap:wrap;\n",
              "      gap: 12px;\n",
              "    }\n",
              "\n",
              "    .colab-df-convert {\n",
              "      background-color: #E8F0FE;\n",
              "      border: none;\n",
              "      border-radius: 50%;\n",
              "      cursor: pointer;\n",
              "      display: none;\n",
              "      fill: #1967D2;\n",
              "      height: 32px;\n",
              "      padding: 0 0 0 0;\n",
              "      width: 32px;\n",
              "    }\n",
              "\n",
              "    .colab-df-convert:hover {\n",
              "      background-color: #E2EBFA;\n",
              "      box-shadow: 0px 1px 2px rgba(60, 64, 67, 0.3), 0px 1px 3px 1px rgba(60, 64, 67, 0.15);\n",
              "      fill: #174EA6;\n",
              "    }\n",
              "\n",
              "    [theme=dark] .colab-df-convert {\n",
              "      background-color: #3B4455;\n",
              "      fill: #D2E3FC;\n",
              "    }\n",
              "\n",
              "    [theme=dark] .colab-df-convert:hover {\n",
              "      background-color: #434B5C;\n",
              "      box-shadow: 0px 1px 3px 1px rgba(0, 0, 0, 0.15);\n",
              "      filter: drop-shadow(0px 1px 2px rgba(0, 0, 0, 0.3));\n",
              "      fill: #FFFFFF;\n",
              "    }\n",
              "  </style>\n",
              "\n",
              "      <script>\n",
              "        const buttonEl =\n",
              "          document.querySelector('#df-f94a13a7-c597-4cea-b998-74fdde431cbf button.colab-df-convert');\n",
              "        buttonEl.style.display =\n",
              "          google.colab.kernel.accessAllowed ? 'block' : 'none';\n",
              "\n",
              "        async function convertToInteractive(key) {\n",
              "          const element = document.querySelector('#df-f94a13a7-c597-4cea-b998-74fdde431cbf');\n",
              "          const dataTable =\n",
              "            await google.colab.kernel.invokeFunction('convertToInteractive',\n",
              "                                                     [key], {});\n",
              "          if (!dataTable) return;\n",
              "\n",
              "          const docLinkHtml = 'Like what you see? Visit the ' +\n",
              "            '<a target=\"_blank\" href=https://colab.research.google.com/notebooks/data_table.ipynb>data table notebook</a>'\n",
              "            + ' to learn more about interactive tables.';\n",
              "          element.innerHTML = '';\n",
              "          dataTable['output_type'] = 'display_data';\n",
              "          await google.colab.output.renderOutput(dataTable, element);\n",
              "          const docLink = document.createElement('div');\n",
              "          docLink.innerHTML = docLinkHtml;\n",
              "          element.appendChild(docLink);\n",
              "        }\n",
              "      </script>\n",
              "    </div>\n",
              "  </div>\n"
            ]
          },
          "metadata": {},
          "execution_count": 9
        }
      ]
    },
    {
      "cell_type": "code",
      "source": [
        "sample[\"ENG\"].apply(lambda x: x.split(\"\\n\")[1:])"
      ],
      "metadata": {
        "id": "oG86MMhw6UBS",
        "outputId": "629f2a37-a828-4025-c4bc-682c6bff0c50",
        "colab": {
          "base_uri": "https://localhost:8080/"
        }
      },
      "execution_count": 11,
      "outputs": [
        {
          "output_type": "execute_result",
          "data": {
            "text/plain": [
              "34146                                                   []\n",
              "34147    [The purpose of this Act is to strengthen the ...\n",
              "34148    [The terms used in this Act are defined as fol...\n",
              "34149    [(1) The State and local governments shall for...\n",
              "34150    [(1) Where any person is in an emergency, he o...\n",
              "34151    [Except as otherwise provided for in other sta...\n",
              "34152                                                   []\n",
              "34153    [(1) The Fire Commissioner of the National Fir...\n",
              "34154    [(1) The head of each fire headquarter shall f...\n",
              "34155                                                   []\n",
              "34156    [(1) The Fire Commissioner of the National Fir...\n",
              "34157    [(1) When a severe disaster occurs abroad or i...\n",
              "34158    [(1) The Fire Commissioner of the National Fir...\n",
              "34159    [(1) The Fire Commissioner of the National Fir...\n",
              "34160    [(1) The Fire Commissioner of the National Fir...\n",
              "34161    [Notwithstanding Articles 8 (1), 10 (1) and 12...\n",
              "34162    [(1) The Fire Commissioner of the National Fir...\n",
              "34163    [(1) The Commissioner of the National Fire Age...\n",
              "34164    [(1) The Fire Commissioner of the National Fir...\n",
              "34165    [(1) The Fire Commissioner of the National Fir...\n",
              "34166                                                   []\n",
              "34167    [(1) In the case of an emergency, the Fire Com...\n",
              "34168    [(1) If necessary for rescue operations and em...\n",
              "34169    [(1) If deemed necessary for rescue operations...\n",
              "34170    [(1) The Fire Commissioner of the National Fir...\n",
              "34171    [The Governor of a Special Self-Governing Prov...\n",
              "34172    [(1) The Governor of a Special Self-Governing ...\n",
              "34173    [(1) After rescuers and first responders save ...\n",
              "34174    [(1) Where human resources and equipment are i...\n",
              "34175    [(1) Where rescuers and first responders perfo...\n",
              "34176    [(1) The Fire Commissioner of the National Fir...\n",
              "34177    [Where an emergency squad has transported emer...\n",
              "34178    [(1) The Fire Commissioner of the National Fir...\n",
              "34179    [(1) Where any emergency patient transported b...\n",
              "34180    [Where any of the following persons causes dea...\n",
              "34181                                                   []\n",
              "34182    [(1) The Fire Commissioner of the National Fir...\n",
              "34183    [(1) The Fire Commissioner of the National Fir...\n",
              "34184    [(1) The Fire Commissioner of the National Fir...\n",
              "34185    [(1) The Central Rescue and Emergency Medical ...\n",
              "34186    [(1) To improve the first aid skills of the pu...\n",
              "34187                                                   []\n",
              "34188    [Any person who interferes with rescue operati...\n",
              "34189    [Any person who refuses or interferes with the...\n",
              "34190    [Any person who fails to make a notification, ...\n",
              "34191    [Where a person assaults or threatens another,...\n",
              "34192    [(1) Any person who reports a false emergency ...\n",
              "34193    [Article 1 (Enforcement Date), This Act shall ...\n",
              "34194    [Article 1 (Enforcement Date), This Act shall ...\n",
              "34195    [Article 1 (Enforcement Date), (1) This Act sh...\n",
              "34196    [Article 1 (Enforcement Date), This Act shall ...\n",
              "34197    [This Act shall enter into force three months ...\n",
              "34198    [This Act shall enter into force one year afte...\n",
              "34199    [Article 1 (Enforcement Date), (1) This Act sh...\n",
              "34200    [This Act shall enter into force six months af...\n",
              "34201    [This Act shall enter into force three months ...\n",
              "34202    [This Act shall enter into force six months af...\n",
              "34203    [Article 1 (Enforcement Date), This Act shall ...\n",
              "Name: ENG, dtype: object"
            ]
          },
          "metadata": {},
          "execution_count": 11
        }
      ]
    }
  ],
  "metadata": {
    "colab": {
      "provenance": [],
      "include_colab_link": true
    },
    "kernelspec": {
      "display_name": "Python 3",
      "name": "python3"
    },
    "language_info": {
      "codemirror_mode": {
        "name": "ipython",
        "version": 3
      },
      "file_extension": ".py",
      "mimetype": "text/x-python",
      "name": "python",
      "nbconvert_exporter": "python",
      "pygments_lexer": "ipython3",
      "version": "3.8.8"
    }
  },
  "nbformat": 4,
  "nbformat_minor": 0
}
{
  "cells": [
    {
      "cell_type": "code",
      "execution_count": 175,
      "metadata": {
        "colab": {
          "base_uri": "https://localhost:8080/"
        },
        "id": "AwKuTPTYGgQ3",
        "outputId": "93eeb1d0-39d0-4f53-a94c-996973faf9d4"
      },
      "outputs": [
        {
          "name": "stdout",
          "output_type": "stream",
          "text": [
            "Requirement already satisfied: xmltodict in c:\\users\\seokhee\\anaconda3\\lib\\site-packages (0.13.0)\n"
          ]
        }
      ],
      "source": [
        "! pip install xmltodict"
      ]
    },
    {
      "cell_type": "code",
      "execution_count": 176,
      "metadata": {
        "id": "rGM4Fc6yXoee"
      },
      "outputs": [],
      "source": [
        "import pandas as pd\n",
        "import re\n",
        "import sys\n",
        "import requests\n",
        "import json\n",
        "import pprint\n",
        "from bs4 import BeautifulSoup\n",
        "from urllib.request import urlopen\n",
        "import xmltodict\n",
        "from tqdm import tqdm\n",
        "import random\n",
        "import pprint"
      ]
    },
    {
      "cell_type": "code",
      "execution_count": 177,
      "metadata": {},
      "outputs": [],
      "source": [
        "url = 'http://www.law.go.kr/DRF/lawSearch.do?OC=seokhee051&target=elaw&type=XML'\n",
        "# url 불러오기\n",
        "response = requests.get(url)\n",
        "# XML -> 딕셔너리 변환후 파싱\n",
        "contents = response.text\n",
        "dict_contents = xmltodict.parse(contents)\n",
        "totalCnt = int(dict_contents['LawSearch']['totalCnt'])"
      ]
    },
    {
      "cell_type": "code",
      "execution_count": 179,
      "metadata": {
        "colab": {
          "base_uri": "https://localhost:8080/"
        },
        "id": "Dm-BkTRm1XcX",
        "outputId": "1d6f5a8e-d93d-4b17-c8eb-24f1e721d6f2"
      },
      "outputs": [
        {
          "name": "stderr",
          "output_type": "stream",
          "text": [
            "  3%|▎         | 4/130 [02:15<1:05:19, 31.10s/it]"
          ]
        },
        {
          "name": "stdout",
          "output_type": "stream",
          "text": [
            "dict_contents 예외 발생: 'NoneType' object is not subscriptable\n"
          ]
        },
        {
          "name": "stderr",
          "output_type": "stream",
          "text": [
            "  5%|▍         | 6/130 [03:36<1:13:12, 35.43s/it]"
          ]
        },
        {
          "name": "stdout",
          "output_type": "stream",
          "text": [
            "eng_kor_contents 예외 발생: string indices must be integers\n"
          ]
        },
        {
          "name": "stderr",
          "output_type": "stream",
          "text": [
            "  9%|▉         | 12/130 [07:04<1:01:00, 31.02s/it]"
          ]
        },
        {
          "name": "stdout",
          "output_type": "stream",
          "text": [
            "dict_contents 예외 발생: 'NoneType' object is not subscriptable\n"
          ]
        },
        {
          "name": "stderr",
          "output_type": "stream",
          "text": [
            " 11%|█         | 14/130 [08:10<1:00:41, 31.39s/it]"
          ]
        },
        {
          "name": "stdout",
          "output_type": "stream",
          "text": [
            "dict_contents 예외 발생: 'NoneType' object is not subscriptable\n"
          ]
        },
        {
          "name": "stderr",
          "output_type": "stream",
          "text": [
            " 12%|█▏        | 16/130 [09:26<1:06:07, 34.80s/it]"
          ]
        },
        {
          "name": "stdout",
          "output_type": "stream",
          "text": [
            "dict_contents 예외 발생: 'NoneType' object is not subscriptable\n"
          ]
        },
        {
          "name": "stderr",
          "output_type": "stream",
          "text": [
            " 14%|█▍        | 18/130 [10:01<45:38, 24.45s/it]  "
          ]
        },
        {
          "name": "stdout",
          "output_type": "stream",
          "text": [
            "dict_contents 예외 발생: 'NoneType' object is not subscriptable\n"
          ]
        },
        {
          "name": "stderr",
          "output_type": "stream",
          "text": [
            " 15%|█▍        | 19/130 [10:39<53:13, 28.77s/it]"
          ]
        },
        {
          "name": "stdout",
          "output_type": "stream",
          "text": [
            "eng_kor_contents 예외 발생: string indices must be integers\n"
          ]
        },
        {
          "name": "stderr",
          "output_type": "stream",
          "text": [
            " 15%|█▌        | 20/130 [11:26<1:02:23, 34.03s/it]"
          ]
        },
        {
          "name": "stdout",
          "output_type": "stream",
          "text": [
            "eng_kor_contents 예외 발생: string indices must be integers\n"
          ]
        },
        {
          "name": "stderr",
          "output_type": "stream",
          "text": [
            " 20%|██        | 26/130 [15:20<55:42, 32.14s/it]  "
          ]
        },
        {
          "name": "stdout",
          "output_type": "stream",
          "text": [
            "dict_contents 예외 발생: 'NoneType' object is not subscriptable\n"
          ]
        },
        {
          "name": "stderr",
          "output_type": "stream",
          "text": [
            " 22%|██▏       | 28/130 [16:07<44:34, 26.22s/it]"
          ]
        },
        {
          "name": "stdout",
          "output_type": "stream",
          "text": [
            "dict_contents 예외 발생: 'NoneType' object is not subscriptable\n"
          ]
        },
        {
          "name": "stderr",
          "output_type": "stream",
          "text": [
            " 25%|██▍       | 32/130 [18:02<38:53, 23.81s/it]"
          ]
        },
        {
          "name": "stdout",
          "output_type": "stream",
          "text": [
            "dict_contents 예외 발생: 'NoneType' object is not subscriptable\n"
          ]
        },
        {
          "name": "stderr",
          "output_type": "stream",
          "text": [
            " 25%|██▌       | 33/130 [18:38<44:10, 27.32s/it]"
          ]
        },
        {
          "name": "stdout",
          "output_type": "stream",
          "text": [
            "eng_kor_contents 예외 발생: string indices must be integers\n"
          ]
        },
        {
          "name": "stderr",
          "output_type": "stream",
          "text": [
            " 27%|██▋       | 35/130 [19:34<42:55, 27.11s/it]"
          ]
        },
        {
          "name": "stdout",
          "output_type": "stream",
          "text": [
            "dict_contents 예외 발생: 'NoneType' object is not subscriptable\n"
          ]
        },
        {
          "name": "stderr",
          "output_type": "stream",
          "text": [
            " 34%|███▍      | 44/130 [26:54<1:01:52, 43.17s/it]"
          ]
        },
        {
          "name": "stdout",
          "output_type": "stream",
          "text": [
            "dict_contents 예외 발생: 'NoneType' object is not subscriptable\n"
          ]
        },
        {
          "name": "stderr",
          "output_type": "stream",
          "text": [
            " 36%|███▌      | 47/130 [29:05<56:26, 40.81s/it]  "
          ]
        },
        {
          "name": "stdout",
          "output_type": "stream",
          "text": [
            "dict_contents 예외 발생: 'NoneType' object is not subscriptable\n"
          ]
        },
        {
          "name": "stderr",
          "output_type": "stream",
          "text": [
            " 37%|███▋      | 48/130 [29:39<52:39, 38.53s/it]"
          ]
        },
        {
          "name": "stdout",
          "output_type": "stream",
          "text": [
            "dict_contents 예외 발생: 'NoneType' object is not subscriptable\n"
          ]
        },
        {
          "name": "stderr",
          "output_type": "stream",
          "text": [
            " 40%|████      | 52/130 [33:27<1:04:53, 49.92s/it]"
          ]
        },
        {
          "name": "stdout",
          "output_type": "stream",
          "text": [
            "dict_contents 예외 발생: 'NoneType' object is not subscriptable\n"
          ]
        },
        {
          "name": "stderr",
          "output_type": "stream",
          "text": [
            " 49%|████▉     | 64/130 [45:22<53:18, 48.46s/it]  "
          ]
        },
        {
          "name": "stdout",
          "output_type": "stream",
          "text": [
            "eng_kor_contents 예외 발생: string indices must be integers\n"
          ]
        },
        {
          "name": "stderr",
          "output_type": "stream",
          "text": [
            " 51%|█████     | 66/130 [46:06<35:33, 33.34s/it]"
          ]
        },
        {
          "name": "stdout",
          "output_type": "stream",
          "text": [
            "dict_contents 예외 발생: 'NoneType' object is not subscriptable\n"
          ]
        },
        {
          "name": "stderr",
          "output_type": "stream",
          "text": [
            " 52%|█████▏    | 67/130 [46:08<25:13, 24.02s/it]"
          ]
        },
        {
          "name": "stdout",
          "output_type": "stream",
          "text": [
            "dict_contents 예외 발생: 'NoneType' object is not subscriptable\n"
          ]
        },
        {
          "name": "stderr",
          "output_type": "stream",
          "text": [
            " 53%|█████▎    | 69/130 [47:05<25:45, 25.33s/it]"
          ]
        },
        {
          "name": "stdout",
          "output_type": "stream",
          "text": [
            "dict_contents 예외 발생: 'NoneType' object is not subscriptable\n"
          ]
        },
        {
          "name": "stderr",
          "output_type": "stream",
          "text": [
            " 55%|█████▍    | 71/130 [48:23<31:53, 32.44s/it]"
          ]
        },
        {
          "name": "stdout",
          "output_type": "stream",
          "text": [
            "eng_kor_contents 예외 발생: string indices must be integers\n"
          ]
        },
        {
          "name": "stderr",
          "output_type": "stream",
          "text": [
            " 56%|█████▌    | 73/130 [49:44<34:15, 36.06s/it]"
          ]
        },
        {
          "name": "stdout",
          "output_type": "stream",
          "text": [
            "eng_kor_contents 예외 발생: string indices must be integers\n"
          ]
        },
        {
          "name": "stderr",
          "output_type": "stream",
          "text": [
            " 57%|█████▋    | 74/130 [50:12<31:28, 33.72s/it]"
          ]
        },
        {
          "name": "stdout",
          "output_type": "stream",
          "text": [
            "dict_contents 예외 발생: 'NoneType' object is not subscriptable\n"
          ]
        },
        {
          "name": "stderr",
          "output_type": "stream",
          "text": [
            " 58%|█████▊    | 76/130 [50:59<24:20, 27.05s/it]"
          ]
        },
        {
          "name": "stdout",
          "output_type": "stream",
          "text": [
            "dict_contents 예외 발생: 'NoneType' object is not subscriptable\n"
          ]
        },
        {
          "name": "stderr",
          "output_type": "stream",
          "text": [
            " 60%|██████    | 78/130 [52:05<25:22, 29.28s/it]"
          ]
        },
        {
          "name": "stdout",
          "output_type": "stream",
          "text": [
            "dict_contents 예외 발생: 'NoneType' object is not subscriptable\n"
          ]
        },
        {
          "name": "stderr",
          "output_type": "stream",
          "text": [
            " 61%|██████    | 79/130 [52:06<17:44, 20.87s/it]"
          ]
        },
        {
          "name": "stdout",
          "output_type": "stream",
          "text": [
            "dict_contents 예외 발생: 'NoneType' object is not subscriptable\n"
          ]
        },
        {
          "name": "stderr",
          "output_type": "stream",
          "text": [
            " 62%|██████▏   | 80/130 [52:43<21:20, 25.61s/it]"
          ]
        },
        {
          "name": "stdout",
          "output_type": "stream",
          "text": [
            "dict_contents 예외 발생: 'NoneType' object is not subscriptable\n",
            "eng_kor_contents 예외 발생: string indices must be integers\n"
          ]
        },
        {
          "name": "stderr",
          "output_type": "stream",
          "text": [
            " 65%|██████▌   | 85/130 [55:20<19:50, 26.46s/it]"
          ]
        },
        {
          "name": "stdout",
          "output_type": "stream",
          "text": [
            "dict_contents 예외 발생: 'NoneType' object is not subscriptable\n",
            "eng_kor_contents 예외 발생: string indices must be integers\n"
          ]
        },
        {
          "name": "stderr",
          "output_type": "stream",
          "text": [
            " 68%|██████▊   | 88/130 [57:16<24:03, 34.36s/it]"
          ]
        },
        {
          "name": "stdout",
          "output_type": "stream",
          "text": [
            "dict_contents 예외 발생: 'NoneType' object is not subscriptable\n"
          ]
        },
        {
          "name": "stderr",
          "output_type": "stream",
          "text": [
            " 69%|██████▉   | 90/130 [58:52<26:29, 39.74s/it]"
          ]
        },
        {
          "name": "stdout",
          "output_type": "stream",
          "text": [
            "dict_contents 예외 발생: 'NoneType' object is not subscriptable\n"
          ]
        },
        {
          "name": "stderr",
          "output_type": "stream",
          "text": [
            " 72%|███████▏  | 93/130 [1:00:19<18:49, 30.53s/it]"
          ]
        },
        {
          "name": "stdout",
          "output_type": "stream",
          "text": [
            "dict_contents 예외 발생: 'NoneType' object is not subscriptable\n"
          ]
        },
        {
          "name": "stderr",
          "output_type": "stream",
          "text": [
            " 73%|███████▎  | 95/130 [1:01:08<14:59, 25.69s/it]"
          ]
        },
        {
          "name": "stdout",
          "output_type": "stream",
          "text": [
            "dict_contents 예외 발생: 'NoneType' object is not subscriptable\n"
          ]
        },
        {
          "name": "stderr",
          "output_type": "stream",
          "text": [
            " 75%|███████▍  | 97/130 [1:02:25<17:33, 31.91s/it]"
          ]
        },
        {
          "name": "stdout",
          "output_type": "stream",
          "text": [
            "dict_contents 예외 발생: 'NoneType' object is not subscriptable\n"
          ]
        },
        {
          "name": "stderr",
          "output_type": "stream",
          "text": [
            " 75%|███████▌  | 98/130 [1:02:26<12:06, 22.71s/it]"
          ]
        },
        {
          "name": "stdout",
          "output_type": "stream",
          "text": [
            "dict_contents 예외 발생: 'NoneType' object is not subscriptable\n"
          ]
        },
        {
          "name": "stderr",
          "output_type": "stream",
          "text": [
            " 76%|███████▌  | 99/130 [1:02:41<10:35, 20.49s/it]"
          ]
        },
        {
          "name": "stdout",
          "output_type": "stream",
          "text": [
            "dict_contents 예외 발생: 'NoneType' object is not subscriptable\n"
          ]
        },
        {
          "name": "stderr",
          "output_type": "stream",
          "text": [
            " 77%|███████▋  | 100/130 [1:03:28<14:12, 28.42s/it]"
          ]
        },
        {
          "name": "stdout",
          "output_type": "stream",
          "text": [
            "eng_kor_contents 예외 발생: '항내용'\n"
          ]
        },
        {
          "name": "stderr",
          "output_type": "stream",
          "text": [
            " 78%|███████▊  | 102/130 [1:04:36<14:25, 30.90s/it]"
          ]
        },
        {
          "name": "stdout",
          "output_type": "stream",
          "text": [
            "dict_contents 예외 발생: 'NoneType' object is not subscriptable\n",
            "eng_kor_contents 예외 발생: string indices must be integers\n"
          ]
        },
        {
          "name": "stderr",
          "output_type": "stream",
          "text": [
            " 80%|████████  | 104/130 [1:06:03<16:18, 37.65s/it]"
          ]
        },
        {
          "name": "stdout",
          "output_type": "stream",
          "text": [
            "dict_contents 예외 발생: 'NoneType' object is not subscriptable\n"
          ]
        },
        {
          "name": "stderr",
          "output_type": "stream",
          "text": [
            " 83%|████████▎ | 108/130 [1:08:29<12:19, 33.61s/it]"
          ]
        },
        {
          "name": "stdout",
          "output_type": "stream",
          "text": [
            "dict_contents 예외 발생: 'NoneType' object is not subscriptable\n"
          ]
        },
        {
          "name": "stderr",
          "output_type": "stream",
          "text": [
            " 88%|████████▊ | 114/130 [1:12:08<08:51, 33.24s/it]"
          ]
        },
        {
          "name": "stdout",
          "output_type": "stream",
          "text": [
            "dict_contents 예외 발생: 'NoneType' object is not subscriptable\n"
          ]
        },
        {
          "name": "stderr",
          "output_type": "stream",
          "text": [
            " 88%|████████▊ | 115/130 [1:12:36<07:52, 31.53s/it]"
          ]
        },
        {
          "name": "stdout",
          "output_type": "stream",
          "text": [
            "dict_contents 예외 발생: 'NoneType' object is not subscriptable\n"
          ]
        },
        {
          "name": "stderr",
          "output_type": "stream",
          "text": [
            " 93%|█████████▎| 121/130 [1:15:46<03:49, 25.47s/it]"
          ]
        },
        {
          "name": "stdout",
          "output_type": "stream",
          "text": [
            "dict_contents 예외 발생: 'NoneType' object is not subscriptable\n"
          ]
        },
        {
          "name": "stderr",
          "output_type": "stream",
          "text": [
            " 94%|█████████▍| 122/130 [1:16:22<03:48, 28.60s/it]"
          ]
        },
        {
          "name": "stdout",
          "output_type": "stream",
          "text": [
            "dict_contents 예외 발생: 'NoneType' object is not subscriptable\n"
          ]
        },
        {
          "name": "stderr",
          "output_type": "stream",
          "text": [
            " 98%|█████████▊| 127/130 [1:20:56<02:11, 43.97s/it]"
          ]
        },
        {
          "name": "stdout",
          "output_type": "stream",
          "text": [
            "dict_contents 예외 발생: 'NoneType' object is not subscriptable\n"
          ]
        },
        {
          "name": "stderr",
          "output_type": "stream",
          "text": [
            "100%|██████████| 130/130 [1:25:56<00:00, 39.67s/it]\n"
          ]
        }
      ],
      "source": [
        "rows = []\n",
        "eng_cnt = 0\n",
        "kor_cnt = 0\n",
        "# tmp = 30 # 페이지 테스트용\n",
        "total_page = int(totalCnt/20)+2\n",
        "for p in tqdm(range(1,total_page)):\n",
        "  url = 'http://www.law.go.kr/DRF/lawSearch.do?OC=seokhee051&target=elaw&type=XML' \\\n",
        "        + '&page=' + str(p)\n",
        "  # url 불러오기\n",
        "  response = requests.get(url)\n",
        "  # XML -> 딕셔너리 변환후 파싱\n",
        "  contents = response.text\n",
        "  dict_contents = xmltodict.parse(contents)\n",
        "  try:\n",
        "    for content in dict_contents['LawSearch']['law']:\n",
        "      법령명한글 = content['법령명한글']\n",
        "      법령명영문 = content['법령명영문']\n",
        "      mst = content['법령일련번호']\n",
        "\n",
        "      eng_url = 'https://www.law.go.kr/DRF/lawService.do?OC=seokhee051&target=elaw' \\\n",
        "                + '&MST=' + str(mst)\n",
        "                # + '&ID=' + str(법령ID)\n",
        "      eng_response = requests.get(eng_url)\n",
        "      eng_contents = eng_response.text\n",
        "      eng_dict_contents = xmltodict.parse(eng_contents)\n",
        "\n",
        "      kor_url = 'https://www.law.go.kr/DRF/lawService.do?OC=seokhee051&target=law' \\\n",
        "                + '&MST=' + str(mst)\n",
        "                # + '&ID=' + str(법령ID)\n",
        "      kor_response = requests.get(kor_url)\n",
        "      kor_contents = kor_response.text\n",
        "      kor_dict_contents = xmltodict.parse(kor_contents)\n",
        "      eng_cnt += len(eng_dict_contents['Law']['JoSection']['Jo'])\n",
        "      kor_cnt += len(kor_dict_contents['법령']['조문']['조문단위'])\n",
        "      # 영어조문 개수와 한글 조문 개수 맞지 않다면 건너뛰기\n",
        "      if len(eng_dict_contents['Law']['JoSection']['Jo']) != len(kor_dict_contents['법령']['조문']['조문단위']):\n",
        "        continue\n",
        "      try:\n",
        "        for eng_jo, kor_jo in zip(eng_dict_contents['Law']['JoSection']['Jo'],kor_dict_contents['법령']['조문']['조문단위']):\n",
        "            if eng_jo['joYn']!= 'Y':\n",
        "              continue\n",
        "            if eng_jo['joBrNo']!= '00':\n",
        "              continue\n",
        "            원문 = eng_jo['joCts']\n",
        "            \n",
        "            if kor_jo['조문여부']!= '조문':\n",
        "              continue\n",
        "            if kor_jo.get('조문가지번호'):\n",
        "              continue\n",
        "            jo_txt = ''\n",
        "            hang_txt = ''\n",
        "            ho_txt = ''\n",
        "            jo_txt += kor_jo['조문내용']\n",
        "            if kor_jo.get('항'):\n",
        "                if '호' in kor_jo['항']:\n",
        "                    for ho in kor_jo['항']['호']:\n",
        "                        ho_txt+=ho['호내용']\n",
        "                    hang_txt += ho_txt\n",
        "                else:\n",
        "                    for hang in kor_jo['항']:\n",
        "                          hang_txt += hang['항내용']\n",
        "                          if type(hang) == dict and '호' in hang:\n",
        "                              for ho in hang['호']:\n",
        "                                  ho_txt+=ho['호내용']\n",
        "                              hang_txt += ho_txt\n",
        "                jo_txt += hang_txt\n",
        "            if '조문참고자료' in kor_jo:\n",
        "                jo_txt += kor_jo['조문참고자료']\n",
        "            정답번역문 = jo_txt\n",
        "            rows.append({'법령명한글':법령명한글, '법령명영문':법령명영문, 'MST':mst, '원문':원문, '정답번역문':정답번역문})\n",
        "      except Exception as e:\n",
        "        print('eng_kor_contents 예외 발생:', e)\n",
        "  except Exception as e:\n",
        "    print('dict_contents 예외 발생:', e)\n",
        "df = pd.DataFrame(rows)"
      ]
    },
    {
      "cell_type": "code",
      "execution_count": 180,
      "metadata": {
        "colab": {
          "base_uri": "https://localhost:8080/",
          "height": 597
        },
        "id": "ojHCk84EDaRk",
        "outputId": "7ffd0e45-b33d-4c16-f70d-86213b6a3c0e"
      },
      "outputs": [
        {
          "data": {
            "text/html": [
              "<div>\n",
              "<style scoped>\n",
              "    .dataframe tbody tr th:only-of-type {\n",
              "        vertical-align: middle;\n",
              "    }\n",
              "\n",
              "    .dataframe tbody tr th {\n",
              "        vertical-align: top;\n",
              "    }\n",
              "\n",
              "    .dataframe thead th {\n",
              "        text-align: right;\n",
              "    }\n",
              "</style>\n",
              "<table border=\"1\" class=\"dataframe\">\n",
              "  <thead>\n",
              "    <tr style=\"text-align: right;\">\n",
              "      <th></th>\n",
              "      <th>법령명한글</th>\n",
              "      <th>법령명영문</th>\n",
              "      <th>MST</th>\n",
              "      <th>원문</th>\n",
              "      <th>정답번역문</th>\n",
              "    </tr>\n",
              "  </thead>\n",
              "  <tbody>\n",
              "    <tr>\n",
              "      <th>0</th>\n",
              "      <td>119구조ㆍ구급에 관한 법률</td>\n",
              "      <td>ACT ON 119  RESCUE AND EMERGENCY MEDICAL SERVICES</td>\n",
              "      <td>236231</td>\n",
              "      <td>Article 1 (Purpose) The purpose of this Act is...</td>\n",
              "      <td>제1조(목적) 이 법은 화재, 재난ㆍ재해 및 테러, 그 밖의 위급한 상황에서 119...</td>\n",
              "    </tr>\n",
              "    <tr>\n",
              "      <th>1</th>\n",
              "      <td>119구조ㆍ구급에 관한 법률</td>\n",
              "      <td>ACT ON 119  RESCUE AND EMERGENCY MEDICAL SERVICES</td>\n",
              "      <td>236231</td>\n",
              "      <td>Article 2 (Definitions) The terms used in this...</td>\n",
              "      <td>제2조(정의) 이 법에서 사용하는 용어의 뜻은 다음과 같다. &lt;개정 2016.1.2...</td>\n",
              "    </tr>\n",
              "    <tr>\n",
              "      <th>2</th>\n",
              "      <td>119구조ㆍ구급에 관한 법률</td>\n",
              "      <td>ACT ON 119  RESCUE AND EMERGENCY MEDICAL SERVICES</td>\n",
              "      <td>236231</td>\n",
              "      <td>Article 3 (Responsibilities of the State) (1) ...</td>\n",
              "      <td>제3조(국가 등의 책무)① 국가와 지방자치단체는 119구조ㆍ구급(이하 \"구조ㆍ구급\"...</td>\n",
              "    </tr>\n",
              "    <tr>\n",
              "      <th>3</th>\n",
              "      <td>119구조ㆍ구급에 관한 법률</td>\n",
              "      <td>ACT ON 119  RESCUE AND EMERGENCY MEDICAL SERVICES</td>\n",
              "      <td>236231</td>\n",
              "      <td>Article 4 (Rights and Obligations of People) (...</td>\n",
              "      <td>제4조(국민의 권리와 의무)① 누구든지 위급상황에 처한 경우에는 국가와 지방자치단체...</td>\n",
              "    </tr>\n",
              "    <tr>\n",
              "      <th>4</th>\n",
              "      <td>119구조ㆍ구급에 관한 법률</td>\n",
              "      <td>ACT ON 119  RESCUE AND EMERGENCY MEDICAL SERVICES</td>\n",
              "      <td>236231</td>\n",
              "      <td>Article 5 (Relationship to Other Statutes) Exc...</td>\n",
              "      <td>제5조(다른 법률과의 관계) 구조ㆍ구급활동에 관하여 다른 법률에 특별한 규정이 있는...</td>\n",
              "    </tr>\n",
              "    <tr>\n",
              "      <th>...</th>\n",
              "      <td>...</td>\n",
              "      <td>...</td>\n",
              "      <td>...</td>\n",
              "      <td>...</td>\n",
              "      <td>...</td>\n",
              "    </tr>\n",
              "    <tr>\n",
              "      <th>66639</th>\n",
              "      <td>희귀질환관리법 시행령</td>\n",
              "      <td>ENFORCEMENT DECREE OF THE RARE DISEASE MANAGEM...</td>\n",
              "      <td>190356</td>\n",
              "      <td>Article 10 (Request for Financial Information,...</td>\n",
              "      <td>제10조(금융정보등의 요청 및 제공)① 관할 보건소장은 법 제13조제1항에 따라 의...</td>\n",
              "    </tr>\n",
              "    <tr>\n",
              "      <th>66640</th>\n",
              "      <td>희귀질환관리법 시행령</td>\n",
              "      <td>ENFORCEMENT DECREE OF THE RARE DISEASE MANAGEM...</td>\n",
              "      <td>190356</td>\n",
              "      <td>Article 11 (Requirements for Designation as Sp...</td>\n",
              "      <td>제11조(희귀질환전문기관의 지정 요건)① 법 제14조제1항 각 호 외의 부분에서 \"...</td>\n",
              "    </tr>\n",
              "    <tr>\n",
              "      <th>66641</th>\n",
              "      <td>희귀질환관리법 시행령</td>\n",
              "      <td>ENFORCEMENT DECREE OF THE RARE DISEASE MANAGEM...</td>\n",
              "      <td>190356</td>\n",
              "      <td>Article 12 (Entrustment of Evaluation of Speci...</td>\n",
              "      <td>제12조(희귀질환전문기관 평가의 위탁)① 보건복지부장관은 법 제15조제3항에 따라 ...</td>\n",
              "    </tr>\n",
              "    <tr>\n",
              "      <th>66642</th>\n",
              "      <td>희귀질환관리법 시행령</td>\n",
              "      <td>ENFORCEMENT DECREE OF THE RARE DISEASE MANAGEM...</td>\n",
              "      <td>190356</td>\n",
              "      <td>Article 13 (Delegation of Authority)\\nPursuant...</td>\n",
              "      <td>제13조(권한의 위임) 보건복지부장관은 법 제22조제1항에 따라 다음 각 호의 권한...</td>\n",
              "    </tr>\n",
              "    <tr>\n",
              "      <th>66643</th>\n",
              "      <td>희귀질환관리법 시행령</td>\n",
              "      <td>ENFORCEMENT DECREE OF THE RARE DISEASE MANAGEM...</td>\n",
              "      <td>190356</td>\n",
              "      <td>Article 14 (Handling of Sensitive Information ...</td>\n",
              "      <td>제14조(민감정보 및 고유식별정보의 처리)① 보건복지부장관(법 제15조제3항에 따라...</td>\n",
              "    </tr>\n",
              "  </tbody>\n",
              "</table>\n",
              "<p>66644 rows × 5 columns</p>\n",
              "</div>"
            ],
            "text/plain": [
              "                 법령명한글                                              법령명영문  \\\n",
              "0      119구조ㆍ구급에 관한 법률  ACT ON 119  RESCUE AND EMERGENCY MEDICAL SERVICES   \n",
              "1      119구조ㆍ구급에 관한 법률  ACT ON 119  RESCUE AND EMERGENCY MEDICAL SERVICES   \n",
              "2      119구조ㆍ구급에 관한 법률  ACT ON 119  RESCUE AND EMERGENCY MEDICAL SERVICES   \n",
              "3      119구조ㆍ구급에 관한 법률  ACT ON 119  RESCUE AND EMERGENCY MEDICAL SERVICES   \n",
              "4      119구조ㆍ구급에 관한 법률  ACT ON 119  RESCUE AND EMERGENCY MEDICAL SERVICES   \n",
              "...                ...                                                ...   \n",
              "66639      희귀질환관리법 시행령  ENFORCEMENT DECREE OF THE RARE DISEASE MANAGEM...   \n",
              "66640      희귀질환관리법 시행령  ENFORCEMENT DECREE OF THE RARE DISEASE MANAGEM...   \n",
              "66641      희귀질환관리법 시행령  ENFORCEMENT DECREE OF THE RARE DISEASE MANAGEM...   \n",
              "66642      희귀질환관리법 시행령  ENFORCEMENT DECREE OF THE RARE DISEASE MANAGEM...   \n",
              "66643      희귀질환관리법 시행령  ENFORCEMENT DECREE OF THE RARE DISEASE MANAGEM...   \n",
              "\n",
              "          MST                                                 원문  \\\n",
              "0      236231  Article 1 (Purpose) The purpose of this Act is...   \n",
              "1      236231  Article 2 (Definitions) The terms used in this...   \n",
              "2      236231  Article 3 (Responsibilities of the State) (1) ...   \n",
              "3      236231  Article 4 (Rights and Obligations of People) (...   \n",
              "4      236231  Article 5 (Relationship to Other Statutes) Exc...   \n",
              "...       ...                                                ...   \n",
              "66639  190356  Article 10 (Request for Financial Information,...   \n",
              "66640  190356  Article 11 (Requirements for Designation as Sp...   \n",
              "66641  190356  Article 12 (Entrustment of Evaluation of Speci...   \n",
              "66642  190356  Article 13 (Delegation of Authority)\\nPursuant...   \n",
              "66643  190356  Article 14 (Handling of Sensitive Information ...   \n",
              "\n",
              "                                                   정답번역문  \n",
              "0      제1조(목적) 이 법은 화재, 재난ㆍ재해 및 테러, 그 밖의 위급한 상황에서 119...  \n",
              "1      제2조(정의) 이 법에서 사용하는 용어의 뜻은 다음과 같다. <개정 2016.1.2...  \n",
              "2      제3조(국가 등의 책무)① 국가와 지방자치단체는 119구조ㆍ구급(이하 \"구조ㆍ구급\"...  \n",
              "3      제4조(국민의 권리와 의무)① 누구든지 위급상황에 처한 경우에는 국가와 지방자치단체...  \n",
              "4      제5조(다른 법률과의 관계) 구조ㆍ구급활동에 관하여 다른 법률에 특별한 규정이 있는...  \n",
              "...                                                  ...  \n",
              "66639  제10조(금융정보등의 요청 및 제공)① 관할 보건소장은 법 제13조제1항에 따라 의...  \n",
              "66640  제11조(희귀질환전문기관의 지정 요건)① 법 제14조제1항 각 호 외의 부분에서 \"...  \n",
              "66641  제12조(희귀질환전문기관 평가의 위탁)① 보건복지부장관은 법 제15조제3항에 따라 ...  \n",
              "66642  제13조(권한의 위임) 보건복지부장관은 법 제22조제1항에 따라 다음 각 호의 권한...  \n",
              "66643  제14조(민감정보 및 고유식별정보의 처리)① 보건복지부장관(법 제15조제3항에 따라...  \n",
              "\n",
              "[66644 rows x 5 columns]"
            ]
          },
          "execution_count": 180,
          "metadata": {},
          "output_type": "execute_result"
        }
      ],
      "source": [
        "df"
      ]
    },
    {
      "cell_type": "code",
      "execution_count": 184,
      "metadata": {
        "colab": {
          "base_uri": "https://localhost:8080/",
          "height": 537
        },
        "id": "UJc9zWsxRgr9",
        "outputId": "57496afd-b474-4e19-9509-6d4a2b30c1b5"
      },
      "outputs": [
        {
          "data": {
            "text/html": [
              "<div>\n",
              "<style scoped>\n",
              "    .dataframe tbody tr th:only-of-type {\n",
              "        vertical-align: middle;\n",
              "    }\n",
              "\n",
              "    .dataframe tbody tr th {\n",
              "        vertical-align: top;\n",
              "    }\n",
              "\n",
              "    .dataframe thead th {\n",
              "        text-align: right;\n",
              "    }\n",
              "</style>\n",
              "<table border=\"1\" class=\"dataframe\">\n",
              "  <thead>\n",
              "    <tr style=\"text-align: right;\">\n",
              "      <th></th>\n",
              "      <th>법령명한글</th>\n",
              "      <th>법령명영문</th>\n",
              "      <th>MST</th>\n",
              "      <th>원문</th>\n",
              "      <th>정답번역문</th>\n",
              "    </tr>\n",
              "  </thead>\n",
              "  <tbody>\n",
              "    <tr>\n",
              "      <th>66634</th>\n",
              "      <td>희귀질환관리법 시행령</td>\n",
              "      <td>ENFORCEMENT DECREE OF THE RARE DISEASE MANAGEM...</td>\n",
              "      <td>190356</td>\n",
              "      <td>Article 5 (Detailed Operational Rules)\\nIn add...</td>\n",
              "      <td>제5조(운영세칙) 이 영에서 규정한 사항 외에 위원회와 분야별 전문위원회의 구성 및...</td>\n",
              "    </tr>\n",
              "    <tr>\n",
              "      <th>66635</th>\n",
              "      <td>희귀질환관리법 시행령</td>\n",
              "      <td>ENFORCEMENT DECREE OF THE RARE DISEASE MANAGEM...</td>\n",
              "      <td>190356</td>\n",
              "      <td>Article 6 (Projects for Statistics on Registra...</td>\n",
              "      <td>제6조(희귀질환 등록통계사업)① 보건복지부장관은 법 제10조제1항 전단에 따른 등록...</td>\n",
              "    </tr>\n",
              "    <tr>\n",
              "      <th>66636</th>\n",
              "      <td>희귀질환관리법 시행령</td>\n",
              "      <td>ENFORCEMENT DECREE OF THE RARE DISEASE MANAGEM...</td>\n",
              "      <td>190356</td>\n",
              "      <td>Article 7 (Details, Methods, etc. of Fact-Find...</td>\n",
              "      <td>제7조(실태조사의 내용 및 방법 등)① 법 제11조제1항에 따른 실태조사(이하 \"실...</td>\n",
              "    </tr>\n",
              "    <tr>\n",
              "      <th>66637</th>\n",
              "      <td>희귀질환관리법 시행령</td>\n",
              "      <td>ENFORCEMENT DECREE OF THE RARE DISEASE MANAGEM...</td>\n",
              "      <td>190356</td>\n",
              "      <td>Article 8 (Medical Expense Support Projects) (...</td>\n",
              "      <td>제8조(의료비 지원 사업)① 법 제12조에 따른 의료비 지원 사업(이하 \"의료비 지...</td>\n",
              "    </tr>\n",
              "    <tr>\n",
              "      <th>66638</th>\n",
              "      <td>희귀질환관리법 시행령</td>\n",
              "      <td>ENFORCEMENT DECREE OF THE RARE DISEASE MANAGEM...</td>\n",
              "      <td>190356</td>\n",
              "      <td>Article 9 (Scope of Financial Information, etc...</td>\n",
              "      <td>제9조(금융정보등의 범위)① 법 제13조제1항제1호에서 \"대통령령으로 정하는 자료 ...</td>\n",
              "    </tr>\n",
              "    <tr>\n",
              "      <th>66639</th>\n",
              "      <td>희귀질환관리법 시행령</td>\n",
              "      <td>ENFORCEMENT DECREE OF THE RARE DISEASE MANAGEM...</td>\n",
              "      <td>190356</td>\n",
              "      <td>Article 10 (Request for Financial Information,...</td>\n",
              "      <td>제10조(금융정보등의 요청 및 제공)① 관할 보건소장은 법 제13조제1항에 따라 의...</td>\n",
              "    </tr>\n",
              "    <tr>\n",
              "      <th>66640</th>\n",
              "      <td>희귀질환관리법 시행령</td>\n",
              "      <td>ENFORCEMENT DECREE OF THE RARE DISEASE MANAGEM...</td>\n",
              "      <td>190356</td>\n",
              "      <td>Article 11 (Requirements for Designation as Sp...</td>\n",
              "      <td>제11조(희귀질환전문기관의 지정 요건)① 법 제14조제1항 각 호 외의 부분에서 \"...</td>\n",
              "    </tr>\n",
              "    <tr>\n",
              "      <th>66641</th>\n",
              "      <td>희귀질환관리법 시행령</td>\n",
              "      <td>ENFORCEMENT DECREE OF THE RARE DISEASE MANAGEM...</td>\n",
              "      <td>190356</td>\n",
              "      <td>Article 12 (Entrustment of Evaluation of Speci...</td>\n",
              "      <td>제12조(희귀질환전문기관 평가의 위탁)① 보건복지부장관은 법 제15조제3항에 따라 ...</td>\n",
              "    </tr>\n",
              "    <tr>\n",
              "      <th>66642</th>\n",
              "      <td>희귀질환관리법 시행령</td>\n",
              "      <td>ENFORCEMENT DECREE OF THE RARE DISEASE MANAGEM...</td>\n",
              "      <td>190356</td>\n",
              "      <td>Article 13 (Delegation of Authority)\\nPursuant...</td>\n",
              "      <td>제13조(권한의 위임) 보건복지부장관은 법 제22조제1항에 따라 다음 각 호의 권한...</td>\n",
              "    </tr>\n",
              "    <tr>\n",
              "      <th>66643</th>\n",
              "      <td>희귀질환관리법 시행령</td>\n",
              "      <td>ENFORCEMENT DECREE OF THE RARE DISEASE MANAGEM...</td>\n",
              "      <td>190356</td>\n",
              "      <td>Article 14 (Handling of Sensitive Information ...</td>\n",
              "      <td>제14조(민감정보 및 고유식별정보의 처리)① 보건복지부장관(법 제15조제3항에 따라...</td>\n",
              "    </tr>\n",
              "  </tbody>\n",
              "</table>\n",
              "</div>"
            ],
            "text/plain": [
              "             법령명한글                                              법령명영문     MST  \\\n",
              "66634  희귀질환관리법 시행령  ENFORCEMENT DECREE OF THE RARE DISEASE MANAGEM...  190356   \n",
              "66635  희귀질환관리법 시행령  ENFORCEMENT DECREE OF THE RARE DISEASE MANAGEM...  190356   \n",
              "66636  희귀질환관리법 시행령  ENFORCEMENT DECREE OF THE RARE DISEASE MANAGEM...  190356   \n",
              "66637  희귀질환관리법 시행령  ENFORCEMENT DECREE OF THE RARE DISEASE MANAGEM...  190356   \n",
              "66638  희귀질환관리법 시행령  ENFORCEMENT DECREE OF THE RARE DISEASE MANAGEM...  190356   \n",
              "66639  희귀질환관리법 시행령  ENFORCEMENT DECREE OF THE RARE DISEASE MANAGEM...  190356   \n",
              "66640  희귀질환관리법 시행령  ENFORCEMENT DECREE OF THE RARE DISEASE MANAGEM...  190356   \n",
              "66641  희귀질환관리법 시행령  ENFORCEMENT DECREE OF THE RARE DISEASE MANAGEM...  190356   \n",
              "66642  희귀질환관리법 시행령  ENFORCEMENT DECREE OF THE RARE DISEASE MANAGEM...  190356   \n",
              "66643  희귀질환관리법 시행령  ENFORCEMENT DECREE OF THE RARE DISEASE MANAGEM...  190356   \n",
              "\n",
              "                                                      원문  \\\n",
              "66634  Article 5 (Detailed Operational Rules)\\nIn add...   \n",
              "66635  Article 6 (Projects for Statistics on Registra...   \n",
              "66636  Article 7 (Details, Methods, etc. of Fact-Find...   \n",
              "66637  Article 8 (Medical Expense Support Projects) (...   \n",
              "66638  Article 9 (Scope of Financial Information, etc...   \n",
              "66639  Article 10 (Request for Financial Information,...   \n",
              "66640  Article 11 (Requirements for Designation as Sp...   \n",
              "66641  Article 12 (Entrustment of Evaluation of Speci...   \n",
              "66642  Article 13 (Delegation of Authority)\\nPursuant...   \n",
              "66643  Article 14 (Handling of Sensitive Information ...   \n",
              "\n",
              "                                                   정답번역문  \n",
              "66634  제5조(운영세칙) 이 영에서 규정한 사항 외에 위원회와 분야별 전문위원회의 구성 및...  \n",
              "66635  제6조(희귀질환 등록통계사업)① 보건복지부장관은 법 제10조제1항 전단에 따른 등록...  \n",
              "66636  제7조(실태조사의 내용 및 방법 등)① 법 제11조제1항에 따른 실태조사(이하 \"실...  \n",
              "66637  제8조(의료비 지원 사업)① 법 제12조에 따른 의료비 지원 사업(이하 \"의료비 지...  \n",
              "66638  제9조(금융정보등의 범위)① 법 제13조제1항제1호에서 \"대통령령으로 정하는 자료 ...  \n",
              "66639  제10조(금융정보등의 요청 및 제공)① 관할 보건소장은 법 제13조제1항에 따라 의...  \n",
              "66640  제11조(희귀질환전문기관의 지정 요건)① 법 제14조제1항 각 호 외의 부분에서 \"...  \n",
              "66641  제12조(희귀질환전문기관 평가의 위탁)① 보건복지부장관은 법 제15조제3항에 따라 ...  \n",
              "66642  제13조(권한의 위임) 보건복지부장관은 법 제22조제1항에 따라 다음 각 호의 권한...  \n",
              "66643  제14조(민감정보 및 고유식별정보의 처리)① 보건복지부장관(법 제15조제3항에 따라...  "
            ]
          },
          "execution_count": 184,
          "metadata": {},
          "output_type": "execute_result"
        }
      ],
      "source": [
        "df[-10:]"
      ]
    },
    {
      "cell_type": "code",
      "execution_count": 182,
      "metadata": {},
      "outputs": [
        {
          "data": {
            "text/plain": [
              "108189"
            ]
          },
          "execution_count": 182,
          "metadata": {},
          "output_type": "execute_result"
        }
      ],
      "source": [
        "eng_cnt"
      ]
    },
    {
      "cell_type": "code",
      "execution_count": 183,
      "metadata": {},
      "outputs": [
        {
          "data": {
            "text/plain": [
              "108584"
            ]
          },
          "execution_count": 183,
          "metadata": {},
          "output_type": "execute_result"
        }
      ],
      "source": [
        "kor_cnt"
      ]
    },
    {
      "cell_type": "code",
      "execution_count": 181,
      "metadata": {
        "id": "VhzKJXVB1ou8"
      },
      "outputs": [],
      "source": [
        "df.to_csv('검수2.csv', index=False, encoding=\"utf-8-sig\") "
      ]
    },
    {
      "cell_type": "code",
      "execution_count": null,
      "metadata": {
        "id": "lCny34EW6Q-w"
      },
      "outputs": [
        {
          "data": {
            "text/html": [
              "<div>\n",
              "<style scoped>\n",
              "    .dataframe tbody tr th:only-of-type {\n",
              "        vertical-align: middle;\n",
              "    }\n",
              "\n",
              "    .dataframe tbody tr th {\n",
              "        vertical-align: top;\n",
              "    }\n",
              "\n",
              "    .dataframe thead th {\n",
              "        text-align: right;\n",
              "    }\n",
              "</style>\n",
              "<table border=\"1\" class=\"dataframe\">\n",
              "  <thead>\n",
              "    <tr style=\"text-align: right;\">\n",
              "      <th></th>\n",
              "      <th>원문</th>\n",
              "      <th>정답번역문</th>\n",
              "    </tr>\n",
              "  </thead>\n",
              "  <tbody>\n",
              "    <tr>\n",
              "      <th>66634</th>\n",
              "      <td>Article 5 (Detailed Operational Rules)\\nIn add...</td>\n",
              "      <td>제5조(운영세칙) 이 영에서 규정한 사항 외에 위원회와 분야별 전문위원회의 구성 및...</td>\n",
              "    </tr>\n",
              "    <tr>\n",
              "      <th>66635</th>\n",
              "      <td>Article 6 (Projects for Statistics on Registra...</td>\n",
              "      <td>제6조(희귀질환 등록통계사업)① 보건복지부장관은 법 제10조제1항 전단에 따른 등록...</td>\n",
              "    </tr>\n",
              "    <tr>\n",
              "      <th>66636</th>\n",
              "      <td>Article 7 (Details, Methods, etc. of Fact-Find...</td>\n",
              "      <td>제7조(실태조사의 내용 및 방법 등)① 법 제11조제1항에 따른 실태조사(이하 \"실...</td>\n",
              "    </tr>\n",
              "    <tr>\n",
              "      <th>66637</th>\n",
              "      <td>Article 8 (Medical Expense Support Projects) (...</td>\n",
              "      <td>제8조(의료비 지원 사업)① 법 제12조에 따른 의료비 지원 사업(이하 \"의료비 지...</td>\n",
              "    </tr>\n",
              "    <tr>\n",
              "      <th>66638</th>\n",
              "      <td>Article 9 (Scope of Financial Information, etc...</td>\n",
              "      <td>제9조(금융정보등의 범위)① 법 제13조제1항제1호에서 \"대통령령으로 정하는 자료 ...</td>\n",
              "    </tr>\n",
              "    <tr>\n",
              "      <th>66639</th>\n",
              "      <td>Article 10 (Request for Financial Information,...</td>\n",
              "      <td>제10조(금융정보등의 요청 및 제공)① 관할 보건소장은 법 제13조제1항에 따라 의...</td>\n",
              "    </tr>\n",
              "    <tr>\n",
              "      <th>66640</th>\n",
              "      <td>Article 11 (Requirements for Designation as Sp...</td>\n",
              "      <td>제11조(희귀질환전문기관의 지정 요건)① 법 제14조제1항 각 호 외의 부분에서 \"...</td>\n",
              "    </tr>\n",
              "    <tr>\n",
              "      <th>66641</th>\n",
              "      <td>Article 12 (Entrustment of Evaluation of Speci...</td>\n",
              "      <td>제12조(희귀질환전문기관 평가의 위탁)① 보건복지부장관은 법 제15조제3항에 따라 ...</td>\n",
              "    </tr>\n",
              "    <tr>\n",
              "      <th>66642</th>\n",
              "      <td>Article 13 (Delegation of Authority)\\nPursuant...</td>\n",
              "      <td>제13조(권한의 위임) 보건복지부장관은 법 제22조제1항에 따라 다음 각 호의 권한...</td>\n",
              "    </tr>\n",
              "    <tr>\n",
              "      <th>66643</th>\n",
              "      <td>Article 14 (Handling of Sensitive Information ...</td>\n",
              "      <td>제14조(민감정보 및 고유식별정보의 처리)① 보건복지부장관(법 제15조제3항에 따라...</td>\n",
              "    </tr>\n",
              "  </tbody>\n",
              "</table>\n",
              "</div>"
            ],
            "text/plain": [
              "                                                      원문  \\\n",
              "66634  Article 5 (Detailed Operational Rules)\\nIn add...   \n",
              "66635  Article 6 (Projects for Statistics on Registra...   \n",
              "66636  Article 7 (Details, Methods, etc. of Fact-Find...   \n",
              "66637  Article 8 (Medical Expense Support Projects) (...   \n",
              "66638  Article 9 (Scope of Financial Information, etc...   \n",
              "66639  Article 10 (Request for Financial Information,...   \n",
              "66640  Article 11 (Requirements for Designation as Sp...   \n",
              "66641  Article 12 (Entrustment of Evaluation of Speci...   \n",
              "66642  Article 13 (Delegation of Authority)\\nPursuant...   \n",
              "66643  Article 14 (Handling of Sensitive Information ...   \n",
              "\n",
              "                                                   정답번역문  \n",
              "66634  제5조(운영세칙) 이 영에서 규정한 사항 외에 위원회와 분야별 전문위원회의 구성 및...  \n",
              "66635  제6조(희귀질환 등록통계사업)① 보건복지부장관은 법 제10조제1항 전단에 따른 등록...  \n",
              "66636  제7조(실태조사의 내용 및 방법 등)① 법 제11조제1항에 따른 실태조사(이하 \"실...  \n",
              "66637  제8조(의료비 지원 사업)① 법 제12조에 따른 의료비 지원 사업(이하 \"의료비 지...  \n",
              "66638  제9조(금융정보등의 범위)① 법 제13조제1항제1호에서 \"대통령령으로 정하는 자료 ...  \n",
              "66639  제10조(금융정보등의 요청 및 제공)① 관할 보건소장은 법 제13조제1항에 따라 의...  \n",
              "66640  제11조(희귀질환전문기관의 지정 요건)① 법 제14조제1항 각 호 외의 부분에서 \"...  \n",
              "66641  제12조(희귀질환전문기관 평가의 위탁)① 보건복지부장관은 법 제15조제3항에 따라 ...  \n",
              "66642  제13조(권한의 위임) 보건복지부장관은 법 제22조제1항에 따라 다음 각 호의 권한...  \n",
              "66643  제14조(민감정보 및 고유식별정보의 처리)① 보건복지부장관(법 제15조제3항에 따라...  "
            ]
          },
          "execution_count": 32,
          "metadata": {},
          "output_type": "execute_result"
        }
      ],
      "source": [
        "df.iloc[-10:,-2:]"
      ]
    },
    {
      "cell_type": "code",
      "execution_count": null,
      "metadata": {},
      "outputs": [
        {
          "data": {
            "text/plain": [
              "64522"
            ]
          },
          "execution_count": 35,
          "metadata": {},
          "output_type": "execute_result"
        }
      ],
      "source": [
        "random.randint(0,66643)"
      ]
    },
    {
      "cell_type": "code",
      "execution_count": null,
      "metadata": {},
      "outputs": [
        {
          "name": "stdout",
          "output_type": "stream",
          "text": [
            "11835\n",
            "('Article 12 (Power and Duties of Jurors) (1) Jurors shall have the power to '\n",
            " 'find facts and present opinions on the application of Acts and subordinate '\n",
            " 'statutes and the determination of punishment with respect to the case for '\n",
            " 'which they take part in a participatory trial.\\n'\n",
            " '  (2) Every juror shall abide by Acts and subordinate statutes and perform '\n",
            " 'his/her duties independently and sincerely.\\n'\n",
            " '  (3) No juror shall divulge confidential information known to him/her in '\n",
            " 'the scope of his/her duties nor shall he/she commit any act of undermining '\n",
            " 'fairness of a trial.')\n",
            "('제12조(배심원의 권한과 의무)① 배심원은 국민참여재판을 하는 사건에 관하여 사실의 인정, 법령의 적용 및 형의 양정에 관한 의견을 '\n",
            " '제시할 권한이 있다.② 배심원은 법령을 준수하고 독립하여 성실히 직무를 수행하여야 한다.③ 배심원은 직무상 알게 된 비밀을 누설하거나 '\n",
            " '재판의 공정을 해하는 행위를 하여서는 아니 된다.')\n"
          ]
        }
      ],
      "source": [
        "num = random.randint(0,66643)\n",
        "print(num)\n",
        "pprint.pprint(df.iloc[num,-2])\n",
        "pprint.pprint(df.iloc[num,-1])"
      ]
    },
    {
      "cell_type": "code",
      "execution_count": null,
      "metadata": {},
      "outputs": [
        {
          "name": "stdout",
          "output_type": "stream",
          "text": [
            "22857\n",
            "('Article 43 (Matters to be Observed by Business Operator)\\n'\n",
            " '  The matters to be observed by a business operator (including a '\n",
            " 'representative in the case of a corporation) and his/her employees shall be '\n",
            " 'as set forth in Table 10 attached hereto. <Amended on March 22, 2018>')\n",
            "('제43조(영업자의 준수사항) 영업자(법인인 경우에는 그 대표자를 포함한다)와 그 종사자의 준수사항은 별표 10과 같다. <개정 '\n",
            " '2018.3.22>')\n"
          ]
        }
      ],
      "source": [
        "num = random.randint(0,66643)\n",
        "print(num)\n",
        "pprint.pprint(df.iloc[num,-2])\n",
        "pprint.pprint(df.iloc[num,-1])"
      ]
    },
    {
      "cell_type": "code",
      "execution_count": null,
      "metadata": {},
      "outputs": [
        {
          "name": "stdout",
          "output_type": "stream",
          "text": [
            "16196\n",
            "('Article 12 (Establishment of Systems for Management and Joint Use of '\n",
            " 'Information on Meteorological Services) (1) The Administrator of the Korea '\n",
            " 'Meteorological Administration shall establish and operate a weather '\n",
            " 'information system (including incidental facilities) to facilitate the '\n",
            " 'dissemination and use of information on meteorological services.\\n'\n",
            " '  (2) The Administrator of the Korea Meteorological Administration may '\n",
            " 'request cooperation under paragraph (1) from national agencies, local '\n",
            " 'governments, and persons specified by Ordinance of the Ministry of '\n",
            " 'Environment, which produce and manage information on meteorological '\n",
            " 'services.\\n'\n",
            " '  [This Article Wholly Amended on Dec. 31, 2008]')\n",
            "('제12조(기상업무에 관한 정보의 관리 및 공동활용체계의 구축 등)① 기상청장은 기상정보시스템(그 부대시설을 포함한다)을 구축ㆍ운영하여 '\n",
            " '기상업무에 관한 정보의 보급 및 이용을 촉진시켜야 한다.② 기상청장은 기상업무에 관한 정보를 생산ㆍ관리하는 국가기관, 지방자치단체 및 '\n",
            " '환경부령으로 정하는 자에 대하여 제1항에 따른 협력을 요청할 수 있다.[전문개정 2008.12.31]')\n"
          ]
        }
      ],
      "source": [
        "num = random.randint(0,66643)\n",
        "print(num)\n",
        "pprint.pprint(df.iloc[num,-2])\n",
        "pprint.pprint(df.iloc[num,-1])"
      ]
    },
    {
      "cell_type": "code",
      "execution_count": null,
      "metadata": {},
      "outputs": [
        {
          "name": "stdout",
          "output_type": "stream",
          "text": [
            "64753\n",
            "('Article 298 (Indecent Act by Compulsion) A person who, through violence or '\n",
            " 'intimidation, commits an indecent act on another shall be punished by '\n",
            " 'imprisonment with labor for not more than ten years or by a fine not '\n",
            " 'exceeding 15 million won. <Amended on Dec. 29, 1995>')\n",
            "('제298조(강제추행) 폭행 또는 협박으로 사람에 대하여 추행을 한 자는 10년 이하의 징역 또는 1천500만원 이하의 벌금에 처한다. '\n",
            " '<개정 1995.12.29>')\n"
          ]
        }
      ],
      "source": [
        "num = random.randint(0,66643)\n",
        "print(num)\n",
        "pprint.pprint(df.iloc[num,-2])\n",
        "pprint.pprint(df.iloc[num,-1])"
      ]
    },
    {
      "cell_type": "code",
      "execution_count": null,
      "metadata": {},
      "outputs": [
        {
          "name": "stdout",
          "output_type": "stream",
          "text": [
            "38753\n",
            "('Article 31 (Organization of Committee) (1) The Committee shall be comprised '\n",
            " 'of not more than 30 members, including two Chairpersons.\\n'\n",
            " '  (2) The following persons shall be Committee members: <Amended on Jul. 26, '\n",
            " '2017; Oct. 24, 2017>\\n'\n",
            " '  1. One person nominated by the Minister of Economy and Finance from among '\n",
            " 'the Minister of Land, Infrastructure and Transport and the Vice Ministers of '\n",
            " 'Economy and Finance; one person nominated by the Minister of Science and ICT '\n",
            " 'from among the Vice Ministers of Science and ICT; one person nominated by '\n",
            " 'the Minister of Culture, Sports and Tourism from among the Vice Minister of '\n",
            " 'Education, the Vice Minister of Defense, the Vice Minister of the Interior '\n",
            " 'and Safety, and the Vice Ministers of Culture, Sports and Tourism; one '\n",
            " 'person nominated by the Minister of Trade, Industry and Energy from among '\n",
            " 'the Vice Minister of Agriculture, Food and Rural Affairs and the Vice '\n",
            " 'Ministers of Trade, Industry and Energy; and the Vice Minister of '\n",
            " 'Environment and the Administrator;\\n'\n",
            " '  2. Persons commissioned by the Minister of Land, Infrastructure and '\n",
            " 'Transport upon recommendation of the Administrator, from among persons '\n",
            " 'having abundant knowledge of and experience in constructing an '\n",
            " 'administrative city.\\n'\n",
            " '  (3) The Minister of Land, Infrastructure and Transport and a person '\n",
            " 'commissioned by the President from among members referred to in paragraph '\n",
            " '(2) 2, shall be Chairpersons.\\n'\n",
            " '  (4) Chairpersons may require the head of a related agency and local '\n",
            " 'governments related to any agenda item submitted to the Committee, to attend '\n",
            " 'and speak at a meeting.\\n'\n",
            " '  (5) Each member referred to in paragraph (2) 2 shall hold office for a '\n",
            " 'term of two years and may be appointed consecutively, up to three times '\n",
            " 'only. <Amended on Dec. 31, 2018>\\n'\n",
            " '  (6) The Committee shall have one executive-secretary, and the '\n",
            " 'Administrator shall be the executive-secretary.\\n'\n",
            " '  [This Article Wholly Amended on Jun. 11, 2014]')\n",
            "('제31조(위원회의 조직)① 위원회는 위원장 2명을 포함한 30명 이내의 위원으로 구성한다.② 위원회의 위원은 다음 각 호의 사람이 된다. '\n",
            " '<개정 2017.7.26, 2017.10.24>1. 국토교통부장관, 기획재정부차관 중 기획재정부장관이 지명하는 사람 1명, '\n",
            " '과학기술정보통신부차관 중 과학기술정보통신부장관이 지명하는 사람 1명, 교육부차관, 국방부차관, 행정안전부차관, 문화체육관광부차관 중 '\n",
            " '문화체육관광부장관이 지명하는 사람 1명, 농림축산식품부차관, 산업통상자원부차관 중 산업통상자원부장관이 지명하는 사람 1명, 환경부차관 및 '\n",
            " '건설청장2. 행정중심복합도시 건설에 필요한 학식과 경험이 풍부한 사람 중에서 건설청장의 추천을 받아 국토교통부장관이 위촉하는 사람③ '\n",
            " '위원장은 국토교통부장관과 제2항제2호에 따른 위원 중에서 대통령이 위촉하는 사람이 된다.④ 위원장은 위원회에 상정된 안건과 관련된 관계 '\n",
            " '기관 및 지방자치단체의 장 등을 회의에 참석하여 발언하게 할 수 있다.⑤ 제2항제2호에 따른 위원의 임기는 2년으로 하며, 세 차례만 '\n",
            " '연임할 수 있다. <개정 2018.12.31>⑥ 위원회에 간사위원 1명을 두며, 간사위원은 건설청장이 된다.[전문개정 2014.6.11]')\n"
          ]
        }
      ],
      "source": [
        "num = random.randint(0,66643)\n",
        "print(num)\n",
        "pprint.pprint(df.iloc[num,-2])\n",
        "pprint.pprint(df.iloc[num,-1])"
      ]
    },
    {
      "cell_type": "code",
      "execution_count": null,
      "metadata": {},
      "outputs": [
        {
          "name": "stdout",
          "output_type": "stream",
          "text": [
            "('Article 31 (Organization of Committee) (1) The Committee shall be comprised of not more than 30 members, including two Chairpersons.\\n'\n",
            " '  (2) The following persons shall be Committee members: <Amended on Jul. 26, 2017; Oct. 24, 2017>\\n'\n",
            " '  1. One person nominated by the Minister of Economy and Finance from among the Minister of Land, Infrastructure and Transport and the Vice Ministers of Economy and Finance; one person nominated '\n",
            " 'by the Minister of Science and ICT from among the Vice Ministers of Science and ICT; one person nominated by the Minister of Culture, Sports and Tourism from among the Vice Minister of Education, '\n",
            " 'the Vice Minister of Defense, the Vice Minister of the Interior and Safety, and the Vice Ministers of Culture, Sports and Tourism; one person nominated by the Minister of Trade, Industry and '\n",
            " 'Energy from among the Vice Minister of Agriculture, Food and Rural Affairs and the Vice Ministers of Trade, Industry and Energy; and the Vice Minister of Environment and the Administrator;\\n'\n",
            " '  2. Persons commissioned by the Minister of Land, Infrastructure and Transport upon recommendation of the Administrator, from among persons having abundant knowledge of and experience in '\n",
            " 'constructing an administrative city.\\n'\n",
            " '  (3) The Minister of Land, Infrastructure and Transport and a person commissioned by the President from among members referred to in paragraph (2) 2, shall be Chairpersons.\\n'\n",
            " '  (4) Chairpersons may require the head of a related agency and local governments related to any agenda item submitted to the Committee, to attend and speak at a meeting.\\n'\n",
            " '  (5) Each member referred to in paragraph (2) 2 shall hold office for a term of two years and may be appointed consecutively, up to three times only. <Amended on Dec. 31, 2018>\\n'\n",
            " '  (6) The Committee shall have one executive-secretary, and the Administrator shall be the executive-secretary.\\n'\n",
            " '  [This Article Wholly Amended on Jun. 11, 2014]')\n"
          ]
        }
      ],
      "source": [
        "pprint.pprint(df.iloc[num,-2], width = 200)"
      ]
    },
    {
      "cell_type": "code",
      "execution_count": null,
      "metadata": {},
      "outputs": [
        {
          "name": "stdout",
          "output_type": "stream",
          "text": [
            "('제31조(위원회의 조직)① 위원회는 위원장 2명을 포함한 30명 이내의 위원으로 구성한다.② 위원회의 위원은 다음 각 호의 사람이 된다. <개정 2017.7.26, '\n",
            " '2017.10.24>1. 국토교통부장관, 기획재정부차관 중 기획재정부장관이 지명하는 사람 1명, 과학기술정보통신부차관 중 과학기술정보통신부장관이 지명하는 사람 1명, '\n",
            " '교육부차관, 국방부차관, 행정안전부차관, 문화체육관광부차관 중 문화체육관광부장관이 지명하는 사람 1명, 농림축산식품부차관, 산업통상자원부차관 중 산업통상자원부장관이 지명하는 '\n",
            " '사람 1명, 환경부차관 및 건설청장2. 행정중심복합도시 건설에 필요한 학식과 경험이 풍부한 사람 중에서 건설청장의 추천을 받아 국토교통부장관이 위촉하는 사람③ 위원장은 '\n",
            " '국토교통부장관과 제2항제2호에 따른 위원 중에서 대통령이 위촉하는 사람이 된다.④ 위원장은 위원회에 상정된 안건과 관련된 관계 기관 및 지방자치단체의 장 등을 회의에 '\n",
            " '참석하여 발언하게 할 수 있다.⑤ 제2항제2호에 따른 위원의 임기는 2년으로 하며, 세 차례만 연임할 수 있다. <개정 2018.12.31>⑥ 위원회에 간사위원 1명을 '\n",
            " '두며, 간사위원은 건설청장이 된다.[전문개정 2014.6.11]')\n"
          ]
        }
      ],
      "source": [
        "pprint.pprint(df.iloc[num,-1], width = 100)"
      ]
    },
    {
      "cell_type": "code",
      "execution_count": null,
      "metadata": {},
      "outputs": [
        {
          "name": "stdout",
          "output_type": "stream",
          "text": [
            "12833\n",
            "('Article 2 (Definition) The term \"international cultural exchanges\" in this Act means international cooperation and activities provided or performed to enhance mutual understanding of culture '\n",
            " '(referring to culture in a broad sense encompassing art, tourism, sports, etc.) among countries in relevant fields, such as culture, art, tourism, and sports under any of the following statutes: '\n",
            " '<Amended on Oct. 16, 2018>\\n'\n",
            " '  1. The Framework Act on Culture;\\n'\n",
            " '  2. The Framework Act on the Promotion of Cultural Industries;\\n'\n",
            " '  3. The Framework Act on the Video Industry Promotion;\\n'\n",
            " '  4. The Framework Act on Korean Language;\\n'\n",
            " '  5. The Culture and Arts Promotion Act;\\n'\n",
            " '  6. The Content Industry Promotion Act;\\n'\n",
            " '  7. The Promotion of the Motion Pictures and Video Products Act;\\n'\n",
            " '  8. The Publishing Industry Promotion Act;\\n'\n",
            " '  9. The Print Culture Industry Promotion Act;\\n'\n",
            " '  10. The Craft Industry Promotion Act;\\n'\n",
            " '  11. The Museum and Art Gallery Support Act;\\n'\n",
            " '  12. The Literature Promotion Act;\\n'\n",
            " '  13. The Act on Promotion of the Humanities and Humanistic Spirit and Culture;\\n'\n",
            " '  14. The Tourism Promotion Act;\\n'\n",
            " '  15. The Popular Culture and Arts Industry Development Act;\\n'\n",
            " '  16. The Culture and Arts Education Support Act;\\n'\n",
            " '  17. The Libraries Act;\\n'\n",
            " '  18. The Special Act on the Development of Asian Cultural Hub City;\\n'\n",
            " '  19. The Act on the Protection and Promotion of Cultural Diversity;\\n'\n",
            " '  20. The Sports Industry Promotion Act;\\n'\n",
            " '  21. The National Sports Promotion Act;\\n'\n",
            " '  22. The Act on the Promotion of Taekwondo and Creation of Taekwondo Park.')\n",
            "('제2조(정의) 이 법에서 \"국제문화교류\"란 다음 각 호의 법률에 따른 문화, 예술, 관광, 체육 등의 관련 분야에서 국가 간 상호 문화(예술, 관광, 체육 등을 포함하는 '\n",
            " '넓은 의미의 문화를 말한다)에 대한 이해를 증진하기 위하여 수행하는 국제적 협력 및 활동을 말한다. <개정 2018.10.16>1. 「문화기본법」2. 「문화산업진흥 '\n",
            " '기본법」3. 「영상진흥기본법」4. 「국어기본법」5. 「문화예술진흥법」6. 「콘텐츠산업 진흥법」7. 「영화 및 비디오물의 진흥에 관한 법률」8. 「출판문화산업 진흥법」9. '\n",
            " '「인쇄문화산업 진흥법」10. 「공예문화산업 진흥법」11. 「박물관 및 미술관 진흥법」12. 「문학진흥법」13. 「인문학 및 인문정신문화의 진흥에 관한 법률」14. '\n",
            " '「관광진흥법」15. 「대중문화예술산업발전법」16. 「문화예술교육 지원법」17. 「도서관법」18. 「아시아문화중심도시 조성에 관한 특별법」19. 「문화다양성의 보호와 증진에 '\n",
            " '관한 법률」20. 「스포츠산업 진흥법」21. 「국민체육진흥법」22. 「태권도 진흥 및 태권도공원 조성 등에 관한 법률」')\n"
          ]
        }
      ],
      "source": [
        "num = random.randint(0,66643)\n",
        "print(num)\n",
        "pprint.pprint(df.iloc[num,-2], width = 200)\n",
        "pprint.pprint(df.iloc[num,-1], width = 100)"
      ]
    },
    {
      "cell_type": "code",
      "execution_count": null,
      "metadata": {},
      "outputs": [
        {
          "name": "stdout",
          "output_type": "stream",
          "text": [
            "55731\n",
            "('Article 5 (Scope of Heads of Relevant Central Administrative Agencies) \"The heads of the relevant central administrative agencies prescribed by Presidential Decree\" in Article 5 (3) of the Act '\n",
            " 'means the heads of the following institutions:\\n'\n",
            " '  1. The Ministry of Economy and Finance;\\n'\n",
            " '  2. The Ministry of Education;\\n'\n",
            " '  3. The Ministry of Science and ICT;\\n'\n",
            " '  4. The Ministry of Agriculture, Food and Rural Affairs;\\n'\n",
            " '  5. The Ministry of Trade, Industry and Energy;\\n'\n",
            " '  6. The Ministry of Oceans and Fisheries;\\n'\n",
            " '  7. The Ministry of SMEs and Startups.')\n",
            "('제5조(관계 중앙행정기관의 장의 범위) 법 제5조제3항에서 \"대통령령으로 정하는 관계 중앙행정기관의 장\"이란 다음 각 호의 기관의 장을 말한다.1. 기획재정부2. 교육부3. '\n",
            " '과학기술정보통신부4. 농림축산식품부5. 산업통상자원부6. 해양수산부7. 중소벤처기업부')\n"
          ]
        }
      ],
      "source": [
        "num = random.randint(0,66643)\n",
        "print(num)\n",
        "pprint.pprint(df.iloc[num,-2], width = 200)\n",
        "pprint.pprint(df.iloc[num,-1], width = 100)"
      ]
    },
    {
      "cell_type": "code",
      "execution_count": null,
      "metadata": {},
      "outputs": [
        {
          "name": "stdout",
          "output_type": "stream",
          "text": [
            "11843\n",
            "('Article 20 (Grounds for Exemption)\\n'\n",
            " 'A court may exempt any of the following persons from duties as a juror at its discretion or at the request of the person:\\n'\n",
            " '  1. A person who is not less than 70 years of age;\\n'\n",
            " '  2. A person who has ever attended selection proceedings as a prospective juror during the past five years;\\n'\n",
            " '  3. A person whose case prosecuted for an offense punishable by imprisonment without prison labor or any heavier punishment is still pending;\\n'\n",
            " '  4. A person who is under arrest or confinement pursuant to any Act or subordinate statute;\\n'\n",
            " '  5. A person whose performance of duties is likely to cause harm to him/herself or a third party or is likely to sustain irrecoverable damage to his/her career;\\n'\n",
            " '  6. A person who has difficulties in making an appearance before court due to serious illness, injury, or disabilities;\\n'\n",
            " '  7. A person who has difficulties in performing duties as a juror due to any other unavoidable cause or event.')\n",
            "('제20조(면제사유) 법원은 직권 또는 신청에 따라 다음 각 호의 어느 하나에 해당하는 사람에 대하여 배심원 직무의 수행을 면제할 수 있다.1. 만 70세 이상인 사람2. '\n",
            " '과거 5년 이내에 배심원후보자로서 선정기일에 출석한 사람3. 금고 이상의 형에 해당하는 죄로 기소되어 사건이 종결되지 아니한 사람4. 법령에 따라 체포 또는 구금되어 있는 '\n",
            " '사람5. 배심원 직무의 수행이 자신이나 제3자에게 위해를 초래하거나 직업상 회복할 수 없는 손해를 입게 될 우려가 있는 사람6. 중병·상해 또는 장애로 인하여 법원에 '\n",
            " '출석하기 곤란한 사람7. 그 밖의 부득이한 사유로 배심원 직무를 수행하기 어려운 사람')\n"
          ]
        }
      ],
      "source": [
        "num = random.randint(0,66643)\n",
        "print(num)\n",
        "pprint.pprint(df.iloc[num,-2], width = 200)\n",
        "pprint.pprint(df.iloc[num,-1], width = 100)"
      ]
    },
    {
      "cell_type": "code",
      "execution_count": null,
      "metadata": {},
      "outputs": [
        {
          "name": "stdout",
          "output_type": "stream",
          "text": [
            "16666\n",
            "('Article 70 (Purposes of Fund) The Fund shall be used for any of the following purposes:\\n'\n",
            " \"  1. Creation and operation of the Government's foundation for reducing greenhouse gases;\\n\"\n",
            " '  2. Support for conversion of industries, labor, and local economy, and greenhouse gas reduction activities of enterprises, for the transition to a carbon neutral society and promotion of green '\n",
            " 'growth;\\n'\n",
            " '  3. Support for conversion and creation of jobs in the regions with worsening social and economic conditions, or for workers and social groups suffering, in the course of coping with climate '\n",
            " 'crisis;\\n'\n",
            " '  4. Research and development, and training of human resources, of green technology for coping with climate crisis;\\n'\n",
            " '  5. Loan, investment, or other financial support necessary for coping with climate crisis;\\n'\n",
            " '  6. Education and public relations for coping with climate crisis;\\n'\n",
            " '  7. International cooperation for coping with climate crisis;\\n'\n",
            " '  8. Repayment of the principal and interest of loans;\\n'\n",
            " '  9. Repayment of the principal and interest of deposits from the Public Capital Management Fund prescribed in the Public Capital Management Fund Act;\\n'\n",
            " '  10. Disbursement of expenses to establish, operate, and manage the Fund;\\n'\n",
            " '  11. Other purposes prescribed by Presidential Decree for coping with climate crisis.\\n'\n",
            " '  [Enforcement Date: Jan. 1, 2022] Article 70')\n",
            "('제70조(기금의 용도) 기금은 다음 각 호의 어느 하나에 해당하는 용도에 사용한다.1. 정부의 온실가스 감축 기반 조성ㆍ운영2. 탄소중립 사회로의 이행과 녹색성장의 추진을 '\n",
            " '위한 산업ㆍ노동ㆍ지역경제 전환 및 기업의 온실가스 감축 활동 지원3. 기후위기 대응 과정에서 경제적ㆍ사회적 여건이 악화된 지역이나 피해를 받는 노동자ㆍ계층에 대한 일자리 '\n",
            " '전환ㆍ창출 지원4. 기후위기 대응을 위한 녹색기술 연구개발 및 인력양성5. 기후위기 대응을 위하여 필요한 융자ㆍ투자 또는 그 밖에 필요한 금융지원6. 기후위기 대응을 위한 '\n",
            " '교육ㆍ홍보7. 기후위기 대응을 위한 국제협력8. 차입금의 원리금 상환9. 「공공자금관리기금법」에 따른 공공자금관리기금으로부터의 예수금에 대한 원리금 상환10. 기금의 '\n",
            " '조성ㆍ운용 및 관리를 위한 경비의 지출11. 그 밖에 기후위기 대응을 위하여 대통령령으로 정하는 용도[시행일 : 2022. 1. 1.] 제70조')\n"
          ]
        }
      ],
      "source": [
        "num = random.randint(0,66643)\n",
        "print(num)\n",
        "pprint.pprint(df.iloc[num,-2], width = 200)\n",
        "pprint.pprint(df.iloc[num,-1], width = 100)"
      ]
    },
    {
      "cell_type": "code",
      "execution_count": null,
      "metadata": {},
      "outputs": [
        {
          "name": "stdout",
          "output_type": "stream",
          "text": [
            "59123\n",
            "('Article 10 (Obligation to Compensate for Damage) (1) Where any person has suffered damage from unfair labeling or advertising which violates Article 3 (1), business entities, etc. shall be '\n",
            " 'obligated to compensate for such damage to the aggrieved person.\\n'\n",
            " '  (2) No business entities, etc. obligated to compensate for damage pursuant to paragraph (1) shall be exempted from such obligation, on the ground that damage has not been caused by intention or '\n",
            " 'negligence.\\n'\n",
            " '  [This Article Wholly Amended by Act No. 11050, Sep. 15, 2011]')\n",
            "('제10조(손해배상책임)① 사업자등은 제3조제1항을 위반하여 부당한 표시ㆍ광고 행위를 함으로써 피해를 입은 자가 있는 경우에는 그 피해자에 대하여 손해배상의 책임을 진다.② '\n",
            " '제1항에 따라 손해배상의 책임을 지는 사업자등은 고의 또는 과실이 없음을 들어 그 피해자에 대한 책임을 면할 수 없다.[전문개정 2011.9.15]')\n"
          ]
        }
      ],
      "source": [
        "num = random.randint(0,66643)\n",
        "print(num)\n",
        "pprint.pprint(df.iloc[num,-2], width = 200)\n",
        "pprint.pprint(df.iloc[num,-1], width = 100)"
      ]
    },
    {
      "cell_type": "code",
      "execution_count": null,
      "metadata": {},
      "outputs": [
        {
          "name": "stdout",
          "output_type": "stream",
          "text": [
            "11357\n",
            "'Article 23 Deleted. <by Presidential Decree No. 20131, Jun. 28, 2007>'\n",
            "'제23조 삭제 <2007.6.28>'\n"
          ]
        }
      ],
      "source": [
        "num = random.randint(0,66643)\n",
        "print(num)\n",
        "pprint.pprint(df.iloc[num,-2], width = 200)\n",
        "pprint.pprint(df.iloc[num,-1], width = 100)"
      ]
    },
    {
      "cell_type": "code",
      "execution_count": null,
      "metadata": {},
      "outputs": [
        {
          "name": "stdout",
          "output_type": "stream",
          "text": [
            "8569\n",
            "('Article 10 (Display of Tourist Signs) (1) A tourism business operator may display tourist signs at his or her business facilities, as prescribed by Ordinance of the Ministry of Culture, Sports and '\n",
            " 'Tourism. <Amended on Feb. 29, 2008>\\n'\n",
            " '  (2) No tourism business operator shall display any false tourist sign under paragraph (1) (hereinafter referred to as “tourist sign”), or display and advertise any false information on the '\n",
            " 'tourist sign. <Newly Inserted on Mar. 11, 2014>\\n'\n",
            " '  (3) No person, other than a tourism business operator, shall display a tourist sign under paragraph (1) at his or her business facility, nor use any trade name that includes words indicating all '\n",
            " 'or some of the tourism businesses referred to in Article 3, if such words are likely to misrepresent the person as a tourism business operator. <Amended on Mar. 11, 2014>\\n'\n",
            " '  (4) The specific scope of words included in trade names of tourism businesses, which is fully or partially prohibited for use by a person, other than tourism business operators, under paragraph '\n",
            " '(3), shall be prescribed by Presidential Decree. <Amended on Mar. 11, 2014>\\n'\n",
            " '  [Title Amended on Mar. 11, 2014]')\n",
            "('제10조(관광표지의 부착 등)①관광사업자는 사업장에 문화체육관광부령으로 정하는 관광표지를 붙일 수 있다. <개정 2008.2.29>② 관광사업자는 사실과 다르게 제1항에 '\n",
            " '따른 관광표지(이하 \"관광표지\"라 한다)를 붙이거나 관광표지에 기재되는 내용을 사실과 다르게 표시 또는 광고하는 행위를 하여서는 아니 된다. <신설 '\n",
            " '2014.3.11>③관광사업자가 아닌 자는 제1항에 따른 관광표지를 사업장에 붙이지 못하며, 관광사업자로 잘못 알아볼 우려가 있는 경우에는 제3조에 따른 관광사업의 명칭 중 '\n",
            " '전부 또는 일부가 포함되는 상호를 사용할 수 없다. <개정 2014.3.11>④제3항에 따라 관광사업자가 아닌 자가 사용할 수 없는 상호에 포함되는 관광사업의 명칭 중 전부 '\n",
            " '또는 일부의 구체적인 범위에 관하여는 대통령령으로 정한다. <개정 2014.3.11>[제목개정 2014.3.11]')\n"
          ]
        }
      ],
      "source": [
        "num = random.randint(0,66643)\n",
        "print(num)\n",
        "pprint.pprint(df.iloc[num,-2], width = 200)\n",
        "pprint.pprint(df.iloc[num,-1], width = 100)"
      ]
    },
    {
      "cell_type": "code",
      "execution_count": null,
      "metadata": {},
      "outputs": [
        {
          "name": "stdout",
          "output_type": "stream",
          "text": [
            "43286\n",
            "('Article 9 (Bearing Expenses) The State and local governments shall bear all or part of the expenses needed for the early childhood education of the children of the welfare recipients as prescribed '\n",
            " 'in the Protection of Minimum Living Standards Act or the children of the low-income families as prescribed by the Presidential Decree.')\n",
            "'제9조 (비용의 부담) 국가 및 지방자치단체는 생활보호법에 의한 생활보호대상자와 대통령령이 정하는 저소득층 자녀의 유아교육에 필요한 비용의 전부 또는 일부를 부담하여야 한다.'\n"
          ]
        }
      ],
      "source": [
        "num = random.randint(0,66643)\n",
        "print(num)\n",
        "pprint.pprint(df.iloc[num,-2], width = 200)\n",
        "pprint.pprint(df.iloc[num,-1], width = 100)"
      ]
    },
    {
      "cell_type": "code",
      "execution_count": null,
      "metadata": {},
      "outputs": [
        {
          "name": "stdout",
          "output_type": "stream",
          "text": [
            "26581\n",
            "('Article 14 (Duties of Executive Officers) (1) The president shall represent the Corporation, and exercise overall control over general affairs of the Corporation.\\n'\n",
            " '  (2) Directors shall take charge of their respective affairs of the Corporation as prescribed by the articles of association, and, in cases of inability of the president under unavoidable '\n",
            " 'circumstances, act on his/her behalf in the order of priority as determined by the articles of association.\\n'\n",
            " '  (3) The auditor shall inspect and audit operations and accounting of the Corporation.\\n'\n",
            " '  [This Article Wholly Amended by Act No. 8994, Mar. 28, 2008]')\n",
            "('제14조(임원의 직무)① 이사장은 공단을 대표하고 공단의 업무를 총괄한다.② 이사는 정관으로 정하는 바에 따라 공단의 업무를 분장하며 이사장이 불가피한 사유로 직무를 수행할 '\n",
            " '수 없을 때에는 정관으로 정하는 순위에 따라 그 직무를 대리한다.③ 감사는 공단의 업무와 회계를 감사(監査)한다.[전문개정 2008.3.28]')\n"
          ]
        }
      ],
      "source": [
        "num = random.randint(0,66643)\n",
        "print(num)\n",
        "pprint.pprint(df.iloc[num,-2], width = 200)\n",
        "pprint.pprint(df.iloc[num,-1], width = 100)"
      ]
    },
    {
      "cell_type": "code",
      "execution_count": null,
      "metadata": {},
      "outputs": [
        {
          "name": "stdout",
          "output_type": "stream",
          "text": [
            "37940\n",
            "'Article 15 Deleted. <Jul. 28, 2014>'\n",
            "'제15조 삭제 <2014.7.28>'\n"
          ]
        }
      ],
      "source": [
        "num = random.randint(0,66643)\n",
        "print(num)\n",
        "pprint.pprint(df.iloc[num,-2], width = 200)\n",
        "pprint.pprint(df.iloc[num,-1], width = 100)"
      ]
    },
    {
      "cell_type": "code",
      "execution_count": null,
      "metadata": {},
      "outputs": [
        {
          "name": "stdout",
          "output_type": "stream",
          "text": [
            "34712\n",
            "('Article 88 (Principle of Bearing of Expenses)\\n'\n",
            " 'Expenses incurred in proceedings for limiting liability and the remuneration for the administrator (hereinafter referred to as \"expenses\") shall be borne by the petitioner:                         '\n",
            " 'Provided, That the foregoing shall not apply to cases otherwise provided for in this Act.                     \\n'\n",
            " '  [This Article Wholly Amended by Act No. 9833, Dec. 29, 2009]')\n",
            "('제88조(비용 부담의 원칙) 책임제한절차를 위하여 필요한 비용 및 관리인의 보수(이하 \"비용등\"이라 한다)는 신청인의 부담으로 한다. 다만, 이 법에 달리 규정된 경우에는 '\n",
            " '그러하지 아니하다.[전문개정 2009.12.29]')\n"
          ]
        }
      ],
      "source": [
        "num = random.randint(0,66643)\n",
        "print(num)\n",
        "pprint.pprint(df.iloc[num,-2], width = 200)\n",
        "pprint.pprint(df.iloc[num,-1], width = 100)"
      ]
    },
    {
      "cell_type": "code",
      "execution_count": null,
      "metadata": {},
      "outputs": [
        {
          "name": "stdout",
          "output_type": "stream",
          "text": [
            "66438\n",
            "('Article 273 (Abolition by Request) (1) If it becomes obvious that the company can perform in full all of the obligations to reorganization creditors and security holders who made reports within '\n",
            " 'the report period, the court shall decide to abolish the reorganization proceedings upon the application of the receiver, company or reported reorganization creditors or security holders. <Amended '\n",
            " 'by Act No. 6085, Dec. 31, 1999>\\n'\n",
            " '  (2) The applicant shall give a clear explanation of the facts giving rise to the abolition of the reorganization proceedings referred to in the preceding paragraph.')\n",
            "('제273조 (신청에 의한 폐지)①회사가 신고기간내에 신고한 모든 정리채권자와 정리담보권자에 대한 채무를 완제할 수 있음이 명백하게 된 때에는 법원은 관리인, 회사 또는 '\n",
            " '신고한 정리채권자나 정리담보권자의 신청에 의하여 정리절차폐지의 결정을 하여야 한다. <개정 1999.12.31>②신청인은 전항에 정하는 정리절차폐지의 원인인 사실을 '\n",
            " '소명하여야 한다.')\n"
          ]
        }
      ],
      "source": [
        "num = random.randint(0,66643)\n",
        "print(num)\n",
        "pprint.pprint(df.iloc[num,-2], width = 200)\n",
        "pprint.pprint(df.iloc[num,-1], width = 100)"
      ]
    },
    {
      "cell_type": "markdown",
      "metadata": {},
      "source": [
        "# 예외 사례"
      ]
    },
    {
      "cell_type": "markdown",
      "metadata": {},
      "source": [
        "## 1"
      ]
    },
    {
      "cell_type": "code",
      "execution_count": null,
      "metadata": {},
      "outputs": [
        {
          "name": "stdout",
          "output_type": "stream",
          "text": [
            "26847\n",
            "('Article 67 (Supplementation of Written Requests) (1) Where the Pension '\n",
            " 'Service Agency finds any defects in a written application for the '\n",
            " 'examination referred to in Article 65, it may request that an applicant or '\n",
            " 'the president of the board of directors supplement them within a given '\n",
            " 'period of time. \\n'\n",
            " '  (2) If an applicant fails to supplement them by a given period of time '\n",
            " 'prescribed in paragraph (1) without good cause and if it is not possible to '\n",
            " 'conduct an examination of benefits based solely on the facts stated in the '\n",
            " 'written application, the Pension Service Agency may dismiss an '\n",
            " 'application. \\n'\n",
            " '  [This Article Wholly Amended by Presidential Decree No. 22943, May 30, '\n",
            " '2011]')\n",
            "('제67조(청구서의 보완 등)① 연금관리단은 제65조에 따른 심사청구서에서 미비사항을 발견한 경우에는 기간을 정하여 청구인 또는 이사장에게 '\n",
            " '보완을 요구할 수 있다.② 청구인이 정당한 사유 없이 제1항에 따른 보완기간 내에 보완을 하지 아니하고 청구서에 적힌 사실만으로는 '\n",
            " '급여심사를 할 수 없을 때에는 그 청구를 기각할 수 있다.[전문개정 2011.5.30]\\n'\n",
            " '\\t\\t\\n'\n",
            " '\\t\\t[제54조에서 이동 <2011.5.30>]')\n"
          ]
        }
      ],
      "source": [
        "num = random.randint(0,66643)\n",
        "print(num)\n",
        "pprint.pprint(df.iloc[num,-2])\n",
        "pprint.pprint(df.iloc[num,-1])"
      ]
    },
    {
      "cell_type": "code",
      "execution_count": null,
      "metadata": {},
      "outputs": [
        {
          "data": {
            "text/plain": [
              "'ENFORCEMENT DECREE OF THE SPECIAL POST OFFICES ACT'"
            ]
          },
          "execution_count": 145,
          "metadata": {},
          "output_type": "execute_result"
        }
      ],
      "source": [
        "df.iloc[26847,1]"
      ]
    },
    {
      "cell_type": "code",
      "execution_count": null,
      "metadata": {},
      "outputs": [],
      "source": [
        "kor_url = 'https://www.law.go.kr/DRF/lawService.do?OC=seokhee051&target=law' \\\n",
        "        + '&LM=' + str(df.iloc[26847,0])\n",
        "        # + '&ID=' + str(법령ID)\n",
        "kor_response = requests.get(kor_url)\n",
        "kor_contents = kor_response.text\n",
        "kor_dict_contents = xmltodict.parse(kor_contents)"
      ]
    },
    {
      "cell_type": "code",
      "execution_count": null,
      "metadata": {},
      "outputs": [
        {
          "data": {
            "text/plain": [
              "{'법령ID': '003623',\n",
              " '공포일자': '20210105',\n",
              " '공포번호': '31380',\n",
              " '언어': '한글',\n",
              " '법종구분': {'@법종구분코드': 'A0007', '#text': '대통령령'},\n",
              " '법령명_한글': '별정우체국법 시행령',\n",
              " '법령명_한자': '별정우체국법 시행령',\n",
              " '법령명약칭': None,\n",
              " '제명변경여부': 'N',\n",
              " '한글법령여부': 'Y',\n",
              " '편장절관': '43010000',\n",
              " '소관부처': {'@소관부처코드': '1721000', '#text': '과학기술정보통신부'},\n",
              " '전화번호': '044-200-8187, 8188',\n",
              " '시행일자': '20210105',\n",
              " '제개정구분': '타법개정',\n",
              " '별표편집여부': 'Y',\n",
              " '공포법령여부': 'Y',\n",
              " '연락부서': {'부서단위': {'@부서키': '209015',\n",
              "   '소관부처명': '과학기술정보통신부',\n",
              "   '소관부처코드': '1721000',\n",
              "   '부서명': '우정사업본부 기반시설기획담당관',\n",
              "   '부서연락처': '044-200-8187, 8188'}}}"
            ]
          },
          "execution_count": 166,
          "metadata": {},
          "output_type": "execute_result"
        }
      ],
      "source": [
        "kor_dict_contents['법령']['기본정보']"
      ]
    },
    {
      "cell_type": "code",
      "execution_count": null,
      "metadata": {},
      "outputs": [
        {
          "name": "stdout",
          "output_type": "stream",
          "text": [
            "{'@조문키': '0067001',\n",
            " '조문내용': '제67조(청구서의 보완 등)',\n",
            " '조문번호': '67',\n",
            " '조문변경여부': 'N',\n",
            " '조문시행일자': '20210105',\n",
            " '조문여부': '조문',\n",
            " '조문이동이전': '000000',\n",
            " '조문이동이후': '000000',\n",
            " '조문제목': '청구서의 보완 등',\n",
            " '조문참고자료': '[전문개정 2011.5.30]\\n\\t\\t\\n\\t\\t[제54조에서 이동 <2011.5.30>]',\n",
            " '항': [{'항내용': '① 연금관리단은 제65조에 따른 심사청구서에서 미비사항을 발견한 경우에는 기간을 정하여 청구인 또는 이사장에게 '\n",
            "               '보완을 요구할 수 있다.',\n",
            "        '항번호': '①'},\n",
            "       {'항내용': '② 청구인이 정당한 사유 없이 제1항에 따른 보완기간 내에 보완을 하지 아니하고 청구서에 적힌 사실만으로는 '\n",
            "               '급여심사를 할 수 없을 때에는 그 청구를 기각할 수 있다.',\n",
            "        '항번호': '②'}]}\n"
          ]
        }
      ],
      "source": [
        "for v in kor_dict_contents['법령']['조문']['조문단위']:\n",
        "    if  v['조문번호'] == '67':\n",
        "        pprint.pprint(v)"
      ]
    },
    {
      "cell_type": "code",
      "execution_count": null,
      "metadata": {},
      "outputs": [
        {
          "data": {
            "text/plain": [
              "{'Law': '일치하는 영문법령이 없습니다.  영문법령명을 확인하여 주십시오.'}"
            ]
          },
          "execution_count": 174,
          "metadata": {},
          "output_type": "execute_result"
        }
      ],
      "source": [
        "eng_url = 'https://www.law.go.kr/DRF/lawService.do?OC=seokhee051&target=elaw' \\\n",
        "        + '&ID=' + str('003623')\n",
        "        # + '&LM=' + str('ENFORCEMENT DECREE OF THE SPECIAL POST OFFICES ACT')\n",
        "        # + '&MST=' + str(df.iloc[26847,0])\n",
        "eng_response = requests.get(eng_url)\n",
        "eng_contents = eng_response.text\n",
        "eng_dict_contents = xmltodict.parse(eng_contents)\n",
        "eng_dict_contents"
      ]
    },
    {
      "cell_type": "code",
      "execution_count": null,
      "metadata": {},
      "outputs": [],
      "source": []
    },
    {
      "cell_type": "code",
      "execution_count": null,
      "metadata": {},
      "outputs": [
        {
          "ename": "KeyError",
          "evalue": "'Law'",
          "output_type": "error",
          "traceback": [
            "\u001b[1;31m---------------------------------------------------------------------------\u001b[0m",
            "\u001b[1;31mKeyError\u001b[0m                                  Traceback (most recent call last)",
            "\u001b[1;32mc:\\Users\\seokhee\\dev\\kb인턴\\크롤링.ipynb 셀 37\u001b[0m in \u001b[0;36m<cell line: 1>\u001b[1;34m()\u001b[0m\n\u001b[1;32m----> <a href='vscode-notebook-cell:/c%3A/Users/seokhee/dev/kb%EC%9D%B8%ED%84%B4/%ED%81%AC%EB%A1%A4%EB%A7%81.ipynb#Y230sZmlsZQ%3D%3D?line=0'>1</a>\u001b[0m \u001b[39mfor\u001b[39;00m v \u001b[39min\u001b[39;00m eng_dict_contents[\u001b[39m'\u001b[39;49m\u001b[39mLaw\u001b[39;49m\u001b[39m'\u001b[39;49m][\u001b[39m'\u001b[39m\u001b[39mJoSection\u001b[39m\u001b[39m'\u001b[39m][\u001b[39m'\u001b[39m\u001b[39mJo\u001b[39m\u001b[39m'\u001b[39m]:\n\u001b[0;32m      <a href='vscode-notebook-cell:/c%3A/Users/seokhee/dev/kb%EC%9D%B8%ED%84%B4/%ED%81%AC%EB%A1%A4%EB%A7%81.ipynb#Y230sZmlsZQ%3D%3D?line=1'>2</a>\u001b[0m     \u001b[39mif\u001b[39;00m  v[\u001b[39m'\u001b[39m\u001b[39m@No\u001b[39m\u001b[39m'\u001b[39m] \u001b[39m==\u001b[39m \u001b[39m'\u001b[39m\u001b[39m67\u001b[39m\u001b[39m'\u001b[39m:\n\u001b[0;32m      <a href='vscode-notebook-cell:/c%3A/Users/seokhee/dev/kb%EC%9D%B8%ED%84%B4/%ED%81%AC%EB%A1%A4%EB%A7%81.ipynb#Y230sZmlsZQ%3D%3D?line=2'>3</a>\u001b[0m         pprint\u001b[39m.\u001b[39mpprint(v)\n",
            "\u001b[1;31mKeyError\u001b[0m: 'Law'"
          ]
        }
      ],
      "source": [
        "for v in eng_dict_contents['Law']['JoSection']['Jo']:\n",
        "    if  v['@No'] == '67':\n",
        "        pprint.pprint(v)"
      ]
    },
    {
      "cell_type": "markdown",
      "metadata": {},
      "source": [
        "## 2"
      ]
    },
    {
      "cell_type": "code",
      "execution_count": null,
      "metadata": {},
      "outputs": [
        {
          "name": "stdout",
          "output_type": "stream",
          "text": [
            "63885\n",
            "('Article 32 (Direct Compulsion) (1) Direct compulsion shall be enforced where it is impracticable to secure the performance of an administrative obligation or where it is impossible to realize such '\n",
            " 'obligationby means of administrative vicarious execution or the imposition of a charge for compelling compliance.\\n'\n",
            " '  (2) A person in charge of enforcement who is dispatched to the scene to enforce direct compulsion shall present a certificate indicating that he or she is in charge of enforcement.\\n'\n",
            " '  (3) Article 31 (3) and (4) shall apply mutatis mutandis to warnings and notices of direct compulsion.\\n'\n",
            " '  [Enforcement Date: Mar. 24, 2023] Article 32')\n",
            "('제32조(직접강제)① 직접강제는 행정대집행이나 이행강제금 부과의 방법으로는 행정상 의무 이행을 확보할 수 없거나 그 실현이 불가능한 경우에 실시하여야 한다.② 직접강제를 '\n",
            " '실시하기 위하여 현장에 파견되는 집행책임자는 그가 집행책임자임을 표시하는 증표를 보여 주어야 한다.③ 직접강제의 계고 및 통지에 관하여는 제31조제3항 및 제4항을 '\n",
            " '준용한다.')\n"
          ]
        }
      ],
      "source": [
        "num = random.randint(0,66643)\n",
        "print(num)\n",
        "pprint.pprint(df.iloc[num,-2], width = 200)\n",
        "pprint.pprint(df.iloc[num,-1], width = 100)"
      ]
    },
    {
      "cell_type": "code",
      "execution_count": null,
      "metadata": {},
      "outputs": [
        {
          "data": {
            "text/plain": [
              "'행정기본법'"
            ]
          },
          "execution_count": 92,
          "metadata": {},
          "output_type": "execute_result"
        }
      ],
      "source": [
        "df.iloc[63885,0]"
      ]
    },
    {
      "cell_type": "code",
      "execution_count": null,
      "metadata": {},
      "outputs": [],
      "source": [
        "kor_url = 'https://www.law.go.kr/DRF/lawService.do?OC=seokhee051&target=law' \\\n",
        "        + '&LM=' + str('행정기본법')\n",
        "        # + '&ID=' + str(법령ID)\n",
        "kor_response = requests.get(kor_url)\n",
        "kor_contents = kor_response.text\n",
        "kor_dict_contents = xmltodict.parse(kor_contents)"
      ]
    },
    {
      "cell_type": "code",
      "execution_count": null,
      "metadata": {},
      "outputs": [
        {
          "name": "stdout",
          "output_type": "stream",
          "text": [
            "{'@조문키': '0032001',\n",
            " '조문내용': '제32조(직접강제)',\n",
            " '조문번호': '32',\n",
            " '조문변경여부': 'N',\n",
            " '조문시행일자': '20230628',\n",
            " '조문여부': '조문',\n",
            " '조문이동이전': None,\n",
            " '조문이동이후': None,\n",
            " '조문제목': '직접강제',\n",
            " '항': [{'항내용': '① 직접강제는 행정대집행이나 이행강제금 부과의 방법으로는 행정상 의무 이행을 확보할 수 없거나 그 실현이 '\n",
            "               '불가능한 경우에 실시하여야 한다.',\n",
            "        '항번호': '①'},\n",
            "       {'항내용': '② 직접강제를 실시하기 위하여 현장에 파견되는 집행책임자는 그가 집행책임자임을 표시하는 증표를 보여 주어야 '\n",
            "               '한다.',\n",
            "        '항번호': '②'},\n",
            "       {'항내용': '③ 직접강제의 계고 및 통지에 관하여는 제31조제3항 및 제4항을 준용한다.', '항번호': '③'}]}\n"
          ]
        }
      ],
      "source": [
        "for v in kor_dict_contents['법령']['조문']['조문단위']:\n",
        "    if  v['조문번호'] == '32':\n",
        "        pprint.pprint(v)"
      ]
    },
    {
      "cell_type": "markdown",
      "metadata": {},
      "source": []
    },
    {
      "cell_type": "code",
      "execution_count": null,
      "metadata": {},
      "outputs": [],
      "source": []
    }
  ],
  "metadata": {
    "colab": {
      "provenance": []
    },
    "kernelspec": {
      "display_name": "Python 3",
      "name": "python3"
    },
    "language_info": {
      "codemirror_mode": {
        "name": "ipython",
        "version": 3
      },
      "file_extension": ".py",
      "mimetype": "text/x-python",
      "name": "python",
      "nbconvert_exporter": "python",
      "pygments_lexer": "ipython3",
      "version": "3.9.12"
    }
  },
  "nbformat": 4,
  "nbformat_minor": 0
}

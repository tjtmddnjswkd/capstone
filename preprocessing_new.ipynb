{
  "cells": [
    {
      "cell_type": "markdown",
      "metadata": {
        "colab_type": "text",
        "id": "view-in-github"
      },
      "source": [
        "<a href=\"https://colab.research.google.com/github/tjtmddnjswkd/capstone/blob/jc/preprocessing_new.ipynb\" target=\"_parent\"><img src=\"https://colab.research.google.com/assets/colab-badge.svg\" alt=\"Open In Colab\"/></a>"
      ]
    },
    {
      "cell_type": "code",
      "execution_count": 1,
      "metadata": {
        "colab": {
          "base_uri": "https://localhost:8080/"
        },
        "id": "QjbMqf9g2Ney",
        "outputId": "d3fbdf1f-4042-4aa1-c10d-54a175e12111"
      },
      "outputs": [],
      "source": [
        "try:\n",
        "    from google.colab import drive\n",
        "    drive.mount('/content/drive')\n",
        "except:\n",
        "    pass"
      ]
    },
    {
      "cell_type": "markdown",
      "metadata": {
        "id": "u91ZxlnS-VYh",
        "outputId": "74693805-cdba-4858-cb79-b91f8e15d4d6"
      },
      "source": [
        "# 1.Pure Data 확인\n",
        "\n",
        "- Pure Data는 Raw Data의 Tag 기반에서 Pair를 이루는 데이터 셋 (이전 크롤)\n",
        "- Pure Data를 바탕으로 전처리 고민"
      ]
    },
    {
      "cell_type": "code",
      "execution_count": 2,
      "metadata": {
        "id": "Kx8nuGpA2BKm"
      },
      "outputs": [],
      "source": [
        "import pandas as pd\n",
        "import pickle\n",
        "\n",
        "try:\n",
        "    gdrive_path = r'G:\\내 드라이브\\KB인턴관련'\n",
        "    df = pd.read_csv(gdrive_path+'/crawl_total.csv', encoding='euc-kr')\n",
        "except:\n",
        "    gdrive_path = \"/content/drive/MyDrive/KB인턴관련\"\n",
        "    df = pd.read_csv(gdrive_path+'/crawl_total.csv', encoding='euc-kr')\n",
        "\n",
        "with open(gdrive_path+'/exception_list.pkl', 'rb') as f:\n",
        "  exception_list = pickle.load(f)"
      ]
    },
    {
      "cell_type": "code",
      "execution_count": 3,
      "metadata": {
        "colab": {
          "base_uri": "https://localhost:8080/"
        },
        "id": "OfRGNladwPsU",
        "outputId": "d8d5c4a4-0f73-4038-e135-84361f59ab5b"
      },
      "outputs": [
        {
          "name": "stdout",
          "output_type": "stream",
          "text": [
            "<class 'pandas.core.frame.DataFrame'>\n",
            "RangeIndex: 220521 entries, 0 to 220520\n",
            "Data columns (total 4 columns):\n",
            " #   Column    Non-Null Count   Dtype \n",
            "---  ------    --------------   ----- \n",
            " 0   category  220521 non-null  object\n",
            " 1   lawName   220521 non-null  object\n",
            " 2   ENG       220521 non-null  object\n",
            " 3   KOR       220514 non-null  object\n",
            "dtypes: object(4)\n",
            "memory usage: 6.7+ MB\n"
          ]
        }
      ],
      "source": [
        "df.info()"
      ]
    },
    {
      "cell_type": "code",
      "execution_count": 4,
      "metadata": {
        "colab": {
          "base_uri": "https://localhost:8080/"
        },
        "id": "MP5IcW8ywRqw",
        "outputId": "d0a44a7d-0a4f-451c-d8f2-c5835bd4ba1f"
      },
      "outputs": [
        {
          "name": "stdout",
          "output_type": "stream",
          "text": [
            "1193\n"
          ]
        },
        {
          "data": {
            "text/plain": [
              "['겨레말큰사전남북공동편찬사업회법',\n",
              " '국가장법',\n",
              " '남북교류협력에 관한 법률',\n",
              " '남북협력기금법',\n",
              " '대한민국헌법',\n",
              " '법령 등 공포에 관한 법률',\n",
              " '북한이탈주민의 보호 및 정착지원에 관한 법률',\n",
              " '북한이탈주민의 보호 및 정착지원에 관한 법률 시행령',\n",
              " '상훈법',\n",
              " '생활물류서비스산업발전법 시행령']"
            ]
          },
          "execution_count": 4,
          "metadata": {},
          "output_type": "execute_result"
        }
      ],
      "source": [
        "print(len(exception_list))\n",
        "exception_list[:10]"
      ]
    },
    {
      "cell_type": "markdown",
      "metadata": {
        "id": "jJum7rtvwq70"
      },
      "source": [
        "## 1.1.Crawl Data 확인"
      ]
    },
    {
      "cell_type": "code",
      "execution_count": 5,
      "metadata": {
        "colab": {
          "base_uri": "https://localhost:8080/",
          "height": 269
        },
        "id": "uY028i9mwuyB",
        "outputId": "bfc071e9-e357-411e-808d-b1b096449c1c"
      },
      "outputs": [
        {
          "data": {
            "text/html": [
              "<div>\n",
              "<style scoped>\n",
              "    .dataframe tbody tr th:only-of-type {\n",
              "        vertical-align: middle;\n",
              "    }\n",
              "\n",
              "    .dataframe tbody tr th {\n",
              "        vertical-align: top;\n",
              "    }\n",
              "\n",
              "    .dataframe thead th {\n",
              "        text-align: right;\n",
              "    }\n",
              "</style>\n",
              "<table border=\"1\" class=\"dataframe\">\n",
              "  <thead>\n",
              "    <tr style=\"text-align: right;\">\n",
              "      <th></th>\n",
              "      <th>category</th>\n",
              "      <th>lawName</th>\n",
              "      <th>ENG</th>\n",
              "      <th>KOR</th>\n",
              "    </tr>\n",
              "  </thead>\n",
              "  <tbody>\n",
              "    <tr>\n",
              "      <th>39667</th>\n",
              "      <td>군사</td>\n",
              "      <td>대체역의 편입 및 복무 등에 관한 법률 시행령</td>\n",
              "      <td>Previous mandatory service period - the number...</td>\n",
              "      <td>NaN</td>\n",
              "    </tr>\n",
              "    <tr>\n",
              "      <th>39668</th>\n",
              "      <td>군사</td>\n",
              "      <td>대체역의 편입 및 복무 등에 관한 법률 시행령</td>\n",
              "      <td>Previous mandatory service period - the number...</td>\n",
              "      <td>NaN</td>\n",
              "    </tr>\n",
              "    <tr>\n",
              "      <th>79104</th>\n",
              "      <td>통화ㆍ국채ㆍ금융</td>\n",
              "      <td>금융위원회의 설치 등에 관한 법률 시행령</td>\n",
              "      <td>Shares in expenses paid under Article 47 (1) o...</td>\n",
              "      <td>NaN</td>\n",
              "    </tr>\n",
              "    <tr>\n",
              "      <th>107052</th>\n",
              "      <td>상업ㆍ무역ㆍ공업</td>\n",
              "      <td>벤처기업육성에 관한 특별조치법 시행령</td>\n",
              "      <td>(Market price as at the date stock option is g...</td>\n",
              "      <td>NaN</td>\n",
              "    </tr>\n",
              "    <tr>\n",
              "      <th>112590</th>\n",
              "      <td>상업ㆍ무역ㆍ공업</td>\n",
              "      <td>할부거래에 관한 법률 시행령</td>\n",
              "      <td>Amount to be reserved = (The amount received i...</td>\n",
              "      <td>NaN</td>\n",
              "    </tr>\n",
              "    <tr>\n",
              "      <th>170002</th>\n",
              "      <td>환경</td>\n",
              "      <td>가습기살균제 피해구제를 위한 특별법</td>\n",
              "      <td>Contribution = 100 billion won ×｛(usage ratio ...</td>\n",
              "      <td>NaN</td>\n",
              "    </tr>\n",
              "    <tr>\n",
              "      <th>187029</th>\n",
              "      <td>환경</td>\n",
              "      <td>환경영향평가법 시행령</td>\n",
              "      <td>[Area prescribed in subparagraph 1 / Minimum a...</td>\n",
              "      <td>NaN</td>\n",
              "    </tr>\n",
              "  </tbody>\n",
              "</table>\n",
              "</div>"
            ],
            "text/plain": [
              "        category                    lawName  \\\n",
              "39667         군사  대체역의 편입 및 복무 등에 관한 법률 시행령   \n",
              "39668         군사  대체역의 편입 및 복무 등에 관한 법률 시행령   \n",
              "79104   통화ㆍ국채ㆍ금융     금융위원회의 설치 등에 관한 법률 시행령   \n",
              "107052  상업ㆍ무역ㆍ공업       벤처기업육성에 관한 특별조치법 시행령   \n",
              "112590  상업ㆍ무역ㆍ공업            할부거래에 관한 법률 시행령   \n",
              "170002        환경        가습기살균제 피해구제를 위한 특별법   \n",
              "187029        환경                환경영향평가법 시행령   \n",
              "\n",
              "                                                      ENG  KOR  \n",
              "39667   Previous mandatory service period - the number...  NaN  \n",
              "39668   Previous mandatory service period - the number...  NaN  \n",
              "79104   Shares in expenses paid under Article 47 (1) o...  NaN  \n",
              "107052  (Market price as at the date stock option is g...  NaN  \n",
              "112590  Amount to be reserved = (The amount received i...  NaN  \n",
              "170002  Contribution = 100 billion won ×｛(usage ratio ...  NaN  \n",
              "187029  [Area prescribed in subparagraph 1 / Minimum a...  NaN  "
            ]
          },
          "execution_count": 5,
          "metadata": {},
          "output_type": "execute_result"
        }
      ],
      "source": [
        "# KOR 에서 NaN이 존재하는 것으로 보임\n",
        "df.loc[df.KOR.isna()]"
      ]
    },
    {
      "cell_type": "code",
      "execution_count": 6,
      "metadata": {
        "colab": {
          "base_uri": "https://localhost:8080/",
          "height": 629
        },
        "id": "k9IWYRlRxE5J",
        "outputId": "a804e80b-6860-4029-b16e-0d528a37e9fe"
      },
      "outputs": [
        {
          "data": {
            "text/html": [
              "<div>\n",
              "<style scoped>\n",
              "    .dataframe tbody tr th:only-of-type {\n",
              "        vertical-align: middle;\n",
              "    }\n",
              "\n",
              "    .dataframe tbody tr th {\n",
              "        vertical-align: top;\n",
              "    }\n",
              "\n",
              "    .dataframe thead th {\n",
              "        text-align: right;\n",
              "    }\n",
              "</style>\n",
              "<table border=\"1\" class=\"dataframe\">\n",
              "  <thead>\n",
              "    <tr style=\"text-align: right;\">\n",
              "      <th></th>\n",
              "      <th>category</th>\n",
              "      <th>lawName</th>\n",
              "      <th>ENG</th>\n",
              "      <th>KOR</th>\n",
              "    </tr>\n",
              "  </thead>\n",
              "  <tbody>\n",
              "    <tr>\n",
              "      <th>39660</th>\n",
              "      <td>군사</td>\n",
              "      <td>대체역의 편입 및 복무 등에 관한 법률 시행령</td>\n",
              "      <td>4. Where he consumes alcohol or commits acts i...</td>\n",
              "      <td>4. 일과시간 중 음주, 풍기문란 행위를 한 경우</td>\n",
              "    </tr>\n",
              "    <tr>\n",
              "      <th>39661</th>\n",
              "      <td>군사</td>\n",
              "      <td>대체역의 편입 및 복무 등에 관한 법률 시행령</td>\n",
              "      <td>5. Where he commits other acts in violation of...</td>\n",
              "      <td>5. 그 밖에 제31조제1항에 따른 복무수칙을 위반한 경우</td>\n",
              "    </tr>\n",
              "    <tr>\n",
              "      <th>39662</th>\n",
              "      <td>군사</td>\n",
              "      <td>대체역의 편입 및 복무 등에 관한 법률 시행령</td>\n",
              "      <td>(1) \"Where he falls under any ground prescribe...</td>\n",
              "      <td>① 법 제24조제2항제5호에서 “정당한 사유 없이 맡은 대체업무를 수행하지 아니하거...</td>\n",
              "    </tr>\n",
              "    <tr>\n",
              "      <th>39663</th>\n",
              "      <td>군사</td>\n",
              "      <td>대체역의 편입 및 복무 등에 관한 법률 시행령</td>\n",
              "      <td>(2) Each alternative service agency shall have...</td>\n",
              "      <td>② 법 제24조제2항 각 호 외의 부분 본문에 따른 경고 등 대체복무 운영에 필요한...</td>\n",
              "    </tr>\n",
              "    <tr>\n",
              "      <th>39664</th>\n",
              "      <td>군사</td>\n",
              "      <td>대체역의 편입 및 복무 등에 관한 법률 시행령</td>\n",
              "      <td>(3) Matters necessary for the functions, compo...</td>\n",
              "      <td>③ 제2항에 따른 대체복무 운영위원회의 기능, 구성 및 운영 등에 필요한 사항은 소...</td>\n",
              "    </tr>\n",
              "    <tr>\n",
              "      <th>39665</th>\n",
              "      <td>군사</td>\n",
              "      <td>대체역의 편입 및 복무 등에 관한 법률 시행령</td>\n",
              "      <td>(1) Where a person assigned to alternative ser...</td>\n",
              "      <td>① 대체역으로 편입된 사람이 법 제25조제1항제7호에 따라 편입 취소를 원하는 경우...</td>\n",
              "    </tr>\n",
              "    <tr>\n",
              "      <th>39666</th>\n",
              "      <td>군사</td>\n",
              "      <td>대체역의 편입 및 복무 등에 관한 법률 시행령</td>\n",
              "      <td>(2) Upon receipt of an application for cancell...</td>\n",
              "      <td>② 제1항 후단에 따라 대체역 편입 취소 신청서를 제출받은 대체복무기관의 장은 그 ...</td>\n",
              "    </tr>\n",
              "    <tr>\n",
              "      <th>39667</th>\n",
              "      <td>군사</td>\n",
              "      <td>대체역의 편입 및 복무 등에 관한 법률 시행령</td>\n",
              "      <td>Previous mandatory service period - the number...</td>\n",
              "      <td>NaN</td>\n",
              "    </tr>\n",
              "    <tr>\n",
              "      <th>39668</th>\n",
              "      <td>군사</td>\n",
              "      <td>대체역의 편입 및 복무 등에 관한 법률 시행령</td>\n",
              "      <td>Previous mandatory service period - the number...</td>\n",
              "      <td>NaN</td>\n",
              "    </tr>\n",
              "    <tr>\n",
              "      <th>39669</th>\n",
              "      <td>군사</td>\n",
              "      <td>대체역의 편입 및 복무 등에 관한 법률 시행령</td>\n",
              "      <td>1. A person who shall enlist in active duty se...</td>\n",
              "      <td>1. 현역병으로 입영하게 될 사람:</td>\n",
              "    </tr>\n",
              "    <tr>\n",
              "      <th>39670</th>\n",
              "      <td>군사</td>\n",
              "      <td>대체역의 편입 및 복무 등에 관한 법률 시행령</td>\n",
              "      <td>2. A person who shall be called to serve as so...</td>\n",
              "      <td>2. 사회복무요원으로 소집될 사람:</td>\n",
              "    </tr>\n",
              "  </tbody>\n",
              "</table>\n",
              "</div>"
            ],
            "text/plain": [
              "      category                    lawName  \\\n",
              "39660       군사  대체역의 편입 및 복무 등에 관한 법률 시행령   \n",
              "39661       군사  대체역의 편입 및 복무 등에 관한 법률 시행령   \n",
              "39662       군사  대체역의 편입 및 복무 등에 관한 법률 시행령   \n",
              "39663       군사  대체역의 편입 및 복무 등에 관한 법률 시행령   \n",
              "39664       군사  대체역의 편입 및 복무 등에 관한 법률 시행령   \n",
              "39665       군사  대체역의 편입 및 복무 등에 관한 법률 시행령   \n",
              "39666       군사  대체역의 편입 및 복무 등에 관한 법률 시행령   \n",
              "39667       군사  대체역의 편입 및 복무 등에 관한 법률 시행령   \n",
              "39668       군사  대체역의 편입 및 복무 등에 관한 법률 시행령   \n",
              "39669       군사  대체역의 편입 및 복무 등에 관한 법률 시행령   \n",
              "39670       군사  대체역의 편입 및 복무 등에 관한 법률 시행령   \n",
              "\n",
              "                                                     ENG  \\\n",
              "39660  4. Where he consumes alcohol or commits acts i...   \n",
              "39661  5. Where he commits other acts in violation of...   \n",
              "39662  (1) \"Where he falls under any ground prescribe...   \n",
              "39663  (2) Each alternative service agency shall have...   \n",
              "39664  (3) Matters necessary for the functions, compo...   \n",
              "39665  (1) Where a person assigned to alternative ser...   \n",
              "39666  (2) Upon receipt of an application for cancell...   \n",
              "39667  Previous mandatory service period - the number...   \n",
              "39668  Previous mandatory service period - the number...   \n",
              "39669  1. A person who shall enlist in active duty se...   \n",
              "39670  2. A person who shall be called to serve as so...   \n",
              "\n",
              "                                                     KOR  \n",
              "39660                        4. 일과시간 중 음주, 풍기문란 행위를 한 경우  \n",
              "39661                   5. 그 밖에 제31조제1항에 따른 복무수칙을 위반한 경우  \n",
              "39662  ① 법 제24조제2항제5호에서 “정당한 사유 없이 맡은 대체업무를 수행하지 아니하거...  \n",
              "39663  ② 법 제24조제2항 각 호 외의 부분 본문에 따른 경고 등 대체복무 운영에 필요한...  \n",
              "39664  ③ 제2항에 따른 대체복무 운영위원회의 기능, 구성 및 운영 등에 필요한 사항은 소...  \n",
              "39665  ① 대체역으로 편입된 사람이 법 제25조제1항제7호에 따라 편입 취소를 원하는 경우...  \n",
              "39666  ② 제1항 후단에 따라 대체역 편입 취소 신청서를 제출받은 대체복무기관의 장은 그 ...  \n",
              "39667                                                NaN  \n",
              "39668                                                NaN  \n",
              "39669                                1. 현역병으로 입영하게 될 사람:  \n",
              "39670                                2. 사회복무요원으로 소집될 사람:  "
            ]
          },
          "execution_count": 6,
          "metadata": {},
          "output_type": "execute_result"
        }
      ],
      "source": [
        "df.loc[39660:39670,:] # NaN의 전후로 값은 잘 들어갔음을 알 수 있음"
      ]
    },
    {
      "cell_type": "code",
      "execution_count": 7,
      "metadata": {
        "colab": {
          "base_uri": "https://localhost:8080/",
          "height": 337
        },
        "id": "YZhxDiqYyOSc",
        "outputId": "f1a6d3f3-40cb-4c59-85f6-803b6b01a4d7"
      },
      "outputs": [
        {
          "data": {
            "text/html": [
              "<div>\n",
              "<style scoped>\n",
              "    .dataframe tbody tr th:only-of-type {\n",
              "        vertical-align: middle;\n",
              "    }\n",
              "\n",
              "    .dataframe tbody tr th {\n",
              "        vertical-align: top;\n",
              "    }\n",
              "\n",
              "    .dataframe thead th {\n",
              "        text-align: right;\n",
              "    }\n",
              "</style>\n",
              "<table border=\"1\" class=\"dataframe\">\n",
              "  <thead>\n",
              "    <tr style=\"text-align: right;\">\n",
              "      <th></th>\n",
              "      <th>category</th>\n",
              "      <th>lawName</th>\n",
              "      <th>ENG</th>\n",
              "      <th>KOR</th>\n",
              "    </tr>\n",
              "  </thead>\n",
              "  <tbody>\n",
              "    <tr>\n",
              "      <th>220509</th>\n",
              "      <td>-</td>\n",
              "      <td>주한미군 소속 한국인 근로자의 지원을 위한 특별법</td>\n",
              "      <td>1. The person is found to have been paid the s...</td>\n",
              "      <td>1. 거짓이나 그 밖의 부정한 방법으로 지원금의 지급을 받은 경우</td>\n",
              "    </tr>\n",
              "    <tr>\n",
              "      <th>220510</th>\n",
              "      <td>-</td>\n",
              "      <td>주한미군 소속 한국인 근로자의 지원을 위한 특별법</td>\n",
              "      <td>2. The subsidy is found to have been paid erro...</td>\n",
              "      <td>2. 이 법에서 정한 기준에서 벗어나 잘못 지급된 경우</td>\n",
              "    </tr>\n",
              "    <tr>\n",
              "      <th>220511</th>\n",
              "      <td>-</td>\n",
              "      <td>주한미군 소속 한국인 근로자의 지원을 위한 특별법</td>\n",
              "      <td>(1) The State may recover, in whole or in part...</td>\n",
              "      <td>① 국가는 이 법에 따른 지원금을 받은 사람이 다음 각 호의 어느 하나에 해당하는 ...</td>\n",
              "    </tr>\n",
              "    <tr>\n",
              "      <th>220512</th>\n",
              "      <td>-</td>\n",
              "      <td>주한미군 소속 한국인 근로자의 지원을 위한 특별법</td>\n",
              "      <td>(2) Where a person who should return a subsidy...</td>\n",
              "      <td>② 제1항에 따라 환수하는 경우 그 반환할 사람이 정하여진 기간 이내에 이를 반환하...</td>\n",
              "    </tr>\n",
              "    <tr>\n",
              "      <th>220513</th>\n",
              "      <td>-</td>\n",
              "      <td>주한미군 소속 한국인 근로자의 지원을 위한 특별법</td>\n",
              "      <td>(3) The right to be paid a subsidy under this ...</td>\n",
              "      <td>③ 이 법에 따른 지원금의 지급을 받을 권리는 그 지원금 결정서 정본이 신청인에게 ...</td>\n",
              "    </tr>\n",
              "  </tbody>\n",
              "</table>\n",
              "</div>"
            ],
            "text/plain": [
              "       category                      lawName  \\\n",
              "220509        -  주한미군 소속 한국인 근로자의 지원을 위한 특별법   \n",
              "220510        -  주한미군 소속 한국인 근로자의 지원을 위한 특별법   \n",
              "220511        -  주한미군 소속 한국인 근로자의 지원을 위한 특별법   \n",
              "220512        -  주한미군 소속 한국인 근로자의 지원을 위한 특별법   \n",
              "220513        -  주한미군 소속 한국인 근로자의 지원을 위한 특별법   \n",
              "\n",
              "                                                      ENG  \\\n",
              "220509  1. The person is found to have been paid the s...   \n",
              "220510  2. The subsidy is found to have been paid erro...   \n",
              "220511  (1) The State may recover, in whole or in part...   \n",
              "220512  (2) Where a person who should return a subsidy...   \n",
              "220513  (3) The right to be paid a subsidy under this ...   \n",
              "\n",
              "                                                      KOR  \n",
              "220509               1. 거짓이나 그 밖의 부정한 방법으로 지원금의 지급을 받은 경우  \n",
              "220510                     2. 이 법에서 정한 기준에서 벗어나 잘못 지급된 경우  \n",
              "220511  ① 국가는 이 법에 따른 지원금을 받은 사람이 다음 각 호의 어느 하나에 해당하는 ...  \n",
              "220512  ② 제1항에 따라 환수하는 경우 그 반환할 사람이 정하여진 기간 이내에 이를 반환하...  \n",
              "220513  ③ 이 법에 따른 지원금의 지급을 받을 권리는 그 지원금 결정서 정본이 신청인에게 ...  "
            ]
          },
          "execution_count": 7,
          "metadata": {},
          "output_type": "execute_result"
        }
      ],
      "source": [
        "df_notnull = df.dropna(subset=[\"KOR\"], axis=0).reset_index(drop=True)\n",
        "df_notnull.tail()"
      ]
    },
    {
      "cell_type": "markdown",
      "metadata": {
        "id": "bt20srWAHCQd"
      },
      "source": [
        "## 1.2.전처리 목록\n",
        "\n",
        "- \"(1)\" 포맷\n",
        "- \"①\" 포맷\n",
        "- \"<>\" 포맷\n",
        "- \"[]\" 포맷\n",
        "- \"(한자)\" 포맷\n",
        "- \"「」\" 포맷\n",
        "---\n",
        "- \"Omitted\"\n",
        "- \"Deleted\"\n",
        "- \"\\*|○|⇒|ㅇ\""
      ]
    },
    {
      "cell_type": "code",
      "execution_count": 8,
      "metadata": {
        "id": "_Ze32k0aQi6J"
      },
      "outputs": [],
      "source": [
        "patterns=''"
      ]
    },
    {
      "cell_type": "code",
      "execution_count": 9,
      "metadata": {
        "colab": {
          "base_uri": "https://localhost:8080/",
          "height": 35
        },
        "id": "WJBwq0_CHG7y",
        "outputId": "aef41f2d-66e9-42a0-a66d-77709ecb4e65"
      },
      "outputs": [
        {
          "data": {
            "text/plain": [
              "'Hello(반갑다) World'"
            ]
          },
          "execution_count": 9,
          "metadata": {},
          "output_type": "execute_result"
        }
      ],
      "source": [
        "## case 1. 괄호 숫자\n",
        "\n",
        "import re\n",
        "\n",
        "pattern=\"^\\([\\d^)]*\\).\"\n",
        "patterns+=pattern\n",
        "re.sub(pattern, '', \"(1) Hello(반갑다) World\")"
      ]
    },
    {
      "cell_type": "code",
      "execution_count": 10,
      "metadata": {
        "colab": {
          "base_uri": "https://localhost:8080/"
        },
        "id": "dJfRCl1wLFSu",
        "outputId": "91f2d4f2-a9d8-412c-b686-35d949f7c0a6"
      },
      "outputs": [
        {
          "data": {
            "text/plain": [
              "9326"
            ]
          },
          "execution_count": 10,
          "metadata": {},
          "output_type": "execute_result"
        }
      ],
      "source": [
        "ord(\"⑮\")"
      ]
    },
    {
      "cell_type": "code",
      "execution_count": 11,
      "metadata": {
        "colab": {
          "base_uri": "https://localhost:8080/"
        },
        "id": "Fe-SNmM5LJMy",
        "outputId": "83267078-986b-4004-d34c-a456bd602fc6"
      },
      "outputs": [
        {
          "name": "stdout",
          "output_type": "stream",
          "text": [
            "Hello(반갑다) World\n",
            "⑤와⑤의 ⑤라보\n"
          ]
        }
      ],
      "source": [
        "## case 2. 원 숫자\n",
        "\n",
        "pattern = \"\\s|\".join([\"^\"+chr(i) for i in range(9312, 9332)])+\"\\s\"\n",
        "patterns += (\"|\"+pattern)\n",
        "print(re.sub(pattern, '', \"⑤ Hello(반갑다) World\"))\n",
        "print(re.sub(pattern, '', \"⑤와⑤의 ⑤라보\"))"
      ]
    },
    {
      "cell_type": "code",
      "execution_count": 12,
      "metadata": {
        "colab": {
          "base_uri": "https://localhost:8080/"
        },
        "id": "nQaHj-ydMVxA",
        "outputId": "ef7bb362-25f2-4b7b-a824-c566b1b70328"
      },
      "outputs": [
        {
          "data": {
            "text/plain": [
              "['<개정된 내용입니다>']"
            ]
          },
          "execution_count": 12,
          "metadata": {},
          "output_type": "execute_result"
        }
      ],
      "source": [
        "pattern = \"\\<[^>]*\\>\"\n",
        "comp = re.compile(pattern)\n",
        "re.sub(\"^\\<[^>]*\\>.\",'', \"<개정입니다> 안녕하세요. 세상.\")\n",
        "comp.findall(\"안녕하세요 <개정된 내용입니다> 세상\")"
      ]
    },
    {
      "cell_type": "code",
      "execution_count": 13,
      "metadata": {
        "colab": {
          "base_uri": "https://localhost:8080/",
          "height": 467
        },
        "id": "0ltHLL6OLs7u",
        "outputId": "f0ec5504-8c33-420a-951e-2b39e9c8e8d6"
      },
      "outputs": [
        {
          "data": {
            "text/html": [
              "<div>\n",
              "<style scoped>\n",
              "    .dataframe tbody tr th:only-of-type {\n",
              "        vertical-align: middle;\n",
              "    }\n",
              "\n",
              "    .dataframe tbody tr th {\n",
              "        vertical-align: top;\n",
              "    }\n",
              "\n",
              "    .dataframe thead th {\n",
              "        text-align: right;\n",
              "    }\n",
              "</style>\n",
              "<table border=\"1\" class=\"dataframe\">\n",
              "  <thead>\n",
              "    <tr style=\"text-align: right;\">\n",
              "      <th></th>\n",
              "      <th>category</th>\n",
              "      <th>lawName</th>\n",
              "      <th>ENG</th>\n",
              "      <th>KOR</th>\n",
              "    </tr>\n",
              "  </thead>\n",
              "  <tbody>\n",
              "    <tr>\n",
              "      <th>0</th>\n",
              "      <td>헌법</td>\n",
              "      <td>개성공업지구 지원에 관한 법률</td>\n",
              "      <td>The terms used in this Act are defined as foll...</td>\n",
              "      <td>이 법에서 사용하는 용어의 정의는 다음과 같다. &lt;개정 2009. 1. 30., 2...</td>\n",
              "    </tr>\n",
              "    <tr>\n",
              "      <th>1</th>\n",
              "      <td>헌법</td>\n",
              "      <td>개성공업지구 지원에 관한 법률</td>\n",
              "      <td>(3) In relation to the support prescribed in p...</td>\n",
              "      <td>③ 정부는 제1항 및 제2항에 따른 지원을 함에 있어서 「산업입지 및 개발에 관한 ...</td>\n",
              "    </tr>\n",
              "    <tr>\n",
              "      <th>2</th>\n",
              "      <td>헌법</td>\n",
              "      <td>개성공업지구 지원에 관한 법률</td>\n",
              "      <td>(4) The Minister of Unification may require a ...</td>\n",
              "      <td>④ 통일부장관은 「산업입지 및 개발에 관한 법률」 제2조제9호에서 정한 산업단지 개...</td>\n",
              "    </tr>\n",
              "    <tr>\n",
              "      <th>3</th>\n",
              "      <td>헌법</td>\n",
              "      <td>개성공업지구 지원에 관한 법률</td>\n",
              "      <td>(1) The Government may provide a local enterpr...</td>\n",
              "      <td>① 정부는 개성공업지구 현지기업에 대하여 「중소기업진흥에 관한 법률」 제67조제1항...</td>\n",
              "    </tr>\n",
              "    <tr>\n",
              "      <th>4</th>\n",
              "      <td>헌법</td>\n",
              "      <td>개성공업지구 지원에 관한 법률</td>\n",
              "      <td>(2) Matters necessary for the use of the Fund ...</td>\n",
              "      <td>② 제1항의 기금의 사용에 관하여 필요한 사항은 대통령령으로 정한다. &lt;개정 201...</td>\n",
              "    </tr>\n",
              "    <tr>\n",
              "      <th>...</th>\n",
              "      <td>...</td>\n",
              "      <td>...</td>\n",
              "      <td>...</td>\n",
              "      <td>...</td>\n",
              "    </tr>\n",
              "    <tr>\n",
              "      <th>36902</th>\n",
              "      <td>외무</td>\n",
              "      <td>한국국제협력단법</td>\n",
              "      <td>The Minister of Foreign Affairs may entrust pa...</td>\n",
              "      <td>외교부장관은 대통령령으로 정하는 바에 따라 이 법에 따른 권한의 일부를 관계 중앙행...</td>\n",
              "    </tr>\n",
              "    <tr>\n",
              "      <th>36903</th>\n",
              "      <td>외무</td>\n",
              "      <td>한국국제협력단법</td>\n",
              "      <td>Except as prescribed in this Act and the Act o...</td>\n",
              "      <td>협력단에 관하여 이 법과 「공공기관의 운영에 관한 법률」에 규정한 것을 제외하고는 ...</td>\n",
              "    </tr>\n",
              "    <tr>\n",
              "      <th>36904</th>\n",
              "      <td>외무</td>\n",
              "      <td>한국국제협력단법</td>\n",
              "      <td>Any person who divulges confidential informati...</td>\n",
              "      <td>제26조를 위반하여 직무상 알게 된 비밀을 누설한 사람은 2년 이하의 징역 또는 2...</td>\n",
              "    </tr>\n",
              "    <tr>\n",
              "      <th>36905</th>\n",
              "      <td>외무</td>\n",
              "      <td>한국국제협력단법</td>\n",
              "      <td>(2) Administrative fines prescribed in paragra...</td>\n",
              "      <td>② 제1항에 따른 과태료는 외교부장관이 부과ㆍ징수한다. &lt;개정 2013. 3. 23.&gt;</td>\n",
              "    </tr>\n",
              "    <tr>\n",
              "      <th>36906</th>\n",
              "      <td>외무</td>\n",
              "      <td>한국국제협력단법</td>\n",
              "      <td>(2) Deleted. &lt;Dec. 20, 2016&gt;</td>\n",
              "      <td>② 삭제 &lt;2016. 12. 20.&gt;</td>\n",
              "    </tr>\n",
              "  </tbody>\n",
              "</table>\n",
              "<p>36907 rows × 4 columns</p>\n",
              "</div>"
            ],
            "text/plain": [
              "      category           lawName  \\\n",
              "0           헌법  개성공업지구 지원에 관한 법률   \n",
              "1           헌법  개성공업지구 지원에 관한 법률   \n",
              "2           헌법  개성공업지구 지원에 관한 법률   \n",
              "3           헌법  개성공업지구 지원에 관한 법률   \n",
              "4           헌법  개성공업지구 지원에 관한 법률   \n",
              "...        ...               ...   \n",
              "36902       외무          한국국제협력단법   \n",
              "36903       외무          한국국제협력단법   \n",
              "36904       외무          한국국제협력단법   \n",
              "36905       외무          한국국제협력단법   \n",
              "36906       외무          한국국제협력단법   \n",
              "\n",
              "                                                     ENG  \\\n",
              "0      The terms used in this Act are defined as foll...   \n",
              "1      (3) In relation to the support prescribed in p...   \n",
              "2      (4) The Minister of Unification may require a ...   \n",
              "3      (1) The Government may provide a local enterpr...   \n",
              "4      (2) Matters necessary for the use of the Fund ...   \n",
              "...                                                  ...   \n",
              "36902  The Minister of Foreign Affairs may entrust pa...   \n",
              "36903  Except as prescribed in this Act and the Act o...   \n",
              "36904  Any person who divulges confidential informati...   \n",
              "36905  (2) Administrative fines prescribed in paragra...   \n",
              "36906                       (2) Deleted. <Dec. 20, 2016>   \n",
              "\n",
              "                                                     KOR  \n",
              "0      이 법에서 사용하는 용어의 정의는 다음과 같다. <개정 2009. 1. 30., 2...  \n",
              "1      ③ 정부는 제1항 및 제2항에 따른 지원을 함에 있어서 「산업입지 및 개발에 관한 ...  \n",
              "2      ④ 통일부장관은 「산업입지 및 개발에 관한 법률」 제2조제9호에서 정한 산업단지 개...  \n",
              "3      ① 정부는 개성공업지구 현지기업에 대하여 「중소기업진흥에 관한 법률」 제67조제1항...  \n",
              "4      ② 제1항의 기금의 사용에 관하여 필요한 사항은 대통령령으로 정한다. <개정 201...  \n",
              "...                                                  ...  \n",
              "36902  외교부장관은 대통령령으로 정하는 바에 따라 이 법에 따른 권한의 일부를 관계 중앙행...  \n",
              "36903  협력단에 관하여 이 법과 「공공기관의 운영에 관한 법률」에 규정한 것을 제외하고는 ...  \n",
              "36904  제26조를 위반하여 직무상 알게 된 비밀을 누설한 사람은 2년 이하의 징역 또는 2...  \n",
              "36905   ② 제1항에 따른 과태료는 외교부장관이 부과ㆍ징수한다. <개정 2013. 3. 23.>  \n",
              "36906                               ② 삭제 <2016. 12. 20.>  \n",
              "\n",
              "[36907 rows x 4 columns]"
            ]
          },
          "execution_count": 13,
          "metadata": {},
          "output_type": "execute_result"
        }
      ],
      "source": [
        "## case 3. \"<>\" 포맷\n",
        "pattern = \"\\<[^>]*\\>\"\n",
        "comp = re.compile(pattern)\n",
        "lab_df = df_notnull.loc[df_notnull.ENG.apply(lambda x: len(comp.findall(x))>0)].reset_index(drop=True)\n",
        "lab_df"
      ]
    },
    {
      "cell_type": "code",
      "execution_count": 14,
      "metadata": {
        "colab": {
          "base_uri": "https://localhost:8080/",
          "height": 467
        },
        "id": "8yiPbYNlfare",
        "outputId": "d25f5a25-341e-47e1-937a-f211aa856d09"
      },
      "outputs": [
        {
          "data": {
            "text/html": [
              "<div>\n",
              "<style scoped>\n",
              "    .dataframe tbody tr th:only-of-type {\n",
              "        vertical-align: middle;\n",
              "    }\n",
              "\n",
              "    .dataframe tbody tr th {\n",
              "        vertical-align: top;\n",
              "    }\n",
              "\n",
              "    .dataframe thead th {\n",
              "        text-align: right;\n",
              "    }\n",
              "</style>\n",
              "<table border=\"1\" class=\"dataframe\">\n",
              "  <thead>\n",
              "    <tr style=\"text-align: right;\">\n",
              "      <th></th>\n",
              "      <th>category</th>\n",
              "      <th>lawName</th>\n",
              "      <th>ENG</th>\n",
              "      <th>KOR</th>\n",
              "    </tr>\n",
              "  </thead>\n",
              "  <tbody>\n",
              "    <tr>\n",
              "      <th>0</th>\n",
              "      <td>헌법</td>\n",
              "      <td>개성공업지구 지원에 관한 법률</td>\n",
              "      <td>The terms used in this Act are defined as foll...</td>\n",
              "      <td>이 법에서 사용하는 용어의 정의는 다음과 같다. &lt;개정 2009. 1. 30., 2...</td>\n",
              "    </tr>\n",
              "    <tr>\n",
              "      <th>1</th>\n",
              "      <td>헌법</td>\n",
              "      <td>개성공업지구 지원에 관한 법률</td>\n",
              "      <td>(3) In relation to the support prescribed in p...</td>\n",
              "      <td>③ 정부는 제1항 및 제2항에 따른 지원을 함에 있어서 「산업입지 및 개발에 관한 ...</td>\n",
              "    </tr>\n",
              "    <tr>\n",
              "      <th>2</th>\n",
              "      <td>헌법</td>\n",
              "      <td>개성공업지구 지원에 관한 법률</td>\n",
              "      <td>(4) The Minister of Unification may require a ...</td>\n",
              "      <td>④ 통일부장관은 「산업입지 및 개발에 관한 법률」 제2조제9호에서 정한 산업단지 개...</td>\n",
              "    </tr>\n",
              "    <tr>\n",
              "      <th>3</th>\n",
              "      <td>헌법</td>\n",
              "      <td>개성공업지구 지원에 관한 법률</td>\n",
              "      <td>(1) The Government may provide a local enterpr...</td>\n",
              "      <td>① 정부는 개성공업지구 현지기업에 대하여 「중소기업진흥에 관한 법률」 제67조제1항...</td>\n",
              "    </tr>\n",
              "    <tr>\n",
              "      <th>4</th>\n",
              "      <td>헌법</td>\n",
              "      <td>개성공업지구 지원에 관한 법률</td>\n",
              "      <td>(2) Matters necessary for the use of the Fund ...</td>\n",
              "      <td>② 제1항의 기금의 사용에 관하여 필요한 사항은 대통령령으로 정한다. &lt;개정 201...</td>\n",
              "    </tr>\n",
              "    <tr>\n",
              "      <th>...</th>\n",
              "      <td>...</td>\n",
              "      <td>...</td>\n",
              "      <td>...</td>\n",
              "      <td>...</td>\n",
              "    </tr>\n",
              "    <tr>\n",
              "      <th>36902</th>\n",
              "      <td>외무</td>\n",
              "      <td>한국국제협력단법</td>\n",
              "      <td>The Minister of Foreign Affairs may entrust pa...</td>\n",
              "      <td>외교부장관은 대통령령으로 정하는 바에 따라 이 법에 따른 권한의 일부를 관계 중앙행...</td>\n",
              "    </tr>\n",
              "    <tr>\n",
              "      <th>36903</th>\n",
              "      <td>외무</td>\n",
              "      <td>한국국제협력단법</td>\n",
              "      <td>Except as prescribed in this Act and the Act o...</td>\n",
              "      <td>협력단에 관하여 이 법과 「공공기관의 운영에 관한 법률」에 규정한 것을 제외하고는 ...</td>\n",
              "    </tr>\n",
              "    <tr>\n",
              "      <th>36904</th>\n",
              "      <td>외무</td>\n",
              "      <td>한국국제협력단법</td>\n",
              "      <td>Any person who divulges confidential informati...</td>\n",
              "      <td>제26조를 위반하여 직무상 알게 된 비밀을 누설한 사람은 2년 이하의 징역 또는 2...</td>\n",
              "    </tr>\n",
              "    <tr>\n",
              "      <th>36905</th>\n",
              "      <td>외무</td>\n",
              "      <td>한국국제협력단법</td>\n",
              "      <td>(2) Administrative fines prescribed in paragra...</td>\n",
              "      <td>② 제1항에 따른 과태료는 외교부장관이 부과ㆍ징수한다. &lt;개정 2013. 3. 23.&gt;</td>\n",
              "    </tr>\n",
              "    <tr>\n",
              "      <th>36906</th>\n",
              "      <td>외무</td>\n",
              "      <td>한국국제협력단법</td>\n",
              "      <td>(2) Deleted. &lt;Dec. 20, 2016&gt;</td>\n",
              "      <td>② 삭제 &lt;2016. 12. 20.&gt;</td>\n",
              "    </tr>\n",
              "  </tbody>\n",
              "</table>\n",
              "<p>36904 rows × 4 columns</p>\n",
              "</div>"
            ],
            "text/plain": [
              "      category           lawName  \\\n",
              "0           헌법  개성공업지구 지원에 관한 법률   \n",
              "1           헌법  개성공업지구 지원에 관한 법률   \n",
              "2           헌법  개성공업지구 지원에 관한 법률   \n",
              "3           헌법  개성공업지구 지원에 관한 법률   \n",
              "4           헌법  개성공업지구 지원에 관한 법률   \n",
              "...        ...               ...   \n",
              "36902       외무          한국국제협력단법   \n",
              "36903       외무          한국국제협력단법   \n",
              "36904       외무          한국국제협력단법   \n",
              "36905       외무          한국국제협력단법   \n",
              "36906       외무          한국국제협력단법   \n",
              "\n",
              "                                                     ENG  \\\n",
              "0      The terms used in this Act are defined as foll...   \n",
              "1      (3) In relation to the support prescribed in p...   \n",
              "2      (4) The Minister of Unification may require a ...   \n",
              "3      (1) The Government may provide a local enterpr...   \n",
              "4      (2) Matters necessary for the use of the Fund ...   \n",
              "...                                                  ...   \n",
              "36902  The Minister of Foreign Affairs may entrust pa...   \n",
              "36903  Except as prescribed in this Act and the Act o...   \n",
              "36904  Any person who divulges confidential informati...   \n",
              "36905  (2) Administrative fines prescribed in paragra...   \n",
              "36906                       (2) Deleted. <Dec. 20, 2016>   \n",
              "\n",
              "                                                     KOR  \n",
              "0      이 법에서 사용하는 용어의 정의는 다음과 같다. <개정 2009. 1. 30., 2...  \n",
              "1      ③ 정부는 제1항 및 제2항에 따른 지원을 함에 있어서 「산업입지 및 개발에 관한 ...  \n",
              "2      ④ 통일부장관은 「산업입지 및 개발에 관한 법률」 제2조제9호에서 정한 산업단지 개...  \n",
              "3      ① 정부는 개성공업지구 현지기업에 대하여 「중소기업진흥에 관한 법률」 제67조제1항...  \n",
              "4      ② 제1항의 기금의 사용에 관하여 필요한 사항은 대통령령으로 정한다. <개정 201...  \n",
              "...                                                  ...  \n",
              "36902  외교부장관은 대통령령으로 정하는 바에 따라 이 법에 따른 권한의 일부를 관계 중앙행...  \n",
              "36903  협력단에 관하여 이 법과 「공공기관의 운영에 관한 법률」에 규정한 것을 제외하고는 ...  \n",
              "36904  제26조를 위반하여 직무상 알게 된 비밀을 누설한 사람은 2년 이하의 징역 또는 2...  \n",
              "36905   ② 제1항에 따른 과태료는 외교부장관이 부과ㆍ징수한다. <개정 2013. 3. 23.>  \n",
              "36906                               ② 삭제 <2016. 12. 20.>  \n",
              "\n",
              "[36904 rows x 4 columns]"
            ]
          },
          "execution_count": 14,
          "metadata": {},
          "output_type": "execute_result"
        }
      ],
      "source": [
        "lab2idx = lab_df.loc[lab_df.ENG.apply(lambda x: len(comp.findall(x))==2)].index\n",
        "lab_1df = lab_df.drop(index=lab2idx)\n",
        "lab_1df"
      ]
    },
    {
      "cell_type": "code",
      "execution_count": 15,
      "metadata": {
        "colab": {
          "base_uri": "https://localhost:8080/"
        },
        "id": "5sSUv5L7elK6",
        "outputId": "79daa3dc-353c-4f86-e61b-ebbb0baab9d8"
      },
      "outputs": [
        {
          "data": {
            "text/plain": [
              "5950                          <. 23, 2021>\n",
              "22235          <<Amended on Aug. 10, 2021>\n",
              "2179     <<Enforcement Date: Jul. 1, 2022>\n",
              "2009     <<Enforcement Date: Undesignated>\n",
              "2004     <<Enforcement Date: Undesignated>\n",
              "                       ...                \n",
              "17778                            <omitted>\n",
              "10172                   <on Dec. 14, 2019>\n",
              "10173                   <on Dec. 14, 2019>\n",
              "10174                   <on Dec. 14, 2019>\n",
              "20689                   <on Feb. 24, 2017>\n",
              "Name: ENG, Length: 36904, dtype: object"
            ]
          },
          "execution_count": 15,
          "metadata": {},
          "output_type": "execute_result"
        }
      ],
      "source": [
        "lab_1df.ENG.apply(lambda x: comp.findall(x)[0]).sort_values()"
      ]
    },
    {
      "cell_type": "code",
      "execution_count": 16,
      "metadata": {
        "colab": {
          "base_uri": "https://localhost:8080/"
        },
        "id": "Z0wQDZN1P11S",
        "outputId": "c9b41e02-953b-4c44-bdf9-f34c95c50e27"
      },
      "outputs": [
        {
          "name": "stdout",
          "output_type": "stream",
          "text": [
            "^\\([\\d^)]*\\).|^①\\s|^②\\s|^③\\s|^④\\s|^⑤\\s|^⑥\\s|^⑦\\s|^⑧\\s|^⑨\\s|^⑩\\s|^⑪\\s|^⑫\\s|^⑬\\s|^⑭\\s|^⑮\\s|^⑯\\s|^⑰\\s|^⑱\\s|^⑲\\s|^⑳\\s|\\<[^>]*\\>\n"
          ]
        }
      ],
      "source": [
        "re.sub('\\<[^>]*\\>', '', \"(2) Deleted. <DEC, 20, 2016>\").strip(\" \")\n",
        "patterns += ('|'+\"\\<[^>]*\\>\")\n",
        "print(patterns)"
      ]
    },
    {
      "cell_type": "code",
      "execution_count": 17,
      "metadata": {
        "colab": {
          "base_uri": "https://localhost:8080/"
        },
        "id": "IioCC75dR0pp",
        "outputId": "4bd75767-768b-4e9e-a7e2-f1effa90e8ea"
      },
      "outputs": [
        {
          "data": {
            "text/plain": [
              "[]"
            ]
          },
          "execution_count": 17,
          "metadata": {},
          "output_type": "execute_result"
        }
      ],
      "source": [
        "## case 4. \"[]\"포맷\n",
        "\n",
        "pattern=\"^\\[[^\\]]*\\]\"\n",
        "comp = re.compile(pattern)\n",
        "comp.findall(\"동해물과 백두산이 [마르고 닳도록]\")"
      ]
    },
    {
      "cell_type": "code",
      "execution_count": 18,
      "metadata": {
        "colab": {
          "base_uri": "https://localhost:8080/",
          "height": 35
        },
        "id": "g9BFe5UTSrcb",
        "outputId": "279eda75-85f2-49e7-c24e-ba6eb98b2a8f"
      },
      "outputs": [
        {
          "data": {
            "text/plain": [
              "'동해물과 백두산이 [마르고 닳도록]'"
            ]
          },
          "execution_count": 18,
          "metadata": {},
          "output_type": "execute_result"
        }
      ],
      "source": [
        "re.sub(pattern, '', \"동해물과 백두산이 [마르고 닳도록]\").strip(\" \")"
      ]
    },
    {
      "cell_type": "code",
      "execution_count": 19,
      "metadata": {
        "colab": {
          "base_uri": "https://localhost:8080/",
          "height": 423
        },
        "id": "DUp8F1RYTOnv",
        "outputId": "4b30c778-83e2-4e8a-e15a-ce74ebb9eb01"
      },
      "outputs": [
        {
          "data": {
            "text/html": [
              "<div>\n",
              "<style scoped>\n",
              "    .dataframe tbody tr th:only-of-type {\n",
              "        vertical-align: middle;\n",
              "    }\n",
              "\n",
              "    .dataframe tbody tr th {\n",
              "        vertical-align: top;\n",
              "    }\n",
              "\n",
              "    .dataframe thead th {\n",
              "        text-align: right;\n",
              "    }\n",
              "</style>\n",
              "<table border=\"1\" class=\"dataframe\">\n",
              "  <thead>\n",
              "    <tr style=\"text-align: right;\">\n",
              "      <th></th>\n",
              "      <th>category</th>\n",
              "      <th>lawName</th>\n",
              "      <th>ENG</th>\n",
              "      <th>KOR</th>\n",
              "    </tr>\n",
              "  </thead>\n",
              "  <tbody>\n",
              "    <tr>\n",
              "      <th>0</th>\n",
              "      <td>헌법</td>\n",
              "      <td>개성공업지구 지원에 관한 법률</td>\n",
              "      <td>[Title Amended on Jan. 21, 2014; Dec. 31, 2018]</td>\n",
              "      <td>[제목개정 2014. 1. 21., 2018. 12. 31.]</td>\n",
              "    </tr>\n",
              "    <tr>\n",
              "      <th>1</th>\n",
              "      <td>헌법</td>\n",
              "      <td>개성공업지구 지원에 관한 법률</td>\n",
              "      <td>[This Article Newly Inserted on Jan. 21, 2014]</td>\n",
              "      <td>[본조신설 2014. 1. 21.]</td>\n",
              "    </tr>\n",
              "    <tr>\n",
              "      <th>2</th>\n",
              "      <td>헌법</td>\n",
              "      <td>개성공업지구 지원에 관한 법률</td>\n",
              "      <td>[This Article Newly Inserted on Mar. 26, 2010]</td>\n",
              "      <td>[본조신설 2010. 3. 26.]</td>\n",
              "    </tr>\n",
              "    <tr>\n",
              "      <th>3</th>\n",
              "      <td>헌법</td>\n",
              "      <td>개성공업지구 지원에 관한 법률</td>\n",
              "      <td>[This Article Newly Inserted on Mar. 26, 2010]</td>\n",
              "      <td>[본조신설 2010. 3. 26.]</td>\n",
              "    </tr>\n",
              "    <tr>\n",
              "      <th>4</th>\n",
              "      <td>헌법</td>\n",
              "      <td>개성공업지구 지원에 관한 법률</td>\n",
              "      <td>[This Article Wholly Amended on Jan. 21, 2014]</td>\n",
              "      <td>[전문개정 2014. 1. 21.]</td>\n",
              "    </tr>\n",
              "    <tr>\n",
              "      <th>...</th>\n",
              "      <td>...</td>\n",
              "      <td>...</td>\n",
              "      <td>...</td>\n",
              "      <td>...</td>\n",
              "    </tr>\n",
              "    <tr>\n",
              "      <th>18432</th>\n",
              "      <td>외무</td>\n",
              "      <td>한국국제협력단법</td>\n",
              "      <td>[This Article Wholly Amended on Mar. 17, 2010]</td>\n",
              "      <td>[전문개정 2010. 3. 17.]</td>\n",
              "    </tr>\n",
              "    <tr>\n",
              "      <th>18433</th>\n",
              "      <td>외무</td>\n",
              "      <td>한국국제협력단법</td>\n",
              "      <td>[This Article Wholly Amended on Mar. 17, 2010]</td>\n",
              "      <td>[전문개정 2010. 3. 17.]</td>\n",
              "    </tr>\n",
              "    <tr>\n",
              "      <th>18434</th>\n",
              "      <td>외무</td>\n",
              "      <td>한국국제협력단법</td>\n",
              "      <td>[This Article Wholly Amended on Mar. 17, 2010]</td>\n",
              "      <td>[전문개정 2010. 3. 17.]</td>\n",
              "    </tr>\n",
              "    <tr>\n",
              "      <th>18435</th>\n",
              "      <td>외무</td>\n",
              "      <td>한국국제협력단법</td>\n",
              "      <td>[This Article Wholly Amended on Mar. 17, 2010]</td>\n",
              "      <td>[전문개정 2010. 3. 17.]</td>\n",
              "    </tr>\n",
              "    <tr>\n",
              "      <th>18436</th>\n",
              "      <td>외무</td>\n",
              "      <td>한국국제협력단법</td>\n",
              "      <td>[This Article Wholly Amended on Mar. 17, 2010]</td>\n",
              "      <td>[전문개정 2010. 3. 17.]</td>\n",
              "    </tr>\n",
              "  </tbody>\n",
              "</table>\n",
              "<p>18437 rows × 4 columns</p>\n",
              "</div>"
            ],
            "text/plain": [
              "      category           lawName  \\\n",
              "0           헌법  개성공업지구 지원에 관한 법률   \n",
              "1           헌법  개성공업지구 지원에 관한 법률   \n",
              "2           헌법  개성공업지구 지원에 관한 법률   \n",
              "3           헌법  개성공업지구 지원에 관한 법률   \n",
              "4           헌법  개성공업지구 지원에 관한 법률   \n",
              "...        ...               ...   \n",
              "18432       외무          한국국제협력단법   \n",
              "18433       외무          한국국제협력단법   \n",
              "18434       외무          한국국제협력단법   \n",
              "18435       외무          한국국제협력단법   \n",
              "18436       외무          한국국제협력단법   \n",
              "\n",
              "                                                   ENG  \\\n",
              "0      [Title Amended on Jan. 21, 2014; Dec. 31, 2018]   \n",
              "1       [This Article Newly Inserted on Jan. 21, 2014]   \n",
              "2       [This Article Newly Inserted on Mar. 26, 2010]   \n",
              "3       [This Article Newly Inserted on Mar. 26, 2010]   \n",
              "4       [This Article Wholly Amended on Jan. 21, 2014]   \n",
              "...                                                ...   \n",
              "18432   [This Article Wholly Amended on Mar. 17, 2010]   \n",
              "18433   [This Article Wholly Amended on Mar. 17, 2010]   \n",
              "18434   [This Article Wholly Amended on Mar. 17, 2010]   \n",
              "18435   [This Article Wholly Amended on Mar. 17, 2010]   \n",
              "18436   [This Article Wholly Amended on Mar. 17, 2010]   \n",
              "\n",
              "                                      KOR  \n",
              "0      [제목개정 2014. 1. 21., 2018. 12. 31.]  \n",
              "1                     [본조신설 2014. 1. 21.]  \n",
              "2                     [본조신설 2010. 3. 26.]  \n",
              "3                     [본조신설 2010. 3. 26.]  \n",
              "4                     [전문개정 2014. 1. 21.]  \n",
              "...                                   ...  \n",
              "18432                 [전문개정 2010. 3. 17.]  \n",
              "18433                 [전문개정 2010. 3. 17.]  \n",
              "18434                 [전문개정 2010. 3. 17.]  \n",
              "18435                 [전문개정 2010. 3. 17.]  \n",
              "18436                 [전문개정 2010. 3. 17.]  \n",
              "\n",
              "[18437 rows x 4 columns]"
            ]
          },
          "execution_count": 19,
          "metadata": {},
          "output_type": "execute_result"
        }
      ],
      "source": [
        "bracket_df = df_notnull.loc[df_notnull.ENG.apply(lambda x: comp.findall(x)!=[])].reset_index(drop=True)\n",
        "bracket_df"
      ]
    },
    {
      "cell_type": "code",
      "execution_count": 20,
      "metadata": {
        "colab": {
          "base_uri": "https://localhost:8080/"
        },
        "id": "6y79jjpUUaB_",
        "outputId": "e347dcda-bf27-471f-ab20-a4fbf83c02d5"
      },
      "outputs": [
        {
          "data": {
            "text/plain": [
              "1    18430\n",
              "0        7\n",
              "Name: KOR, dtype: int64"
            ]
          },
          "execution_count": 20,
          "metadata": {},
          "output_type": "execute_result"
        }
      ],
      "source": [
        "bracket_df.KOR.apply(lambda x: len(comp.findall(x))).value_counts()"
      ]
    },
    {
      "cell_type": "code",
      "execution_count": 21,
      "metadata": {
        "colab": {
          "base_uri": "https://localhost:8080/",
          "height": 269
        },
        "id": "M_tDbUVCVXla",
        "outputId": "54ce8b3b-25c0-496b-93b6-8f36afa5a27b"
      },
      "outputs": [
        {
          "data": {
            "text/html": [
              "<div>\n",
              "<style scoped>\n",
              "    .dataframe tbody tr th:only-of-type {\n",
              "        vertical-align: middle;\n",
              "    }\n",
              "\n",
              "    .dataframe tbody tr th {\n",
              "        vertical-align: top;\n",
              "    }\n",
              "\n",
              "    .dataframe thead th {\n",
              "        text-align: right;\n",
              "    }\n",
              "</style>\n",
              "<table border=\"1\" class=\"dataframe\">\n",
              "  <thead>\n",
              "    <tr style=\"text-align: right;\">\n",
              "      <th></th>\n",
              "      <th>category</th>\n",
              "      <th>lawName</th>\n",
              "      <th>ENG</th>\n",
              "      <th>KOR</th>\n",
              "    </tr>\n",
              "  </thead>\n",
              "  <tbody>\n",
              "    <tr>\n",
              "      <th>2124</th>\n",
              "      <td>형사법</td>\n",
              "      <td>보호소년 등의 처우에 관한 법률 시행령</td>\n",
              "      <td>[Moved from Article 2; previous Article 3 Dele...</td>\n",
              "      <td>[제2조에서 이동, 종전 제3조는 삭제</td>\n",
              "    </tr>\n",
              "    <tr>\n",
              "      <th>4562</th>\n",
              "      <td>교육ㆍ학술</td>\n",
              "      <td>청소년활동 진흥법</td>\n",
              "      <td>[Moved from Article 40 &lt;Jan. 21, 2014&gt;]</td>\n",
              "      <td>[제40조에서 이동 &lt;2014. 1. 21.&gt;</td>\n",
              "    </tr>\n",
              "    <tr>\n",
              "      <th>8908</th>\n",
              "      <td>수산</td>\n",
              "      <td>수산자원관리법 시행령</td>\n",
              "      <td>[Moved from Article 47-4; Previous Article 47-...</td>\n",
              "      <td>[제47조의4에서 이동, 종전 제47조의5는 삭제</td>\n",
              "    </tr>\n",
              "    <tr>\n",
              "      <th>11339</th>\n",
              "      <td>국토개발·도시</td>\n",
              "      <td>산업입지 및 개발에 관한 법률</td>\n",
              "      <td>[Moved from Article 39-13; previous Article 39...</td>\n",
              "      <td>[제39조의13에서 이동, 종전 제39조의15는 삭제</td>\n",
              "    </tr>\n",
              "    <tr>\n",
              "      <th>11341</th>\n",
              "      <td>국토개발·도시</td>\n",
              "      <td>산업입지 및 개발에 관한 법률</td>\n",
              "      <td>[Moved from Article 39-14; previous Article 39...</td>\n",
              "      <td>[제39조의14에서 이동, 종전 제39조의16은 삭제</td>\n",
              "    </tr>\n",
              "    <tr>\n",
              "      <th>12398</th>\n",
              "      <td>수자원·토지·건설</td>\n",
              "      <td>댐건설ㆍ관리 및 주변지역지원 등에 관한 법률 시행령</td>\n",
              "      <td>[Moved from Article 17; previous Article 6 del...</td>\n",
              "      <td>[제17조에서 이동, 종전 제6조는 삭제</td>\n",
              "    </tr>\n",
              "    <tr>\n",
              "      <th>18149</th>\n",
              "      <td>정보통신</td>\n",
              "      <td>정보통신망 이용촉진 및 정보보호 등에 관한 법률 시행령</td>\n",
              "      <td>[Moved from Article 52; Previous Article 51 De...</td>\n",
              "      <td>[제52조에서 이동, 종전 제51조는 삭제</td>\n",
              "    </tr>\n",
              "  </tbody>\n",
              "</table>\n",
              "</div>"
            ],
            "text/plain": [
              "        category                         lawName  \\\n",
              "2124         형사법           보호소년 등의 처우에 관한 법률 시행령   \n",
              "4562       교육ㆍ학술                       청소년활동 진흥법   \n",
              "8908          수산                     수산자원관리법 시행령   \n",
              "11339    국토개발·도시                산업입지 및 개발에 관한 법률   \n",
              "11341    국토개발·도시                산업입지 및 개발에 관한 법률   \n",
              "12398  수자원·토지·건설    댐건설ㆍ관리 및 주변지역지원 등에 관한 법률 시행령   \n",
              "18149       정보통신  정보통신망 이용촉진 및 정보보호 등에 관한 법률 시행령   \n",
              "\n",
              "                                                     ENG  \\\n",
              "2124   [Moved from Article 2; previous Article 3 Dele...   \n",
              "4562             [Moved from Article 40 <Jan. 21, 2014>]   \n",
              "8908   [Moved from Article 47-4; Previous Article 47-...   \n",
              "11339  [Moved from Article 39-13; previous Article 39...   \n",
              "11341  [Moved from Article 39-14; previous Article 39...   \n",
              "12398  [Moved from Article 17; previous Article 6 del...   \n",
              "18149  [Moved from Article 52; Previous Article 51 De...   \n",
              "\n",
              "                                 KOR  \n",
              "2124           [제2조에서 이동, 종전 제3조는 삭제  \n",
              "4562       [제40조에서 이동 <2014. 1. 21.>  \n",
              "8908     [제47조의4에서 이동, 종전 제47조의5는 삭제  \n",
              "11339  [제39조의13에서 이동, 종전 제39조의15는 삭제  \n",
              "11341  [제39조의14에서 이동, 종전 제39조의16은 삭제  \n",
              "12398         [제17조에서 이동, 종전 제6조는 삭제  \n",
              "18149        [제52조에서 이동, 종전 제51조는 삭제  "
            ]
          },
          "execution_count": 21,
          "metadata": {},
          "output_type": "execute_result"
        }
      ],
      "source": [
        "bracket_df.loc[bracket_df.KOR.apply(lambda x: len(comp.findall(x))==0)]"
      ]
    },
    {
      "cell_type": "code",
      "execution_count": 22,
      "metadata": {
        "colab": {
          "base_uri": "https://localhost:8080/"
        },
        "id": "9nl5iOIYdfaJ",
        "outputId": "008ba99f-3ff8-42a3-9942-030132c72827"
      },
      "outputs": [
        {
          "name": "stdout",
          "output_type": "stream",
          "text": [
            "^\\([\\d^)]*\\).|^①\\s|^②\\s|^③\\s|^④\\s|^⑤\\s|^⑥\\s|^⑦\\s|^⑧\\s|^⑨\\s|^⑩\\s|^⑪\\s|^⑫\\s|^⑬\\s|^⑭\\s|^⑮\\s|^⑯\\s|^⑰\\s|^⑱\\s|^⑲\\s|^⑳\\s|\\<[^>]*\\>|^\\[[^\\]]*\\]\n"
          ]
        }
      ],
      "source": [
        "patterns+=(\"|\"+pattern)\n",
        "print(patterns)"
      ]
    },
    {
      "cell_type": "code",
      "execution_count": 23,
      "metadata": {
        "colab": {
          "base_uri": "https://localhost:8080/"
        },
        "id": "aQfBTT5NgfvZ",
        "outputId": "39c728e4-ce08-416f-aba7-bf98e17085b9"
      },
      "outputs": [
        {
          "name": "stdout",
          "output_type": "stream",
          "text": [
            "토지를 보호하는 것은 매우 중요하다.\n"
          ]
        }
      ],
      "source": [
        "## case 5. 한자\n",
        "pattern = '\\((([一-鿕]|[㐀-䶵]|[豈-龎])+)\\)'\n",
        "print(re.sub(pattern, '', '토지(土地)를 보호하는 것은 매우 중요하다.'))\n",
        "patterns+=(\"|\"+pattern)"
      ]
    },
    {
      "cell_type": "code",
      "execution_count": 24,
      "metadata": {
        "colab": {
          "base_uri": "https://localhost:8080/"
        },
        "id": "8-7JyXqMgvqw",
        "outputId": "b9ba3f3a-1d98-4d6e-ed51-0abc116a3a78"
      },
      "outputs": [
        {
          "name": "stdout",
          "output_type": "stream",
          "text": [
            "^\\([\\d^)]*\\).|^①\\s|^②\\s|^③\\s|^④\\s|^⑤\\s|^⑥\\s|^⑦\\s|^⑧\\s|^⑨\\s|^⑩\\s|^⑪\\s|^⑫\\s|^⑬\\s|^⑭\\s|^⑮\\s|^⑯\\s|^⑰\\s|^⑱\\s|^⑲\\s|^⑳\\s|\\<[^>]*\\>|^\\[[^\\]]*\\]|\\((([一-鿕]|[㐀-䶵]|[豈-龎])+)\\)\n"
          ]
        }
      ],
      "source": [
        "print(patterns)"
      ]
    },
    {
      "cell_type": "code",
      "execution_count": 25,
      "metadata": {
        "colab": {
          "base_uri": "https://localhost:8080/"
        },
        "id": "_UDgPNtKhLq0",
        "outputId": "cd1326fb-be3e-44c6-c4f1-f00a2dbb1673"
      },
      "outputs": [
        {
          "name": "stdout",
          "output_type": "stream",
          "text": [
            "고유명사에 대해서는 꺾쇠괄호로 표현한다\n"
          ]
        }
      ],
      "source": [
        "## case 6. \"「」\" 포맷\n",
        "\n",
        "pattern = \"「|」\"\n",
        "print(re.sub(pattern, '', \"「고유명사」에 대해서는 꺾쇠괄호로 표현한다\"))"
      ]
    },
    {
      "cell_type": "code",
      "execution_count": 26,
      "metadata": {
        "colab": {
          "base_uri": "https://localhost:8080/"
        },
        "id": "rbtAShWJhZVn",
        "outputId": "9330bdfb-add4-46b5-a7ea-a2d325d0af3a"
      },
      "outputs": [
        {
          "name": "stdout",
          "output_type": "stream",
          "text": [
            "^\\([\\d^)]*\\).|^①\\s|^②\\s|^③\\s|^④\\s|^⑤\\s|^⑥\\s|^⑦\\s|^⑧\\s|^⑨\\s|^⑩\\s|^⑪\\s|^⑫\\s|^⑬\\s|^⑭\\s|^⑮\\s|^⑯\\s|^⑰\\s|^⑱\\s|^⑲\\s|^⑳\\s|\\<[^>]*\\>|^\\[[^\\]]*\\]|\\((([一-鿕]|[㐀-䶵]|[豈-龎])+)\\)|「|」\n"
          ]
        }
      ],
      "source": [
        "patterns+=(\"|\"+pattern)\n",
        "print(patterns)"
      ]
    },
    {
      "cell_type": "code",
      "execution_count": 27,
      "metadata": {
        "colab": {
          "base_uri": "https://localhost:8080/",
          "height": 35
        },
        "id": "wcV-817-hlLo",
        "outputId": "fd07d937-690d-48c9-e055-e158ee765f0a"
      },
      "outputs": [
        {
          "data": {
            "text/plain": [
              "'인류 및 법 및 사회 및 컴퓨터'"
            ]
          },
          "execution_count": 27,
          "metadata": {},
          "output_type": "execute_result"
        }
      ],
      "source": [
        "## case 7. \"ㆍ\" 포맷\n",
        "\n",
        "dot_format = \"ㆍ\"\n",
        "re.sub(dot_format, \" 및 \", \"인류ㆍ법ㆍ사회ㆍ컴퓨터\")"
      ]
    },
    {
      "cell_type": "code",
      "execution_count": 28,
      "metadata": {
        "colab": {
          "base_uri": "https://localhost:8080/",
          "height": 72
        },
        "id": "KGlh_zGth4jq",
        "outputId": "3046778b-b006-42f4-eea0-97544c1e09ea"
      },
      "outputs": [
        {
          "data": {
            "text/plain": [
              "'The purpose of this Act is to enhance inter-Korean exchanges and cooperation and further to contribute to the balanced development of the economy of the Korean nation by providing matters necessary for supporting the development and operation of the Gaeseong Industrial Complex and protecting and supporting South Korean residents (including corporations; hereinafter the same shall apply) who invests in, enter, exit, or stay in the Gaeseong Industrial Complex.'"
            ]
          },
          "execution_count": 28,
          "metadata": {},
          "output_type": "execute_result"
        }
      ],
      "source": [
        "df_notnull.loc[df_notnull.KOR.str.contains(\"ㆍ\")].iloc[0, 2]"
      ]
    },
    {
      "cell_type": "code",
      "execution_count": 29,
      "metadata": {
        "colab": {
          "base_uri": "https://localhost:8080/",
          "height": 54
        },
        "id": "8mHwDCZmiFoL",
        "outputId": "cfa1d73c-7491-4552-a68c-eb97dee18431"
      },
      "outputs": [
        {
          "data": {
            "text/plain": [
              "'이 법은 개성공업지구의 개발ㆍ운영의 지원 및 개성공업지구에 투자하거나 출입ㆍ체류하는 남한주민(법인을 포함한다. 이하 같다)의 보호ㆍ지원에 관하여 필요한 사항을 규정함으로써 남북교류ㆍ협력을 증진하고 민족경제의 균형적인 발전에 기여함을 목적으로 한다.'"
            ]
          },
          "execution_count": 29,
          "metadata": {},
          "output_type": "execute_result"
        }
      ],
      "source": [
        "df_notnull.loc[df_notnull.KOR.str.contains(\"ㆍ\")].iloc[0, 3]"
      ]
    },
    {
      "cell_type": "code",
      "execution_count": 30,
      "metadata": {
        "colab": {
          "base_uri": "https://localhost:8080/",
          "height": 35
        },
        "id": "7ptuESbcyR_z",
        "outputId": "67cde69c-1ffe-4ed0-cb25-132d7357c36b"
      },
      "outputs": [
        {
          "data": {
            "text/plain": [
              "'동해물과 백두산이'"
            ]
          },
          "execution_count": 30,
          "metadata": {},
          "output_type": "execute_result"
        }
      ],
      "source": [
        "## case 8. \"1. \" 포맷\n",
        "\n",
        "pattern = '^[\\d]*\\..'\n",
        "re.sub(pattern, \"\", \"23. 동해물과 백두산이\")"
      ]
    },
    {
      "cell_type": "code",
      "execution_count": 31,
      "metadata": {
        "id": "ncQpilVeydjc"
      },
      "outputs": [],
      "source": [
        "patterns+=(\"|\"+pattern)"
      ]
    },
    {
      "cell_type": "markdown",
      "metadata": {
        "id": "2fq5MujcjNt3"
      },
      "source": [
        "# 2.정규식을 통한 전처리"
      ]
    },
    {
      "cell_type": "code",
      "execution_count": 32,
      "metadata": {
        "id": "50GaZ8WZsrvx"
      },
      "outputs": [],
      "source": [
        "eng_pre = df_notnull.ENG.apply(lambda x: re.sub(patterns, '', x).strip(\" \"))\n",
        "kor_pre = df_notnull.KOR.apply(lambda x: re.sub(patterns, '', x).strip(\" \"))"
      ]
    },
    {
      "cell_type": "code",
      "execution_count": 33,
      "metadata": {
        "colab": {
          "base_uri": "https://localhost:8080/",
          "height": 624
        },
        "id": "WuFjlJq0xyQg",
        "outputId": "1bcdef19-e911-4c78-c279-ba37b17b10b4"
      },
      "outputs": [
        {
          "data": {
            "text/html": [
              "<div>\n",
              "<style scoped>\n",
              "    .dataframe tbody tr th:only-of-type {\n",
              "        vertical-align: middle;\n",
              "    }\n",
              "\n",
              "    .dataframe tbody tr th {\n",
              "        vertical-align: top;\n",
              "    }\n",
              "\n",
              "    .dataframe thead th {\n",
              "        text-align: right;\n",
              "    }\n",
              "</style>\n",
              "<table border=\"1\" class=\"dataframe\">\n",
              "  <thead>\n",
              "    <tr style=\"text-align: right;\">\n",
              "      <th></th>\n",
              "      <th>category</th>\n",
              "      <th>lawName</th>\n",
              "      <th>ENG</th>\n",
              "      <th>KOR</th>\n",
              "    </tr>\n",
              "  </thead>\n",
              "  <tbody>\n",
              "    <tr>\n",
              "      <th>0</th>\n",
              "      <td>헌법</td>\n",
              "      <td>개성공업지구 지원에 관한 법률</td>\n",
              "      <td>The purpose of this Act is to enhance inter-Ko...</td>\n",
              "      <td>이 법은 개성공업지구의 개발ㆍ운영의 지원 및 개성공업지구에 투자하거나 출입ㆍ체류하는...</td>\n",
              "    </tr>\n",
              "    <tr>\n",
              "      <th>1</th>\n",
              "      <td>헌법</td>\n",
              "      <td>개성공업지구 지원에 관한 법률</td>\n",
              "      <td>The terms used in this Act are defined as foll...</td>\n",
              "      <td>이 법에서 사용하는 용어의 정의는 다음과 같다.</td>\n",
              "    </tr>\n",
              "    <tr>\n",
              "      <th>2</th>\n",
              "      <td>헌법</td>\n",
              "      <td>개성공업지구 지원에 관한 법률</td>\n",
              "      <td>The term “Gaeseong Industrial Complex” or “GIC...</td>\n",
              "      <td>“개성공업지구”란 남한과 북한 사이의 합의에 따라서 북한의 개성지역 일대에서 개발ㆍ...</td>\n",
              "    </tr>\n",
              "    <tr>\n",
              "      <th>3</th>\n",
              "      <td>헌법</td>\n",
              "      <td>개성공업지구 지원에 관한 법률</td>\n",
              "      <td>The term “GIC developer” means a South Korean ...</td>\n",
              "      <td>“개성공업지구 개발업자”란 남북교류협력에 관한 법률에 따른 협력사업의 승인을 받아 ...</td>\n",
              "    </tr>\n",
              "    <tr>\n",
              "      <th>4</th>\n",
              "      <td>헌법</td>\n",
              "      <td>개성공업지구 지원에 관한 법률</td>\n",
              "      <td>The term “GIC management organ” means a corpor...</td>\n",
              "      <td>“개성공업지구 관리기관”이란 개성공업지구의 관리ㆍ운영을 위하여 북한의 개성공업지구법...</td>\n",
              "    </tr>\n",
              "    <tr>\n",
              "      <th>...</th>\n",
              "      <td>...</td>\n",
              "      <td>...</td>\n",
              "      <td>...</td>\n",
              "      <td>...</td>\n",
              "    </tr>\n",
              "    <tr>\n",
              "      <th>220509</th>\n",
              "      <td>-</td>\n",
              "      <td>주한미군 소속 한국인 근로자의 지원을 위한 특별법</td>\n",
              "      <td>The person is found to have been paid the subs...</td>\n",
              "      <td>거짓이나 그 밖의 부정한 방법으로 지원금의 지급을 받은 경우</td>\n",
              "    </tr>\n",
              "    <tr>\n",
              "      <th>220510</th>\n",
              "      <td>-</td>\n",
              "      <td>주한미군 소속 한국인 근로자의 지원을 위한 특별법</td>\n",
              "      <td>The subsidy is found to have been paid erroneo...</td>\n",
              "      <td>이 법에서 정한 기준에서 벗어나 잘못 지급된 경우</td>\n",
              "    </tr>\n",
              "    <tr>\n",
              "      <th>220511</th>\n",
              "      <td>-</td>\n",
              "      <td>주한미군 소속 한국인 근로자의 지원을 위한 특별법</td>\n",
              "      <td>The State may recover, in whole or in part, a ...</td>\n",
              "      <td>국가는 이 법에 따른 지원금을 받은 사람이 다음 각 호의 어느 하나에 해당하는 경우...</td>\n",
              "    </tr>\n",
              "    <tr>\n",
              "      <th>220512</th>\n",
              "      <td>-</td>\n",
              "      <td>주한미군 소속 한국인 근로자의 지원을 위한 특별법</td>\n",
              "      <td>Where a person who should return a subsidy fai...</td>\n",
              "      <td>제1항에 따라 환수하는 경우 그 반환할 사람이 정하여진 기간 이내에 이를 반환하지 ...</td>\n",
              "    </tr>\n",
              "    <tr>\n",
              "      <th>220513</th>\n",
              "      <td>-</td>\n",
              "      <td>주한미군 소속 한국인 근로자의 지원을 위한 특별법</td>\n",
              "      <td>The right to be paid a subsidy under this Act ...</td>\n",
              "      <td>이 법에 따른 지원금의 지급을 받을 권리는 그 지원금 결정서 정본이 신청인에게 송달...</td>\n",
              "    </tr>\n",
              "  </tbody>\n",
              "</table>\n",
              "<p>220514 rows × 4 columns</p>\n",
              "</div>"
            ],
            "text/plain": [
              "       category                      lawName  \\\n",
              "0            헌법             개성공업지구 지원에 관한 법률   \n",
              "1            헌법             개성공업지구 지원에 관한 법률   \n",
              "2            헌법             개성공업지구 지원에 관한 법률   \n",
              "3            헌법             개성공업지구 지원에 관한 법률   \n",
              "4            헌법             개성공업지구 지원에 관한 법률   \n",
              "...         ...                          ...   \n",
              "220509        -  주한미군 소속 한국인 근로자의 지원을 위한 특별법   \n",
              "220510        -  주한미군 소속 한국인 근로자의 지원을 위한 특별법   \n",
              "220511        -  주한미군 소속 한국인 근로자의 지원을 위한 특별법   \n",
              "220512        -  주한미군 소속 한국인 근로자의 지원을 위한 특별법   \n",
              "220513        -  주한미군 소속 한국인 근로자의 지원을 위한 특별법   \n",
              "\n",
              "                                                      ENG  \\\n",
              "0       The purpose of this Act is to enhance inter-Ko...   \n",
              "1       The terms used in this Act are defined as foll...   \n",
              "2       The term “Gaeseong Industrial Complex” or “GIC...   \n",
              "3       The term “GIC developer” means a South Korean ...   \n",
              "4       The term “GIC management organ” means a corpor...   \n",
              "...                                                   ...   \n",
              "220509  The person is found to have been paid the subs...   \n",
              "220510  The subsidy is found to have been paid erroneo...   \n",
              "220511  The State may recover, in whole or in part, a ...   \n",
              "220512  Where a person who should return a subsidy fai...   \n",
              "220513  The right to be paid a subsidy under this Act ...   \n",
              "\n",
              "                                                      KOR  \n",
              "0       이 법은 개성공업지구의 개발ㆍ운영의 지원 및 개성공업지구에 투자하거나 출입ㆍ체류하는...  \n",
              "1                              이 법에서 사용하는 용어의 정의는 다음과 같다.  \n",
              "2       “개성공업지구”란 남한과 북한 사이의 합의에 따라서 북한의 개성지역 일대에서 개발ㆍ...  \n",
              "3       “개성공업지구 개발업자”란 남북교류협력에 관한 법률에 따른 협력사업의 승인을 받아 ...  \n",
              "4       “개성공업지구 관리기관”이란 개성공업지구의 관리ㆍ운영을 위하여 북한의 개성공업지구법...  \n",
              "...                                                   ...  \n",
              "220509                  거짓이나 그 밖의 부정한 방법으로 지원금의 지급을 받은 경우  \n",
              "220510                        이 법에서 정한 기준에서 벗어나 잘못 지급된 경우  \n",
              "220511  국가는 이 법에 따른 지원금을 받은 사람이 다음 각 호의 어느 하나에 해당하는 경우...  \n",
              "220512  제1항에 따라 환수하는 경우 그 반환할 사람이 정하여진 기간 이내에 이를 반환하지 ...  \n",
              "220513  이 법에 따른 지원금의 지급을 받을 권리는 그 지원금 결정서 정본이 신청인에게 송달...  \n",
              "\n",
              "[220514 rows x 4 columns]"
            ]
          },
          "execution_count": 33,
          "metadata": {},
          "output_type": "execute_result"
        }
      ],
      "source": [
        "df_pre1 = pd.DataFrame(zip(df_notnull[\"category\"].values, df_notnull[\"lawName\"].values, eng_pre, kor_pre), columns=df_notnull.columns)\n",
        "df_pre1"
      ]
    },
    {
      "cell_type": "code",
      "execution_count": 34,
      "metadata": {
        "id": "ZMtt-2thzSjt"
      },
      "outputs": [],
      "source": [
        "df_pre1.to_csv(gdrive_path+\"/preprocessing/pre1.csv\", index=False, encoding=\"euc-kr\")"
      ]
    },
    {
      "cell_type": "markdown",
      "metadata": {},
      "source": [
        "## 2.1.이외 삭제 데이터 처리\n",
        "\n",
        "- Omitted, Deleted"
      ]
    },
    {
      "cell_type": "code",
      "execution_count": 35,
      "metadata": {},
      "outputs": [
        {
          "data": {
            "text/html": [
              "<div>\n",
              "<style scoped>\n",
              "    .dataframe tbody tr th:only-of-type {\n",
              "        vertical-align: middle;\n",
              "    }\n",
              "\n",
              "    .dataframe tbody tr th {\n",
              "        vertical-align: top;\n",
              "    }\n",
              "\n",
              "    .dataframe thead th {\n",
              "        text-align: right;\n",
              "    }\n",
              "</style>\n",
              "<table border=\"1\" class=\"dataframe\">\n",
              "  <thead>\n",
              "    <tr style=\"text-align: right;\">\n",
              "      <th></th>\n",
              "      <th>category</th>\n",
              "      <th>lawName</th>\n",
              "      <th>ENG</th>\n",
              "      <th>KOR</th>\n",
              "    </tr>\n",
              "  </thead>\n",
              "  <tbody>\n",
              "    <tr>\n",
              "      <th>0</th>\n",
              "      <td>헌법</td>\n",
              "      <td>개성공업지구 지원에 관한 법률</td>\n",
              "      <td>The purpose of this Act is to enhance inter-Ko...</td>\n",
              "      <td>이 법은 개성공업지구의 개발ㆍ운영의 지원 및 개성공업지구에 투자하거나 출입ㆍ체류하는...</td>\n",
              "    </tr>\n",
              "    <tr>\n",
              "      <th>1</th>\n",
              "      <td>헌법</td>\n",
              "      <td>개성공업지구 지원에 관한 법률</td>\n",
              "      <td>The terms used in this Act are defined as foll...</td>\n",
              "      <td>이 법에서 사용하는 용어의 정의는 다음과 같다.</td>\n",
              "    </tr>\n",
              "    <tr>\n",
              "      <th>2</th>\n",
              "      <td>헌법</td>\n",
              "      <td>개성공업지구 지원에 관한 법률</td>\n",
              "      <td>The term “Gaeseong Industrial Complex” or “GIC...</td>\n",
              "      <td>“개성공업지구”란 남한과 북한 사이의 합의에 따라서 북한의 개성지역 일대에서 개발ㆍ...</td>\n",
              "    </tr>\n",
              "    <tr>\n",
              "      <th>3</th>\n",
              "      <td>헌법</td>\n",
              "      <td>개성공업지구 지원에 관한 법률</td>\n",
              "      <td>The term “GIC developer” means a South Korean ...</td>\n",
              "      <td>“개성공업지구 개발업자”란 남북교류협력에 관한 법률에 따른 협력사업의 승인을 받아 ...</td>\n",
              "    </tr>\n",
              "    <tr>\n",
              "      <th>4</th>\n",
              "      <td>헌법</td>\n",
              "      <td>개성공업지구 지원에 관한 법률</td>\n",
              "      <td>The term “GIC management organ” means a corpor...</td>\n",
              "      <td>“개성공업지구 관리기관”이란 개성공업지구의 관리ㆍ운영을 위하여 북한의 개성공업지구법...</td>\n",
              "    </tr>\n",
              "    <tr>\n",
              "      <th>...</th>\n",
              "      <td>...</td>\n",
              "      <td>...</td>\n",
              "      <td>...</td>\n",
              "      <td>...</td>\n",
              "    </tr>\n",
              "    <tr>\n",
              "      <th>218035</th>\n",
              "      <td>-</td>\n",
              "      <td>주한미군 소속 한국인 근로자의 지원을 위한 특별법</td>\n",
              "      <td>The person is found to have been paid the subs...</td>\n",
              "      <td>거짓이나 그 밖의 부정한 방법으로 지원금의 지급을 받은 경우</td>\n",
              "    </tr>\n",
              "    <tr>\n",
              "      <th>218036</th>\n",
              "      <td>-</td>\n",
              "      <td>주한미군 소속 한국인 근로자의 지원을 위한 특별법</td>\n",
              "      <td>The subsidy is found to have been paid erroneo...</td>\n",
              "      <td>이 법에서 정한 기준에서 벗어나 잘못 지급된 경우</td>\n",
              "    </tr>\n",
              "    <tr>\n",
              "      <th>218037</th>\n",
              "      <td>-</td>\n",
              "      <td>주한미군 소속 한국인 근로자의 지원을 위한 특별법</td>\n",
              "      <td>The State may recover, in whole or in part, a ...</td>\n",
              "      <td>국가는 이 법에 따른 지원금을 받은 사람이 다음 각 호의 어느 하나에 해당하는 경우...</td>\n",
              "    </tr>\n",
              "    <tr>\n",
              "      <th>218038</th>\n",
              "      <td>-</td>\n",
              "      <td>주한미군 소속 한국인 근로자의 지원을 위한 특별법</td>\n",
              "      <td>Where a person who should return a subsidy fai...</td>\n",
              "      <td>제1항에 따라 환수하는 경우 그 반환할 사람이 정하여진 기간 이내에 이를 반환하지 ...</td>\n",
              "    </tr>\n",
              "    <tr>\n",
              "      <th>218039</th>\n",
              "      <td>-</td>\n",
              "      <td>주한미군 소속 한국인 근로자의 지원을 위한 특별법</td>\n",
              "      <td>The right to be paid a subsidy under this Act ...</td>\n",
              "      <td>이 법에 따른 지원금의 지급을 받을 권리는 그 지원금 결정서 정본이 신청인에게 송달...</td>\n",
              "    </tr>\n",
              "  </tbody>\n",
              "</table>\n",
              "<p>218040 rows × 4 columns</p>\n",
              "</div>"
            ],
            "text/plain": [
              "       category                      lawName  \\\n",
              "0            헌법             개성공업지구 지원에 관한 법률   \n",
              "1            헌법             개성공업지구 지원에 관한 법률   \n",
              "2            헌법             개성공업지구 지원에 관한 법률   \n",
              "3            헌법             개성공업지구 지원에 관한 법률   \n",
              "4            헌법             개성공업지구 지원에 관한 법률   \n",
              "...         ...                          ...   \n",
              "218035        -  주한미군 소속 한국인 근로자의 지원을 위한 특별법   \n",
              "218036        -  주한미군 소속 한국인 근로자의 지원을 위한 특별법   \n",
              "218037        -  주한미군 소속 한국인 근로자의 지원을 위한 특별법   \n",
              "218038        -  주한미군 소속 한국인 근로자의 지원을 위한 특별법   \n",
              "218039        -  주한미군 소속 한국인 근로자의 지원을 위한 특별법   \n",
              "\n",
              "                                                      ENG  \\\n",
              "0       The purpose of this Act is to enhance inter-Ko...   \n",
              "1       The terms used in this Act are defined as foll...   \n",
              "2       The term “Gaeseong Industrial Complex” or “GIC...   \n",
              "3       The term “GIC developer” means a South Korean ...   \n",
              "4       The term “GIC management organ” means a corpor...   \n",
              "...                                                   ...   \n",
              "218035  The person is found to have been paid the subs...   \n",
              "218036  The subsidy is found to have been paid erroneo...   \n",
              "218037  The State may recover, in whole or in part, a ...   \n",
              "218038  Where a person who should return a subsidy fai...   \n",
              "218039  The right to be paid a subsidy under this Act ...   \n",
              "\n",
              "                                                      KOR  \n",
              "0       이 법은 개성공업지구의 개발ㆍ운영의 지원 및 개성공업지구에 투자하거나 출입ㆍ체류하는...  \n",
              "1                              이 법에서 사용하는 용어의 정의는 다음과 같다.  \n",
              "2       “개성공업지구”란 남한과 북한 사이의 합의에 따라서 북한의 개성지역 일대에서 개발ㆍ...  \n",
              "3       “개성공업지구 개발업자”란 남북교류협력에 관한 법률에 따른 협력사업의 승인을 받아 ...  \n",
              "4       “개성공업지구 관리기관”이란 개성공업지구의 관리ㆍ운영을 위하여 북한의 개성공업지구법...  \n",
              "...                                                   ...  \n",
              "218035                  거짓이나 그 밖의 부정한 방법으로 지원금의 지급을 받은 경우  \n",
              "218036                        이 법에서 정한 기준에서 벗어나 잘못 지급된 경우  \n",
              "218037  국가는 이 법에 따른 지원금을 받은 사람이 다음 각 호의 어느 하나에 해당하는 경우...  \n",
              "218038  제1항에 따라 환수하는 경우 그 반환할 사람이 정하여진 기간 이내에 이를 반환하지 ...  \n",
              "218039  이 법에 따른 지원금의 지급을 받을 권리는 그 지원금 결정서 정본이 신청인에게 송달...  \n",
              "\n",
              "[218040 rows x 4 columns]"
            ]
          },
          "execution_count": 35,
          "metadata": {},
          "output_type": "execute_result"
        }
      ],
      "source": [
        "omitted_index = df_pre1.loc[df_pre1.ENG.str.contains(\"Omitted\")].index.to_list()\n",
        "deleted_index = df_pre1.loc[df_pre1.ENG.str.contains(\"Deleted\")].index.to_list()\n",
        "df_pre2 = df_pre1.drop(index=omitted_index+deleted_index).reset_index(drop=True)\n",
        "df_pre2"
      ]
    },
    {
      "cell_type": "markdown",
      "metadata": {
        "id": "wP0bzSct2bgo"
      },
      "source": [
        "## 2.2.정규식 후처리"
      ]
    },
    {
      "cell_type": "code",
      "execution_count": 36,
      "metadata": {
        "colab": {
          "base_uri": "https://localhost:8080/"
        },
        "id": "Hnx50mpm2eR8",
        "outputId": "86d39207-b2fc-436e-c083-16c6fc2d905c"
      },
      "outputs": [
        {
          "name": "stdout",
          "output_type": "stream",
          "text": [
            "영어가 공칸인 경우: 18175\n",
            "한글이 공칸인 경우: 18193\n",
            "둘 다 공칸인 경우: 18166\n"
          ]
        }
      ],
      "source": [
        "print(f'영어가 공칸인 경우: {df_pre2.loc[df_pre2[\"ENG\"]==\"\"].shape[0]}')\n",
        "print(f'한글이 공칸인 경우: {df_pre2.loc[df_pre2[\"KOR\"]==\"\"].shape[0]}')\n",
        "print(f'둘 다 공칸인 경우: {df_pre2.loc[(df_pre2[\"ENG\"]==\"\")&(df_pre2[\"KOR\"]==\"\")].shape[0]}')"
      ]
    },
    {
      "cell_type": "code",
      "execution_count": 37,
      "metadata": {
        "colab": {
          "base_uri": "https://localhost:8080/"
        },
        "id": "srsecD_73YeP",
        "outputId": "63da5361-edc9-4da9-ec8a-74fdcf4176f4"
      },
      "outputs": [
        {
          "data": {
            "text/plain": [
              "199838"
            ]
          },
          "execution_count": 37,
          "metadata": {},
          "output_type": "execute_result"
        }
      ],
      "source": [
        "df_pre2.loc[(df_pre2[\"ENG\"]!=\"\")&(df_pre2[\"KOR\"]!=\"\")].shape[0]"
      ]
    },
    {
      "cell_type": "code",
      "execution_count": 38,
      "metadata": {
        "colab": {
          "base_uri": "https://localhost:8080/",
          "height": 624
        },
        "id": "6ja1eZsl5Hr2",
        "outputId": "e26095cf-52cd-4cb1-b899-3213469e29ed"
      },
      "outputs": [
        {
          "data": {
            "text/html": [
              "<div>\n",
              "<style scoped>\n",
              "    .dataframe tbody tr th:only-of-type {\n",
              "        vertical-align: middle;\n",
              "    }\n",
              "\n",
              "    .dataframe tbody tr th {\n",
              "        vertical-align: top;\n",
              "    }\n",
              "\n",
              "    .dataframe thead th {\n",
              "        text-align: right;\n",
              "    }\n",
              "</style>\n",
              "<table border=\"1\" class=\"dataframe\">\n",
              "  <thead>\n",
              "    <tr style=\"text-align: right;\">\n",
              "      <th></th>\n",
              "      <th>category</th>\n",
              "      <th>lawName</th>\n",
              "      <th>ENG</th>\n",
              "      <th>KOR</th>\n",
              "    </tr>\n",
              "  </thead>\n",
              "  <tbody>\n",
              "    <tr>\n",
              "      <th>0</th>\n",
              "      <td>헌법</td>\n",
              "      <td>개성공업지구 지원에 관한 법률</td>\n",
              "      <td>The purpose of this Act is to enhance inter-Ko...</td>\n",
              "      <td>이 법은 개성공업지구의 개발ㆍ운영의 지원 및 개성공업지구에 투자하거나 출입ㆍ체류하는...</td>\n",
              "    </tr>\n",
              "    <tr>\n",
              "      <th>1</th>\n",
              "      <td>헌법</td>\n",
              "      <td>개성공업지구 지원에 관한 법률</td>\n",
              "      <td>The terms used in this Act are defined as foll...</td>\n",
              "      <td>이 법에서 사용하는 용어의 정의는 다음과 같다.</td>\n",
              "    </tr>\n",
              "    <tr>\n",
              "      <th>2</th>\n",
              "      <td>헌법</td>\n",
              "      <td>개성공업지구 지원에 관한 법률</td>\n",
              "      <td>The term “Gaeseong Industrial Complex” or “GIC...</td>\n",
              "      <td>“개성공업지구”란 남한과 북한 사이의 합의에 따라서 북한의 개성지역 일대에서 개발ㆍ...</td>\n",
              "    </tr>\n",
              "    <tr>\n",
              "      <th>3</th>\n",
              "      <td>헌법</td>\n",
              "      <td>개성공업지구 지원에 관한 법률</td>\n",
              "      <td>The term “GIC developer” means a South Korean ...</td>\n",
              "      <td>“개성공업지구 개발업자”란 남북교류협력에 관한 법률에 따른 협력사업의 승인을 받아 ...</td>\n",
              "    </tr>\n",
              "    <tr>\n",
              "      <th>4</th>\n",
              "      <td>헌법</td>\n",
              "      <td>개성공업지구 지원에 관한 법률</td>\n",
              "      <td>The term “GIC management organ” means a corpor...</td>\n",
              "      <td>“개성공업지구 관리기관”이란 개성공업지구의 관리ㆍ운영을 위하여 북한의 개성공업지구법...</td>\n",
              "    </tr>\n",
              "    <tr>\n",
              "      <th>...</th>\n",
              "      <td>...</td>\n",
              "      <td>...</td>\n",
              "      <td>...</td>\n",
              "      <td>...</td>\n",
              "    </tr>\n",
              "    <tr>\n",
              "      <th>199833</th>\n",
              "      <td>-</td>\n",
              "      <td>주한미군 소속 한국인 근로자의 지원을 위한 특별법</td>\n",
              "      <td>The person is found to have been paid the subs...</td>\n",
              "      <td>거짓이나 그 밖의 부정한 방법으로 지원금의 지급을 받은 경우</td>\n",
              "    </tr>\n",
              "    <tr>\n",
              "      <th>199834</th>\n",
              "      <td>-</td>\n",
              "      <td>주한미군 소속 한국인 근로자의 지원을 위한 특별법</td>\n",
              "      <td>The subsidy is found to have been paid erroneo...</td>\n",
              "      <td>이 법에서 정한 기준에서 벗어나 잘못 지급된 경우</td>\n",
              "    </tr>\n",
              "    <tr>\n",
              "      <th>199835</th>\n",
              "      <td>-</td>\n",
              "      <td>주한미군 소속 한국인 근로자의 지원을 위한 특별법</td>\n",
              "      <td>The State may recover, in whole or in part, a ...</td>\n",
              "      <td>국가는 이 법에 따른 지원금을 받은 사람이 다음 각 호의 어느 하나에 해당하는 경우...</td>\n",
              "    </tr>\n",
              "    <tr>\n",
              "      <th>199836</th>\n",
              "      <td>-</td>\n",
              "      <td>주한미군 소속 한국인 근로자의 지원을 위한 특별법</td>\n",
              "      <td>Where a person who should return a subsidy fai...</td>\n",
              "      <td>제1항에 따라 환수하는 경우 그 반환할 사람이 정하여진 기간 이내에 이를 반환하지 ...</td>\n",
              "    </tr>\n",
              "    <tr>\n",
              "      <th>199837</th>\n",
              "      <td>-</td>\n",
              "      <td>주한미군 소속 한국인 근로자의 지원을 위한 특별법</td>\n",
              "      <td>The right to be paid a subsidy under this Act ...</td>\n",
              "      <td>이 법에 따른 지원금의 지급을 받을 권리는 그 지원금 결정서 정본이 신청인에게 송달...</td>\n",
              "    </tr>\n",
              "  </tbody>\n",
              "</table>\n",
              "<p>199838 rows × 4 columns</p>\n",
              "</div>"
            ],
            "text/plain": [
              "       category                      lawName  \\\n",
              "0            헌법             개성공업지구 지원에 관한 법률   \n",
              "1            헌법             개성공업지구 지원에 관한 법률   \n",
              "2            헌법             개성공업지구 지원에 관한 법률   \n",
              "3            헌법             개성공업지구 지원에 관한 법률   \n",
              "4            헌법             개성공업지구 지원에 관한 법률   \n",
              "...         ...                          ...   \n",
              "199833        -  주한미군 소속 한국인 근로자의 지원을 위한 특별법   \n",
              "199834        -  주한미군 소속 한국인 근로자의 지원을 위한 특별법   \n",
              "199835        -  주한미군 소속 한국인 근로자의 지원을 위한 특별법   \n",
              "199836        -  주한미군 소속 한국인 근로자의 지원을 위한 특별법   \n",
              "199837        -  주한미군 소속 한국인 근로자의 지원을 위한 특별법   \n",
              "\n",
              "                                                      ENG  \\\n",
              "0       The purpose of this Act is to enhance inter-Ko...   \n",
              "1       The terms used in this Act are defined as foll...   \n",
              "2       The term “Gaeseong Industrial Complex” or “GIC...   \n",
              "3       The term “GIC developer” means a South Korean ...   \n",
              "4       The term “GIC management organ” means a corpor...   \n",
              "...                                                   ...   \n",
              "199833  The person is found to have been paid the subs...   \n",
              "199834  The subsidy is found to have been paid erroneo...   \n",
              "199835  The State may recover, in whole or in part, a ...   \n",
              "199836  Where a person who should return a subsidy fai...   \n",
              "199837  The right to be paid a subsidy under this Act ...   \n",
              "\n",
              "                                                      KOR  \n",
              "0       이 법은 개성공업지구의 개발ㆍ운영의 지원 및 개성공업지구에 투자하거나 출입ㆍ체류하는...  \n",
              "1                              이 법에서 사용하는 용어의 정의는 다음과 같다.  \n",
              "2       “개성공업지구”란 남한과 북한 사이의 합의에 따라서 북한의 개성지역 일대에서 개발ㆍ...  \n",
              "3       “개성공업지구 개발업자”란 남북교류협력에 관한 법률에 따른 협력사업의 승인을 받아 ...  \n",
              "4       “개성공업지구 관리기관”이란 개성공업지구의 관리ㆍ운영을 위하여 북한의 개성공업지구법...  \n",
              "...                                                   ...  \n",
              "199833                  거짓이나 그 밖의 부정한 방법으로 지원금의 지급을 받은 경우  \n",
              "199834                        이 법에서 정한 기준에서 벗어나 잘못 지급된 경우  \n",
              "199835  국가는 이 법에 따른 지원금을 받은 사람이 다음 각 호의 어느 하나에 해당하는 경우...  \n",
              "199836  제1항에 따라 환수하는 경우 그 반환할 사람이 정하여진 기간 이내에 이를 반환하지 ...  \n",
              "199837  이 법에 따른 지원금의 지급을 받을 권리는 그 지원금 결정서 정본이 신청인에게 송달...  \n",
              "\n",
              "[199838 rows x 4 columns]"
            ]
          },
          "execution_count": 38,
          "metadata": {},
          "output_type": "execute_result"
        }
      ],
      "source": [
        "df_pre3 = df_pre2.loc[(df_pre2[\"ENG\"]!=\"\")&(df_pre2[\"KOR\"]!=\"\")].reset_index(drop=True)\n",
        "df_pre3"
      ]
    },
    {
      "cell_type": "markdown",
      "metadata": {
        "id": "YgIUm5P45big"
      },
      "source": [
        "## 2.3.다른 특수기호 찾기\n",
        "\n",
        "- \"\\*|○|⇒|ㅇ\""
      ]
    },
    {
      "cell_type": "code",
      "execution_count": 39,
      "metadata": {
        "id": "5eoWgjzfGXM4"
      },
      "outputs": [
        {
          "data": {
            "text/html": [
              "<div>\n",
              "<style scoped>\n",
              "    .dataframe tbody tr th:only-of-type {\n",
              "        vertical-align: middle;\n",
              "    }\n",
              "\n",
              "    .dataframe tbody tr th {\n",
              "        vertical-align: top;\n",
              "    }\n",
              "\n",
              "    .dataframe thead th {\n",
              "        text-align: right;\n",
              "    }\n",
              "</style>\n",
              "<table border=\"1\" class=\"dataframe\">\n",
              "  <thead>\n",
              "    <tr style=\"text-align: right;\">\n",
              "      <th></th>\n",
              "      <th>category</th>\n",
              "      <th>lawName</th>\n",
              "      <th>ENG</th>\n",
              "      <th>KOR</th>\n",
              "    </tr>\n",
              "  </thead>\n",
              "  <tbody>\n",
              "  </tbody>\n",
              "</table>\n",
              "</div>"
            ],
            "text/plain": [
              "Empty DataFrame\n",
              "Columns: [category, lawName, ENG, KOR]\n",
              "Index: []"
            ]
          },
          "execution_count": 39,
          "metadata": {},
          "output_type": "execute_result"
        }
      ],
      "source": [
        "df_pre3.loc[df_pre3.ENG.str.contains(\"\\*\")]"
      ]
    },
    {
      "cell_type": "code",
      "execution_count": 40,
      "metadata": {},
      "outputs": [
        {
          "data": {
            "text/html": [
              "<div>\n",
              "<style scoped>\n",
              "    .dataframe tbody tr th:only-of-type {\n",
              "        vertical-align: middle;\n",
              "    }\n",
              "\n",
              "    .dataframe tbody tr th {\n",
              "        vertical-align: top;\n",
              "    }\n",
              "\n",
              "    .dataframe thead th {\n",
              "        text-align: right;\n",
              "    }\n",
              "</style>\n",
              "<table border=\"1\" class=\"dataframe\">\n",
              "  <thead>\n",
              "    <tr style=\"text-align: right;\">\n",
              "      <th></th>\n",
              "      <th>category</th>\n",
              "      <th>lawName</th>\n",
              "      <th>ENG</th>\n",
              "      <th>KOR</th>\n",
              "    </tr>\n",
              "  </thead>\n",
              "  <tbody>\n",
              "  </tbody>\n",
              "</table>\n",
              "</div>"
            ],
            "text/plain": [
              "Empty DataFrame\n",
              "Columns: [category, lawName, ENG, KOR]\n",
              "Index: []"
            ]
          },
          "execution_count": 40,
          "metadata": {},
          "output_type": "execute_result"
        }
      ],
      "source": [
        "df_pre3.loc[df_pre3.KOR.str.contains(\"\\*\")]"
      ]
    },
    {
      "cell_type": "code",
      "execution_count": 41,
      "metadata": {},
      "outputs": [
        {
          "data": {
            "text/html": [
              "<div>\n",
              "<style scoped>\n",
              "    .dataframe tbody tr th:only-of-type {\n",
              "        vertical-align: middle;\n",
              "    }\n",
              "\n",
              "    .dataframe tbody tr th {\n",
              "        vertical-align: top;\n",
              "    }\n",
              "\n",
              "    .dataframe thead th {\n",
              "        text-align: right;\n",
              "    }\n",
              "</style>\n",
              "<table border=\"1\" class=\"dataframe\">\n",
              "  <thead>\n",
              "    <tr style=\"text-align: right;\">\n",
              "      <th></th>\n",
              "      <th>category</th>\n",
              "      <th>lawName</th>\n",
              "      <th>ENG</th>\n",
              "      <th>KOR</th>\n",
              "    </tr>\n",
              "  </thead>\n",
              "  <tbody>\n",
              "  </tbody>\n",
              "</table>\n",
              "</div>"
            ],
            "text/plain": [
              "Empty DataFrame\n",
              "Columns: [category, lawName, ENG, KOR]\n",
              "Index: []"
            ]
          },
          "execution_count": 41,
          "metadata": {},
          "output_type": "execute_result"
        }
      ],
      "source": [
        "df_pre3.loc[df_pre3.ENG.str.contains(\"○\")]"
      ]
    },
    {
      "cell_type": "code",
      "execution_count": 42,
      "metadata": {},
      "outputs": [
        {
          "data": {
            "text/html": [
              "<div>\n",
              "<style scoped>\n",
              "    .dataframe tbody tr th:only-of-type {\n",
              "        vertical-align: middle;\n",
              "    }\n",
              "\n",
              "    .dataframe tbody tr th {\n",
              "        vertical-align: top;\n",
              "    }\n",
              "\n",
              "    .dataframe thead th {\n",
              "        text-align: right;\n",
              "    }\n",
              "</style>\n",
              "<table border=\"1\" class=\"dataframe\">\n",
              "  <thead>\n",
              "    <tr style=\"text-align: right;\">\n",
              "      <th></th>\n",
              "      <th>category</th>\n",
              "      <th>lawName</th>\n",
              "      <th>ENG</th>\n",
              "      <th>KOR</th>\n",
              "    </tr>\n",
              "  </thead>\n",
              "  <tbody>\n",
              "    <tr>\n",
              "      <th>52094</th>\n",
              "      <td>문화ㆍ공보</td>\n",
              "      <td>박물관 및 미술관 진흥법 시행령</td>\n",
              "      <td>A museum or art gallery having received a cert...</td>\n",
              "      <td>제8조제2항에 따라 등록증을 받은 박물관과 미술관은 법 제17조제2항에 따라 옥외간...</td>\n",
              "    </tr>\n",
              "  </tbody>\n",
              "</table>\n",
              "</div>"
            ],
            "text/plain": [
              "      category            lawName  \\\n",
              "52094    문화ㆍ공보  박물관 및 미술관 진흥법 시행령   \n",
              "\n",
              "                                                     ENG  \\\n",
              "52094  A museum or art gallery having received a cert...   \n",
              "\n",
              "                                                     KOR  \n",
              "52094  제8조제2항에 따라 등록증을 받은 박물관과 미술관은 법 제17조제2항에 따라 옥외간...  "
            ]
          },
          "execution_count": 42,
          "metadata": {},
          "output_type": "execute_result"
        }
      ],
      "source": [
        "df_pre3.loc[df_pre3.KOR.str.contains(\"○\")]"
      ]
    },
    {
      "cell_type": "code",
      "execution_count": 43,
      "metadata": {},
      "outputs": [
        {
          "name": "stdout",
          "output_type": "stream",
          "text": [
            "A museum or art gallery having received a certificate of registration pursuant to Article 8 (2) shall mark “Registration No. OO by the Minister of Culture, Sports and Tourism or OO City or Do” on outdoor signboards, etc. pursuant to Article 17 (2) of the Act.\n",
            "제8조제2항에 따라 등록증을 받은 박물관과 미술관은 법 제17조제2항에 따라 옥외간판 등에 “문화체육관광부장관 또는 ○○시ㆍ도 등록 제○○호”를 표시하여야 한다.\n"
          ]
        }
      ],
      "source": [
        "print(df_pre3.loc[52094, \"ENG\"])\n",
        "print(df_pre3.loc[52094, \"KOR\"])"
      ]
    },
    {
      "cell_type": "code",
      "execution_count": 44,
      "metadata": {},
      "outputs": [
        {
          "data": {
            "text/html": [
              "<div>\n",
              "<style scoped>\n",
              "    .dataframe tbody tr th:only-of-type {\n",
              "        vertical-align: middle;\n",
              "    }\n",
              "\n",
              "    .dataframe tbody tr th {\n",
              "        vertical-align: top;\n",
              "    }\n",
              "\n",
              "    .dataframe thead th {\n",
              "        text-align: right;\n",
              "    }\n",
              "</style>\n",
              "<table border=\"1\" class=\"dataframe\">\n",
              "  <thead>\n",
              "    <tr style=\"text-align: right;\">\n",
              "      <th></th>\n",
              "      <th>category</th>\n",
              "      <th>lawName</th>\n",
              "      <th>ENG</th>\n",
              "      <th>KOR</th>\n",
              "    </tr>\n",
              "  </thead>\n",
              "  <tbody>\n",
              "  </tbody>\n",
              "</table>\n",
              "</div>"
            ],
            "text/plain": [
              "Empty DataFrame\n",
              "Columns: [category, lawName, ENG, KOR]\n",
              "Index: []"
            ]
          },
          "execution_count": 44,
          "metadata": {},
          "output_type": "execute_result"
        }
      ],
      "source": [
        "df_pre3.loc[df_pre3.ENG.str.contains(\"⇒\")]"
      ]
    },
    {
      "cell_type": "code",
      "execution_count": 45,
      "metadata": {},
      "outputs": [
        {
          "data": {
            "text/html": [
              "<div>\n",
              "<style scoped>\n",
              "    .dataframe tbody tr th:only-of-type {\n",
              "        vertical-align: middle;\n",
              "    }\n",
              "\n",
              "    .dataframe tbody tr th {\n",
              "        vertical-align: top;\n",
              "    }\n",
              "\n",
              "    .dataframe thead th {\n",
              "        text-align: right;\n",
              "    }\n",
              "</style>\n",
              "<table border=\"1\" class=\"dataframe\">\n",
              "  <thead>\n",
              "    <tr style=\"text-align: right;\">\n",
              "      <th></th>\n",
              "      <th>category</th>\n",
              "      <th>lawName</th>\n",
              "      <th>ENG</th>\n",
              "      <th>KOR</th>\n",
              "    </tr>\n",
              "  </thead>\n",
              "  <tbody>\n",
              "  </tbody>\n",
              "</table>\n",
              "</div>"
            ],
            "text/plain": [
              "Empty DataFrame\n",
              "Columns: [category, lawName, ENG, KOR]\n",
              "Index: []"
            ]
          },
          "execution_count": 45,
          "metadata": {},
          "output_type": "execute_result"
        }
      ],
      "source": [
        "df_pre3.loc[df_pre3.KOR.str.contains(\"⇒\")]"
      ]
    },
    {
      "cell_type": "code",
      "execution_count": 46,
      "metadata": {},
      "outputs": [
        {
          "data": {
            "text/html": [
              "<div>\n",
              "<style scoped>\n",
              "    .dataframe tbody tr th:only-of-type {\n",
              "        vertical-align: middle;\n",
              "    }\n",
              "\n",
              "    .dataframe tbody tr th {\n",
              "        vertical-align: top;\n",
              "    }\n",
              "\n",
              "    .dataframe thead th {\n",
              "        text-align: right;\n",
              "    }\n",
              "</style>\n",
              "<table border=\"1\" class=\"dataframe\">\n",
              "  <thead>\n",
              "    <tr style=\"text-align: right;\">\n",
              "      <th></th>\n",
              "      <th>category</th>\n",
              "      <th>lawName</th>\n",
              "      <th>ENG</th>\n",
              "      <th>KOR</th>\n",
              "    </tr>\n",
              "  </thead>\n",
              "  <tbody>\n",
              "  </tbody>\n",
              "</table>\n",
              "</div>"
            ],
            "text/plain": [
              "Empty DataFrame\n",
              "Columns: [category, lawName, ENG, KOR]\n",
              "Index: []"
            ]
          },
          "execution_count": 46,
          "metadata": {},
          "output_type": "execute_result"
        }
      ],
      "source": [
        "df_pre3.loc[df_pre3.ENG.str.contains(\"ㅇ\")]"
      ]
    },
    {
      "cell_type": "code",
      "execution_count": 47,
      "metadata": {},
      "outputs": [
        {
          "data": {
            "text/html": [
              "<div>\n",
              "<style scoped>\n",
              "    .dataframe tbody tr th:only-of-type {\n",
              "        vertical-align: middle;\n",
              "    }\n",
              "\n",
              "    .dataframe tbody tr th {\n",
              "        vertical-align: top;\n",
              "    }\n",
              "\n",
              "    .dataframe thead th {\n",
              "        text-align: right;\n",
              "    }\n",
              "</style>\n",
              "<table border=\"1\" class=\"dataframe\">\n",
              "  <thead>\n",
              "    <tr style=\"text-align: right;\">\n",
              "      <th></th>\n",
              "      <th>category</th>\n",
              "      <th>lawName</th>\n",
              "      <th>ENG</th>\n",
              "      <th>KOR</th>\n",
              "    </tr>\n",
              "  </thead>\n",
              "  <tbody>\n",
              "  </tbody>\n",
              "</table>\n",
              "</div>"
            ],
            "text/plain": [
              "Empty DataFrame\n",
              "Columns: [category, lawName, ENG, KOR]\n",
              "Index: []"
            ]
          },
          "execution_count": 47,
          "metadata": {},
          "output_type": "execute_result"
        }
      ],
      "source": [
        "df_pre3.loc[df_pre3.KOR.str.contains(\"ㅇ\")]"
      ]
    },
    {
      "cell_type": "code",
      "execution_count": 48,
      "metadata": {},
      "outputs": [
        {
          "name": "stdout",
          "output_type": "stream",
          "text": [
            "\t 7335\n",
            "The fundamental concept of this Act is to ensure that all youths realize their dignity and values ??as human beings, enjoy the guaranteed right to a happy life, and fulfill their civic responsibilities as an ordinary citizen.\n",
            "이 법은 청년이 인간으로서의 존엄과 가치를 실현하고 행복한 삶을 영위할 수 있는 권리를 보장받으며 건전한 민주시민으로서의 책무를 다할 수 있도록 하는 것을 기본이념으로 한다.\n",
            "___________________________________________________\n",
            "\t 9083\n",
            "When the Commission decides to pay a monetary award or reward under paragraph (1), it shall, without delay, send the authentic copy of a written decision and a decision notice to the person subject to the monetary award or the applicant for the monetary reward.?\n",
            "위원회는 제1항에 따른 포상금 또는 보상금의 지급 결정을 할 때에는 결정서 정본 및 결정통지서를 포상금 지급대상자 또는 보상금 신청자에게 지체 없이 송부해야 한다.\n",
            "___________________________________________________\n",
            "\t 9585\n",
            "No position-based wage shall be paid to the following senior executives, and the standard wage shall be reduced by 20 percent until the date on which three months elapse from the date on which a senior executive starts working without being assigned to any particular position; and 30 percent for the period during which he or she works without being assigned to any particular position after the date on which three months elapse and before the date on which six months elapse; and 40 percent after the period of more than six months during which he or she works without being assigned to any particular position:?\n",
            "다음 각 호의 고위공무원에게는 직무급을 지급하지 아니하며, 기준급은 보직 없이 근무하는 날부터 보직 없이 근무하는 기간이 3개월이 되는 날까지는 기준급의 20퍼센트를 감액하여 지급하고, 보직 없이 근무하는 기간이 3개월이 지난 이후부터 6개월 이내까지는 기준급의 30퍼센트를 감액하여 지급하며, 6개월이 지난 이후부터는 기준급의 40퍼센트를 감액하여 지급한다.\n",
            "___________________________________________________\n",
            "\t 29825\n",
            "In any of the following cases, the Fire Commissioner of the National Fire Agency, etc. shall transfer or hand over the custody of the saved person, the dead person, or the recovered goods to the Governor of a Special Self-Governing Province or the head of a Si/Gun/Gu (where a?disaster and safety countermeasures headquarters has been organized under Article 14 or 16 of the Framework Act on the Management of Disasters and Safety, referring to the director general of the relevant disaster and safety countermeasures headquarters; hereinafter the same shall apply):\n",
            "소방청장등은 다음 각 호의 어느 하나에 해당하는 때에는 구조된 사람, 사망자 또는 구조된 물건을 특별자치도지사ㆍ시장ㆍ군수ㆍ구청장(재난 및 안전관리 기본법 제14조 또는 제16조에 따른 재난안전대책본부가 구성된 경우 해당 재난안전대책본부장을 말한다. 이하 같다)에게 인도하거나 인계하여야 한다.\n",
            "___________________________________________________\n",
            "\t 30926\n",
            "An interested party of a specific object of fire service shall conduct an in-house inspection, within the periods classified as follows or shall entrust a management business entity whose inspection capability is evaluated pursuant to Article 34 or a qualified technical expert prescribed by Ordinance of the Ministry of the Interior and Safety (hereinafter referred to as \"management business entity, etc.\") to conduct a regular inspection (hereinafter referred to as \"in-house inspection\"), with respect to whether firefighting systems, etc. established in the relevant specific object have been established and managed in compliance with?this Act or an order, etc. issued under this Act; in such cases, where a management business entity, etc. has conducted an inspection, such entity shall submit the inspection results to the interested party, as prescribed by Ordinance of the Ministry of the Interior and Safety:\n",
            "특정소방대상물의 관계인은 그 대상물에 설치되어 있는 소방시설등이 이 법이나 이 법에 따른 명령 등에 적합하게 설치ㆍ관리되고 있는지에 대하여 다음 각 호의 구분에 따른 기간 내에 스스로 점검하거나 제34조에 따른 점검능력 평가를 받은 관리업자 또는 행정안전부령으로 정하는 기술자격자(이하 “관리업자등”이라 한다)로 하여금 정기적으로 점검(이하 “자체점검”이라 한다)하게 하여야 한다. 이 경우 관리업자등이 점검한 경우에는 그 점검 결과를 행정안전부령으로 정하는 바에 따라 관계인에게 제출하여야 한다.\n",
            "___________________________________________________\n",
            "\t 50960\n",
            "The term \"companies specializing in distribution\" means companies established for the smooth distribution of cultural products and the reduction of logistics expenses, which have made a report to the Minister of Culture, Sports and Tourism, or the Special Metropolitan City Mayor,?the Metropolitan City Mayor, the Do Governor or the Governor of a Special Self-Governing Province (hereinafter referred to as the \"Mayor/Do Governor\") under Article 14;\n",
            "“유통전문회사”란 문화상품의 원활한 유통과 물류비용의 절감을 위하여 설립된 회사로서 제14조에 따라 문화체육관광부장관 또는 특별시장ㆍ광역시장ㆍ도지사ㆍ특별자치도지사(이하 “시ㆍ도지사”라 한다)에게 신고한 회사를 말한다.\n",
            "___________________________________________________\n",
            "\t 53217\n",
            "The name and purpose of the project, the location and area of ??the project site, and the project period;\n",
            "사업의 명칭ㆍ목적, 사업시행지의 위치ㆍ면적 및 사업 시행기간\n",
            "___________________________________________________\n",
            "\t 55809\n",
            "The term “management area” means an area surrounding the preservation area that contributes to the conservation of the historical and cultural values ??of Pungnap-toseong, which is designated by the Administrator of the Cultural Heritage Administration in accordance with Article 7, to encourage the improvement of historic and cultural landscapes of the area and the residential and living environment for the residents;\n",
            "\"관리구역\"이란 풍납토성의 역사문화적 가치 보존에 기여하는 보존구역 주변지역으로서 구역 내 역사문화경관과 주민의 주거ㆍ생활환경 향상 등을 도모하기 위하여 제7조에 따라 문화재청장이 지정하는 구역을 말한다.\n",
            "___________________________________________________\n",
            "\t 72884\n",
            "Distributors and processors of agricultural, forestry and fishery products (referring to agricultural and fishery products under subparagraph 6 of Article 3 of Framework Act on Agriculture, Rural Community and Food Industry and processed products of agricultural and fishery products prescribed by Presidential Decree; hereinafter the same shall apply)?as prescribed by Presidential Decree;\n",
            "농림수산물(농업ㆍ농촌 및 식품산업 기본법 제3조제6호에 따른 농수산물 및 대통령령으로 정하는 농수산물가공품을 말한다. 이하 같다) 유통ㆍ가공업자로서 대통령령으로 정하는 자\n",
            "___________________________________________________\n",
            "\t 83213\n",
            "? An executive officer or employee of a certification body engaged in the certification service pursuant to Article 26 (1) or 35 (1);\n",
            "제26조제1항 또는 제35조제1항에 따라 인증업무에 종사하는 인증기관의 임직원\n",
            "___________________________________________________\n",
            "\t 99330\n",
            "Any person who commits any offence provided in Articles 56, 57, 59, subparagraphs 3 through 6 of Article 60 and Articles 61 through 68 shall be deemed a customs-related offender under Article 283 (1) of the Customs Act and subject to the provisions of CHAPTER ? (Articles 283 through 319) of that Act.\n",
            "제56조, 제57조, 제59조, 제60조제3호부터 제6호까지 및 제61조부터 제68조까지에서 규정한 벌칙에 위반되는 행위를 한 자는 관세법 제283조제1항에 따른 관세범으로 보아 같은 법 제12장(제283조부터 제319조까지)을 적용한다.\n",
            "___________________________________________________\n",
            "\t 99368\n",
            "One person respectively designated by the head of the relevant agency from among public officials in Grade III who work for the Ministry?of Strategy and Finance; the Ministry of Justice; the Ministry of the Interior and Safety; the Ministry of Trade, Industry and Energy; the Ministry of Health and Welfare; the Ministry of Employment and Labor; the Financial Services Commission; the National Tax Service; and the Public Procurement Service, or from among members in general service of the Senior Executive Service; and the Chairperson of the Korean Disabled Entrepreneurs Association prescribed by Article 11 of the Act;\n",
            "기획재정부ㆍ법무부ㆍ행정안전부ㆍ산업통상자원부ㆍ보건복지부ㆍ고용노동부ㆍ금융위원회ㆍ국세청 및 조달청에 근무하는 3급 공무원 또는 고위공무원단에 속하는 일반직공무원 중에서 해당 기관의 장이 지명하는 사람 각 1명과 법 제11조의 규정에 의한 한국장애경제인협회의 회장\n",
            "___________________________________________________\n",
            "\t 120915\n",
            "Securing equilibrium?between social classes and between regions regarding the development of green buildings.\n",
            "녹색건축물의 조성에 대한 계층 간, 지역 간 균형성 확보\n",
            "___________________________________________________\n",
            "\t 128781\n",
            "A precipitation gauge shall be installed at a point suitable for measuring precipitation in the upstream catchment area of ??the river facility taking into consideration the conditions of the river and weather, as classified below:\n",
            "강수량 조사기기는 하천ㆍ기상 등의 상황을 고려하여 해당 하천시설의 상류집수지역 중 강수량 조사에 적합한 지점에 다음 각 목의 구분에 따라 설치할 것\n",
            "___________________________________________________\n",
            "\t 136240\n",
            "Upon the establishment of a master plan and an implementation plan, the Minister of Agriculture, Food and Rural Affairs shall publish such plans, as prescribed by Ordinance of the Ministry of Agriculture, Food and Rural Affairs. ?\n",
            "농림축산식품부장관은 기본계획 및 시행계획을 수립한 때에는 농림축산식품부령으로 정하는 바에 따라 이를 공표하여야 한다.\n",
            "___________________________________________________\n",
            "\t 143856\n",
            "Formulation of a comprehensive plan for the World Jamboree, and formulation and? implementation of detailed operational plans;\n",
            "세계잼버리 종합계획 수립 및 세부 운영계획의 수립ㆍ시행\n",
            "___________________________________________________\n",
            "\t 153037\n",
            "A person who was within a 3.5?kilometer radius of the hypocenter within two weeks after either of the atomic bombings;\n",
            "원자폭탄이 투하된 때부터 2주 이내에 투하 중심지역 3.5킬로미터 이내에 있었던 사람\n",
            "___________________________________________________\n",
            "\t 161370\n",
            "?A penalty surcharge collected in accordance with paragraphs (1) and (2) shall be accounted as the revenue of the Special Account for Environmental Improvement.\n",
            "제1항과 제2항에 따라 징수한 과징금은 환경개선특별회계의 세입으로 한다.\n",
            "___________________________________________________\n",
            "\t 167229\n",
            "\"Controlled conditions complying with the procedure and manner prescribed by Ordinance of the Ministry of Environment\" in Article 11 (1) 8 of the Decree means the controlled conditions specified in attached Table 3?2.\n",
            "영 제11조제1항제8호에서 “환경부령으로 정하는 절차 및 방법에 따라 통제된 조건”이란 별표 3의2에 따른 통제된 조건을 말한다.\n",
            "___________________________________________________\n",
            "\t 185045\n",
            "An application for compensation or ex gratia payments under paragraph (1) shall be filed within six months after this Act enters into force: Provided, That where an applicant finds it impracticable to file an application within such period due to extenuating circumstances, such as? overseas domicile for a certain period, the applicant shall file an application within six months from the date the circumstance ceases to exist.\n",
            "제1항에 따른 배상금ㆍ위로지원금 및 보상금의 지급신청은 이 법 시행 후 6개월 이내에 하여야 한다. 다만, 신청인이 일정기간 이상 국외에 거주하는 등 특별한 사유로 인하여 그 기간 내에 신청할 수 없는 때에는 그 사유가 해소된 날부터 6개월 이내에 신청하여야 한다.\n",
            "___________________________________________________\n",
            "\t 185100\n",
            "If necessary for facilitating effective assistance with community recovery,?the head of a complex facility under paragraph (1) shall have the staff of such facility provide personal visits, etc. to the residents of Ansan-si and counselling and services for health, welfare, care, labor, culture, etc. under paragraph (1).\n",
            "제1항에 따른 복합시설의 장은 효과적인 공동체 회복을 지원하기 위하여 필요한 경우 소속 직원에게 안산시 주민의 가정 등을 방문하여 제1항에 따른 심리상담과 건강ㆍ복지ㆍ돌봄ㆍ노동ㆍ문화 등의 서비스를 제공하게 하여야 한다.\n",
            "___________________________________________________\n",
            "\t 185136\n",
            "The chairperson of the support and commemorative committee shall by chaired by the Minister of the Office for Government Policy Coordination? and members of the support and commemorative committee shall be the following persons:\n",
            "지원ㆍ추모위원회의 위원장은 국무조정실장으로 하고, 지원ㆍ추모위원회의 위원은 다음 각 호의 사람이 된다.\n",
            "___________________________________________________\n",
            "\t 199352\n",
            "Where the State mobilizes transportation means?because an overseas Korean national faced with an overseas disaster has no transportation means to evacuate to a safe area.\n",
            "해외위난상황에 처한 재외국민이 안전한 지역으로 대피할 수 있는 이동수단이 없어 국가가 이동수단을 투입하는 경우\n",
            "___________________________________________________\n",
            "\n",
            "=================     KOREAN     =========================\n",
            "\n",
            "\t 935\n",
            "The national flag is composed of one taegeuk circle (or Yin and Yang) at the center and four trigrams (or gwae) called \"gun,\" \"gon,\" \"gam,\" and \"ri\" respectively, one at each corner.\n",
            "국기는 가운데의 태극(태극)과 네 모서리의 건곤감리(건:?, 곤:?, 감:?, 리:?) 4괘(괘)로 구성한다.\n",
            "___________________________________________________\n"
          ]
        }
      ],
      "source": [
        "for idx in df_pre3.loc[df_pre3.ENG.str.contains(\"\\?\")].index:\n",
        "    print(\"\\t\", idx)\n",
        "    print(df_pre3.loc[idx, \"ENG\"])\n",
        "    print(df_pre3.loc[idx, \"KOR\"])\n",
        "    print(\"___________________________________________________\")\n",
        "print(\"\\n=================     KOREAN     =========================\\n\")\n",
        "for idx in df_pre3.loc[df_pre3.KOR.str.contains(\"\\?\")].index:\n",
        "    print(\"\\t\", idx)\n",
        "    print(df_pre3.loc[idx, \"ENG\"])\n",
        "    print(df_pre3.loc[idx, \"KOR\"])\n",
        "    print(\"___________________________________________________\")"
      ]
    },
    {
      "cell_type": "code",
      "execution_count": 49,
      "metadata": {},
      "outputs": [
        {
          "data": {
            "text/plain": [
              "'A person who was within a 3.5kilometer radius of the hypocenter within two weeks after either of the atomic bombings;'"
            ]
          },
          "execution_count": 49,
          "metadata": {},
          "output_type": "execute_result"
        }
      ],
      "source": [
        "q1 = \"\\?\"\n",
        "re.sub(q1, \"\", \"A person who was within a 3.5?kilometer radius of the hypocenter within two weeks after either of the atomic bombings;\")"
      ]
    },
    {
      "cell_type": "code",
      "execution_count": 50,
      "metadata": {},
      "outputs": [
        {
          "data": {
            "text/html": [
              "<div>\n",
              "<style scoped>\n",
              "    .dataframe tbody tr th:only-of-type {\n",
              "        vertical-align: middle;\n",
              "    }\n",
              "\n",
              "    .dataframe tbody tr th {\n",
              "        vertical-align: top;\n",
              "    }\n",
              "\n",
              "    .dataframe thead th {\n",
              "        text-align: right;\n",
              "    }\n",
              "</style>\n",
              "<table border=\"1\" class=\"dataframe\">\n",
              "  <thead>\n",
              "    <tr style=\"text-align: right;\">\n",
              "      <th></th>\n",
              "      <th>category</th>\n",
              "      <th>lawName</th>\n",
              "      <th>ENG</th>\n",
              "      <th>KOR</th>\n",
              "    </tr>\n",
              "  </thead>\n",
              "  <tbody>\n",
              "    <tr>\n",
              "      <th>935</th>\n",
              "      <td>헌법</td>\n",
              "      <td>대한민국국기법</td>\n",
              "      <td>The national flag is composed of one taegeuk c...</td>\n",
              "      <td>국기는 가운데의 태극(태극)과 네 모서리의 건곤감리(건:?, 곤:?, 감:?, 리:...</td>\n",
              "    </tr>\n",
              "  </tbody>\n",
              "</table>\n",
              "</div>"
            ],
            "text/plain": [
              "    category  lawName                                                ENG  \\\n",
              "935       헌법  대한민국국기법  The national flag is composed of one taegeuk c...   \n",
              "\n",
              "                                                   KOR  \n",
              "935  국기는 가운데의 태극(태극)과 네 모서리의 건곤감리(건:?, 곤:?, 감:?, 리:...  "
            ]
          },
          "execution_count": 50,
          "metadata": {},
          "output_type": "execute_result"
        }
      ],
      "source": [
        "df_pre3.loc[df_pre3.KOR.str.contains(\"\\?\")]"
      ]
    },
    {
      "cell_type": "markdown",
      "metadata": {},
      "source": [
        "## 2.4.남은 괄호들"
      ]
    },
    {
      "cell_type": "code",
      "execution_count": 54,
      "metadata": {},
      "outputs": [
        {
          "data": {
            "text/html": [
              "<div>\n",
              "<style scoped>\n",
              "    .dataframe tbody tr th:only-of-type {\n",
              "        vertical-align: middle;\n",
              "    }\n",
              "\n",
              "    .dataframe tbody tr th {\n",
              "        vertical-align: top;\n",
              "    }\n",
              "\n",
              "    .dataframe thead th {\n",
              "        text-align: right;\n",
              "    }\n",
              "</style>\n",
              "<table border=\"1\" class=\"dataframe\">\n",
              "  <thead>\n",
              "    <tr style=\"text-align: right;\">\n",
              "      <th></th>\n",
              "      <th>category</th>\n",
              "      <th>lawName</th>\n",
              "      <th>ENG</th>\n",
              "      <th>KOR</th>\n",
              "    </tr>\n",
              "  </thead>\n",
              "  <tbody>\n",
              "    <tr>\n",
              "      <th>56118</th>\n",
              "      <td>과학ㆍ기술</td>\n",
              "      <td>과학기술기본법 시행령</td>\n",
              "      <td>Where the head of any relevant administrative ...</td>\n",
              "      <td>관계행정기관장은 확정된 시행계획의 주요 내용을 변경하려면 기획재정부장관 및 과학기술...</td>\n",
              "    </tr>\n",
              "    <tr>\n",
              "      <th>128497</th>\n",
              "      <td>수자원·토지·건설</td>\n",
              "      <td>수자원의 조사·계획 및 관리에 관한 법률</td>\n",
              "      <td>The Minister of Environment shall formulate an...</td>\n",
              "      <td>환경부장관은 수문조사의 체계화ㆍ효율화를 위하여 대통령령으로 정하는 바에 따라 10년...</td>\n",
              "    </tr>\n",
              "    <tr>\n",
              "      <th>147987</th>\n",
              "      <td>사회복지</td>\n",
              "      <td>사회보장기본법 시행령</td>\n",
              "      <td>\"Other specialized institutes or organizations...</td>\n",
              "      <td>법 제26조제3항제3호에서 \"대통령령으로 정하는 전문기관 또는 단체\"란 다음 각 호...</td>\n",
              "    </tr>\n",
              "    <tr>\n",
              "      <th>164062</th>\n",
              "      <td>환경</td>\n",
              "      <td>해양생태계의 보전 및 관리에 관한 법률</td>\n",
              "      <td>The State or local governments may conduct coo...</td>\n",
              "      <td>국가 또는 지방자치단체는 해양생물의 보호, 해양생물 서식지의 보전 및 해양오염으로 ...</td>\n",
              "    </tr>\n",
              "  </tbody>\n",
              "</table>\n",
              "</div>"
            ],
            "text/plain": [
              "         category                 lawName  \\\n",
              "56118       과학ㆍ기술             과학기술기본법 시행령   \n",
              "128497  수자원·토지·건설  수자원의 조사·계획 및 관리에 관한 법률   \n",
              "147987       사회복지             사회보장기본법 시행령   \n",
              "164062         환경   해양생태계의 보전 및 관리에 관한 법률   \n",
              "\n",
              "                                                      ENG  \\\n",
              "56118   Where the head of any relevant administrative ...   \n",
              "128497  The Minister of Environment shall formulate an...   \n",
              "147987  \"Other specialized institutes or organizations...   \n",
              "164062  The State or local governments may conduct coo...   \n",
              "\n",
              "                                                      KOR  \n",
              "56118   관계행정기관장은 확정된 시행계획의 주요 내용을 변경하려면 기획재정부장관 및 과학기술...  \n",
              "128497  환경부장관은 수문조사의 체계화ㆍ효율화를 위하여 대통령령으로 정하는 바에 따라 10년...  \n",
              "147987  법 제26조제3항제3호에서 \"대통령령으로 정하는 전문기관 또는 단체\"란 다음 각 호...  \n",
              "164062  국가 또는 지방자치단체는 해양생물의 보호, 해양생물 서식지의 보전 및 해양오염으로 ...  "
            ]
          },
          "execution_count": 54,
          "metadata": {},
          "output_type": "execute_result"
        }
      ],
      "source": [
        "df_pre3.loc[df_pre3.ENG.str.contains(\"\\<\")]"
      ]
    },
    {
      "cell_type": "code",
      "execution_count": 55,
      "metadata": {},
      "outputs": [
        {
          "data": {
            "text/html": [
              "<div>\n",
              "<style scoped>\n",
              "    .dataframe tbody tr th:only-of-type {\n",
              "        vertical-align: middle;\n",
              "    }\n",
              "\n",
              "    .dataframe tbody tr th {\n",
              "        vertical-align: top;\n",
              "    }\n",
              "\n",
              "    .dataframe thead th {\n",
              "        text-align: right;\n",
              "    }\n",
              "</style>\n",
              "<table border=\"1\" class=\"dataframe\">\n",
              "  <thead>\n",
              "    <tr style=\"text-align: right;\">\n",
              "      <th></th>\n",
              "      <th>category</th>\n",
              "      <th>lawName</th>\n",
              "      <th>ENG</th>\n",
              "      <th>KOR</th>\n",
              "    </tr>\n",
              "  </thead>\n",
              "  <tbody>\n",
              "    <tr>\n",
              "      <th>15242</th>\n",
              "      <td>민사법</td>\n",
              "      <td>가족관계의 등록 등에 관한 법률</td>\n",
              "      <td>&gt; Among the amended provisions of the former p...</td>\n",
              "      <td>제14조제5항 전단 개정규정 중 특정증명서에 관한 부분은 이 법 공포 후 5년의 범...</td>\n",
              "    </tr>\n",
              "    <tr>\n",
              "      <th>15264</th>\n",
              "      <td>민사법</td>\n",
              "      <td>가족관계의 등록 등에 관한 법률</td>\n",
              "      <td>&gt; Among the amended provisions of Article 14 ,...</td>\n",
              "      <td>제15조의 개정규정 중 특정증명서에 관한 부분은 이 법 공포 후 5년의 범위에서 대...</td>\n",
              "    </tr>\n",
              "    <tr>\n",
              "      <th>17091</th>\n",
              "      <td>민사법</td>\n",
              "      <td>입양특례법</td>\n",
              "      <td>&gt; Article 6</td>\n",
              "      <td>삭제 [시행일 : 2022. 7. 1.] 제6조</td>\n",
              "    </tr>\n",
              "    <tr>\n",
              "      <th>83638</th>\n",
              "      <td>축산</td>\n",
              "      <td>가축 및 축산물 이력관리에 관한 법률</td>\n",
              "      <td>No person who has obtained a license to engage...</td>\n",
              "      <td>축산물 위생관리법 제22조에 따른 도축업의 영업허가를 받은 자(이하 “도축업자”라 ...</td>\n",
              "    </tr>\n",
              "    <tr>\n",
              "      <th>86018</th>\n",
              "      <td>축산</td>\n",
              "      <td>축산물 위생관리법</td>\n",
              "      <td>Where a person running his or her livestock b...</td>\n",
              "      <td>축산법 제2조제8호에 따른 가축사육업을 경영하는 자가 식용란을 출하하는 때에는 총리...</td>\n",
              "    </tr>\n",
              "    <tr>\n",
              "      <th>183114</th>\n",
              "      <td>육운·항공·관광</td>\n",
              "      <td>항공보안법</td>\n",
              "      <td>Detailed matters necessary to designate, manag...</td>\n",
              "      <td>제1항에 따른 항공보안 감독관의 지정ㆍ운영 및 점검업무 등에 대한 세부 사항은 국토...</td>\n",
              "    </tr>\n",
              "  </tbody>\n",
              "</table>\n",
              "</div>"
            ],
            "text/plain": [
              "        category               lawName  \\\n",
              "15242        민사법     가족관계의 등록 등에 관한 법률   \n",
              "15264        민사법     가족관계의 등록 등에 관한 법률   \n",
              "17091        민사법                 입양특례법   \n",
              "83638         축산  가축 및 축산물 이력관리에 관한 법률   \n",
              "86018         축산             축산물 위생관리법   \n",
              "183114  육운·항공·관광                 항공보안법   \n",
              "\n",
              "                                                      ENG  \\\n",
              "15242   > Among the amended provisions of the former p...   \n",
              "15264   > Among the amended provisions of Article 14 ,...   \n",
              "17091                                         > Article 6   \n",
              "83638   No person who has obtained a license to engage...   \n",
              "86018   　Where a person running his or her livestock b...   \n",
              "183114  Detailed matters necessary to designate, manag...   \n",
              "\n",
              "                                                      KOR  \n",
              "15242   제14조제5항 전단 개정규정 중 특정증명서에 관한 부분은 이 법 공포 후 5년의 범...  \n",
              "15264   제15조의 개정규정 중 특정증명서에 관한 부분은 이 법 공포 후 5년의 범위에서 대...  \n",
              "17091                          삭제 [시행일 : 2022. 7. 1.] 제6조  \n",
              "83638   축산물 위생관리법 제22조에 따른 도축업의 영업허가를 받은 자(이하 “도축업자”라 ...  \n",
              "86018   축산법 제2조제8호에 따른 가축사육업을 경영하는 자가 식용란을 출하하는 때에는 총리...  \n",
              "183114  제1항에 따른 항공보안 감독관의 지정ㆍ운영 및 점검업무 등에 대한 세부 사항은 국토...  "
            ]
          },
          "execution_count": 55,
          "metadata": {},
          "output_type": "execute_result"
        }
      ],
      "source": [
        "df_pre3.loc[df_pre3.ENG.str.contains(\"\\>\")]"
      ]
    },
    {
      "cell_type": "code",
      "execution_count": 58,
      "metadata": {},
      "outputs": [
        {
          "name": "stdout",
          "output_type": "stream",
          "text": [
            "The State and local governments shall perform the following business affairs to establish a sound culture of adoption, to encourage domestic adoptions of children in need of protection, and to promote the rights, interests and welfare of adopted children, such as helping them smoothly adapt to the lifestyle of the adoptive family:\n",
            "국가와 지방자치단체는 건전한 입양문화를 조성하고 요보호아동의 국내입양을 활성화하며, 아동이 입양 후의 가정생활에 원만하게 적응할 수 있도록 하는 등 입양아동의 권익과 복지 증진을 위하여 다음 각 호의 사항을 실시하여야 한다.\n",
            "____________________________________________________________\n",
            "Adoptions under this Act shall be conducted in such a way that the interests of children are a matter of the highest priority.\n",
            "이 법에 따른 입양은 아동의 이익이 최우선이 되도록 하여야 한다.\n",
            "____________________________________________________________\n",
            "May 11 shall be designated as Adoption Day, and one week thereafter as Adoption Week, respectively, in order to settle a sound culture of adoption and to encourage domestic adoptions.\n",
            "건전한 입양문화의 정착과 국내입양의 활성화를 위하여 5월 11일을 입양의 날로 하고, 입양의 날부터 1주일을 입양주간으로 한다.\n",
            "____________________________________________________________\n",
            "The State and local governments shall endeavor to hold events and implement projects compatible with the objectives of Adoption Day under paragraph (1).\n",
            "국가와 지방자치단체는 제1항에 따른 입양의 날 취지에 적합한 행사 등 사업을 실시하도록 노력하여야 한다.\n",
            "____________________________________________________________\n",
            "For the purposes of providing adopted children, etc. with post adoption services and adoption agencies with information necessary to encourage domestic adoptions, the State shall establish and operate an information system.\n",
            "국가는 입양아동 등에 대한 사후서비스 제공과 국내입양 활성화에 필요한 정보를 입양기관 등에 제공하기 위하여 정보시스템을 구축ㆍ운영하여야 한다.\n",
            "____________________________________________________________\n",
            "Operation of the information system referred to in paragraph (1) may be fully or partially entrusted to a corporation or organization.\n",
            "제1항에 따른 정보시스템은 법인이나 단체에 그 업무의 전부 또는 일부를 위탁하여 운영할 수 있다.\n",
            "____________________________________________________________\n",
            "> Article 6\n",
            "삭제 [시행일 : 2022. 7. 1.] 제6조\n",
            "____________________________________________________________\n",
            "The State and local governments shall implement the policies, with the highest priority, in finding domestic adoptive parents for children whose adoption is sought.\n",
            "국가 및 지방자치단체는 입양의뢰 된 아동의 양친될 사람을 국내에서 찾기 위한 시책을 최우선적으로 시행하여야 한다.\n",
            "____________________________________________________________\n",
            "The head of an adoption agency shall take measures to find domestic adoptive parents for a child whose adoption is sought, as prescribed by Ordinance of the Ministry of Health and Welfare, and report the results thereof to the Minister of Health and Welfare.\n",
            "입양기관의 장은 보건복지부령으로 정하는 바에 따라 입양의뢰된 아동의 양친을 국내에서 찾기 위한 조치를 취하고, 그 결과를 보건복지부장관에게 보고하여야 한다.\n",
            "____________________________________________________________\n",
            "Where the head of an adoption agency fails to find any adoptive parent despite taking the measures for domestic adoption under paragraph (2), he/she shall provide domestic adoption services through the sharing of information with the relevant agencies by utilizing the information system provided for in Article 6.\n",
            "입양기관의 장은 제2항에 따른 국내입양을 위한 조치에도 불구하고 양친을 찾지 못한 경우 제6조에 따른 정보시스템을 활용한 관련 기관과의 정보공유를 통하여 국내입양을 추진하여야 한다.\n",
            "____________________________________________________________\n",
            "The head of an adoption agency may provide overseas adoption services, only if he/she fails to find a person to be the adoptive parent despite taking measures under paragraphs (2) and (3).\n",
            "입양기관의 장은 제2항 및 제3항에도 불구하고 국내에서 양친이 되려는 사람을 찾지 못하였을 경우에 한하여 국외입양을 추진할 수 있다.\n",
            "____________________________________________________________\n"
          ]
        }
      ],
      "source": [
        "for idx in df_pre3.loc[17085:17095, [\"ENG\", \"KOR\"]].index:\n",
        "    print(df_pre3.loc[idx, \"ENG\"])\n",
        "    print(df_pre3.loc[idx, \"KOR\"])\n",
        "    print(\"____________________________________________________________\")"
      ]
    }
  ],
  "metadata": {
    "colab": {
      "include_colab_link": true,
      "provenance": []
    },
    "kernelspec": {
      "display_name": "Python 3",
      "name": "python3"
    },
    "language_info": {
      "codemirror_mode": {
        "name": "ipython",
        "version": 3
      },
      "file_extension": ".py",
      "mimetype": "text/x-python",
      "name": "python",
      "nbconvert_exporter": "python",
      "pygments_lexer": "ipython3",
      "version": "3.8.8"
    }
  },
  "nbformat": 4,
  "nbformat_minor": 0
}
